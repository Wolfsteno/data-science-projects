{
 "cells": [
  {
   "cell_type": "markdown",
   "metadata": {},
   "source": [
    "#### ESTE ES EL ARCHIVO DEFINITIVO `(0924_SupML_GrupoX.ipynb)`. COPIARLO PARA HACED VUESTRA PROPIA VERSION"
   ]
  },
  {
   "cell_type": "code",
   "execution_count": null,
   "metadata": {},
   "outputs": [],
   "source": [
    "# Primero descarga el DF del siguiente link y ponlo en la misma carpeta en la que se encuentra este archivo.\n",
    "# https://drive.google.com/file/d/1ztyRBeO7b_E0E9G9-bSCfm786WVKON0c/view?usp=sharing"
   ]
  },
  {
   "cell_type": "code",
   "execution_count": 5,
   "metadata": {},
   "outputs": [
    {
     "name": "stdout",
     "output_type": "stream",
     "text": [
      "pandas ya está instalado.\n",
      "numpy ya está instalado.\n",
      "matplotlib ya está instalado.\n",
      "seaborn ya está instalado.\n",
      "Instalando scikit-learn...\n",
      "Instalación de paquetes completada.\n"
     ]
    }
   ],
   "source": [
    "import importlib.util\n",
    "import subprocess\n",
    "\n",
    "def install_if_missing(package):\n",
    "    if importlib.util.find_spec(package) is None:\n",
    "        print(f\"Instalando {package}...\")\n",
    "        subprocess.check_call([\"pip\", \"install\", package])\n",
    "    else:\n",
    "        print(f\"{package} ya está instalado.\")\n",
    "\n",
    "# Lista de paquetes necesarios\n",
    "required_packages = [\n",
    "    \"pandas\",\n",
    "    \"numpy\",\n",
    "    \"matplotlib\",\n",
    "    \"seaborn\",\n",
    "    \"scikit-learn\"\n",
    "]\n",
    "\n",
    "# Verificar e instalar los paquetes necesarios\n",
    "for package in required_packages:\n",
    "    install_if_missing(package)\n",
    "\n",
    "print(\"Instalación de paquetes completada.\")\n",
    "\n",
    "\n",
    "import pandas as pd\n",
    "import numpy as np\n",
    "import matplotlib.pyplot as plt\n",
    "import seaborn as sns\n",
    "from sklearn.preprocessing import MinMaxScaler"
   ]
  },
  {
   "cell_type": "code",
   "execution_count": 6,
   "metadata": {},
   "outputs": [
    {
     "name": "stderr",
     "output_type": "stream",
     "text": [
      "C:\\Users\\PC\\AppData\\Local\\Temp\\ipykernel_33844\\538211103.py:1: DtypeWarning: Columns (29,42) have mixed types. Specify dtype option on import or set low_memory=False.\n",
      "  df = pd.read_csv(\"sample_mmp.csv\")\n"
     ]
    }
   ],
   "source": [
    "df = pd.read_csv(\"sample_mmp.csv\")"
   ]
  },
  {
   "cell_type": "code",
   "execution_count": 7,
   "metadata": {},
   "outputs": [
    {
     "name": "stdout",
     "output_type": "stream",
     "text": [
      "<class 'pandas.core.frame.DataFrame'>\n",
      "RangeIndex: 500000 entries, 0 to 499999\n",
      "Data columns (total 84 columns):\n",
      " #   Column                                             Non-Null Count   Dtype  \n",
      "---  ------                                             --------------   -----  \n",
      " 0   Unnamed: 0                                         500000 non-null  int64  \n",
      " 1   MachineIdentifier                                  500000 non-null  object \n",
      " 2   ProductName                                        500000 non-null  object \n",
      " 3   EngineVersion                                      500000 non-null  object \n",
      " 4   AppVersion                                         500000 non-null  object \n",
      " 5   AvSigVersion                                       500000 non-null  object \n",
      " 6   IsBeta                                             500000 non-null  int64  \n",
      " 7   RtpStateBitfield                                   498168 non-null  float64\n",
      " 8   IsSxsPassiveMode                                   500000 non-null  int64  \n",
      " 9   DefaultBrowsersIdentifier                          24061 non-null   float64\n",
      " 10  AVProductStatesIdentifier                          498062 non-null  float64\n",
      " 11  AVProductsInstalled                                498062 non-null  float64\n",
      " 12  AVProductsEnabled                                  498062 non-null  float64\n",
      " 13  HasTpm                                             500000 non-null  int64  \n",
      " 14  CountryIdentifier                                  500000 non-null  int64  \n",
      " 15  CityIdentifier                                     481760 non-null  float64\n",
      " 16  OrganizationIdentifier                             345437 non-null  float64\n",
      " 17  GeoNameIdentifier                                  499984 non-null  float64\n",
      " 18  LocaleEnglishNameIdentifier                        500000 non-null  int64  \n",
      " 19  Platform                                           500000 non-null  object \n",
      " 20  Processor                                          500000 non-null  object \n",
      " 21  OsVer                                              500000 non-null  object \n",
      " 22  OsBuild                                            500000 non-null  int64  \n",
      " 23  OsSuite                                            500000 non-null  int64  \n",
      " 24  OsPlatformSubRelease                               500000 non-null  object \n",
      " 25  OsBuildLab                                         499999 non-null  object \n",
      " 26  SkuEdition                                         500000 non-null  object \n",
      " 27  IsProtected                                        498074 non-null  float64\n",
      " 28  AutoSampleOptIn                                    500000 non-null  int64  \n",
      " 29  PuaMode                                            126 non-null     object \n",
      " 30  SMode                                              470152 non-null  float64\n",
      " 31  IeVerIdentifier                                    496791 non-null  float64\n",
      " 32  SmartScreen                                        321404 non-null  object \n",
      " 33  Firewall                                           494838 non-null  float64\n",
      " 34  UacLuaenable                                       499377 non-null  float64\n",
      " 35  Census_MDC2FormFactor                              500000 non-null  object \n",
      " 36  Census_DeviceFamily                                500000 non-null  object \n",
      " 37  Census_OEMNameIdentifier                           494619 non-null  float64\n",
      " 38  Census_OEMModelIdentifier                          494236 non-null  float64\n",
      " 39  Census_ProcessorCoreCount                          497653 non-null  float64\n",
      " 40  Census_ProcessorManufacturerIdentifier             497653 non-null  float64\n",
      " 41  Census_ProcessorModelIdentifier                    497651 non-null  float64\n",
      " 42  Census_ProcessorClass                              2082 non-null    object \n",
      " 43  Census_PrimaryDiskTotalCapacity                    497024 non-null  float64\n",
      " 44  Census_PrimaryDiskTypeName                         499291 non-null  object \n",
      " 45  Census_SystemVolumeTotalCapacity                   497024 non-null  float64\n",
      " 46  Census_HasOpticalDiskDrive                         500000 non-null  int64  \n",
      " 47  Census_TotalPhysicalRAM                            495444 non-null  float64\n",
      " 48  Census_ChassisTypeName                             499963 non-null  object \n",
      " 49  Census_InternalPrimaryDiagonalDisplaySizeInInches  497346 non-null  float64\n",
      " 50  Census_InternalPrimaryDisplayResolutionHorizontal  497350 non-null  float64\n",
      " 51  Census_InternalPrimaryDisplayResolutionVertical    497350 non-null  float64\n",
      " 52  Census_PowerPlatformRoleName                       499998 non-null  object \n",
      " 53  Census_InternalBatteryType                         144397 non-null  object \n",
      " 54  Census_InternalBatteryNumberOfCharges              484962 non-null  float64\n",
      " 55  Census_OSVersion                                   500000 non-null  object \n",
      " 56  Census_OSArchitecture                              500000 non-null  object \n",
      " 57  Census_OSBranch                                    500000 non-null  object \n",
      " 58  Census_OSBuildNumber                               500000 non-null  int64  \n",
      " 59  Census_OSBuildRevision                             500000 non-null  int64  \n",
      " 60  Census_OSEdition                                   500000 non-null  object \n",
      " 61  Census_OSSkuName                                   500000 non-null  object \n",
      " 62  Census_OSInstallTypeName                           500000 non-null  object \n",
      " 63  Census_OSInstallLanguageIdentifier                 496668 non-null  float64\n",
      " 64  Census_OSUILocaleIdentifier                        500000 non-null  int64  \n",
      " 65  Census_OSWUAutoUpdateOptionsName                   500000 non-null  object \n",
      " 66  Census_IsPortableOperatingSystem                   500000 non-null  int64  \n",
      " 67  Census_GenuineStateName                            500000 non-null  object \n",
      " 68  Census_ActivationChannel                           500000 non-null  object \n",
      " 69  Census_IsFlightingInternal                         84775 non-null   float64\n",
      " 70  Census_IsFlightsDisabled                           491067 non-null  float64\n",
      " 71  Census_FlightRing                                  500000 non-null  object \n",
      " 72  Census_ThresholdOptIn                              181896 non-null  float64\n",
      " 73  Census_FirmwareManufacturerIdentifier              489651 non-null  float64\n",
      " 74  Census_FirmwareVersionIdentifier                   490939 non-null  float64\n",
      " 75  Census_IsSecureBootEnabled                         500000 non-null  int64  \n",
      " 76  Census_IsWIMBootEnabled                            182334 non-null  float64\n",
      " 77  Census_IsVirtualDevice                             499099 non-null  float64\n",
      " 78  Census_IsTouchEnabled                              500000 non-null  int64  \n",
      " 79  Census_IsPenCapable                                500000 non-null  int64  \n",
      " 80  Census_IsAlwaysOnAlwaysConnectedCapable            495960 non-null  float64\n",
      " 81  Wdft_IsGamer                                       483050 non-null  float64\n",
      " 82  Wdft_RegionIdentifier                              483050 non-null  float64\n",
      " 83  HasDetections                                      500000 non-null  int64  \n",
      "dtypes: float64(36), int64(18), object(30)\n",
      "memory usage: 320.4+ MB\n"
     ]
    }
   ],
   "source": [
    "df.info()"
   ]
  },
  {
   "cell_type": "code",
   "execution_count": 14,
   "metadata": {},
   "outputs": [
    {
     "data": {
      "text/plain": [
       "RtpStateBitfield                                       1832\n",
       "DefaultBrowsersIdentifier                            475939\n",
       "AVProductStatesIdentifier                              1938\n",
       "AVProductsInstalled                                    1938\n",
       "AVProductsEnabled                                      1938\n",
       "CityIdentifier                                        18240\n",
       "OrganizationIdentifier                               154563\n",
       "GeoNameIdentifier                                        16\n",
       "OsBuildLab                                                1\n",
       "IsProtected                                            1926\n",
       "PuaMode                                              499874\n",
       "SMode                                                 29848\n",
       "IeVerIdentifier                                        3209\n",
       "SmartScreen                                          178596\n",
       "Firewall                                               5162\n",
       "UacLuaenable                                            623\n",
       "Census_OEMNameIdentifier                               5381\n",
       "Census_OEMModelIdentifier                              5764\n",
       "Census_ProcessorCoreCount                              2347\n",
       "Census_ProcessorManufacturerIdentifier                 2347\n",
       "Census_ProcessorModelIdentifier                        2349\n",
       "Census_ProcessorClass                                497918\n",
       "Census_PrimaryDiskTotalCapacity                        2976\n",
       "Census_PrimaryDiskTypeName                              709\n",
       "Census_SystemVolumeTotalCapacity                       2976\n",
       "Census_TotalPhysicalRAM                                4556\n",
       "Census_ChassisTypeName                                   37\n",
       "Census_InternalPrimaryDiagonalDisplaySizeInInches      2654\n",
       "Census_InternalPrimaryDisplayResolutionHorizontal      2650\n",
       "Census_InternalPrimaryDisplayResolutionVertical        2650\n",
       "Census_PowerPlatformRoleName                              2\n",
       "Census_InternalBatteryType                           355603\n",
       "Census_InternalBatteryNumberOfCharges                 15038\n",
       "Census_OSInstallLanguageIdentifier                     3332\n",
       "Census_IsFlightingInternal                           415225\n",
       "Census_IsFlightsDisabled                               8933\n",
       "Census_ThresholdOptIn                                318104\n",
       "Census_FirmwareManufacturerIdentifier                 10349\n",
       "Census_FirmwareVersionIdentifier                       9061\n",
       "Census_IsWIMBootEnabled                              317666\n",
       "Census_IsVirtualDevice                                  901\n",
       "Census_IsAlwaysOnAlwaysConnectedCapable                4040\n",
       "Wdft_IsGamer                                          16950\n",
       "Wdft_RegionIdentifier                                 16950\n",
       "dtype: int64"
      ]
     },
     "execution_count": 14,
     "metadata": {},
     "output_type": "execute_result"
    }
   ],
   "source": [
    "df.isna().sum()[df.isna().sum() > 0]"
   ]
  }
 ],
 "metadata": {
  "kernelspec": {
   "display_name": "Python 3",
   "language": "python",
   "name": "python3"
  },
  "language_info": {
   "codemirror_mode": {
    "name": "ipython",
    "version": 3
   },
   "file_extension": ".py",
   "mimetype": "text/x-python",
   "name": "python",
   "nbconvert_exporter": "python",
   "pygments_lexer": "ipython3",
   "version": "3.12.2"
  }
 },
 "nbformat": 4,
 "nbformat_minor": 2
}
