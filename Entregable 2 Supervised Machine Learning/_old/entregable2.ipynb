{
 "cells": [
  {
   "cell_type": "code",
   "execution_count": 1,
   "metadata": {},
   "outputs": [],
   "source": [
    "import pandas as pd"
   ]
  },
  {
   "cell_type": "code",
   "execution_count": 2,
   "metadata": {},
   "outputs": [
    {
     "name": "stderr",
     "output_type": "stream",
     "text": [
      "/var/folders/gh/fgx2sy391b39mq0zmg0q_byr0000gn/T/ipykernel_3536/3101032795.py:5: DtypeWarning: Columns (29,42) have mixed types. Specify dtype option on import or set low_memory=False.\n",
      "  df = pd.read_csv(url)\n"
     ]
    },
    {
     "data": {
      "text/html": [
       "<div>\n",
       "<style scoped>\n",
       "    .dataframe tbody tr th:only-of-type {\n",
       "        vertical-align: middle;\n",
       "    }\n",
       "\n",
       "    .dataframe tbody tr th {\n",
       "        vertical-align: top;\n",
       "    }\n",
       "\n",
       "    .dataframe thead th {\n",
       "        text-align: right;\n",
       "    }\n",
       "</style>\n",
       "<table border=\"1\" class=\"dataframe\">\n",
       "  <thead>\n",
       "    <tr style=\"text-align: right;\">\n",
       "      <th></th>\n",
       "      <th>Unnamed: 0</th>\n",
       "      <th>MachineIdentifier</th>\n",
       "      <th>ProductName</th>\n",
       "      <th>EngineVersion</th>\n",
       "      <th>AppVersion</th>\n",
       "      <th>AvSigVersion</th>\n",
       "      <th>IsBeta</th>\n",
       "      <th>RtpStateBitfield</th>\n",
       "      <th>IsSxsPassiveMode</th>\n",
       "      <th>DefaultBrowsersIdentifier</th>\n",
       "      <th>...</th>\n",
       "      <th>Census_FirmwareVersionIdentifier</th>\n",
       "      <th>Census_IsSecureBootEnabled</th>\n",
       "      <th>Census_IsWIMBootEnabled</th>\n",
       "      <th>Census_IsVirtualDevice</th>\n",
       "      <th>Census_IsTouchEnabled</th>\n",
       "      <th>Census_IsPenCapable</th>\n",
       "      <th>Census_IsAlwaysOnAlwaysConnectedCapable</th>\n",
       "      <th>Wdft_IsGamer</th>\n",
       "      <th>Wdft_RegionIdentifier</th>\n",
       "      <th>HasDetections</th>\n",
       "    </tr>\n",
       "  </thead>\n",
       "  <tbody>\n",
       "    <tr>\n",
       "      <th>0</th>\n",
       "      <td>8427007</td>\n",
       "      <td>f1cd864e97bae82bdf96523e1a539121</td>\n",
       "      <td>win8defender</td>\n",
       "      <td>1.1.15100.1</td>\n",
       "      <td>4.18.1807.18075</td>\n",
       "      <td>1.273.1234.0</td>\n",
       "      <td>0</td>\n",
       "      <td>7.0000</td>\n",
       "      <td>0</td>\n",
       "      <td>NaN</td>\n",
       "      <td>...</td>\n",
       "      <td>19951.0000</td>\n",
       "      <td>0</td>\n",
       "      <td>NaN</td>\n",
       "      <td>0.0000</td>\n",
       "      <td>0</td>\n",
       "      <td>0</td>\n",
       "      <td>0.0000</td>\n",
       "      <td>0.0000</td>\n",
       "      <td>11.0000</td>\n",
       "      <td>1</td>\n",
       "    </tr>\n",
       "    <tr>\n",
       "      <th>1</th>\n",
       "      <td>8829090</td>\n",
       "      <td>fd5ba6f5b75325ec0423a6c67cc75942</td>\n",
       "      <td>win8defender</td>\n",
       "      <td>1.1.15100.1</td>\n",
       "      <td>4.18.1807.18075</td>\n",
       "      <td>1.273.1282.0</td>\n",
       "      <td>0</td>\n",
       "      <td>7.0000</td>\n",
       "      <td>0</td>\n",
       "      <td>NaN</td>\n",
       "      <td>...</td>\n",
       "      <td>48753.0000</td>\n",
       "      <td>0</td>\n",
       "      <td>0.0000</td>\n",
       "      <td>0.0000</td>\n",
       "      <td>0</td>\n",
       "      <td>0</td>\n",
       "      <td>0.0000</td>\n",
       "      <td>1.0000</td>\n",
       "      <td>3.0000</td>\n",
       "      <td>0</td>\n",
       "    </tr>\n",
       "    <tr>\n",
       "      <th>2</th>\n",
       "      <td>2731904</td>\n",
       "      <td>4e628391e7cc7c482fb3286f486dbd25</td>\n",
       "      <td>win8defender</td>\n",
       "      <td>1.1.15100.1</td>\n",
       "      <td>4.9.10586.1106</td>\n",
       "      <td>1.273.781.0</td>\n",
       "      <td>0</td>\n",
       "      <td>7.0000</td>\n",
       "      <td>0</td>\n",
       "      <td>NaN</td>\n",
       "      <td>...</td>\n",
       "      <td>33111.0000</td>\n",
       "      <td>1</td>\n",
       "      <td>0.0000</td>\n",
       "      <td>0.0000</td>\n",
       "      <td>1</td>\n",
       "      <td>1</td>\n",
       "      <td>0.0000</td>\n",
       "      <td>0.0000</td>\n",
       "      <td>15.0000</td>\n",
       "      <td>0</td>\n",
       "    </tr>\n",
       "    <tr>\n",
       "      <th>3</th>\n",
       "      <td>1359513</td>\n",
       "      <td>270a2e9d028144a4df12a9e3da79fba5</td>\n",
       "      <td>win8defender</td>\n",
       "      <td>1.1.15200.1</td>\n",
       "      <td>4.18.1807.18075</td>\n",
       "      <td>1.275.1639.0</td>\n",
       "      <td>0</td>\n",
       "      <td>7.0000</td>\n",
       "      <td>0</td>\n",
       "      <td>NaN</td>\n",
       "      <td>...</td>\n",
       "      <td>48473.0000</td>\n",
       "      <td>1</td>\n",
       "      <td>NaN</td>\n",
       "      <td>0.0000</td>\n",
       "      <td>0</td>\n",
       "      <td>0</td>\n",
       "      <td>0.0000</td>\n",
       "      <td>0.0000</td>\n",
       "      <td>15.0000</td>\n",
       "      <td>1</td>\n",
       "    </tr>\n",
       "    <tr>\n",
       "      <th>4</th>\n",
       "      <td>236059</td>\n",
       "      <td>06ca8fa8d32c2abdc5b3577d676b3269</td>\n",
       "      <td>win8defender</td>\n",
       "      <td>1.1.15200.1</td>\n",
       "      <td>4.18.1807.18075</td>\n",
       "      <td>1.275.511.0</td>\n",
       "      <td>0</td>\n",
       "      <td>7.0000</td>\n",
       "      <td>0</td>\n",
       "      <td>NaN</td>\n",
       "      <td>...</td>\n",
       "      <td>4343.0000</td>\n",
       "      <td>1</td>\n",
       "      <td>NaN</td>\n",
       "      <td>0.0000</td>\n",
       "      <td>1</td>\n",
       "      <td>0</td>\n",
       "      <td>0.0000</td>\n",
       "      <td>1.0000</td>\n",
       "      <td>13.0000</td>\n",
       "      <td>1</td>\n",
       "    </tr>\n",
       "    <tr>\n",
       "      <th>...</th>\n",
       "      <td>...</td>\n",
       "      <td>...</td>\n",
       "      <td>...</td>\n",
       "      <td>...</td>\n",
       "      <td>...</td>\n",
       "      <td>...</td>\n",
       "      <td>...</td>\n",
       "      <td>...</td>\n",
       "      <td>...</td>\n",
       "      <td>...</td>\n",
       "      <td>...</td>\n",
       "      <td>...</td>\n",
       "      <td>...</td>\n",
       "      <td>...</td>\n",
       "      <td>...</td>\n",
       "      <td>...</td>\n",
       "      <td>...</td>\n",
       "      <td>...</td>\n",
       "      <td>...</td>\n",
       "      <td>...</td>\n",
       "      <td>...</td>\n",
       "    </tr>\n",
       "    <tr>\n",
       "      <th>499995</th>\n",
       "      <td>5826339</td>\n",
       "      <td>a739cacc292f3f1e745827c1ca6c6ada</td>\n",
       "      <td>win8defender</td>\n",
       "      <td>1.1.15200.1</td>\n",
       "      <td>4.18.1807.18075</td>\n",
       "      <td>1.275.1090.0</td>\n",
       "      <td>0</td>\n",
       "      <td>7.0000</td>\n",
       "      <td>0</td>\n",
       "      <td>NaN</td>\n",
       "      <td>...</td>\n",
       "      <td>33088.0000</td>\n",
       "      <td>1</td>\n",
       "      <td>0.0000</td>\n",
       "      <td>0.0000</td>\n",
       "      <td>1</td>\n",
       "      <td>0</td>\n",
       "      <td>0.0000</td>\n",
       "      <td>1.0000</td>\n",
       "      <td>10.0000</td>\n",
       "      <td>0</td>\n",
       "    </tr>\n",
       "    <tr>\n",
       "      <th>499996</th>\n",
       "      <td>5740034</td>\n",
       "      <td>a4c232d528d98343e8f1b73650da7b82</td>\n",
       "      <td>win8defender</td>\n",
       "      <td>1.1.15100.1</td>\n",
       "      <td>4.18.1807.18075</td>\n",
       "      <td>1.273.1620.0</td>\n",
       "      <td>0</td>\n",
       "      <td>7.0000</td>\n",
       "      <td>0</td>\n",
       "      <td>NaN</td>\n",
       "      <td>...</td>\n",
       "      <td>NaN</td>\n",
       "      <td>0</td>\n",
       "      <td>NaN</td>\n",
       "      <td>0.0000</td>\n",
       "      <td>0</td>\n",
       "      <td>0</td>\n",
       "      <td>0.0000</td>\n",
       "      <td>0.0000</td>\n",
       "      <td>15.0000</td>\n",
       "      <td>0</td>\n",
       "    </tr>\n",
       "    <tr>\n",
       "      <th>499997</th>\n",
       "      <td>8819786</td>\n",
       "      <td>fd16cd542d660848d272e4552bcccb1e</td>\n",
       "      <td>win8defender</td>\n",
       "      <td>1.1.15300.5</td>\n",
       "      <td>4.13.17134.112</td>\n",
       "      <td>1.275.1343.0</td>\n",
       "      <td>0</td>\n",
       "      <td>7.0000</td>\n",
       "      <td>0</td>\n",
       "      <td>NaN</td>\n",
       "      <td>...</td>\n",
       "      <td>41727.0000</td>\n",
       "      <td>0</td>\n",
       "      <td>NaN</td>\n",
       "      <td>0.0000</td>\n",
       "      <td>0</td>\n",
       "      <td>0</td>\n",
       "      <td>0.0000</td>\n",
       "      <td>0.0000</td>\n",
       "      <td>8.0000</td>\n",
       "      <td>0</td>\n",
       "    </tr>\n",
       "    <tr>\n",
       "      <th>499998</th>\n",
       "      <td>8713685</td>\n",
       "      <td>fa0841f8f6147de7c3d287e05270ed42</td>\n",
       "      <td>win8defender</td>\n",
       "      <td>1.1.15100.1</td>\n",
       "      <td>4.14.17639.18041</td>\n",
       "      <td>1.273.483.0</td>\n",
       "      <td>0</td>\n",
       "      <td>7.0000</td>\n",
       "      <td>0</td>\n",
       "      <td>NaN</td>\n",
       "      <td>...</td>\n",
       "      <td>11947.0000</td>\n",
       "      <td>0</td>\n",
       "      <td>NaN</td>\n",
       "      <td>0.0000</td>\n",
       "      <td>0</td>\n",
       "      <td>0</td>\n",
       "      <td>0.0000</td>\n",
       "      <td>0.0000</td>\n",
       "      <td>1.0000</td>\n",
       "      <td>0</td>\n",
       "    </tr>\n",
       "    <tr>\n",
       "      <th>499999</th>\n",
       "      <td>4295573</td>\n",
       "      <td>7b45dc3537e17f16305c5983ca0a1cb9</td>\n",
       "      <td>win8defender</td>\n",
       "      <td>1.1.15100.1</td>\n",
       "      <td>4.18.1807.18075</td>\n",
       "      <td>1.273.1644.0</td>\n",
       "      <td>0</td>\n",
       "      <td>7.0000</td>\n",
       "      <td>0</td>\n",
       "      <td>NaN</td>\n",
       "      <td>...</td>\n",
       "      <td>12103.0000</td>\n",
       "      <td>0</td>\n",
       "      <td>NaN</td>\n",
       "      <td>0.0000</td>\n",
       "      <td>0</td>\n",
       "      <td>0</td>\n",
       "      <td>0.0000</td>\n",
       "      <td>1.0000</td>\n",
       "      <td>4.0000</td>\n",
       "      <td>1</td>\n",
       "    </tr>\n",
       "  </tbody>\n",
       "</table>\n",
       "<p>500000 rows × 84 columns</p>\n",
       "</div>"
      ],
      "text/plain": [
       "        Unnamed: 0                 MachineIdentifier   ProductName  \\\n",
       "0          8427007  f1cd864e97bae82bdf96523e1a539121  win8defender   \n",
       "1          8829090  fd5ba6f5b75325ec0423a6c67cc75942  win8defender   \n",
       "2          2731904  4e628391e7cc7c482fb3286f486dbd25  win8defender   \n",
       "3          1359513  270a2e9d028144a4df12a9e3da79fba5  win8defender   \n",
       "4           236059  06ca8fa8d32c2abdc5b3577d676b3269  win8defender   \n",
       "...            ...                               ...           ...   \n",
       "499995     5826339  a739cacc292f3f1e745827c1ca6c6ada  win8defender   \n",
       "499996     5740034  a4c232d528d98343e8f1b73650da7b82  win8defender   \n",
       "499997     8819786  fd16cd542d660848d272e4552bcccb1e  win8defender   \n",
       "499998     8713685  fa0841f8f6147de7c3d287e05270ed42  win8defender   \n",
       "499999     4295573  7b45dc3537e17f16305c5983ca0a1cb9  win8defender   \n",
       "\n",
       "       EngineVersion        AppVersion  AvSigVersion  IsBeta  \\\n",
       "0        1.1.15100.1   4.18.1807.18075  1.273.1234.0       0   \n",
       "1        1.1.15100.1   4.18.1807.18075  1.273.1282.0       0   \n",
       "2        1.1.15100.1    4.9.10586.1106   1.273.781.0       0   \n",
       "3        1.1.15200.1   4.18.1807.18075  1.275.1639.0       0   \n",
       "4        1.1.15200.1   4.18.1807.18075   1.275.511.0       0   \n",
       "...              ...               ...           ...     ...   \n",
       "499995   1.1.15200.1   4.18.1807.18075  1.275.1090.0       0   \n",
       "499996   1.1.15100.1   4.18.1807.18075  1.273.1620.0       0   \n",
       "499997   1.1.15300.5    4.13.17134.112  1.275.1343.0       0   \n",
       "499998   1.1.15100.1  4.14.17639.18041   1.273.483.0       0   \n",
       "499999   1.1.15100.1   4.18.1807.18075  1.273.1644.0       0   \n",
       "\n",
       "        RtpStateBitfield  IsSxsPassiveMode  DefaultBrowsersIdentifier  ...  \\\n",
       "0                 7.0000                 0                        NaN  ...   \n",
       "1                 7.0000                 0                        NaN  ...   \n",
       "2                 7.0000                 0                        NaN  ...   \n",
       "3                 7.0000                 0                        NaN  ...   \n",
       "4                 7.0000                 0                        NaN  ...   \n",
       "...                  ...               ...                        ...  ...   \n",
       "499995            7.0000                 0                        NaN  ...   \n",
       "499996            7.0000                 0                        NaN  ...   \n",
       "499997            7.0000                 0                        NaN  ...   \n",
       "499998            7.0000                 0                        NaN  ...   \n",
       "499999            7.0000                 0                        NaN  ...   \n",
       "\n",
       "        Census_FirmwareVersionIdentifier  Census_IsSecureBootEnabled  \\\n",
       "0                             19951.0000                           0   \n",
       "1                             48753.0000                           0   \n",
       "2                             33111.0000                           1   \n",
       "3                             48473.0000                           1   \n",
       "4                              4343.0000                           1   \n",
       "...                                  ...                         ...   \n",
       "499995                        33088.0000                           1   \n",
       "499996                               NaN                           0   \n",
       "499997                        41727.0000                           0   \n",
       "499998                        11947.0000                           0   \n",
       "499999                        12103.0000                           0   \n",
       "\n",
       "        Census_IsWIMBootEnabled  Census_IsVirtualDevice  \\\n",
       "0                           NaN                  0.0000   \n",
       "1                        0.0000                  0.0000   \n",
       "2                        0.0000                  0.0000   \n",
       "3                           NaN                  0.0000   \n",
       "4                           NaN                  0.0000   \n",
       "...                         ...                     ...   \n",
       "499995                   0.0000                  0.0000   \n",
       "499996                      NaN                  0.0000   \n",
       "499997                      NaN                  0.0000   \n",
       "499998                      NaN                  0.0000   \n",
       "499999                      NaN                  0.0000   \n",
       "\n",
       "        Census_IsTouchEnabled  Census_IsPenCapable  \\\n",
       "0                           0                    0   \n",
       "1                           0                    0   \n",
       "2                           1                    1   \n",
       "3                           0                    0   \n",
       "4                           1                    0   \n",
       "...                       ...                  ...   \n",
       "499995                      1                    0   \n",
       "499996                      0                    0   \n",
       "499997                      0                    0   \n",
       "499998                      0                    0   \n",
       "499999                      0                    0   \n",
       "\n",
       "        Census_IsAlwaysOnAlwaysConnectedCapable  Wdft_IsGamer  \\\n",
       "0                                        0.0000        0.0000   \n",
       "1                                        0.0000        1.0000   \n",
       "2                                        0.0000        0.0000   \n",
       "3                                        0.0000        0.0000   \n",
       "4                                        0.0000        1.0000   \n",
       "...                                         ...           ...   \n",
       "499995                                   0.0000        1.0000   \n",
       "499996                                   0.0000        0.0000   \n",
       "499997                                   0.0000        0.0000   \n",
       "499998                                   0.0000        0.0000   \n",
       "499999                                   0.0000        1.0000   \n",
       "\n",
       "        Wdft_RegionIdentifier HasDetections  \n",
       "0                     11.0000             1  \n",
       "1                      3.0000             0  \n",
       "2                     15.0000             0  \n",
       "3                     15.0000             1  \n",
       "4                     13.0000             1  \n",
       "...                       ...           ...  \n",
       "499995                10.0000             0  \n",
       "499996                15.0000             0  \n",
       "499997                 8.0000             0  \n",
       "499998                 1.0000             0  \n",
       "499999                 4.0000             1  \n",
       "\n",
       "[500000 rows x 84 columns]"
      ]
     },
     "execution_count": 2,
     "metadata": {},
     "output_type": "execute_result"
    }
   ],
   "source": [
    "del_columns = []\n",
    "pd.set_option('display.float_format', '{:.4f}'.format)\n",
    "\n",
    "url = \"https://www.dropbox.com/scl/fi/uvv7j1bragzqkz9zwyvj0/sample_mmp.csv?rlkey=i0mlaxzq6e3blblfu9mhrdpsm&e=1&dl=1\"\n",
    "df = pd.read_csv(url)\n",
    "df"
   ]
  },
  {
   "cell_type": "code",
   "execution_count": 3,
   "metadata": {},
   "outputs": [
    {
     "name": "stdout",
     "output_type": "stream",
     "text": [
      "<class 'pandas.core.frame.DataFrame'>\n",
      "RangeIndex: 500000 entries, 0 to 499999\n",
      "Data columns (total 84 columns):\n",
      " #   Column                                             Non-Null Count   Dtype  \n",
      "---  ------                                             --------------   -----  \n",
      " 0   Unnamed: 0                                         500000 non-null  int64  \n",
      " 1   MachineIdentifier                                  500000 non-null  object \n",
      " 2   ProductName                                        500000 non-null  object \n",
      " 3   EngineVersion                                      500000 non-null  object \n",
      " 4   AppVersion                                         500000 non-null  object \n",
      " 5   AvSigVersion                                       500000 non-null  object \n",
      " 6   IsBeta                                             500000 non-null  int64  \n",
      " 7   RtpStateBitfield                                   498168 non-null  float64\n",
      " 8   IsSxsPassiveMode                                   500000 non-null  int64  \n",
      " 9   DefaultBrowsersIdentifier                          24061 non-null   float64\n",
      " 10  AVProductStatesIdentifier                          498062 non-null  float64\n",
      " 11  AVProductsInstalled                                498062 non-null  float64\n",
      " 12  AVProductsEnabled                                  498062 non-null  float64\n",
      " 13  HasTpm                                             500000 non-null  int64  \n",
      " 14  CountryIdentifier                                  500000 non-null  int64  \n",
      " 15  CityIdentifier                                     481760 non-null  float64\n",
      " 16  OrganizationIdentifier                             345437 non-null  float64\n",
      " 17  GeoNameIdentifier                                  499984 non-null  float64\n",
      " 18  LocaleEnglishNameIdentifier                        500000 non-null  int64  \n",
      " 19  Platform                                           500000 non-null  object \n",
      " 20  Processor                                          500000 non-null  object \n",
      " 21  OsVer                                              500000 non-null  object \n",
      " 22  OsBuild                                            500000 non-null  int64  \n",
      " 23  OsSuite                                            500000 non-null  int64  \n",
      " 24  OsPlatformSubRelease                               500000 non-null  object \n",
      " 25  OsBuildLab                                         499999 non-null  object \n",
      " 26  SkuEdition                                         500000 non-null  object \n",
      " 27  IsProtected                                        498074 non-null  float64\n",
      " 28  AutoSampleOptIn                                    500000 non-null  int64  \n",
      " 29  PuaMode                                            126 non-null     object \n",
      " 30  SMode                                              470152 non-null  float64\n",
      " 31  IeVerIdentifier                                    496791 non-null  float64\n",
      " 32  SmartScreen                                        321404 non-null  object \n",
      " 33  Firewall                                           494838 non-null  float64\n",
      " 34  UacLuaenable                                       499377 non-null  float64\n",
      " 35  Census_MDC2FormFactor                              500000 non-null  object \n",
      " 36  Census_DeviceFamily                                500000 non-null  object \n",
      " 37  Census_OEMNameIdentifier                           494619 non-null  float64\n",
      " 38  Census_OEMModelIdentifier                          494236 non-null  float64\n",
      " 39  Census_ProcessorCoreCount                          497653 non-null  float64\n",
      " 40  Census_ProcessorManufacturerIdentifier             497653 non-null  float64\n",
      " 41  Census_ProcessorModelIdentifier                    497651 non-null  float64\n",
      " 42  Census_ProcessorClass                              2082 non-null    object \n",
      " 43  Census_PrimaryDiskTotalCapacity                    497024 non-null  float64\n",
      " 44  Census_PrimaryDiskTypeName                         499291 non-null  object \n",
      " 45  Census_SystemVolumeTotalCapacity                   497024 non-null  float64\n",
      " 46  Census_HasOpticalDiskDrive                         500000 non-null  int64  \n",
      " 47  Census_TotalPhysicalRAM                            495444 non-null  float64\n",
      " 48  Census_ChassisTypeName                             499963 non-null  object \n",
      " 49  Census_InternalPrimaryDiagonalDisplaySizeInInches  497346 non-null  float64\n",
      " 50  Census_InternalPrimaryDisplayResolutionHorizontal  497350 non-null  float64\n",
      " 51  Census_InternalPrimaryDisplayResolutionVertical    497350 non-null  float64\n",
      " 52  Census_PowerPlatformRoleName                       499998 non-null  object \n",
      " 53  Census_InternalBatteryType                         144397 non-null  object \n",
      " 54  Census_InternalBatteryNumberOfCharges              484962 non-null  float64\n",
      " 55  Census_OSVersion                                   500000 non-null  object \n",
      " 56  Census_OSArchitecture                              500000 non-null  object \n",
      " 57  Census_OSBranch                                    500000 non-null  object \n",
      " 58  Census_OSBuildNumber                               500000 non-null  int64  \n",
      " 59  Census_OSBuildRevision                             500000 non-null  int64  \n",
      " 60  Census_OSEdition                                   500000 non-null  object \n",
      " 61  Census_OSSkuName                                   500000 non-null  object \n",
      " 62  Census_OSInstallTypeName                           500000 non-null  object \n",
      " 63  Census_OSInstallLanguageIdentifier                 496668 non-null  float64\n",
      " 64  Census_OSUILocaleIdentifier                        500000 non-null  int64  \n",
      " 65  Census_OSWUAutoUpdateOptionsName                   500000 non-null  object \n",
      " 66  Census_IsPortableOperatingSystem                   500000 non-null  int64  \n",
      " 67  Census_GenuineStateName                            500000 non-null  object \n",
      " 68  Census_ActivationChannel                           500000 non-null  object \n",
      " 69  Census_IsFlightingInternal                         84775 non-null   float64\n",
      " 70  Census_IsFlightsDisabled                           491067 non-null  float64\n",
      " 71  Census_FlightRing                                  500000 non-null  object \n",
      " 72  Census_ThresholdOptIn                              181896 non-null  float64\n",
      " 73  Census_FirmwareManufacturerIdentifier              489651 non-null  float64\n",
      " 74  Census_FirmwareVersionIdentifier                   490939 non-null  float64\n",
      " 75  Census_IsSecureBootEnabled                         500000 non-null  int64  \n",
      " 76  Census_IsWIMBootEnabled                            182334 non-null  float64\n",
      " 77  Census_IsVirtualDevice                             499099 non-null  float64\n",
      " 78  Census_IsTouchEnabled                              500000 non-null  int64  \n",
      " 79  Census_IsPenCapable                                500000 non-null  int64  \n",
      " 80  Census_IsAlwaysOnAlwaysConnectedCapable            495960 non-null  float64\n",
      " 81  Wdft_IsGamer                                       483050 non-null  float64\n",
      " 82  Wdft_RegionIdentifier                              483050 non-null  float64\n",
      " 83  HasDetections                                      500000 non-null  int64  \n",
      "dtypes: float64(36), int64(18), object(30)\n",
      "memory usage: 320.4+ MB\n"
     ]
    }
   ],
   "source": [
    "df.info()"
   ]
  },
  {
   "cell_type": "code",
   "execution_count": 4,
   "metadata": {},
   "outputs": [
    {
     "data": {
      "text/html": [
       "<div>\n",
       "<style scoped>\n",
       "    .dataframe tbody tr th:only-of-type {\n",
       "        vertical-align: middle;\n",
       "    }\n",
       "\n",
       "    .dataframe tbody tr th {\n",
       "        vertical-align: top;\n",
       "    }\n",
       "\n",
       "    .dataframe thead th {\n",
       "        text-align: right;\n",
       "    }\n",
       "</style>\n",
       "<table border=\"1\" class=\"dataframe\">\n",
       "  <thead>\n",
       "    <tr style=\"text-align: right;\">\n",
       "      <th></th>\n",
       "      <th>count</th>\n",
       "      <th>mean</th>\n",
       "      <th>std</th>\n",
       "      <th>min</th>\n",
       "      <th>25%</th>\n",
       "      <th>50%</th>\n",
       "      <th>75%</th>\n",
       "      <th>max</th>\n",
       "    </tr>\n",
       "  </thead>\n",
       "  <tbody>\n",
       "    <tr>\n",
       "      <th>Unnamed: 0</th>\n",
       "      <td>500000.0000</td>\n",
       "      <td>4458888.2675</td>\n",
       "      <td>2575618.6218</td>\n",
       "      <td>2.0000</td>\n",
       "      <td>2227692.5000</td>\n",
       "      <td>4461367.5000</td>\n",
       "      <td>6690936.0000</td>\n",
       "      <td>8921471.0000</td>\n",
       "    </tr>\n",
       "    <tr>\n",
       "      <th>IsBeta</th>\n",
       "      <td>500000.0000</td>\n",
       "      <td>0.0000</td>\n",
       "      <td>0.0014</td>\n",
       "      <td>0.0000</td>\n",
       "      <td>0.0000</td>\n",
       "      <td>0.0000</td>\n",
       "      <td>0.0000</td>\n",
       "      <td>1.0000</td>\n",
       "    </tr>\n",
       "    <tr>\n",
       "      <th>RtpStateBitfield</th>\n",
       "      <td>498168.0000</td>\n",
       "      <td>6.8462</td>\n",
       "      <td>1.0230</td>\n",
       "      <td>0.0000</td>\n",
       "      <td>7.0000</td>\n",
       "      <td>7.0000</td>\n",
       "      <td>7.0000</td>\n",
       "      <td>35.0000</td>\n",
       "    </tr>\n",
       "    <tr>\n",
       "      <th>IsSxsPassiveMode</th>\n",
       "      <td>500000.0000</td>\n",
       "      <td>0.0172</td>\n",
       "      <td>0.1302</td>\n",
       "      <td>0.0000</td>\n",
       "      <td>0.0000</td>\n",
       "      <td>0.0000</td>\n",
       "      <td>0.0000</td>\n",
       "      <td>1.0000</td>\n",
       "    </tr>\n",
       "    <tr>\n",
       "      <th>DefaultBrowsersIdentifier</th>\n",
       "      <td>24061.0000</td>\n",
       "      <td>1652.8245</td>\n",
       "      <td>1004.7543</td>\n",
       "      <td>1.0000</td>\n",
       "      <td>788.0000</td>\n",
       "      <td>1632.0000</td>\n",
       "      <td>2381.0000</td>\n",
       "      <td>3209.0000</td>\n",
       "    </tr>\n",
       "    <tr>\n",
       "      <th>AVProductStatesIdentifier</th>\n",
       "      <td>498062.0000</td>\n",
       "      <td>47850.9084</td>\n",
       "      <td>14023.0853</td>\n",
       "      <td>3.0000</td>\n",
       "      <td>49480.0000</td>\n",
       "      <td>53447.0000</td>\n",
       "      <td>53447.0000</td>\n",
       "      <td>70492.0000</td>\n",
       "    </tr>\n",
       "    <tr>\n",
       "      <th>AVProductsInstalled</th>\n",
       "      <td>498062.0000</td>\n",
       "      <td>1.3268</td>\n",
       "      <td>0.5230</td>\n",
       "      <td>1.0000</td>\n",
       "      <td>1.0000</td>\n",
       "      <td>1.0000</td>\n",
       "      <td>2.0000</td>\n",
       "      <td>5.0000</td>\n",
       "    </tr>\n",
       "    <tr>\n",
       "      <th>AVProductsEnabled</th>\n",
       "      <td>498062.0000</td>\n",
       "      <td>1.0207</td>\n",
       "      <td>0.1666</td>\n",
       "      <td>0.0000</td>\n",
       "      <td>1.0000</td>\n",
       "      <td>1.0000</td>\n",
       "      <td>1.0000</td>\n",
       "      <td>4.0000</td>\n",
       "    </tr>\n",
       "    <tr>\n",
       "      <th>HasTpm</th>\n",
       "      <td>500000.0000</td>\n",
       "      <td>0.9878</td>\n",
       "      <td>0.1097</td>\n",
       "      <td>0.0000</td>\n",
       "      <td>1.0000</td>\n",
       "      <td>1.0000</td>\n",
       "      <td>1.0000</td>\n",
       "      <td>1.0000</td>\n",
       "    </tr>\n",
       "    <tr>\n",
       "      <th>CountryIdentifier</th>\n",
       "      <td>500000.0000</td>\n",
       "      <td>108.0375</td>\n",
       "      <td>63.0685</td>\n",
       "      <td>1.0000</td>\n",
       "      <td>51.0000</td>\n",
       "      <td>97.0000</td>\n",
       "      <td>162.0000</td>\n",
       "      <td>222.0000</td>\n",
       "    </tr>\n",
       "    <tr>\n",
       "      <th>CityIdentifier</th>\n",
       "      <td>481760.0000</td>\n",
       "      <td>81271.6460</td>\n",
       "      <td>48985.1297</td>\n",
       "      <td>7.0000</td>\n",
       "      <td>36825.0000</td>\n",
       "      <td>82373.0000</td>\n",
       "      <td>123939.5000</td>\n",
       "      <td>167958.0000</td>\n",
       "    </tr>\n",
       "    <tr>\n",
       "      <th>OrganizationIdentifier</th>\n",
       "      <td>345437.0000</td>\n",
       "      <td>24.8699</td>\n",
       "      <td>5.6137</td>\n",
       "      <td>1.0000</td>\n",
       "      <td>18.0000</td>\n",
       "      <td>27.0000</td>\n",
       "      <td>27.0000</td>\n",
       "      <td>52.0000</td>\n",
       "    </tr>\n",
       "    <tr>\n",
       "      <th>GeoNameIdentifier</th>\n",
       "      <td>499984.0000</td>\n",
       "      <td>169.7304</td>\n",
       "      <td>89.3252</td>\n",
       "      <td>1.0000</td>\n",
       "      <td>89.0000</td>\n",
       "      <td>181.0000</td>\n",
       "      <td>267.0000</td>\n",
       "      <td>296.0000</td>\n",
       "    </tr>\n",
       "    <tr>\n",
       "      <th>LocaleEnglishNameIdentifier</th>\n",
       "      <td>500000.0000</td>\n",
       "      <td>122.6110</td>\n",
       "      <td>69.3032</td>\n",
       "      <td>1.0000</td>\n",
       "      <td>74.0000</td>\n",
       "      <td>88.0000</td>\n",
       "      <td>182.0000</td>\n",
       "      <td>283.0000</td>\n",
       "    </tr>\n",
       "    <tr>\n",
       "      <th>OsBuild</th>\n",
       "      <td>500000.0000</td>\n",
       "      <td>15726.9338</td>\n",
       "      <td>2188.6461</td>\n",
       "      <td>7600.0000</td>\n",
       "      <td>15063.0000</td>\n",
       "      <td>16299.0000</td>\n",
       "      <td>17134.0000</td>\n",
       "      <td>18242.0000</td>\n",
       "    </tr>\n",
       "    <tr>\n",
       "      <th>OsSuite</th>\n",
       "      <td>500000.0000</td>\n",
       "      <td>574.7186</td>\n",
       "      <td>248.2033</td>\n",
       "      <td>16.0000</td>\n",
       "      <td>256.0000</td>\n",
       "      <td>768.0000</td>\n",
       "      <td>768.0000</td>\n",
       "      <td>784.0000</td>\n",
       "    </tr>\n",
       "    <tr>\n",
       "      <th>IsProtected</th>\n",
       "      <td>498074.0000</td>\n",
       "      <td>0.9458</td>\n",
       "      <td>0.2264</td>\n",
       "      <td>0.0000</td>\n",
       "      <td>1.0000</td>\n",
       "      <td>1.0000</td>\n",
       "      <td>1.0000</td>\n",
       "      <td>1.0000</td>\n",
       "    </tr>\n",
       "    <tr>\n",
       "      <th>AutoSampleOptIn</th>\n",
       "      <td>500000.0000</td>\n",
       "      <td>0.0000</td>\n",
       "      <td>0.0053</td>\n",
       "      <td>0.0000</td>\n",
       "      <td>0.0000</td>\n",
       "      <td>0.0000</td>\n",
       "      <td>0.0000</td>\n",
       "      <td>1.0000</td>\n",
       "    </tr>\n",
       "    <tr>\n",
       "      <th>SMode</th>\n",
       "      <td>470152.0000</td>\n",
       "      <td>0.0004</td>\n",
       "      <td>0.0209</td>\n",
       "      <td>0.0000</td>\n",
       "      <td>0.0000</td>\n",
       "      <td>0.0000</td>\n",
       "      <td>0.0000</td>\n",
       "      <td>1.0000</td>\n",
       "    </tr>\n",
       "    <tr>\n",
       "      <th>IeVerIdentifier</th>\n",
       "      <td>496791.0000</td>\n",
       "      <td>126.6626</td>\n",
       "      <td>42.6349</td>\n",
       "      <td>8.0000</td>\n",
       "      <td>111.0000</td>\n",
       "      <td>135.0000</td>\n",
       "      <td>137.0000</td>\n",
       "      <td>429.0000</td>\n",
       "    </tr>\n",
       "    <tr>\n",
       "      <th>Firewall</th>\n",
       "      <td>494838.0000</td>\n",
       "      <td>0.9782</td>\n",
       "      <td>0.1459</td>\n",
       "      <td>0.0000</td>\n",
       "      <td>1.0000</td>\n",
       "      <td>1.0000</td>\n",
       "      <td>1.0000</td>\n",
       "      <td>1.0000</td>\n",
       "    </tr>\n",
       "    <tr>\n",
       "      <th>UacLuaenable</th>\n",
       "      <td>499377.0000</td>\n",
       "      <td>13.7250</td>\n",
       "      <td>8995.8481</td>\n",
       "      <td>0.0000</td>\n",
       "      <td>1.0000</td>\n",
       "      <td>1.0000</td>\n",
       "      <td>1.0000</td>\n",
       "      <td>6357062.0000</td>\n",
       "    </tr>\n",
       "    <tr>\n",
       "      <th>Census_OEMNameIdentifier</th>\n",
       "      <td>494619.0000</td>\n",
       "      <td>2218.6465</td>\n",
       "      <td>1315.7096</td>\n",
       "      <td>54.0000</td>\n",
       "      <td>1443.0000</td>\n",
       "      <td>2102.0000</td>\n",
       "      <td>2668.0000</td>\n",
       "      <td>6143.0000</td>\n",
       "    </tr>\n",
       "    <tr>\n",
       "      <th>Census_OEMModelIdentifier</th>\n",
       "      <td>494236.0000</td>\n",
       "      <td>239128.0469</td>\n",
       "      <td>72048.8836</td>\n",
       "      <td>1.0000</td>\n",
       "      <td>189641.7500</td>\n",
       "      <td>247520.0000</td>\n",
       "      <td>304438.0000</td>\n",
       "      <td>345493.0000</td>\n",
       "    </tr>\n",
       "    <tr>\n",
       "      <th>Census_ProcessorCoreCount</th>\n",
       "      <td>497653.0000</td>\n",
       "      <td>3.9941</td>\n",
       "      <td>2.0713</td>\n",
       "      <td>1.0000</td>\n",
       "      <td>2.0000</td>\n",
       "      <td>4.0000</td>\n",
       "      <td>4.0000</td>\n",
       "      <td>88.0000</td>\n",
       "    </tr>\n",
       "    <tr>\n",
       "      <th>Census_ProcessorManufacturerIdentifier</th>\n",
       "      <td>497653.0000</td>\n",
       "      <td>4.5291</td>\n",
       "      <td>1.2896</td>\n",
       "      <td>1.0000</td>\n",
       "      <td>5.0000</td>\n",
       "      <td>5.0000</td>\n",
       "      <td>5.0000</td>\n",
       "      <td>10.0000</td>\n",
       "    </tr>\n",
       "    <tr>\n",
       "      <th>Census_ProcessorModelIdentifier</th>\n",
       "      <td>497651.0000</td>\n",
       "      <td>2370.9865</td>\n",
       "      <td>842.1367</td>\n",
       "      <td>3.0000</td>\n",
       "      <td>1998.0000</td>\n",
       "      <td>2500.0000</td>\n",
       "      <td>2877.0000</td>\n",
       "      <td>4472.0000</td>\n",
       "    </tr>\n",
       "    <tr>\n",
       "      <th>Census_PrimaryDiskTotalCapacity</th>\n",
       "      <td>497024.0000</td>\n",
       "      <td>514043.3159</td>\n",
       "      <td>370446.8159</td>\n",
       "      <td>10240.0000</td>\n",
       "      <td>239372.0000</td>\n",
       "      <td>476940.0000</td>\n",
       "      <td>953869.0000</td>\n",
       "      <td>47687668.0000</td>\n",
       "    </tr>\n",
       "    <tr>\n",
       "      <th>Census_SystemVolumeTotalCapacity</th>\n",
       "      <td>497024.0000</td>\n",
       "      <td>378054.6393</td>\n",
       "      <td>338472.2187</td>\n",
       "      <td>9689.0000</td>\n",
       "      <td>120775.0000</td>\n",
       "      <td>249450.0000</td>\n",
       "      <td>475981.0000</td>\n",
       "      <td>47687100.0000</td>\n",
       "    </tr>\n",
       "    <tr>\n",
       "      <th>Census_HasOpticalDiskDrive</th>\n",
       "      <td>500000.0000</td>\n",
       "      <td>0.0770</td>\n",
       "      <td>0.2666</td>\n",
       "      <td>0.0000</td>\n",
       "      <td>0.0000</td>\n",
       "      <td>0.0000</td>\n",
       "      <td>0.0000</td>\n",
       "      <td>1.0000</td>\n",
       "    </tr>\n",
       "    <tr>\n",
       "      <th>Census_TotalPhysicalRAM</th>\n",
       "      <td>495444.0000</td>\n",
       "      <td>6129.2322</td>\n",
       "      <td>4964.5213</td>\n",
       "      <td>512.0000</td>\n",
       "      <td>4096.0000</td>\n",
       "      <td>4096.0000</td>\n",
       "      <td>8192.0000</td>\n",
       "      <td>393216.0000</td>\n",
       "    </tr>\n",
       "    <tr>\n",
       "      <th>Census_InternalPrimaryDiagonalDisplaySizeInInches</th>\n",
       "      <td>497346.0000</td>\n",
       "      <td>16.6898</td>\n",
       "      <td>5.9320</td>\n",
       "      <td>4.9000</td>\n",
       "      <td>13.9000</td>\n",
       "      <td>15.5000</td>\n",
       "      <td>17.2000</td>\n",
       "      <td>142.0000</td>\n",
       "    </tr>\n",
       "    <tr>\n",
       "      <th>Census_InternalPrimaryDisplayResolutionHorizontal</th>\n",
       "      <td>497350.0000</td>\n",
       "      <td>1548.3043</td>\n",
       "      <td>368.5659</td>\n",
       "      <td>-1.0000</td>\n",
       "      <td>1366.0000</td>\n",
       "      <td>1366.0000</td>\n",
       "      <td>1920.0000</td>\n",
       "      <td>11520.0000</td>\n",
       "    </tr>\n",
       "    <tr>\n",
       "      <th>Census_InternalPrimaryDisplayResolutionVertical</th>\n",
       "      <td>497350.0000</td>\n",
       "      <td>898.2393</td>\n",
       "      <td>214.8625</td>\n",
       "      <td>-1.0000</td>\n",
       "      <td>768.0000</td>\n",
       "      <td>768.0000</td>\n",
       "      <td>1080.0000</td>\n",
       "      <td>4320.0000</td>\n",
       "    </tr>\n",
       "    <tr>\n",
       "      <th>Census_InternalBatteryNumberOfCharges</th>\n",
       "      <td>484962.0000</td>\n",
       "      <td>1125600150.2055</td>\n",
       "      <td>1888768455.7804</td>\n",
       "      <td>0.0000</td>\n",
       "      <td>0.0000</td>\n",
       "      <td>0.0000</td>\n",
       "      <td>4294967295.0000</td>\n",
       "      <td>4294967295.0000</td>\n",
       "    </tr>\n",
       "    <tr>\n",
       "      <th>Census_OSBuildNumber</th>\n",
       "      <td>500000.0000</td>\n",
       "      <td>15841.3726</td>\n",
       "      <td>1959.4403</td>\n",
       "      <td>9600.0000</td>\n",
       "      <td>15063.0000</td>\n",
       "      <td>16299.0000</td>\n",
       "      <td>17134.0000</td>\n",
       "      <td>18242.0000</td>\n",
       "    </tr>\n",
       "    <tr>\n",
       "      <th>Census_OSBuildRevision</th>\n",
       "      <td>500000.0000</td>\n",
       "      <td>967.2248</td>\n",
       "      <td>2920.6277</td>\n",
       "      <td>0.0000</td>\n",
       "      <td>165.0000</td>\n",
       "      <td>285.0000</td>\n",
       "      <td>547.0000</td>\n",
       "      <td>19069.0000</td>\n",
       "    </tr>\n",
       "    <tr>\n",
       "      <th>Census_OSInstallLanguageIdentifier</th>\n",
       "      <td>496668.0000</td>\n",
       "      <td>14.6055</td>\n",
       "      <td>10.2009</td>\n",
       "      <td>1.0000</td>\n",
       "      <td>8.0000</td>\n",
       "      <td>9.0000</td>\n",
       "      <td>20.0000</td>\n",
       "      <td>39.0000</td>\n",
       "    </tr>\n",
       "    <tr>\n",
       "      <th>Census_OSUILocaleIdentifier</th>\n",
       "      <td>500000.0000</td>\n",
       "      <td>60.4463</td>\n",
       "      <td>45.0004</td>\n",
       "      <td>1.0000</td>\n",
       "      <td>31.0000</td>\n",
       "      <td>34.0000</td>\n",
       "      <td>90.0000</td>\n",
       "      <td>162.0000</td>\n",
       "    </tr>\n",
       "    <tr>\n",
       "      <th>Census_IsPortableOperatingSystem</th>\n",
       "      <td>500000.0000</td>\n",
       "      <td>0.0005</td>\n",
       "      <td>0.0228</td>\n",
       "      <td>0.0000</td>\n",
       "      <td>0.0000</td>\n",
       "      <td>0.0000</td>\n",
       "      <td>0.0000</td>\n",
       "      <td>1.0000</td>\n",
       "    </tr>\n",
       "    <tr>\n",
       "      <th>Census_IsFlightingInternal</th>\n",
       "      <td>84775.0000</td>\n",
       "      <td>0.0000</td>\n",
       "      <td>0.0049</td>\n",
       "      <td>0.0000</td>\n",
       "      <td>0.0000</td>\n",
       "      <td>0.0000</td>\n",
       "      <td>0.0000</td>\n",
       "      <td>1.0000</td>\n",
       "    </tr>\n",
       "    <tr>\n",
       "      <th>Census_IsFlightsDisabled</th>\n",
       "      <td>491067.0000</td>\n",
       "      <td>0.0000</td>\n",
       "      <td>0.0038</td>\n",
       "      <td>0.0000</td>\n",
       "      <td>0.0000</td>\n",
       "      <td>0.0000</td>\n",
       "      <td>0.0000</td>\n",
       "      <td>1.0000</td>\n",
       "    </tr>\n",
       "    <tr>\n",
       "      <th>Census_ThresholdOptIn</th>\n",
       "      <td>181896.0000</td>\n",
       "      <td>0.0003</td>\n",
       "      <td>0.0161</td>\n",
       "      <td>0.0000</td>\n",
       "      <td>0.0000</td>\n",
       "      <td>0.0000</td>\n",
       "      <td>0.0000</td>\n",
       "      <td>1.0000</td>\n",
       "    </tr>\n",
       "    <tr>\n",
       "      <th>Census_FirmwareManufacturerIdentifier</th>\n",
       "      <td>489651.0000</td>\n",
       "      <td>402.6759</td>\n",
       "      <td>221.5271</td>\n",
       "      <td>11.0000</td>\n",
       "      <td>142.0000</td>\n",
       "      <td>500.0000</td>\n",
       "      <td>556.0000</td>\n",
       "      <td>1084.0000</td>\n",
       "    </tr>\n",
       "    <tr>\n",
       "      <th>Census_FirmwareVersionIdentifier</th>\n",
       "      <td>490939.0000</td>\n",
       "      <td>33030.9889</td>\n",
       "      <td>21220.1614</td>\n",
       "      <td>10.0000</td>\n",
       "      <td>13156.0000</td>\n",
       "      <td>33070.0000</td>\n",
       "      <td>52436.0000</td>\n",
       "      <td>72091.0000</td>\n",
       "    </tr>\n",
       "    <tr>\n",
       "      <th>Census_IsSecureBootEnabled</th>\n",
       "      <td>500000.0000</td>\n",
       "      <td>0.4854</td>\n",
       "      <td>0.4998</td>\n",
       "      <td>0.0000</td>\n",
       "      <td>0.0000</td>\n",
       "      <td>0.0000</td>\n",
       "      <td>1.0000</td>\n",
       "      <td>1.0000</td>\n",
       "    </tr>\n",
       "    <tr>\n",
       "      <th>Census_IsWIMBootEnabled</th>\n",
       "      <td>182334.0000</td>\n",
       "      <td>0.0000</td>\n",
       "      <td>0.0000</td>\n",
       "      <td>0.0000</td>\n",
       "      <td>0.0000</td>\n",
       "      <td>0.0000</td>\n",
       "      <td>0.0000</td>\n",
       "      <td>0.0000</td>\n",
       "    </tr>\n",
       "    <tr>\n",
       "      <th>Census_IsVirtualDevice</th>\n",
       "      <td>499099.0000</td>\n",
       "      <td>0.0071</td>\n",
       "      <td>0.0838</td>\n",
       "      <td>0.0000</td>\n",
       "      <td>0.0000</td>\n",
       "      <td>0.0000</td>\n",
       "      <td>0.0000</td>\n",
       "      <td>1.0000</td>\n",
       "    </tr>\n",
       "    <tr>\n",
       "      <th>Census_IsTouchEnabled</th>\n",
       "      <td>500000.0000</td>\n",
       "      <td>0.1254</td>\n",
       "      <td>0.3312</td>\n",
       "      <td>0.0000</td>\n",
       "      <td>0.0000</td>\n",
       "      <td>0.0000</td>\n",
       "      <td>0.0000</td>\n",
       "      <td>1.0000</td>\n",
       "    </tr>\n",
       "    <tr>\n",
       "      <th>Census_IsPenCapable</th>\n",
       "      <td>500000.0000</td>\n",
       "      <td>0.0377</td>\n",
       "      <td>0.1906</td>\n",
       "      <td>0.0000</td>\n",
       "      <td>0.0000</td>\n",
       "      <td>0.0000</td>\n",
       "      <td>0.0000</td>\n",
       "      <td>1.0000</td>\n",
       "    </tr>\n",
       "    <tr>\n",
       "      <th>Census_IsAlwaysOnAlwaysConnectedCapable</th>\n",
       "      <td>495960.0000</td>\n",
       "      <td>0.0572</td>\n",
       "      <td>0.2323</td>\n",
       "      <td>0.0000</td>\n",
       "      <td>0.0000</td>\n",
       "      <td>0.0000</td>\n",
       "      <td>0.0000</td>\n",
       "      <td>1.0000</td>\n",
       "    </tr>\n",
       "    <tr>\n",
       "      <th>Wdft_IsGamer</th>\n",
       "      <td>483050.0000</td>\n",
       "      <td>0.2841</td>\n",
       "      <td>0.4510</td>\n",
       "      <td>0.0000</td>\n",
       "      <td>0.0000</td>\n",
       "      <td>0.0000</td>\n",
       "      <td>1.0000</td>\n",
       "      <td>1.0000</td>\n",
       "    </tr>\n",
       "    <tr>\n",
       "      <th>Wdft_RegionIdentifier</th>\n",
       "      <td>483050.0000</td>\n",
       "      <td>7.8886</td>\n",
       "      <td>4.5518</td>\n",
       "      <td>1.0000</td>\n",
       "      <td>3.0000</td>\n",
       "      <td>10.0000</td>\n",
       "      <td>11.0000</td>\n",
       "      <td>15.0000</td>\n",
       "    </tr>\n",
       "    <tr>\n",
       "      <th>HasDetections</th>\n",
       "      <td>500000.0000</td>\n",
       "      <td>0.4999</td>\n",
       "      <td>0.5000</td>\n",
       "      <td>0.0000</td>\n",
       "      <td>0.0000</td>\n",
       "      <td>0.0000</td>\n",
       "      <td>1.0000</td>\n",
       "      <td>1.0000</td>\n",
       "    </tr>\n",
       "  </tbody>\n",
       "</table>\n",
       "</div>"
      ],
      "text/plain": [
       "                                                        count            mean  \\\n",
       "Unnamed: 0                                        500000.0000    4458888.2675   \n",
       "IsBeta                                            500000.0000          0.0000   \n",
       "RtpStateBitfield                                  498168.0000          6.8462   \n",
       "IsSxsPassiveMode                                  500000.0000          0.0172   \n",
       "DefaultBrowsersIdentifier                          24061.0000       1652.8245   \n",
       "AVProductStatesIdentifier                         498062.0000      47850.9084   \n",
       "AVProductsInstalled                               498062.0000          1.3268   \n",
       "AVProductsEnabled                                 498062.0000          1.0207   \n",
       "HasTpm                                            500000.0000          0.9878   \n",
       "CountryIdentifier                                 500000.0000        108.0375   \n",
       "CityIdentifier                                    481760.0000      81271.6460   \n",
       "OrganizationIdentifier                            345437.0000         24.8699   \n",
       "GeoNameIdentifier                                 499984.0000        169.7304   \n",
       "LocaleEnglishNameIdentifier                       500000.0000        122.6110   \n",
       "OsBuild                                           500000.0000      15726.9338   \n",
       "OsSuite                                           500000.0000        574.7186   \n",
       "IsProtected                                       498074.0000          0.9458   \n",
       "AutoSampleOptIn                                   500000.0000          0.0000   \n",
       "SMode                                             470152.0000          0.0004   \n",
       "IeVerIdentifier                                   496791.0000        126.6626   \n",
       "Firewall                                          494838.0000          0.9782   \n",
       "UacLuaenable                                      499377.0000         13.7250   \n",
       "Census_OEMNameIdentifier                          494619.0000       2218.6465   \n",
       "Census_OEMModelIdentifier                         494236.0000     239128.0469   \n",
       "Census_ProcessorCoreCount                         497653.0000          3.9941   \n",
       "Census_ProcessorManufacturerIdentifier            497653.0000          4.5291   \n",
       "Census_ProcessorModelIdentifier                   497651.0000       2370.9865   \n",
       "Census_PrimaryDiskTotalCapacity                   497024.0000     514043.3159   \n",
       "Census_SystemVolumeTotalCapacity                  497024.0000     378054.6393   \n",
       "Census_HasOpticalDiskDrive                        500000.0000          0.0770   \n",
       "Census_TotalPhysicalRAM                           495444.0000       6129.2322   \n",
       "Census_InternalPrimaryDiagonalDisplaySizeInInches 497346.0000         16.6898   \n",
       "Census_InternalPrimaryDisplayResolutionHorizontal 497350.0000       1548.3043   \n",
       "Census_InternalPrimaryDisplayResolutionVertical   497350.0000        898.2393   \n",
       "Census_InternalBatteryNumberOfCharges             484962.0000 1125600150.2055   \n",
       "Census_OSBuildNumber                              500000.0000      15841.3726   \n",
       "Census_OSBuildRevision                            500000.0000        967.2248   \n",
       "Census_OSInstallLanguageIdentifier                496668.0000         14.6055   \n",
       "Census_OSUILocaleIdentifier                       500000.0000         60.4463   \n",
       "Census_IsPortableOperatingSystem                  500000.0000          0.0005   \n",
       "Census_IsFlightingInternal                         84775.0000          0.0000   \n",
       "Census_IsFlightsDisabled                          491067.0000          0.0000   \n",
       "Census_ThresholdOptIn                             181896.0000          0.0003   \n",
       "Census_FirmwareManufacturerIdentifier             489651.0000        402.6759   \n",
       "Census_FirmwareVersionIdentifier                  490939.0000      33030.9889   \n",
       "Census_IsSecureBootEnabled                        500000.0000          0.4854   \n",
       "Census_IsWIMBootEnabled                           182334.0000          0.0000   \n",
       "Census_IsVirtualDevice                            499099.0000          0.0071   \n",
       "Census_IsTouchEnabled                             500000.0000          0.1254   \n",
       "Census_IsPenCapable                               500000.0000          0.0377   \n",
       "Census_IsAlwaysOnAlwaysConnectedCapable           495960.0000          0.0572   \n",
       "Wdft_IsGamer                                      483050.0000          0.2841   \n",
       "Wdft_RegionIdentifier                             483050.0000          7.8886   \n",
       "HasDetections                                     500000.0000          0.4999   \n",
       "\n",
       "                                                              std        min  \\\n",
       "Unnamed: 0                                           2575618.6218     2.0000   \n",
       "IsBeta                                                     0.0014     0.0000   \n",
       "RtpStateBitfield                                           1.0230     0.0000   \n",
       "IsSxsPassiveMode                                           0.1302     0.0000   \n",
       "DefaultBrowsersIdentifier                               1004.7543     1.0000   \n",
       "AVProductStatesIdentifier                              14023.0853     3.0000   \n",
       "AVProductsInstalled                                        0.5230     1.0000   \n",
       "AVProductsEnabled                                          0.1666     0.0000   \n",
       "HasTpm                                                     0.1097     0.0000   \n",
       "CountryIdentifier                                         63.0685     1.0000   \n",
       "CityIdentifier                                         48985.1297     7.0000   \n",
       "OrganizationIdentifier                                     5.6137     1.0000   \n",
       "GeoNameIdentifier                                         89.3252     1.0000   \n",
       "LocaleEnglishNameIdentifier                               69.3032     1.0000   \n",
       "OsBuild                                                 2188.6461  7600.0000   \n",
       "OsSuite                                                  248.2033    16.0000   \n",
       "IsProtected                                                0.2264     0.0000   \n",
       "AutoSampleOptIn                                            0.0053     0.0000   \n",
       "SMode                                                      0.0209     0.0000   \n",
       "IeVerIdentifier                                           42.6349     8.0000   \n",
       "Firewall                                                   0.1459     0.0000   \n",
       "UacLuaenable                                            8995.8481     0.0000   \n",
       "Census_OEMNameIdentifier                                1315.7096    54.0000   \n",
       "Census_OEMModelIdentifier                              72048.8836     1.0000   \n",
       "Census_ProcessorCoreCount                                  2.0713     1.0000   \n",
       "Census_ProcessorManufacturerIdentifier                     1.2896     1.0000   \n",
       "Census_ProcessorModelIdentifier                          842.1367     3.0000   \n",
       "Census_PrimaryDiskTotalCapacity                       370446.8159 10240.0000   \n",
       "Census_SystemVolumeTotalCapacity                      338472.2187  9689.0000   \n",
       "Census_HasOpticalDiskDrive                                 0.2666     0.0000   \n",
       "Census_TotalPhysicalRAM                                 4964.5213   512.0000   \n",
       "Census_InternalPrimaryDiagonalDisplaySizeInInches          5.9320     4.9000   \n",
       "Census_InternalPrimaryDisplayResolutionHorizontal        368.5659    -1.0000   \n",
       "Census_InternalPrimaryDisplayResolutionVertical          214.8625    -1.0000   \n",
       "Census_InternalBatteryNumberOfCharges             1888768455.7804     0.0000   \n",
       "Census_OSBuildNumber                                    1959.4403  9600.0000   \n",
       "Census_OSBuildRevision                                  2920.6277     0.0000   \n",
       "Census_OSInstallLanguageIdentifier                        10.2009     1.0000   \n",
       "Census_OSUILocaleIdentifier                               45.0004     1.0000   \n",
       "Census_IsPortableOperatingSystem                           0.0228     0.0000   \n",
       "Census_IsFlightingInternal                                 0.0049     0.0000   \n",
       "Census_IsFlightsDisabled                                   0.0038     0.0000   \n",
       "Census_ThresholdOptIn                                      0.0161     0.0000   \n",
       "Census_FirmwareManufacturerIdentifier                    221.5271    11.0000   \n",
       "Census_FirmwareVersionIdentifier                       21220.1614    10.0000   \n",
       "Census_IsSecureBootEnabled                                 0.4998     0.0000   \n",
       "Census_IsWIMBootEnabled                                    0.0000     0.0000   \n",
       "Census_IsVirtualDevice                                     0.0838     0.0000   \n",
       "Census_IsTouchEnabled                                      0.3312     0.0000   \n",
       "Census_IsPenCapable                                        0.1906     0.0000   \n",
       "Census_IsAlwaysOnAlwaysConnectedCapable                    0.2323     0.0000   \n",
       "Wdft_IsGamer                                               0.4510     0.0000   \n",
       "Wdft_RegionIdentifier                                      4.5518     1.0000   \n",
       "HasDetections                                              0.5000     0.0000   \n",
       "\n",
       "                                                           25%          50%  \\\n",
       "Unnamed: 0                                        2227692.5000 4461367.5000   \n",
       "IsBeta                                                  0.0000       0.0000   \n",
       "RtpStateBitfield                                        7.0000       7.0000   \n",
       "IsSxsPassiveMode                                        0.0000       0.0000   \n",
       "DefaultBrowsersIdentifier                             788.0000    1632.0000   \n",
       "AVProductStatesIdentifier                           49480.0000   53447.0000   \n",
       "AVProductsInstalled                                     1.0000       1.0000   \n",
       "AVProductsEnabled                                       1.0000       1.0000   \n",
       "HasTpm                                                  1.0000       1.0000   \n",
       "CountryIdentifier                                      51.0000      97.0000   \n",
       "CityIdentifier                                      36825.0000   82373.0000   \n",
       "OrganizationIdentifier                                 18.0000      27.0000   \n",
       "GeoNameIdentifier                                      89.0000     181.0000   \n",
       "LocaleEnglishNameIdentifier                            74.0000      88.0000   \n",
       "OsBuild                                             15063.0000   16299.0000   \n",
       "OsSuite                                               256.0000     768.0000   \n",
       "IsProtected                                             1.0000       1.0000   \n",
       "AutoSampleOptIn                                         0.0000       0.0000   \n",
       "SMode                                                   0.0000       0.0000   \n",
       "IeVerIdentifier                                       111.0000     135.0000   \n",
       "Firewall                                                1.0000       1.0000   \n",
       "UacLuaenable                                            1.0000       1.0000   \n",
       "Census_OEMNameIdentifier                             1443.0000    2102.0000   \n",
       "Census_OEMModelIdentifier                          189641.7500  247520.0000   \n",
       "Census_ProcessorCoreCount                               2.0000       4.0000   \n",
       "Census_ProcessorManufacturerIdentifier                  5.0000       5.0000   \n",
       "Census_ProcessorModelIdentifier                      1998.0000    2500.0000   \n",
       "Census_PrimaryDiskTotalCapacity                    239372.0000  476940.0000   \n",
       "Census_SystemVolumeTotalCapacity                   120775.0000  249450.0000   \n",
       "Census_HasOpticalDiskDrive                              0.0000       0.0000   \n",
       "Census_TotalPhysicalRAM                              4096.0000    4096.0000   \n",
       "Census_InternalPrimaryDiagonalDisplaySizeInInches      13.9000      15.5000   \n",
       "Census_InternalPrimaryDisplayResolutionHorizontal    1366.0000    1366.0000   \n",
       "Census_InternalPrimaryDisplayResolutionVertical       768.0000     768.0000   \n",
       "Census_InternalBatteryNumberOfCharges                   0.0000       0.0000   \n",
       "Census_OSBuildNumber                                15063.0000   16299.0000   \n",
       "Census_OSBuildRevision                                165.0000     285.0000   \n",
       "Census_OSInstallLanguageIdentifier                      8.0000       9.0000   \n",
       "Census_OSUILocaleIdentifier                            31.0000      34.0000   \n",
       "Census_IsPortableOperatingSystem                        0.0000       0.0000   \n",
       "Census_IsFlightingInternal                              0.0000       0.0000   \n",
       "Census_IsFlightsDisabled                                0.0000       0.0000   \n",
       "Census_ThresholdOptIn                                   0.0000       0.0000   \n",
       "Census_FirmwareManufacturerIdentifier                 142.0000     500.0000   \n",
       "Census_FirmwareVersionIdentifier                    13156.0000   33070.0000   \n",
       "Census_IsSecureBootEnabled                              0.0000       0.0000   \n",
       "Census_IsWIMBootEnabled                                 0.0000       0.0000   \n",
       "Census_IsVirtualDevice                                  0.0000       0.0000   \n",
       "Census_IsTouchEnabled                                   0.0000       0.0000   \n",
       "Census_IsPenCapable                                     0.0000       0.0000   \n",
       "Census_IsAlwaysOnAlwaysConnectedCapable                 0.0000       0.0000   \n",
       "Wdft_IsGamer                                            0.0000       0.0000   \n",
       "Wdft_RegionIdentifier                                   3.0000      10.0000   \n",
       "HasDetections                                           0.0000       0.0000   \n",
       "\n",
       "                                                              75%  \\\n",
       "Unnamed: 0                                           6690936.0000   \n",
       "IsBeta                                                     0.0000   \n",
       "RtpStateBitfield                                           7.0000   \n",
       "IsSxsPassiveMode                                           0.0000   \n",
       "DefaultBrowsersIdentifier                               2381.0000   \n",
       "AVProductStatesIdentifier                              53447.0000   \n",
       "AVProductsInstalled                                        2.0000   \n",
       "AVProductsEnabled                                          1.0000   \n",
       "HasTpm                                                     1.0000   \n",
       "CountryIdentifier                                        162.0000   \n",
       "CityIdentifier                                        123939.5000   \n",
       "OrganizationIdentifier                                    27.0000   \n",
       "GeoNameIdentifier                                        267.0000   \n",
       "LocaleEnglishNameIdentifier                              182.0000   \n",
       "OsBuild                                                17134.0000   \n",
       "OsSuite                                                  768.0000   \n",
       "IsProtected                                                1.0000   \n",
       "AutoSampleOptIn                                            0.0000   \n",
       "SMode                                                      0.0000   \n",
       "IeVerIdentifier                                          137.0000   \n",
       "Firewall                                                   1.0000   \n",
       "UacLuaenable                                               1.0000   \n",
       "Census_OEMNameIdentifier                                2668.0000   \n",
       "Census_OEMModelIdentifier                             304438.0000   \n",
       "Census_ProcessorCoreCount                                  4.0000   \n",
       "Census_ProcessorManufacturerIdentifier                     5.0000   \n",
       "Census_ProcessorModelIdentifier                         2877.0000   \n",
       "Census_PrimaryDiskTotalCapacity                       953869.0000   \n",
       "Census_SystemVolumeTotalCapacity                      475981.0000   \n",
       "Census_HasOpticalDiskDrive                                 0.0000   \n",
       "Census_TotalPhysicalRAM                                 8192.0000   \n",
       "Census_InternalPrimaryDiagonalDisplaySizeInInches         17.2000   \n",
       "Census_InternalPrimaryDisplayResolutionHorizontal       1920.0000   \n",
       "Census_InternalPrimaryDisplayResolutionVertical         1080.0000   \n",
       "Census_InternalBatteryNumberOfCharges             4294967295.0000   \n",
       "Census_OSBuildNumber                                   17134.0000   \n",
       "Census_OSBuildRevision                                   547.0000   \n",
       "Census_OSInstallLanguageIdentifier                        20.0000   \n",
       "Census_OSUILocaleIdentifier                               90.0000   \n",
       "Census_IsPortableOperatingSystem                           0.0000   \n",
       "Census_IsFlightingInternal                                 0.0000   \n",
       "Census_IsFlightsDisabled                                   0.0000   \n",
       "Census_ThresholdOptIn                                      0.0000   \n",
       "Census_FirmwareManufacturerIdentifier                    556.0000   \n",
       "Census_FirmwareVersionIdentifier                       52436.0000   \n",
       "Census_IsSecureBootEnabled                                 1.0000   \n",
       "Census_IsWIMBootEnabled                                    0.0000   \n",
       "Census_IsVirtualDevice                                     0.0000   \n",
       "Census_IsTouchEnabled                                      0.0000   \n",
       "Census_IsPenCapable                                        0.0000   \n",
       "Census_IsAlwaysOnAlwaysConnectedCapable                    0.0000   \n",
       "Wdft_IsGamer                                               1.0000   \n",
       "Wdft_RegionIdentifier                                     11.0000   \n",
       "HasDetections                                              1.0000   \n",
       "\n",
       "                                                              max  \n",
       "Unnamed: 0                                           8921471.0000  \n",
       "IsBeta                                                     1.0000  \n",
       "RtpStateBitfield                                          35.0000  \n",
       "IsSxsPassiveMode                                           1.0000  \n",
       "DefaultBrowsersIdentifier                               3209.0000  \n",
       "AVProductStatesIdentifier                              70492.0000  \n",
       "AVProductsInstalled                                        5.0000  \n",
       "AVProductsEnabled                                          4.0000  \n",
       "HasTpm                                                     1.0000  \n",
       "CountryIdentifier                                        222.0000  \n",
       "CityIdentifier                                        167958.0000  \n",
       "OrganizationIdentifier                                    52.0000  \n",
       "GeoNameIdentifier                                        296.0000  \n",
       "LocaleEnglishNameIdentifier                              283.0000  \n",
       "OsBuild                                                18242.0000  \n",
       "OsSuite                                                  784.0000  \n",
       "IsProtected                                                1.0000  \n",
       "AutoSampleOptIn                                            1.0000  \n",
       "SMode                                                      1.0000  \n",
       "IeVerIdentifier                                          429.0000  \n",
       "Firewall                                                   1.0000  \n",
       "UacLuaenable                                         6357062.0000  \n",
       "Census_OEMNameIdentifier                                6143.0000  \n",
       "Census_OEMModelIdentifier                             345493.0000  \n",
       "Census_ProcessorCoreCount                                 88.0000  \n",
       "Census_ProcessorManufacturerIdentifier                    10.0000  \n",
       "Census_ProcessorModelIdentifier                         4472.0000  \n",
       "Census_PrimaryDiskTotalCapacity                     47687668.0000  \n",
       "Census_SystemVolumeTotalCapacity                    47687100.0000  \n",
       "Census_HasOpticalDiskDrive                                 1.0000  \n",
       "Census_TotalPhysicalRAM                               393216.0000  \n",
       "Census_InternalPrimaryDiagonalDisplaySizeInInches        142.0000  \n",
       "Census_InternalPrimaryDisplayResolutionHorizontal      11520.0000  \n",
       "Census_InternalPrimaryDisplayResolutionVertical         4320.0000  \n",
       "Census_InternalBatteryNumberOfCharges             4294967295.0000  \n",
       "Census_OSBuildNumber                                   18242.0000  \n",
       "Census_OSBuildRevision                                 19069.0000  \n",
       "Census_OSInstallLanguageIdentifier                        39.0000  \n",
       "Census_OSUILocaleIdentifier                              162.0000  \n",
       "Census_IsPortableOperatingSystem                           1.0000  \n",
       "Census_IsFlightingInternal                                 1.0000  \n",
       "Census_IsFlightsDisabled                                   1.0000  \n",
       "Census_ThresholdOptIn                                      1.0000  \n",
       "Census_FirmwareManufacturerIdentifier                   1084.0000  \n",
       "Census_FirmwareVersionIdentifier                       72091.0000  \n",
       "Census_IsSecureBootEnabled                                 1.0000  \n",
       "Census_IsWIMBootEnabled                                    0.0000  \n",
       "Census_IsVirtualDevice                                     1.0000  \n",
       "Census_IsTouchEnabled                                      1.0000  \n",
       "Census_IsPenCapable                                        1.0000  \n",
       "Census_IsAlwaysOnAlwaysConnectedCapable                    1.0000  \n",
       "Wdft_IsGamer                                               1.0000  \n",
       "Wdft_RegionIdentifier                                     15.0000  \n",
       "HasDetections                                              1.0000  "
      ]
     },
     "execution_count": 4,
     "metadata": {},
     "output_type": "execute_result"
    }
   ],
   "source": [
    "df.describe().T"
   ]
  },
  {
   "cell_type": "markdown",
   "metadata": {},
   "source": [
    "### \"Unnamed: 0\""
   ]
  },
  {
   "cell_type": "code",
   "execution_count": 5,
   "metadata": {},
   "outputs": [
    {
     "data": {
      "text/plain": [
       "Unnamed: 0\n",
       "8427007    1\n",
       "4076126    1\n",
       "7315011    1\n",
       "7257590    1\n",
       "4851285    1\n",
       "          ..\n",
       "3391674    1\n",
       "6246089    1\n",
       "42434      1\n",
       "7181890    1\n",
       "4295573    1\n",
       "Name: count, Length: 500000, dtype: int64"
      ]
     },
     "execution_count": 5,
     "metadata": {},
     "output_type": "execute_result"
    }
   ],
   "source": [
    "df[\"Unnamed: 0\"].value_counts()"
   ]
  },
  {
   "cell_type": "code",
   "execution_count": 6,
   "metadata": {},
   "outputs": [
    {
     "data": {
      "text/plain": [
       "500000"
      ]
     },
     "execution_count": 6,
     "metadata": {},
     "output_type": "execute_result"
    }
   ],
   "source": [
    "df[\"Unnamed: 0\"].nunique()"
   ]
  },
  {
   "cell_type": "markdown",
   "metadata": {},
   "source": [
    "Podemos ver que la columna \"Unnamed: 0\" contiene valores unicos que no se repiten, por lo que podemos suponer que a lo mejor puede ser algun tipo de indice interno que tiene la BBDD, por lo que prescindiremos de esta columna"
   ]
  },
  {
   "cell_type": "code",
   "execution_count": 7,
   "metadata": {},
   "outputs": [],
   "source": [
    "del_columns.append(\"Unnamed: 0\")"
   ]
  },
  {
   "cell_type": "markdown",
   "metadata": {},
   "source": [
    "### \"MachineIdentifier\""
   ]
  },
  {
   "cell_type": "code",
   "execution_count": 8,
   "metadata": {},
   "outputs": [
    {
     "data": {
      "text/plain": [
       "MachineIdentifier\n",
       "f1cd864e97bae82bdf96523e1a539121    1\n",
       "74f5f637add24668804961d81cca7697    1\n",
       "d1e0560ad7cd178b32599edb67142737    1\n",
       "d03a6fb0852e2ad3380e689a80d23273    1\n",
       "8b3a780e6980a83b1650e7fc873dcfd1    1\n",
       "                                   ..\n",
       "6154953dc05531cad9fb680cf39990b4    1\n",
       "b345b8ccc72ba43e7417b2018fb61444    1\n",
       "013b44e10f97fa8f71b6b76e24323d51    1\n",
       "ce0e5ba490a2455a87d09184b9bbd578    1\n",
       "7b45dc3537e17f16305c5983ca0a1cb9    1\n",
       "Name: count, Length: 500000, dtype: int64"
      ]
     },
     "execution_count": 8,
     "metadata": {},
     "output_type": "execute_result"
    }
   ],
   "source": [
    "df[\"MachineIdentifier\"].value_counts()"
   ]
  },
  {
   "cell_type": "code",
   "execution_count": 9,
   "metadata": {},
   "outputs": [
    {
     "data": {
      "text/plain": [
       "500000"
      ]
     },
     "execution_count": 9,
     "metadata": {},
     "output_type": "execute_result"
    }
   ],
   "source": [
    "df[\"MachineIdentifier\"].nunique()"
   ]
  },
  {
   "cell_type": "markdown",
   "metadata": {},
   "source": [
    "Podemos ver que en esta columna ocurre algo parecido, todos los valores son distintos y por el nombre de la columna podemos saber que contiene el identificador de los dispositivos, por lo que prescindiremos de esta columna"
   ]
  },
  {
   "cell_type": "code",
   "execution_count": 10,
   "metadata": {},
   "outputs": [],
   "source": [
    "del_columns.append(\"MachineIdentifier\")"
   ]
  },
  {
   "cell_type": "markdown",
   "metadata": {},
   "source": [
    "### \"ProductName\""
   ]
  },
  {
   "cell_type": "code",
   "execution_count": 11,
   "metadata": {},
   "outputs": [
    {
     "data": {
      "text/plain": [
       "ProductName\n",
       "win8defender     494604\n",
       "mse                5395\n",
       "mseprerelease         1\n",
       "Name: count, dtype: int64"
      ]
     },
     "execution_count": 11,
     "metadata": {},
     "output_type": "execute_result"
    }
   ],
   "source": [
    "df[\"ProductName\"].value_counts()"
   ]
  },
  {
   "cell_type": "code",
   "execution_count": 12,
   "metadata": {},
   "outputs": [
    {
     "data": {
      "text/plain": [
       "ProductName\n",
       "win8defender    0.9892\n",
       "mse             0.0108\n",
       "mseprerelease   0.0000\n",
       "Name: count, dtype: float64"
      ]
     },
     "execution_count": 12,
     "metadata": {},
     "output_type": "execute_result"
    }
   ],
   "source": [
    "df[\"ProductName\"].value_counts()/df.shape[0]"
   ]
  },
  {
   "cell_type": "markdown",
   "metadata": {},
   "source": [
    "Podemos ver que tenemos 3 valores distintos, pero el valor win8defender aparece 98% de las veces"
   ]
  },
  {
   "cell_type": "code",
   "execution_count": 13,
   "metadata": {},
   "outputs": [
    {
     "data": {
      "text/plain": [
       "<Axes: >"
      ]
     },
     "execution_count": 13,
     "metadata": {},
     "output_type": "execute_result"
    },
    {
     "data": {
      "image/png": "[encoded data removed]",
      "text/plain": [
       "<Figure size 640x480 with 1 Axes>"
      ]
     },
     "metadata": {},
     "output_type": "display_data"
    }
   ],
   "source": [
    "df[\"ProductName\"].hist()"
   ]
  },
  {
   "cell_type": "markdown",
   "metadata": {},
   "source": [
    "#### DELETE para ver"
   ]
  },
  {
   "cell_type": "markdown",
   "metadata": {},
   "source": [
    "### \"EngineVersion\""
   ]
  },
  {
   "cell_type": "code",
   "execution_count": 14,
   "metadata": {},
   "outputs": [
    {
     "data": {
      "text/plain": [
       "EngineVersion\n",
       "1.1.10401.0         1\n",
       "1.1.11701.0         3\n",
       "1.1.12101.0         7\n",
       "1.1.12400.0         1\n",
       "1.1.12603.0         3\n",
       "1.1.12706.0         1\n",
       "1.1.12804.0         4\n",
       "1.1.12805.0       115\n",
       "1.1.12902.0       321\n",
       "1.1.13000.0       220\n",
       "1.1.13102.0         1\n",
       "1.1.13103.0       235\n",
       "1.1.13202.0       245\n",
       "1.1.13303.0       516\n",
       "1.1.13406.0         1\n",
       "1.1.13407.0       479\n",
       "1.1.13504.0      3876\n",
       "1.1.13601.0       420\n",
       "1.1.13701.0       255\n",
       "1.1.13704.0       255\n",
       "1.1.13802.0         4\n",
       "1.1.13803.0         3\n",
       "1.1.13804.0       513\n",
       "1.1.13902.0         4\n",
       "1.1.13903.0       515\n",
       "1.1.14001.0         2\n",
       "1.1.14002.0         2\n",
       "1.1.14003.0       804\n",
       "1.1.14102.0         2\n",
       "1.1.14103.0         5\n",
       "1.1.14104.0      5240\n",
       "1.1.14201.0        11\n",
       "1.1.14202.0       840\n",
       "1.1.14303.0        10\n",
       "1.1.14305.0       270\n",
       "1.1.14306.0      1329\n",
       "1.1.14405.2      1972\n",
       "1.1.14500.2        19\n",
       "1.1.14500.5      2591\n",
       "1.1.14600.4      9005\n",
       "1.1.14700.3        61\n",
       "1.1.14700.4        65\n",
       "1.1.14700.5      2593\n",
       "1.1.14800.1        51\n",
       "1.1.14800.3      7548\n",
       "1.1.14901.3        71\n",
       "1.1.14901.4     11984\n",
       "1.1.15000.1       138\n",
       "1.1.15000.2     14752\n",
       "1.1.15100.1    205494\n",
       "1.1.15200.1    216491\n",
       "1.1.15300.5      3883\n",
       "1.1.15300.6      6769\n",
       "Name: count, dtype: int64"
      ]
     },
     "execution_count": 14,
     "metadata": {},
     "output_type": "execute_result"
    }
   ],
   "source": [
    "df[\"EngineVersion\"].value_counts().sort_index()"
   ]
  },
  {
   "cell_type": "markdown",
   "metadata": {},
   "source": [
    "Vemos que hay varios valores en esta columna, ahora comprobaremos si el EngineVersion tiene que ver con la columna ProductName"
   ]
  },
  {
   "cell_type": "code",
   "execution_count": 15,
   "metadata": {},
   "outputs": [
    {
     "data": {
      "text/plain": [
       "EngineVersion\n",
       "1.1.15200.1    2477\n",
       "1.1.15100.1    2246\n",
       "1.1.15000.2     223\n",
       "1.1.14901.4     152\n",
       "1.1.14800.3      84\n",
       "1.1.15300.6      61\n",
       "1.1.14700.5      33\n",
       "1.1.14600.4      26\n",
       "1.1.14306.0      25\n",
       "1.1.14500.5      16\n",
       "1.1.14405.2      14\n",
       "1.1.14202.0      10\n",
       "1.1.14305.0       6\n",
       "1.1.14003.0       4\n",
       "1.1.13601.0       2\n",
       "1.1.13903.0       2\n",
       "1.1.13804.0       2\n",
       "1.1.14104.0       2\n",
       "1.1.15300.5       1\n",
       "1.1.13407.0       1\n",
       "1.1.13000.0       1\n",
       "1.1.13504.0       1\n",
       "1.1.13202.0       1\n",
       "1.1.12902.0       1\n",
       "1.1.14700.4       1\n",
       "1.1.13704.0       1\n",
       "1.1.14800.1       1\n",
       "1.1.14700.3       1\n",
       "Name: count, dtype: int64"
      ]
     },
     "execution_count": 15,
     "metadata": {},
     "output_type": "execute_result"
    }
   ],
   "source": [
    "df[df[\"ProductName\"] == \"mse\"][\"EngineVersion\"].value_counts()"
   ]
  },
  {
   "cell_type": "code",
   "execution_count": 16,
   "metadata": {},
   "outputs": [
    {
     "data": {
      "text/html": [
       "<div>\n",
       "<style scoped>\n",
       "    .dataframe tbody tr th:only-of-type {\n",
       "        vertical-align: middle;\n",
       "    }\n",
       "\n",
       "    .dataframe tbody tr th {\n",
       "        vertical-align: top;\n",
       "    }\n",
       "\n",
       "    .dataframe thead th {\n",
       "        text-align: right;\n",
       "    }\n",
       "</style>\n",
       "<table border=\"1\" class=\"dataframe\">\n",
       "  <thead>\n",
       "    <tr style=\"text-align: right;\">\n",
       "      <th></th>\n",
       "      <th>Unnamed: 0</th>\n",
       "      <th>MachineIdentifier</th>\n",
       "      <th>ProductName</th>\n",
       "      <th>EngineVersion</th>\n",
       "      <th>AppVersion</th>\n",
       "      <th>AvSigVersion</th>\n",
       "      <th>IsBeta</th>\n",
       "      <th>RtpStateBitfield</th>\n",
       "      <th>IsSxsPassiveMode</th>\n",
       "      <th>DefaultBrowsersIdentifier</th>\n",
       "      <th>...</th>\n",
       "      <th>Census_FirmwareVersionIdentifier</th>\n",
       "      <th>Census_IsSecureBootEnabled</th>\n",
       "      <th>Census_IsWIMBootEnabled</th>\n",
       "      <th>Census_IsVirtualDevice</th>\n",
       "      <th>Census_IsTouchEnabled</th>\n",
       "      <th>Census_IsPenCapable</th>\n",
       "      <th>Census_IsAlwaysOnAlwaysConnectedCapable</th>\n",
       "      <th>Wdft_IsGamer</th>\n",
       "      <th>Wdft_RegionIdentifier</th>\n",
       "      <th>HasDetections</th>\n",
       "    </tr>\n",
       "  </thead>\n",
       "  <tbody>\n",
       "    <tr>\n",
       "      <th>0</th>\n",
       "      <td>8427007</td>\n",
       "      <td>f1cd864e97bae82bdf96523e1a539121</td>\n",
       "      <td>win8defender</td>\n",
       "      <td>1.1.15100.1</td>\n",
       "      <td>4.18.1807.18075</td>\n",
       "      <td>1.273.1234.0</td>\n",
       "      <td>0</td>\n",
       "      <td>7.0000</td>\n",
       "      <td>0</td>\n",
       "      <td>NaN</td>\n",
       "      <td>...</td>\n",
       "      <td>19951.0000</td>\n",
       "      <td>0</td>\n",
       "      <td>NaN</td>\n",
       "      <td>0.0000</td>\n",
       "      <td>0</td>\n",
       "      <td>0</td>\n",
       "      <td>0.0000</td>\n",
       "      <td>0.0000</td>\n",
       "      <td>11.0000</td>\n",
       "      <td>1</td>\n",
       "    </tr>\n",
       "    <tr>\n",
       "      <th>1</th>\n",
       "      <td>8829090</td>\n",
       "      <td>fd5ba6f5b75325ec0423a6c67cc75942</td>\n",
       "      <td>win8defender</td>\n",
       "      <td>1.1.15100.1</td>\n",
       "      <td>4.18.1807.18075</td>\n",
       "      <td>1.273.1282.0</td>\n",
       "      <td>0</td>\n",
       "      <td>7.0000</td>\n",
       "      <td>0</td>\n",
       "      <td>NaN</td>\n",
       "      <td>...</td>\n",
       "      <td>48753.0000</td>\n",
       "      <td>0</td>\n",
       "      <td>0.0000</td>\n",
       "      <td>0.0000</td>\n",
       "      <td>0</td>\n",
       "      <td>0</td>\n",
       "      <td>0.0000</td>\n",
       "      <td>1.0000</td>\n",
       "      <td>3.0000</td>\n",
       "      <td>0</td>\n",
       "    </tr>\n",
       "    <tr>\n",
       "      <th>2</th>\n",
       "      <td>2731904</td>\n",
       "      <td>4e628391e7cc7c482fb3286f486dbd25</td>\n",
       "      <td>win8defender</td>\n",
       "      <td>1.1.15100.1</td>\n",
       "      <td>4.9.10586.1106</td>\n",
       "      <td>1.273.781.0</td>\n",
       "      <td>0</td>\n",
       "      <td>7.0000</td>\n",
       "      <td>0</td>\n",
       "      <td>NaN</td>\n",
       "      <td>...</td>\n",
       "      <td>33111.0000</td>\n",
       "      <td>1</td>\n",
       "      <td>0.0000</td>\n",
       "      <td>0.0000</td>\n",
       "      <td>1</td>\n",
       "      <td>1</td>\n",
       "      <td>0.0000</td>\n",
       "      <td>0.0000</td>\n",
       "      <td>15.0000</td>\n",
       "      <td>0</td>\n",
       "    </tr>\n",
       "    <tr>\n",
       "      <th>7</th>\n",
       "      <td>985557</td>\n",
       "      <td>1c4ec21828b563afb6b0aa72ef88926d</td>\n",
       "      <td>win8defender</td>\n",
       "      <td>1.1.15100.1</td>\n",
       "      <td>4.18.1806.18062</td>\n",
       "      <td>1.273.293.0</td>\n",
       "      <td>0</td>\n",
       "      <td>7.0000</td>\n",
       "      <td>0</td>\n",
       "      <td>NaN</td>\n",
       "      <td>...</td>\n",
       "      <td>NaN</td>\n",
       "      <td>0</td>\n",
       "      <td>NaN</td>\n",
       "      <td>0.0000</td>\n",
       "      <td>0</td>\n",
       "      <td>0</td>\n",
       "      <td>0.0000</td>\n",
       "      <td>0.0000</td>\n",
       "      <td>7.0000</td>\n",
       "      <td>1</td>\n",
       "    </tr>\n",
       "    <tr>\n",
       "      <th>8</th>\n",
       "      <td>387390</td>\n",
       "      <td>0b247aa88737776d0f88ce4dee447216</td>\n",
       "      <td>win8defender</td>\n",
       "      <td>1.1.15100.1</td>\n",
       "      <td>4.18.1807.18075</td>\n",
       "      <td>1.273.418.0</td>\n",
       "      <td>0</td>\n",
       "      <td>7.0000</td>\n",
       "      <td>0</td>\n",
       "      <td>NaN</td>\n",
       "      <td>...</td>\n",
       "      <td>20106.0000</td>\n",
       "      <td>1</td>\n",
       "      <td>NaN</td>\n",
       "      <td>0.0000</td>\n",
       "      <td>0</td>\n",
       "      <td>0</td>\n",
       "      <td>0.0000</td>\n",
       "      <td>0.0000</td>\n",
       "      <td>3.0000</td>\n",
       "      <td>0</td>\n",
       "    </tr>\n",
       "    <tr>\n",
       "      <th>...</th>\n",
       "      <td>...</td>\n",
       "      <td>...</td>\n",
       "      <td>...</td>\n",
       "      <td>...</td>\n",
       "      <td>...</td>\n",
       "      <td>...</td>\n",
       "      <td>...</td>\n",
       "      <td>...</td>\n",
       "      <td>...</td>\n",
       "      <td>...</td>\n",
       "      <td>...</td>\n",
       "      <td>...</td>\n",
       "      <td>...</td>\n",
       "      <td>...</td>\n",
       "      <td>...</td>\n",
       "      <td>...</td>\n",
       "      <td>...</td>\n",
       "      <td>...</td>\n",
       "      <td>...</td>\n",
       "      <td>...</td>\n",
       "      <td>...</td>\n",
       "    </tr>\n",
       "    <tr>\n",
       "      <th>499991</th>\n",
       "      <td>2159235</td>\n",
       "      <td>3df610b8bec46c7af0dd50c74756bf7e</td>\n",
       "      <td>win8defender</td>\n",
       "      <td>1.1.15100.1</td>\n",
       "      <td>4.18.1806.18062</td>\n",
       "      <td>1.273.520.0</td>\n",
       "      <td>0</td>\n",
       "      <td>7.0000</td>\n",
       "      <td>0</td>\n",
       "      <td>NaN</td>\n",
       "      <td>...</td>\n",
       "      <td>12303.0000</td>\n",
       "      <td>1</td>\n",
       "      <td>NaN</td>\n",
       "      <td>0.0000</td>\n",
       "      <td>0</td>\n",
       "      <td>0</td>\n",
       "      <td>0.0000</td>\n",
       "      <td>1.0000</td>\n",
       "      <td>3.0000</td>\n",
       "      <td>0</td>\n",
       "    </tr>\n",
       "    <tr>\n",
       "      <th>499993</th>\n",
       "      <td>7526638</td>\n",
       "      <td>d7f1b593177768d66a2905b09a43a4d5</td>\n",
       "      <td>win8defender</td>\n",
       "      <td>1.1.15100.1</td>\n",
       "      <td>4.18.1807.18075</td>\n",
       "      <td>1.273.1420.0</td>\n",
       "      <td>0</td>\n",
       "      <td>7.0000</td>\n",
       "      <td>0</td>\n",
       "      <td>NaN</td>\n",
       "      <td>...</td>\n",
       "      <td>12164.0000</td>\n",
       "      <td>0</td>\n",
       "      <td>0.0000</td>\n",
       "      <td>0.0000</td>\n",
       "      <td>0</td>\n",
       "      <td>0</td>\n",
       "      <td>0.0000</td>\n",
       "      <td>0.0000</td>\n",
       "      <td>7.0000</td>\n",
       "      <td>0</td>\n",
       "    </tr>\n",
       "    <tr>\n",
       "      <th>499996</th>\n",
       "      <td>5740034</td>\n",
       "      <td>a4c232d528d98343e8f1b73650da7b82</td>\n",
       "      <td>win8defender</td>\n",
       "      <td>1.1.15100.1</td>\n",
       "      <td>4.18.1807.18075</td>\n",
       "      <td>1.273.1620.0</td>\n",
       "      <td>0</td>\n",
       "      <td>7.0000</td>\n",
       "      <td>0</td>\n",
       "      <td>NaN</td>\n",
       "      <td>...</td>\n",
       "      <td>NaN</td>\n",
       "      <td>0</td>\n",
       "      <td>NaN</td>\n",
       "      <td>0.0000</td>\n",
       "      <td>0</td>\n",
       "      <td>0</td>\n",
       "      <td>0.0000</td>\n",
       "      <td>0.0000</td>\n",
       "      <td>15.0000</td>\n",
       "      <td>0</td>\n",
       "    </tr>\n",
       "    <tr>\n",
       "      <th>499998</th>\n",
       "      <td>8713685</td>\n",
       "      <td>fa0841f8f6147de7c3d287e05270ed42</td>\n",
       "      <td>win8defender</td>\n",
       "      <td>1.1.15100.1</td>\n",
       "      <td>4.14.17639.18041</td>\n",
       "      <td>1.273.483.0</td>\n",
       "      <td>0</td>\n",
       "      <td>7.0000</td>\n",
       "      <td>0</td>\n",
       "      <td>NaN</td>\n",
       "      <td>...</td>\n",
       "      <td>11947.0000</td>\n",
       "      <td>0</td>\n",
       "      <td>NaN</td>\n",
       "      <td>0.0000</td>\n",
       "      <td>0</td>\n",
       "      <td>0</td>\n",
       "      <td>0.0000</td>\n",
       "      <td>0.0000</td>\n",
       "      <td>1.0000</td>\n",
       "      <td>0</td>\n",
       "    </tr>\n",
       "    <tr>\n",
       "      <th>499999</th>\n",
       "      <td>4295573</td>\n",
       "      <td>7b45dc3537e17f16305c5983ca0a1cb9</td>\n",
       "      <td>win8defender</td>\n",
       "      <td>1.1.15100.1</td>\n",
       "      <td>4.18.1807.18075</td>\n",
       "      <td>1.273.1644.0</td>\n",
       "      <td>0</td>\n",
       "      <td>7.0000</td>\n",
       "      <td>0</td>\n",
       "      <td>NaN</td>\n",
       "      <td>...</td>\n",
       "      <td>12103.0000</td>\n",
       "      <td>0</td>\n",
       "      <td>NaN</td>\n",
       "      <td>0.0000</td>\n",
       "      <td>0</td>\n",
       "      <td>0</td>\n",
       "      <td>0.0000</td>\n",
       "      <td>1.0000</td>\n",
       "      <td>4.0000</td>\n",
       "      <td>1</td>\n",
       "    </tr>\n",
       "  </tbody>\n",
       "</table>\n",
       "<p>205494 rows × 84 columns</p>\n",
       "</div>"
      ],
      "text/plain": [
       "        Unnamed: 0                 MachineIdentifier   ProductName  \\\n",
       "0          8427007  f1cd864e97bae82bdf96523e1a539121  win8defender   \n",
       "1          8829090  fd5ba6f5b75325ec0423a6c67cc75942  win8defender   \n",
       "2          2731904  4e628391e7cc7c482fb3286f486dbd25  win8defender   \n",
       "7           985557  1c4ec21828b563afb6b0aa72ef88926d  win8defender   \n",
       "8           387390  0b247aa88737776d0f88ce4dee447216  win8defender   \n",
       "...            ...                               ...           ...   \n",
       "499991     2159235  3df610b8bec46c7af0dd50c74756bf7e  win8defender   \n",
       "499993     7526638  d7f1b593177768d66a2905b09a43a4d5  win8defender   \n",
       "499996     5740034  a4c232d528d98343e8f1b73650da7b82  win8defender   \n",
       "499998     8713685  fa0841f8f6147de7c3d287e05270ed42  win8defender   \n",
       "499999     4295573  7b45dc3537e17f16305c5983ca0a1cb9  win8defender   \n",
       "\n",
       "       EngineVersion        AppVersion  AvSigVersion  IsBeta  \\\n",
       "0        1.1.15100.1   4.18.1807.18075  1.273.1234.0       0   \n",
       "1        1.1.15100.1   4.18.1807.18075  1.273.1282.0       0   \n",
       "2        1.1.15100.1    4.9.10586.1106   1.273.781.0       0   \n",
       "7        1.1.15100.1   4.18.1806.18062   1.273.293.0       0   \n",
       "8        1.1.15100.1   4.18.1807.18075   1.273.418.0       0   \n",
       "...              ...               ...           ...     ...   \n",
       "499991   1.1.15100.1   4.18.1806.18062   1.273.520.0       0   \n",
       "499993   1.1.15100.1   4.18.1807.18075  1.273.1420.0       0   \n",
       "499996   1.1.15100.1   4.18.1807.18075  1.273.1620.0       0   \n",
       "499998   1.1.15100.1  4.14.17639.18041   1.273.483.0       0   \n",
       "499999   1.1.15100.1   4.18.1807.18075  1.273.1644.0       0   \n",
       "\n",
       "        RtpStateBitfield  IsSxsPassiveMode  DefaultBrowsersIdentifier  ...  \\\n",
       "0                 7.0000                 0                        NaN  ...   \n",
       "1                 7.0000                 0                        NaN  ...   \n",
       "2                 7.0000                 0                        NaN  ...   \n",
       "7                 7.0000                 0                        NaN  ...   \n",
       "8                 7.0000                 0                        NaN  ...   \n",
       "...                  ...               ...                        ...  ...   \n",
       "499991            7.0000                 0                        NaN  ...   \n",
       "499993            7.0000                 0                        NaN  ...   \n",
       "499996            7.0000                 0                        NaN  ...   \n",
       "499998            7.0000                 0                        NaN  ...   \n",
       "499999            7.0000                 0                        NaN  ...   \n",
       "\n",
       "        Census_FirmwareVersionIdentifier  Census_IsSecureBootEnabled  \\\n",
       "0                             19951.0000                           0   \n",
       "1                             48753.0000                           0   \n",
       "2                             33111.0000                           1   \n",
       "7                                    NaN                           0   \n",
       "8                             20106.0000                           1   \n",
       "...                                  ...                         ...   \n",
       "499991                        12303.0000                           1   \n",
       "499993                        12164.0000                           0   \n",
       "499996                               NaN                           0   \n",
       "499998                        11947.0000                           0   \n",
       "499999                        12103.0000                           0   \n",
       "\n",
       "        Census_IsWIMBootEnabled  Census_IsVirtualDevice  \\\n",
       "0                           NaN                  0.0000   \n",
       "1                        0.0000                  0.0000   \n",
       "2                        0.0000                  0.0000   \n",
       "7                           NaN                  0.0000   \n",
       "8                           NaN                  0.0000   \n",
       "...                         ...                     ...   \n",
       "499991                      NaN                  0.0000   \n",
       "499993                   0.0000                  0.0000   \n",
       "499996                      NaN                  0.0000   \n",
       "499998                      NaN                  0.0000   \n",
       "499999                      NaN                  0.0000   \n",
       "\n",
       "        Census_IsTouchEnabled  Census_IsPenCapable  \\\n",
       "0                           0                    0   \n",
       "1                           0                    0   \n",
       "2                           1                    1   \n",
       "7                           0                    0   \n",
       "8                           0                    0   \n",
       "...                       ...                  ...   \n",
       "499991                      0                    0   \n",
       "499993                      0                    0   \n",
       "499996                      0                    0   \n",
       "499998                      0                    0   \n",
       "499999                      0                    0   \n",
       "\n",
       "        Census_IsAlwaysOnAlwaysConnectedCapable  Wdft_IsGamer  \\\n",
       "0                                        0.0000        0.0000   \n",
       "1                                        0.0000        1.0000   \n",
       "2                                        0.0000        0.0000   \n",
       "7                                        0.0000        0.0000   \n",
       "8                                        0.0000        0.0000   \n",
       "...                                         ...           ...   \n",
       "499991                                   0.0000        1.0000   \n",
       "499993                                   0.0000        0.0000   \n",
       "499996                                   0.0000        0.0000   \n",
       "499998                                   0.0000        0.0000   \n",
       "499999                                   0.0000        1.0000   \n",
       "\n",
       "        Wdft_RegionIdentifier HasDetections  \n",
       "0                     11.0000             1  \n",
       "1                      3.0000             0  \n",
       "2                     15.0000             0  \n",
       "7                      7.0000             1  \n",
       "8                      3.0000             0  \n",
       "...                       ...           ...  \n",
       "499991                 3.0000             0  \n",
       "499993                 7.0000             0  \n",
       "499996                15.0000             0  \n",
       "499998                 1.0000             0  \n",
       "499999                 4.0000             1  \n",
       "\n",
       "[205494 rows x 84 columns]"
      ]
     },
     "execution_count": 16,
     "metadata": {},
     "output_type": "execute_result"
    }
   ],
   "source": [
    "df[df[\"EngineVersion\"] == \"1.1.15100.1\"]"
   ]
  },
  {
   "cell_type": "markdown",
   "metadata": {},
   "source": [
    "Por lo que podemos ver no tienen nada que ver por lo que puede llegar a ser interesante mantenerla, además, podríamos elimnar el ultimo número de la versión para poder agruparlas un poco más"
   ]
  },
  {
   "cell_type": "code",
   "execution_count": 17,
   "metadata": {},
   "outputs": [],
   "source": [
    "df[\"EngineVersion_trimmed\"] = df[\"EngineVersion\"].str.rsplit(\".\", n=1).str[0]\n",
    "\n",
    "del_columns.append(\"EngineVersion\")"
   ]
  },
  {
   "cell_type": "code",
   "execution_count": 18,
   "metadata": {},
   "outputs": [
    {
     "data": {
      "text/plain": [
       "EngineVersion_trimmed\n",
       "1.1.10401         1\n",
       "1.1.11701         3\n",
       "1.1.12101         7\n",
       "1.1.12400         1\n",
       "1.1.12603         3\n",
       "1.1.12706         1\n",
       "1.1.12804         4\n",
       "1.1.12805       115\n",
       "1.1.12902       321\n",
       "1.1.13000       220\n",
       "1.1.13102         1\n",
       "1.1.13103       235\n",
       "1.1.13202       245\n",
       "1.1.13303       516\n",
       "1.1.13406         1\n",
       "1.1.13407       479\n",
       "1.1.13504      3876\n",
       "1.1.13601       420\n",
       "1.1.13701       255\n",
       "1.1.13704       255\n",
       "1.1.13802         4\n",
       "1.1.13803         3\n",
       "1.1.13804       513\n",
       "1.1.13902         4\n",
       "1.1.13903       515\n",
       "1.1.14001         2\n",
       "1.1.14002         2\n",
       "1.1.14003       804\n",
       "1.1.14102         2\n",
       "1.1.14103         5\n",
       "1.1.14104      5240\n",
       "1.1.14201        11\n",
       "1.1.14202       840\n",
       "1.1.14303        10\n",
       "1.1.14305       270\n",
       "1.1.14306      1329\n",
       "1.1.14405      1972\n",
       "1.1.14500      2610\n",
       "1.1.14600      9005\n",
       "1.1.14700      2719\n",
       "1.1.14800      7599\n",
       "1.1.14901     12055\n",
       "1.1.15000     14890\n",
       "1.1.15100    205494\n",
       "1.1.15200    216491\n",
       "1.1.15300     10652\n",
       "Name: count, dtype: int64"
      ]
     },
     "execution_count": 18,
     "metadata": {},
     "output_type": "execute_result"
    }
   ],
   "source": [
    "df[\"EngineVersion_trimmed\"].value_counts().sort_index()"
   ]
  },
  {
   "cell_type": "markdown",
   "metadata": {},
   "source": [
    "### \"AppVersion\""
   ]
  },
  {
   "cell_type": "code",
   "execution_count": 19,
   "metadata": {},
   "outputs": [
    {
     "data": {
      "text/plain": [
       "AppVersion\n",
       "4.10.14393.0       4399\n",
       "4.10.14393.1066     404\n",
       "4.10.14393.1198    1271\n",
       "4.10.14393.1532       7\n",
       "4.10.14393.1593     536\n",
       "                   ... \n",
       "4.9.10586.873       228\n",
       "4.9.10586.916       311\n",
       "4.9.10586.962       262\n",
       "4.9.10586.965       266\n",
       "4.9.218.0           334\n",
       "Name: count, Length: 95, dtype: int64"
      ]
     },
     "execution_count": 19,
     "metadata": {},
     "output_type": "execute_result"
    }
   ],
   "source": [
    "df[\"AppVersion\"].value_counts().sort_index()"
   ]
  },
  {
   "cell_type": "code",
   "execution_count": 20,
   "metadata": {},
   "outputs": [
    {
     "data": {
      "text/plain": [
       "AppVersion\n",
       "4.10.209.0    4843\n",
       "4.9.218.0      334\n",
       "4.8.204.0       96\n",
       "4.10.205.0      49\n",
       "4.7.205.0       24\n",
       "4.4.304.0       24\n",
       "4.6.305.0       15\n",
       "4.5.216.0       10\n",
       "Name: count, dtype: int64"
      ]
     },
     "execution_count": 20,
     "metadata": {},
     "output_type": "execute_result"
    }
   ],
   "source": [
    "df[df[\"ProductName\"] == \"mse\"][\"AppVersion\"].value_counts()"
   ]
  },
  {
   "cell_type": "code",
   "execution_count": 21,
   "metadata": {},
   "outputs": [
    {
     "data": {
      "text/html": [
       "<div>\n",
       "<style scoped>\n",
       "    .dataframe tbody tr th:only-of-type {\n",
       "        vertical-align: middle;\n",
       "    }\n",
       "\n",
       "    .dataframe tbody tr th {\n",
       "        vertical-align: top;\n",
       "    }\n",
       "\n",
       "    .dataframe thead th {\n",
       "        text-align: right;\n",
       "    }\n",
       "</style>\n",
       "<table border=\"1\" class=\"dataframe\">\n",
       "  <thead>\n",
       "    <tr style=\"text-align: right;\">\n",
       "      <th></th>\n",
       "      <th>Unnamed: 0</th>\n",
       "      <th>MachineIdentifier</th>\n",
       "      <th>ProductName</th>\n",
       "      <th>EngineVersion</th>\n",
       "      <th>AppVersion</th>\n",
       "      <th>AvSigVersion</th>\n",
       "      <th>IsBeta</th>\n",
       "      <th>RtpStateBitfield</th>\n",
       "      <th>IsSxsPassiveMode</th>\n",
       "      <th>DefaultBrowsersIdentifier</th>\n",
       "      <th>...</th>\n",
       "      <th>Census_IsSecureBootEnabled</th>\n",
       "      <th>Census_IsWIMBootEnabled</th>\n",
       "      <th>Census_IsVirtualDevice</th>\n",
       "      <th>Census_IsTouchEnabled</th>\n",
       "      <th>Census_IsPenCapable</th>\n",
       "      <th>Census_IsAlwaysOnAlwaysConnectedCapable</th>\n",
       "      <th>Wdft_IsGamer</th>\n",
       "      <th>Wdft_RegionIdentifier</th>\n",
       "      <th>HasDetections</th>\n",
       "      <th>EngineVersion_trimmed</th>\n",
       "    </tr>\n",
       "  </thead>\n",
       "  <tbody>\n",
       "    <tr>\n",
       "      <th>87</th>\n",
       "      <td>3560007</td>\n",
       "      <td>662ca74a64aa88d371f2c7cfe6a2c890</td>\n",
       "      <td>win8defender</td>\n",
       "      <td>1.1.14405.2</td>\n",
       "      <td>4.10.209.0</td>\n",
       "      <td>1.259.1414.0</td>\n",
       "      <td>0</td>\n",
       "      <td>7.0000</td>\n",
       "      <td>0</td>\n",
       "      <td>223.0000</td>\n",
       "      <td>...</td>\n",
       "      <td>0</td>\n",
       "      <td>0.0000</td>\n",
       "      <td>0.0000</td>\n",
       "      <td>0</td>\n",
       "      <td>0</td>\n",
       "      <td>0.0000</td>\n",
       "      <td>0.0000</td>\n",
       "      <td>12.0000</td>\n",
       "      <td>1</td>\n",
       "      <td>1.1.14405</td>\n",
       "    </tr>\n",
       "    <tr>\n",
       "      <th>121</th>\n",
       "      <td>289101</td>\n",
       "      <td>0850c1e591b177e4e7bd3d7e73f050a4</td>\n",
       "      <td>mse</td>\n",
       "      <td>1.1.15100.1</td>\n",
       "      <td>4.10.209.0</td>\n",
       "      <td>1.273.1826.0</td>\n",
       "      <td>0</td>\n",
       "      <td>7.0000</td>\n",
       "      <td>0</td>\n",
       "      <td>NaN</td>\n",
       "      <td>...</td>\n",
       "      <td>0</td>\n",
       "      <td>0.0000</td>\n",
       "      <td>0.0000</td>\n",
       "      <td>0</td>\n",
       "      <td>0</td>\n",
       "      <td>0.0000</td>\n",
       "      <td>0.0000</td>\n",
       "      <td>5.0000</td>\n",
       "      <td>1</td>\n",
       "      <td>1.1.15100</td>\n",
       "    </tr>\n",
       "    <tr>\n",
       "      <th>209</th>\n",
       "      <td>4540438</td>\n",
       "      <td>82511d4f7473708cd7bb3a7a7276931f</td>\n",
       "      <td>win8defender</td>\n",
       "      <td>1.1.14901.3</td>\n",
       "      <td>4.10.209.0</td>\n",
       "      <td>1.267.1242.0</td>\n",
       "      <td>0</td>\n",
       "      <td>7.0000</td>\n",
       "      <td>0</td>\n",
       "      <td>NaN</td>\n",
       "      <td>...</td>\n",
       "      <td>1</td>\n",
       "      <td>0.0000</td>\n",
       "      <td>0.0000</td>\n",
       "      <td>0</td>\n",
       "      <td>0</td>\n",
       "      <td>0.0000</td>\n",
       "      <td>0.0000</td>\n",
       "      <td>10.0000</td>\n",
       "      <td>1</td>\n",
       "      <td>1.1.14901</td>\n",
       "    </tr>\n",
       "    <tr>\n",
       "      <th>222</th>\n",
       "      <td>455635</td>\n",
       "      <td>0d1a8a25d471a45a46acc6470e2ff39d</td>\n",
       "      <td>mse</td>\n",
       "      <td>1.1.15000.2</td>\n",
       "      <td>4.10.209.0</td>\n",
       "      <td>1.271.884.0</td>\n",
       "      <td>0</td>\n",
       "      <td>7.0000</td>\n",
       "      <td>0</td>\n",
       "      <td>NaN</td>\n",
       "      <td>...</td>\n",
       "      <td>0</td>\n",
       "      <td>0.0000</td>\n",
       "      <td>0.0000</td>\n",
       "      <td>0</td>\n",
       "      <td>0</td>\n",
       "      <td>0.0000</td>\n",
       "      <td>0.0000</td>\n",
       "      <td>15.0000</td>\n",
       "      <td>0</td>\n",
       "      <td>1.1.15000</td>\n",
       "    </tr>\n",
       "    <tr>\n",
       "      <th>223</th>\n",
       "      <td>7431707</td>\n",
       "      <td>d5380a5748ba45c8c126bdee0bdd5d0d</td>\n",
       "      <td>mse</td>\n",
       "      <td>1.1.15200.1</td>\n",
       "      <td>4.10.209.0</td>\n",
       "      <td>1.275.710.0</td>\n",
       "      <td>0</td>\n",
       "      <td>7.0000</td>\n",
       "      <td>0</td>\n",
       "      <td>NaN</td>\n",
       "      <td>...</td>\n",
       "      <td>0</td>\n",
       "      <td>0.0000</td>\n",
       "      <td>0.0000</td>\n",
       "      <td>0</td>\n",
       "      <td>0</td>\n",
       "      <td>0.0000</td>\n",
       "      <td>0.0000</td>\n",
       "      <td>3.0000</td>\n",
       "      <td>0</td>\n",
       "      <td>1.1.15200</td>\n",
       "    </tr>\n",
       "    <tr>\n",
       "      <th>...</th>\n",
       "      <td>...</td>\n",
       "      <td>...</td>\n",
       "      <td>...</td>\n",
       "      <td>...</td>\n",
       "      <td>...</td>\n",
       "      <td>...</td>\n",
       "      <td>...</td>\n",
       "      <td>...</td>\n",
       "      <td>...</td>\n",
       "      <td>...</td>\n",
       "      <td>...</td>\n",
       "      <td>...</td>\n",
       "      <td>...</td>\n",
       "      <td>...</td>\n",
       "      <td>...</td>\n",
       "      <td>...</td>\n",
       "      <td>...</td>\n",
       "      <td>...</td>\n",
       "      <td>...</td>\n",
       "      <td>...</td>\n",
       "      <td>...</td>\n",
       "    </tr>\n",
       "    <tr>\n",
       "      <th>499746</th>\n",
       "      <td>244927</td>\n",
       "      <td>070ad6da917516ea0691a8fb826f55b0</td>\n",
       "      <td>mse</td>\n",
       "      <td>1.1.15100.1</td>\n",
       "      <td>4.10.209.0</td>\n",
       "      <td>1.273.912.0</td>\n",
       "      <td>0</td>\n",
       "      <td>7.0000</td>\n",
       "      <td>0</td>\n",
       "      <td>NaN</td>\n",
       "      <td>...</td>\n",
       "      <td>0</td>\n",
       "      <td>NaN</td>\n",
       "      <td>0.0000</td>\n",
       "      <td>0</td>\n",
       "      <td>0</td>\n",
       "      <td>0.0000</td>\n",
       "      <td>0.0000</td>\n",
       "      <td>12.0000</td>\n",
       "      <td>1</td>\n",
       "      <td>1.1.15100</td>\n",
       "    </tr>\n",
       "    <tr>\n",
       "      <th>499766</th>\n",
       "      <td>2878358</td>\n",
       "      <td>52969eef94139c8e49df6479830539f2</td>\n",
       "      <td>mse</td>\n",
       "      <td>1.1.15200.1</td>\n",
       "      <td>4.10.209.0</td>\n",
       "      <td>1.275.725.0</td>\n",
       "      <td>0</td>\n",
       "      <td>7.0000</td>\n",
       "      <td>0</td>\n",
       "      <td>NaN</td>\n",
       "      <td>...</td>\n",
       "      <td>0</td>\n",
       "      <td>NaN</td>\n",
       "      <td>0.0000</td>\n",
       "      <td>0</td>\n",
       "      <td>0</td>\n",
       "      <td>0.0000</td>\n",
       "      <td>0.0000</td>\n",
       "      <td>15.0000</td>\n",
       "      <td>1</td>\n",
       "      <td>1.1.15200</td>\n",
       "    </tr>\n",
       "    <tr>\n",
       "      <th>499807</th>\n",
       "      <td>2878404</td>\n",
       "      <td>529703099031a605aba0b00ece4cac92</td>\n",
       "      <td>win8defender</td>\n",
       "      <td>1.1.15200.1</td>\n",
       "      <td>4.10.209.0</td>\n",
       "      <td>1.275.1478.0</td>\n",
       "      <td>0</td>\n",
       "      <td>7.0000</td>\n",
       "      <td>0</td>\n",
       "      <td>NaN</td>\n",
       "      <td>...</td>\n",
       "      <td>0</td>\n",
       "      <td>0.0000</td>\n",
       "      <td>0.0000</td>\n",
       "      <td>0</td>\n",
       "      <td>0</td>\n",
       "      <td>0.0000</td>\n",
       "      <td>0.0000</td>\n",
       "      <td>15.0000</td>\n",
       "      <td>0</td>\n",
       "      <td>1.1.15200</td>\n",
       "    </tr>\n",
       "    <tr>\n",
       "      <th>499824</th>\n",
       "      <td>7150496</td>\n",
       "      <td>cd27813a5e444c0406f4b1d3e7cad827</td>\n",
       "      <td>mse</td>\n",
       "      <td>1.1.15100.1</td>\n",
       "      <td>4.10.209.0</td>\n",
       "      <td>1.273.66.0</td>\n",
       "      <td>0</td>\n",
       "      <td>7.0000</td>\n",
       "      <td>0</td>\n",
       "      <td>NaN</td>\n",
       "      <td>...</td>\n",
       "      <td>0</td>\n",
       "      <td>NaN</td>\n",
       "      <td>0.0000</td>\n",
       "      <td>0</td>\n",
       "      <td>0</td>\n",
       "      <td>0.0000</td>\n",
       "      <td>0.0000</td>\n",
       "      <td>7.0000</td>\n",
       "      <td>1</td>\n",
       "      <td>1.1.15100</td>\n",
       "    </tr>\n",
       "    <tr>\n",
       "      <th>499851</th>\n",
       "      <td>5036960</td>\n",
       "      <td>908c99e617f11f8de3b1d5f77a69a6c7</td>\n",
       "      <td>win8defender</td>\n",
       "      <td>1.1.15200.1</td>\n",
       "      <td>4.10.209.0</td>\n",
       "      <td>1.275.810.0</td>\n",
       "      <td>0</td>\n",
       "      <td>7.0000</td>\n",
       "      <td>0</td>\n",
       "      <td>NaN</td>\n",
       "      <td>...</td>\n",
       "      <td>1</td>\n",
       "      <td>0.0000</td>\n",
       "      <td>0.0000</td>\n",
       "      <td>1</td>\n",
       "      <td>1</td>\n",
       "      <td>0.0000</td>\n",
       "      <td>0.0000</td>\n",
       "      <td>1.0000</td>\n",
       "      <td>1</td>\n",
       "      <td>1.1.15200</td>\n",
       "    </tr>\n",
       "  </tbody>\n",
       "</table>\n",
       "<p>15292 rows × 85 columns</p>\n",
       "</div>"
      ],
      "text/plain": [
       "        Unnamed: 0                 MachineIdentifier   ProductName  \\\n",
       "87         3560007  662ca74a64aa88d371f2c7cfe6a2c890  win8defender   \n",
       "121         289101  0850c1e591b177e4e7bd3d7e73f050a4           mse   \n",
       "209        4540438  82511d4f7473708cd7bb3a7a7276931f  win8defender   \n",
       "222         455635  0d1a8a25d471a45a46acc6470e2ff39d           mse   \n",
       "223        7431707  d5380a5748ba45c8c126bdee0bdd5d0d           mse   \n",
       "...            ...                               ...           ...   \n",
       "499746      244927  070ad6da917516ea0691a8fb826f55b0           mse   \n",
       "499766     2878358  52969eef94139c8e49df6479830539f2           mse   \n",
       "499807     2878404  529703099031a605aba0b00ece4cac92  win8defender   \n",
       "499824     7150496  cd27813a5e444c0406f4b1d3e7cad827           mse   \n",
       "499851     5036960  908c99e617f11f8de3b1d5f77a69a6c7  win8defender   \n",
       "\n",
       "       EngineVersion  AppVersion  AvSigVersion  IsBeta  RtpStateBitfield  \\\n",
       "87       1.1.14405.2  4.10.209.0  1.259.1414.0       0            7.0000   \n",
       "121      1.1.15100.1  4.10.209.0  1.273.1826.0       0            7.0000   \n",
       "209      1.1.14901.3  4.10.209.0  1.267.1242.0       0            7.0000   \n",
       "222      1.1.15000.2  4.10.209.0   1.271.884.0       0            7.0000   \n",
       "223      1.1.15200.1  4.10.209.0   1.275.710.0       0            7.0000   \n",
       "...              ...         ...           ...     ...               ...   \n",
       "499746   1.1.15100.1  4.10.209.0   1.273.912.0       0            7.0000   \n",
       "499766   1.1.15200.1  4.10.209.0   1.275.725.0       0            7.0000   \n",
       "499807   1.1.15200.1  4.10.209.0  1.275.1478.0       0            7.0000   \n",
       "499824   1.1.15100.1  4.10.209.0    1.273.66.0       0            7.0000   \n",
       "499851   1.1.15200.1  4.10.209.0   1.275.810.0       0            7.0000   \n",
       "\n",
       "        IsSxsPassiveMode  DefaultBrowsersIdentifier  ...  \\\n",
       "87                     0                   223.0000  ...   \n",
       "121                    0                        NaN  ...   \n",
       "209                    0                        NaN  ...   \n",
       "222                    0                        NaN  ...   \n",
       "223                    0                        NaN  ...   \n",
       "...                  ...                        ...  ...   \n",
       "499746                 0                        NaN  ...   \n",
       "499766                 0                        NaN  ...   \n",
       "499807                 0                        NaN  ...   \n",
       "499824                 0                        NaN  ...   \n",
       "499851                 0                        NaN  ...   \n",
       "\n",
       "        Census_IsSecureBootEnabled  Census_IsWIMBootEnabled  \\\n",
       "87                               0                   0.0000   \n",
       "121                              0                   0.0000   \n",
       "209                              1                   0.0000   \n",
       "222                              0                   0.0000   \n",
       "223                              0                   0.0000   \n",
       "...                            ...                      ...   \n",
       "499746                           0                      NaN   \n",
       "499766                           0                      NaN   \n",
       "499807                           0                   0.0000   \n",
       "499824                           0                      NaN   \n",
       "499851                           1                   0.0000   \n",
       "\n",
       "        Census_IsVirtualDevice  Census_IsTouchEnabled  Census_IsPenCapable  \\\n",
       "87                      0.0000                      0                    0   \n",
       "121                     0.0000                      0                    0   \n",
       "209                     0.0000                      0                    0   \n",
       "222                     0.0000                      0                    0   \n",
       "223                     0.0000                      0                    0   \n",
       "...                        ...                    ...                  ...   \n",
       "499746                  0.0000                      0                    0   \n",
       "499766                  0.0000                      0                    0   \n",
       "499807                  0.0000                      0                    0   \n",
       "499824                  0.0000                      0                    0   \n",
       "499851                  0.0000                      1                    1   \n",
       "\n",
       "        Census_IsAlwaysOnAlwaysConnectedCapable  Wdft_IsGamer  \\\n",
       "87                                       0.0000        0.0000   \n",
       "121                                      0.0000        0.0000   \n",
       "209                                      0.0000        0.0000   \n",
       "222                                      0.0000        0.0000   \n",
       "223                                      0.0000        0.0000   \n",
       "...                                         ...           ...   \n",
       "499746                                   0.0000        0.0000   \n",
       "499766                                   0.0000        0.0000   \n",
       "499807                                   0.0000        0.0000   \n",
       "499824                                   0.0000        0.0000   \n",
       "499851                                   0.0000        0.0000   \n",
       "\n",
       "        Wdft_RegionIdentifier  HasDetections EngineVersion_trimmed  \n",
       "87                    12.0000              1             1.1.14405  \n",
       "121                    5.0000              1             1.1.15100  \n",
       "209                   10.0000              1             1.1.14901  \n",
       "222                   15.0000              0             1.1.15000  \n",
       "223                    3.0000              0             1.1.15200  \n",
       "...                       ...            ...                   ...  \n",
       "499746                12.0000              1             1.1.15100  \n",
       "499766                15.0000              1             1.1.15200  \n",
       "499807                15.0000              0             1.1.15200  \n",
       "499824                 7.0000              1             1.1.15100  \n",
       "499851                 1.0000              1             1.1.15200  \n",
       "\n",
       "[15292 rows x 85 columns]"
      ]
     },
     "execution_count": 21,
     "metadata": {},
     "output_type": "execute_result"
    }
   ],
   "source": [
    "df[df[\"AppVersion\"] == \"4.10.209.0\"]"
   ]
  },
  {
   "cell_type": "markdown",
   "metadata": {},
   "source": [
    "Podemos ver que el AppVersion y el ProductName no tienen relación por lo que haremos lo mismo que con la columna EngineVersion"
   ]
  },
  {
   "cell_type": "code",
   "execution_count": 22,
   "metadata": {},
   "outputs": [],
   "source": [
    "df[\"AppVersion_trimmed\"] = df[\"AppVersion\"].str.rsplit(\".\", n=1).str[0]\n",
    "\n",
    "del_columns.append(\"AppVersion\")"
   ]
  },
  {
   "cell_type": "code",
   "execution_count": 23,
   "metadata": {},
   "outputs": [
    {
     "data": {
      "text/plain": [
       "EngineVersion_trimmed\n",
       "1.1.10401         1\n",
       "1.1.11701         3\n",
       "1.1.12101         7\n",
       "1.1.12400         1\n",
       "1.1.12603         3\n",
       "1.1.12706         1\n",
       "1.1.12804         4\n",
       "1.1.12805       115\n",
       "1.1.12902       321\n",
       "1.1.13000       220\n",
       "1.1.13102         1\n",
       "1.1.13103       235\n",
       "1.1.13202       245\n",
       "1.1.13303       516\n",
       "1.1.13406         1\n",
       "1.1.13407       479\n",
       "1.1.13504      3876\n",
       "1.1.13601       420\n",
       "1.1.13701       255\n",
       "1.1.13704       255\n",
       "1.1.13802         4\n",
       "1.1.13803         3\n",
       "1.1.13804       513\n",
       "1.1.13902         4\n",
       "1.1.13903       515\n",
       "1.1.14001         2\n",
       "1.1.14002         2\n",
       "1.1.14003       804\n",
       "1.1.14102         2\n",
       "1.1.14103         5\n",
       "1.1.14104      5240\n",
       "1.1.14201        11\n",
       "1.1.14202       840\n",
       "1.1.14303        10\n",
       "1.1.14305       270\n",
       "1.1.14306      1329\n",
       "1.1.14405      1972\n",
       "1.1.14500      2610\n",
       "1.1.14600      9005\n",
       "1.1.14700      2719\n",
       "1.1.14800      7599\n",
       "1.1.14901     12055\n",
       "1.1.15000     14890\n",
       "1.1.15100    205494\n",
       "1.1.15200    216491\n",
       "1.1.15300     10652\n",
       "Name: count, dtype: int64"
      ]
     },
     "execution_count": 23,
     "metadata": {},
     "output_type": "execute_result"
    }
   ],
   "source": [
    "df[\"EngineVersion_trimmed\"].value_counts().sort_index()"
   ]
  },
  {
   "cell_type": "markdown",
   "metadata": {},
   "source": [
    "### \"AvSigVersion\""
   ]
  },
  {
   "cell_type": "code",
   "execution_count": 24,
   "metadata": {},
   "outputs": [
    {
     "data": {
      "text/plain": [
       "AvSigVersion\n",
       "0.0.0.0           4\n",
       "1.169.55.0        1\n",
       "1.199.1615.0      3\n",
       "1.207.1891.0      1\n",
       "1.207.2950.0      6\n",
       "               ... \n",
       "1.277.51.0      411\n",
       "1.277.58.0       76\n",
       "1.277.62.0       80\n",
       "1.277.64.0       60\n",
       "1.277.67.0        7\n",
       "Name: count, Length: 6455, dtype: int64"
      ]
     },
     "execution_count": 24,
     "metadata": {},
     "output_type": "execute_result"
    }
   ],
   "source": [
    "df[\"AvSigVersion\"].value_counts().sort_index()"
   ]
  },
  {
   "cell_type": "code",
   "execution_count": 25,
   "metadata": {},
   "outputs": [
    {
     "data": {
      "text/plain": [
       "AvSigVersion\n",
       "1.259.116.0    1.0000\n",
       "1.229.460.0    1.0000\n",
       "1.245.137.0    1.0000\n",
       "1.245.1169.0   1.0000\n",
       "1.245.1102.0   1.0000\n",
       "                ...  \n",
       "1.247.913.0    0.0000\n",
       "1.247.929.0    0.0000\n",
       "1.247.93.0     0.0000\n",
       "1.247.931.0    0.0000\n",
       "0.0.0.0        0.0000\n",
       "Name: HasDetections, Length: 6455, dtype: float64"
      ]
     },
     "execution_count": 25,
     "metadata": {},
     "output_type": "execute_result"
    }
   ],
   "source": [
    "df.groupby('AvSigVersion')['HasDetections'].mean().sort_values(ascending=False)"
   ]
  },
  {
   "cell_type": "markdown",
   "metadata": {},
   "source": [
    "Vamos a comprobar cuantos de los valores terminan con \".0\""
   ]
  },
  {
   "cell_type": "code",
   "execution_count": 26,
   "metadata": {},
   "outputs": [
    {
     "data": {
      "text/plain": [
       "1.0"
      ]
     },
     "execution_count": 26,
     "metadata": {},
     "output_type": "execute_result"
    }
   ],
   "source": [
    "df[df[\"AvSigVersion\"].str.endswith(\".0\")][\"AvSigVersion\"].count() / df.shape[0]"
   ]
  },
  {
   "cell_type": "markdown",
   "metadata": {},
   "source": [
    "Con este codigo filtro por los valores de la columna \"AvSigVersion\" que terminen en \".0\" y cuento cuantos valores recupero y lo divido entre el total de filas del dataset.\n",
    "\n",
    "Y podemos ver que todos los valores de esta columna terminan con \".0\" (el 100%), por lo que eliminaré el \".0\""
   ]
  },
  {
   "cell_type": "code",
   "execution_count": 27,
   "metadata": {},
   "outputs": [],
   "source": [
    "df[\"AvSigVersion_trimmed\"] = df[\"AvSigVersion\"].str.rsplit(\".\", n=1).str[0]\n",
    "\n",
    "del_columns.append(\"AvSigVersion\")"
   ]
  },
  {
   "cell_type": "code",
   "execution_count": 28,
   "metadata": {},
   "outputs": [
    {
     "data": {
      "text/plain": [
       "EngineVersion_trimmed\n",
       "1.1.10401         1\n",
       "1.1.11701         3\n",
       "1.1.12101         7\n",
       "1.1.12400         1\n",
       "1.1.12603         3\n",
       "1.1.12706         1\n",
       "1.1.12804         4\n",
       "1.1.12805       115\n",
       "1.1.12902       321\n",
       "1.1.13000       220\n",
       "1.1.13102         1\n",
       "1.1.13103       235\n",
       "1.1.13202       245\n",
       "1.1.13303       516\n",
       "1.1.13406         1\n",
       "1.1.13407       479\n",
       "1.1.13504      3876\n",
       "1.1.13601       420\n",
       "1.1.13701       255\n",
       "1.1.13704       255\n",
       "1.1.13802         4\n",
       "1.1.13803         3\n",
       "1.1.13804       513\n",
       "1.1.13902         4\n",
       "1.1.13903       515\n",
       "1.1.14001         2\n",
       "1.1.14002         2\n",
       "1.1.14003       804\n",
       "1.1.14102         2\n",
       "1.1.14103         5\n",
       "1.1.14104      5240\n",
       "1.1.14201        11\n",
       "1.1.14202       840\n",
       "1.1.14303        10\n",
       "1.1.14305       270\n",
       "1.1.14306      1329\n",
       "1.1.14405      1972\n",
       "1.1.14500      2610\n",
       "1.1.14600      9005\n",
       "1.1.14700      2719\n",
       "1.1.14800      7599\n",
       "1.1.14901     12055\n",
       "1.1.15000     14890\n",
       "1.1.15100    205494\n",
       "1.1.15200    216491\n",
       "1.1.15300     10652\n",
       "Name: count, dtype: int64"
      ]
     },
     "execution_count": 28,
     "metadata": {},
     "output_type": "execute_result"
    }
   ],
   "source": [
    "df[\"EngineVersion_trimmed\"].value_counts().sort_index()"
   ]
  },
  {
   "cell_type": "markdown",
   "metadata": {},
   "source": [
    "### \"IsBeta\""
   ]
  },
  {
   "cell_type": "code",
   "execution_count": 29,
   "metadata": {},
   "outputs": [
    {
     "data": {
      "text/plain": [
       "IsBeta\n",
       "0    499999\n",
       "1         1\n",
       "Name: count, dtype: int64"
      ]
     },
     "execution_count": 29,
     "metadata": {},
     "output_type": "execute_result"
    }
   ],
   "source": [
    "df[\"IsBeta\"].value_counts()"
   ]
  },
  {
   "cell_type": "markdown",
   "metadata": {},
   "source": [
    "Podemos ver que el valor True de \"IsBeta\" es tan solo 1 contra el resto de datos, por lo que prescendiremos de esta columna"
   ]
  },
  {
   "cell_type": "code",
   "execution_count": 30,
   "metadata": {},
   "outputs": [],
   "source": [
    "del_columns.append(\"IsBeta\")"
   ]
  },
  {
   "cell_type": "markdown",
   "metadata": {},
   "source": [
    "### \"RtpStateBitfield\""
   ]
  },
  {
   "cell_type": "code",
   "execution_count": 31,
   "metadata": {},
   "outputs": [
    {
     "data": {
      "text/plain": [
       "RtpStateBitfield\n",
       "7.0000     484841\n",
       "0.0000      10610\n",
       "8.0000       1277\n",
       "5.0000       1158\n",
       "3.0000        176\n",
       "1.0000        105\n",
       "35.0000         1\n",
       "Name: count, dtype: int64"
      ]
     },
     "execution_count": 31,
     "metadata": {},
     "output_type": "execute_result"
    }
   ],
   "source": [
    "df[\"RtpStateBitfield\"].value_counts()"
   ]
  },
  {
   "cell_type": "code",
   "execution_count": 32,
   "metadata": {},
   "outputs": [
    {
     "name": "stdout",
     "output_type": "stream",
     "text": [
      "                  RtpStateBitfield  HasDetections\n",
      "RtpStateBitfield            1.0000         0.0403\n",
      "HasDetections               0.0403         1.0000\n"
     ]
    }
   ],
   "source": [
    "print(df[[\"RtpStateBitfield\", \"HasDetections\"]].corr())"
   ]
  },
  {
   "cell_type": "markdown",
   "metadata": {},
   "source": [
    "Por su baja correlación con el target prescindiremos de esta columna"
   ]
  },
  {
   "cell_type": "code",
   "execution_count": 33,
   "metadata": {},
   "outputs": [],
   "source": [
    "del_columns.append(\"RtpStateBitfield\")"
   ]
  },
  {
   "cell_type": "markdown",
   "metadata": {},
   "source": [
    "### \"IsSxsPassiveMode\""
   ]
  },
  {
   "cell_type": "code",
   "execution_count": 34,
   "metadata": {},
   "outputs": [
    {
     "data": {
      "text/plain": [
       "IsSxsPassiveMode\n",
       "0    491379\n",
       "1      8621\n",
       "Name: count, dtype: int64"
      ]
     },
     "execution_count": 34,
     "metadata": {},
     "output_type": "execute_result"
    }
   ],
   "source": [
    "df[\"IsSxsPassiveMode\"].value_counts()"
   ]
  },
  {
   "cell_type": "code",
   "execution_count": 35,
   "metadata": {},
   "outputs": [
    {
     "data": {
      "text/plain": [
       "IsSxsPassiveMode\n",
       "0   0.9828\n",
       "1   0.0172\n",
       "Name: count, dtype: float64"
      ]
     },
     "execution_count": 35,
     "metadata": {},
     "output_type": "execute_result"
    }
   ],
   "source": [
    "df[\"IsSxsPassiveMode\"].value_counts()/ df.shape[0]"
   ]
  },
  {
   "cell_type": "markdown",
   "metadata": {},
   "source": [
    "Podemos ver que el valor True de esta columna representa menos del 2% del dataframe"
   ]
  },
  {
   "cell_type": "code",
   "execution_count": 36,
   "metadata": {},
   "outputs": [
    {
     "name": "stdout",
     "output_type": "stream",
     "text": [
      "                  IsSxsPassiveMode  HasDetections\n",
      "IsSxsPassiveMode            1.0000        -0.0340\n",
      "HasDetections              -0.0340         1.0000\n"
     ]
    }
   ],
   "source": [
    "print(df[[\"IsSxsPassiveMode\", \"HasDetections\"]].corr())"
   ]
  },
  {
   "cell_type": "markdown",
   "metadata": {},
   "source": [
    "No esta balanceado y tiene una correlación debil con el target, por lo que prescindiremos de esta columna"
   ]
  },
  {
   "cell_type": "code",
   "execution_count": 37,
   "metadata": {},
   "outputs": [],
   "source": [
    "del_columns.append(\"IsSxsPassiveMode\")"
   ]
  },
  {
   "cell_type": "markdown",
   "metadata": {},
   "source": [
    "### \"DefaultBrowsersIdentifier\""
   ]
  },
  {
   "cell_type": "code",
   "execution_count": 38,
   "metadata": {},
   "outputs": [
    {
     "data": {
      "text/plain": [
       "DefaultBrowsersIdentifier\n",
       "239.0000     2589\n",
       "3195.0000    2423\n",
       "1632.0000    1601\n",
       "3176.0000    1313\n",
       "146.0000     1231\n",
       "             ... \n",
       "2285.0000       1\n",
       "2100.0000       1\n",
       "2459.0000       1\n",
       "2196.0000       1\n",
       "1427.0000       1\n",
       "Name: count, Length: 554, dtype: int64"
      ]
     },
     "execution_count": 38,
     "metadata": {},
     "output_type": "execute_result"
    }
   ],
   "source": [
    "df[\"DefaultBrowsersIdentifier\"].value_counts()"
   ]
  },
  {
   "cell_type": "code",
   "execution_count": 39,
   "metadata": {},
   "outputs": [
    {
     "name": "stdout",
     "output_type": "stream",
     "text": [
      "                           DefaultBrowsersIdentifier  HasDetections\n",
      "DefaultBrowsersIdentifier                     1.0000         0.0010\n",
      "HasDetections                                 0.0010         1.0000\n"
     ]
    }
   ],
   "source": [
    "print(df[[\"DefaultBrowsersIdentifier\", \"HasDetections\"]].corr())"
   ]
  },
  {
   "cell_type": "markdown",
   "metadata": {},
   "source": [
    "Por la baja correlación con el target, esta columna será eliminada"
   ]
  },
  {
   "cell_type": "code",
   "execution_count": 40,
   "metadata": {},
   "outputs": [],
   "source": [
    "del_columns.append(\"DefaultBrowsersIdentifier\")"
   ]
  },
  {
   "cell_type": "markdown",
   "metadata": {},
   "source": [
    "### \"AVProductStatesIdentifier\""
   ]
  },
  {
   "cell_type": "code",
   "execution_count": 41,
   "metadata": {},
   "outputs": [
    {
     "data": {
      "text/plain": [
       "AVProductStatesIdentifier\n",
       "53447.0000    326463\n",
       "7945.0000      26642\n",
       "47238.0000     18436\n",
       "62773.0000     14931\n",
       "46413.0000      6343\n",
       "               ...  \n",
       "2451.0000          1\n",
       "19604.0000         1\n",
       "3193.0000          1\n",
       "26492.0000         1\n",
       "18324.0000         1\n",
       "Name: count, Length: 5516, dtype: int64"
      ]
     },
     "execution_count": 41,
     "metadata": {},
     "output_type": "execute_result"
    }
   ],
   "source": [
    "df[\"AVProductStatesIdentifier\"].value_counts()"
   ]
  },
  {
   "cell_type": "code",
   "execution_count": 42,
   "metadata": {},
   "outputs": [
    {
     "name": "stdout",
     "output_type": "stream",
     "text": [
      "                           AVProductStatesIdentifier  HasDetections\n",
      "AVProductStatesIdentifier                     1.0000         0.1162\n",
      "HasDetections                                 0.1162         1.0000\n"
     ]
    }
   ],
   "source": [
    "print(df[[\"AVProductStatesIdentifier\", \"HasDetections\"]].corr())"
   ]
  },
  {
   "cell_type": "markdown",
   "metadata": {},
   "source": [
    "Mantendremos la columna temporalmente y probaremos entrenar al modelo con y sin esta columna"
   ]
  },
  {
   "cell_type": "markdown",
   "metadata": {},
   "source": [
    "Al mirar la info del dataset vimos que esta columna contenia nulos"
   ]
  },
  {
   "cell_type": "code",
   "execution_count": 43,
   "metadata": {},
   "outputs": [
    {
     "data": {
      "text/plain": [
       "0.003876"
      ]
     },
     "execution_count": 43,
     "metadata": {},
     "output_type": "execute_result"
    }
   ],
   "source": [
    "df[\"AVProductStatesIdentifier\"].isna().sum()/df.shape[0]"
   ]
  },
  {
   "cell_type": "markdown",
   "metadata": {},
   "source": [
    "Podemos ver que menos del 1% de los datos en esta columna es nulo, por lo que borraremos las filas que contienen nulo"
   ]
  },
  {
   "cell_type": "code",
   "execution_count": 44,
   "metadata": {},
   "outputs": [],
   "source": [
    "df.dropna(subset=[\"AVProductStatesIdentifier\"], inplace=True)"
   ]
  },
  {
   "cell_type": "code",
   "execution_count": 45,
   "metadata": {},
   "outputs": [
    {
     "data": {
      "text/plain": [
       "<Axes: >"
      ]
     },
     "execution_count": 45,
     "metadata": {},
     "output_type": "execute_result"
    },
    {
     "data": {
      "image/png": "[encoded data removed]",
      "text/plain": [
       "<Figure size 640x480 with 1 Axes>"
      ]
     },
     "metadata": {},
     "output_type": "display_data"
    }
   ],
   "source": [
    "df[\"AVProductStatesIdentifier\"].hist()"
   ]
  },
  {
   "cell_type": "markdown",
   "metadata": {},
   "source": [
    "### \"AVProductsInstalled\""
   ]
  },
  {
   "cell_type": "code",
   "execution_count": 46,
   "metadata": {},
   "outputs": [
    {
     "data": {
      "text/plain": [
       "AVProductsInstalled\n",
       "1.0000    348046\n",
       "2.0000    137856\n",
       "3.0000     11617\n",
       "4.0000       514\n",
       "5.0000        29\n",
       "Name: count, dtype: int64"
      ]
     },
     "execution_count": 46,
     "metadata": {},
     "output_type": "execute_result"
    }
   ],
   "source": [
    "df[\"AVProductsInstalled\"].value_counts()"
   ]
  },
  {
   "cell_type": "code",
   "execution_count": 47,
   "metadata": {},
   "outputs": [
    {
     "name": "stdout",
     "output_type": "stream",
     "text": [
      "                     AVProductsInstalled  HasDetections\n",
      "AVProductsInstalled               1.0000        -0.1488\n",
      "HasDetections                    -0.1488         1.0000\n"
     ]
    }
   ],
   "source": [
    "print(df[[\"AVProductsInstalled\", \"HasDetections\"]].corr())"
   ]
  },
  {
   "cell_type": "markdown",
   "metadata": {},
   "source": [
    "Esta variable podría resultar interesante, aun siendo muy poca correlación negativa, es interesante ver que en algunos casos al tener más antivirus instalados pues se detectan menos virus"
   ]
  },
  {
   "cell_type": "markdown",
   "metadata": {},
   "source": [
    "Anteriormente al mirar la info del dataset, vimos que esta columna tenía nulos"
   ]
  },
  {
   "cell_type": "code",
   "execution_count": 48,
   "metadata": {},
   "outputs": [
    {
     "data": {
      "text/plain": [
       "0"
      ]
     },
     "execution_count": 48,
     "metadata": {},
     "output_type": "execute_result"
    }
   ],
   "source": [
    "df[\"AVProductsInstalled\"].isna().sum()"
   ]
  },
  {
   "cell_type": "markdown",
   "metadata": {},
   "source": [
    "Ahora contiene 0% de nulos, así que podemos suponer que las filas con nulos en la columna \"AVProductStatesIdentifier\" coincidian con las de esta columna, ya que ambas tenían 1938 nulos"
   ]
  },
  {
   "cell_type": "code",
   "execution_count": 49,
   "metadata": {},
   "outputs": [
    {
     "data": {
      "text/plain": [
       "<Axes: >"
      ]
     },
     "execution_count": 49,
     "metadata": {},
     "output_type": "execute_result"
    },
    {
     "data": {
      "image/png": "[encoded data removed]",
      "text/plain": [
       "<Figure size 640x480 with 1 Axes>"
      ]
     },
     "metadata": {},
     "output_type": "display_data"
    }
   ],
   "source": [
    "df[\"AVProductsInstalled\"].hist()"
   ]
  },
  {
   "cell_type": "markdown",
   "metadata": {},
   "source": [
    "### \"AVProductsEnabled\""
   ]
  },
  {
   "cell_type": "code",
   "execution_count": 50,
   "metadata": {},
   "outputs": [
    {
     "data": {
      "text/plain": [
       "AVProductsEnabled\n",
       "1.0000    485179\n",
       "2.0000     11074\n",
       "0.0000      1467\n",
       "3.0000       316\n",
       "4.0000        26\n",
       "Name: count, dtype: int64"
      ]
     },
     "execution_count": 50,
     "metadata": {},
     "output_type": "execute_result"
    }
   ],
   "source": [
    "df[\"AVProductsEnabled\"].value_counts()"
   ]
  },
  {
   "cell_type": "code",
   "execution_count": 51,
   "metadata": {},
   "outputs": [
    {
     "name": "stdout",
     "output_type": "stream",
     "text": [
      "                   AVProductsEnabled  HasDetections\n",
      "AVProductsEnabled             1.0000        -0.0419\n",
      "HasDetections                -0.0419         1.0000\n"
     ]
    }
   ],
   "source": [
    "print(df[[\"AVProductsEnabled\", \"HasDetections\"]].corr())"
   ]
  },
  {
   "cell_type": "code",
   "execution_count": 52,
   "metadata": {},
   "outputs": [
    {
     "name": "stdout",
     "output_type": "stream",
     "text": [
      "                     AVProductsEnabled  AVProductsInstalled\n",
      "AVProductsEnabled               1.0000               0.2854\n",
      "AVProductsInstalled             0.2854               1.0000\n"
     ]
    }
   ],
   "source": [
    "print(df[[\"AVProductsEnabled\", \"AVProductsInstalled\"]].corr())"
   ]
  },
  {
   "cell_type": "markdown",
   "metadata": {},
   "source": [
    "Tiene muy baja relación con el target pero es algo más alta (casi 30%) de correlación con AVProductsInstalled, por lo que podemos mantenerla temporalmente y hacer pruebas"
   ]
  },
  {
   "cell_type": "code",
   "execution_count": 53,
   "metadata": {},
   "outputs": [
    {
     "data": {
      "text/plain": [
       "0.0"
      ]
     },
     "execution_count": 53,
     "metadata": {},
     "output_type": "execute_result"
    }
   ],
   "source": [
    "df[\"AVProductsEnabled\"].isna().sum()/df.shape[0]"
   ]
  },
  {
   "cell_type": "markdown",
   "metadata": {},
   "source": [
    "Ahora contiene 0% de nulos, así que podemos suponer que las filas con nulos en las 2 ultimas columnas coincidian con las de esta columna, ya que las 3 tenían 1938 nulos"
   ]
  },
  {
   "cell_type": "code",
   "execution_count": 54,
   "metadata": {},
   "outputs": [
    {
     "data": {
      "text/plain": [
       "<Axes: >"
      ]
     },
     "execution_count": 54,
     "metadata": {},
     "output_type": "execute_result"
    },
    {
     "data": {
      "image/png": "[encoded data removed]",
      "text/plain": [
       "<Figure size 640x480 with 1 Axes>"
      ]
     },
     "metadata": {},
     "output_type": "display_data"
    }
   ],
   "source": [
    "df[\"AVProductsEnabled\"].hist()"
   ]
  },
  {
   "cell_type": "markdown",
   "metadata": {},
   "source": [
    "### \"HasTpm\""
   ]
  },
  {
   "cell_type": "code",
   "execution_count": 55,
   "metadata": {},
   "outputs": [
    {
     "data": {
      "text/plain": [
       "HasTpm\n",
       "1    492113\n",
       "0      5949\n",
       "Name: count, dtype: int64"
      ]
     },
     "execution_count": 55,
     "metadata": {},
     "output_type": "execute_result"
    }
   ],
   "source": [
    "df[\"HasTpm\"].value_counts()"
   ]
  },
  {
   "cell_type": "code",
   "execution_count": 56,
   "metadata": {},
   "outputs": [
    {
     "data": {
      "text/plain": [
       "HasTpm\n",
       "1   0.9881\n",
       "0   0.0119\n",
       "Name: count, dtype: float64"
      ]
     },
     "execution_count": 56,
     "metadata": {},
     "output_type": "execute_result"
    }
   ],
   "source": [
    "df[\"HasTpm\"].value_counts()/df.shape[0]"
   ]
  },
  {
   "cell_type": "code",
   "execution_count": 57,
   "metadata": {},
   "outputs": [
    {
     "name": "stdout",
     "output_type": "stream",
     "text": [
      "               HasTpm  HasDetections\n",
      "HasTpm         1.0000         0.0075\n",
      "HasDetections  0.0075         1.0000\n"
     ]
    }
   ],
   "source": [
    "print(df[[\"HasTpm\", \"HasDetections\"]].corr())"
   ]
  },
  {
   "cell_type": "markdown",
   "metadata": {},
   "source": [
    "Al ver que hay un fuerte desequilibrio en cuanto a los valores y que su correlación con el target es muy debil, prescindiremos de la columna"
   ]
  },
  {
   "cell_type": "code",
   "execution_count": 58,
   "metadata": {},
   "outputs": [],
   "source": [
    "del_columns.append(\"HasTpm\")"
   ]
  },
  {
   "cell_type": "markdown",
   "metadata": {},
   "source": [
    "### \"CountryIdentifier\""
   ]
  },
  {
   "cell_type": "code",
   "execution_count": 59,
   "metadata": {},
   "outputs": [
    {
     "data": {
      "text/plain": [
       "CountryIdentifier\n",
       "43     22279\n",
       "29     19165\n",
       "141    18349\n",
       "93     16158\n",
       "171    15683\n",
       "       ...  \n",
       "212       13\n",
       "37        12\n",
       "165       11\n",
       "217       10\n",
       "193        9\n",
       "Name: count, Length: 222, dtype: int64"
      ]
     },
     "execution_count": 59,
     "metadata": {},
     "output_type": "execute_result"
    }
   ],
   "source": [
    "df[\"CountryIdentifier\"].value_counts()"
   ]
  },
  {
   "cell_type": "code",
   "execution_count": 60,
   "metadata": {},
   "outputs": [
    {
     "name": "stdout",
     "output_type": "stream",
     "text": [
      "                   CountryIdentifier  HasDetections\n",
      "CountryIdentifier             1.0000         0.0066\n",
      "HasDetections                 0.0066         1.0000\n"
     ]
    }
   ],
   "source": [
    "print(df[[\"CountryIdentifier\", \"HasDetections\"]].corr())"
   ]
  },
  {
   "cell_type": "markdown",
   "metadata": {},
   "source": [
    "Por la baja correlación con el target, esta columna será eliminada"
   ]
  },
  {
   "cell_type": "code",
   "execution_count": 61,
   "metadata": {},
   "outputs": [],
   "source": [
    "del_columns.append(\"CountryIdentifier\")"
   ]
  },
  {
   "cell_type": "markdown",
   "metadata": {},
   "source": [
    "### \"CityIdentifier\""
   ]
  },
  {
   "cell_type": "code",
   "execution_count": 62,
   "metadata": {},
   "outputs": [
    {
     "data": {
      "text/plain": [
       "CityIdentifier\n",
       "130775.0000    5248\n",
       "16668.0000     4727\n",
       "82373.0000     4636\n",
       "10222.0000     3995\n",
       "61668.0000     3716\n",
       "               ... \n",
       "83257.0000        1\n",
       "99092.0000        1\n",
       "81950.0000        1\n",
       "96235.0000        1\n",
       "148194.0000       1\n",
       "Name: count, Length: 37070, dtype: int64"
      ]
     },
     "execution_count": 62,
     "metadata": {},
     "output_type": "execute_result"
    }
   ],
   "source": [
    "df[\"CityIdentifier\"].value_counts()"
   ]
  },
  {
   "cell_type": "code",
   "execution_count": 63,
   "metadata": {},
   "outputs": [
    {
     "data": {
      "text/plain": [
       "0.036477386349490624"
      ]
     },
     "execution_count": 63,
     "metadata": {},
     "output_type": "execute_result"
    }
   ],
   "source": [
    "df[\"CityIdentifier\"].isna().sum()/df.shape[0]"
   ]
  },
  {
   "cell_type": "code",
   "execution_count": 64,
   "metadata": {},
   "outputs": [
    {
     "name": "stdout",
     "output_type": "stream",
     "text": [
      "                CityIdentifier  HasDetections\n",
      "CityIdentifier          1.0000        -0.0046\n",
      "HasDetections          -0.0046         1.0000\n"
     ]
    }
   ],
   "source": [
    "print(df[[\"CityIdentifier\", \"HasDetections\"]].corr())"
   ]
  },
  {
   "cell_type": "markdown",
   "metadata": {},
   "source": [
    "Por la baja correlación con el target, esta columna será eliminada"
   ]
  },
  {
   "cell_type": "code",
   "execution_count": 65,
   "metadata": {},
   "outputs": [],
   "source": [
    "del_columns.append(\"CityIdentifier\")"
   ]
  },
  {
   "cell_type": "markdown",
   "metadata": {},
   "source": [
    "### \"OrganizationIdentifier\""
   ]
  },
  {
   "cell_type": "code",
   "execution_count": 66,
   "metadata": {},
   "outputs": [
    {
     "data": {
      "text/plain": [
       "OrganizationIdentifier\n",
       "27.0000    234044\n",
       "18.0000     98471\n",
       "48.0000      3643\n",
       "50.0000      2530\n",
       "37.0000      1030\n",
       "11.0000      1028\n",
       "49.0000       744\n",
       "46.0000       638\n",
       "14.0000       254\n",
       "32.0000       224\n",
       "36.0000       207\n",
       "52.0000       173\n",
       "33.0000       171\n",
       "2.0000        153\n",
       "5.0000        110\n",
       "40.0000       100\n",
       "28.0000        97\n",
       "4.0000         78\n",
       "10.0000        69\n",
       "51.0000        52\n",
       "1.0000         39\n",
       "20.0000        38\n",
       "8.0000         37\n",
       "6.0000         25\n",
       "31.0000        23\n",
       "47.0000        22\n",
       "22.0000        21\n",
       "39.0000        21\n",
       "3.0000         20\n",
       "21.0000        19\n",
       "16.0000        16\n",
       "19.0000        10\n",
       "29.0000         8\n",
       "42.0000         8\n",
       "7.0000          7\n",
       "44.0000         6\n",
       "26.0000         6\n",
       "43.0000         4\n",
       "45.0000         4\n",
       "41.0000         2\n",
       "35.0000         2\n",
       "23.0000         2\n",
       "25.0000         1\n",
       "17.0000         1\n",
       "Name: count, dtype: int64"
      ]
     },
     "execution_count": 66,
     "metadata": {},
     "output_type": "execute_result"
    }
   ],
   "source": [
    "df[\"OrganizationIdentifier\"].value_counts()"
   ]
  },
  {
   "cell_type": "code",
   "execution_count": 67,
   "metadata": {},
   "outputs": [
    {
     "data": {
      "text/plain": [
       "0.30900570611690914"
      ]
     },
     "execution_count": 67,
     "metadata": {},
     "output_type": "execute_result"
    }
   ],
   "source": [
    "df[\"OrganizationIdentifier\"].isna().sum()/df.shape[0]"
   ]
  },
  {
   "cell_type": "markdown",
   "metadata": {},
   "source": [
    "Podemos ver que el 30% de esta columna es nulo, por lo que antes de valorar si eliminarla o no, comprobaremos su correlación con el target"
   ]
  },
  {
   "cell_type": "code",
   "execution_count": 68,
   "metadata": {},
   "outputs": [
    {
     "name": "stdout",
     "output_type": "stream",
     "text": [
      "                        OrganizationIdentifier  HasDetections\n",
      "OrganizationIdentifier                  1.0000         0.0053\n",
      "HasDetections                           0.0053         1.0000\n"
     ]
    }
   ],
   "source": [
    "print(df[[\"OrganizationIdentifier\", \"HasDetections\"]].corr())"
   ]
  },
  {
   "cell_type": "markdown",
   "metadata": {},
   "source": [
    "Al tener una correlación tan baja suponemos que la columna probablemente no tenga un impacto significativo, por lo que prescindiremos de la columna"
   ]
  },
  {
   "cell_type": "code",
   "execution_count": 69,
   "metadata": {},
   "outputs": [],
   "source": [
    "del_columns.append(\"OrganizationIdentifier\")"
   ]
  },
  {
   "cell_type": "markdown",
   "metadata": {},
   "source": [
    "### \"GeoNameIdentifier\""
   ]
  },
  {
   "cell_type": "code",
   "execution_count": 70,
   "metadata": {},
   "outputs": [
    {
     "data": {
      "text/plain": [
       "GeoNameIdentifier\n",
       "277.0000    85610\n",
       "211.0000    23505\n",
       "53.0000     22925\n",
       "89.0000     20097\n",
       "240.0000    19392\n",
       "            ...  \n",
       "280.0000        1\n",
       "231.0000        1\n",
       "113.0000        1\n",
       "221.0000        1\n",
       "132.0000        1\n",
       "Name: count, Length: 268, dtype: int64"
      ]
     },
     "execution_count": 70,
     "metadata": {},
     "output_type": "execute_result"
    }
   ],
   "source": [
    "df[\"GeoNameIdentifier\"].value_counts()"
   ]
  },
  {
   "cell_type": "code",
   "execution_count": 71,
   "metadata": {},
   "outputs": [
    {
     "name": "stdout",
     "output_type": "stream",
     "text": [
      "                   GeoNameIdentifier  HasDetections\n",
      "GeoNameIdentifier             1.0000         0.0037\n",
      "HasDetections                 0.0037         1.0000\n"
     ]
    }
   ],
   "source": [
    "print(df[[\"GeoNameIdentifier\", \"HasDetections\"]].corr())"
   ]
  },
  {
   "cell_type": "markdown",
   "metadata": {},
   "source": [
    "Por la baja correlación con el target, esta columna será eliminada"
   ]
  },
  {
   "cell_type": "code",
   "execution_count": 72,
   "metadata": {},
   "outputs": [],
   "source": [
    "del_columns.append(\"GeoNameIdentifier\")"
   ]
  },
  {
   "cell_type": "markdown",
   "metadata": {},
   "source": [
    "### \"LocaleEnglishNameIdentifier\""
   ]
  },
  {
   "cell_type": "code",
   "execution_count": 73,
   "metadata": {},
   "outputs": [
    {
     "data": {
      "text/plain": [
       "LocaleEnglishNameIdentifier\n",
       "75     117298\n",
       "182     25092\n",
       "42      22955\n",
       "74      22824\n",
       "88      20910\n",
       "        ...  \n",
       "152         1\n",
       "155         1\n",
       "165         1\n",
       "190         1\n",
       "127         1\n",
       "Name: count, Length: 233, dtype: int64"
      ]
     },
     "execution_count": 73,
     "metadata": {},
     "output_type": "execute_result"
    }
   ],
   "source": [
    "df[\"LocaleEnglishNameIdentifier\"].value_counts()"
   ]
  },
  {
   "cell_type": "code",
   "execution_count": 74,
   "metadata": {},
   "outputs": [
    {
     "name": "stdout",
     "output_type": "stream",
     "text": [
      "                             LocaleEnglishNameIdentifier  HasDetections\n",
      "LocaleEnglishNameIdentifier                       1.0000         0.0169\n",
      "HasDetections                                     0.0169         1.0000\n"
     ]
    }
   ],
   "source": [
    "print(df[[\"LocaleEnglishNameIdentifier\", \"HasDetections\"]].corr())"
   ]
  },
  {
   "cell_type": "markdown",
   "metadata": {},
   "source": [
    "Por la baja correlación con el target, esta columna será eliminada"
   ]
  },
  {
   "cell_type": "code",
   "execution_count": 75,
   "metadata": {},
   "outputs": [],
   "source": [
    "del_columns.append(\"LocaleEnglishNameIdentifier\")"
   ]
  },
  {
   "cell_type": "markdown",
   "metadata": {},
   "source": [
    "### \"Platform\""
   ]
  },
  {
   "cell_type": "code",
   "execution_count": 76,
   "metadata": {},
   "outputs": [
    {
     "data": {
      "text/plain": [
       "Platform\n",
       "windows10    482082\n",
       "windows8      10701\n",
       "windows7       5279\n",
       "Name: count, dtype: int64"
      ]
     },
     "execution_count": 76,
     "metadata": {},
     "output_type": "execute_result"
    }
   ],
   "source": [
    "df[\"Platform\"].value_counts()"
   ]
  },
  {
   "cell_type": "code",
   "execution_count": 77,
   "metadata": {},
   "outputs": [
    {
     "data": {
      "text/plain": [
       "<Axes: >"
      ]
     },
     "execution_count": 77,
     "metadata": {},
     "output_type": "execute_result"
    },
    {
     "data": {
      "image/png": "[encoded data removed]",
      "text/plain": [
       "<Figure size 640x480 with 1 Axes>"
      ]
     },
     "metadata": {},
     "output_type": "display_data"
    }
   ],
   "source": [
    "df[\"Platform\"].hist()"
   ]
  },
  {
   "cell_type": "markdown",
   "metadata": {},
   "source": [
    "Aunque los valores estan muy desbalanceados, haremos pruebas y según los resultados de estas veremos si mantener o no la columna\n",
    "\n",
    "El siguiente punto será hacer un OHE con esta columna"
   ]
  },
  {
   "cell_type": "code",
   "execution_count": 78,
   "metadata": {},
   "outputs": [],
   "source": [
    "df = pd.get_dummies(df, columns=[\"Platform\"], prefix=\"Platform\")"
   ]
  },
  {
   "cell_type": "markdown",
   "metadata": {},
   "source": [
    "### \"Processor\""
   ]
  },
  {
   "cell_type": "code",
   "execution_count": 79,
   "metadata": {},
   "outputs": [
    {
     "data": {
      "text/plain": [
       "Processor\n",
       "x64      452561\n",
       "x86       45487\n",
       "arm64        14\n",
       "Name: count, dtype: int64"
      ]
     },
     "execution_count": 79,
     "metadata": {},
     "output_type": "execute_result"
    }
   ],
   "source": [
    "df[\"Processor\"].value_counts()"
   ]
  },
  {
   "cell_type": "code",
   "execution_count": 80,
   "metadata": {},
   "outputs": [
    {
     "data": {
      "text/plain": [
       "<Axes: >"
      ]
     },
     "execution_count": 80,
     "metadata": {},
     "output_type": "execute_result"
    },
    {
     "data": {
      "image/png": "[encoded data removed]",
      "text/plain": [
       "<Figure size 640x480 with 1 Axes>"
      ]
     },
     "metadata": {},
     "output_type": "display_data"
    }
   ],
   "source": [
    "df[\"Processor\"].hist()"
   ]
  },
  {
   "cell_type": "markdown",
   "metadata": {},
   "source": [
    "Aunque los valores estan desbalanceados, haremos pruebas y según los resultados de estas veremos si mantener o no la columna\n",
    "\n",
    "El siguiente punto será hacer un OHE con esta columna"
   ]
  },
  {
   "cell_type": "code",
   "execution_count": 81,
   "metadata": {},
   "outputs": [],
   "source": [
    "df = df[df[\"Processor\"]!=\"arm64\"]"
   ]
  },
  {
   "cell_type": "code",
   "execution_count": 82,
   "metadata": {},
   "outputs": [],
   "source": [
    "df = pd.get_dummies(df, columns=[\"Processor\"], prefix=\"Processor\")"
   ]
  },
  {
   "cell_type": "markdown",
   "metadata": {},
   "source": [
    "## Borramos las columnas que no necesitamos"
   ]
  },
  {
   "cell_type": "code",
   "execution_count": 83,
   "metadata": {},
   "outputs": [],
   "source": [
    "df.drop(del_columns, axis=1, inplace=True)"
   ]
  },
  {
   "cell_type": "code",
   "execution_count": 84,
   "metadata": {},
   "outputs": [
    {
     "name": "stdout",
     "output_type": "stream",
     "text": [
      "<class 'pandas.core.frame.DataFrame'>\n",
      "Index: 498048 entries, 0 to 499999\n",
      "Data columns (total 75 columns):\n",
      " #   Column                                             Non-Null Count   Dtype  \n",
      "---  ------                                             --------------   -----  \n",
      " 0   ProductName                                        498048 non-null  object \n",
      " 1   AVProductStatesIdentifier                          498048 non-null  float64\n",
      " 2   AVProductsInstalled                                498048 non-null  float64\n",
      " 3   AVProductsEnabled                                  498048 non-null  float64\n",
      " 4   OsVer                                              498048 non-null  object \n",
      " 5   OsBuild                                            498048 non-null  int64  \n",
      " 6   OsSuite                                            498048 non-null  int64  \n",
      " 7   OsPlatformSubRelease                               498048 non-null  object \n",
      " 8   OsBuildLab                                         498047 non-null  object \n",
      " 9   SkuEdition                                         498048 non-null  object \n",
      " 10  IsProtected                                        498048 non-null  float64\n",
      " 11  AutoSampleOptIn                                    498048 non-null  int64  \n",
      " 12  PuaMode                                            126 non-null     object \n",
      " 13  SMode                                              468274 non-null  float64\n",
      " 14  IeVerIdentifier                                    494847 non-null  float64\n",
      " 15  SmartScreen                                        319838 non-null  object \n",
      " 16  Firewall                                           493025 non-null  float64\n",
      " 17  UacLuaenable                                       497426 non-null  float64\n",
      " 18  Census_MDC2FormFactor                              498048 non-null  object \n",
      " 19  Census_DeviceFamily                                498048 non-null  object \n",
      " 20  Census_OEMNameIdentifier                           492688 non-null  float64\n",
      " 21  Census_OEMModelIdentifier                          492305 non-null  float64\n",
      " 22  Census_ProcessorCoreCount                          495706 non-null  float64\n",
      " 23  Census_ProcessorManufacturerIdentifier             495706 non-null  float64\n",
      " 24  Census_ProcessorModelIdentifier                    495704 non-null  float64\n",
      " 25  Census_ProcessorClass                              2063 non-null    object \n",
      " 26  Census_PrimaryDiskTotalCapacity                    495080 non-null  float64\n",
      " 27  Census_PrimaryDiskTypeName                         497339 non-null  object \n",
      " 28  Census_SystemVolumeTotalCapacity                   495080 non-null  float64\n",
      " 29  Census_HasOpticalDiskDrive                         498048 non-null  int64  \n",
      " 30  Census_TotalPhysicalRAM                            493584 non-null  float64\n",
      " 31  Census_ChassisTypeName                             498011 non-null  object \n",
      " 32  Census_InternalPrimaryDiagonalDisplaySizeInInches  495450 non-null  float64\n",
      " 33  Census_InternalPrimaryDisplayResolutionHorizontal  495454 non-null  float64\n",
      " 34  Census_InternalPrimaryDisplayResolutionVertical    495454 non-null  float64\n",
      " 35  Census_PowerPlatformRoleName                       498046 non-null  object \n",
      " 36  Census_InternalBatteryType                         143882 non-null  object \n",
      " 37  Census_InternalBatteryNumberOfCharges              483080 non-null  float64\n",
      " 38  Census_OSVersion                                   498048 non-null  object \n",
      " 39  Census_OSArchitecture                              498048 non-null  object \n",
      " 40  Census_OSBranch                                    498048 non-null  object \n",
      " 41  Census_OSBuildNumber                               498048 non-null  int64  \n",
      " 42  Census_OSBuildRevision                             498048 non-null  int64  \n",
      " 43  Census_OSEdition                                   498048 non-null  object \n",
      " 44  Census_OSSkuName                                   498048 non-null  object \n",
      " 45  Census_OSInstallTypeName                           498048 non-null  object \n",
      " 46  Census_OSInstallLanguageIdentifier                 494722 non-null  float64\n",
      " 47  Census_OSUILocaleIdentifier                        498048 non-null  int64  \n",
      " 48  Census_OSWUAutoUpdateOptionsName                   498048 non-null  object \n",
      " 49  Census_IsPortableOperatingSystem                   498048 non-null  int64  \n",
      " 50  Census_GenuineStateName                            498048 non-null  object \n",
      " 51  Census_ActivationChannel                           498048 non-null  object \n",
      " 52  Census_IsFlightingInternal                         84541 non-null   float64\n",
      " 53  Census_IsFlightsDisabled                           489170 non-null  float64\n",
      " 54  Census_FlightRing                                  498048 non-null  object \n",
      " 55  Census_ThresholdOptIn                              181273 non-null  float64\n",
      " 56  Census_FirmwareManufacturerIdentifier              487810 non-null  float64\n",
      " 57  Census_FirmwareVersionIdentifier                   489097 non-null  float64\n",
      " 58  Census_IsSecureBootEnabled                         498048 non-null  int64  \n",
      " 59  Census_IsWIMBootEnabled                            181710 non-null  float64\n",
      " 60  Census_IsVirtualDevice                             497148 non-null  float64\n",
      " 61  Census_IsTouchEnabled                              498048 non-null  int64  \n",
      " 62  Census_IsPenCapable                                498048 non-null  int64  \n",
      " 63  Census_IsAlwaysOnAlwaysConnectedCapable            494019 non-null  float64\n",
      " 64  Wdft_IsGamer                                       481147 non-null  float64\n",
      " 65  Wdft_RegionIdentifier                              481147 non-null  float64\n",
      " 66  HasDetections                                      498048 non-null  int64  \n",
      " 67  EngineVersion_trimmed                              498048 non-null  object \n",
      " 68  AppVersion_trimmed                                 498048 non-null  object \n",
      " 69  AvSigVersion_trimmed                               498048 non-null  object \n",
      " 70  Platform_windows10                                 498048 non-null  bool   \n",
      " 71  Platform_windows7                                  498048 non-null  bool   \n",
      " 72  Platform_windows8                                  498048 non-null  bool   \n",
      " 73  Processor_x64                                      498048 non-null  bool   \n",
      " 74  Processor_x86                                      498048 non-null  bool   \n",
      "dtypes: bool(5), float64(31), int64(12), object(27)\n",
      "memory usage: 272.2+ MB\n"
     ]
    }
   ],
   "source": [
    "df.info()"
   ]
  }
 ],
 "metadata": {
  "kernelspec": {
   "display_name": "Python 3",
   "language": "python",
   "name": "python3"
  },
  "language_info": {
   "codemirror_mode": {
    "name": "ipython",
    "version": 3
   },
   "file_extension": ".py",
   "mimetype": "text/x-python",
   "name": "python",
   "nbconvert_exporter": "python",
   "pygments_lexer": "ipython3",
   "version": "3.12.0"
  }
 },
 "nbformat": 4,
 "nbformat_minor": 2
}
