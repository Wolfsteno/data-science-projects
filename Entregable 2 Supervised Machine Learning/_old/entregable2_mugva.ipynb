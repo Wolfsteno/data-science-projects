{
 "cells": [
  {
   "cell_type": "code",
   "execution_count": 4,
   "metadata": {
    "ExecuteTime": {
     "end_time": "2025-02-03T23:01:10.610301Z",
     "start_time": "2025-02-03T23:01:10.607196Z"
    }
   },
   "outputs": [],
   "source": [
    "import pandas as pd\n",
    "import seaborn as sns\n",
    "import matplotlib.pyplot as plt\n",
    "import numpy as np"
   ]
  },
  {
   "cell_type": "code",
   "execution_count": 8,
   "metadata": {
    "ExecuteTime": {
     "end_time": "2025-02-03T23:01:27.991049Z",
     "start_time": "2025-02-03T23:01:10.649870Z"
    }
   },
   "outputs": [
    {
     "ename": "URLError",
     "evalue": "<urlopen error [SSL: CERTIFICATE_VERIFY_FAILED] certificate verify failed: unable to get local issuer certificate (_ssl.c:992)>",
     "output_type": "error",
     "traceback": [
      "\u001b[0;31m---------------------------------------------------------------------------\u001b[0m",
      "\u001b[0;31mSSLCertVerificationError\u001b[0m                  Traceback (most recent call last)",
      "File \u001b[0;32m/Library/Frameworks/Python.framework/Versions/3.11/lib/python3.11/urllib/request.py:1348\u001b[0m, in \u001b[0;36mAbstractHTTPHandler.do_open\u001b[0;34m(self, http_class, req, **http_conn_args)\u001b[0m\n\u001b[1;32m   1347\u001b[0m \u001b[39mtry\u001b[39;00m:\n\u001b[0;32m-> 1348\u001b[0m     h\u001b[39m.\u001b[39;49mrequest(req\u001b[39m.\u001b[39;49mget_method(), req\u001b[39m.\u001b[39;49mselector, req\u001b[39m.\u001b[39;49mdata, headers,\n\u001b[1;32m   1349\u001b[0m               encode_chunked\u001b[39m=\u001b[39;49mreq\u001b[39m.\u001b[39;49mhas_header(\u001b[39m'\u001b[39;49m\u001b[39mTransfer-encoding\u001b[39;49m\u001b[39m'\u001b[39;49m))\n\u001b[1;32m   1350\u001b[0m \u001b[39mexcept\u001b[39;00m \u001b[39mOSError\u001b[39;00m \u001b[39mas\u001b[39;00m err: \u001b[39m# timeout error\u001b[39;00m\n",
      "File \u001b[0;32m/Library/Frameworks/Python.framework/Versions/3.11/lib/python3.11/http/client.py:1282\u001b[0m, in \u001b[0;36mHTTPConnection.request\u001b[0;34m(self, method, url, body, headers, encode_chunked)\u001b[0m\n\u001b[1;32m   1281\u001b[0m \u001b[39m\u001b[39m\u001b[39m\"\"\"Send a complete request to the server.\"\"\"\u001b[39;00m\n\u001b[0;32m-> 1282\u001b[0m \u001b[39mself\u001b[39;49m\u001b[39m.\u001b[39;49m_send_request(method, url, body, headers, encode_chunked)\n",
      "File \u001b[0;32m/Library/Frameworks/Python.framework/Versions/3.11/lib/python3.11/http/client.py:1328\u001b[0m, in \u001b[0;36mHTTPConnection._send_request\u001b[0;34m(self, method, url, body, headers, encode_chunked)\u001b[0m\n\u001b[1;32m   1327\u001b[0m     body \u001b[39m=\u001b[39m _encode(body, \u001b[39m'\u001b[39m\u001b[39mbody\u001b[39m\u001b[39m'\u001b[39m)\n\u001b[0;32m-> 1328\u001b[0m \u001b[39mself\u001b[39;49m\u001b[39m.\u001b[39;49mendheaders(body, encode_chunked\u001b[39m=\u001b[39;49mencode_chunked)\n",
      "File \u001b[0;32m/Library/Frameworks/Python.framework/Versions/3.11/lib/python3.11/http/client.py:1277\u001b[0m, in \u001b[0;36mHTTPConnection.endheaders\u001b[0;34m(self, message_body, encode_chunked)\u001b[0m\n\u001b[1;32m   1276\u001b[0m     \u001b[39mraise\u001b[39;00m CannotSendHeader()\n\u001b[0;32m-> 1277\u001b[0m \u001b[39mself\u001b[39;49m\u001b[39m.\u001b[39;49m_send_output(message_body, encode_chunked\u001b[39m=\u001b[39;49mencode_chunked)\n",
      "File \u001b[0;32m/Library/Frameworks/Python.framework/Versions/3.11/lib/python3.11/http/client.py:1037\u001b[0m, in \u001b[0;36mHTTPConnection._send_output\u001b[0;34m(self, message_body, encode_chunked)\u001b[0m\n\u001b[1;32m   1036\u001b[0m \u001b[39mdel\u001b[39;00m \u001b[39mself\u001b[39m\u001b[39m.\u001b[39m_buffer[:]\n\u001b[0;32m-> 1037\u001b[0m \u001b[39mself\u001b[39;49m\u001b[39m.\u001b[39;49msend(msg)\n\u001b[1;32m   1039\u001b[0m \u001b[39mif\u001b[39;00m message_body \u001b[39mis\u001b[39;00m \u001b[39mnot\u001b[39;00m \u001b[39mNone\u001b[39;00m:\n\u001b[1;32m   1040\u001b[0m \n\u001b[1;32m   1041\u001b[0m     \u001b[39m# create a consistent interface to message_body\u001b[39;00m\n",
      "File \u001b[0;32m/Library/Frameworks/Python.framework/Versions/3.11/lib/python3.11/http/client.py:975\u001b[0m, in \u001b[0;36mHTTPConnection.send\u001b[0;34m(self, data)\u001b[0m\n\u001b[1;32m    974\u001b[0m \u001b[39mif\u001b[39;00m \u001b[39mself\u001b[39m\u001b[39m.\u001b[39mauto_open:\n\u001b[0;32m--> 975\u001b[0m     \u001b[39mself\u001b[39;49m\u001b[39m.\u001b[39;49mconnect()\n\u001b[1;32m    976\u001b[0m \u001b[39melse\u001b[39;00m:\n",
      "File \u001b[0;32m/Library/Frameworks/Python.framework/Versions/3.11/lib/python3.11/http/client.py:1454\u001b[0m, in \u001b[0;36mHTTPSConnection.connect\u001b[0;34m(self)\u001b[0m\n\u001b[1;32m   1452\u001b[0m     server_hostname \u001b[39m=\u001b[39m \u001b[39mself\u001b[39m\u001b[39m.\u001b[39mhost\n\u001b[0;32m-> 1454\u001b[0m \u001b[39mself\u001b[39m\u001b[39m.\u001b[39msock \u001b[39m=\u001b[39m \u001b[39mself\u001b[39;49m\u001b[39m.\u001b[39;49m_context\u001b[39m.\u001b[39;49mwrap_socket(\u001b[39mself\u001b[39;49m\u001b[39m.\u001b[39;49msock,\n\u001b[1;32m   1455\u001b[0m                                       server_hostname\u001b[39m=\u001b[39;49mserver_hostname)\n",
      "File \u001b[0;32m/Library/Frameworks/Python.framework/Versions/3.11/lib/python3.11/ssl.py:517\u001b[0m, in \u001b[0;36mSSLContext.wrap_socket\u001b[0;34m(self, sock, server_side, do_handshake_on_connect, suppress_ragged_eofs, server_hostname, session)\u001b[0m\n\u001b[1;32m    511\u001b[0m \u001b[39mdef\u001b[39;00m \u001b[39mwrap_socket\u001b[39m(\u001b[39mself\u001b[39m, sock, server_side\u001b[39m=\u001b[39m\u001b[39mFalse\u001b[39;00m,\n\u001b[1;32m    512\u001b[0m                 do_handshake_on_connect\u001b[39m=\u001b[39m\u001b[39mTrue\u001b[39;00m,\n\u001b[1;32m    513\u001b[0m                 suppress_ragged_eofs\u001b[39m=\u001b[39m\u001b[39mTrue\u001b[39;00m,\n\u001b[1;32m    514\u001b[0m                 server_hostname\u001b[39m=\u001b[39m\u001b[39mNone\u001b[39;00m, session\u001b[39m=\u001b[39m\u001b[39mNone\u001b[39;00m):\n\u001b[1;32m    515\u001b[0m     \u001b[39m# SSLSocket class handles server_hostname encoding before it calls\u001b[39;00m\n\u001b[1;32m    516\u001b[0m     \u001b[39m# ctx._wrap_socket()\u001b[39;00m\n\u001b[0;32m--> 517\u001b[0m     \u001b[39mreturn\u001b[39;00m \u001b[39mself\u001b[39;49m\u001b[39m.\u001b[39;49msslsocket_class\u001b[39m.\u001b[39;49m_create(\n\u001b[1;32m    518\u001b[0m         sock\u001b[39m=\u001b[39;49msock,\n\u001b[1;32m    519\u001b[0m         server_side\u001b[39m=\u001b[39;49mserver_side,\n\u001b[1;32m    520\u001b[0m         do_handshake_on_connect\u001b[39m=\u001b[39;49mdo_handshake_on_connect,\n\u001b[1;32m    521\u001b[0m         suppress_ragged_eofs\u001b[39m=\u001b[39;49msuppress_ragged_eofs,\n\u001b[1;32m    522\u001b[0m         server_hostname\u001b[39m=\u001b[39;49mserver_hostname,\n\u001b[1;32m    523\u001b[0m         context\u001b[39m=\u001b[39;49m\u001b[39mself\u001b[39;49m,\n\u001b[1;32m    524\u001b[0m         session\u001b[39m=\u001b[39;49msession\n\u001b[1;32m    525\u001b[0m     )\n",
      "File \u001b[0;32m/Library/Frameworks/Python.framework/Versions/3.11/lib/python3.11/ssl.py:1075\u001b[0m, in \u001b[0;36mSSLSocket._create\u001b[0;34m(cls, sock, server_side, do_handshake_on_connect, suppress_ragged_eofs, server_hostname, context, session)\u001b[0m\n\u001b[1;32m   1074\u001b[0m             \u001b[39mraise\u001b[39;00m \u001b[39mValueError\u001b[39;00m(\u001b[39m\"\u001b[39m\u001b[39mdo_handshake_on_connect should not be specified for non-blocking sockets\u001b[39m\u001b[39m\"\u001b[39m)\n\u001b[0;32m-> 1075\u001b[0m         \u001b[39mself\u001b[39;49m\u001b[39m.\u001b[39;49mdo_handshake()\n\u001b[1;32m   1076\u001b[0m \u001b[39mexcept\u001b[39;00m (\u001b[39mOSError\u001b[39;00m, \u001b[39mValueError\u001b[39;00m):\n",
      "File \u001b[0;32m/Library/Frameworks/Python.framework/Versions/3.11/lib/python3.11/ssl.py:1346\u001b[0m, in \u001b[0;36mSSLSocket.do_handshake\u001b[0;34m(self, block)\u001b[0m\n\u001b[1;32m   1345\u001b[0m         \u001b[39mself\u001b[39m\u001b[39m.\u001b[39msettimeout(\u001b[39mNone\u001b[39;00m)\n\u001b[0;32m-> 1346\u001b[0m     \u001b[39mself\u001b[39;49m\u001b[39m.\u001b[39;49m_sslobj\u001b[39m.\u001b[39;49mdo_handshake()\n\u001b[1;32m   1347\u001b[0m \u001b[39mfinally\u001b[39;00m:\n",
      "\u001b[0;31mSSLCertVerificationError\u001b[0m: [SSL: CERTIFICATE_VERIFY_FAILED] certificate verify failed: unable to get local issuer certificate (_ssl.c:992)",
      "\nDuring handling of the above exception, another exception occurred:\n",
      "\u001b[0;31mURLError\u001b[0m                                  Traceback (most recent call last)",
      "Cell \u001b[0;32mIn[8], line 5\u001b[0m\n\u001b[1;32m      2\u001b[0m pd\u001b[39m.\u001b[39mset_option(\u001b[39m'\u001b[39m\u001b[39mdisplay.float_format\u001b[39m\u001b[39m'\u001b[39m, \u001b[39m'\u001b[39m\u001b[39m{:.4f}\u001b[39;00m\u001b[39m'\u001b[39m\u001b[39m.\u001b[39mformat)\n\u001b[1;32m      4\u001b[0m url \u001b[39m=\u001b[39m \u001b[39m\"\u001b[39m\u001b[39mhttps://www.dropbox.com/scl/fi/uvv7j1bragzqkz9zwyvj0/sample_mmp.csv?rlkey=i0mlaxzq6e3blblfu9mhrdpsm&e=1&dl=1\u001b[39m\u001b[39m\"\u001b[39m\n\u001b[0;32m----> 5\u001b[0m df \u001b[39m=\u001b[39m pd\u001b[39m.\u001b[39;49mread_csv(url)\n\u001b[1;32m      6\u001b[0m \u001b[39m#df = pd.read_csv(\"sample_mmp.csv\")\u001b[39;00m\n\u001b[1;32m      7\u001b[0m df\n",
      "File \u001b[0;32m/Library/Frameworks/Python.framework/Versions/3.11/lib/python3.11/site-packages/pandas/io/parsers/readers.py:1026\u001b[0m, in \u001b[0;36mread_csv\u001b[0;34m(filepath_or_buffer, sep, delimiter, header, names, index_col, usecols, dtype, engine, converters, true_values, false_values, skipinitialspace, skiprows, skipfooter, nrows, na_values, keep_default_na, na_filter, verbose, skip_blank_lines, parse_dates, infer_datetime_format, keep_date_col, date_parser, date_format, dayfirst, cache_dates, iterator, chunksize, compression, thousands, decimal, lineterminator, quotechar, quoting, doublequote, escapechar, comment, encoding, encoding_errors, dialect, on_bad_lines, delim_whitespace, low_memory, memory_map, float_precision, storage_options, dtype_backend)\u001b[0m\n\u001b[1;32m   1013\u001b[0m kwds_defaults \u001b[39m=\u001b[39m _refine_defaults_read(\n\u001b[1;32m   1014\u001b[0m     dialect,\n\u001b[1;32m   1015\u001b[0m     delimiter,\n\u001b[0;32m   (...)\u001b[0m\n\u001b[1;32m   1022\u001b[0m     dtype_backend\u001b[39m=\u001b[39mdtype_backend,\n\u001b[1;32m   1023\u001b[0m )\n\u001b[1;32m   1024\u001b[0m kwds\u001b[39m.\u001b[39mupdate(kwds_defaults)\n\u001b[0;32m-> 1026\u001b[0m \u001b[39mreturn\u001b[39;00m _read(filepath_or_buffer, kwds)\n",
      "File \u001b[0;32m/Library/Frameworks/Python.framework/Versions/3.11/lib/python3.11/site-packages/pandas/io/parsers/readers.py:620\u001b[0m, in \u001b[0;36m_read\u001b[0;34m(filepath_or_buffer, kwds)\u001b[0m\n\u001b[1;32m    617\u001b[0m _validate_names(kwds\u001b[39m.\u001b[39mget(\u001b[39m\"\u001b[39m\u001b[39mnames\u001b[39m\u001b[39m\"\u001b[39m, \u001b[39mNone\u001b[39;00m))\n\u001b[1;32m    619\u001b[0m \u001b[39m# Create the parser.\u001b[39;00m\n\u001b[0;32m--> 620\u001b[0m parser \u001b[39m=\u001b[39m TextFileReader(filepath_or_buffer, \u001b[39m*\u001b[39;49m\u001b[39m*\u001b[39;49mkwds)\n\u001b[1;32m    622\u001b[0m \u001b[39mif\u001b[39;00m chunksize \u001b[39mor\u001b[39;00m iterator:\n\u001b[1;32m    623\u001b[0m     \u001b[39mreturn\u001b[39;00m parser\n",
      "File \u001b[0;32m/Library/Frameworks/Python.framework/Versions/3.11/lib/python3.11/site-packages/pandas/io/parsers/readers.py:1620\u001b[0m, in \u001b[0;36mTextFileReader.__init__\u001b[0;34m(self, f, engine, **kwds)\u001b[0m\n\u001b[1;32m   1617\u001b[0m     \u001b[39mself\u001b[39m\u001b[39m.\u001b[39moptions[\u001b[39m\"\u001b[39m\u001b[39mhas_index_names\u001b[39m\u001b[39m\"\u001b[39m] \u001b[39m=\u001b[39m kwds[\u001b[39m\"\u001b[39m\u001b[39mhas_index_names\u001b[39m\u001b[39m\"\u001b[39m]\n\u001b[1;32m   1619\u001b[0m \u001b[39mself\u001b[39m\u001b[39m.\u001b[39mhandles: IOHandles \u001b[39m|\u001b[39m \u001b[39mNone\u001b[39;00m \u001b[39m=\u001b[39m \u001b[39mNone\u001b[39;00m\n\u001b[0;32m-> 1620\u001b[0m \u001b[39mself\u001b[39m\u001b[39m.\u001b[39m_engine \u001b[39m=\u001b[39m \u001b[39mself\u001b[39;49m\u001b[39m.\u001b[39;49m_make_engine(f, \u001b[39mself\u001b[39;49m\u001b[39m.\u001b[39;49mengine)\n",
      "File \u001b[0;32m/Library/Frameworks/Python.framework/Versions/3.11/lib/python3.11/site-packages/pandas/io/parsers/readers.py:1880\u001b[0m, in \u001b[0;36mTextFileReader._make_engine\u001b[0;34m(self, f, engine)\u001b[0m\n\u001b[1;32m   1878\u001b[0m     \u001b[39mif\u001b[39;00m \u001b[39m\"\u001b[39m\u001b[39mb\u001b[39m\u001b[39m\"\u001b[39m \u001b[39mnot\u001b[39;00m \u001b[39min\u001b[39;00m mode:\n\u001b[1;32m   1879\u001b[0m         mode \u001b[39m+\u001b[39m\u001b[39m=\u001b[39m \u001b[39m\"\u001b[39m\u001b[39mb\u001b[39m\u001b[39m\"\u001b[39m\n\u001b[0;32m-> 1880\u001b[0m \u001b[39mself\u001b[39m\u001b[39m.\u001b[39mhandles \u001b[39m=\u001b[39m get_handle(\n\u001b[1;32m   1881\u001b[0m     f,\n\u001b[1;32m   1882\u001b[0m     mode,\n\u001b[1;32m   1883\u001b[0m     encoding\u001b[39m=\u001b[39;49m\u001b[39mself\u001b[39;49m\u001b[39m.\u001b[39;49moptions\u001b[39m.\u001b[39;49mget(\u001b[39m\"\u001b[39;49m\u001b[39mencoding\u001b[39;49m\u001b[39m\"\u001b[39;49m, \u001b[39mNone\u001b[39;49;00m),\n\u001b[1;32m   1884\u001b[0m     compression\u001b[39m=\u001b[39;49m\u001b[39mself\u001b[39;49m\u001b[39m.\u001b[39;49moptions\u001b[39m.\u001b[39;49mget(\u001b[39m\"\u001b[39;49m\u001b[39mcompression\u001b[39;49m\u001b[39m\"\u001b[39;49m, \u001b[39mNone\u001b[39;49;00m),\n\u001b[1;32m   1885\u001b[0m     memory_map\u001b[39m=\u001b[39;49m\u001b[39mself\u001b[39;49m\u001b[39m.\u001b[39;49moptions\u001b[39m.\u001b[39;49mget(\u001b[39m\"\u001b[39;49m\u001b[39mmemory_map\u001b[39;49m\u001b[39m\"\u001b[39;49m, \u001b[39mFalse\u001b[39;49;00m),\n\u001b[1;32m   1886\u001b[0m     is_text\u001b[39m=\u001b[39;49mis_text,\n\u001b[1;32m   1887\u001b[0m     errors\u001b[39m=\u001b[39;49m\u001b[39mself\u001b[39;49m\u001b[39m.\u001b[39;49moptions\u001b[39m.\u001b[39;49mget(\u001b[39m\"\u001b[39;49m\u001b[39mencoding_errors\u001b[39;49m\u001b[39m\"\u001b[39;49m, \u001b[39m\"\u001b[39;49m\u001b[39mstrict\u001b[39;49m\u001b[39m\"\u001b[39;49m),\n\u001b[1;32m   1888\u001b[0m     storage_options\u001b[39m=\u001b[39;49m\u001b[39mself\u001b[39;49m\u001b[39m.\u001b[39;49moptions\u001b[39m.\u001b[39;49mget(\u001b[39m\"\u001b[39;49m\u001b[39mstorage_options\u001b[39;49m\u001b[39m\"\u001b[39;49m, \u001b[39mNone\u001b[39;49;00m),\n\u001b[1;32m   1889\u001b[0m )\n\u001b[1;32m   1890\u001b[0m \u001b[39massert\u001b[39;00m \u001b[39mself\u001b[39m\u001b[39m.\u001b[39mhandles \u001b[39mis\u001b[39;00m \u001b[39mnot\u001b[39;00m \u001b[39mNone\u001b[39;00m\n\u001b[1;32m   1891\u001b[0m f \u001b[39m=\u001b[39m \u001b[39mself\u001b[39m\u001b[39m.\u001b[39mhandles\u001b[39m.\u001b[39mhandle\n",
      "File \u001b[0;32m/Library/Frameworks/Python.framework/Versions/3.11/lib/python3.11/site-packages/pandas/io/common.py:728\u001b[0m, in \u001b[0;36mget_handle\u001b[0;34m(path_or_buf, mode, encoding, compression, memory_map, is_text, errors, storage_options)\u001b[0m\n\u001b[1;32m    725\u001b[0m     codecs\u001b[39m.\u001b[39mlookup_error(errors)\n\u001b[1;32m    727\u001b[0m \u001b[39m# open URLs\u001b[39;00m\n\u001b[0;32m--> 728\u001b[0m ioargs \u001b[39m=\u001b[39m _get_filepath_or_buffer(\n\u001b[1;32m    729\u001b[0m     path_or_buf,\n\u001b[1;32m    730\u001b[0m     encoding\u001b[39m=\u001b[39;49mencoding,\n\u001b[1;32m    731\u001b[0m     compression\u001b[39m=\u001b[39;49mcompression,\n\u001b[1;32m    732\u001b[0m     mode\u001b[39m=\u001b[39;49mmode,\n\u001b[1;32m    733\u001b[0m     storage_options\u001b[39m=\u001b[39;49mstorage_options,\n\u001b[1;32m    734\u001b[0m )\n\u001b[1;32m    736\u001b[0m handle \u001b[39m=\u001b[39m ioargs\u001b[39m.\u001b[39mfilepath_or_buffer\n\u001b[1;32m    737\u001b[0m handles: \u001b[39mlist\u001b[39m[BaseBuffer]\n",
      "File \u001b[0;32m/Library/Frameworks/Python.framework/Versions/3.11/lib/python3.11/site-packages/pandas/io/common.py:384\u001b[0m, in \u001b[0;36m_get_filepath_or_buffer\u001b[0;34m(filepath_or_buffer, encoding, compression, mode, storage_options)\u001b[0m\n\u001b[1;32m    382\u001b[0m \u001b[39m# assuming storage_options is to be interpreted as headers\u001b[39;00m\n\u001b[1;32m    383\u001b[0m req_info \u001b[39m=\u001b[39m urllib\u001b[39m.\u001b[39mrequest\u001b[39m.\u001b[39mRequest(filepath_or_buffer, headers\u001b[39m=\u001b[39mstorage_options)\n\u001b[0;32m--> 384\u001b[0m \u001b[39mwith\u001b[39;00m urlopen(req_info) \u001b[39mas\u001b[39;00m req:\n\u001b[1;32m    385\u001b[0m     content_encoding \u001b[39m=\u001b[39m req\u001b[39m.\u001b[39mheaders\u001b[39m.\u001b[39mget(\u001b[39m\"\u001b[39m\u001b[39mContent-Encoding\u001b[39m\u001b[39m\"\u001b[39m, \u001b[39mNone\u001b[39;00m)\n\u001b[1;32m    386\u001b[0m     \u001b[39mif\u001b[39;00m content_encoding \u001b[39m==\u001b[39m \u001b[39m\"\u001b[39m\u001b[39mgzip\u001b[39m\u001b[39m\"\u001b[39m:\n\u001b[1;32m    387\u001b[0m         \u001b[39m# Override compression based on Content-Encoding header\u001b[39;00m\n",
      "File \u001b[0;32m/Library/Frameworks/Python.framework/Versions/3.11/lib/python3.11/site-packages/pandas/io/common.py:289\u001b[0m, in \u001b[0;36murlopen\u001b[0;34m(*args, **kwargs)\u001b[0m\n\u001b[1;32m    283\u001b[0m \u001b[39m\u001b[39m\u001b[39m\"\"\"\u001b[39;00m\n\u001b[1;32m    284\u001b[0m \u001b[39mLazy-import wrapper for stdlib urlopen, as that imports a big chunk of\u001b[39;00m\n\u001b[1;32m    285\u001b[0m \u001b[39mthe stdlib.\u001b[39;00m\n\u001b[1;32m    286\u001b[0m \u001b[39m\"\"\"\u001b[39;00m\n\u001b[1;32m    287\u001b[0m \u001b[39mimport\u001b[39;00m \u001b[39murllib\u001b[39;00m\u001b[39m.\u001b[39;00m\u001b[39mrequest\u001b[39;00m\n\u001b[0;32m--> 289\u001b[0m \u001b[39mreturn\u001b[39;00m urllib\u001b[39m.\u001b[39;49mrequest\u001b[39m.\u001b[39;49murlopen(\u001b[39m*\u001b[39;49margs, \u001b[39m*\u001b[39;49m\u001b[39m*\u001b[39;49mkwargs)\n",
      "File \u001b[0;32m/Library/Frameworks/Python.framework/Versions/3.11/lib/python3.11/urllib/request.py:216\u001b[0m, in \u001b[0;36murlopen\u001b[0;34m(url, data, timeout, cafile, capath, cadefault, context)\u001b[0m\n\u001b[1;32m    214\u001b[0m \u001b[39melse\u001b[39;00m:\n\u001b[1;32m    215\u001b[0m     opener \u001b[39m=\u001b[39m _opener\n\u001b[0;32m--> 216\u001b[0m \u001b[39mreturn\u001b[39;00m opener\u001b[39m.\u001b[39;49mopen(url, data, timeout)\n",
      "File \u001b[0;32m/Library/Frameworks/Python.framework/Versions/3.11/lib/python3.11/urllib/request.py:519\u001b[0m, in \u001b[0;36mOpenerDirector.open\u001b[0;34m(self, fullurl, data, timeout)\u001b[0m\n\u001b[1;32m    516\u001b[0m     req \u001b[39m=\u001b[39m meth(req)\n\u001b[1;32m    518\u001b[0m sys\u001b[39m.\u001b[39maudit(\u001b[39m'\u001b[39m\u001b[39murllib.Request\u001b[39m\u001b[39m'\u001b[39m, req\u001b[39m.\u001b[39mfull_url, req\u001b[39m.\u001b[39mdata, req\u001b[39m.\u001b[39mheaders, req\u001b[39m.\u001b[39mget_method())\n\u001b[0;32m--> 519\u001b[0m response \u001b[39m=\u001b[39m \u001b[39mself\u001b[39;49m\u001b[39m.\u001b[39;49m_open(req, data)\n\u001b[1;32m    521\u001b[0m \u001b[39m# post-process response\u001b[39;00m\n\u001b[1;32m    522\u001b[0m meth_name \u001b[39m=\u001b[39m protocol\u001b[39m+\u001b[39m\u001b[39m\"\u001b[39m\u001b[39m_response\u001b[39m\u001b[39m\"\u001b[39m\n",
      "File \u001b[0;32m/Library/Frameworks/Python.framework/Versions/3.11/lib/python3.11/urllib/request.py:536\u001b[0m, in \u001b[0;36mOpenerDirector._open\u001b[0;34m(self, req, data)\u001b[0m\n\u001b[1;32m    533\u001b[0m     \u001b[39mreturn\u001b[39;00m result\n\u001b[1;32m    535\u001b[0m protocol \u001b[39m=\u001b[39m req\u001b[39m.\u001b[39mtype\n\u001b[0;32m--> 536\u001b[0m result \u001b[39m=\u001b[39m \u001b[39mself\u001b[39;49m\u001b[39m.\u001b[39;49m_call_chain(\u001b[39mself\u001b[39;49m\u001b[39m.\u001b[39;49mhandle_open, protocol, protocol \u001b[39m+\u001b[39;49m\n\u001b[1;32m    537\u001b[0m                           \u001b[39m'\u001b[39;49m\u001b[39m_open\u001b[39;49m\u001b[39m'\u001b[39;49m, req)\n\u001b[1;32m    538\u001b[0m \u001b[39mif\u001b[39;00m result:\n\u001b[1;32m    539\u001b[0m     \u001b[39mreturn\u001b[39;00m result\n",
      "File \u001b[0;32m/Library/Frameworks/Python.framework/Versions/3.11/lib/python3.11/urllib/request.py:496\u001b[0m, in \u001b[0;36mOpenerDirector._call_chain\u001b[0;34m(self, chain, kind, meth_name, *args)\u001b[0m\n\u001b[1;32m    494\u001b[0m \u001b[39mfor\u001b[39;00m handler \u001b[39min\u001b[39;00m handlers:\n\u001b[1;32m    495\u001b[0m     func \u001b[39m=\u001b[39m \u001b[39mgetattr\u001b[39m(handler, meth_name)\n\u001b[0;32m--> 496\u001b[0m     result \u001b[39m=\u001b[39m func(\u001b[39m*\u001b[39;49margs)\n\u001b[1;32m    497\u001b[0m     \u001b[39mif\u001b[39;00m result \u001b[39mis\u001b[39;00m \u001b[39mnot\u001b[39;00m \u001b[39mNone\u001b[39;00m:\n\u001b[1;32m    498\u001b[0m         \u001b[39mreturn\u001b[39;00m result\n",
      "File \u001b[0;32m/Library/Frameworks/Python.framework/Versions/3.11/lib/python3.11/urllib/request.py:1391\u001b[0m, in \u001b[0;36mHTTPSHandler.https_open\u001b[0;34m(self, req)\u001b[0m\n\u001b[1;32m   1390\u001b[0m \u001b[39mdef\u001b[39;00m \u001b[39mhttps_open\u001b[39m(\u001b[39mself\u001b[39m, req):\n\u001b[0;32m-> 1391\u001b[0m     \u001b[39mreturn\u001b[39;00m \u001b[39mself\u001b[39;49m\u001b[39m.\u001b[39;49mdo_open(http\u001b[39m.\u001b[39;49mclient\u001b[39m.\u001b[39;49mHTTPSConnection, req,\n\u001b[1;32m   1392\u001b[0m         context\u001b[39m=\u001b[39;49m\u001b[39mself\u001b[39;49m\u001b[39m.\u001b[39;49m_context, check_hostname\u001b[39m=\u001b[39;49m\u001b[39mself\u001b[39;49m\u001b[39m.\u001b[39;49m_check_hostname)\n",
      "File \u001b[0;32m/Library/Frameworks/Python.framework/Versions/3.11/lib/python3.11/urllib/request.py:1351\u001b[0m, in \u001b[0;36mAbstractHTTPHandler.do_open\u001b[0;34m(self, http_class, req, **http_conn_args)\u001b[0m\n\u001b[1;32m   1348\u001b[0m         h\u001b[39m.\u001b[39mrequest(req\u001b[39m.\u001b[39mget_method(), req\u001b[39m.\u001b[39mselector, req\u001b[39m.\u001b[39mdata, headers,\n\u001b[1;32m   1349\u001b[0m                   encode_chunked\u001b[39m=\u001b[39mreq\u001b[39m.\u001b[39mhas_header(\u001b[39m'\u001b[39m\u001b[39mTransfer-encoding\u001b[39m\u001b[39m'\u001b[39m))\n\u001b[1;32m   1350\u001b[0m     \u001b[39mexcept\u001b[39;00m \u001b[39mOSError\u001b[39;00m \u001b[39mas\u001b[39;00m err: \u001b[39m# timeout error\u001b[39;00m\n\u001b[0;32m-> 1351\u001b[0m         \u001b[39mraise\u001b[39;00m URLError(err)\n\u001b[1;32m   1352\u001b[0m     r \u001b[39m=\u001b[39m h\u001b[39m.\u001b[39mgetresponse()\n\u001b[1;32m   1353\u001b[0m \u001b[39mexcept\u001b[39;00m:\n",
      "\u001b[0;31mURLError\u001b[0m: <urlopen error [SSL: CERTIFICATE_VERIFY_FAILED] certificate verify failed: unable to get local issuer certificate (_ssl.c:992)>"
     ]
    }
   ],
   "source": [
    "del_columns = []\n",
    "pd.set_option('display.float_format', '{:.4f}'.format)\n",
    "\n",
    "url = \"https://www.dropbox.com/scl/fi/uvv7j1bragzqkz9zwyvj0/sample_mmp.csv?rlkey=i0mlaxzq6e3blblfu9mhrdpsm&e=1&dl=1\"\n",
    "#df = pd.read_csv(url)\n",
    "df = pd.read_csv(\"sample_mmp.csv\")\n",
    "df"
   ]
  },
  {
   "cell_type": "code",
   "execution_count": null,
   "metadata": {
    "ExecuteTime": {
     "end_time": "2025-02-03T23:01:28.404859Z",
     "start_time": "2025-02-03T23:01:28.038075Z"
    }
   },
   "outputs": [
    {
     "name": "stdout",
     "output_type": "stream",
     "text": [
      "<class 'pandas.core.frame.DataFrame'>\n",
      "RangeIndex: 500000 entries, 0 to 499999\n",
      "Data columns (total 84 columns):\n",
      " #   Column                                             Non-Null Count   Dtype  \n",
      "---  ------                                             --------------   -----  \n",
      " 0   Unnamed: 0                                         500000 non-null  int64  \n",
      " 1   MachineIdentifier                                  500000 non-null  object \n",
      " 2   ProductName                                        500000 non-null  object \n",
      " 3   EngineVersion                                      500000 non-null  object \n",
      " 4   AppVersion                                         500000 non-null  object \n",
      " 5   AvSigVersion                                       500000 non-null  object \n",
      " 6   IsBeta                                             500000 non-null  int64  \n",
      " 7   RtpStateBitfield                                   498168 non-null  float64\n",
      " 8   IsSxsPassiveMode                                   500000 non-null  int64  \n",
      " 9   DefaultBrowsersIdentifier                          24061 non-null   float64\n",
      " 10  AVProductStatesIdentifier                          498062 non-null  float64\n",
      " 11  AVProductsInstalled                                498062 non-null  float64\n",
      " 12  AVProductsEnabled                                  498062 non-null  float64\n",
      " 13  HasTpm                                             500000 non-null  int64  \n",
      " 14  CountryIdentifier                                  500000 non-null  int64  \n",
      " 15  CityIdentifier                                     481760 non-null  float64\n",
      " 16  OrganizationIdentifier                             345437 non-null  float64\n",
      " 17  GeoNameIdentifier                                  499984 non-null  float64\n",
      " 18  LocaleEnglishNameIdentifier                        500000 non-null  int64  \n",
      " 19  Platform                                           500000 non-null  object \n",
      " 20  Processor                                          500000 non-null  object \n",
      " 21  OsVer                                              500000 non-null  object \n",
      " 22  OsBuild                                            500000 non-null  int64  \n",
      " 23  OsSuite                                            500000 non-null  int64  \n",
      " 24  OsPlatformSubRelease                               500000 non-null  object \n",
      " 25  OsBuildLab                                         499999 non-null  object \n",
      " 26  SkuEdition                                         500000 non-null  object \n",
      " 27  IsProtected                                        498074 non-null  float64\n",
      " 28  AutoSampleOptIn                                    500000 non-null  int64  \n",
      " 29  PuaMode                                            126 non-null     object \n",
      " 30  SMode                                              470152 non-null  float64\n",
      " 31  IeVerIdentifier                                    496791 non-null  float64\n",
      " 32  SmartScreen                                        321404 non-null  object \n",
      " 33  Firewall                                           494838 non-null  float64\n",
      " 34  UacLuaenable                                       499377 non-null  float64\n",
      " 35  Census_MDC2FormFactor                              500000 non-null  object \n",
      " 36  Census_DeviceFamily                                500000 non-null  object \n",
      " 37  Census_OEMNameIdentifier                           494619 non-null  float64\n",
      " 38  Census_OEMModelIdentifier                          494236 non-null  float64\n",
      " 39  Census_ProcessorCoreCount                          497653 non-null  float64\n",
      " 40  Census_ProcessorManufacturerIdentifier             497653 non-null  float64\n",
      " 41  Census_ProcessorModelIdentifier                    497651 non-null  float64\n",
      " 42  Census_ProcessorClass                              2082 non-null    object \n",
      " 43  Census_PrimaryDiskTotalCapacity                    497024 non-null  float64\n",
      " 44  Census_PrimaryDiskTypeName                         499291 non-null  object \n",
      " 45  Census_SystemVolumeTotalCapacity                   497024 non-null  float64\n",
      " 46  Census_HasOpticalDiskDrive                         500000 non-null  int64  \n",
      " 47  Census_TotalPhysicalRAM                            495444 non-null  float64\n",
      " 48  Census_ChassisTypeName                             499963 non-null  object \n",
      " 49  Census_InternalPrimaryDiagonalDisplaySizeInInches  497346 non-null  float64\n",
      " 50  Census_InternalPrimaryDisplayResolutionHorizontal  497350 non-null  float64\n",
      " 51  Census_InternalPrimaryDisplayResolutionVertical    497350 non-null  float64\n",
      " 52  Census_PowerPlatformRoleName                       499998 non-null  object \n",
      " 53  Census_InternalBatteryType                         144397 non-null  object \n",
      " 54  Census_InternalBatteryNumberOfCharges              484962 non-null  float64\n",
      " 55  Census_OSVersion                                   500000 non-null  object \n",
      " 56  Census_OSArchitecture                              500000 non-null  object \n",
      " 57  Census_OSBranch                                    500000 non-null  object \n",
      " 58  Census_OSBuildNumber                               500000 non-null  int64  \n",
      " 59  Census_OSBuildRevision                             500000 non-null  int64  \n",
      " 60  Census_OSEdition                                   500000 non-null  object \n",
      " 61  Census_OSSkuName                                   500000 non-null  object \n",
      " 62  Census_OSInstallTypeName                           500000 non-null  object \n",
      " 63  Census_OSInstallLanguageIdentifier                 496668 non-null  float64\n",
      " 64  Census_OSUILocaleIdentifier                        500000 non-null  int64  \n",
      " 65  Census_OSWUAutoUpdateOptionsName                   500000 non-null  object \n",
      " 66  Census_IsPortableOperatingSystem                   500000 non-null  int64  \n",
      " 67  Census_GenuineStateName                            500000 non-null  object \n",
      " 68  Census_ActivationChannel                           500000 non-null  object \n",
      " 69  Census_IsFlightingInternal                         84775 non-null   float64\n",
      " 70  Census_IsFlightsDisabled                           491067 non-null  float64\n",
      " 71  Census_FlightRing                                  500000 non-null  object \n",
      " 72  Census_ThresholdOptIn                              181896 non-null  float64\n",
      " 73  Census_FirmwareManufacturerIdentifier              489651 non-null  float64\n",
      " 74  Census_FirmwareVersionIdentifier                   490939 non-null  float64\n",
      " 75  Census_IsSecureBootEnabled                         500000 non-null  int64  \n",
      " 76  Census_IsWIMBootEnabled                            182334 non-null  float64\n",
      " 77  Census_IsVirtualDevice                             499099 non-null  float64\n",
      " 78  Census_IsTouchEnabled                              500000 non-null  int64  \n",
      " 79  Census_IsPenCapable                                500000 non-null  int64  \n",
      " 80  Census_IsAlwaysOnAlwaysConnectedCapable            495960 non-null  float64\n",
      " 81  Wdft_IsGamer                                       483050 non-null  float64\n",
      " 82  Wdft_RegionIdentifier                              483050 non-null  float64\n",
      " 83  HasDetections                                      500000 non-null  int64  \n",
      "dtypes: float64(36), int64(18), object(30)\n",
      "memory usage: 320.4+ MB\n"
     ]
    }
   ],
   "source": [
    "df.info()"
   ]
  },
  {
   "cell_type": "code",
   "execution_count": null,
   "metadata": {
    "ExecuteTime": {
     "end_time": "2025-02-03T23:01:29.470536Z",
     "start_time": "2025-02-03T23:01:28.457492Z"
    }
   },
   "outputs": [
    {
     "data": {
      "text/html": [
       "<div>\n",
       "<style scoped>\n",
       "    .dataframe tbody tr th:only-of-type {\n",
       "        vertical-align: middle;\n",
       "    }\n",
       "\n",
       "    .dataframe tbody tr th {\n",
       "        vertical-align: top;\n",
       "    }\n",
       "\n",
       "    .dataframe thead th {\n",
       "        text-align: right;\n",
       "    }\n",
       "</style>\n",
       "<table border=\"1\" class=\"dataframe\">\n",
       "  <thead>\n",
       "    <tr style=\"text-align: right;\">\n",
       "      <th></th>\n",
       "      <th>count</th>\n",
       "      <th>mean</th>\n",
       "      <th>std</th>\n",
       "      <th>min</th>\n",
       "      <th>25%</th>\n",
       "      <th>50%</th>\n",
       "      <th>75%</th>\n",
       "      <th>max</th>\n",
       "    </tr>\n",
       "  </thead>\n",
       "  <tbody>\n",
       "    <tr>\n",
       "      <th>Unnamed: 0</th>\n",
       "      <td>500000.0000</td>\n",
       "      <td>4458888.2675</td>\n",
       "      <td>2575618.6218</td>\n",
       "      <td>2.0000</td>\n",
       "      <td>2227692.5000</td>\n",
       "      <td>4461367.5000</td>\n",
       "      <td>6690936.0000</td>\n",
       "      <td>8921471.0000</td>\n",
       "    </tr>\n",
       "    <tr>\n",
       "      <th>IsBeta</th>\n",
       "      <td>500000.0000</td>\n",
       "      <td>0.0000</td>\n",
       "      <td>0.0014</td>\n",
       "      <td>0.0000</td>\n",
       "      <td>0.0000</td>\n",
       "      <td>0.0000</td>\n",
       "      <td>0.0000</td>\n",
       "      <td>1.0000</td>\n",
       "    </tr>\n",
       "    <tr>\n",
       "      <th>RtpStateBitfield</th>\n",
       "      <td>498168.0000</td>\n",
       "      <td>6.8462</td>\n",
       "      <td>1.0230</td>\n",
       "      <td>0.0000</td>\n",
       "      <td>7.0000</td>\n",
       "      <td>7.0000</td>\n",
       "      <td>7.0000</td>\n",
       "      <td>35.0000</td>\n",
       "    </tr>\n",
       "    <tr>\n",
       "      <th>IsSxsPassiveMode</th>\n",
       "      <td>500000.0000</td>\n",
       "      <td>0.0172</td>\n",
       "      <td>0.1302</td>\n",
       "      <td>0.0000</td>\n",
       "      <td>0.0000</td>\n",
       "      <td>0.0000</td>\n",
       "      <td>0.0000</td>\n",
       "      <td>1.0000</td>\n",
       "    </tr>\n",
       "    <tr>\n",
       "      <th>DefaultBrowsersIdentifier</th>\n",
       "      <td>24061.0000</td>\n",
       "      <td>1652.8245</td>\n",
       "      <td>1004.7543</td>\n",
       "      <td>1.0000</td>\n",
       "      <td>788.0000</td>\n",
       "      <td>1632.0000</td>\n",
       "      <td>2381.0000</td>\n",
       "      <td>3209.0000</td>\n",
       "    </tr>\n",
       "    <tr>\n",
       "      <th>AVProductStatesIdentifier</th>\n",
       "      <td>498062.0000</td>\n",
       "      <td>47850.9084</td>\n",
       "      <td>14023.0853</td>\n",
       "      <td>3.0000</td>\n",
       "      <td>49480.0000</td>\n",
       "      <td>53447.0000</td>\n",
       "      <td>53447.0000</td>\n",
       "      <td>70492.0000</td>\n",
       "    </tr>\n",
       "    <tr>\n",
       "      <th>AVProductsInstalled</th>\n",
       "      <td>498062.0000</td>\n",
       "      <td>1.3268</td>\n",
       "      <td>0.5230</td>\n",
       "      <td>1.0000</td>\n",
       "      <td>1.0000</td>\n",
       "      <td>1.0000</td>\n",
       "      <td>2.0000</td>\n",
       "      <td>5.0000</td>\n",
       "    </tr>\n",
       "    <tr>\n",
       "      <th>AVProductsEnabled</th>\n",
       "      <td>498062.0000</td>\n",
       "      <td>1.0207</td>\n",
       "      <td>0.1666</td>\n",
       "      <td>0.0000</td>\n",
       "      <td>1.0000</td>\n",
       "      <td>1.0000</td>\n",
       "      <td>1.0000</td>\n",
       "      <td>4.0000</td>\n",
       "    </tr>\n",
       "    <tr>\n",
       "      <th>HasTpm</th>\n",
       "      <td>500000.0000</td>\n",
       "      <td>0.9878</td>\n",
       "      <td>0.1097</td>\n",
       "      <td>0.0000</td>\n",
       "      <td>1.0000</td>\n",
       "      <td>1.0000</td>\n",
       "      <td>1.0000</td>\n",
       "      <td>1.0000</td>\n",
       "    </tr>\n",
       "    <tr>\n",
       "      <th>CountryIdentifier</th>\n",
       "      <td>500000.0000</td>\n",
       "      <td>108.0375</td>\n",
       "      <td>63.0685</td>\n",
       "      <td>1.0000</td>\n",
       "      <td>51.0000</td>\n",
       "      <td>97.0000</td>\n",
       "      <td>162.0000</td>\n",
       "      <td>222.0000</td>\n",
       "    </tr>\n",
       "    <tr>\n",
       "      <th>CityIdentifier</th>\n",
       "      <td>481760.0000</td>\n",
       "      <td>81271.6460</td>\n",
       "      <td>48985.1297</td>\n",
       "      <td>7.0000</td>\n",
       "      <td>36825.0000</td>\n",
       "      <td>82373.0000</td>\n",
       "      <td>123939.5000</td>\n",
       "      <td>167958.0000</td>\n",
       "    </tr>\n",
       "    <tr>\n",
       "      <th>OrganizationIdentifier</th>\n",
       "      <td>345437.0000</td>\n",
       "      <td>24.8699</td>\n",
       "      <td>5.6137</td>\n",
       "      <td>1.0000</td>\n",
       "      <td>18.0000</td>\n",
       "      <td>27.0000</td>\n",
       "      <td>27.0000</td>\n",
       "      <td>52.0000</td>\n",
       "    </tr>\n",
       "    <tr>\n",
       "      <th>GeoNameIdentifier</th>\n",
       "      <td>499984.0000</td>\n",
       "      <td>169.7304</td>\n",
       "      <td>89.3252</td>\n",
       "      <td>1.0000</td>\n",
       "      <td>89.0000</td>\n",
       "      <td>181.0000</td>\n",
       "      <td>267.0000</td>\n",
       "      <td>296.0000</td>\n",
       "    </tr>\n",
       "    <tr>\n",
       "      <th>LocaleEnglishNameIdentifier</th>\n",
       "      <td>500000.0000</td>\n",
       "      <td>122.6110</td>\n",
       "      <td>69.3032</td>\n",
       "      <td>1.0000</td>\n",
       "      <td>74.0000</td>\n",
       "      <td>88.0000</td>\n",
       "      <td>182.0000</td>\n",
       "      <td>283.0000</td>\n",
       "    </tr>\n",
       "    <tr>\n",
       "      <th>OsBuild</th>\n",
       "      <td>500000.0000</td>\n",
       "      <td>15726.9338</td>\n",
       "      <td>2188.6461</td>\n",
       "      <td>7600.0000</td>\n",
       "      <td>15063.0000</td>\n",
       "      <td>16299.0000</td>\n",
       "      <td>17134.0000</td>\n",
       "      <td>18242.0000</td>\n",
       "    </tr>\n",
       "    <tr>\n",
       "      <th>OsSuite</th>\n",
       "      <td>500000.0000</td>\n",
       "      <td>574.7186</td>\n",
       "      <td>248.2033</td>\n",
       "      <td>16.0000</td>\n",
       "      <td>256.0000</td>\n",
       "      <td>768.0000</td>\n",
       "      <td>768.0000</td>\n",
       "      <td>784.0000</td>\n",
       "    </tr>\n",
       "    <tr>\n",
       "      <th>IsProtected</th>\n",
       "      <td>498074.0000</td>\n",
       "      <td>0.9458</td>\n",
       "      <td>0.2264</td>\n",
       "      <td>0.0000</td>\n",
       "      <td>1.0000</td>\n",
       "      <td>1.0000</td>\n",
       "      <td>1.0000</td>\n",
       "      <td>1.0000</td>\n",
       "    </tr>\n",
       "    <tr>\n",
       "      <th>AutoSampleOptIn</th>\n",
       "      <td>500000.0000</td>\n",
       "      <td>0.0000</td>\n",
       "      <td>0.0053</td>\n",
       "      <td>0.0000</td>\n",
       "      <td>0.0000</td>\n",
       "      <td>0.0000</td>\n",
       "      <td>0.0000</td>\n",
       "      <td>1.0000</td>\n",
       "    </tr>\n",
       "    <tr>\n",
       "      <th>SMode</th>\n",
       "      <td>470152.0000</td>\n",
       "      <td>0.0004</td>\n",
       "      <td>0.0209</td>\n",
       "      <td>0.0000</td>\n",
       "      <td>0.0000</td>\n",
       "      <td>0.0000</td>\n",
       "      <td>0.0000</td>\n",
       "      <td>1.0000</td>\n",
       "    </tr>\n",
       "    <tr>\n",
       "      <th>IeVerIdentifier</th>\n",
       "      <td>496791.0000</td>\n",
       "      <td>126.6626</td>\n",
       "      <td>42.6349</td>\n",
       "      <td>8.0000</td>\n",
       "      <td>111.0000</td>\n",
       "      <td>135.0000</td>\n",
       "      <td>137.0000</td>\n",
       "      <td>429.0000</td>\n",
       "    </tr>\n",
       "    <tr>\n",
       "      <th>Firewall</th>\n",
       "      <td>494838.0000</td>\n",
       "      <td>0.9782</td>\n",
       "      <td>0.1459</td>\n",
       "      <td>0.0000</td>\n",
       "      <td>1.0000</td>\n",
       "      <td>1.0000</td>\n",
       "      <td>1.0000</td>\n",
       "      <td>1.0000</td>\n",
       "    </tr>\n",
       "    <tr>\n",
       "      <th>UacLuaenable</th>\n",
       "      <td>499377.0000</td>\n",
       "      <td>13.7250</td>\n",
       "      <td>8995.8481</td>\n",
       "      <td>0.0000</td>\n",
       "      <td>1.0000</td>\n",
       "      <td>1.0000</td>\n",
       "      <td>1.0000</td>\n",
       "      <td>6357062.0000</td>\n",
       "    </tr>\n",
       "    <tr>\n",
       "      <th>Census_OEMNameIdentifier</th>\n",
       "      <td>494619.0000</td>\n",
       "      <td>2218.6465</td>\n",
       "      <td>1315.7096</td>\n",
       "      <td>54.0000</td>\n",
       "      <td>1443.0000</td>\n",
       "      <td>2102.0000</td>\n",
       "      <td>2668.0000</td>\n",
       "      <td>6143.0000</td>\n",
       "    </tr>\n",
       "    <tr>\n",
       "      <th>Census_OEMModelIdentifier</th>\n",
       "      <td>494236.0000</td>\n",
       "      <td>239128.0469</td>\n",
       "      <td>72048.8836</td>\n",
       "      <td>1.0000</td>\n",
       "      <td>189641.7500</td>\n",
       "      <td>247520.0000</td>\n",
       "      <td>304438.0000</td>\n",
       "      <td>345493.0000</td>\n",
       "    </tr>\n",
       "    <tr>\n",
       "      <th>Census_ProcessorCoreCount</th>\n",
       "      <td>497653.0000</td>\n",
       "      <td>3.9941</td>\n",
       "      <td>2.0713</td>\n",
       "      <td>1.0000</td>\n",
       "      <td>2.0000</td>\n",
       "      <td>4.0000</td>\n",
       "      <td>4.0000</td>\n",
       "      <td>88.0000</td>\n",
       "    </tr>\n",
       "    <tr>\n",
       "      <th>Census_ProcessorManufacturerIdentifier</th>\n",
       "      <td>497653.0000</td>\n",
       "      <td>4.5291</td>\n",
       "      <td>1.2896</td>\n",
       "      <td>1.0000</td>\n",
       "      <td>5.0000</td>\n",
       "      <td>5.0000</td>\n",
       "      <td>5.0000</td>\n",
       "      <td>10.0000</td>\n",
       "    </tr>\n",
       "    <tr>\n",
       "      <th>Census_ProcessorModelIdentifier</th>\n",
       "      <td>497651.0000</td>\n",
       "      <td>2370.9865</td>\n",
       "      <td>842.1367</td>\n",
       "      <td>3.0000</td>\n",
       "      <td>1998.0000</td>\n",
       "      <td>2500.0000</td>\n",
       "      <td>2877.0000</td>\n",
       "      <td>4472.0000</td>\n",
       "    </tr>\n",
       "    <tr>\n",
       "      <th>Census_PrimaryDiskTotalCapacity</th>\n",
       "      <td>497024.0000</td>\n",
       "      <td>514043.3159</td>\n",
       "      <td>370446.8159</td>\n",
       "      <td>10240.0000</td>\n",
       "      <td>239372.0000</td>\n",
       "      <td>476940.0000</td>\n",
       "      <td>953869.0000</td>\n",
       "      <td>47687668.0000</td>\n",
       "    </tr>\n",
       "    <tr>\n",
       "      <th>Census_SystemVolumeTotalCapacity</th>\n",
       "      <td>497024.0000</td>\n",
       "      <td>378054.6393</td>\n",
       "      <td>338472.2187</td>\n",
       "      <td>9689.0000</td>\n",
       "      <td>120775.0000</td>\n",
       "      <td>249450.0000</td>\n",
       "      <td>475981.0000</td>\n",
       "      <td>47687100.0000</td>\n",
       "    </tr>\n",
       "    <tr>\n",
       "      <th>Census_HasOpticalDiskDrive</th>\n",
       "      <td>500000.0000</td>\n",
       "      <td>0.0770</td>\n",
       "      <td>0.2666</td>\n",
       "      <td>0.0000</td>\n",
       "      <td>0.0000</td>\n",
       "      <td>0.0000</td>\n",
       "      <td>0.0000</td>\n",
       "      <td>1.0000</td>\n",
       "    </tr>\n",
       "    <tr>\n",
       "      <th>Census_TotalPhysicalRAM</th>\n",
       "      <td>495444.0000</td>\n",
       "      <td>6129.2322</td>\n",
       "      <td>4964.5213</td>\n",
       "      <td>512.0000</td>\n",
       "      <td>4096.0000</td>\n",
       "      <td>4096.0000</td>\n",
       "      <td>8192.0000</td>\n",
       "      <td>393216.0000</td>\n",
       "    </tr>\n",
       "    <tr>\n",
       "      <th>Census_InternalPrimaryDiagonalDisplaySizeInInches</th>\n",
       "      <td>497346.0000</td>\n",
       "      <td>16.6898</td>\n",
       "      <td>5.9320</td>\n",
       "      <td>4.9000</td>\n",
       "      <td>13.9000</td>\n",
       "      <td>15.5000</td>\n",
       "      <td>17.2000</td>\n",
       "      <td>142.0000</td>\n",
       "    </tr>\n",
       "    <tr>\n",
       "      <th>Census_InternalPrimaryDisplayResolutionHorizontal</th>\n",
       "      <td>497350.0000</td>\n",
       "      <td>1548.3043</td>\n",
       "      <td>368.5659</td>\n",
       "      <td>-1.0000</td>\n",
       "      <td>1366.0000</td>\n",
       "      <td>1366.0000</td>\n",
       "      <td>1920.0000</td>\n",
       "      <td>11520.0000</td>\n",
       "    </tr>\n",
       "    <tr>\n",
       "      <th>Census_InternalPrimaryDisplayResolutionVertical</th>\n",
       "      <td>497350.0000</td>\n",
       "      <td>898.2393</td>\n",
       "      <td>214.8625</td>\n",
       "      <td>-1.0000</td>\n",
       "      <td>768.0000</td>\n",
       "      <td>768.0000</td>\n",
       "      <td>1080.0000</td>\n",
       "      <td>4320.0000</td>\n",
       "    </tr>\n",
       "    <tr>\n",
       "      <th>Census_InternalBatteryNumberOfCharges</th>\n",
       "      <td>484962.0000</td>\n",
       "      <td>1125600150.2055</td>\n",
       "      <td>1888768455.7804</td>\n",
       "      <td>0.0000</td>\n",
       "      <td>0.0000</td>\n",
       "      <td>0.0000</td>\n",
       "      <td>4294967295.0000</td>\n",
       "      <td>4294967295.0000</td>\n",
       "    </tr>\n",
       "    <tr>\n",
       "      <th>Census_OSBuildNumber</th>\n",
       "      <td>500000.0000</td>\n",
       "      <td>15841.3726</td>\n",
       "      <td>1959.4403</td>\n",
       "      <td>9600.0000</td>\n",
       "      <td>15063.0000</td>\n",
       "      <td>16299.0000</td>\n",
       "      <td>17134.0000</td>\n",
       "      <td>18242.0000</td>\n",
       "    </tr>\n",
       "    <tr>\n",
       "      <th>Census_OSBuildRevision</th>\n",
       "      <td>500000.0000</td>\n",
       "      <td>967.2248</td>\n",
       "      <td>2920.6277</td>\n",
       "      <td>0.0000</td>\n",
       "      <td>165.0000</td>\n",
       "      <td>285.0000</td>\n",
       "      <td>547.0000</td>\n",
       "      <td>19069.0000</td>\n",
       "    </tr>\n",
       "    <tr>\n",
       "      <th>Census_OSInstallLanguageIdentifier</th>\n",
       "      <td>496668.0000</td>\n",
       "      <td>14.6055</td>\n",
       "      <td>10.2009</td>\n",
       "      <td>1.0000</td>\n",
       "      <td>8.0000</td>\n",
       "      <td>9.0000</td>\n",
       "      <td>20.0000</td>\n",
       "      <td>39.0000</td>\n",
       "    </tr>\n",
       "    <tr>\n",
       "      <th>Census_OSUILocaleIdentifier</th>\n",
       "      <td>500000.0000</td>\n",
       "      <td>60.4463</td>\n",
       "      <td>45.0004</td>\n",
       "      <td>1.0000</td>\n",
       "      <td>31.0000</td>\n",
       "      <td>34.0000</td>\n",
       "      <td>90.0000</td>\n",
       "      <td>162.0000</td>\n",
       "    </tr>\n",
       "    <tr>\n",
       "      <th>Census_IsPortableOperatingSystem</th>\n",
       "      <td>500000.0000</td>\n",
       "      <td>0.0005</td>\n",
       "      <td>0.0228</td>\n",
       "      <td>0.0000</td>\n",
       "      <td>0.0000</td>\n",
       "      <td>0.0000</td>\n",
       "      <td>0.0000</td>\n",
       "      <td>1.0000</td>\n",
       "    </tr>\n",
       "    <tr>\n",
       "      <th>Census_IsFlightingInternal</th>\n",
       "      <td>84775.0000</td>\n",
       "      <td>0.0000</td>\n",
       "      <td>0.0049</td>\n",
       "      <td>0.0000</td>\n",
       "      <td>0.0000</td>\n",
       "      <td>0.0000</td>\n",
       "      <td>0.0000</td>\n",
       "      <td>1.0000</td>\n",
       "    </tr>\n",
       "    <tr>\n",
       "      <th>Census_IsFlightsDisabled</th>\n",
       "      <td>491067.0000</td>\n",
       "      <td>0.0000</td>\n",
       "      <td>0.0038</td>\n",
       "      <td>0.0000</td>\n",
       "      <td>0.0000</td>\n",
       "      <td>0.0000</td>\n",
       "      <td>0.0000</td>\n",
       "      <td>1.0000</td>\n",
       "    </tr>\n",
       "    <tr>\n",
       "      <th>Census_ThresholdOptIn</th>\n",
       "      <td>181896.0000</td>\n",
       "      <td>0.0003</td>\n",
       "      <td>0.0161</td>\n",
       "      <td>0.0000</td>\n",
       "      <td>0.0000</td>\n",
       "      <td>0.0000</td>\n",
       "      <td>0.0000</td>\n",
       "      <td>1.0000</td>\n",
       "    </tr>\n",
       "    <tr>\n",
       "      <th>Census_FirmwareManufacturerIdentifier</th>\n",
       "      <td>489651.0000</td>\n",
       "      <td>402.6759</td>\n",
       "      <td>221.5271</td>\n",
       "      <td>11.0000</td>\n",
       "      <td>142.0000</td>\n",
       "      <td>500.0000</td>\n",
       "      <td>556.0000</td>\n",
       "      <td>1084.0000</td>\n",
       "    </tr>\n",
       "    <tr>\n",
       "      <th>Census_FirmwareVersionIdentifier</th>\n",
       "      <td>490939.0000</td>\n",
       "      <td>33030.9889</td>\n",
       "      <td>21220.1614</td>\n",
       "      <td>10.0000</td>\n",
       "      <td>13156.0000</td>\n",
       "      <td>33070.0000</td>\n",
       "      <td>52436.0000</td>\n",
       "      <td>72091.0000</td>\n",
       "    </tr>\n",
       "    <tr>\n",
       "      <th>Census_IsSecureBootEnabled</th>\n",
       "      <td>500000.0000</td>\n",
       "      <td>0.4854</td>\n",
       "      <td>0.4998</td>\n",
       "      <td>0.0000</td>\n",
       "      <td>0.0000</td>\n",
       "      <td>0.0000</td>\n",
       "      <td>1.0000</td>\n",
       "      <td>1.0000</td>\n",
       "    </tr>\n",
       "    <tr>\n",
       "      <th>Census_IsWIMBootEnabled</th>\n",
       "      <td>182334.0000</td>\n",
       "      <td>0.0000</td>\n",
       "      <td>0.0000</td>\n",
       "      <td>0.0000</td>\n",
       "      <td>0.0000</td>\n",
       "      <td>0.0000</td>\n",
       "      <td>0.0000</td>\n",
       "      <td>0.0000</td>\n",
       "    </tr>\n",
       "    <tr>\n",
       "      <th>Census_IsVirtualDevice</th>\n",
       "      <td>499099.0000</td>\n",
       "      <td>0.0071</td>\n",
       "      <td>0.0838</td>\n",
       "      <td>0.0000</td>\n",
       "      <td>0.0000</td>\n",
       "      <td>0.0000</td>\n",
       "      <td>0.0000</td>\n",
       "      <td>1.0000</td>\n",
       "    </tr>\n",
       "    <tr>\n",
       "      <th>Census_IsTouchEnabled</th>\n",
       "      <td>500000.0000</td>\n",
       "      <td>0.1254</td>\n",
       "      <td>0.3312</td>\n",
       "      <td>0.0000</td>\n",
       "      <td>0.0000</td>\n",
       "      <td>0.0000</td>\n",
       "      <td>0.0000</td>\n",
       "      <td>1.0000</td>\n",
       "    </tr>\n",
       "    <tr>\n",
       "      <th>Census_IsPenCapable</th>\n",
       "      <td>500000.0000</td>\n",
       "      <td>0.0377</td>\n",
       "      <td>0.1906</td>\n",
       "      <td>0.0000</td>\n",
       "      <td>0.0000</td>\n",
       "      <td>0.0000</td>\n",
       "      <td>0.0000</td>\n",
       "      <td>1.0000</td>\n",
       "    </tr>\n",
       "    <tr>\n",
       "      <th>Census_IsAlwaysOnAlwaysConnectedCapable</th>\n",
       "      <td>495960.0000</td>\n",
       "      <td>0.0572</td>\n",
       "      <td>0.2323</td>\n",
       "      <td>0.0000</td>\n",
       "      <td>0.0000</td>\n",
       "      <td>0.0000</td>\n",
       "      <td>0.0000</td>\n",
       "      <td>1.0000</td>\n",
       "    </tr>\n",
       "    <tr>\n",
       "      <th>Wdft_IsGamer</th>\n",
       "      <td>483050.0000</td>\n",
       "      <td>0.2841</td>\n",
       "      <td>0.4510</td>\n",
       "      <td>0.0000</td>\n",
       "      <td>0.0000</td>\n",
       "      <td>0.0000</td>\n",
       "      <td>1.0000</td>\n",
       "      <td>1.0000</td>\n",
       "    </tr>\n",
       "    <tr>\n",
       "      <th>Wdft_RegionIdentifier</th>\n",
       "      <td>483050.0000</td>\n",
       "      <td>7.8886</td>\n",
       "      <td>4.5518</td>\n",
       "      <td>1.0000</td>\n",
       "      <td>3.0000</td>\n",
       "      <td>10.0000</td>\n",
       "      <td>11.0000</td>\n",
       "      <td>15.0000</td>\n",
       "    </tr>\n",
       "    <tr>\n",
       "      <th>HasDetections</th>\n",
       "      <td>500000.0000</td>\n",
       "      <td>0.4999</td>\n",
       "      <td>0.5000</td>\n",
       "      <td>0.0000</td>\n",
       "      <td>0.0000</td>\n",
       "      <td>0.0000</td>\n",
       "      <td>1.0000</td>\n",
       "      <td>1.0000</td>\n",
       "    </tr>\n",
       "  </tbody>\n",
       "</table>\n",
       "</div>"
      ],
      "text/plain": [
       "                                                        count            mean  \\\n",
       "Unnamed: 0                                        500000.0000    4458888.2675   \n",
       "IsBeta                                            500000.0000          0.0000   \n",
       "RtpStateBitfield                                  498168.0000          6.8462   \n",
       "IsSxsPassiveMode                                  500000.0000          0.0172   \n",
       "DefaultBrowsersIdentifier                          24061.0000       1652.8245   \n",
       "AVProductStatesIdentifier                         498062.0000      47850.9084   \n",
       "AVProductsInstalled                               498062.0000          1.3268   \n",
       "AVProductsEnabled                                 498062.0000          1.0207   \n",
       "HasTpm                                            500000.0000          0.9878   \n",
       "CountryIdentifier                                 500000.0000        108.0375   \n",
       "CityIdentifier                                    481760.0000      81271.6460   \n",
       "OrganizationIdentifier                            345437.0000         24.8699   \n",
       "GeoNameIdentifier                                 499984.0000        169.7304   \n",
       "LocaleEnglishNameIdentifier                       500000.0000        122.6110   \n",
       "OsBuild                                           500000.0000      15726.9338   \n",
       "OsSuite                                           500000.0000        574.7186   \n",
       "IsProtected                                       498074.0000          0.9458   \n",
       "AutoSampleOptIn                                   500000.0000          0.0000   \n",
       "SMode                                             470152.0000          0.0004   \n",
       "IeVerIdentifier                                   496791.0000        126.6626   \n",
       "Firewall                                          494838.0000          0.9782   \n",
       "UacLuaenable                                      499377.0000         13.7250   \n",
       "Census_OEMNameIdentifier                          494619.0000       2218.6465   \n",
       "Census_OEMModelIdentifier                         494236.0000     239128.0469   \n",
       "Census_ProcessorCoreCount                         497653.0000          3.9941   \n",
       "Census_ProcessorManufacturerIdentifier            497653.0000          4.5291   \n",
       "Census_ProcessorModelIdentifier                   497651.0000       2370.9865   \n",
       "Census_PrimaryDiskTotalCapacity                   497024.0000     514043.3159   \n",
       "Census_SystemVolumeTotalCapacity                  497024.0000     378054.6393   \n",
       "Census_HasOpticalDiskDrive                        500000.0000          0.0770   \n",
       "Census_TotalPhysicalRAM                           495444.0000       6129.2322   \n",
       "Census_InternalPrimaryDiagonalDisplaySizeInInches 497346.0000         16.6898   \n",
       "Census_InternalPrimaryDisplayResolutionHorizontal 497350.0000       1548.3043   \n",
       "Census_InternalPrimaryDisplayResolutionVertical   497350.0000        898.2393   \n",
       "Census_InternalBatteryNumberOfCharges             484962.0000 1125600150.2055   \n",
       "Census_OSBuildNumber                              500000.0000      15841.3726   \n",
       "Census_OSBuildRevision                            500000.0000        967.2248   \n",
       "Census_OSInstallLanguageIdentifier                496668.0000         14.6055   \n",
       "Census_OSUILocaleIdentifier                       500000.0000         60.4463   \n",
       "Census_IsPortableOperatingSystem                  500000.0000          0.0005   \n",
       "Census_IsFlightingInternal                         84775.0000          0.0000   \n",
       "Census_IsFlightsDisabled                          491067.0000          0.0000   \n",
       "Census_ThresholdOptIn                             181896.0000          0.0003   \n",
       "Census_FirmwareManufacturerIdentifier             489651.0000        402.6759   \n",
       "Census_FirmwareVersionIdentifier                  490939.0000      33030.9889   \n",
       "Census_IsSecureBootEnabled                        500000.0000          0.4854   \n",
       "Census_IsWIMBootEnabled                           182334.0000          0.0000   \n",
       "Census_IsVirtualDevice                            499099.0000          0.0071   \n",
       "Census_IsTouchEnabled                             500000.0000          0.1254   \n",
       "Census_IsPenCapable                               500000.0000          0.0377   \n",
       "Census_IsAlwaysOnAlwaysConnectedCapable           495960.0000          0.0572   \n",
       "Wdft_IsGamer                                      483050.0000          0.2841   \n",
       "Wdft_RegionIdentifier                             483050.0000          7.8886   \n",
       "HasDetections                                     500000.0000          0.4999   \n",
       "\n",
       "                                                              std        min  \\\n",
       "Unnamed: 0                                           2575618.6218     2.0000   \n",
       "IsBeta                                                     0.0014     0.0000   \n",
       "RtpStateBitfield                                           1.0230     0.0000   \n",
       "IsSxsPassiveMode                                           0.1302     0.0000   \n",
       "DefaultBrowsersIdentifier                               1004.7543     1.0000   \n",
       "AVProductStatesIdentifier                              14023.0853     3.0000   \n",
       "AVProductsInstalled                                        0.5230     1.0000   \n",
       "AVProductsEnabled                                          0.1666     0.0000   \n",
       "HasTpm                                                     0.1097     0.0000   \n",
       "CountryIdentifier                                         63.0685     1.0000   \n",
       "CityIdentifier                                         48985.1297     7.0000   \n",
       "OrganizationIdentifier                                     5.6137     1.0000   \n",
       "GeoNameIdentifier                                         89.3252     1.0000   \n",
       "LocaleEnglishNameIdentifier                               69.3032     1.0000   \n",
       "OsBuild                                                 2188.6461  7600.0000   \n",
       "OsSuite                                                  248.2033    16.0000   \n",
       "IsProtected                                                0.2264     0.0000   \n",
       "AutoSampleOptIn                                            0.0053     0.0000   \n",
       "SMode                                                      0.0209     0.0000   \n",
       "IeVerIdentifier                                           42.6349     8.0000   \n",
       "Firewall                                                   0.1459     0.0000   \n",
       "UacLuaenable                                            8995.8481     0.0000   \n",
       "Census_OEMNameIdentifier                                1315.7096    54.0000   \n",
       "Census_OEMModelIdentifier                              72048.8836     1.0000   \n",
       "Census_ProcessorCoreCount                                  2.0713     1.0000   \n",
       "Census_ProcessorManufacturerIdentifier                     1.2896     1.0000   \n",
       "Census_ProcessorModelIdentifier                          842.1367     3.0000   \n",
       "Census_PrimaryDiskTotalCapacity                       370446.8159 10240.0000   \n",
       "Census_SystemVolumeTotalCapacity                      338472.2187  9689.0000   \n",
       "Census_HasOpticalDiskDrive                                 0.2666     0.0000   \n",
       "Census_TotalPhysicalRAM                                 4964.5213   512.0000   \n",
       "Census_InternalPrimaryDiagonalDisplaySizeInInches          5.9320     4.9000   \n",
       "Census_InternalPrimaryDisplayResolutionHorizontal        368.5659    -1.0000   \n",
       "Census_InternalPrimaryDisplayResolutionVertical          214.8625    -1.0000   \n",
       "Census_InternalBatteryNumberOfCharges             1888768455.7804     0.0000   \n",
       "Census_OSBuildNumber                                    1959.4403  9600.0000   \n",
       "Census_OSBuildRevision                                  2920.6277     0.0000   \n",
       "Census_OSInstallLanguageIdentifier                        10.2009     1.0000   \n",
       "Census_OSUILocaleIdentifier                               45.0004     1.0000   \n",
       "Census_IsPortableOperatingSystem                           0.0228     0.0000   \n",
       "Census_IsFlightingInternal                                 0.0049     0.0000   \n",
       "Census_IsFlightsDisabled                                   0.0038     0.0000   \n",
       "Census_ThresholdOptIn                                      0.0161     0.0000   \n",
       "Census_FirmwareManufacturerIdentifier                    221.5271    11.0000   \n",
       "Census_FirmwareVersionIdentifier                       21220.1614    10.0000   \n",
       "Census_IsSecureBootEnabled                                 0.4998     0.0000   \n",
       "Census_IsWIMBootEnabled                                    0.0000     0.0000   \n",
       "Census_IsVirtualDevice                                     0.0838     0.0000   \n",
       "Census_IsTouchEnabled                                      0.3312     0.0000   \n",
       "Census_IsPenCapable                                        0.1906     0.0000   \n",
       "Census_IsAlwaysOnAlwaysConnectedCapable                    0.2323     0.0000   \n",
       "Wdft_IsGamer                                               0.4510     0.0000   \n",
       "Wdft_RegionIdentifier                                      4.5518     1.0000   \n",
       "HasDetections                                              0.5000     0.0000   \n",
       "\n",
       "                                                           25%          50%  \\\n",
       "Unnamed: 0                                        2227692.5000 4461367.5000   \n",
       "IsBeta                                                  0.0000       0.0000   \n",
       "RtpStateBitfield                                        7.0000       7.0000   \n",
       "IsSxsPassiveMode                                        0.0000       0.0000   \n",
       "DefaultBrowsersIdentifier                             788.0000    1632.0000   \n",
       "AVProductStatesIdentifier                           49480.0000   53447.0000   \n",
       "AVProductsInstalled                                     1.0000       1.0000   \n",
       "AVProductsEnabled                                       1.0000       1.0000   \n",
       "HasTpm                                                  1.0000       1.0000   \n",
       "CountryIdentifier                                      51.0000      97.0000   \n",
       "CityIdentifier                                      36825.0000   82373.0000   \n",
       "OrganizationIdentifier                                 18.0000      27.0000   \n",
       "GeoNameIdentifier                                      89.0000     181.0000   \n",
       "LocaleEnglishNameIdentifier                            74.0000      88.0000   \n",
       "OsBuild                                             15063.0000   16299.0000   \n",
       "OsSuite                                               256.0000     768.0000   \n",
       "IsProtected                                             1.0000       1.0000   \n",
       "AutoSampleOptIn                                         0.0000       0.0000   \n",
       "SMode                                                   0.0000       0.0000   \n",
       "IeVerIdentifier                                       111.0000     135.0000   \n",
       "Firewall                                                1.0000       1.0000   \n",
       "UacLuaenable                                            1.0000       1.0000   \n",
       "Census_OEMNameIdentifier                             1443.0000    2102.0000   \n",
       "Census_OEMModelIdentifier                          189641.7500  247520.0000   \n",
       "Census_ProcessorCoreCount                               2.0000       4.0000   \n",
       "Census_ProcessorManufacturerIdentifier                  5.0000       5.0000   \n",
       "Census_ProcessorModelIdentifier                      1998.0000    2500.0000   \n",
       "Census_PrimaryDiskTotalCapacity                    239372.0000  476940.0000   \n",
       "Census_SystemVolumeTotalCapacity                   120775.0000  249450.0000   \n",
       "Census_HasOpticalDiskDrive                              0.0000       0.0000   \n",
       "Census_TotalPhysicalRAM                              4096.0000    4096.0000   \n",
       "Census_InternalPrimaryDiagonalDisplaySizeInInches      13.9000      15.5000   \n",
       "Census_InternalPrimaryDisplayResolutionHorizontal    1366.0000    1366.0000   \n",
       "Census_InternalPrimaryDisplayResolutionVertical       768.0000     768.0000   \n",
       "Census_InternalBatteryNumberOfCharges                   0.0000       0.0000   \n",
       "Census_OSBuildNumber                                15063.0000   16299.0000   \n",
       "Census_OSBuildRevision                                165.0000     285.0000   \n",
       "Census_OSInstallLanguageIdentifier                      8.0000       9.0000   \n",
       "Census_OSUILocaleIdentifier                            31.0000      34.0000   \n",
       "Census_IsPortableOperatingSystem                        0.0000       0.0000   \n",
       "Census_IsFlightingInternal                              0.0000       0.0000   \n",
       "Census_IsFlightsDisabled                                0.0000       0.0000   \n",
       "Census_ThresholdOptIn                                   0.0000       0.0000   \n",
       "Census_FirmwareManufacturerIdentifier                 142.0000     500.0000   \n",
       "Census_FirmwareVersionIdentifier                    13156.0000   33070.0000   \n",
       "Census_IsSecureBootEnabled                              0.0000       0.0000   \n",
       "Census_IsWIMBootEnabled                                 0.0000       0.0000   \n",
       "Census_IsVirtualDevice                                  0.0000       0.0000   \n",
       "Census_IsTouchEnabled                                   0.0000       0.0000   \n",
       "Census_IsPenCapable                                     0.0000       0.0000   \n",
       "Census_IsAlwaysOnAlwaysConnectedCapable                 0.0000       0.0000   \n",
       "Wdft_IsGamer                                            0.0000       0.0000   \n",
       "Wdft_RegionIdentifier                                   3.0000      10.0000   \n",
       "HasDetections                                           0.0000       0.0000   \n",
       "\n",
       "                                                              75%  \\\n",
       "Unnamed: 0                                           6690936.0000   \n",
       "IsBeta                                                     0.0000   \n",
       "RtpStateBitfield                                           7.0000   \n",
       "IsSxsPassiveMode                                           0.0000   \n",
       "DefaultBrowsersIdentifier                               2381.0000   \n",
       "AVProductStatesIdentifier                              53447.0000   \n",
       "AVProductsInstalled                                        2.0000   \n",
       "AVProductsEnabled                                          1.0000   \n",
       "HasTpm                                                     1.0000   \n",
       "CountryIdentifier                                        162.0000   \n",
       "CityIdentifier                                        123939.5000   \n",
       "OrganizationIdentifier                                    27.0000   \n",
       "GeoNameIdentifier                                        267.0000   \n",
       "LocaleEnglishNameIdentifier                              182.0000   \n",
       "OsBuild                                                17134.0000   \n",
       "OsSuite                                                  768.0000   \n",
       "IsProtected                                                1.0000   \n",
       "AutoSampleOptIn                                            0.0000   \n",
       "SMode                                                      0.0000   \n",
       "IeVerIdentifier                                          137.0000   \n",
       "Firewall                                                   1.0000   \n",
       "UacLuaenable                                               1.0000   \n",
       "Census_OEMNameIdentifier                                2668.0000   \n",
       "Census_OEMModelIdentifier                             304438.0000   \n",
       "Census_ProcessorCoreCount                                  4.0000   \n",
       "Census_ProcessorManufacturerIdentifier                     5.0000   \n",
       "Census_ProcessorModelIdentifier                         2877.0000   \n",
       "Census_PrimaryDiskTotalCapacity                       953869.0000   \n",
       "Census_SystemVolumeTotalCapacity                      475981.0000   \n",
       "Census_HasOpticalDiskDrive                                 0.0000   \n",
       "Census_TotalPhysicalRAM                                 8192.0000   \n",
       "Census_InternalPrimaryDiagonalDisplaySizeInInches         17.2000   \n",
       "Census_InternalPrimaryDisplayResolutionHorizontal       1920.0000   \n",
       "Census_InternalPrimaryDisplayResolutionVertical         1080.0000   \n",
       "Census_InternalBatteryNumberOfCharges             4294967295.0000   \n",
       "Census_OSBuildNumber                                   17134.0000   \n",
       "Census_OSBuildRevision                                   547.0000   \n",
       "Census_OSInstallLanguageIdentifier                        20.0000   \n",
       "Census_OSUILocaleIdentifier                               90.0000   \n",
       "Census_IsPortableOperatingSystem                           0.0000   \n",
       "Census_IsFlightingInternal                                 0.0000   \n",
       "Census_IsFlightsDisabled                                   0.0000   \n",
       "Census_ThresholdOptIn                                      0.0000   \n",
       "Census_FirmwareManufacturerIdentifier                    556.0000   \n",
       "Census_FirmwareVersionIdentifier                       52436.0000   \n",
       "Census_IsSecureBootEnabled                                 1.0000   \n",
       "Census_IsWIMBootEnabled                                    0.0000   \n",
       "Census_IsVirtualDevice                                     0.0000   \n",
       "Census_IsTouchEnabled                                      0.0000   \n",
       "Census_IsPenCapable                                        0.0000   \n",
       "Census_IsAlwaysOnAlwaysConnectedCapable                    0.0000   \n",
       "Wdft_IsGamer                                               1.0000   \n",
       "Wdft_RegionIdentifier                                     11.0000   \n",
       "HasDetections                                              1.0000   \n",
       "\n",
       "                                                              max  \n",
       "Unnamed: 0                                           8921471.0000  \n",
       "IsBeta                                                     1.0000  \n",
       "RtpStateBitfield                                          35.0000  \n",
       "IsSxsPassiveMode                                           1.0000  \n",
       "DefaultBrowsersIdentifier                               3209.0000  \n",
       "AVProductStatesIdentifier                              70492.0000  \n",
       "AVProductsInstalled                                        5.0000  \n",
       "AVProductsEnabled                                          4.0000  \n",
       "HasTpm                                                     1.0000  \n",
       "CountryIdentifier                                        222.0000  \n",
       "CityIdentifier                                        167958.0000  \n",
       "OrganizationIdentifier                                    52.0000  \n",
       "GeoNameIdentifier                                        296.0000  \n",
       "LocaleEnglishNameIdentifier                              283.0000  \n",
       "OsBuild                                                18242.0000  \n",
       "OsSuite                                                  784.0000  \n",
       "IsProtected                                                1.0000  \n",
       "AutoSampleOptIn                                            1.0000  \n",
       "SMode                                                      1.0000  \n",
       "IeVerIdentifier                                          429.0000  \n",
       "Firewall                                                   1.0000  \n",
       "UacLuaenable                                         6357062.0000  \n",
       "Census_OEMNameIdentifier                                6143.0000  \n",
       "Census_OEMModelIdentifier                             345493.0000  \n",
       "Census_ProcessorCoreCount                                 88.0000  \n",
       "Census_ProcessorManufacturerIdentifier                    10.0000  \n",
       "Census_ProcessorModelIdentifier                         4472.0000  \n",
       "Census_PrimaryDiskTotalCapacity                     47687668.0000  \n",
       "Census_SystemVolumeTotalCapacity                    47687100.0000  \n",
       "Census_HasOpticalDiskDrive                                 1.0000  \n",
       "Census_TotalPhysicalRAM                               393216.0000  \n",
       "Census_InternalPrimaryDiagonalDisplaySizeInInches        142.0000  \n",
       "Census_InternalPrimaryDisplayResolutionHorizontal      11520.0000  \n",
       "Census_InternalPrimaryDisplayResolutionVertical         4320.0000  \n",
       "Census_InternalBatteryNumberOfCharges             4294967295.0000  \n",
       "Census_OSBuildNumber                                   18242.0000  \n",
       "Census_OSBuildRevision                                 19069.0000  \n",
       "Census_OSInstallLanguageIdentifier                        39.0000  \n",
       "Census_OSUILocaleIdentifier                              162.0000  \n",
       "Census_IsPortableOperatingSystem                           1.0000  \n",
       "Census_IsFlightingInternal                                 1.0000  \n",
       "Census_IsFlightsDisabled                                   1.0000  \n",
       "Census_ThresholdOptIn                                      1.0000  \n",
       "Census_FirmwareManufacturerIdentifier                   1084.0000  \n",
       "Census_FirmwareVersionIdentifier                       72091.0000  \n",
       "Census_IsSecureBootEnabled                                 1.0000  \n",
       "Census_IsWIMBootEnabled                                    0.0000  \n",
       "Census_IsVirtualDevice                                     1.0000  \n",
       "Census_IsTouchEnabled                                      1.0000  \n",
       "Census_IsPenCapable                                        1.0000  \n",
       "Census_IsAlwaysOnAlwaysConnectedCapable                    1.0000  \n",
       "Wdft_IsGamer                                               1.0000  \n",
       "Wdft_RegionIdentifier                                     15.0000  \n",
       "HasDetections                                              1.0000  "
      ]
     },
     "execution_count": 1289,
     "metadata": {},
     "output_type": "execute_result"
    }
   ],
   "source": [
    "df.describe().T"
   ]
  },
  {
   "cell_type": "markdown",
   "metadata": {},
   "source": [
    "### \"Unnamed: 0\""
   ]
  },
  {
   "cell_type": "code",
   "execution_count": null,
   "metadata": {
    "ExecuteTime": {
     "end_time": "2025-02-03T23:01:29.606267Z",
     "start_time": "2025-02-03T23:01:29.519377Z"
    }
   },
   "outputs": [
    {
     "data": {
      "text/plain": [
       "Unnamed: 0\n",
       "8769954    1\n",
       "159698     1\n",
       "7059873    1\n",
       "5106125    1\n",
       "8447003    1\n",
       "          ..\n",
       "1359513    1\n",
       "236059     1\n",
       "3771983    1\n",
       "4833329    1\n",
       "985557     1\n",
       "Name: count, Length: 500000, dtype: int64"
      ]
     },
     "execution_count": 1290,
     "metadata": {},
     "output_type": "execute_result"
    }
   ],
   "source": [
    "df[\"Unnamed: 0\"].value_counts()"
   ]
  },
  {
   "cell_type": "code",
   "execution_count": null,
   "metadata": {
    "ExecuteTime": {
     "end_time": "2025-02-03T23:01:29.780251Z",
     "start_time": "2025-02-03T23:01:29.749364Z"
    }
   },
   "outputs": [
    {
     "data": {
      "text/plain": [
       "500000"
      ]
     },
     "execution_count": 1291,
     "metadata": {},
     "output_type": "execute_result"
    }
   ],
   "source": [
    "df[\"Unnamed: 0\"].nunique()"
   ]
  },
  {
   "cell_type": "markdown",
   "metadata": {},
   "source": [
    "Podemos ver que la columna \"Unnamed: 0\" contiene valores unicos que no se repiten, por lo que podemos suponer que a lo mejor puede ser algun tipo de indice interno que tiene la BBDD, por lo que prescindiremos de esta columna"
   ]
  },
  {
   "cell_type": "code",
   "execution_count": null,
   "metadata": {
    "ExecuteTime": {
     "end_time": "2025-02-03T23:01:29.941709Z",
     "start_time": "2025-02-03T23:01:29.938801Z"
    }
   },
   "outputs": [],
   "source": [
    "del_columns.append(\"Unnamed: 0\")"
   ]
  },
  {
   "cell_type": "markdown",
   "metadata": {},
   "source": [
    "### \"MachineIdentifier\""
   ]
  },
  {
   "cell_type": "code",
   "execution_count": null,
   "metadata": {
    "ExecuteTime": {
     "end_time": "2025-02-03T23:01:30.588732Z",
     "start_time": "2025-02-03T23:01:30.139809Z"
    }
   },
   "outputs": [
    {
     "data": {
      "text/plain": [
       "MachineIdentifier\n",
       "fba7138931e22f004ee389c236b98254    1\n",
       "04984aa52bb2e8ae70b5d269184e507c    1\n",
       "ca8dead5384df66b79674ae96425a040    1\n",
       "928adfeec391e6cf2fd0810e79da8d43    1\n",
       "f260188eb7aab5df87770047a4a0a8a5    1\n",
       "                                   ..\n",
       "270a2e9d028144a4df12a9e3da79fba5    1\n",
       "06ca8fa8d32c2abdc5b3577d676b3269    1\n",
       "6c3ff3036d3ecc96729a615653742608    1\n",
       "8ab73b7f8dbb0d0d57f54a8b4799e960    1\n",
       "1c4ec21828b563afb6b0aa72ef88926d    1\n",
       "Name: count, Length: 500000, dtype: int64"
      ]
     },
     "execution_count": 1293,
     "metadata": {},
     "output_type": "execute_result"
    }
   ],
   "source": [
    "df[\"MachineIdentifier\"].value_counts()"
   ]
  },
  {
   "cell_type": "code",
   "execution_count": null,
   "metadata": {
    "ExecuteTime": {
     "end_time": "2025-02-03T23:01:30.727239Z",
     "start_time": "2025-02-03T23:01:30.619040Z"
    }
   },
   "outputs": [
    {
     "data": {
      "text/plain": [
       "500000"
      ]
     },
     "execution_count": 1294,
     "metadata": {},
     "output_type": "execute_result"
    }
   ],
   "source": [
    "df[\"MachineIdentifier\"].nunique()"
   ]
  },
  {
   "cell_type": "markdown",
   "metadata": {},
   "source": [
    "Podemos ver que en esta columna ocurre algo parecido, todos los valores son distintos y por el nombre de la columna podemos saber que contiene el identificador de los dispositivos, por lo que prescindiremos de esta columna"
   ]
  },
  {
   "cell_type": "code",
   "execution_count": null,
   "metadata": {
    "ExecuteTime": {
     "end_time": "2025-02-03T23:01:30.812605Z",
     "start_time": "2025-02-03T23:01:30.809145Z"
    }
   },
   "outputs": [],
   "source": [
    "del_columns.append(\"MachineIdentifier\")"
   ]
  },
  {
   "cell_type": "markdown",
   "metadata": {},
   "source": [
    "### \"ProductName\""
   ]
  },
  {
   "cell_type": "code",
   "execution_count": null,
   "metadata": {
    "ExecuteTime": {
     "end_time": "2025-02-03T23:01:30.915815Z",
     "start_time": "2025-02-03T23:01:30.893552Z"
    }
   },
   "outputs": [
    {
     "data": {
      "text/plain": [
       "ProductName\n",
       "win8defender     494604\n",
       "mse                5395\n",
       "mseprerelease         1\n",
       "Name: count, dtype: int64"
      ]
     },
     "execution_count": 1296,
     "metadata": {},
     "output_type": "execute_result"
    }
   ],
   "source": [
    "df[\"ProductName\"].value_counts()"
   ]
  },
  {
   "cell_type": "code",
   "execution_count": null,
   "metadata": {
    "ExecuteTime": {
     "end_time": "2025-02-03T23:01:31.053415Z",
     "start_time": "2025-02-03T23:01:31.029561Z"
    }
   },
   "outputs": [
    {
     "data": {
      "text/plain": [
       "ProductName\n",
       "win8defender    0.9892\n",
       "mse             0.0108\n",
       "mseprerelease   0.0000\n",
       "Name: count, dtype: float64"
      ]
     },
     "execution_count": 1297,
     "metadata": {},
     "output_type": "execute_result"
    }
   ],
   "source": [
    "df[\"ProductName\"].value_counts()/df.shape[0]  # càlculo de proporciones"
   ]
  },
  {
   "cell_type": "markdown",
   "metadata": {},
   "source": [
    "Podemos ver que tenemos 3 valores distintos, pero el valor win8defender aparece 98% de las veces"
   ]
  },
  {
   "cell_type": "code",
   "execution_count": null,
   "metadata": {
    "ExecuteTime": {
     "end_time": "2025-02-03T23:01:31.349250Z",
     "start_time": "2025-02-03T23:01:31.186195Z"
    }
   },
   "outputs": [
    {
     "data": {
      "text/plain": [
       "<Axes: >"
      ]
     },
     "execution_count": 1298,
     "metadata": {},
     "output_type": "execute_result"
    },
    {
     "data": {
      "image/png": "[encoded data removed]",
      "text/plain": [
       "<Figure size 640x480 with 1 Axes>"
      ]
     },
     "metadata": {},
     "output_type": "display_data"
    }
   ],
   "source": [
    "df[\"ProductName\"].hist()"
   ]
  },
  {
   "cell_type": "markdown",
   "metadata": {},
   "source": [
    "#### DELETE para ver"
   ]
  },
  {
   "cell_type": "markdown",
   "metadata": {},
   "source": [
    "### \"EngineVersion\""
   ]
  },
  {
   "cell_type": "code",
   "execution_count": null,
   "metadata": {
    "ExecuteTime": {
     "end_time": "2025-02-03T23:01:31.511451Z",
     "start_time": "2025-02-03T23:01:31.488032Z"
    }
   },
   "outputs": [
    {
     "data": {
      "text/plain": [
       "EngineVersion\n",
       "1.1.10401.0         1\n",
       "1.1.11701.0         3\n",
       "1.1.12101.0         7\n",
       "1.1.12400.0         1\n",
       "1.1.12603.0         3\n",
       "1.1.12706.0         1\n",
       "1.1.12804.0         4\n",
       "1.1.12805.0       115\n",
       "1.1.12902.0       321\n",
       "1.1.13000.0       220\n",
       "1.1.13102.0         1\n",
       "1.1.13103.0       235\n",
       "1.1.13202.0       245\n",
       "1.1.13303.0       516\n",
       "1.1.13406.0         1\n",
       "1.1.13407.0       479\n",
       "1.1.13504.0      3876\n",
       "1.1.13601.0       420\n",
       "1.1.13701.0       255\n",
       "1.1.13704.0       255\n",
       "1.1.13802.0         4\n",
       "1.1.13803.0         3\n",
       "1.1.13804.0       513\n",
       "1.1.13902.0         4\n",
       "1.1.13903.0       515\n",
       "1.1.14001.0         2\n",
       "1.1.14002.0         2\n",
       "1.1.14003.0       804\n",
       "1.1.14102.0         2\n",
       "1.1.14103.0         5\n",
       "1.1.14104.0      5240\n",
       "1.1.14201.0        11\n",
       "1.1.14202.0       840\n",
       "1.1.14303.0        10\n",
       "1.1.14305.0       270\n",
       "1.1.14306.0      1329\n",
       "1.1.14405.2      1972\n",
       "1.1.14500.2        19\n",
       "1.1.14500.5      2591\n",
       "1.1.14600.4      9005\n",
       "1.1.14700.3        61\n",
       "1.1.14700.4        65\n",
       "1.1.14700.5      2593\n",
       "1.1.14800.1        51\n",
       "1.1.14800.3      7548\n",
       "1.1.14901.3        71\n",
       "1.1.14901.4     11984\n",
       "1.1.15000.1       138\n",
       "1.1.15000.2     14752\n",
       "1.1.15100.1    205494\n",
       "1.1.15200.1    216491\n",
       "1.1.15300.5      3883\n",
       "1.1.15300.6      6769\n",
       "Name: count, dtype: int64"
      ]
     },
     "execution_count": 1299,
     "metadata": {},
     "output_type": "execute_result"
    }
   ],
   "source": [
    "df[\"EngineVersion\"].value_counts().sort_index()"
   ]
  },
  {
   "cell_type": "markdown",
   "metadata": {},
   "source": [
    "Vemos que hay varios valores en esta columna, ahora comprobaremos si el EngineVersion tiene que ver con la columna ProductName"
   ]
  },
  {
   "cell_type": "code",
   "execution_count": null,
   "metadata": {
    "ExecuteTime": {
     "end_time": "2025-02-03T23:01:31.674250Z",
     "start_time": "2025-02-03T23:01:31.630298Z"
    }
   },
   "outputs": [
    {
     "data": {
      "text/plain": [
       "EngineVersion\n",
       "1.1.15200.1    2477\n",
       "1.1.15100.1    2246\n",
       "1.1.15000.2     223\n",
       "1.1.14901.4     152\n",
       "1.1.14800.3      84\n",
       "1.1.15300.6      61\n",
       "1.1.14700.5      33\n",
       "1.1.14600.4      26\n",
       "1.1.14306.0      25\n",
       "1.1.14500.5      16\n",
       "1.1.14405.2      14\n",
       "1.1.14202.0      10\n",
       "1.1.14305.0       6\n",
       "1.1.14003.0       4\n",
       "1.1.13903.0       2\n",
       "1.1.13804.0       2\n",
       "1.1.14104.0       2\n",
       "1.1.13601.0       2\n",
       "1.1.13704.0       1\n",
       "1.1.13202.0       1\n",
       "1.1.14700.4       1\n",
       "1.1.14800.1       1\n",
       "1.1.12902.0       1\n",
       "1.1.15300.5       1\n",
       "1.1.13504.0       1\n",
       "1.1.13000.0       1\n",
       "1.1.13407.0       1\n",
       "1.1.14700.3       1\n",
       "Name: count, dtype: int64"
      ]
     },
     "execution_count": 1300,
     "metadata": {},
     "output_type": "execute_result"
    }
   ],
   "source": [
    "df[df[\"ProductName\"] == \"mse\"][\"EngineVersion\"].value_counts()"
   ]
  },
  {
   "cell_type": "code",
   "execution_count": null,
   "metadata": {
    "ExecuteTime": {
     "end_time": "2025-02-03T23:01:32.002287Z",
     "start_time": "2025-02-03T23:01:31.834985Z"
    }
   },
   "outputs": [
    {
     "data": {
      "text/html": [
       "<div>\n",
       "<style scoped>\n",
       "    .dataframe tbody tr th:only-of-type {\n",
       "        vertical-align: middle;\n",
       "    }\n",
       "\n",
       "    .dataframe tbody tr th {\n",
       "        vertical-align: top;\n",
       "    }\n",
       "\n",
       "    .dataframe thead th {\n",
       "        text-align: right;\n",
       "    }\n",
       "</style>\n",
       "<table border=\"1\" class=\"dataframe\">\n",
       "  <thead>\n",
       "    <tr style=\"text-align: right;\">\n",
       "      <th></th>\n",
       "      <th>Unnamed: 0</th>\n",
       "      <th>MachineIdentifier</th>\n",
       "      <th>ProductName</th>\n",
       "      <th>EngineVersion</th>\n",
       "      <th>AppVersion</th>\n",
       "      <th>AvSigVersion</th>\n",
       "      <th>IsBeta</th>\n",
       "      <th>RtpStateBitfield</th>\n",
       "      <th>IsSxsPassiveMode</th>\n",
       "      <th>DefaultBrowsersIdentifier</th>\n",
       "      <th>...</th>\n",
       "      <th>Census_FirmwareVersionIdentifier</th>\n",
       "      <th>Census_IsSecureBootEnabled</th>\n",
       "      <th>Census_IsWIMBootEnabled</th>\n",
       "      <th>Census_IsVirtualDevice</th>\n",
       "      <th>Census_IsTouchEnabled</th>\n",
       "      <th>Census_IsPenCapable</th>\n",
       "      <th>Census_IsAlwaysOnAlwaysConnectedCapable</th>\n",
       "      <th>Wdft_IsGamer</th>\n",
       "      <th>Wdft_RegionIdentifier</th>\n",
       "      <th>HasDetections</th>\n",
       "    </tr>\n",
       "  </thead>\n",
       "  <tbody>\n",
       "    <tr>\n",
       "      <th>0</th>\n",
       "      <td>8427007</td>\n",
       "      <td>f1cd864e97bae82bdf96523e1a539121</td>\n",
       "      <td>win8defender</td>\n",
       "      <td>1.1.15100.1</td>\n",
       "      <td>4.18.1807.18075</td>\n",
       "      <td>1.273.1234.0</td>\n",
       "      <td>0</td>\n",
       "      <td>7.0000</td>\n",
       "      <td>0</td>\n",
       "      <td>NaN</td>\n",
       "      <td>...</td>\n",
       "      <td>19951.0000</td>\n",
       "      <td>0</td>\n",
       "      <td>NaN</td>\n",
       "      <td>0.0000</td>\n",
       "      <td>0</td>\n",
       "      <td>0</td>\n",
       "      <td>0.0000</td>\n",
       "      <td>0.0000</td>\n",
       "      <td>11.0000</td>\n",
       "      <td>1</td>\n",
       "    </tr>\n",
       "    <tr>\n",
       "      <th>1</th>\n",
       "      <td>8829090</td>\n",
       "      <td>fd5ba6f5b75325ec0423a6c67cc75942</td>\n",
       "      <td>win8defender</td>\n",
       "      <td>1.1.15100.1</td>\n",
       "      <td>4.18.1807.18075</td>\n",
       "      <td>1.273.1282.0</td>\n",
       "      <td>0</td>\n",
       "      <td>7.0000</td>\n",
       "      <td>0</td>\n",
       "      <td>NaN</td>\n",
       "      <td>...</td>\n",
       "      <td>48753.0000</td>\n",
       "      <td>0</td>\n",
       "      <td>0.0000</td>\n",
       "      <td>0.0000</td>\n",
       "      <td>0</td>\n",
       "      <td>0</td>\n",
       "      <td>0.0000</td>\n",
       "      <td>1.0000</td>\n",
       "      <td>3.0000</td>\n",
       "      <td>0</td>\n",
       "    </tr>\n",
       "    <tr>\n",
       "      <th>2</th>\n",
       "      <td>2731904</td>\n",
       "      <td>4e628391e7cc7c482fb3286f486dbd25</td>\n",
       "      <td>win8defender</td>\n",
       "      <td>1.1.15100.1</td>\n",
       "      <td>4.9.10586.1106</td>\n",
       "      <td>1.273.781.0</td>\n",
       "      <td>0</td>\n",
       "      <td>7.0000</td>\n",
       "      <td>0</td>\n",
       "      <td>NaN</td>\n",
       "      <td>...</td>\n",
       "      <td>33111.0000</td>\n",
       "      <td>1</td>\n",
       "      <td>0.0000</td>\n",
       "      <td>0.0000</td>\n",
       "      <td>1</td>\n",
       "      <td>1</td>\n",
       "      <td>0.0000</td>\n",
       "      <td>0.0000</td>\n",
       "      <td>15.0000</td>\n",
       "      <td>0</td>\n",
       "    </tr>\n",
       "    <tr>\n",
       "      <th>7</th>\n",
       "      <td>985557</td>\n",
       "      <td>1c4ec21828b563afb6b0aa72ef88926d</td>\n",
       "      <td>win8defender</td>\n",
       "      <td>1.1.15100.1</td>\n",
       "      <td>4.18.1806.18062</td>\n",
       "      <td>1.273.293.0</td>\n",
       "      <td>0</td>\n",
       "      <td>7.0000</td>\n",
       "      <td>0</td>\n",
       "      <td>NaN</td>\n",
       "      <td>...</td>\n",
       "      <td>NaN</td>\n",
       "      <td>0</td>\n",
       "      <td>NaN</td>\n",
       "      <td>0.0000</td>\n",
       "      <td>0</td>\n",
       "      <td>0</td>\n",
       "      <td>0.0000</td>\n",
       "      <td>0.0000</td>\n",
       "      <td>7.0000</td>\n",
       "      <td>1</td>\n",
       "    </tr>\n",
       "    <tr>\n",
       "      <th>8</th>\n",
       "      <td>387390</td>\n",
       "      <td>0b247aa88737776d0f88ce4dee447216</td>\n",
       "      <td>win8defender</td>\n",
       "      <td>1.1.15100.1</td>\n",
       "      <td>4.18.1807.18075</td>\n",
       "      <td>1.273.418.0</td>\n",
       "      <td>0</td>\n",
       "      <td>7.0000</td>\n",
       "      <td>0</td>\n",
       "      <td>NaN</td>\n",
       "      <td>...</td>\n",
       "      <td>20106.0000</td>\n",
       "      <td>1</td>\n",
       "      <td>NaN</td>\n",
       "      <td>0.0000</td>\n",
       "      <td>0</td>\n",
       "      <td>0</td>\n",
       "      <td>0.0000</td>\n",
       "      <td>0.0000</td>\n",
       "      <td>3.0000</td>\n",
       "      <td>0</td>\n",
       "    </tr>\n",
       "    <tr>\n",
       "      <th>...</th>\n",
       "      <td>...</td>\n",
       "      <td>...</td>\n",
       "      <td>...</td>\n",
       "      <td>...</td>\n",
       "      <td>...</td>\n",
       "      <td>...</td>\n",
       "      <td>...</td>\n",
       "      <td>...</td>\n",
       "      <td>...</td>\n",
       "      <td>...</td>\n",
       "      <td>...</td>\n",
       "      <td>...</td>\n",
       "      <td>...</td>\n",
       "      <td>...</td>\n",
       "      <td>...</td>\n",
       "      <td>...</td>\n",
       "      <td>...</td>\n",
       "      <td>...</td>\n",
       "      <td>...</td>\n",
       "      <td>...</td>\n",
       "      <td>...</td>\n",
       "    </tr>\n",
       "    <tr>\n",
       "      <th>499991</th>\n",
       "      <td>2159235</td>\n",
       "      <td>3df610b8bec46c7af0dd50c74756bf7e</td>\n",
       "      <td>win8defender</td>\n",
       "      <td>1.1.15100.1</td>\n",
       "      <td>4.18.1806.18062</td>\n",
       "      <td>1.273.520.0</td>\n",
       "      <td>0</td>\n",
       "      <td>7.0000</td>\n",
       "      <td>0</td>\n",
       "      <td>NaN</td>\n",
       "      <td>...</td>\n",
       "      <td>12303.0000</td>\n",
       "      <td>1</td>\n",
       "      <td>NaN</td>\n",
       "      <td>0.0000</td>\n",
       "      <td>0</td>\n",
       "      <td>0</td>\n",
       "      <td>0.0000</td>\n",
       "      <td>1.0000</td>\n",
       "      <td>3.0000</td>\n",
       "      <td>0</td>\n",
       "    </tr>\n",
       "    <tr>\n",
       "      <th>499993</th>\n",
       "      <td>7526638</td>\n",
       "      <td>d7f1b593177768d66a2905b09a43a4d5</td>\n",
       "      <td>win8defender</td>\n",
       "      <td>1.1.15100.1</td>\n",
       "      <td>4.18.1807.18075</td>\n",
       "      <td>1.273.1420.0</td>\n",
       "      <td>0</td>\n",
       "      <td>7.0000</td>\n",
       "      <td>0</td>\n",
       "      <td>NaN</td>\n",
       "      <td>...</td>\n",
       "      <td>12164.0000</td>\n",
       "      <td>0</td>\n",
       "      <td>0.0000</td>\n",
       "      <td>0.0000</td>\n",
       "      <td>0</td>\n",
       "      <td>0</td>\n",
       "      <td>0.0000</td>\n",
       "      <td>0.0000</td>\n",
       "      <td>7.0000</td>\n",
       "      <td>0</td>\n",
       "    </tr>\n",
       "    <tr>\n",
       "      <th>499996</th>\n",
       "      <td>5740034</td>\n",
       "      <td>a4c232d528d98343e8f1b73650da7b82</td>\n",
       "      <td>win8defender</td>\n",
       "      <td>1.1.15100.1</td>\n",
       "      <td>4.18.1807.18075</td>\n",
       "      <td>1.273.1620.0</td>\n",
       "      <td>0</td>\n",
       "      <td>7.0000</td>\n",
       "      <td>0</td>\n",
       "      <td>NaN</td>\n",
       "      <td>...</td>\n",
       "      <td>NaN</td>\n",
       "      <td>0</td>\n",
       "      <td>NaN</td>\n",
       "      <td>0.0000</td>\n",
       "      <td>0</td>\n",
       "      <td>0</td>\n",
       "      <td>0.0000</td>\n",
       "      <td>0.0000</td>\n",
       "      <td>15.0000</td>\n",
       "      <td>0</td>\n",
       "    </tr>\n",
       "    <tr>\n",
       "      <th>499998</th>\n",
       "      <td>8713685</td>\n",
       "      <td>fa0841f8f6147de7c3d287e05270ed42</td>\n",
       "      <td>win8defender</td>\n",
       "      <td>1.1.15100.1</td>\n",
       "      <td>4.14.17639.18041</td>\n",
       "      <td>1.273.483.0</td>\n",
       "      <td>0</td>\n",
       "      <td>7.0000</td>\n",
       "      <td>0</td>\n",
       "      <td>NaN</td>\n",
       "      <td>...</td>\n",
       "      <td>11947.0000</td>\n",
       "      <td>0</td>\n",
       "      <td>NaN</td>\n",
       "      <td>0.0000</td>\n",
       "      <td>0</td>\n",
       "      <td>0</td>\n",
       "      <td>0.0000</td>\n",
       "      <td>0.0000</td>\n",
       "      <td>1.0000</td>\n",
       "      <td>0</td>\n",
       "    </tr>\n",
       "    <tr>\n",
       "      <th>499999</th>\n",
       "      <td>4295573</td>\n",
       "      <td>7b45dc3537e17f16305c5983ca0a1cb9</td>\n",
       "      <td>win8defender</td>\n",
       "      <td>1.1.15100.1</td>\n",
       "      <td>4.18.1807.18075</td>\n",
       "      <td>1.273.1644.0</td>\n",
       "      <td>0</td>\n",
       "      <td>7.0000</td>\n",
       "      <td>0</td>\n",
       "      <td>NaN</td>\n",
       "      <td>...</td>\n",
       "      <td>12103.0000</td>\n",
       "      <td>0</td>\n",
       "      <td>NaN</td>\n",
       "      <td>0.0000</td>\n",
       "      <td>0</td>\n",
       "      <td>0</td>\n",
       "      <td>0.0000</td>\n",
       "      <td>1.0000</td>\n",
       "      <td>4.0000</td>\n",
       "      <td>1</td>\n",
       "    </tr>\n",
       "  </tbody>\n",
       "</table>\n",
       "<p>205494 rows × 84 columns</p>\n",
       "</div>"
      ],
      "text/plain": [
       "        Unnamed: 0                 MachineIdentifier   ProductName  \\\n",
       "0          8427007  f1cd864e97bae82bdf96523e1a539121  win8defender   \n",
       "1          8829090  fd5ba6f5b75325ec0423a6c67cc75942  win8defender   \n",
       "2          2731904  4e628391e7cc7c482fb3286f486dbd25  win8defender   \n",
       "7           985557  1c4ec21828b563afb6b0aa72ef88926d  win8defender   \n",
       "8           387390  0b247aa88737776d0f88ce4dee447216  win8defender   \n",
       "...            ...                               ...           ...   \n",
       "499991     2159235  3df610b8bec46c7af0dd50c74756bf7e  win8defender   \n",
       "499993     7526638  d7f1b593177768d66a2905b09a43a4d5  win8defender   \n",
       "499996     5740034  a4c232d528d98343e8f1b73650da7b82  win8defender   \n",
       "499998     8713685  fa0841f8f6147de7c3d287e05270ed42  win8defender   \n",
       "499999     4295573  7b45dc3537e17f16305c5983ca0a1cb9  win8defender   \n",
       "\n",
       "       EngineVersion        AppVersion  AvSigVersion  IsBeta  \\\n",
       "0        1.1.15100.1   4.18.1807.18075  1.273.1234.0       0   \n",
       "1        1.1.15100.1   4.18.1807.18075  1.273.1282.0       0   \n",
       "2        1.1.15100.1    4.9.10586.1106   1.273.781.0       0   \n",
       "7        1.1.15100.1   4.18.1806.18062   1.273.293.0       0   \n",
       "8        1.1.15100.1   4.18.1807.18075   1.273.418.0       0   \n",
       "...              ...               ...           ...     ...   \n",
       "499991   1.1.15100.1   4.18.1806.18062   1.273.520.0       0   \n",
       "499993   1.1.15100.1   4.18.1807.18075  1.273.1420.0       0   \n",
       "499996   1.1.15100.1   4.18.1807.18075  1.273.1620.0       0   \n",
       "499998   1.1.15100.1  4.14.17639.18041   1.273.483.0       0   \n",
       "499999   1.1.15100.1   4.18.1807.18075  1.273.1644.0       0   \n",
       "\n",
       "        RtpStateBitfield  IsSxsPassiveMode  DefaultBrowsersIdentifier  ...  \\\n",
       "0                 7.0000                 0                        NaN  ...   \n",
       "1                 7.0000                 0                        NaN  ...   \n",
       "2                 7.0000                 0                        NaN  ...   \n",
       "7                 7.0000                 0                        NaN  ...   \n",
       "8                 7.0000                 0                        NaN  ...   \n",
       "...                  ...               ...                        ...  ...   \n",
       "499991            7.0000                 0                        NaN  ...   \n",
       "499993            7.0000                 0                        NaN  ...   \n",
       "499996            7.0000                 0                        NaN  ...   \n",
       "499998            7.0000                 0                        NaN  ...   \n",
       "499999            7.0000                 0                        NaN  ...   \n",
       "\n",
       "        Census_FirmwareVersionIdentifier  Census_IsSecureBootEnabled  \\\n",
       "0                             19951.0000                           0   \n",
       "1                             48753.0000                           0   \n",
       "2                             33111.0000                           1   \n",
       "7                                    NaN                           0   \n",
       "8                             20106.0000                           1   \n",
       "...                                  ...                         ...   \n",
       "499991                        12303.0000                           1   \n",
       "499993                        12164.0000                           0   \n",
       "499996                               NaN                           0   \n",
       "499998                        11947.0000                           0   \n",
       "499999                        12103.0000                           0   \n",
       "\n",
       "        Census_IsWIMBootEnabled  Census_IsVirtualDevice  \\\n",
       "0                           NaN                  0.0000   \n",
       "1                        0.0000                  0.0000   \n",
       "2                        0.0000                  0.0000   \n",
       "7                           NaN                  0.0000   \n",
       "8                           NaN                  0.0000   \n",
       "...                         ...                     ...   \n",
       "499991                      NaN                  0.0000   \n",
       "499993                   0.0000                  0.0000   \n",
       "499996                      NaN                  0.0000   \n",
       "499998                      NaN                  0.0000   \n",
       "499999                      NaN                  0.0000   \n",
       "\n",
       "        Census_IsTouchEnabled  Census_IsPenCapable  \\\n",
       "0                           0                    0   \n",
       "1                           0                    0   \n",
       "2                           1                    1   \n",
       "7                           0                    0   \n",
       "8                           0                    0   \n",
       "...                       ...                  ...   \n",
       "499991                      0                    0   \n",
       "499993                      0                    0   \n",
       "499996                      0                    0   \n",
       "499998                      0                    0   \n",
       "499999                      0                    0   \n",
       "\n",
       "        Census_IsAlwaysOnAlwaysConnectedCapable  Wdft_IsGamer  \\\n",
       "0                                        0.0000        0.0000   \n",
       "1                                        0.0000        1.0000   \n",
       "2                                        0.0000        0.0000   \n",
       "7                                        0.0000        0.0000   \n",
       "8                                        0.0000        0.0000   \n",
       "...                                         ...           ...   \n",
       "499991                                   0.0000        1.0000   \n",
       "499993                                   0.0000        0.0000   \n",
       "499996                                   0.0000        0.0000   \n",
       "499998                                   0.0000        0.0000   \n",
       "499999                                   0.0000        1.0000   \n",
       "\n",
       "        Wdft_RegionIdentifier HasDetections  \n",
       "0                     11.0000             1  \n",
       "1                      3.0000             0  \n",
       "2                     15.0000             0  \n",
       "7                      7.0000             1  \n",
       "8                      3.0000             0  \n",
       "...                       ...           ...  \n",
       "499991                 3.0000             0  \n",
       "499993                 7.0000             0  \n",
       "499996                15.0000             0  \n",
       "499998                 1.0000             0  \n",
       "499999                 4.0000             1  \n",
       "\n",
       "[205494 rows x 84 columns]"
      ]
     },
     "execution_count": 1301,
     "metadata": {},
     "output_type": "execute_result"
    }
   ],
   "source": [
    "df[df[\"EngineVersion\"] == \"1.1.15100.1\"]"
   ]
  },
  {
   "cell_type": "markdown",
   "metadata": {},
   "source": [
    "Por lo que podemos ver no tienen nada que ver por lo que puede llegar a ser interesante mantenerla, además, podríamos elimnar el ultimo número de la versión para poder agruparlas un poco más"
   ]
  },
  {
   "cell_type": "code",
   "execution_count": null,
   "metadata": {
    "ExecuteTime": {
     "end_time": "2025-02-03T23:01:33.336252Z",
     "start_time": "2025-02-03T23:01:32.135015Z"
    }
   },
   "outputs": [
    {
     "data": {
      "text/plain": [
       "0         1.1.15100\n",
       "1         1.1.15100\n",
       "2         1.1.15100\n",
       "3         1.1.15200\n",
       "4         1.1.15200\n",
       "            ...    \n",
       "499995    1.1.15200\n",
       "499996    1.1.15100\n",
       "499997    1.1.15300\n",
       "499998    1.1.15100\n",
       "499999    1.1.15100\n",
       "Name: EngineVersion, Length: 500000, dtype: object"
      ]
     },
     "execution_count": 1302,
     "metadata": {},
     "output_type": "execute_result"
    }
   ],
   "source": [
    "df[\"EngineVersion\"].str.rsplit(\".\", n=1).str[0]"
   ]
  },
  {
   "cell_type": "code",
   "execution_count": null,
   "metadata": {
    "ExecuteTime": {
     "end_time": "2025-02-03T23:01:34.228586Z",
     "start_time": "2025-02-03T23:01:33.400950Z"
    }
   },
   "outputs": [],
   "source": [
    "df[\"EngineVersion_trimmed\"] = df[\"EngineVersion\"].str.rsplit(\".\", n=1).str[0]\n",
    "\n",
    "del_columns.append(\"EngineVersion\")"
   ]
  },
  {
   "cell_type": "code",
   "execution_count": null,
   "metadata": {
    "ExecuteTime": {
     "end_time": "2025-02-03T23:01:34.309886Z",
     "start_time": "2025-02-03T23:01:34.271598Z"
    }
   },
   "outputs": [
    {
     "data": {
      "text/plain": [
       "EngineVersion_trimmed\n",
       "1.1.10401         1\n",
       "1.1.11701         3\n",
       "1.1.12101         7\n",
       "1.1.12400         1\n",
       "1.1.12603         3\n",
       "1.1.12706         1\n",
       "1.1.12804         4\n",
       "1.1.12805       115\n",
       "1.1.12902       321\n",
       "1.1.13000       220\n",
       "1.1.13102         1\n",
       "1.1.13103       235\n",
       "1.1.13202       245\n",
       "1.1.13303       516\n",
       "1.1.13406         1\n",
       "1.1.13407       479\n",
       "1.1.13504      3876\n",
       "1.1.13601       420\n",
       "1.1.13701       255\n",
       "1.1.13704       255\n",
       "1.1.13802         4\n",
       "1.1.13803         3\n",
       "1.1.13804       513\n",
       "1.1.13902         4\n",
       "1.1.13903       515\n",
       "1.1.14001         2\n",
       "1.1.14002         2\n",
       "1.1.14003       804\n",
       "1.1.14102         2\n",
       "1.1.14103         5\n",
       "1.1.14104      5240\n",
       "1.1.14201        11\n",
       "1.1.14202       840\n",
       "1.1.14303        10\n",
       "1.1.14305       270\n",
       "1.1.14306      1329\n",
       "1.1.14405      1972\n",
       "1.1.14500      2610\n",
       "1.1.14600      9005\n",
       "1.1.14700      2719\n",
       "1.1.14800      7599\n",
       "1.1.14901     12055\n",
       "1.1.15000     14890\n",
       "1.1.15100    205494\n",
       "1.1.15200    216491\n",
       "1.1.15300     10652\n",
       "Name: count, dtype: int64"
      ]
     },
     "execution_count": 1304,
     "metadata": {},
     "output_type": "execute_result"
    }
   ],
   "source": [
    "df[\"EngineVersion_trimmed\"].value_counts().sort_index()"
   ]
  },
  {
   "cell_type": "markdown",
   "metadata": {},
   "source": [
    "### \"AppVersion\""
   ]
  },
  {
   "cell_type": "code",
   "execution_count": null,
   "metadata": {
    "ExecuteTime": {
     "end_time": "2025-02-03T23:01:34.399217Z",
     "start_time": "2025-02-03T23:01:34.371782Z"
    }
   },
   "outputs": [
    {
     "data": {
      "text/plain": [
       "AppVersion\n",
       "4.10.14393.0       4399\n",
       "4.10.14393.1066     404\n",
       "4.10.14393.1198    1271\n",
       "4.10.14393.1532       7\n",
       "4.10.14393.1593     536\n",
       "                   ... \n",
       "4.9.10586.873       228\n",
       "4.9.10586.916       311\n",
       "4.9.10586.962       262\n",
       "4.9.10586.965       266\n",
       "4.9.218.0           334\n",
       "Name: count, Length: 95, dtype: int64"
      ]
     },
     "execution_count": 1305,
     "metadata": {},
     "output_type": "execute_result"
    }
   ],
   "source": [
    "df[\"AppVersion\"].value_counts().sort_index()"
   ]
  },
  {
   "cell_type": "code",
   "execution_count": null,
   "metadata": {
    "ExecuteTime": {
     "end_time": "2025-02-03T23:01:34.600676Z",
     "start_time": "2025-02-03T23:01:34.572496Z"
    }
   },
   "outputs": [
    {
     "data": {
      "text/plain": [
       "AppVersion\n",
       "4.10.209.0    4843\n",
       "4.9.218.0      334\n",
       "4.8.204.0       96\n",
       "4.10.205.0      49\n",
       "4.7.205.0       24\n",
       "4.4.304.0       24\n",
       "4.6.305.0       15\n",
       "4.5.216.0       10\n",
       "Name: count, dtype: int64"
      ]
     },
     "execution_count": 1306,
     "metadata": {},
     "output_type": "execute_result"
    }
   ],
   "source": [
    "df[df[\"ProductName\"] == \"mse\"][\"AppVersion\"].value_counts()"
   ]
  },
  {
   "cell_type": "code",
   "execution_count": null,
   "metadata": {
    "ExecuteTime": {
     "end_time": "2025-02-03T23:01:34.856941Z",
     "start_time": "2025-02-03T23:01:34.794303Z"
    }
   },
   "outputs": [
    {
     "data": {
      "text/html": [
       "<div>\n",
       "<style scoped>\n",
       "    .dataframe tbody tr th:only-of-type {\n",
       "        vertical-align: middle;\n",
       "    }\n",
       "\n",
       "    .dataframe tbody tr th {\n",
       "        vertical-align: top;\n",
       "    }\n",
       "\n",
       "    .dataframe thead th {\n",
       "        text-align: right;\n",
       "    }\n",
       "</style>\n",
       "<table border=\"1\" class=\"dataframe\">\n",
       "  <thead>\n",
       "    <tr style=\"text-align: right;\">\n",
       "      <th></th>\n",
       "      <th>Unnamed: 0</th>\n",
       "      <th>MachineIdentifier</th>\n",
       "      <th>ProductName</th>\n",
       "      <th>EngineVersion</th>\n",
       "      <th>AppVersion</th>\n",
       "      <th>AvSigVersion</th>\n",
       "      <th>IsBeta</th>\n",
       "      <th>RtpStateBitfield</th>\n",
       "      <th>IsSxsPassiveMode</th>\n",
       "      <th>DefaultBrowsersIdentifier</th>\n",
       "      <th>...</th>\n",
       "      <th>Census_IsSecureBootEnabled</th>\n",
       "      <th>Census_IsWIMBootEnabled</th>\n",
       "      <th>Census_IsVirtualDevice</th>\n",
       "      <th>Census_IsTouchEnabled</th>\n",
       "      <th>Census_IsPenCapable</th>\n",
       "      <th>Census_IsAlwaysOnAlwaysConnectedCapable</th>\n",
       "      <th>Wdft_IsGamer</th>\n",
       "      <th>Wdft_RegionIdentifier</th>\n",
       "      <th>HasDetections</th>\n",
       "      <th>EngineVersion_trimmed</th>\n",
       "    </tr>\n",
       "  </thead>\n",
       "  <tbody>\n",
       "    <tr>\n",
       "      <th>87</th>\n",
       "      <td>3560007</td>\n",
       "      <td>662ca74a64aa88d371f2c7cfe6a2c890</td>\n",
       "      <td>win8defender</td>\n",
       "      <td>1.1.14405.2</td>\n",
       "      <td>4.10.209.0</td>\n",
       "      <td>1.259.1414.0</td>\n",
       "      <td>0</td>\n",
       "      <td>7.0000</td>\n",
       "      <td>0</td>\n",
       "      <td>223.0000</td>\n",
       "      <td>...</td>\n",
       "      <td>0</td>\n",
       "      <td>0.0000</td>\n",
       "      <td>0.0000</td>\n",
       "      <td>0</td>\n",
       "      <td>0</td>\n",
       "      <td>0.0000</td>\n",
       "      <td>0.0000</td>\n",
       "      <td>12.0000</td>\n",
       "      <td>1</td>\n",
       "      <td>1.1.14405</td>\n",
       "    </tr>\n",
       "    <tr>\n",
       "      <th>121</th>\n",
       "      <td>289101</td>\n",
       "      <td>0850c1e591b177e4e7bd3d7e73f050a4</td>\n",
       "      <td>mse</td>\n",
       "      <td>1.1.15100.1</td>\n",
       "      <td>4.10.209.0</td>\n",
       "      <td>1.273.1826.0</td>\n",
       "      <td>0</td>\n",
       "      <td>7.0000</td>\n",
       "      <td>0</td>\n",
       "      <td>NaN</td>\n",
       "      <td>...</td>\n",
       "      <td>0</td>\n",
       "      <td>0.0000</td>\n",
       "      <td>0.0000</td>\n",
       "      <td>0</td>\n",
       "      <td>0</td>\n",
       "      <td>0.0000</td>\n",
       "      <td>0.0000</td>\n",
       "      <td>5.0000</td>\n",
       "      <td>1</td>\n",
       "      <td>1.1.15100</td>\n",
       "    </tr>\n",
       "    <tr>\n",
       "      <th>209</th>\n",
       "      <td>4540438</td>\n",
       "      <td>82511d4f7473708cd7bb3a7a7276931f</td>\n",
       "      <td>win8defender</td>\n",
       "      <td>1.1.14901.3</td>\n",
       "      <td>4.10.209.0</td>\n",
       "      <td>1.267.1242.0</td>\n",
       "      <td>0</td>\n",
       "      <td>7.0000</td>\n",
       "      <td>0</td>\n",
       "      <td>NaN</td>\n",
       "      <td>...</td>\n",
       "      <td>1</td>\n",
       "      <td>0.0000</td>\n",
       "      <td>0.0000</td>\n",
       "      <td>0</td>\n",
       "      <td>0</td>\n",
       "      <td>0.0000</td>\n",
       "      <td>0.0000</td>\n",
       "      <td>10.0000</td>\n",
       "      <td>1</td>\n",
       "      <td>1.1.14901</td>\n",
       "    </tr>\n",
       "    <tr>\n",
       "      <th>222</th>\n",
       "      <td>455635</td>\n",
       "      <td>0d1a8a25d471a45a46acc6470e2ff39d</td>\n",
       "      <td>mse</td>\n",
       "      <td>1.1.15000.2</td>\n",
       "      <td>4.10.209.0</td>\n",
       "      <td>1.271.884.0</td>\n",
       "      <td>0</td>\n",
       "      <td>7.0000</td>\n",
       "      <td>0</td>\n",
       "      <td>NaN</td>\n",
       "      <td>...</td>\n",
       "      <td>0</td>\n",
       "      <td>0.0000</td>\n",
       "      <td>0.0000</td>\n",
       "      <td>0</td>\n",
       "      <td>0</td>\n",
       "      <td>0.0000</td>\n",
       "      <td>0.0000</td>\n",
       "      <td>15.0000</td>\n",
       "      <td>0</td>\n",
       "      <td>1.1.15000</td>\n",
       "    </tr>\n",
       "    <tr>\n",
       "      <th>223</th>\n",
       "      <td>7431707</td>\n",
       "      <td>d5380a5748ba45c8c126bdee0bdd5d0d</td>\n",
       "      <td>mse</td>\n",
       "      <td>1.1.15200.1</td>\n",
       "      <td>4.10.209.0</td>\n",
       "      <td>1.275.710.0</td>\n",
       "      <td>0</td>\n",
       "      <td>7.0000</td>\n",
       "      <td>0</td>\n",
       "      <td>NaN</td>\n",
       "      <td>...</td>\n",
       "      <td>0</td>\n",
       "      <td>0.0000</td>\n",
       "      <td>0.0000</td>\n",
       "      <td>0</td>\n",
       "      <td>0</td>\n",
       "      <td>0.0000</td>\n",
       "      <td>0.0000</td>\n",
       "      <td>3.0000</td>\n",
       "      <td>0</td>\n",
       "      <td>1.1.15200</td>\n",
       "    </tr>\n",
       "    <tr>\n",
       "      <th>...</th>\n",
       "      <td>...</td>\n",
       "      <td>...</td>\n",
       "      <td>...</td>\n",
       "      <td>...</td>\n",
       "      <td>...</td>\n",
       "      <td>...</td>\n",
       "      <td>...</td>\n",
       "      <td>...</td>\n",
       "      <td>...</td>\n",
       "      <td>...</td>\n",
       "      <td>...</td>\n",
       "      <td>...</td>\n",
       "      <td>...</td>\n",
       "      <td>...</td>\n",
       "      <td>...</td>\n",
       "      <td>...</td>\n",
       "      <td>...</td>\n",
       "      <td>...</td>\n",
       "      <td>...</td>\n",
       "      <td>...</td>\n",
       "      <td>...</td>\n",
       "    </tr>\n",
       "    <tr>\n",
       "      <th>499746</th>\n",
       "      <td>244927</td>\n",
       "      <td>070ad6da917516ea0691a8fb826f55b0</td>\n",
       "      <td>mse</td>\n",
       "      <td>1.1.15100.1</td>\n",
       "      <td>4.10.209.0</td>\n",
       "      <td>1.273.912.0</td>\n",
       "      <td>0</td>\n",
       "      <td>7.0000</td>\n",
       "      <td>0</td>\n",
       "      <td>NaN</td>\n",
       "      <td>...</td>\n",
       "      <td>0</td>\n",
       "      <td>NaN</td>\n",
       "      <td>0.0000</td>\n",
       "      <td>0</td>\n",
       "      <td>0</td>\n",
       "      <td>0.0000</td>\n",
       "      <td>0.0000</td>\n",
       "      <td>12.0000</td>\n",
       "      <td>1</td>\n",
       "      <td>1.1.15100</td>\n",
       "    </tr>\n",
       "    <tr>\n",
       "      <th>499766</th>\n",
       "      <td>2878358</td>\n",
       "      <td>52969eef94139c8e49df6479830539f2</td>\n",
       "      <td>mse</td>\n",
       "      <td>1.1.15200.1</td>\n",
       "      <td>4.10.209.0</td>\n",
       "      <td>1.275.725.0</td>\n",
       "      <td>0</td>\n",
       "      <td>7.0000</td>\n",
       "      <td>0</td>\n",
       "      <td>NaN</td>\n",
       "      <td>...</td>\n",
       "      <td>0</td>\n",
       "      <td>NaN</td>\n",
       "      <td>0.0000</td>\n",
       "      <td>0</td>\n",
       "      <td>0</td>\n",
       "      <td>0.0000</td>\n",
       "      <td>0.0000</td>\n",
       "      <td>15.0000</td>\n",
       "      <td>1</td>\n",
       "      <td>1.1.15200</td>\n",
       "    </tr>\n",
       "    <tr>\n",
       "      <th>499807</th>\n",
       "      <td>2878404</td>\n",
       "      <td>529703099031a605aba0b00ece4cac92</td>\n",
       "      <td>win8defender</td>\n",
       "      <td>1.1.15200.1</td>\n",
       "      <td>4.10.209.0</td>\n",
       "      <td>1.275.1478.0</td>\n",
       "      <td>0</td>\n",
       "      <td>7.0000</td>\n",
       "      <td>0</td>\n",
       "      <td>NaN</td>\n",
       "      <td>...</td>\n",
       "      <td>0</td>\n",
       "      <td>0.0000</td>\n",
       "      <td>0.0000</td>\n",
       "      <td>0</td>\n",
       "      <td>0</td>\n",
       "      <td>0.0000</td>\n",
       "      <td>0.0000</td>\n",
       "      <td>15.0000</td>\n",
       "      <td>0</td>\n",
       "      <td>1.1.15200</td>\n",
       "    </tr>\n",
       "    <tr>\n",
       "      <th>499824</th>\n",
       "      <td>7150496</td>\n",
       "      <td>cd27813a5e444c0406f4b1d3e7cad827</td>\n",
       "      <td>mse</td>\n",
       "      <td>1.1.15100.1</td>\n",
       "      <td>4.10.209.0</td>\n",
       "      <td>1.273.66.0</td>\n",
       "      <td>0</td>\n",
       "      <td>7.0000</td>\n",
       "      <td>0</td>\n",
       "      <td>NaN</td>\n",
       "      <td>...</td>\n",
       "      <td>0</td>\n",
       "      <td>NaN</td>\n",
       "      <td>0.0000</td>\n",
       "      <td>0</td>\n",
       "      <td>0</td>\n",
       "      <td>0.0000</td>\n",
       "      <td>0.0000</td>\n",
       "      <td>7.0000</td>\n",
       "      <td>1</td>\n",
       "      <td>1.1.15100</td>\n",
       "    </tr>\n",
       "    <tr>\n",
       "      <th>499851</th>\n",
       "      <td>5036960</td>\n",
       "      <td>908c99e617f11f8de3b1d5f77a69a6c7</td>\n",
       "      <td>win8defender</td>\n",
       "      <td>1.1.15200.1</td>\n",
       "      <td>4.10.209.0</td>\n",
       "      <td>1.275.810.0</td>\n",
       "      <td>0</td>\n",
       "      <td>7.0000</td>\n",
       "      <td>0</td>\n",
       "      <td>NaN</td>\n",
       "      <td>...</td>\n",
       "      <td>1</td>\n",
       "      <td>0.0000</td>\n",
       "      <td>0.0000</td>\n",
       "      <td>1</td>\n",
       "      <td>1</td>\n",
       "      <td>0.0000</td>\n",
       "      <td>0.0000</td>\n",
       "      <td>1.0000</td>\n",
       "      <td>1</td>\n",
       "      <td>1.1.15200</td>\n",
       "    </tr>\n",
       "  </tbody>\n",
       "</table>\n",
       "<p>15292 rows × 85 columns</p>\n",
       "</div>"
      ],
      "text/plain": [
       "        Unnamed: 0                 MachineIdentifier   ProductName  \\\n",
       "87         3560007  662ca74a64aa88d371f2c7cfe6a2c890  win8defender   \n",
       "121         289101  0850c1e591b177e4e7bd3d7e73f050a4           mse   \n",
       "209        4540438  82511d4f7473708cd7bb3a7a7276931f  win8defender   \n",
       "222         455635  0d1a8a25d471a45a46acc6470e2ff39d           mse   \n",
       "223        7431707  d5380a5748ba45c8c126bdee0bdd5d0d           mse   \n",
       "...            ...                               ...           ...   \n",
       "499746      244927  070ad6da917516ea0691a8fb826f55b0           mse   \n",
       "499766     2878358  52969eef94139c8e49df6479830539f2           mse   \n",
       "499807     2878404  529703099031a605aba0b00ece4cac92  win8defender   \n",
       "499824     7150496  cd27813a5e444c0406f4b1d3e7cad827           mse   \n",
       "499851     5036960  908c99e617f11f8de3b1d5f77a69a6c7  win8defender   \n",
       "\n",
       "       EngineVersion  AppVersion  AvSigVersion  IsBeta  RtpStateBitfield  \\\n",
       "87       1.1.14405.2  4.10.209.0  1.259.1414.0       0            7.0000   \n",
       "121      1.1.15100.1  4.10.209.0  1.273.1826.0       0            7.0000   \n",
       "209      1.1.14901.3  4.10.209.0  1.267.1242.0       0            7.0000   \n",
       "222      1.1.15000.2  4.10.209.0   1.271.884.0       0            7.0000   \n",
       "223      1.1.15200.1  4.10.209.0   1.275.710.0       0            7.0000   \n",
       "...              ...         ...           ...     ...               ...   \n",
       "499746   1.1.15100.1  4.10.209.0   1.273.912.0       0            7.0000   \n",
       "499766   1.1.15200.1  4.10.209.0   1.275.725.0       0            7.0000   \n",
       "499807   1.1.15200.1  4.10.209.0  1.275.1478.0       0            7.0000   \n",
       "499824   1.1.15100.1  4.10.209.0    1.273.66.0       0            7.0000   \n",
       "499851   1.1.15200.1  4.10.209.0   1.275.810.0       0            7.0000   \n",
       "\n",
       "        IsSxsPassiveMode  DefaultBrowsersIdentifier  ...  \\\n",
       "87                     0                   223.0000  ...   \n",
       "121                    0                        NaN  ...   \n",
       "209                    0                        NaN  ...   \n",
       "222                    0                        NaN  ...   \n",
       "223                    0                        NaN  ...   \n",
       "...                  ...                        ...  ...   \n",
       "499746                 0                        NaN  ...   \n",
       "499766                 0                        NaN  ...   \n",
       "499807                 0                        NaN  ...   \n",
       "499824                 0                        NaN  ...   \n",
       "499851                 0                        NaN  ...   \n",
       "\n",
       "        Census_IsSecureBootEnabled  Census_IsWIMBootEnabled  \\\n",
       "87                               0                   0.0000   \n",
       "121                              0                   0.0000   \n",
       "209                              1                   0.0000   \n",
       "222                              0                   0.0000   \n",
       "223                              0                   0.0000   \n",
       "...                            ...                      ...   \n",
       "499746                           0                      NaN   \n",
       "499766                           0                      NaN   \n",
       "499807                           0                   0.0000   \n",
       "499824                           0                      NaN   \n",
       "499851                           1                   0.0000   \n",
       "\n",
       "        Census_IsVirtualDevice  Census_IsTouchEnabled  Census_IsPenCapable  \\\n",
       "87                      0.0000                      0                    0   \n",
       "121                     0.0000                      0                    0   \n",
       "209                     0.0000                      0                    0   \n",
       "222                     0.0000                      0                    0   \n",
       "223                     0.0000                      0                    0   \n",
       "...                        ...                    ...                  ...   \n",
       "499746                  0.0000                      0                    0   \n",
       "499766                  0.0000                      0                    0   \n",
       "499807                  0.0000                      0                    0   \n",
       "499824                  0.0000                      0                    0   \n",
       "499851                  0.0000                      1                    1   \n",
       "\n",
       "        Census_IsAlwaysOnAlwaysConnectedCapable  Wdft_IsGamer  \\\n",
       "87                                       0.0000        0.0000   \n",
       "121                                      0.0000        0.0000   \n",
       "209                                      0.0000        0.0000   \n",
       "222                                      0.0000        0.0000   \n",
       "223                                      0.0000        0.0000   \n",
       "...                                         ...           ...   \n",
       "499746                                   0.0000        0.0000   \n",
       "499766                                   0.0000        0.0000   \n",
       "499807                                   0.0000        0.0000   \n",
       "499824                                   0.0000        0.0000   \n",
       "499851                                   0.0000        0.0000   \n",
       "\n",
       "        Wdft_RegionIdentifier  HasDetections EngineVersion_trimmed  \n",
       "87                    12.0000              1             1.1.14405  \n",
       "121                    5.0000              1             1.1.15100  \n",
       "209                   10.0000              1             1.1.14901  \n",
       "222                   15.0000              0             1.1.15000  \n",
       "223                    3.0000              0             1.1.15200  \n",
       "...                       ...            ...                   ...  \n",
       "499746                12.0000              1             1.1.15100  \n",
       "499766                15.0000              1             1.1.15200  \n",
       "499807                15.0000              0             1.1.15200  \n",
       "499824                 7.0000              1             1.1.15100  \n",
       "499851                 1.0000              1             1.1.15200  \n",
       "\n",
       "[15292 rows x 85 columns]"
      ]
     },
     "execution_count": 1307,
     "metadata": {},
     "output_type": "execute_result"
    }
   ],
   "source": [
    "df[df[\"AppVersion\"] == \"4.10.209.0\"]"
   ]
  },
  {
   "cell_type": "markdown",
   "metadata": {},
   "source": [
    "Podemos ver que el AppVersion y el ProductName no tienen relación por lo que haremos lo mismo que con la columna EngineVersion"
   ]
  },
  {
   "cell_type": "code",
   "execution_count": null,
   "metadata": {
    "ExecuteTime": {
     "end_time": "2025-02-03T23:01:36.230821Z",
     "start_time": "2025-02-03T23:01:35.035897Z"
    }
   },
   "outputs": [],
   "source": [
    "df[\"AppVersion_trimmed\"] = df[\"AppVersion\"].str.rsplit(\".\", n=1).str[0]\n",
    "\n",
    "del_columns.append(\"AppVersion\")"
   ]
  },
  {
   "cell_type": "code",
   "execution_count": null,
   "metadata": {
    "ExecuteTime": {
     "end_time": "2025-02-03T23:01:36.300972Z",
     "start_time": "2025-02-03T23:01:36.273675Z"
    }
   },
   "outputs": [
    {
     "data": {
      "text/plain": [
       "EngineVersion_trimmed\n",
       "1.1.10401         1\n",
       "1.1.11701         3\n",
       "1.1.12101         7\n",
       "1.1.12400         1\n",
       "1.1.12603         3\n",
       "1.1.12706         1\n",
       "1.1.12804         4\n",
       "1.1.12805       115\n",
       "1.1.12902       321\n",
       "1.1.13000       220\n",
       "1.1.13102         1\n",
       "1.1.13103       235\n",
       "1.1.13202       245\n",
       "1.1.13303       516\n",
       "1.1.13406         1\n",
       "1.1.13407       479\n",
       "1.1.13504      3876\n",
       "1.1.13601       420\n",
       "1.1.13701       255\n",
       "1.1.13704       255\n",
       "1.1.13802         4\n",
       "1.1.13803         3\n",
       "1.1.13804       513\n",
       "1.1.13902         4\n",
       "1.1.13903       515\n",
       "1.1.14001         2\n",
       "1.1.14002         2\n",
       "1.1.14003       804\n",
       "1.1.14102         2\n",
       "1.1.14103         5\n",
       "1.1.14104      5240\n",
       "1.1.14201        11\n",
       "1.1.14202       840\n",
       "1.1.14303        10\n",
       "1.1.14305       270\n",
       "1.1.14306      1329\n",
       "1.1.14405      1972\n",
       "1.1.14500      2610\n",
       "1.1.14600      9005\n",
       "1.1.14700      2719\n",
       "1.1.14800      7599\n",
       "1.1.14901     12055\n",
       "1.1.15000     14890\n",
       "1.1.15100    205494\n",
       "1.1.15200    216491\n",
       "1.1.15300     10652\n",
       "Name: count, dtype: int64"
      ]
     },
     "execution_count": 1309,
     "metadata": {},
     "output_type": "execute_result"
    }
   ],
   "source": [
    "df[\"EngineVersion_trimmed\"].value_counts().sort_index()"
   ]
  },
  {
   "cell_type": "markdown",
   "metadata": {},
   "source": [
    "### \"AvSigVersion\""
   ]
  },
  {
   "cell_type": "code",
   "execution_count": null,
   "metadata": {
    "ExecuteTime": {
     "end_time": "2025-02-03T23:01:36.618026Z",
     "start_time": "2025-02-03T23:01:36.578960Z"
    }
   },
   "outputs": [
    {
     "data": {
      "text/plain": [
       "AvSigVersion\n",
       "0.0.0.0           4\n",
       "1.169.55.0        1\n",
       "1.199.1615.0      3\n",
       "1.207.1891.0      1\n",
       "1.207.2950.0      6\n",
       "               ... \n",
       "1.277.51.0      411\n",
       "1.277.58.0       76\n",
       "1.277.62.0       80\n",
       "1.277.64.0       60\n",
       "1.277.67.0        7\n",
       "Name: count, Length: 6455, dtype: int64"
      ]
     },
     "execution_count": 1310,
     "metadata": {},
     "output_type": "execute_result"
    }
   ],
   "source": [
    "df[\"AvSigVersion\"].value_counts().sort_index()"
   ]
  },
  {
   "cell_type": "code",
   "execution_count": null,
   "metadata": {
    "ExecuteTime": {
     "end_time": "2025-02-03T23:01:36.839119Z",
     "start_time": "2025-02-03T23:01:36.788975Z"
    }
   },
   "outputs": [
    {
     "data": {
      "text/plain": [
       "AvSigVersion\n",
       "1.267.682.0    1.0000\n",
       "1.267.692.0    1.0000\n",
       "1.223.2580.0   1.0000\n",
       "1.223.2736.0   1.0000\n",
       "1.223.2483.0   1.0000\n",
       "                ...  \n",
       "1.233.1627.0   0.0000\n",
       "1.233.1654.0   0.0000\n",
       "1.233.172.0    0.0000\n",
       "1.231.80.0     0.0000\n",
       "1.223.2015.0   0.0000\n",
       "Name: HasDetections, Length: 6455, dtype: float64"
      ]
     },
     "execution_count": 1311,
     "metadata": {},
     "output_type": "execute_result"
    }
   ],
   "source": [
    "df.groupby('AvSigVersion')['HasDetections'].mean().sort_values(ascending=False)"
   ]
  },
  {
   "cell_type": "markdown",
   "metadata": {},
   "source": [
    "Vamos a comprobar cuantos de los valores terminan con \".0\""
   ]
  },
  {
   "cell_type": "code",
   "execution_count": null,
   "metadata": {
    "ExecuteTime": {
     "end_time": "2025-02-03T23:01:37.448644Z",
     "start_time": "2025-02-03T23:01:37.014617Z"
    }
   },
   "outputs": [
    {
     "data": {
      "text/plain": [
       "np.float64(1.0)"
      ]
     },
     "execution_count": 1312,
     "metadata": {},
     "output_type": "execute_result"
    }
   ],
   "source": [
    "df[df[\"AvSigVersion\"].str.endswith(\".0\")][\"AvSigVersion\"].count() / df.shape[0]"
   ]
  },
  {
   "cell_type": "markdown",
   "metadata": {},
   "source": [
    "Con este codigo filtro por los valores de la columna \"AvSigVersion\" que terminen en \".0\" y cuento cuantos valores recupero y lo divido entre el total de filas del dataset.\n",
    "\n",
    "Y podemos ver que todos los valores de esta columna terminan con \".0\" (el 100%), por lo que eliminaré el \".0\""
   ]
  },
  {
   "cell_type": "code",
   "execution_count": null,
   "metadata": {
    "ExecuteTime": {
     "end_time": "2025-02-03T23:01:38.348789Z",
     "start_time": "2025-02-03T23:01:37.483492Z"
    }
   },
   "outputs": [],
   "source": [
    "df[\"AvSigVersion_trimmed\"] = df[\"AvSigVersion\"].str.rsplit(\".\", n=1).str[0]\n",
    "\n",
    "del_columns.append(\"AvSigVersion\")"
   ]
  },
  {
   "cell_type": "code",
   "execution_count": null,
   "metadata": {
    "ExecuteTime": {
     "end_time": "2025-02-03T23:01:38.394097Z",
     "start_time": "2025-02-03T23:01:38.367241Z"
    }
   },
   "outputs": [
    {
     "data": {
      "text/plain": [
       "EngineVersion_trimmed\n",
       "1.1.10401         1\n",
       "1.1.11701         3\n",
       "1.1.12101         7\n",
       "1.1.12400         1\n",
       "1.1.12603         3\n",
       "1.1.12706         1\n",
       "1.1.12804         4\n",
       "1.1.12805       115\n",
       "1.1.12902       321\n",
       "1.1.13000       220\n",
       "1.1.13102         1\n",
       "1.1.13103       235\n",
       "1.1.13202       245\n",
       "1.1.13303       516\n",
       "1.1.13406         1\n",
       "1.1.13407       479\n",
       "1.1.13504      3876\n",
       "1.1.13601       420\n",
       "1.1.13701       255\n",
       "1.1.13704       255\n",
       "1.1.13802         4\n",
       "1.1.13803         3\n",
       "1.1.13804       513\n",
       "1.1.13902         4\n",
       "1.1.13903       515\n",
       "1.1.14001         2\n",
       "1.1.14002         2\n",
       "1.1.14003       804\n",
       "1.1.14102         2\n",
       "1.1.14103         5\n",
       "1.1.14104      5240\n",
       "1.1.14201        11\n",
       "1.1.14202       840\n",
       "1.1.14303        10\n",
       "1.1.14305       270\n",
       "1.1.14306      1329\n",
       "1.1.14405      1972\n",
       "1.1.14500      2610\n",
       "1.1.14600      9005\n",
       "1.1.14700      2719\n",
       "1.1.14800      7599\n",
       "1.1.14901     12055\n",
       "1.1.15000     14890\n",
       "1.1.15100    205494\n",
       "1.1.15200    216491\n",
       "1.1.15300     10652\n",
       "Name: count, dtype: int64"
      ]
     },
     "execution_count": 1314,
     "metadata": {},
     "output_type": "execute_result"
    }
   ],
   "source": [
    "df[\"EngineVersion_trimmed\"].value_counts().sort_index()"
   ]
  },
  {
   "cell_type": "markdown",
   "metadata": {},
   "source": [
    "### \"IsBeta\""
   ]
  },
  {
   "cell_type": "code",
   "execution_count": null,
   "metadata": {
    "ExecuteTime": {
     "end_time": "2025-02-03T23:01:38.456035Z",
     "start_time": "2025-02-03T23:01:38.448408Z"
    }
   },
   "outputs": [
    {
     "data": {
      "text/plain": [
       "IsBeta\n",
       "0    499999\n",
       "1         1\n",
       "Name: count, dtype: int64"
      ]
     },
     "execution_count": 1315,
     "metadata": {},
     "output_type": "execute_result"
    }
   ],
   "source": [
    "df[\"IsBeta\"].value_counts()"
   ]
  },
  {
   "cell_type": "markdown",
   "metadata": {},
   "source": [
    "Podemos ver que el valor True de \"IsBeta\" es tan solo 1 contra el resto de datos, por lo que prescendiremos de esta columna"
   ]
  },
  {
   "cell_type": "code",
   "execution_count": null,
   "metadata": {
    "ExecuteTime": {
     "end_time": "2025-02-03T23:01:38.546249Z",
     "start_time": "2025-02-03T23:01:38.543212Z"
    }
   },
   "outputs": [],
   "source": [
    "del_columns.append(\"IsBeta\")"
   ]
  },
  {
   "cell_type": "markdown",
   "metadata": {},
   "source": [
    "### \"RtpStateBitfield\""
   ]
  },
  {
   "cell_type": "code",
   "execution_count": null,
   "metadata": {
    "ExecuteTime": {
     "end_time": "2025-02-03T23:01:38.778263Z",
     "start_time": "2025-02-03T23:01:38.769899Z"
    }
   },
   "outputs": [
    {
     "data": {
      "text/plain": [
       "RtpStateBitfield\n",
       "7.0000     484841\n",
       "0.0000      10610\n",
       "8.0000       1277\n",
       "5.0000       1158\n",
       "3.0000        176\n",
       "1.0000        105\n",
       "35.0000         1\n",
       "Name: count, dtype: int64"
      ]
     },
     "execution_count": 1317,
     "metadata": {},
     "output_type": "execute_result"
    }
   ],
   "source": [
    "df[\"RtpStateBitfield\"].value_counts()"
   ]
  },
  {
   "cell_type": "code",
   "execution_count": null,
   "metadata": {
    "ExecuteTime": {
     "end_time": "2025-02-03T23:01:38.960418Z",
     "start_time": "2025-02-03T23:01:38.945905Z"
    }
   },
   "outputs": [
    {
     "name": "stdout",
     "output_type": "stream",
     "text": [
      "                  RtpStateBitfield  HasDetections\n",
      "RtpStateBitfield            1.0000         0.0403\n",
      "HasDetections               0.0403         1.0000\n"
     ]
    }
   ],
   "source": [
    "print(df[[\"RtpStateBitfield\", \"HasDetections\"]].corr())"
   ]
  },
  {
   "cell_type": "markdown",
   "metadata": {},
   "source": [
    "Por su baja correlación con el target prescindiremos de esta columna"
   ]
  },
  {
   "cell_type": "code",
   "execution_count": null,
   "metadata": {
    "ExecuteTime": {
     "end_time": "2025-02-03T23:01:39.095243Z",
     "start_time": "2025-02-03T23:01:39.091138Z"
    }
   },
   "outputs": [],
   "source": [
    "del_columns.append(\"RtpStateBitfield\")"
   ]
  },
  {
   "cell_type": "markdown",
   "metadata": {},
   "source": [
    "### \"IsSxsPassiveMode\""
   ]
  },
  {
   "cell_type": "code",
   "execution_count": null,
   "metadata": {
    "ExecuteTime": {
     "end_time": "2025-02-03T23:01:39.280993Z",
     "start_time": "2025-02-03T23:01:39.273900Z"
    }
   },
   "outputs": [
    {
     "data": {
      "text/plain": [
       "IsSxsPassiveMode\n",
       "0    491379\n",
       "1      8621\n",
       "Name: count, dtype: int64"
      ]
     },
     "execution_count": 1320,
     "metadata": {},
     "output_type": "execute_result"
    }
   ],
   "source": [
    "df[\"IsSxsPassiveMode\"].value_counts()"
   ]
  },
  {
   "cell_type": "code",
   "execution_count": null,
   "metadata": {
    "ExecuteTime": {
     "end_time": "2025-02-03T23:01:39.483657Z",
     "start_time": "2025-02-03T23:01:39.475308Z"
    }
   },
   "outputs": [
    {
     "data": {
      "text/plain": [
       "IsSxsPassiveMode\n",
       "0   0.9828\n",
       "1   0.0172\n",
       "Name: count, dtype: float64"
      ]
     },
     "execution_count": 1321,
     "metadata": {},
     "output_type": "execute_result"
    }
   ],
   "source": [
    "df[\"IsSxsPassiveMode\"].value_counts()/ df.shape[0]"
   ]
  },
  {
   "cell_type": "markdown",
   "metadata": {},
   "source": [
    "Podemos ver que el valor True de esta columna representa menos del 2% del dataframe"
   ]
  },
  {
   "cell_type": "code",
   "execution_count": null,
   "metadata": {
    "ExecuteTime": {
     "end_time": "2025-02-03T23:01:39.607108Z",
     "start_time": "2025-02-03T23:01:39.595080Z"
    }
   },
   "outputs": [
    {
     "name": "stdout",
     "output_type": "stream",
     "text": [
      "                  IsSxsPassiveMode  HasDetections\n",
      "IsSxsPassiveMode            1.0000        -0.0340\n",
      "HasDetections              -0.0340         1.0000\n"
     ]
    }
   ],
   "source": [
    "print(df[[\"IsSxsPassiveMode\", \"HasDetections\"]].corr())"
   ]
  },
  {
   "cell_type": "markdown",
   "metadata": {},
   "source": [
    "No esta balanceado y tiene una correlación debil con el target, por lo que prescindiremos de esta columna"
   ]
  },
  {
   "cell_type": "code",
   "execution_count": null,
   "metadata": {
    "ExecuteTime": {
     "end_time": "2025-02-03T23:01:39.790347Z",
     "start_time": "2025-02-03T23:01:39.786772Z"
    }
   },
   "outputs": [],
   "source": [
    "del_columns.append(\"IsSxsPassiveMode\")"
   ]
  },
  {
   "cell_type": "markdown",
   "metadata": {},
   "source": [
    "### \"DefaultBrowsersIdentifier\""
   ]
  },
  {
   "cell_type": "code",
   "execution_count": null,
   "metadata": {
    "ExecuteTime": {
     "end_time": "2025-02-03T23:01:39.967379Z",
     "start_time": "2025-02-03T23:01:39.960373Z"
    }
   },
   "outputs": [
    {
     "data": {
      "text/plain": [
       "DefaultBrowsersIdentifier\n",
       "239.0000     2589\n",
       "3195.0000    2423\n",
       "1632.0000    1601\n",
       "3176.0000    1313\n",
       "146.0000     1231\n",
       "             ... \n",
       "65.0000         1\n",
       "1418.0000       1\n",
       "3024.0000       1\n",
       "518.0000        1\n",
       "3122.0000       1\n",
       "Name: count, Length: 554, dtype: int64"
      ]
     },
     "execution_count": 1324,
     "metadata": {},
     "output_type": "execute_result"
    }
   ],
   "source": [
    "df[\"DefaultBrowsersIdentifier\"].value_counts()"
   ]
  },
  {
   "cell_type": "code",
   "execution_count": null,
   "metadata": {
    "ExecuteTime": {
     "end_time": "2025-02-03T23:01:40.085511Z",
     "start_time": "2025-02-03T23:01:40.070869Z"
    }
   },
   "outputs": [
    {
     "name": "stdout",
     "output_type": "stream",
     "text": [
      "                           DefaultBrowsersIdentifier  HasDetections\n",
      "DefaultBrowsersIdentifier                     1.0000         0.0010\n",
      "HasDetections                                 0.0010         1.0000\n"
     ]
    }
   ],
   "source": [
    "print(df[[\"DefaultBrowsersIdentifier\", \"HasDetections\"]].corr())"
   ]
  },
  {
   "cell_type": "markdown",
   "metadata": {},
   "source": [
    "Por la baja correlación con el target, esta columna será eliminada"
   ]
  },
  {
   "cell_type": "code",
   "execution_count": null,
   "metadata": {
    "ExecuteTime": {
     "end_time": "2025-02-03T23:01:40.176742Z",
     "start_time": "2025-02-03T23:01:40.173522Z"
    }
   },
   "outputs": [],
   "source": [
    "del_columns.append(\"DefaultBrowsersIdentifier\")"
   ]
  },
  {
   "cell_type": "markdown",
   "metadata": {},
   "source": [
    "### \"AVProductStatesIdentifier\""
   ]
  },
  {
   "cell_type": "code",
   "execution_count": null,
   "metadata": {
    "ExecuteTime": {
     "end_time": "2025-02-03T23:01:40.337082Z",
     "start_time": "2025-02-03T23:01:40.325282Z"
    }
   },
   "outputs": [
    {
     "data": {
      "text/plain": [
       "AVProductStatesIdentifier\n",
       "53447.0000    326463\n",
       "7945.0000      26642\n",
       "47238.0000     18436\n",
       "62773.0000     14931\n",
       "46413.0000      6343\n",
       "               ...  \n",
       "56752.0000         1\n",
       "43781.0000         1\n",
       "49967.0000         1\n",
       "66871.0000         1\n",
       "43975.0000         1\n",
       "Name: count, Length: 5516, dtype: int64"
      ]
     },
     "execution_count": 1327,
     "metadata": {},
     "output_type": "execute_result"
    }
   ],
   "source": [
    "df[\"AVProductStatesIdentifier\"].value_counts()"
   ]
  },
  {
   "cell_type": "code",
   "execution_count": null,
   "metadata": {
    "ExecuteTime": {
     "end_time": "2025-02-03T23:01:40.449901Z",
     "start_time": "2025-02-03T23:01:40.435789Z"
    }
   },
   "outputs": [
    {
     "name": "stdout",
     "output_type": "stream",
     "text": [
      "                           AVProductStatesIdentifier  HasDetections\n",
      "AVProductStatesIdentifier                     1.0000         0.1162\n",
      "HasDetections                                 0.1162         1.0000\n"
     ]
    }
   ],
   "source": [
    "print(df[[\"AVProductStatesIdentifier\", \"HasDetections\"]].corr())"
   ]
  },
  {
   "cell_type": "markdown",
   "metadata": {},
   "source": [
    "Mantendremos la columna temporalmente y probaremos entrenar al modelo con y sin esta columna"
   ]
  },
  {
   "cell_type": "markdown",
   "metadata": {},
   "source": [
    "Al mirar la info del dataset vimos que esta columna contenia nulos"
   ]
  },
  {
   "cell_type": "code",
   "execution_count": null,
   "metadata": {
    "ExecuteTime": {
     "end_time": "2025-02-03T23:01:40.587947Z",
     "start_time": "2025-02-03T23:01:40.582790Z"
    }
   },
   "outputs": [
    {
     "data": {
      "text/plain": [
       "np.float64(0.003876)"
      ]
     },
     "execution_count": 1329,
     "metadata": {},
     "output_type": "execute_result"
    }
   ],
   "source": [
    "df[\"AVProductStatesIdentifier\"].isna().sum()/df.shape[0]"
   ]
  },
  {
   "cell_type": "markdown",
   "metadata": {},
   "source": [
    "Podemos ver que menos del 1% de los datos en esta columna es nulo, por lo que borraremos las filas que contienen nulo"
   ]
  },
  {
   "cell_type": "code",
   "execution_count": null,
   "metadata": {
    "ExecuteTime": {
     "end_time": "2025-02-03T23:01:40.941526Z",
     "start_time": "2025-02-03T23:01:40.709030Z"
    }
   },
   "outputs": [],
   "source": [
    "df.dropna(subset=[\"AVProductStatesIdentifier\"], inplace=True)"
   ]
  },
  {
   "cell_type": "code",
   "execution_count": null,
   "metadata": {
    "ExecuteTime": {
     "end_time": "2025-02-03T23:01:41.100441Z",
     "start_time": "2025-02-03T23:01:40.959236Z"
    }
   },
   "outputs": [
    {
     "data": {
      "text/plain": [
       "<Axes: >"
      ]
     },
     "execution_count": 1331,
     "metadata": {},
     "output_type": "execute_result"
    },
    {
     "data": {
      "image/png": "[encoded data removed]",
      "text/plain": [
       "<Figure size 640x480 with 1 Axes>"
      ]
     },
     "metadata": {},
     "output_type": "display_data"
    }
   ],
   "source": [
    "df[\"AVProductStatesIdentifier\"].hist()"
   ]
  },
  {
   "cell_type": "markdown",
   "metadata": {},
   "source": [
    "### \"AVProductsInstalled\""
   ]
  },
  {
   "cell_type": "code",
   "execution_count": null,
   "metadata": {
    "ExecuteTime": {
     "end_time": "2025-02-03T23:01:41.186253Z",
     "start_time": "2025-02-03T23:01:41.175304Z"
    }
   },
   "outputs": [
    {
     "data": {
      "text/plain": [
       "AVProductsInstalled\n",
       "1.0000    348046\n",
       "2.0000    137856\n",
       "3.0000     11617\n",
       "4.0000       514\n",
       "5.0000        29\n",
       "Name: count, dtype: int64"
      ]
     },
     "execution_count": 1332,
     "metadata": {},
     "output_type": "execute_result"
    }
   ],
   "source": [
    "df[\"AVProductsInstalled\"].value_counts()"
   ]
  },
  {
   "cell_type": "code",
   "execution_count": null,
   "metadata": {
    "ExecuteTime": {
     "end_time": "2025-02-03T23:01:41.277970Z",
     "start_time": "2025-02-03T23:01:41.263891Z"
    }
   },
   "outputs": [
    {
     "name": "stdout",
     "output_type": "stream",
     "text": [
      "                     AVProductsInstalled  HasDetections\n",
      "AVProductsInstalled               1.0000        -0.1488\n",
      "HasDetections                    -0.1488         1.0000\n"
     ]
    }
   ],
   "source": [
    "print(df[[\"AVProductsInstalled\", \"HasDetections\"]].corr())"
   ]
  },
  {
   "cell_type": "markdown",
   "metadata": {},
   "source": [
    "Esta variable podría resultar interesante, aun siendo muy poca correlación negativa, es interesante ver que en algunos casos al tener más antivirus instalados pues se detectan menos virus"
   ]
  },
  {
   "cell_type": "markdown",
   "metadata": {},
   "source": [
    "Anteriormente al mirar la info del dataset, vimos que esta columna tenía nulos"
   ]
  },
  {
   "cell_type": "code",
   "execution_count": null,
   "metadata": {
    "ExecuteTime": {
     "end_time": "2025-02-03T23:01:41.363858Z",
     "start_time": "2025-02-03T23:01:41.358394Z"
    }
   },
   "outputs": [
    {
     "data": {
      "text/plain": [
       "np.int64(0)"
      ]
     },
     "execution_count": 1334,
     "metadata": {},
     "output_type": "execute_result"
    }
   ],
   "source": [
    "df[\"AVProductsInstalled\"].isna().sum()"
   ]
  },
  {
   "cell_type": "markdown",
   "metadata": {},
   "source": [
    "Ahora contiene 0% de nulos, así que podemos suponer que las filas con nulos en la columna \"AVProductStatesIdentifier\" coincidian con las de esta columna, ya que ambas tenían 1938 nulos"
   ]
  },
  {
   "cell_type": "code",
   "execution_count": null,
   "metadata": {
    "ExecuteTime": {
     "end_time": "2025-02-03T23:01:41.637532Z",
     "start_time": "2025-02-03T23:01:41.513941Z"
    }
   },
   "outputs": [
    {
     "data": {
      "text/plain": [
       "<Axes: >"
      ]
     },
     "execution_count": 1335,
     "metadata": {},
     "output_type": "execute_result"
    },
    {
     "data": {
      "image/png": "[encoded data removed]",
      "text/plain": [
       "<Figure size 640x480 with 1 Axes>"
      ]
     },
     "metadata": {},
     "output_type": "display_data"
    }
   ],
   "source": [
    "df[\"AVProductsInstalled\"].hist()"
   ]
  },
  {
   "cell_type": "markdown",
   "metadata": {},
   "source": [
    "### \"AVProductsEnabled\""
   ]
  },
  {
   "cell_type": "code",
   "execution_count": null,
   "metadata": {
    "ExecuteTime": {
     "end_time": "2025-02-03T23:01:41.689293Z",
     "start_time": "2025-02-03T23:01:41.681115Z"
    }
   },
   "outputs": [
    {
     "data": {
      "text/plain": [
       "AVProductsEnabled\n",
       "1.0000    485179\n",
       "2.0000     11074\n",
       "0.0000      1467\n",
       "3.0000       316\n",
       "4.0000        26\n",
       "Name: count, dtype: int64"
      ]
     },
     "execution_count": 1336,
     "metadata": {},
     "output_type": "execute_result"
    }
   ],
   "source": [
    "df[\"AVProductsEnabled\"].value_counts()"
   ]
  },
  {
   "cell_type": "code",
   "execution_count": null,
   "metadata": {
    "ExecuteTime": {
     "end_time": "2025-02-03T23:01:41.787128Z",
     "start_time": "2025-02-03T23:01:41.774941Z"
    }
   },
   "outputs": [
    {
     "name": "stdout",
     "output_type": "stream",
     "text": [
      "                   AVProductsEnabled  HasDetections\n",
      "AVProductsEnabled             1.0000        -0.0419\n",
      "HasDetections                -0.0419         1.0000\n"
     ]
    }
   ],
   "source": [
    "print(df[[\"AVProductsEnabled\", \"HasDetections\"]].corr())"
   ]
  },
  {
   "cell_type": "code",
   "execution_count": null,
   "metadata": {
    "ExecuteTime": {
     "end_time": "2025-02-03T23:01:41.872694Z",
     "start_time": "2025-02-03T23:01:41.859127Z"
    }
   },
   "outputs": [
    {
     "name": "stdout",
     "output_type": "stream",
     "text": [
      "                     AVProductsEnabled  AVProductsInstalled\n",
      "AVProductsEnabled               1.0000               0.2854\n",
      "AVProductsInstalled             0.2854               1.0000\n"
     ]
    }
   ],
   "source": [
    "print(df[[\"AVProductsEnabled\", \"AVProductsInstalled\"]].corr())"
   ]
  },
  {
   "cell_type": "markdown",
   "metadata": {},
   "source": [
    "Tiene muy baja relación con el target pero es algo más alta (casi 30%) de correlación con AVProductsInstalled, por lo que podemos mantenerla temporalmente y hacer pruebas"
   ]
  },
  {
   "cell_type": "code",
   "execution_count": null,
   "metadata": {
    "ExecuteTime": {
     "end_time": "2025-02-03T23:01:42.031209Z",
     "start_time": "2025-02-03T23:01:42.024958Z"
    }
   },
   "outputs": [
    {
     "data": {
      "text/plain": [
       "np.float64(0.0)"
      ]
     },
     "execution_count": 1339,
     "metadata": {},
     "output_type": "execute_result"
    }
   ],
   "source": [
    "df[\"AVProductsEnabled\"].isna().sum()/df.shape[0]"
   ]
  },
  {
   "cell_type": "markdown",
   "metadata": {},
   "source": [
    "Ahora contiene 0% de nulos, así que podemos suponer que las filas con nulos en las 2 ultimas columnas coincidian con las de esta columna, ya que las 3 tenían 1938 nulos"
   ]
  },
  {
   "cell_type": "code",
   "execution_count": null,
   "metadata": {
    "ExecuteTime": {
     "end_time": "2025-02-03T23:01:42.241498Z",
     "start_time": "2025-02-03T23:01:42.115498Z"
    }
   },
   "outputs": [
    {
     "data": {
      "text/plain": [
       "<Axes: >"
      ]
     },
     "execution_count": 1340,
     "metadata": {},
     "output_type": "execute_result"
    },
    {
     "data": {
      "image/png": "[encoded data removed]",
      "text/plain": [
       "<Figure size 640x480 with 1 Axes>"
      ]
     },
     "metadata": {},
     "output_type": "display_data"
    }
   ],
   "source": [
    "df[\"AVProductsEnabled\"].hist()"
   ]
  },
  {
   "cell_type": "markdown",
   "metadata": {},
   "source": [
    "### \"HasTpm\""
   ]
  },
  {
   "cell_type": "code",
   "execution_count": null,
   "metadata": {
    "ExecuteTime": {
     "end_time": "2025-02-03T23:01:42.280354Z",
     "start_time": "2025-02-03T23:01:42.273302Z"
    }
   },
   "outputs": [
    {
     "data": {
      "text/plain": [
       "HasTpm\n",
       "1    492113\n",
       "0      5949\n",
       "Name: count, dtype: int64"
      ]
     },
     "execution_count": 1341,
     "metadata": {},
     "output_type": "execute_result"
    }
   ],
   "source": [
    "df[\"HasTpm\"].value_counts()"
   ]
  },
  {
   "cell_type": "code",
   "execution_count": null,
   "metadata": {
    "ExecuteTime": {
     "end_time": "2025-02-03T23:01:42.361892Z",
     "start_time": "2025-02-03T23:01:42.354319Z"
    }
   },
   "outputs": [
    {
     "data": {
      "text/plain": [
       "HasTpm\n",
       "1   0.9881\n",
       "0   0.0119\n",
       "Name: count, dtype: float64"
      ]
     },
     "execution_count": 1342,
     "metadata": {},
     "output_type": "execute_result"
    }
   ],
   "source": [
    "df[\"HasTpm\"].value_counts()/df.shape[0]"
   ]
  },
  {
   "cell_type": "code",
   "execution_count": null,
   "metadata": {
    "ExecuteTime": {
     "end_time": "2025-02-03T23:01:42.489424Z",
     "start_time": "2025-02-03T23:01:42.475504Z"
    }
   },
   "outputs": [
    {
     "name": "stdout",
     "output_type": "stream",
     "text": [
      "               HasTpm  HasDetections\n",
      "HasTpm         1.0000         0.0075\n",
      "HasDetections  0.0075         1.0000\n"
     ]
    }
   ],
   "source": [
    "print(df[[\"HasTpm\", \"HasDetections\"]].corr())"
   ]
  },
  {
   "cell_type": "markdown",
   "metadata": {},
   "source": [
    "Al ver que hay un fuerte desequilibrio en cuanto a los valores y que su correlación con el target es muy debil, prescindiremos de la columna"
   ]
  },
  {
   "cell_type": "code",
   "execution_count": null,
   "metadata": {
    "ExecuteTime": {
     "end_time": "2025-02-03T23:01:42.696266Z",
     "start_time": "2025-02-03T23:01:42.693431Z"
    }
   },
   "outputs": [],
   "source": [
    "del_columns.append(\"HasTpm\")"
   ]
  },
  {
   "cell_type": "markdown",
   "metadata": {},
   "source": [
    "### \"CountryIdentifier\""
   ]
  },
  {
   "cell_type": "code",
   "execution_count": null,
   "metadata": {
    "ExecuteTime": {
     "end_time": "2025-02-03T23:01:42.837530Z",
     "start_time": "2025-02-03T23:01:42.831507Z"
    }
   },
   "outputs": [
    {
     "data": {
      "text/plain": [
       "CountryIdentifier\n",
       "43     22279\n",
       "29     19165\n",
       "141    18349\n",
       "93     16158\n",
       "171    15683\n",
       "       ...  \n",
       "212       13\n",
       "37        12\n",
       "165       11\n",
       "217       10\n",
       "193        9\n",
       "Name: count, Length: 222, dtype: int64"
      ]
     },
     "execution_count": 1345,
     "metadata": {},
     "output_type": "execute_result"
    }
   ],
   "source": [
    "df[\"CountryIdentifier\"].value_counts()"
   ]
  },
  {
   "cell_type": "code",
   "execution_count": null,
   "metadata": {
    "ExecuteTime": {
     "end_time": "2025-02-03T23:01:42.938441Z",
     "start_time": "2025-02-03T23:01:42.925410Z"
    }
   },
   "outputs": [
    {
     "name": "stdout",
     "output_type": "stream",
     "text": [
      "                   CountryIdentifier  HasDetections\n",
      "CountryIdentifier             1.0000         0.0066\n",
      "HasDetections                 0.0066         1.0000\n"
     ]
    }
   ],
   "source": [
    "print(df[[\"CountryIdentifier\", \"HasDetections\"]].corr())"
   ]
  },
  {
   "cell_type": "markdown",
   "metadata": {},
   "source": [
    "Por la baja correlación con el target, esta columna será eliminada"
   ]
  },
  {
   "cell_type": "code",
   "execution_count": null,
   "metadata": {
    "ExecuteTime": {
     "end_time": "2025-02-03T23:01:43.069409Z",
     "start_time": "2025-02-03T23:01:43.064345Z"
    }
   },
   "outputs": [],
   "source": [
    "del_columns.append(\"CountryIdentifier\")"
   ]
  },
  {
   "cell_type": "markdown",
   "metadata": {},
   "source": [
    "### \"CityIdentifier\""
   ]
  },
  {
   "cell_type": "code",
   "execution_count": null,
   "metadata": {
    "ExecuteTime": {
     "end_time": "2025-02-03T23:01:43.226804Z",
     "start_time": "2025-02-03T23:01:43.200250Z"
    }
   },
   "outputs": [
    {
     "data": {
      "text/plain": [
       "CityIdentifier\n",
       "130775.0000    5248\n",
       "16668.0000     4727\n",
       "82373.0000     4636\n",
       "10222.0000     3995\n",
       "61668.0000     3716\n",
       "               ... \n",
       "76355.0000        1\n",
       "96466.0000        1\n",
       "144571.0000       1\n",
       "91213.0000        1\n",
       "87134.0000        1\n",
       "Name: count, Length: 37070, dtype: int64"
      ]
     },
     "execution_count": 1348,
     "metadata": {},
     "output_type": "execute_result"
    }
   ],
   "source": [
    "df[\"CityIdentifier\"].value_counts()"
   ]
  },
  {
   "cell_type": "code",
   "execution_count": null,
   "metadata": {
    "ExecuteTime": {
     "end_time": "2025-02-03T23:01:43.324223Z",
     "start_time": "2025-02-03T23:01:43.318889Z"
    }
   },
   "outputs": [
    {
     "data": {
      "text/plain": [
       "np.float64(0.036477386349490624)"
      ]
     },
     "execution_count": 1349,
     "metadata": {},
     "output_type": "execute_result"
    }
   ],
   "source": [
    "df[\"CityIdentifier\"].isna().sum()/df.shape[0]"
   ]
  },
  {
   "cell_type": "code",
   "execution_count": null,
   "metadata": {
    "ExecuteTime": {
     "end_time": "2025-02-03T23:01:43.458354Z",
     "start_time": "2025-02-03T23:01:43.446401Z"
    }
   },
   "outputs": [
    {
     "name": "stdout",
     "output_type": "stream",
     "text": [
      "                CityIdentifier  HasDetections\n",
      "CityIdentifier          1.0000        -0.0046\n",
      "HasDetections          -0.0046         1.0000\n"
     ]
    }
   ],
   "source": [
    "print(df[[\"CityIdentifier\", \"HasDetections\"]].corr())"
   ]
  },
  {
   "cell_type": "markdown",
   "metadata": {},
   "source": [
    "Por la baja correlación con el target, esta columna será eliminada"
   ]
  },
  {
   "cell_type": "code",
   "execution_count": null,
   "metadata": {
    "ExecuteTime": {
     "end_time": "2025-02-03T23:01:43.629464Z",
     "start_time": "2025-02-03T23:01:43.625495Z"
    }
   },
   "outputs": [],
   "source": [
    "del_columns.append(\"CityIdentifier\")"
   ]
  },
  {
   "cell_type": "markdown",
   "metadata": {},
   "source": [
    "### \"OrganizationIdentifier\""
   ]
  },
  {
   "cell_type": "code",
   "execution_count": null,
   "metadata": {
    "ExecuteTime": {
     "end_time": "2025-02-03T23:01:43.699869Z",
     "start_time": "2025-02-03T23:01:43.691028Z"
    }
   },
   "outputs": [
    {
     "data": {
      "text/plain": [
       "OrganizationIdentifier\n",
       "27.0000    234044\n",
       "18.0000     98471\n",
       "48.0000      3643\n",
       "50.0000      2530\n",
       "37.0000      1030\n",
       "11.0000      1028\n",
       "49.0000       744\n",
       "46.0000       638\n",
       "14.0000       254\n",
       "32.0000       224\n",
       "36.0000       207\n",
       "52.0000       173\n",
       "33.0000       171\n",
       "2.0000        153\n",
       "5.0000        110\n",
       "40.0000       100\n",
       "28.0000        97\n",
       "4.0000         78\n",
       "10.0000        69\n",
       "51.0000        52\n",
       "1.0000         39\n",
       "20.0000        38\n",
       "8.0000         37\n",
       "6.0000         25\n",
       "31.0000        23\n",
       "47.0000        22\n",
       "22.0000        21\n",
       "39.0000        21\n",
       "3.0000         20\n",
       "21.0000        19\n",
       "16.0000        16\n",
       "19.0000        10\n",
       "42.0000         8\n",
       "29.0000         8\n",
       "7.0000          7\n",
       "44.0000         6\n",
       "26.0000         6\n",
       "45.0000         4\n",
       "43.0000         4\n",
       "41.0000         2\n",
       "23.0000         2\n",
       "35.0000         2\n",
       "25.0000         1\n",
       "17.0000         1\n",
       "Name: count, dtype: int64"
      ]
     },
     "execution_count": 1352,
     "metadata": {},
     "output_type": "execute_result"
    }
   ],
   "source": [
    "df[\"OrganizationIdentifier\"].value_counts()"
   ]
  },
  {
   "cell_type": "code",
   "execution_count": null,
   "metadata": {
    "ExecuteTime": {
     "end_time": "2025-02-03T23:01:43.772167Z",
     "start_time": "2025-02-03T23:01:43.767453Z"
    }
   },
   "outputs": [
    {
     "data": {
      "text/plain": [
       "np.float64(0.30900570611690914)"
      ]
     },
     "execution_count": 1353,
     "metadata": {},
     "output_type": "execute_result"
    }
   ],
   "source": [
    "df[\"OrganizationIdentifier\"].isna().sum()/df.shape[0]"
   ]
  },
  {
   "cell_type": "markdown",
   "metadata": {},
   "source": [
    "Podemos ver que el 30% de esta columna es nulo, por lo que antes de valorar si eliminarla o no, comprobaremos su correlación con el target"
   ]
  },
  {
   "cell_type": "code",
   "execution_count": null,
   "metadata": {
    "ExecuteTime": {
     "end_time": "2025-02-03T23:01:43.902352Z",
     "start_time": "2025-02-03T23:01:43.889405Z"
    }
   },
   "outputs": [
    {
     "name": "stdout",
     "output_type": "stream",
     "text": [
      "                        OrganizationIdentifier  HasDetections\n",
      "OrganizationIdentifier                  1.0000         0.0053\n",
      "HasDetections                           0.0053         1.0000\n"
     ]
    }
   ],
   "source": [
    "print(df[[\"OrganizationIdentifier\", \"HasDetections\"]].corr())"
   ]
  },
  {
   "cell_type": "markdown",
   "metadata": {},
   "source": [
    "Al tener una correlación tan baja suponemos que la columna probablemente no tenga un impacto significativo, por lo que prescindiremos de la columna"
   ]
  },
  {
   "cell_type": "code",
   "execution_count": null,
   "metadata": {
    "ExecuteTime": {
     "end_time": "2025-02-03T23:01:43.987929Z",
     "start_time": "2025-02-03T23:01:43.984276Z"
    }
   },
   "outputs": [],
   "source": [
    "del_columns.append(\"OrganizationIdentifier\")"
   ]
  },
  {
   "cell_type": "markdown",
   "metadata": {},
   "source": [
    "### \"GeoNameIdentifier\""
   ]
  },
  {
   "cell_type": "code",
   "execution_count": null,
   "metadata": {
    "ExecuteTime": {
     "end_time": "2025-02-03T23:01:44.135621Z",
     "start_time": "2025-02-03T23:01:44.126463Z"
    }
   },
   "outputs": [
    {
     "data": {
      "text/plain": [
       "GeoNameIdentifier\n",
       "277.0000    85610\n",
       "211.0000    23505\n",
       "53.0000     22925\n",
       "89.0000     20097\n",
       "240.0000    19392\n",
       "            ...  \n",
       "8.0000          1\n",
       "231.0000        1\n",
       "280.0000        1\n",
       "113.0000        1\n",
       "221.0000        1\n",
       "Name: count, Length: 268, dtype: int64"
      ]
     },
     "execution_count": 1356,
     "metadata": {},
     "output_type": "execute_result"
    }
   ],
   "source": [
    "df[\"GeoNameIdentifier\"].value_counts()"
   ]
  },
  {
   "cell_type": "code",
   "execution_count": null,
   "metadata": {
    "ExecuteTime": {
     "end_time": "2025-02-03T23:01:44.227522Z",
     "start_time": "2025-02-03T23:01:44.213857Z"
    }
   },
   "outputs": [
    {
     "name": "stdout",
     "output_type": "stream",
     "text": [
      "                   GeoNameIdentifier  HasDetections\n",
      "GeoNameIdentifier             1.0000         0.0037\n",
      "HasDetections                 0.0037         1.0000\n"
     ]
    }
   ],
   "source": [
    "print(df[[\"GeoNameIdentifier\", \"HasDetections\"]].corr())"
   ]
  },
  {
   "cell_type": "markdown",
   "metadata": {},
   "source": [
    "Por la baja correlación con el target, esta columna será eliminada"
   ]
  },
  {
   "cell_type": "code",
   "execution_count": null,
   "metadata": {
    "ExecuteTime": {
     "end_time": "2025-02-03T23:01:44.370458Z",
     "start_time": "2025-02-03T23:01:44.367721Z"
    }
   },
   "outputs": [],
   "source": [
    "del_columns.append(\"GeoNameIdentifier\")"
   ]
  },
  {
   "cell_type": "markdown",
   "metadata": {},
   "source": [
    "### \"LocaleEnglishNameIdentifier\""
   ]
  },
  {
   "cell_type": "code",
   "execution_count": null,
   "metadata": {
    "ExecuteTime": {
     "end_time": "2025-02-03T23:01:44.511283Z",
     "start_time": "2025-02-03T23:01:44.503813Z"
    }
   },
   "outputs": [
    {
     "data": {
      "text/plain": [
       "LocaleEnglishNameIdentifier\n",
       "75     117298\n",
       "182     25092\n",
       "42      22955\n",
       "74      22824\n",
       "88      20910\n",
       "        ...  \n",
       "131         1\n",
       "166         1\n",
       "28          1\n",
       "245         1\n",
       "127         1\n",
       "Name: count, Length: 233, dtype: int64"
      ]
     },
     "execution_count": 1359,
     "metadata": {},
     "output_type": "execute_result"
    }
   ],
   "source": [
    "df[\"LocaleEnglishNameIdentifier\"].value_counts()"
   ]
  },
  {
   "cell_type": "code",
   "execution_count": null,
   "metadata": {
    "ExecuteTime": {
     "end_time": "2025-02-03T23:01:44.617256Z",
     "start_time": "2025-02-03T23:01:44.604278Z"
    }
   },
   "outputs": [
    {
     "name": "stdout",
     "output_type": "stream",
     "text": [
      "                             LocaleEnglishNameIdentifier  HasDetections\n",
      "LocaleEnglishNameIdentifier                       1.0000         0.0169\n",
      "HasDetections                                     0.0169         1.0000\n"
     ]
    }
   ],
   "source": [
    "print(df[[\"LocaleEnglishNameIdentifier\", \"HasDetections\"]].corr())"
   ]
  },
  {
   "cell_type": "markdown",
   "metadata": {},
   "source": [
    "Por la baja correlación con el target, esta columna será eliminada"
   ]
  },
  {
   "cell_type": "code",
   "execution_count": null,
   "metadata": {
    "ExecuteTime": {
     "end_time": "2025-02-03T23:01:44.773715Z",
     "start_time": "2025-02-03T23:01:44.770177Z"
    }
   },
   "outputs": [],
   "source": [
    "del_columns.append(\"LocaleEnglishNameIdentifier\")"
   ]
  },
  {
   "cell_type": "markdown",
   "metadata": {},
   "source": [
    "### \"Platform\""
   ]
  },
  {
   "cell_type": "code",
   "execution_count": null,
   "metadata": {
    "ExecuteTime": {
     "end_time": "2025-02-03T23:01:44.920687Z",
     "start_time": "2025-02-03T23:01:44.899890Z"
    }
   },
   "outputs": [
    {
     "data": {
      "text/plain": [
       "Platform\n",
       "windows10    482082\n",
       "windows8      10701\n",
       "windows7       5279\n",
       "Name: count, dtype: int64"
      ]
     },
     "execution_count": 1362,
     "metadata": {},
     "output_type": "execute_result"
    }
   ],
   "source": [
    "df[\"Platform\"].value_counts()"
   ]
  },
  {
   "cell_type": "code",
   "execution_count": null,
   "metadata": {
    "ExecuteTime": {
     "end_time": "2025-02-03T23:01:45.172923Z",
     "start_time": "2025-02-03T23:01:45.014552Z"
    }
   },
   "outputs": [
    {
     "data": {
      "text/plain": [
       "<Axes: >"
      ]
     },
     "execution_count": 1363,
     "metadata": {},
     "output_type": "execute_result"
    },
    {
     "data": {
      "image/png": "[encoded data removed]",
      "text/plain": [
       "<Figure size 640x480 with 1 Axes>"
      ]
     },
     "metadata": {},
     "output_type": "display_data"
    }
   ],
   "source": [
    "df[\"Platform\"].hist()"
   ]
  },
  {
   "cell_type": "markdown",
   "metadata": {},
   "source": [
    "Aunque los valores estan muy desbalanceados, haremos pruebas y según los resultados de estas veremos si mantener o no la columna\n",
    "\n",
    "El siguiente punto será hacer un OHE con esta columna"
   ]
  },
  {
   "cell_type": "code",
   "execution_count": null,
   "metadata": {
    "ExecuteTime": {
     "end_time": "2025-02-03T23:01:45.800749Z",
     "start_time": "2025-02-03T23:01:45.248261Z"
    }
   },
   "outputs": [],
   "source": [
    "df = pd.get_dummies(df, columns=[\"Platform\"], prefix=\"Platform\")"
   ]
  },
  {
   "cell_type": "markdown",
   "metadata": {},
   "source": [
    "### \"Processor\""
   ]
  },
  {
   "cell_type": "code",
   "execution_count": null,
   "metadata": {
    "ExecuteTime": {
     "end_time": "2025-02-03T23:01:45.840303Z",
     "start_time": "2025-02-03T23:01:45.820362Z"
    }
   },
   "outputs": [
    {
     "data": {
      "text/plain": [
       "Processor\n",
       "x64      452561\n",
       "x86       45487\n",
       "arm64        14\n",
       "Name: count, dtype: int64"
      ]
     },
     "execution_count": 1365,
     "metadata": {},
     "output_type": "execute_result"
    }
   ],
   "source": [
    "df[\"Processor\"].value_counts()"
   ]
  },
  {
   "cell_type": "code",
   "execution_count": null,
   "metadata": {
    "ExecuteTime": {
     "end_time": "2025-02-03T23:01:46.036412Z",
     "start_time": "2025-02-03T23:01:45.888872Z"
    }
   },
   "outputs": [
    {
     "data": {
      "text/plain": [
       "<Axes: >"
      ]
     },
     "execution_count": 1366,
     "metadata": {},
     "output_type": "execute_result"
    },
    {
     "data": {
      "image/png": "[encoded data removed]",
      "text/plain": [
       "<Figure size 640x480 with 1 Axes>"
      ]
     },
     "metadata": {},
     "output_type": "display_data"
    }
   ],
   "source": [
    "df[\"Processor\"].hist()"
   ]
  },
  {
   "cell_type": "markdown",
   "metadata": {},
   "source": [
    "Aunque los valores estan desbalanceados, haremos pruebas y según los resultados de estas veremos si mantener o no la columna\n",
    "\n",
    "El siguiente punto será hacer un OHE con esta columna"
   ]
  },
  {
   "cell_type": "code",
   "execution_count": null,
   "metadata": {
    "ExecuteTime": {
     "end_time": "2025-02-03T23:01:46.334133Z",
     "start_time": "2025-02-03T23:01:46.088534Z"
    }
   },
   "outputs": [],
   "source": [
    "df = df[df[\"Processor\"]!=\"arm64\"]"
   ]
  },
  {
   "cell_type": "code",
   "execution_count": null,
   "metadata": {
    "ExecuteTime": {
     "end_time": "2025-02-03T23:01:46.704750Z",
     "start_time": "2025-02-03T23:01:46.338578Z"
    }
   },
   "outputs": [],
   "source": [
    "df = pd.get_dummies(df, columns=[\"Processor\"], prefix=\"Processor\")"
   ]
  },
  {
   "cell_type": "markdown",
   "metadata": {},
   "source": [
    "## Borramos las columnas que no necesitamos"
   ]
  },
  {
   "cell_type": "code",
   "execution_count": null,
   "metadata": {
    "ExecuteTime": {
     "end_time": "2025-02-03T23:01:46.917656Z",
     "start_time": "2025-02-03T23:01:46.722491Z"
    }
   },
   "outputs": [],
   "source": [
    "df.drop(del_columns, axis=1, inplace=True)"
   ]
  },
  {
   "cell_type": "code",
   "execution_count": null,
   "metadata": {
    "ExecuteTime": {
     "end_time": "2025-02-03T23:01:47.274392Z",
     "start_time": "2025-02-03T23:01:46.934758Z"
    }
   },
   "outputs": [
    {
     "name": "stdout",
     "output_type": "stream",
     "text": [
      "<class 'pandas.core.frame.DataFrame'>\n",
      "Index: 498048 entries, 0 to 499999\n",
      "Data columns (total 75 columns):\n",
      " #   Column                                             Non-Null Count   Dtype  \n",
      "---  ------                                             --------------   -----  \n",
      " 0   ProductName                                        498048 non-null  object \n",
      " 1   AVProductStatesIdentifier                          498048 non-null  float64\n",
      " 2   AVProductsInstalled                                498048 non-null  float64\n",
      " 3   AVProductsEnabled                                  498048 non-null  float64\n",
      " 4   OsVer                                              498048 non-null  object \n",
      " 5   OsBuild                                            498048 non-null  int64  \n",
      " 6   OsSuite                                            498048 non-null  int64  \n",
      " 7   OsPlatformSubRelease                               498048 non-null  object \n",
      " 8   OsBuildLab                                         498047 non-null  object \n",
      " 9   SkuEdition                                         498048 non-null  object \n",
      " 10  IsProtected                                        498048 non-null  float64\n",
      " 11  AutoSampleOptIn                                    498048 non-null  int64  \n",
      " 12  PuaMode                                            126 non-null     object \n",
      " 13  SMode                                              468274 non-null  float64\n",
      " 14  IeVerIdentifier                                    494847 non-null  float64\n",
      " 15  SmartScreen                                        319838 non-null  object \n",
      " 16  Firewall                                           493025 non-null  float64\n",
      " 17  UacLuaenable                                       497426 non-null  float64\n",
      " 18  Census_MDC2FormFactor                              498048 non-null  object \n",
      " 19  Census_DeviceFamily                                498048 non-null  object \n",
      " 20  Census_OEMNameIdentifier                           492688 non-null  float64\n",
      " 21  Census_OEMModelIdentifier                          492305 non-null  float64\n",
      " 22  Census_ProcessorCoreCount                          495706 non-null  float64\n",
      " 23  Census_ProcessorManufacturerIdentifier             495706 non-null  float64\n",
      " 24  Census_ProcessorModelIdentifier                    495704 non-null  float64\n",
      " 25  Census_ProcessorClass                              2063 non-null    object \n",
      " 26  Census_PrimaryDiskTotalCapacity                    495080 non-null  float64\n",
      " 27  Census_PrimaryDiskTypeName                         497339 non-null  object \n",
      " 28  Census_SystemVolumeTotalCapacity                   495080 non-null  float64\n",
      " 29  Census_HasOpticalDiskDrive                         498048 non-null  int64  \n",
      " 30  Census_TotalPhysicalRAM                            493584 non-null  float64\n",
      " 31  Census_ChassisTypeName                             498011 non-null  object \n",
      " 32  Census_InternalPrimaryDiagonalDisplaySizeInInches  495450 non-null  float64\n",
      " 33  Census_InternalPrimaryDisplayResolutionHorizontal  495454 non-null  float64\n",
      " 34  Census_InternalPrimaryDisplayResolutionVertical    495454 non-null  float64\n",
      " 35  Census_PowerPlatformRoleName                       498046 non-null  object \n",
      " 36  Census_InternalBatteryType                         143882 non-null  object \n",
      " 37  Census_InternalBatteryNumberOfCharges              483080 non-null  float64\n",
      " 38  Census_OSVersion                                   498048 non-null  object \n",
      " 39  Census_OSArchitecture                              498048 non-null  object \n",
      " 40  Census_OSBranch                                    498048 non-null  object \n",
      " 41  Census_OSBuildNumber                               498048 non-null  int64  \n",
      " 42  Census_OSBuildRevision                             498048 non-null  int64  \n",
      " 43  Census_OSEdition                                   498048 non-null  object \n",
      " 44  Census_OSSkuName                                   498048 non-null  object \n",
      " 45  Census_OSInstallTypeName                           498048 non-null  object \n",
      " 46  Census_OSInstallLanguageIdentifier                 494722 non-null  float64\n",
      " 47  Census_OSUILocaleIdentifier                        498048 non-null  int64  \n",
      " 48  Census_OSWUAutoUpdateOptionsName                   498048 non-null  object \n",
      " 49  Census_IsPortableOperatingSystem                   498048 non-null  int64  \n",
      " 50  Census_GenuineStateName                            498048 non-null  object \n",
      " 51  Census_ActivationChannel                           498048 non-null  object \n",
      " 52  Census_IsFlightingInternal                         84541 non-null   float64\n",
      " 53  Census_IsFlightsDisabled                           489170 non-null  float64\n",
      " 54  Census_FlightRing                                  498048 non-null  object \n",
      " 55  Census_ThresholdOptIn                              181273 non-null  float64\n",
      " 56  Census_FirmwareManufacturerIdentifier              487810 non-null  float64\n",
      " 57  Census_FirmwareVersionIdentifier                   489097 non-null  float64\n",
      " 58  Census_IsSecureBootEnabled                         498048 non-null  int64  \n",
      " 59  Census_IsWIMBootEnabled                            181710 non-null  float64\n",
      " 60  Census_IsVirtualDevice                             497148 non-null  float64\n",
      " 61  Census_IsTouchEnabled                              498048 non-null  int64  \n",
      " 62  Census_IsPenCapable                                498048 non-null  int64  \n",
      " 63  Census_IsAlwaysOnAlwaysConnectedCapable            494019 non-null  float64\n",
      " 64  Wdft_IsGamer                                       481147 non-null  float64\n",
      " 65  Wdft_RegionIdentifier                              481147 non-null  float64\n",
      " 66  HasDetections                                      498048 non-null  int64  \n",
      " 67  EngineVersion_trimmed                              498048 non-null  object \n",
      " 68  AppVersion_trimmed                                 498048 non-null  object \n",
      " 69  AvSigVersion_trimmed                               498048 non-null  object \n",
      " 70  Platform_windows10                                 498048 non-null  bool   \n",
      " 71  Platform_windows7                                  498048 non-null  bool   \n",
      " 72  Platform_windows8                                  498048 non-null  bool   \n",
      " 73  Processor_x64                                      498048 non-null  bool   \n",
      " 74  Processor_x86                                      498048 non-null  bool   \n",
      "dtypes: bool(5), float64(31), int64(12), object(27)\n",
      "memory usage: 272.2+ MB\n"
     ]
    }
   ],
   "source": [
    "df.info()"
   ]
  },
  {
   "cell_type": "markdown",
   "metadata": {},
   "source": [
    "# Revisión de columnas - Marc. de la 42 a la 62 (incluidas)\n"
   ]
  },
  {
   "cell_type": "code",
   "execution_count": null,
   "metadata": {
    "ExecuteTime": {
     "end_time": "2025-02-03T23:01:47.312411Z",
     "start_time": "2025-02-03T23:01:47.307636Z"
    }
   },
   "outputs": [
    {
     "data": {
      "text/plain": [
       "['Census_OSBuildRevision',\n",
       " 'Census_OSEdition',\n",
       " 'Census_OSSkuName',\n",
       " 'Census_OSInstallTypeName',\n",
       " 'Census_OSInstallLanguageIdentifier',\n",
       " 'Census_OSUILocaleIdentifier',\n",
       " 'Census_OSWUAutoUpdateOptionsName',\n",
       " 'Census_IsPortableOperatingSystem',\n",
       " 'Census_GenuineStateName',\n",
       " 'Census_ActivationChannel',\n",
       " 'Census_IsFlightingInternal',\n",
       " 'Census_IsFlightsDisabled',\n",
       " 'Census_FlightRing',\n",
       " 'Census_ThresholdOptIn',\n",
       " 'Census_FirmwareManufacturerIdentifier',\n",
       " 'Census_FirmwareVersionIdentifier',\n",
       " 'Census_IsSecureBootEnabled',\n",
       " 'Census_IsWIMBootEnabled',\n",
       " 'Census_IsVirtualDevice',\n",
       " 'Census_IsTouchEnabled',\n",
       " 'Census_IsPenCapable']"
      ]
     },
     "execution_count": 1371,
     "metadata": {},
     "output_type": "execute_result"
    }
   ],
   "source": [
    "list(df.columns[42:63])"
   ]
  },
  {
   "cell_type": "markdown",
   "metadata": {},
   "source": [
    "Columnas a revisar:\n",
    "['Census_ProcessorClass',\n",
    " 'Census_PrimaryDiskTotalCapacity',\n",
    " 'Census_PrimaryDiskTypeName',\n",
    " 'Census_SystemVolumeTotalCapacity',\n",
    " 'Census_HasOpticalDiskDrive',\n",
    " 'Census_TotalPhysicalRAM',\n",
    " 'Census_ChassisTypeName',\n",
    " 'Census_InternalPrimaryDiagonalDisplaySizeInInches',\n",
    " 'Census_InternalPrimaryDisplayResolutionHorizontal',\n",
    " 'Census_InternalPrimaryDisplayResolutionVertical',\n",
    " 'Census_PowerPlatformRoleName',\n",
    " 'Census_InternalBatteryType',\n",
    " 'Census_InternalBatteryNumberOfCharges',\n",
    " 'Census_OSVersion',\n",
    " 'Census_OSArchitecture',\n",
    " 'Census_OSBranch',\n",
    " 'Census_OSBuildNumber',\n",
    " 'Census_OSBuildRevision',\n",
    " 'Census_OSEdition',\n",
    " 'Census_OSSkuName',\n",
    " 'Census_OSInstallTypeName']"
   ]
  },
  {
   "cell_type": "code",
   "execution_count": null,
   "metadata": {
    "ExecuteTime": {
     "end_time": "2025-02-03T23:01:47.387075Z",
     "start_time": "2025-02-03T23:01:47.383567Z"
    }
   },
   "outputs": [
    {
     "data": {
      "text/plain": [
       "498048"
      ]
     },
     "execution_count": 1372,
     "metadata": {},
     "output_type": "execute_result"
    }
   ],
   "source": [
    "len(df)"
   ]
  },
  {
   "cell_type": "markdown",
   "metadata": {},
   "source": [
    "### \"Census_ProcessorClass\"\n",
    "Descripción: \"Clase\" del procesador del dispositivo"
   ]
  },
  {
   "cell_type": "code",
   "execution_count": null,
   "metadata": {
    "ExecuteTime": {
     "end_time": "2025-02-03T23:01:47.486315Z",
     "start_time": "2025-02-03T23:01:47.474918Z"
    }
   },
   "outputs": [
    {
     "data": {
      "text/plain": [
       "Census_ProcessorClass\n",
       "NaN     495985\n",
       "mid       1186\n",
       "low        538\n",
       "high       339\n",
       "Name: count, dtype: int64"
      ]
     },
     "execution_count": 1373,
     "metadata": {},
     "output_type": "execute_result"
    }
   ],
   "source": [
    "df[\"Census_ProcessorClass\"].value_counts(dropna=False)"
   ]
  },
  {
   "cell_type": "code",
   "execution_count": null,
   "metadata": {
    "ExecuteTime": {
     "end_time": "2025-02-03T23:01:47.529555Z",
     "start_time": "2025-02-03T23:01:47.525384Z"
    }
   },
   "outputs": [],
   "source": [
    "# 497_918 / 500_000 son nulos, por lo que eliminaremos la columna\n",
    "del_columns.append(\"Census_ProcessorClass\")"
   ]
  },
  {
   "cell_type": "markdown",
   "metadata": {},
   "source": [
    "### \"Census_PrimaryDiskTotalCapacity\"\n",
    "Descripción: Capacidad total del disco duro primario en MB"
   ]
  },
  {
   "cell_type": "code",
   "execution_count": null,
   "metadata": {
    "ExecuteTime": {
     "end_time": "2025-02-03T23:01:47.618267Z",
     "start_time": "2025-02-03T23:01:47.607636Z"
    }
   },
   "outputs": [
    {
     "data": {
      "text/plain": [
       "Census_PrimaryDiskTotalCapacity\n",
       "476940.0000    158117\n",
       "953869.0000    121791\n",
       "305245.0000     26630\n",
       "122104.0000     26424\n",
       "244198.0000     25140\n",
       "                ...  \n",
       "119294.0000         1\n",
       "41524.0000          1\n",
       "488382.0000         1\n",
       "713826.0000         1\n",
       "239426.0000         1\n",
       "Name: count, Length: 981, dtype: int64"
      ]
     },
     "execution_count": 1375,
     "metadata": {},
     "output_type": "execute_result"
    }
   ],
   "source": [
    "df[\"Census_PrimaryDiskTotalCapacity\"].value_counts(dropna=False)"
   ]
  },
  {
   "cell_type": "code",
   "execution_count": null,
   "metadata": {
    "ExecuteTime": {
     "end_time": "2025-02-03T23:01:47.759472Z",
     "start_time": "2025-02-03T23:01:47.755458Z"
    }
   },
   "outputs": [
    {
     "data": {
      "text/plain": [
       "np.int64(2968)"
      ]
     },
     "execution_count": 1376,
     "metadata": {},
     "output_type": "execute_result"
    }
   ],
   "source": [
    "# contamos nulos\n",
    "df[\"Census_PrimaryDiskTotalCapacity\"].isna().sum()  # 2968 nulos"
   ]
  },
  {
   "cell_type": "code",
   "execution_count": null,
   "metadata": {
    "ExecuteTime": {
     "end_time": "2025-02-03T23:01:47.955230Z",
     "start_time": "2025-02-03T23:01:47.941233Z"
    }
   },
   "outputs": [
    {
     "data": {
      "text/html": [
       "<div>\n",
       "<style scoped>\n",
       "    .dataframe tbody tr th:only-of-type {\n",
       "        vertical-align: middle;\n",
       "    }\n",
       "\n",
       "    .dataframe tbody tr th {\n",
       "        vertical-align: top;\n",
       "    }\n",
       "\n",
       "    .dataframe thead th {\n",
       "        text-align: right;\n",
       "    }\n",
       "</style>\n",
       "<table border=\"1\" class=\"dataframe\">\n",
       "  <thead>\n",
       "    <tr style=\"text-align: right;\">\n",
       "      <th></th>\n",
       "      <th>Census_PrimaryDiskTotalCapacity</th>\n",
       "      <th>HasDetections</th>\n",
       "    </tr>\n",
       "  </thead>\n",
       "  <tbody>\n",
       "    <tr>\n",
       "      <th>Census_PrimaryDiskTotalCapacity</th>\n",
       "      <td>1.0000</td>\n",
       "      <td>0.0489</td>\n",
       "    </tr>\n",
       "    <tr>\n",
       "      <th>HasDetections</th>\n",
       "      <td>0.0489</td>\n",
       "      <td>1.0000</td>\n",
       "    </tr>\n",
       "  </tbody>\n",
       "</table>\n",
       "</div>"
      ],
      "text/plain": [
       "                                 Census_PrimaryDiskTotalCapacity  \\\n",
       "Census_PrimaryDiskTotalCapacity                           1.0000   \n",
       "HasDetections                                             0.0489   \n",
       "\n",
       "                                 HasDetections  \n",
       "Census_PrimaryDiskTotalCapacity         0.0489  \n",
       "HasDetections                           1.0000  "
      ]
     },
     "execution_count": 1377,
     "metadata": {},
     "output_type": "execute_result"
    }
   ],
   "source": [
    "# miramos la correlación con el target\n",
    "df[[\"Census_PrimaryDiskTotalCapacity\", \"HasDetections\"]].corr()"
   ]
  },
  {
   "cell_type": "markdown",
   "metadata": {},
   "source": [
    "Difícilmente la capacidad del disco duro puede tener relación con la detección de malware, por lo que eliminaremos la columna."
   ]
  },
  {
   "cell_type": "code",
   "execution_count": null,
   "metadata": {
    "ExecuteTime": {
     "end_time": "2025-02-03T23:01:48.055193Z",
     "start_time": "2025-02-03T23:01:48.051143Z"
    }
   },
   "outputs": [],
   "source": [
    "del_columns.append(\"Census_PrimaryDiskTotalCapacity\")"
   ]
  },
  {
   "cell_type": "markdown",
   "metadata": {},
   "source": [
    "### \"Census_PrimaryDiskTypeName\"\n",
    "Descripción: Tipo de disco duro primario"
   ]
  },
  {
   "cell_type": "code",
   "execution_count": null,
   "metadata": {
    "ExecuteTime": {
     "end_time": "2025-02-03T23:01:48.235910Z",
     "start_time": "2025-02-03T23:01:48.220817Z"
    }
   },
   "outputs": [
    {
     "data": {
      "text/plain": [
       "Census_PrimaryDiskTypeName\n",
       "HDD            324329\n",
       "SSD            137913\n",
       "UNKNOWN         19513\n",
       "Unspecified     15584\n",
       "NaN               709\n",
       "Name: count, dtype: int64"
      ]
     },
     "execution_count": 1379,
     "metadata": {},
     "output_type": "execute_result"
    }
   ],
   "source": [
    "df[\"Census_PrimaryDiskTypeName\"].value_counts(dropna=False)"
   ]
  },
  {
   "cell_type": "code",
   "execution_count": null,
   "metadata": {
    "ExecuteTime": {
     "end_time": "2025-02-03T23:01:48.391582Z",
     "start_time": "2025-02-03T23:01:48.332590Z"
    }
   },
   "outputs": [],
   "source": [
    "# juntamos valores poco frecuentes (UNKKNOWN, Unspecified) a \"Indefinido\"\n",
    "df[\"Census_PrimaryDiskTypeName\"] = df[\"Census_PrimaryDiskTypeName\"].replace([\"UNKNOWN\", \"Unspecified\"], \"Indefinido\")\n",
    "# rellenamos nulos con \"Indefinido\"\n",
    "df[\"Census_PrimaryDiskTypeName\"] = df[\"Census_PrimaryDiskTypeName\"].fillna(\"Indefinido\")"
   ]
  },
  {
   "cell_type": "code",
   "execution_count": null,
   "metadata": {
    "ExecuteTime": {
     "end_time": "2025-02-03T23:01:48.523761Z",
     "start_time": "2025-02-03T23:01:48.508053Z"
    }
   },
   "outputs": [
    {
     "data": {
      "text/plain": [
       "Census_PrimaryDiskTypeName\n",
       "HDD           324329\n",
       "SSD           137913\n",
       "Indefinido     35806\n",
       "Name: count, dtype: int64"
      ]
     },
     "execution_count": 1381,
     "metadata": {},
     "output_type": "execute_result"
    }
   ],
   "source": [
    "df[\"Census_PrimaryDiskTypeName\"].value_counts(dropna=False)"
   ]
  },
  {
   "cell_type": "markdown",
   "metadata": {},
   "source": [
    "Se propone realizar un OHE con esta columna."
   ]
  },
  {
   "cell_type": "code",
   "execution_count": null,
   "metadata": {
    "ExecuteTime": {
     "end_time": "2025-02-03T23:01:48.653648Z",
     "start_time": "2025-02-03T23:01:48.650128Z"
    }
   },
   "outputs": [],
   "source": [
    "# df = pd.get_dummies(df, columns=[\"Census_PrimaryDiskTypeName\"], prefix=\"Census_PrimaryDiskTypeName\")  # TODO: revisar\n",
    "del_columns.append(\"Census_PrimaryDiskTypeName\")"
   ]
  },
  {
   "cell_type": "markdown",
   "metadata": {},
   "source": [
    "### \"Census_SystemVolumeTotalCapacity\"\n",
    "Descripción: Capacidad total del volumen del sistema en MB"
   ]
  },
  {
   "cell_type": "code",
   "execution_count": null,
   "metadata": {
    "ExecuteTime": {
     "end_time": "2025-02-03T23:01:48.881757Z",
     "start_time": "2025-02-03T23:01:48.822347Z"
    }
   },
   "outputs": [
    {
     "data": {
      "text/plain": [
       "Census_SystemVolumeTotalCapacity\n",
       "NaN            2968\n",
       "28542.0000     2920\n",
       "926992.0000    2865\n",
       "476389.0000    2377\n",
       "476324.0000    2305\n",
       "               ... \n",
       "151697.0000       1\n",
       "125391.0000       1\n",
       "263040.0000       1\n",
       "104514.0000       1\n",
       "142540.0000       1\n",
       "Name: count, Length: 141706, dtype: int64"
      ]
     },
     "execution_count": 1383,
     "metadata": {},
     "output_type": "execute_result"
    }
   ],
   "source": [
    "df[\"Census_SystemVolumeTotalCapacity\"].value_counts(dropna=False)"
   ]
  },
  {
   "cell_type": "code",
   "execution_count": null,
   "metadata": {
    "ExecuteTime": {
     "end_time": "2025-02-03T23:01:49.266915Z",
     "start_time": "2025-02-03T23:01:48.971059Z"
    }
   },
   "outputs": [
    {
     "data": {
      "text/plain": [
       "<Axes: >"
      ]
     },
     "execution_count": 1384,
     "metadata": {},
     "output_type": "execute_result"
    },
    {
     "data": {
      "image/png": "[encoded data removed]",
      "text/plain": [
       "<Figure size 640x480 with 1 Axes>"
      ]
     },
     "metadata": {},
     "output_type": "display_data"
    }
   ],
   "source": [
    "# hacemos un histograma\n",
    "df[df[\"Census_SystemVolumeTotalCapacity\"] < 1_000_000][\"Census_SystemVolumeTotalCapacity\"].hist()"
   ]
  },
  {
   "cell_type": "code",
   "execution_count": null,
   "metadata": {
    "ExecuteTime": {
     "end_time": "2025-02-03T23:01:49.304327Z",
     "start_time": "2025-02-03T23:01:49.291378Z"
    }
   },
   "outputs": [
    {
     "data": {
      "text/html": [
       "<div>\n",
       "<style scoped>\n",
       "    .dataframe tbody tr th:only-of-type {\n",
       "        vertical-align: middle;\n",
       "    }\n",
       "\n",
       "    .dataframe tbody tr th {\n",
       "        vertical-align: top;\n",
       "    }\n",
       "\n",
       "    .dataframe thead th {\n",
       "        text-align: right;\n",
       "    }\n",
       "</style>\n",
       "<table border=\"1\" class=\"dataframe\">\n",
       "  <thead>\n",
       "    <tr style=\"text-align: right;\">\n",
       "      <th></th>\n",
       "      <th>Census_SystemVolumeTotalCapacity</th>\n",
       "      <th>HasDetections</th>\n",
       "    </tr>\n",
       "  </thead>\n",
       "  <tbody>\n",
       "    <tr>\n",
       "      <th>Census_SystemVolumeTotalCapacity</th>\n",
       "      <td>1.0000</td>\n",
       "      <td>0.0137</td>\n",
       "    </tr>\n",
       "    <tr>\n",
       "      <th>HasDetections</th>\n",
       "      <td>0.0137</td>\n",
       "      <td>1.0000</td>\n",
       "    </tr>\n",
       "  </tbody>\n",
       "</table>\n",
       "</div>"
      ],
      "text/plain": [
       "                                  Census_SystemVolumeTotalCapacity  \\\n",
       "Census_SystemVolumeTotalCapacity                            1.0000   \n",
       "HasDetections                                               0.0137   \n",
       "\n",
       "                                  HasDetections  \n",
       "Census_SystemVolumeTotalCapacity         0.0137  \n",
       "HasDetections                            1.0000  "
      ]
     },
     "execution_count": 1385,
     "metadata": {},
     "output_type": "execute_result"
    }
   ],
   "source": [
    "# correlación con el target\n",
    "df[[\"Census_SystemVolumeTotalCapacity\", \"HasDetections\"]].corr()"
   ]
  },
  {
   "cell_type": "code",
   "execution_count": null,
   "metadata": {
    "ExecuteTime": {
     "end_time": "2025-02-03T23:01:49.396922Z",
     "start_time": "2025-02-03T23:01:49.393474Z"
    }
   },
   "outputs": [],
   "source": [
    "# mismo argumento que \"Census_PrimaryDiskTotalCapacity\", eliminamos la columna\n",
    "del_columns.append(\"Census_SystemVolumeTotalCapacity\")"
   ]
  },
  {
   "cell_type": "markdown",
   "metadata": {},
   "source": [
    "### \"Census_HasOpticalDiskDrive\"\n",
    "Descripción: Indica si el dispositivo tiene una unidad de disco óptico"
   ]
  },
  {
   "cell_type": "code",
   "execution_count": null,
   "metadata": {
    "ExecuteTime": {
     "end_time": "2025-02-03T23:01:49.582695Z",
     "start_time": "2025-02-03T23:01:49.575318Z"
    }
   },
   "outputs": [
    {
     "data": {
      "text/plain": [
       "Census_HasOpticalDiskDrive\n",
       "0    459696\n",
       "1     38352\n",
       "Name: count, dtype: int64"
      ]
     },
     "execution_count": 1387,
     "metadata": {},
     "output_type": "execute_result"
    }
   ],
   "source": [
    "df[\"Census_HasOpticalDiskDrive\"].value_counts(dropna=False)"
   ]
  },
  {
   "cell_type": "code",
   "execution_count": null,
   "metadata": {
    "ExecuteTime": {
     "end_time": "2025-02-03T23:01:49.712043Z",
     "start_time": "2025-02-03T23:01:49.707911Z"
    }
   },
   "outputs": [
    {
     "data": {
      "text/plain": [
       "0.077034"
      ]
     },
     "execution_count": 1388,
     "metadata": {},
     "output_type": "execute_result"
    }
   ],
   "source": [
    "38_517 / 500_000  # 7.7% True"
   ]
  },
  {
   "cell_type": "code",
   "execution_count": null,
   "metadata": {
    "ExecuteTime": {
     "end_time": "2025-02-03T23:01:49.895141Z",
     "start_time": "2025-02-03T23:01:49.882519Z"
    }
   },
   "outputs": [
    {
     "data": {
      "text/html": [
       "<div>\n",
       "<style scoped>\n",
       "    .dataframe tbody tr th:only-of-type {\n",
       "        vertical-align: middle;\n",
       "    }\n",
       "\n",
       "    .dataframe tbody tr th {\n",
       "        vertical-align: top;\n",
       "    }\n",
       "\n",
       "    .dataframe thead th {\n",
       "        text-align: right;\n",
       "    }\n",
       "</style>\n",
       "<table border=\"1\" class=\"dataframe\">\n",
       "  <thead>\n",
       "    <tr style=\"text-align: right;\">\n",
       "      <th></th>\n",
       "      <th>Census_HasOpticalDiskDrive</th>\n",
       "      <th>HasDetections</th>\n",
       "    </tr>\n",
       "  </thead>\n",
       "  <tbody>\n",
       "    <tr>\n",
       "      <th>Census_HasOpticalDiskDrive</th>\n",
       "      <td>1.0000</td>\n",
       "      <td>0.0200</td>\n",
       "    </tr>\n",
       "    <tr>\n",
       "      <th>HasDetections</th>\n",
       "      <td>0.0200</td>\n",
       "      <td>1.0000</td>\n",
       "    </tr>\n",
       "  </tbody>\n",
       "</table>\n",
       "</div>"
      ],
      "text/plain": [
       "                            Census_HasOpticalDiskDrive  HasDetections\n",
       "Census_HasOpticalDiskDrive                      1.0000         0.0200\n",
       "HasDetections                                   0.0200         1.0000"
      ]
     },
     "execution_count": 1389,
     "metadata": {},
     "output_type": "execute_result"
    }
   ],
   "source": [
    "# correlación con el target\n",
    "df[[\"Census_HasOpticalDiskDrive\", \"HasDetections\"]].corr()"
   ]
  },
  {
   "cell_type": "code",
   "execution_count": null,
   "metadata": {
    "ExecuteTime": {
     "end_time": "2025-02-03T23:01:50.004478Z",
     "start_time": "2025-02-03T23:01:50.000915Z"
    }
   },
   "outputs": [],
   "source": [
    "# TODO: Muy poca correlación, la dejamos pero la podríamos borrar perfectamente (dependerá de los resultados de los modelos)"
   ]
  },
  {
   "cell_type": "markdown",
   "metadata": {},
   "source": [
    "### \"Census_TotalPhysicalRAM\"\n",
    "Descripción: Cantidad de RAM física en MB"
   ]
  },
  {
   "cell_type": "code",
   "execution_count": null,
   "metadata": {
    "ExecuteTime": {
     "end_time": "2025-02-03T23:01:50.193087Z",
     "start_time": "2025-02-03T23:01:50.182532Z"
    }
   },
   "outputs": [
    {
     "data": {
      "text/plain": [
       "Census_TotalPhysicalRAM\n",
       "4096.0000     227901\n",
       "8192.0000     122854\n",
       "2048.0000      61525\n",
       "16384.0000     30015\n",
       "6144.0000      22274\n",
       "               ...  \n",
       "12209.0000         1\n",
       "2925.0000          1\n",
       "1841.0000          1\n",
       "1992.0000          1\n",
       "16382.0000         1\n",
       "Name: count, Length: 526, dtype: int64"
      ]
     },
     "execution_count": 1391,
     "metadata": {},
     "output_type": "execute_result"
    }
   ],
   "source": [
    "df[\"Census_TotalPhysicalRAM\"].value_counts(dropna=False)"
   ]
  },
  {
   "cell_type": "code",
   "execution_count": null,
   "metadata": {
    "ExecuteTime": {
     "end_time": "2025-02-03T23:01:50.395792Z",
     "start_time": "2025-02-03T23:01:50.314682Z"
    }
   },
   "outputs": [
    {
     "data": {
      "text/plain": [
       "Census_TotalPhysicalRAM\n",
       "0.0000          40\n",
       "1.0000        4208\n",
       "2.0000       61933\n",
       "3.0000        8947\n",
       "4.0000      227960\n",
       "5.0000         479\n",
       "6.0000       22315\n",
       "7.0000         317\n",
       "8.0000      122865\n",
       "9.0000          38\n",
       "10.0000        601\n",
       "11.0000         33\n",
       "12.0000       9061\n",
       "13.0000          2\n",
       "14.0000         91\n",
       "15.0000         44\n",
       "16.0000      30019\n",
       "18.0000         28\n",
       "19.0000          4\n",
       "20.0000        234\n",
       "21.0000          2\n",
       "22.0000          5\n",
       "23.0000          4\n",
       "24.0000        684\n",
       "26.0000          1\n",
       "27.0000          1\n",
       "28.0000         13\n",
       "29.0000          1\n",
       "30.0000          2\n",
       "31.0000          4\n",
       "32.0000       3194\n",
       "35.0000          1\n",
       "36.0000          7\n",
       "40.0000         18\n",
       "44.0000          3\n",
       "48.0000         50\n",
       "52.0000          2\n",
       "56.0000          2\n",
       "60.0000          1\n",
       "64.0000        309\n",
       "66.0000          1\n",
       "69.0000          1\n",
       "72.0000          4\n",
       "95.0000          1\n",
       "96.0000          3\n",
       "112.0000         1\n",
       "128.0000        43\n",
       "149.0000         1\n",
       "192.0000         1\n",
       "256.0000         4\n",
       "384.0000         1\n",
       "Name: count, dtype: int64"
      ]
     },
     "execution_count": 1392,
     "metadata": {},
     "output_type": "execute_result"
    }
   ],
   "source": [
    "#  pasamos a GB\n",
    "df[\"Census_TotalPhysicalRAM\"].apply(lambda x: x // 1024).value_counts().sort_index()"
   ]
  },
  {
   "cell_type": "code",
   "execution_count": null,
   "metadata": {
    "ExecuteTime": {
     "end_time": "2025-02-03T23:01:50.618734Z",
     "start_time": "2025-02-03T23:01:50.543932Z"
    }
   },
   "outputs": [],
   "source": [
    "\"\"\"\n",
    "Opciones:\n",
    "1. Eliminar la columna por (alomejor) no tener relación con el target\n",
    "2. Eliminamos los registros con valores \"anormales\" o \"poco frecuentes\"\n",
    "3. Otra (a definir)\n",
    "\"\"\"\n",
    "\n",
    "# OPCIÓN 2!\n",
    "# convertimos a GB\n",
    "df[\"Census_TotalPhysicalRAM_GB\"] = df[\"Census_TotalPhysicalRAM\"].apply(lambda x: x // 1024)"
   ]
  },
  {
   "cell_type": "code",
   "execution_count": null,
   "metadata": {
    "ExecuteTime": {
     "end_time": "2025-02-03T23:01:50.777479Z",
     "start_time": "2025-02-03T23:01:50.772662Z"
    }
   },
   "outputs": [
    {
     "data": {
      "text/plain": [
       "np.int64(4464)"
      ]
     },
     "execution_count": 1394,
     "metadata": {},
     "output_type": "execute_result"
    }
   ],
   "source": [
    "# nulos\n",
    "df[\"Census_TotalPhysicalRAM_GB\"].isna().sum()  # 4556 nulos"
   ]
  },
  {
   "cell_type": "code",
   "execution_count": null,
   "metadata": {
    "ExecuteTime": {
     "end_time": "2025-02-03T23:01:50.888360Z",
     "start_time": "2025-02-03T23:01:50.880325Z"
    }
   },
   "outputs": [],
   "source": [
    "# Buscamos aquellos valores de RAM que tengan más de 1000 filas en caso de RAM < 20 GB y de más de 100 filas en caso de RAM >= 20 GB\n",
    "recuento_RAM = df[\"Census_TotalPhysicalRAM_GB\"].value_counts().sort_index()\n",
    "a = recuento_RAM.iloc[:20][recuento_RAM.iloc[:20] > 1000] # RAM < 20 GB\n",
    "b = recuento_RAM.iloc[20:][recuento_RAM.iloc[20:] > 100] # RAM >= 20 GB"
   ]
  },
  {
   "cell_type": "code",
   "execution_count": null,
   "metadata": {
    "ExecuteTime": {
     "end_time": "2025-02-03T23:01:50.977474Z",
     "start_time": "2025-02-03T23:01:50.972525Z"
    }
   },
   "outputs": [
    {
     "data": {
      "text/plain": [
       "[1.0, 2.0, 3.0, 4.0, 6.0, 8.0, 12.0, 16.0, 24.0, 32.0, 64.0]"
      ]
     },
     "execution_count": 1396,
     "metadata": {},
     "output_type": "execute_result"
    }
   ],
   "source": [
    "ram_elecciones = a.index.tolist() + b.index.tolist()\n",
    "ram_elecciones  # valores más frecuentes, nos quedamos con los registros que contenegan estos valores"
   ]
  },
  {
   "cell_type": "code",
   "execution_count": null,
   "metadata": {
    "ExecuteTime": {
     "end_time": "2025-02-03T23:01:51.218201Z",
     "start_time": "2025-02-03T23:01:51.019144Z"
    }
   },
   "outputs": [],
   "source": [
    "# filtramos por los registros que tengan la RAM que hemos seleccionado\n",
    "df = df[df[\"Census_TotalPhysicalRAM_GB\"].isin(ram_elecciones)]  # indirecamente eliminamos los nulos"
   ]
  },
  {
   "cell_type": "code",
   "execution_count": null,
   "metadata": {
    "ExecuteTime": {
     "end_time": "2025-02-03T23:01:51.246157Z",
     "start_time": "2025-02-03T23:01:51.235521Z"
    }
   },
   "outputs": [
    {
     "name": "stdout",
     "output_type": "stream",
     "text": [
      "Recuento de registros actuales: 491495\n"
     ]
    },
    {
     "data": {
      "text/plain": [
       "Census_TotalPhysicalRAM_GB\n",
       "4.0000     227960\n",
       "8.0000     122865\n",
       "2.0000      61933\n",
       "16.0000     30019\n",
       "6.0000      22315\n",
       "12.0000      9061\n",
       "3.0000       8947\n",
       "1.0000       4208\n",
       "32.0000      3194\n",
       "24.0000       684\n",
       "64.0000       309\n",
       "Name: count, dtype: int64"
      ]
     },
     "execution_count": 1398,
     "metadata": {},
     "output_type": "execute_result"
    }
   ],
   "source": [
    "print(f\"Recuento de registros actuales: {len(df)}\")  # 493_254, 6746 menos\n",
    "df[\"Census_TotalPhysicalRAM_GB\"].value_counts()"
   ]
  },
  {
   "cell_type": "code",
   "execution_count": null,
   "metadata": {
    "ExecuteTime": {
     "end_time": "2025-02-03T23:01:51.333013Z",
     "start_time": "2025-02-03T23:01:51.318534Z"
    }
   },
   "outputs": [
    {
     "data": {
      "text/html": [
       "<div>\n",
       "<style scoped>\n",
       "    .dataframe tbody tr th:only-of-type {\n",
       "        vertical-align: middle;\n",
       "    }\n",
       "\n",
       "    .dataframe tbody tr th {\n",
       "        vertical-align: top;\n",
       "    }\n",
       "\n",
       "    .dataframe thead th {\n",
       "        text-align: right;\n",
       "    }\n",
       "</style>\n",
       "<table border=\"1\" class=\"dataframe\">\n",
       "  <thead>\n",
       "    <tr style=\"text-align: right;\">\n",
       "      <th></th>\n",
       "      <th>Census_TotalPhysicalRAM_GB</th>\n",
       "      <th>HasDetections</th>\n",
       "    </tr>\n",
       "  </thead>\n",
       "  <tbody>\n",
       "    <tr>\n",
       "      <th>Census_TotalPhysicalRAM_GB</th>\n",
       "      <td>1.0000</td>\n",
       "      <td>0.0686</td>\n",
       "    </tr>\n",
       "    <tr>\n",
       "      <th>HasDetections</th>\n",
       "      <td>0.0686</td>\n",
       "      <td>1.0000</td>\n",
       "    </tr>\n",
       "  </tbody>\n",
       "</table>\n",
       "</div>"
      ],
      "text/plain": [
       "                            Census_TotalPhysicalRAM_GB  HasDetections\n",
       "Census_TotalPhysicalRAM_GB                      1.0000         0.0686\n",
       "HasDetections                                   0.0686         1.0000"
      ]
     },
     "execution_count": 1399,
     "metadata": {},
     "output_type": "execute_result"
    }
   ],
   "source": [
    "# correlación con el target\n",
    "df[[\"Census_TotalPhysicalRAM_GB\", \"HasDetections\"]].corr()"
   ]
  },
  {
   "cell_type": "markdown",
   "metadata": {},
   "source": [
    "### \"Census_ChassisTypeName\"\n",
    "Descripción: Tipo de chasis del dispositivo"
   ]
  },
  {
   "cell_type": "code",
   "execution_count": null,
   "metadata": {
    "ExecuteTime": {
     "end_time": "2025-02-03T23:01:51.489990Z",
     "start_time": "2025-02-03T23:01:51.473144Z"
    }
   },
   "outputs": [
    {
     "data": {
      "text/plain": [
       "Census_ChassisTypeName\n",
       "Notebook               291609\n",
       "Desktop                102888\n",
       "Laptop                  37942\n",
       "Portable                20028\n",
       "AllinOne                11324\n",
       "MiniTower                4691\n",
       "Convertible              4650\n",
       "Other                    3135\n",
       "Detachable               2911\n",
       "LowProfileDesktop        2840\n",
       "HandHeld                 2647\n",
       "UNKNOWN                  2243\n",
       "SpaceSaving              1662\n",
       "Tablet                    725\n",
       "Tower                     560\n",
       "Unknown                   551\n",
       "MainServerChassis         420\n",
       "MiniPC                    255\n",
       "LunchBox                  221\n",
       "SubNotebook                45\n",
       "BusExpansionChassis        38\n",
       "RackMountChassis           36\n",
       "NaN                        35\n",
       "30                         11\n",
       "StickPC                     7\n",
       "0                           5\n",
       "35                          3\n",
       "PizzaBox                    3\n",
       "MultisystemChassis          2\n",
       "SubChassis                  2\n",
       "31                          2\n",
       "32                          1\n",
       "ExpansionChassis            1\n",
       "Blade                       1\n",
       "25                          1\n",
       "Name: count, dtype: int64"
      ]
     },
     "execution_count": 1400,
     "metadata": {},
     "output_type": "execute_result"
    }
   ],
   "source": [
    "df[\"Census_ChassisTypeName\"].value_counts(dropna=False)"
   ]
  },
  {
   "cell_type": "code",
   "execution_count": null,
   "metadata": {
    "ExecuteTime": {
     "end_time": "2025-02-03T23:01:52.005287Z",
     "start_time": "2025-02-03T23:01:51.723995Z"
    }
   },
   "outputs": [
    {
     "data": {
      "text/plain": [
       "Census_ChassisTypeName_0                     -0.0006\n",
       "Census_ChassisTypeName_25                    -0.0014\n",
       "Census_ChassisTypeName_30                    -0.0022\n",
       "Census_ChassisTypeName_31                     0.0020\n",
       "Census_ChassisTypeName_32                     0.0014\n",
       "Census_ChassisTypeName_35                    -0.0008\n",
       "Census_ChassisTypeName_AllinOne               0.0034\n",
       "Census_ChassisTypeName_Blade                 -0.0014\n",
       "Census_ChassisTypeName_BusExpansionChassis   -0.0019\n",
       "Census_ChassisTypeName_Convertible           -0.0039\n",
       "Census_ChassisTypeName_Desktop                0.0255\n",
       "Census_ChassisTypeName_Detachable            -0.0234\n",
       "Census_ChassisTypeName_ExpansionChassis      -0.0014\n",
       "Census_ChassisTypeName_HandHeld              -0.0302\n",
       "Census_ChassisTypeName_Laptop                -0.0044\n",
       "Census_ChassisTypeName_LowProfileDesktop      0.0021\n",
       "Census_ChassisTypeName_LunchBox              -0.0017\n",
       "Census_ChassisTypeName_MainServerChassis     -0.0050\n",
       "Census_ChassisTypeName_MiniPC                -0.0074\n",
       "Census_ChassisTypeName_MiniTower              0.0064\n",
       "Census_ChassisTypeName_MultisystemChassis    -0.0000\n",
       "Census_ChassisTypeName_Notebook              -0.0001\n",
       "Census_ChassisTypeName_Other                 -0.0335\n",
       "Census_ChassisTypeName_PizzaBox              -0.0008\n",
       "Census_ChassisTypeName_Portable              -0.0081\n",
       "Census_ChassisTypeName_RackMountChassis      -0.0048\n",
       "Census_ChassisTypeName_SpaceSaving           -0.0024\n",
       "Census_ChassisTypeName_StickPC               -0.0038\n",
       "Census_ChassisTypeName_SubChassis            -0.0000\n",
       "Census_ChassisTypeName_SubNotebook           -0.0023\n",
       "Census_ChassisTypeName_Tablet                -0.0108\n",
       "Census_ChassisTypeName_Tower                  0.0006\n",
       "Census_ChassisTypeName_UNKNOWN               -0.0096\n",
       "Census_ChassisTypeName_Unknown               -0.0046\n",
       "dtype: float64"
      ]
     },
     "execution_count": 1401,
     "metadata": {},
     "output_type": "execute_result"
    }
   ],
   "source": [
    "# Convertir la variable string en variables dummy\n",
    "df_dummies = pd.get_dummies(df['Census_ChassisTypeName'], prefix='Census_ChassisTypeName')\n",
    "\n",
    "# Calcular la correlación de cada variable dummy con el target\n",
    "correlations = df_dummies.corrwith(df['HasDetections'])\n",
    "\n",
    "correlations"
   ]
  },
  {
   "cell_type": "code",
   "execution_count": null,
   "metadata": {
    "ExecuteTime": {
     "end_time": "2025-02-03T23:01:52.061689Z",
     "start_time": "2025-02-03T23:01:52.057851Z"
    }
   },
   "outputs": [],
   "source": [
    "# Correlaciones < 0.04 -> proponemos eliminar la columna\n",
    "del_columns.append(\"Census_ChassisTypeName\")"
   ]
  },
  {
   "cell_type": "code",
   "execution_count": null,
   "metadata": {
    "ExecuteTime": {
     "end_time": "2025-02-03T23:01:52.226170Z",
     "start_time": "2025-02-03T23:01:52.213249Z"
    }
   },
   "outputs": [
    {
     "data": {
      "text/html": [
       "<div>\n",
       "<style scoped>\n",
       "    .dataframe tbody tr th:only-of-type {\n",
       "        vertical-align: middle;\n",
       "    }\n",
       "\n",
       "    .dataframe tbody tr th {\n",
       "        vertical-align: top;\n",
       "    }\n",
       "\n",
       "    .dataframe thead th {\n",
       "        text-align: right;\n",
       "    }\n",
       "</style>\n",
       "<table border=\"1\" class=\"dataframe\">\n",
       "  <thead>\n",
       "    <tr style=\"text-align: right;\">\n",
       "      <th></th>\n",
       "      <th>ProductName</th>\n",
       "      <th>AVProductStatesIdentifier</th>\n",
       "      <th>AVProductsInstalled</th>\n",
       "      <th>AVProductsEnabled</th>\n",
       "      <th>OsVer</th>\n",
       "      <th>OsBuild</th>\n",
       "      <th>OsSuite</th>\n",
       "      <th>OsPlatformSubRelease</th>\n",
       "      <th>OsBuildLab</th>\n",
       "      <th>SkuEdition</th>\n",
       "      <th>...</th>\n",
       "      <th>HasDetections</th>\n",
       "      <th>EngineVersion_trimmed</th>\n",
       "      <th>AppVersion_trimmed</th>\n",
       "      <th>AvSigVersion_trimmed</th>\n",
       "      <th>Platform_windows10</th>\n",
       "      <th>Platform_windows7</th>\n",
       "      <th>Platform_windows8</th>\n",
       "      <th>Processor_x64</th>\n",
       "      <th>Processor_x86</th>\n",
       "      <th>Census_TotalPhysicalRAM_GB</th>\n",
       "    </tr>\n",
       "  </thead>\n",
       "  <tbody>\n",
       "    <tr>\n",
       "      <th>0</th>\n",
       "      <td>win8defender</td>\n",
       "      <td>53447.0000</td>\n",
       "      <td>1.0000</td>\n",
       "      <td>1.0000</td>\n",
       "      <td>10.0.0.0</td>\n",
       "      <td>17134</td>\n",
       "      <td>256</td>\n",
       "      <td>rs4</td>\n",
       "      <td>17134.1.amd64fre.rs4_release.180410-1804</td>\n",
       "      <td>Pro</td>\n",
       "      <td>...</td>\n",
       "      <td>1</td>\n",
       "      <td>1.1.15100</td>\n",
       "      <td>4.18.1807</td>\n",
       "      <td>1.273.1234</td>\n",
       "      <td>True</td>\n",
       "      <td>False</td>\n",
       "      <td>False</td>\n",
       "      <td>True</td>\n",
       "      <td>False</td>\n",
       "      <td>8.0000</td>\n",
       "    </tr>\n",
       "    <tr>\n",
       "      <th>1</th>\n",
       "      <td>win8defender</td>\n",
       "      <td>53447.0000</td>\n",
       "      <td>1.0000</td>\n",
       "      <td>1.0000</td>\n",
       "      <td>10.0.0.0</td>\n",
       "      <td>17134</td>\n",
       "      <td>256</td>\n",
       "      <td>rs4</td>\n",
       "      <td>17134.1.amd64fre.rs4_release.180410-1804</td>\n",
       "      <td>Pro</td>\n",
       "      <td>...</td>\n",
       "      <td>0</td>\n",
       "      <td>1.1.15100</td>\n",
       "      <td>4.18.1807</td>\n",
       "      <td>1.273.1282</td>\n",
       "      <td>True</td>\n",
       "      <td>False</td>\n",
       "      <td>False</td>\n",
       "      <td>True</td>\n",
       "      <td>False</td>\n",
       "      <td>8.0000</td>\n",
       "    </tr>\n",
       "  </tbody>\n",
       "</table>\n",
       "<p>2 rows × 76 columns</p>\n",
       "</div>"
      ],
      "text/plain": [
       "    ProductName  AVProductStatesIdentifier  AVProductsInstalled  \\\n",
       "0  win8defender                 53447.0000               1.0000   \n",
       "1  win8defender                 53447.0000               1.0000   \n",
       "\n",
       "   AVProductsEnabled     OsVer  OsBuild  OsSuite OsPlatformSubRelease  \\\n",
       "0             1.0000  10.0.0.0    17134      256                  rs4   \n",
       "1             1.0000  10.0.0.0    17134      256                  rs4   \n",
       "\n",
       "                                 OsBuildLab SkuEdition  ...  HasDetections  \\\n",
       "0  17134.1.amd64fre.rs4_release.180410-1804        Pro  ...              1   \n",
       "1  17134.1.amd64fre.rs4_release.180410-1804        Pro  ...              0   \n",
       "\n",
       "   EngineVersion_trimmed AppVersion_trimmed  AvSigVersion_trimmed  \\\n",
       "0              1.1.15100          4.18.1807            1.273.1234   \n",
       "1              1.1.15100          4.18.1807            1.273.1282   \n",
       "\n",
       "   Platform_windows10 Platform_windows7  Platform_windows8  Processor_x64  \\\n",
       "0                True             False              False           True   \n",
       "1                True             False              False           True   \n",
       "\n",
       "  Processor_x86 Census_TotalPhysicalRAM_GB  \n",
       "0         False                     8.0000  \n",
       "1         False                     8.0000  \n",
       "\n",
       "[2 rows x 76 columns]"
      ]
     },
     "execution_count": 1403,
     "metadata": {},
     "output_type": "execute_result"
    }
   ],
   "source": [
    "df.head(2)"
   ]
  },
  {
   "cell_type": "markdown",
   "metadata": {},
   "source": [
    "### \"Census_InternalPrimaryDiagonalDisplaySizeInInches\"\n",
    "Descripción: Tamaño diagonal de la pantalla en pulgadas"
   ]
  },
  {
   "cell_type": "code",
   "execution_count": null,
   "metadata": {
    "ExecuteTime": {
     "end_time": "2025-02-03T23:01:52.413303Z",
     "start_time": "2025-02-03T23:01:52.403330Z"
    }
   },
   "outputs": [
    {
     "data": {
      "text/plain": [
       "Census_InternalPrimaryDiagonalDisplaySizeInInches\n",
       "15.5000    169361\n",
       "13.9000     52293\n",
       "14.0000     30073\n",
       "11.6000     17350\n",
       "21.5000     15104\n",
       "            ...  \n",
       "40.7000         1\n",
       "40.6000         1\n",
       "38.9000         1\n",
       "29.9000         1\n",
       "45.3000         1\n",
       "Name: count, Length: 512, dtype: int64"
      ]
     },
     "execution_count": 1404,
     "metadata": {},
     "output_type": "execute_result"
    }
   ],
   "source": [
    "df[\"Census_InternalPrimaryDiagonalDisplaySizeInInches\"].value_counts(dropna=False)"
   ]
  },
  {
   "cell_type": "code",
   "execution_count": null,
   "metadata": {
    "ExecuteTime": {
     "end_time": "2025-02-03T23:01:52.649320Z",
     "start_time": "2025-02-03T23:01:52.526086Z"
    }
   },
   "outputs": [
    {
     "data": {
      "text/plain": [
       "<Axes: >"
      ]
     },
     "execution_count": 1405,
     "metadata": {},
     "output_type": "execute_result"
    },
    {
     "data": {
      "image/png": "[encoded data removed]",
      "text/plain": [
       "<Figure size 640x480 with 1 Axes>"
      ]
     },
     "metadata": {},
     "output_type": "display_data"
    }
   ],
   "source": [
    "# hist\n",
    "df[\"Census_InternalPrimaryDiagonalDisplaySizeInInches\"].hist()"
   ]
  },
  {
   "cell_type": "code",
   "execution_count": null,
   "metadata": {
    "ExecuteTime": {
     "end_time": "2025-02-03T23:01:53.017132Z",
     "start_time": "2025-02-03T23:01:53.013802Z"
    }
   },
   "outputs": [],
   "source": [
    "# se deduce una muy baja correlación con el target, eliminamos la columna  # TODO\n",
    "del_columns.append(\"Census_InternalPrimaryDiagonalDisplaySizeInInches\")"
   ]
  },
  {
   "cell_type": "code",
   "execution_count": null,
   "metadata": {
    "ExecuteTime": {
     "end_time": "2025-02-03T23:01:53.209196Z",
     "start_time": "2025-02-03T23:01:53.195062Z"
    }
   },
   "outputs": [
    {
     "data": {
      "text/html": [
       "<div>\n",
       "<style scoped>\n",
       "    .dataframe tbody tr th:only-of-type {\n",
       "        vertical-align: middle;\n",
       "    }\n",
       "\n",
       "    .dataframe tbody tr th {\n",
       "        vertical-align: top;\n",
       "    }\n",
       "\n",
       "    .dataframe thead th {\n",
       "        text-align: right;\n",
       "    }\n",
       "</style>\n",
       "<table border=\"1\" class=\"dataframe\">\n",
       "  <thead>\n",
       "    <tr style=\"text-align: right;\">\n",
       "      <th></th>\n",
       "      <th>Census_InternalPrimaryDiagonalDisplaySizeInInches</th>\n",
       "      <th>HasDetections</th>\n",
       "    </tr>\n",
       "  </thead>\n",
       "  <tbody>\n",
       "    <tr>\n",
       "      <th>Census_InternalPrimaryDiagonalDisplaySizeInInches</th>\n",
       "      <td>1.0000</td>\n",
       "      <td>0.0334</td>\n",
       "    </tr>\n",
       "    <tr>\n",
       "      <th>HasDetections</th>\n",
       "      <td>0.0334</td>\n",
       "      <td>1.0000</td>\n",
       "    </tr>\n",
       "  </tbody>\n",
       "</table>\n",
       "</div>"
      ],
      "text/plain": [
       "                                                   Census_InternalPrimaryDiagonalDisplaySizeInInches  \\\n",
       "Census_InternalPrimaryDiagonalDisplaySizeInInches                                             1.0000   \n",
       "HasDetections                                                                                 0.0334   \n",
       "\n",
       "                                                   HasDetections  \n",
       "Census_InternalPrimaryDiagonalDisplaySizeInInches         0.0334  \n",
       "HasDetections                                             1.0000  "
      ]
     },
     "execution_count": 1407,
     "metadata": {},
     "output_type": "execute_result"
    }
   ],
   "source": [
    "# correlación con el target\n",
    "df[[\"Census_InternalPrimaryDiagonalDisplaySizeInInches\", \"HasDetections\"]].corr()"
   ]
  },
  {
   "cell_type": "markdown",
   "metadata": {},
   "source": [
    "### \"Census_InternalPrimaryDisplayResolutionHorizontal\" y \"Census_InternalPrimaryDisplayResolutionVertical\"\n",
    "Descripción: Resolución de la pantalla"
   ]
  },
  {
   "cell_type": "code",
   "execution_count": null,
   "metadata": {
    "ExecuteTime": {
     "end_time": "2025-02-03T23:01:53.322380Z",
     "start_time": "2025-02-03T23:01:53.312584Z"
    }
   },
   "outputs": [
    {
     "data": {
      "text/plain": [
       "Census_InternalPrimaryDisplayResolutionHorizontal\n",
       "1366.0000    249063\n",
       "1920.0000    122788\n",
       "1280.0000     29108\n",
       "1600.0000     27791\n",
       "1024.0000     18484\n",
       "              ...  \n",
       "1195.0000         1\n",
       "1689.0000         1\n",
       "1727.0000         1\n",
       "1453.0000         1\n",
       "1561.0000         1\n",
       "Name: count, Length: 374, dtype: int64"
      ]
     },
     "execution_count": 1408,
     "metadata": {},
     "output_type": "execute_result"
    }
   ],
   "source": [
    "df[\"Census_InternalPrimaryDisplayResolutionHorizontal\"].value_counts(dropna=False)"
   ]
  },
  {
   "cell_type": "code",
   "execution_count": null,
   "metadata": {
    "ExecuteTime": {
     "end_time": "2025-02-03T23:01:53.474161Z",
     "start_time": "2025-02-03T23:01:53.464143Z"
    }
   },
   "outputs": [
    {
     "data": {
      "text/plain": [
       "Census_InternalPrimaryDisplayResolutionVertical\n",
       "768.0000     273863\n",
       "1080.0000    118998\n",
       "900.0000      36251\n",
       "800.0000      14531\n",
       "1024.0000     10268\n",
       "              ...  \n",
       "2758.0000         1\n",
       "1868.0000         1\n",
       "646.0000          1\n",
       "1871.0000         1\n",
       "990.0000          1\n",
       "Name: count, Length: 400, dtype: int64"
      ]
     },
     "execution_count": 1409,
     "metadata": {},
     "output_type": "execute_result"
    }
   ],
   "source": [
    "df[\"Census_InternalPrimaryDisplayResolutionVertical\"].value_counts(dropna=False)"
   ]
  },
  {
   "cell_type": "code",
   "execution_count": null,
   "metadata": {
    "ExecuteTime": {
     "end_time": "2025-02-03T23:01:53.624682Z",
     "start_time": "2025-02-03T23:01:53.621111Z"
    }
   },
   "outputs": [],
   "source": [
    "# misma argumentación que \"Census_InternalPrimaryDiagonalDisplaySizeInInches\", proponemos eliminar las columnas\n",
    "del_columns.append(\"Census_InternalPrimaryDisplayResolutionHorizontal\")\n",
    "del_columns.append(\"Census_InternalPrimaryDisplayResolutionVertical\")"
   ]
  },
  {
   "cell_type": "markdown",
   "metadata": {},
   "source": [
    "### \"Census_PowerPlatformRoleName\"\n",
    "Descripción: Nombre del rol de la plataforma de energía"
   ]
  },
  {
   "cell_type": "code",
   "execution_count": null,
   "metadata": {
    "ExecuteTime": {
     "end_time": "2025-02-03T23:01:53.860495Z",
     "start_time": "2025-02-03T23:01:53.844552Z"
    }
   },
   "outputs": [
    {
     "data": {
      "text/plain": [
       "Census_PowerPlatformRoleName\n",
       "Mobile               342399\n",
       "Desktop              113023\n",
       "Slate                 27331\n",
       "Workstation            6036\n",
       "SOHOServer             1999\n",
       "UNKNOWN                 361\n",
       "AppliancePC             212\n",
       "EnterpriseServer        131\n",
       "PerformanceServer         3\n",
       "Name: count, dtype: int64"
      ]
     },
     "execution_count": 1411,
     "metadata": {},
     "output_type": "execute_result"
    }
   ],
   "source": [
    "df[\"Census_PowerPlatformRoleName\"].value_counts(dropna=False)  # no tiene nulos"
   ]
  },
  {
   "cell_type": "code",
   "execution_count": null,
   "metadata": {
    "ExecuteTime": {
     "end_time": "2025-02-03T23:01:54.001125Z",
     "start_time": "2025-02-03T23:01:53.956396Z"
    }
   },
   "outputs": [],
   "source": [
    "# juntamos columnas [SOHOServer, EnterpriseServer, PerformanceServer] en \"Server\"\n",
    "df[\"Census_PowerPlatformRoleName\"] = df[\"Census_PowerPlatformRoleName\"].replace([\"SOHOServer\", \"EnterpriseServer\", \"PerformanceServer\"], \"Server\")"
   ]
  },
  {
   "cell_type": "code",
   "execution_count": null,
   "metadata": {
    "ExecuteTime": {
     "end_time": "2025-02-03T23:01:54.269840Z",
     "start_time": "2025-02-03T23:01:54.110457Z"
    }
   },
   "outputs": [],
   "source": [
    "# borramos registros con nulos (con valor UNKNOWN)\n",
    "df = df[df[\"Census_PowerPlatformRoleName\"] != \"UNKNOWN\"]"
   ]
  },
  {
   "cell_type": "code",
   "execution_count": null,
   "metadata": {
    "ExecuteTime": {
     "end_time": "2025-02-03T23:01:54.362389Z",
     "start_time": "2025-02-03T23:01:54.347195Z"
    }
   },
   "outputs": [
    {
     "data": {
      "text/plain": [
       "Census_PowerPlatformRoleName\n",
       "Mobile         342399\n",
       "Desktop        113023\n",
       "Slate           27331\n",
       "Workstation      6036\n",
       "Server           2133\n",
       "AppliancePC       212\n",
       "Name: count, dtype: int64"
      ]
     },
     "execution_count": 1414,
     "metadata": {},
     "output_type": "execute_result"
    }
   ],
   "source": [
    "df[\"Census_PowerPlatformRoleName\"].value_counts(dropna=False)"
   ]
  },
  {
   "cell_type": "code",
   "execution_count": null,
   "metadata": {
    "ExecuteTime": {
     "end_time": "2025-02-03T23:01:54.442545Z",
     "start_time": "2025-02-03T23:01:54.437973Z"
    }
   },
   "outputs": [],
   "source": [
    "# hay únicamente 9 valores únicos, es una variable categórica, proponemos hacer un OHE\n",
    "# df = pd.get_dummies(df, columns=[\"Census_PowerPlatformRoleName\"], prefix=\"Census_PowerPlatformRoleName\")  # TODO\n",
    "del_columns.append(\"Census_PowerPlatformRoleName\")"
   ]
  },
  {
   "cell_type": "markdown",
   "metadata": {},
   "source": [
    "### \"Census_InternalBatteryType\"\n",
    "Descripción: Tipo de batería interna"
   ]
  },
  {
   "cell_type": "code",
   "execution_count": null,
   "metadata": {
    "ExecuteTime": {
     "end_time": "2025-02-03T23:01:54.576024Z",
     "start_time": "2025-02-03T23:01:54.561796Z"
    }
   },
   "outputs": [
    {
     "data": {
      "text/plain": [
       "Census_InternalBatteryType\n",
       "NaN     348471\n",
       "lion    112323\n",
       "li-i     13737\n",
       "#         9904\n",
       "lip       3302\n",
       "liio      1771\n",
       "li p       460\n",
       "li         348\n",
       "nimh       267\n",
       "real       162\n",
       "bq20       142\n",
       "pbac       128\n",
       "lgi0        29\n",
       "unkn        19\n",
       "lipo        13\n",
       "lhp0        12\n",
       "vbox        11\n",
       "ithi         7\n",
       "4cel         6\n",
       "ram          5\n",
       "batt         3\n",
       "bad          3\n",
       "lipp         3\n",
       "virt         2\n",
       "a132         2\n",
       "li-l         1\n",
       "lgl0         1\n",
       "icp3         1\n",
       "3ion         1\n",
       "Name: count, dtype: int64"
      ]
     },
     "execution_count": 1416,
     "metadata": {},
     "output_type": "execute_result"
    }
   ],
   "source": [
    "df[\"Census_InternalBatteryType\"].value_counts(dropna=False)"
   ]
  },
  {
   "cell_type": "code",
   "execution_count": null,
   "metadata": {
    "ExecuteTime": {
     "end_time": "2025-02-03T23:01:54.752571Z",
     "start_time": "2025-02-03T23:01:54.748766Z"
    }
   },
   "outputs": [],
   "source": [
    "# interpeteción: hay 348_471 nulos y se puede presuponer una alta correlación entre el tipo de batería y el tipo de dispositivo -> eliminamos la columna #TODO: comprobar\n",
    "del_columns.append(\"Census_InternalBatteryType\")"
   ]
  },
  {
   "cell_type": "markdown",
   "metadata": {},
   "source": [
    "### \"Census_InternalBatteryNumberOfCharges\"\n",
    "Descripción: Número de cargas de la batería interna"
   ]
  },
  {
   "cell_type": "code",
   "execution_count": null,
   "metadata": {
    "ExecuteTime": {
     "end_time": "2025-02-03T23:01:54.917165Z",
     "start_time": "2025-02-03T23:01:54.904617Z"
    }
   },
   "outputs": [
    {
     "data": {
      "text/plain": [
       "Census_InternalBatteryNumberOfCharges\n",
       "0.0000             280525\n",
       "4294967295.0000    123591\n",
       "NaN                 12204\n",
       "1.0000               2926\n",
       "2.0000               1488\n",
       "                    ...  \n",
       "41329.0000              1\n",
       "44337.0000              1\n",
       "43623.0000              1\n",
       "24643.0000              1\n",
       "57447.0000              1\n",
       "Name: count, Length: 5233, dtype: int64"
      ]
     },
     "execution_count": 1418,
     "metadata": {},
     "output_type": "execute_result"
    }
   ],
   "source": [
    "df[\"Census_InternalBatteryNumberOfCharges\"].value_counts(dropna=False)"
   ]
  },
  {
   "cell_type": "code",
   "execution_count": null,
   "metadata": {
    "ExecuteTime": {
     "end_time": "2025-02-03T23:01:55.158918Z",
     "start_time": "2025-02-03T23:01:55.011818Z"
    }
   },
   "outputs": [],
   "source": [
    "# 1. se presupone que serà una variable contínua\n",
    "# 2. nulos: hay directamente 12204 NaNs (2.5%) pero se observa unos registros extremadamente altos de 4294967295 y 4294967294. Estos valores provienen de un error en la recogida de datos, 4294967295 es el valor máximo de un entero de 32 bits (2^32 - 1). Hay 123_658 y 656 registros respectivamente (24.9% y 0.1%). Demasiados registros para eliminarlos, se propone rellenar los nulos con la media de la columna.\n",
    "\n",
    "# TODO: exponer al grupo\n",
    "# calculamos media evitando los valores erróneos\n",
    "mean_charges = df[df[\"Census_InternalBatteryNumberOfCharges\"] < 4_000_000_000][\"Census_InternalBatteryNumberOfCharges\"].mean()\n",
    "df[\"Census_InternalBatteryNumberOfCharges\"] = df[\"Census_InternalBatteryNumberOfCharges\"].fillna(mean_charges)"
   ]
  },
  {
   "cell_type": "code",
   "execution_count": null,
   "metadata": {
    "ExecuteTime": {
     "end_time": "2025-02-03T23:01:55.420153Z",
     "start_time": "2025-02-03T23:01:55.283431Z"
    }
   },
   "outputs": [
    {
     "data": {
      "text/html": [
       "<div>\n",
       "<style scoped>\n",
       "    .dataframe tbody tr th:only-of-type {\n",
       "        vertical-align: middle;\n",
       "    }\n",
       "\n",
       "    .dataframe tbody tr th {\n",
       "        vertical-align: top;\n",
       "    }\n",
       "\n",
       "    .dataframe thead th {\n",
       "        text-align: right;\n",
       "    }\n",
       "</style>\n",
       "<table border=\"1\" class=\"dataframe\">\n",
       "  <thead>\n",
       "    <tr style=\"text-align: right;\">\n",
       "      <th></th>\n",
       "      <th>ProductName</th>\n",
       "      <th>AVProductStatesIdentifier</th>\n",
       "      <th>AVProductsInstalled</th>\n",
       "      <th>AVProductsEnabled</th>\n",
       "      <th>OsVer</th>\n",
       "      <th>OsBuild</th>\n",
       "      <th>OsSuite</th>\n",
       "      <th>OsPlatformSubRelease</th>\n",
       "      <th>OsBuildLab</th>\n",
       "      <th>SkuEdition</th>\n",
       "      <th>...</th>\n",
       "      <th>HasDetections</th>\n",
       "      <th>EngineVersion_trimmed</th>\n",
       "      <th>AppVersion_trimmed</th>\n",
       "      <th>AvSigVersion_trimmed</th>\n",
       "      <th>Platform_windows10</th>\n",
       "      <th>Platform_windows7</th>\n",
       "      <th>Platform_windows8</th>\n",
       "      <th>Processor_x64</th>\n",
       "      <th>Processor_x86</th>\n",
       "      <th>Census_TotalPhysicalRAM_GB</th>\n",
       "    </tr>\n",
       "  </thead>\n",
       "  <tbody>\n",
       "    <tr>\n",
       "      <th>0</th>\n",
       "      <td>win8defender</td>\n",
       "      <td>53447.0000</td>\n",
       "      <td>1.0000</td>\n",
       "      <td>1.0000</td>\n",
       "      <td>10.0.0.0</td>\n",
       "      <td>17134</td>\n",
       "      <td>256</td>\n",
       "      <td>rs4</td>\n",
       "      <td>17134.1.amd64fre.rs4_release.180410-1804</td>\n",
       "      <td>Pro</td>\n",
       "      <td>...</td>\n",
       "      <td>1</td>\n",
       "      <td>1.1.15100</td>\n",
       "      <td>4.18.1807</td>\n",
       "      <td>1.273.1234</td>\n",
       "      <td>True</td>\n",
       "      <td>False</td>\n",
       "      <td>False</td>\n",
       "      <td>True</td>\n",
       "      <td>False</td>\n",
       "      <td>8.0000</td>\n",
       "    </tr>\n",
       "    <tr>\n",
       "      <th>10</th>\n",
       "      <td>win8defender</td>\n",
       "      <td>53447.0000</td>\n",
       "      <td>1.0000</td>\n",
       "      <td>1.0000</td>\n",
       "      <td>10.0.0.0</td>\n",
       "      <td>17134</td>\n",
       "      <td>768</td>\n",
       "      <td>rs4</td>\n",
       "      <td>17134.1.amd64fre.rs4_release.180410-1804</td>\n",
       "      <td>Home</td>\n",
       "      <td>...</td>\n",
       "      <td>0</td>\n",
       "      <td>1.1.15100</td>\n",
       "      <td>4.18.1807</td>\n",
       "      <td>1.273.1552</td>\n",
       "      <td>True</td>\n",
       "      <td>False</td>\n",
       "      <td>False</td>\n",
       "      <td>True</td>\n",
       "      <td>False</td>\n",
       "      <td>4.0000</td>\n",
       "    </tr>\n",
       "    <tr>\n",
       "      <th>12</th>\n",
       "      <td>win8defender</td>\n",
       "      <td>53447.0000</td>\n",
       "      <td>1.0000</td>\n",
       "      <td>1.0000</td>\n",
       "      <td>10.0.0.0</td>\n",
       "      <td>17134</td>\n",
       "      <td>768</td>\n",
       "      <td>rs4</td>\n",
       "      <td>17134.1.amd64fre.rs4_release.180410-1804</td>\n",
       "      <td>Home</td>\n",
       "      <td>...</td>\n",
       "      <td>1</td>\n",
       "      <td>1.1.15100</td>\n",
       "      <td>4.18.1807</td>\n",
       "      <td>1.273.1112</td>\n",
       "      <td>True</td>\n",
       "      <td>False</td>\n",
       "      <td>False</td>\n",
       "      <td>True</td>\n",
       "      <td>False</td>\n",
       "      <td>4.0000</td>\n",
       "    </tr>\n",
       "    <tr>\n",
       "      <th>16</th>\n",
       "      <td>win8defender</td>\n",
       "      <td>53447.0000</td>\n",
       "      <td>1.0000</td>\n",
       "      <td>1.0000</td>\n",
       "      <td>10.0.0.0</td>\n",
       "      <td>17134</td>\n",
       "      <td>256</td>\n",
       "      <td>rs4</td>\n",
       "      <td>17134.1.x86fre.rs4_release.180410-1804</td>\n",
       "      <td>Pro</td>\n",
       "      <td>...</td>\n",
       "      <td>1</td>\n",
       "      <td>1.1.15100</td>\n",
       "      <td>4.18.1806</td>\n",
       "      <td>1.273.356</td>\n",
       "      <td>True</td>\n",
       "      <td>False</td>\n",
       "      <td>False</td>\n",
       "      <td>False</td>\n",
       "      <td>True</td>\n",
       "      <td>4.0000</td>\n",
       "    </tr>\n",
       "    <tr>\n",
       "      <th>19</th>\n",
       "      <td>win8defender</td>\n",
       "      <td>53447.0000</td>\n",
       "      <td>1.0000</td>\n",
       "      <td>1.0000</td>\n",
       "      <td>10.0.0.0</td>\n",
       "      <td>16299</td>\n",
       "      <td>256</td>\n",
       "      <td>rs3</td>\n",
       "      <td>16299.15.x86fre.rs3_release.170928-1534</td>\n",
       "      <td>Pro</td>\n",
       "      <td>...</td>\n",
       "      <td>0</td>\n",
       "      <td>1.1.15200</td>\n",
       "      <td>4.18.1807</td>\n",
       "      <td>1.275.948</td>\n",
       "      <td>True</td>\n",
       "      <td>False</td>\n",
       "      <td>False</td>\n",
       "      <td>False</td>\n",
       "      <td>True</td>\n",
       "      <td>4.0000</td>\n",
       "    </tr>\n",
       "    <tr>\n",
       "      <th>...</th>\n",
       "      <td>...</td>\n",
       "      <td>...</td>\n",
       "      <td>...</td>\n",
       "      <td>...</td>\n",
       "      <td>...</td>\n",
       "      <td>...</td>\n",
       "      <td>...</td>\n",
       "      <td>...</td>\n",
       "      <td>...</td>\n",
       "      <td>...</td>\n",
       "      <td>...</td>\n",
       "      <td>...</td>\n",
       "      <td>...</td>\n",
       "      <td>...</td>\n",
       "      <td>...</td>\n",
       "      <td>...</td>\n",
       "      <td>...</td>\n",
       "      <td>...</td>\n",
       "      <td>...</td>\n",
       "      <td>...</td>\n",
       "      <td>...</td>\n",
       "    </tr>\n",
       "    <tr>\n",
       "      <th>499979</th>\n",
       "      <td>win8defender</td>\n",
       "      <td>53447.0000</td>\n",
       "      <td>1.0000</td>\n",
       "      <td>1.0000</td>\n",
       "      <td>10.0.0.0</td>\n",
       "      <td>17134</td>\n",
       "      <td>768</td>\n",
       "      <td>rs4</td>\n",
       "      <td>17134.1.x86fre.rs4_release.180410-1804</td>\n",
       "      <td>Home</td>\n",
       "      <td>...</td>\n",
       "      <td>0</td>\n",
       "      <td>1.1.15200</td>\n",
       "      <td>4.18.1807</td>\n",
       "      <td>1.275.1140</td>\n",
       "      <td>True</td>\n",
       "      <td>False</td>\n",
       "      <td>False</td>\n",
       "      <td>False</td>\n",
       "      <td>True</td>\n",
       "      <td>3.0000</td>\n",
       "    </tr>\n",
       "    <tr>\n",
       "      <th>499988</th>\n",
       "      <td>win8defender</td>\n",
       "      <td>53447.0000</td>\n",
       "      <td>1.0000</td>\n",
       "      <td>1.0000</td>\n",
       "      <td>10.0.0.0</td>\n",
       "      <td>17134</td>\n",
       "      <td>256</td>\n",
       "      <td>rs4</td>\n",
       "      <td>17134.1.x86fre.rs4_release.180410-1804</td>\n",
       "      <td>Pro</td>\n",
       "      <td>...</td>\n",
       "      <td>0</td>\n",
       "      <td>1.1.15200</td>\n",
       "      <td>4.18.1807</td>\n",
       "      <td>1.275.260</td>\n",
       "      <td>True</td>\n",
       "      <td>False</td>\n",
       "      <td>False</td>\n",
       "      <td>False</td>\n",
       "      <td>True</td>\n",
       "      <td>4.0000</td>\n",
       "    </tr>\n",
       "    <tr>\n",
       "      <th>499994</th>\n",
       "      <td>win8defender</td>\n",
       "      <td>53447.0000</td>\n",
       "      <td>1.0000</td>\n",
       "      <td>1.0000</td>\n",
       "      <td>10.0.0.0</td>\n",
       "      <td>10586</td>\n",
       "      <td>768</td>\n",
       "      <td>th2</td>\n",
       "      <td>10586.1176.amd64fre.th2_release_sec.170913-1848</td>\n",
       "      <td>Home</td>\n",
       "      <td>...</td>\n",
       "      <td>0</td>\n",
       "      <td>1.1.15200</td>\n",
       "      <td>4.9.10586</td>\n",
       "      <td>1.275.155</td>\n",
       "      <td>True</td>\n",
       "      <td>False</td>\n",
       "      <td>False</td>\n",
       "      <td>True</td>\n",
       "      <td>False</td>\n",
       "      <td>4.0000</td>\n",
       "    </tr>\n",
       "    <tr>\n",
       "      <th>499997</th>\n",
       "      <td>win8defender</td>\n",
       "      <td>53447.0000</td>\n",
       "      <td>1.0000</td>\n",
       "      <td>1.0000</td>\n",
       "      <td>10.0.0.0</td>\n",
       "      <td>17134</td>\n",
       "      <td>256</td>\n",
       "      <td>rs4</td>\n",
       "      <td>17134.1.x86fre.rs4_release.180410-1804</td>\n",
       "      <td>Pro</td>\n",
       "      <td>...</td>\n",
       "      <td>0</td>\n",
       "      <td>1.1.15300</td>\n",
       "      <td>4.13.17134</td>\n",
       "      <td>1.275.1343</td>\n",
       "      <td>True</td>\n",
       "      <td>False</td>\n",
       "      <td>False</td>\n",
       "      <td>False</td>\n",
       "      <td>True</td>\n",
       "      <td>4.0000</td>\n",
       "    </tr>\n",
       "    <tr>\n",
       "      <th>499999</th>\n",
       "      <td>win8defender</td>\n",
       "      <td>53447.0000</td>\n",
       "      <td>1.0000</td>\n",
       "      <td>1.0000</td>\n",
       "      <td>10.0.0.0</td>\n",
       "      <td>17134</td>\n",
       "      <td>256</td>\n",
       "      <td>rs4</td>\n",
       "      <td>17134.1.amd64fre.rs4_release.180410-1804</td>\n",
       "      <td>Pro</td>\n",
       "      <td>...</td>\n",
       "      <td>1</td>\n",
       "      <td>1.1.15100</td>\n",
       "      <td>4.18.1807</td>\n",
       "      <td>1.273.1644</td>\n",
       "      <td>True</td>\n",
       "      <td>False</td>\n",
       "      <td>False</td>\n",
       "      <td>True</td>\n",
       "      <td>False</td>\n",
       "      <td>16.0000</td>\n",
       "    </tr>\n",
       "  </tbody>\n",
       "</table>\n",
       "<p>124247 rows × 76 columns</p>\n",
       "</div>"
      ],
      "text/plain": [
       "         ProductName  AVProductStatesIdentifier  AVProductsInstalled  \\\n",
       "0       win8defender                 53447.0000               1.0000   \n",
       "10      win8defender                 53447.0000               1.0000   \n",
       "12      win8defender                 53447.0000               1.0000   \n",
       "16      win8defender                 53447.0000               1.0000   \n",
       "19      win8defender                 53447.0000               1.0000   \n",
       "...              ...                        ...                  ...   \n",
       "499979  win8defender                 53447.0000               1.0000   \n",
       "499988  win8defender                 53447.0000               1.0000   \n",
       "499994  win8defender                 53447.0000               1.0000   \n",
       "499997  win8defender                 53447.0000               1.0000   \n",
       "499999  win8defender                 53447.0000               1.0000   \n",
       "\n",
       "        AVProductsEnabled     OsVer  OsBuild  OsSuite OsPlatformSubRelease  \\\n",
       "0                  1.0000  10.0.0.0    17134      256                  rs4   \n",
       "10                 1.0000  10.0.0.0    17134      768                  rs4   \n",
       "12                 1.0000  10.0.0.0    17134      768                  rs4   \n",
       "16                 1.0000  10.0.0.0    17134      256                  rs4   \n",
       "19                 1.0000  10.0.0.0    16299      256                  rs3   \n",
       "...                   ...       ...      ...      ...                  ...   \n",
       "499979             1.0000  10.0.0.0    17134      768                  rs4   \n",
       "499988             1.0000  10.0.0.0    17134      256                  rs4   \n",
       "499994             1.0000  10.0.0.0    10586      768                  th2   \n",
       "499997             1.0000  10.0.0.0    17134      256                  rs4   \n",
       "499999             1.0000  10.0.0.0    17134      256                  rs4   \n",
       "\n",
       "                                             OsBuildLab SkuEdition  ...  \\\n",
       "0              17134.1.amd64fre.rs4_release.180410-1804        Pro  ...   \n",
       "10             17134.1.amd64fre.rs4_release.180410-1804       Home  ...   \n",
       "12             17134.1.amd64fre.rs4_release.180410-1804       Home  ...   \n",
       "16               17134.1.x86fre.rs4_release.180410-1804        Pro  ...   \n",
       "19              16299.15.x86fre.rs3_release.170928-1534        Pro  ...   \n",
       "...                                                 ...        ...  ...   \n",
       "499979           17134.1.x86fre.rs4_release.180410-1804       Home  ...   \n",
       "499988           17134.1.x86fre.rs4_release.180410-1804        Pro  ...   \n",
       "499994  10586.1176.amd64fre.th2_release_sec.170913-1848       Home  ...   \n",
       "499997           17134.1.x86fre.rs4_release.180410-1804        Pro  ...   \n",
       "499999         17134.1.amd64fre.rs4_release.180410-1804        Pro  ...   \n",
       "\n",
       "        HasDetections  EngineVersion_trimmed AppVersion_trimmed  \\\n",
       "0                   1              1.1.15100          4.18.1807   \n",
       "10                  0              1.1.15100          4.18.1807   \n",
       "12                  1              1.1.15100          4.18.1807   \n",
       "16                  1              1.1.15100          4.18.1806   \n",
       "19                  0              1.1.15200          4.18.1807   \n",
       "...               ...                    ...                ...   \n",
       "499979              0              1.1.15200          4.18.1807   \n",
       "499988              0              1.1.15200          4.18.1807   \n",
       "499994              0              1.1.15200          4.9.10586   \n",
       "499997              0              1.1.15300         4.13.17134   \n",
       "499999              1              1.1.15100          4.18.1807   \n",
       "\n",
       "        AvSigVersion_trimmed  Platform_windows10 Platform_windows7  \\\n",
       "0                 1.273.1234                True             False   \n",
       "10                1.273.1552                True             False   \n",
       "12                1.273.1112                True             False   \n",
       "16                 1.273.356                True             False   \n",
       "19                 1.275.948                True             False   \n",
       "...                      ...                 ...               ...   \n",
       "499979            1.275.1140                True             False   \n",
       "499988             1.275.260                True             False   \n",
       "499994             1.275.155                True             False   \n",
       "499997            1.275.1343                True             False   \n",
       "499999            1.273.1644                True             False   \n",
       "\n",
       "        Platform_windows8  Processor_x64 Processor_x86  \\\n",
       "0                   False           True         False   \n",
       "10                  False           True         False   \n",
       "12                  False           True         False   \n",
       "16                  False          False          True   \n",
       "19                  False          False          True   \n",
       "...                   ...            ...           ...   \n",
       "499979              False          False          True   \n",
       "499988              False          False          True   \n",
       "499994              False           True         False   \n",
       "499997              False          False          True   \n",
       "499999              False           True         False   \n",
       "\n",
       "       Census_TotalPhysicalRAM_GB  \n",
       "0                          8.0000  \n",
       "10                         4.0000  \n",
       "12                         4.0000  \n",
       "16                         4.0000  \n",
       "19                         4.0000  \n",
       "...                           ...  \n",
       "499979                     3.0000  \n",
       "499988                     4.0000  \n",
       "499994                     4.0000  \n",
       "499997                     4.0000  \n",
       "499999                    16.0000  \n",
       "\n",
       "[124247 rows x 76 columns]"
      ]
     },
     "execution_count": 1420,
     "metadata": {},
     "output_type": "execute_result"
    }
   ],
   "source": [
    "# vamos los registros fallidos\n",
    "df[df[\"Census_InternalBatteryNumberOfCharges\"] > 4_000_000_000]\n",
    "# observamos que los registros con valor 4294967295 son los que tienen nulos en la columna \"Census_InternalBatteryType\" -> comportamiento esperado"
   ]
  },
  {
   "cell_type": "code",
   "execution_count": null,
   "metadata": {
    "ExecuteTime": {
     "end_time": "2025-02-03T23:01:55.487974Z",
     "start_time": "2025-02-03T23:01:55.481198Z"
    }
   },
   "outputs": [],
   "source": [
    "# se imputan los valores erróneos con la media\n",
    "mask = df[\"Census_InternalBatteryNumberOfCharges\"] > 4_000_000_000\n",
    "df.loc[mask, \"Census_InternalBatteryNumberOfCharges\"] = mean_charges"
   ]
  },
  {
   "cell_type": "code",
   "execution_count": null,
   "metadata": {
    "ExecuteTime": {
     "end_time": "2025-02-03T23:01:55.680971Z",
     "start_time": "2025-02-03T23:01:55.576012Z"
    }
   },
   "outputs": [
    {
     "data": {
      "text/plain": [
       "<Axes: >"
      ]
     },
     "execution_count": 1422,
     "metadata": {},
     "output_type": "execute_result"
    },
    {
     "data": {
      "image/png": "[encoded data removed]",
      "text/plain": [
       "<Figure size 640x480 with 1 Axes>"
      ]
     },
     "metadata": {},
     "output_type": "display_data"
    }
   ],
   "source": [
    "# hist\n",
    "df[\"Census_InternalBatteryNumberOfCharges\"].hist()"
   ]
  },
  {
   "cell_type": "code",
   "execution_count": null,
   "metadata": {
    "ExecuteTime": {
     "end_time": "2025-02-03T23:01:55.886912Z",
     "start_time": "2025-02-03T23:01:55.872735Z"
    }
   },
   "outputs": [
    {
     "data": {
      "text/plain": [
       "Census_InternalBatteryNumberOfCharges\n",
       "0.0000        280525\n",
       "383.9950      136451\n",
       "1.0000          2926\n",
       "2.0000          1488\n",
       "16.0000         1487\n",
       "               ...  \n",
       "57868.0000         1\n",
       "30492.0000         1\n",
       "1769.0000          1\n",
       "38289.0000         1\n",
       "55075.0000         1\n",
       "Name: count, Length: 5231, dtype: int64"
      ]
     },
     "execution_count": 1423,
     "metadata": {},
     "output_type": "execute_result"
    }
   ],
   "source": [
    "df['Census_InternalBatteryNumberOfCharges'].value_counts(dropna=False)"
   ]
  },
  {
   "cell_type": "code",
   "execution_count": null,
   "metadata": {
    "ExecuteTime": {
     "end_time": "2025-02-03T23:01:56.307572Z",
     "start_time": "2025-02-03T23:01:56.058738Z"
    }
   },
   "outputs": [
    {
     "data": {
      "text/html": [
       "<div>\n",
       "<style scoped>\n",
       "    .dataframe tbody tr th:only-of-type {\n",
       "        vertical-align: middle;\n",
       "    }\n",
       "\n",
       "    .dataframe tbody tr th {\n",
       "        vertical-align: top;\n",
       "    }\n",
       "\n",
       "    .dataframe thead th {\n",
       "        text-align: right;\n",
       "    }\n",
       "</style>\n",
       "<table border=\"1\" class=\"dataframe\">\n",
       "  <thead>\n",
       "    <tr style=\"text-align: right;\">\n",
       "      <th></th>\n",
       "      <th>ProductName</th>\n",
       "      <th>AVProductStatesIdentifier</th>\n",
       "      <th>AVProductsInstalled</th>\n",
       "      <th>AVProductsEnabled</th>\n",
       "      <th>OsVer</th>\n",
       "      <th>OsBuild</th>\n",
       "      <th>OsSuite</th>\n",
       "      <th>OsPlatformSubRelease</th>\n",
       "      <th>OsBuildLab</th>\n",
       "      <th>SkuEdition</th>\n",
       "      <th>...</th>\n",
       "      <th>HasDetections</th>\n",
       "      <th>EngineVersion_trimmed</th>\n",
       "      <th>AppVersion_trimmed</th>\n",
       "      <th>AvSigVersion_trimmed</th>\n",
       "      <th>Platform_windows10</th>\n",
       "      <th>Platform_windows7</th>\n",
       "      <th>Platform_windows8</th>\n",
       "      <th>Processor_x64</th>\n",
       "      <th>Processor_x86</th>\n",
       "      <th>Census_TotalPhysicalRAM_GB</th>\n",
       "    </tr>\n",
       "  </thead>\n",
       "  <tbody>\n",
       "    <tr>\n",
       "      <th>1</th>\n",
       "      <td>win8defender</td>\n",
       "      <td>53447.0000</td>\n",
       "      <td>1.0000</td>\n",
       "      <td>1.0000</td>\n",
       "      <td>10.0.0.0</td>\n",
       "      <td>17134</td>\n",
       "      <td>256</td>\n",
       "      <td>rs4</td>\n",
       "      <td>17134.1.amd64fre.rs4_release.180410-1804</td>\n",
       "      <td>Pro</td>\n",
       "      <td>...</td>\n",
       "      <td>0</td>\n",
       "      <td>1.1.15100</td>\n",
       "      <td>4.18.1807</td>\n",
       "      <td>1.273.1282</td>\n",
       "      <td>True</td>\n",
       "      <td>False</td>\n",
       "      <td>False</td>\n",
       "      <td>True</td>\n",
       "      <td>False</td>\n",
       "      <td>8.0000</td>\n",
       "    </tr>\n",
       "    <tr>\n",
       "      <th>2</th>\n",
       "      <td>win8defender</td>\n",
       "      <td>46781.0000</td>\n",
       "      <td>2.0000</td>\n",
       "      <td>1.0000</td>\n",
       "      <td>10.0.0.0</td>\n",
       "      <td>10586</td>\n",
       "      <td>768</td>\n",
       "      <td>th2</td>\n",
       "      <td>10586.1176.amd64fre.th2_release_sec.170913-1848</td>\n",
       "      <td>Home</td>\n",
       "      <td>...</td>\n",
       "      <td>0</td>\n",
       "      <td>1.1.15100</td>\n",
       "      <td>4.9.10586</td>\n",
       "      <td>1.273.781</td>\n",
       "      <td>True</td>\n",
       "      <td>False</td>\n",
       "      <td>False</td>\n",
       "      <td>True</td>\n",
       "      <td>False</td>\n",
       "      <td>8.0000</td>\n",
       "    </tr>\n",
       "    <tr>\n",
       "      <th>4</th>\n",
       "      <td>win8defender</td>\n",
       "      <td>47238.0000</td>\n",
       "      <td>2.0000</td>\n",
       "      <td>1.0000</td>\n",
       "      <td>10.0.0.0</td>\n",
       "      <td>17134</td>\n",
       "      <td>256</td>\n",
       "      <td>rs4</td>\n",
       "      <td>17134.1.amd64fre.rs4_release.180410-1804</td>\n",
       "      <td>Pro</td>\n",
       "      <td>...</td>\n",
       "      <td>1</td>\n",
       "      <td>1.1.15200</td>\n",
       "      <td>4.18.1807</td>\n",
       "      <td>1.275.511</td>\n",
       "      <td>True</td>\n",
       "      <td>False</td>\n",
       "      <td>False</td>\n",
       "      <td>True</td>\n",
       "      <td>False</td>\n",
       "      <td>4.0000</td>\n",
       "    </tr>\n",
       "    <tr>\n",
       "      <th>5</th>\n",
       "      <td>win8defender</td>\n",
       "      <td>7945.0000</td>\n",
       "      <td>2.0000</td>\n",
       "      <td>1.0000</td>\n",
       "      <td>10.0.0.0</td>\n",
       "      <td>16299</td>\n",
       "      <td>768</td>\n",
       "      <td>rs3</td>\n",
       "      <td>16299.431.amd64fre.rs3_release_svc_escrow.1805...</td>\n",
       "      <td>Home</td>\n",
       "      <td>...</td>\n",
       "      <td>1</td>\n",
       "      <td>1.1.15200</td>\n",
       "      <td>4.18.1807</td>\n",
       "      <td>1.275.981</td>\n",
       "      <td>True</td>\n",
       "      <td>False</td>\n",
       "      <td>False</td>\n",
       "      <td>True</td>\n",
       "      <td>False</td>\n",
       "      <td>4.0000</td>\n",
       "    </tr>\n",
       "    <tr>\n",
       "      <th>6</th>\n",
       "      <td>win8defender</td>\n",
       "      <td>53447.0000</td>\n",
       "      <td>1.0000</td>\n",
       "      <td>1.0000</td>\n",
       "      <td>10.0.0.0</td>\n",
       "      <td>15063</td>\n",
       "      <td>768</td>\n",
       "      <td>rs2</td>\n",
       "      <td>15063.0.x86fre.rs2_release.170317-1834</td>\n",
       "      <td>Home</td>\n",
       "      <td>...</td>\n",
       "      <td>0</td>\n",
       "      <td>1.1.15200</td>\n",
       "      <td>4.18.1807</td>\n",
       "      <td>1.275.497</td>\n",
       "      <td>True</td>\n",
       "      <td>False</td>\n",
       "      <td>False</td>\n",
       "      <td>False</td>\n",
       "      <td>True</td>\n",
       "      <td>2.0000</td>\n",
       "    </tr>\n",
       "    <tr>\n",
       "      <th>...</th>\n",
       "      <td>...</td>\n",
       "      <td>...</td>\n",
       "      <td>...</td>\n",
       "      <td>...</td>\n",
       "      <td>...</td>\n",
       "      <td>...</td>\n",
       "      <td>...</td>\n",
       "      <td>...</td>\n",
       "      <td>...</td>\n",
       "      <td>...</td>\n",
       "      <td>...</td>\n",
       "      <td>...</td>\n",
       "      <td>...</td>\n",
       "      <td>...</td>\n",
       "      <td>...</td>\n",
       "      <td>...</td>\n",
       "      <td>...</td>\n",
       "      <td>...</td>\n",
       "      <td>...</td>\n",
       "      <td>...</td>\n",
       "      <td>...</td>\n",
       "    </tr>\n",
       "    <tr>\n",
       "      <th>499992</th>\n",
       "      <td>win8defender</td>\n",
       "      <td>53447.0000</td>\n",
       "      <td>1.0000</td>\n",
       "      <td>1.0000</td>\n",
       "      <td>10.0.0.0</td>\n",
       "      <td>17134</td>\n",
       "      <td>256</td>\n",
       "      <td>rs4</td>\n",
       "      <td>17134.1.amd64fre.rs4_release.180410-1804</td>\n",
       "      <td>Pro</td>\n",
       "      <td>...</td>\n",
       "      <td>0</td>\n",
       "      <td>1.1.15200</td>\n",
       "      <td>4.18.1807</td>\n",
       "      <td>1.275.1665</td>\n",
       "      <td>True</td>\n",
       "      <td>False</td>\n",
       "      <td>False</td>\n",
       "      <td>True</td>\n",
       "      <td>False</td>\n",
       "      <td>8.0000</td>\n",
       "    </tr>\n",
       "    <tr>\n",
       "      <th>499993</th>\n",
       "      <td>win8defender</td>\n",
       "      <td>53447.0000</td>\n",
       "      <td>1.0000</td>\n",
       "      <td>1.0000</td>\n",
       "      <td>10.0.0.0</td>\n",
       "      <td>16299</td>\n",
       "      <td>256</td>\n",
       "      <td>rs3</td>\n",
       "      <td>16299.15.amd64fre.rs3_release.170928-1534</td>\n",
       "      <td>Pro</td>\n",
       "      <td>...</td>\n",
       "      <td>0</td>\n",
       "      <td>1.1.15100</td>\n",
       "      <td>4.18.1807</td>\n",
       "      <td>1.273.1420</td>\n",
       "      <td>True</td>\n",
       "      <td>False</td>\n",
       "      <td>False</td>\n",
       "      <td>True</td>\n",
       "      <td>False</td>\n",
       "      <td>2.0000</td>\n",
       "    </tr>\n",
       "    <tr>\n",
       "      <th>499995</th>\n",
       "      <td>win8defender</td>\n",
       "      <td>53447.0000</td>\n",
       "      <td>1.0000</td>\n",
       "      <td>1.0000</td>\n",
       "      <td>10.0.0.0</td>\n",
       "      <td>16299</td>\n",
       "      <td>768</td>\n",
       "      <td>rs3</td>\n",
       "      <td>16299.431.amd64fre.rs3_release_svc_escrow.1805...</td>\n",
       "      <td>Home</td>\n",
       "      <td>...</td>\n",
       "      <td>0</td>\n",
       "      <td>1.1.15200</td>\n",
       "      <td>4.18.1807</td>\n",
       "      <td>1.275.1090</td>\n",
       "      <td>True</td>\n",
       "      <td>False</td>\n",
       "      <td>False</td>\n",
       "      <td>True</td>\n",
       "      <td>False</td>\n",
       "      <td>4.0000</td>\n",
       "    </tr>\n",
       "    <tr>\n",
       "      <th>499996</th>\n",
       "      <td>win8defender</td>\n",
       "      <td>53447.0000</td>\n",
       "      <td>1.0000</td>\n",
       "      <td>1.0000</td>\n",
       "      <td>10.0.0.0</td>\n",
       "      <td>16299</td>\n",
       "      <td>768</td>\n",
       "      <td>rs3</td>\n",
       "      <td>16299.15.amd64fre.rs3_release.170928-1534</td>\n",
       "      <td>Home</td>\n",
       "      <td>...</td>\n",
       "      <td>0</td>\n",
       "      <td>1.1.15100</td>\n",
       "      <td>4.18.1807</td>\n",
       "      <td>1.273.1620</td>\n",
       "      <td>True</td>\n",
       "      <td>False</td>\n",
       "      <td>False</td>\n",
       "      <td>True</td>\n",
       "      <td>False</td>\n",
       "      <td>8.0000</td>\n",
       "    </tr>\n",
       "    <tr>\n",
       "      <th>499998</th>\n",
       "      <td>win8defender</td>\n",
       "      <td>43856.0000</td>\n",
       "      <td>2.0000</td>\n",
       "      <td>1.0000</td>\n",
       "      <td>10.0.0.0</td>\n",
       "      <td>16299</td>\n",
       "      <td>256</td>\n",
       "      <td>rs3</td>\n",
       "      <td>16299.15.amd64fre.rs3_release.170928-1534</td>\n",
       "      <td>Pro</td>\n",
       "      <td>...</td>\n",
       "      <td>0</td>\n",
       "      <td>1.1.15100</td>\n",
       "      <td>4.14.17639</td>\n",
       "      <td>1.273.483</td>\n",
       "      <td>True</td>\n",
       "      <td>False</td>\n",
       "      <td>False</td>\n",
       "      <td>True</td>\n",
       "      <td>False</td>\n",
       "      <td>6.0000</td>\n",
       "    </tr>\n",
       "  </tbody>\n",
       "</table>\n",
       "<p>280525 rows × 76 columns</p>\n",
       "</div>"
      ],
      "text/plain": [
       "         ProductName  AVProductStatesIdentifier  AVProductsInstalled  \\\n",
       "1       win8defender                 53447.0000               1.0000   \n",
       "2       win8defender                 46781.0000               2.0000   \n",
       "4       win8defender                 47238.0000               2.0000   \n",
       "5       win8defender                  7945.0000               2.0000   \n",
       "6       win8defender                 53447.0000               1.0000   \n",
       "...              ...                        ...                  ...   \n",
       "499992  win8defender                 53447.0000               1.0000   \n",
       "499993  win8defender                 53447.0000               1.0000   \n",
       "499995  win8defender                 53447.0000               1.0000   \n",
       "499996  win8defender                 53447.0000               1.0000   \n",
       "499998  win8defender                 43856.0000               2.0000   \n",
       "\n",
       "        AVProductsEnabled     OsVer  OsBuild  OsSuite OsPlatformSubRelease  \\\n",
       "1                  1.0000  10.0.0.0    17134      256                  rs4   \n",
       "2                  1.0000  10.0.0.0    10586      768                  th2   \n",
       "4                  1.0000  10.0.0.0    17134      256                  rs4   \n",
       "5                  1.0000  10.0.0.0    16299      768                  rs3   \n",
       "6                  1.0000  10.0.0.0    15063      768                  rs2   \n",
       "...                   ...       ...      ...      ...                  ...   \n",
       "499992             1.0000  10.0.0.0    17134      256                  rs4   \n",
       "499993             1.0000  10.0.0.0    16299      256                  rs3   \n",
       "499995             1.0000  10.0.0.0    16299      768                  rs3   \n",
       "499996             1.0000  10.0.0.0    16299      768                  rs3   \n",
       "499998             1.0000  10.0.0.0    16299      256                  rs3   \n",
       "\n",
       "                                               OsBuildLab SkuEdition  ...  \\\n",
       "1                17134.1.amd64fre.rs4_release.180410-1804        Pro  ...   \n",
       "2         10586.1176.amd64fre.th2_release_sec.170913-1848       Home  ...   \n",
       "4                17134.1.amd64fre.rs4_release.180410-1804        Pro  ...   \n",
       "5       16299.431.amd64fre.rs3_release_svc_escrow.1805...       Home  ...   \n",
       "6                  15063.0.x86fre.rs2_release.170317-1834       Home  ...   \n",
       "...                                                   ...        ...  ...   \n",
       "499992           17134.1.amd64fre.rs4_release.180410-1804        Pro  ...   \n",
       "499993          16299.15.amd64fre.rs3_release.170928-1534        Pro  ...   \n",
       "499995  16299.431.amd64fre.rs3_release_svc_escrow.1805...       Home  ...   \n",
       "499996          16299.15.amd64fre.rs3_release.170928-1534       Home  ...   \n",
       "499998          16299.15.amd64fre.rs3_release.170928-1534        Pro  ...   \n",
       "\n",
       "        HasDetections  EngineVersion_trimmed AppVersion_trimmed  \\\n",
       "1                   0              1.1.15100          4.18.1807   \n",
       "2                   0              1.1.15100          4.9.10586   \n",
       "4                   1              1.1.15200          4.18.1807   \n",
       "5                   1              1.1.15200          4.18.1807   \n",
       "6                   0              1.1.15200          4.18.1807   \n",
       "...               ...                    ...                ...   \n",
       "499992              0              1.1.15200          4.18.1807   \n",
       "499993              0              1.1.15100          4.18.1807   \n",
       "499995              0              1.1.15200          4.18.1807   \n",
       "499996              0              1.1.15100          4.18.1807   \n",
       "499998              0              1.1.15100         4.14.17639   \n",
       "\n",
       "        AvSigVersion_trimmed  Platform_windows10 Platform_windows7  \\\n",
       "1                 1.273.1282                True             False   \n",
       "2                  1.273.781                True             False   \n",
       "4                  1.275.511                True             False   \n",
       "5                  1.275.981                True             False   \n",
       "6                  1.275.497                True             False   \n",
       "...                      ...                 ...               ...   \n",
       "499992            1.275.1665                True             False   \n",
       "499993            1.273.1420                True             False   \n",
       "499995            1.275.1090                True             False   \n",
       "499996            1.273.1620                True             False   \n",
       "499998             1.273.483                True             False   \n",
       "\n",
       "        Platform_windows8  Processor_x64 Processor_x86  \\\n",
       "1                   False           True         False   \n",
       "2                   False           True         False   \n",
       "4                   False           True         False   \n",
       "5                   False           True         False   \n",
       "6                   False          False          True   \n",
       "...                   ...            ...           ...   \n",
       "499992              False           True         False   \n",
       "499993              False           True         False   \n",
       "499995              False           True         False   \n",
       "499996              False           True         False   \n",
       "499998              False           True         False   \n",
       "\n",
       "       Census_TotalPhysicalRAM_GB  \n",
       "1                          8.0000  \n",
       "2                          8.0000  \n",
       "4                          4.0000  \n",
       "5                          4.0000  \n",
       "6                          2.0000  \n",
       "...                           ...  \n",
       "499992                     8.0000  \n",
       "499993                     2.0000  \n",
       "499995                     4.0000  \n",
       "499996                     8.0000  \n",
       "499998                     6.0000  \n",
       "\n",
       "[280525 rows x 76 columns]"
      ]
     },
     "execution_count": 1424,
     "metadata": {},
     "output_type": "execute_result"
    }
   ],
   "source": [
    "# miramos registros con valor 0\n",
    "df[df[\"Census_InternalBatteryNumberOfCharges\"] == 0]"
   ]
  },
  {
   "cell_type": "code",
   "execution_count": null,
   "metadata": {
    "ExecuteTime": {
     "end_time": "2025-02-03T23:01:56.392461Z",
     "start_time": "2025-02-03T23:01:56.378706Z"
    }
   },
   "outputs": [
    {
     "data": {
      "text/html": [
       "<div>\n",
       "<style scoped>\n",
       "    .dataframe tbody tr th:only-of-type {\n",
       "        vertical-align: middle;\n",
       "    }\n",
       "\n",
       "    .dataframe tbody tr th {\n",
       "        vertical-align: top;\n",
       "    }\n",
       "\n",
       "    .dataframe thead th {\n",
       "        text-align: right;\n",
       "    }\n",
       "</style>\n",
       "<table border=\"1\" class=\"dataframe\">\n",
       "  <thead>\n",
       "    <tr style=\"text-align: right;\">\n",
       "      <th></th>\n",
       "      <th>Census_InternalBatteryNumberOfCharges</th>\n",
       "      <th>HasDetections</th>\n",
       "    </tr>\n",
       "  </thead>\n",
       "  <tbody>\n",
       "    <tr>\n",
       "      <th>Census_InternalBatteryNumberOfCharges</th>\n",
       "      <td>1.0000</td>\n",
       "      <td>-0.0208</td>\n",
       "    </tr>\n",
       "    <tr>\n",
       "      <th>HasDetections</th>\n",
       "      <td>-0.0208</td>\n",
       "      <td>1.0000</td>\n",
       "    </tr>\n",
       "  </tbody>\n",
       "</table>\n",
       "</div>"
      ],
      "text/plain": [
       "                                       Census_InternalBatteryNumberOfCharges  \\\n",
       "Census_InternalBatteryNumberOfCharges                                 1.0000   \n",
       "HasDetections                                                        -0.0208   \n",
       "\n",
       "                                       HasDetections  \n",
       "Census_InternalBatteryNumberOfCharges        -0.0208  \n",
       "HasDetections                                 1.0000  "
      ]
     },
     "execution_count": 1425,
     "metadata": {},
     "output_type": "execute_result"
    }
   ],
   "source": [
    "# correlación con el target\n",
    "df[[\"Census_InternalBatteryNumberOfCharges\", \"HasDetections\"]].corr()"
   ]
  },
  {
   "cell_type": "code",
   "execution_count": null,
   "metadata": {
    "ExecuteTime": {
     "end_time": "2025-02-03T23:01:56.550464Z",
     "start_time": "2025-02-03T23:01:56.547367Z"
    }
   },
   "outputs": [],
   "source": [
    "# es una columna que indirectamente nos puede estar devolviendo en tiempo de uso del dispositivo, proponemos mantenerla aún habiendo 280_000 registros con valor 0 (56%). Es la única que nos proporciona esta información. # TODO: debatir mas a fondo"
   ]
  },
  {
   "cell_type": "markdown",
   "metadata": {},
   "source": [
    "### \"Census_OSVersion\"\n",
    "Descripción: Versión del sistema operativo"
   ]
  },
  {
   "cell_type": "code",
   "execution_count": null,
   "metadata": {
    "ExecuteTime": {
     "end_time": "2025-02-03T23:01:56.993058Z",
     "start_time": "2025-02-03T23:01:56.965624Z"
    }
   },
   "outputs": [
    {
     "name": "stdout",
     "output_type": "stream",
     "text": [
      "df['Census_OSVersion'].isna().sum()=np.int64(0)\n"
     ]
    },
    {
     "data": {
      "text/plain": [
       "Census_OSVersion\n",
       "10.0.17134.228     79213\n",
       "10.0.17134.165     50065\n",
       "10.0.16299.431     30110\n",
       "10.0.17134.285     26034\n",
       "10.0.17134.112     19314\n",
       "                   ...  \n",
       "10.0.15063.448         1\n",
       "10.0.14393.1670        1\n",
       "10.0.16299.0           1\n",
       "10.0.16193.1001        1\n",
       "10.0.15048.0           1\n",
       "Name: count, Length: 301, dtype: int64"
      ]
     },
     "execution_count": 1427,
     "metadata": {},
     "output_type": "execute_result"
    }
   ],
   "source": [
    "print(f\"{df['Census_OSVersion'].isna().sum()=}\")  # 0 nulos\n",
    "df[\"Census_OSVersion\"].value_counts(dropna=False)\n",
    "# Únicamente hay un registro con la versión distinta a la 10.0... siendo la 6.3.9600.19069"
   ]
  },
  {
   "cell_type": "code",
   "execution_count": null,
   "metadata": {
    "ExecuteTime": {
     "end_time": "2025-02-03T23:01:57.200738Z",
     "start_time": "2025-02-03T23:01:57.161534Z"
    }
   },
   "outputs": [
    {
     "data": {
      "text/html": [
       "<div>\n",
       "<style scoped>\n",
       "    .dataframe tbody tr th:only-of-type {\n",
       "        vertical-align: middle;\n",
       "    }\n",
       "\n",
       "    .dataframe tbody tr th {\n",
       "        vertical-align: top;\n",
       "    }\n",
       "\n",
       "    .dataframe thead th {\n",
       "        text-align: right;\n",
       "    }\n",
       "</style>\n",
       "<table border=\"1\" class=\"dataframe\">\n",
       "  <thead>\n",
       "    <tr style=\"text-align: right;\">\n",
       "      <th></th>\n",
       "      <th>OsVer</th>\n",
       "      <th>Census_OSVersion</th>\n",
       "    </tr>\n",
       "  </thead>\n",
       "  <tbody>\n",
       "    <tr>\n",
       "      <th>87</th>\n",
       "      <td>6.3.0.0</td>\n",
       "      <td>10.0.14393.1480</td>\n",
       "    </tr>\n",
       "    <tr>\n",
       "      <th>209</th>\n",
       "      <td>6.3.0.0</td>\n",
       "      <td>10.0.10586.545</td>\n",
       "    </tr>\n",
       "    <tr>\n",
       "      <th>390</th>\n",
       "      <td>6.3.0.0</td>\n",
       "      <td>10.0.10586.1176</td>\n",
       "    </tr>\n",
       "    <tr>\n",
       "      <th>404</th>\n",
       "      <td>6.3.0.0</td>\n",
       "      <td>10.0.10586.420</td>\n",
       "    </tr>\n",
       "    <tr>\n",
       "      <th>456</th>\n",
       "      <td>6.3.0.0</td>\n",
       "      <td>10.0.17134.48</td>\n",
       "    </tr>\n",
       "    <tr>\n",
       "      <th>...</th>\n",
       "      <td>...</td>\n",
       "      <td>...</td>\n",
       "    </tr>\n",
       "    <tr>\n",
       "      <th>499630</th>\n",
       "      <td>6.3.0.0</td>\n",
       "      <td>10.0.10586.164</td>\n",
       "    </tr>\n",
       "    <tr>\n",
       "      <th>499640</th>\n",
       "      <td>6.3.0.0</td>\n",
       "      <td>10.0.16299.309</td>\n",
       "    </tr>\n",
       "    <tr>\n",
       "      <th>499736</th>\n",
       "      <td>6.3.0.0</td>\n",
       "      <td>10.0.10586.420</td>\n",
       "    </tr>\n",
       "    <tr>\n",
       "      <th>499807</th>\n",
       "      <td>6.3.0.0</td>\n",
       "      <td>10.0.14393.222</td>\n",
       "    </tr>\n",
       "    <tr>\n",
       "      <th>499851</th>\n",
       "      <td>6.3.0.0</td>\n",
       "      <td>10.0.14393.693</td>\n",
       "    </tr>\n",
       "  </tbody>\n",
       "</table>\n",
       "<p>10554 rows × 2 columns</p>\n",
       "</div>"
      ],
      "text/plain": [
       "          OsVer Census_OSVersion\n",
       "87      6.3.0.0  10.0.14393.1480\n",
       "209     6.3.0.0   10.0.10586.545\n",
       "390     6.3.0.0  10.0.10586.1176\n",
       "404     6.3.0.0   10.0.10586.420\n",
       "456     6.3.0.0    10.0.17134.48\n",
       "...         ...              ...\n",
       "499630  6.3.0.0   10.0.10586.164\n",
       "499640  6.3.0.0   10.0.16299.309\n",
       "499736  6.3.0.0   10.0.10586.420\n",
       "499807  6.3.0.0   10.0.14393.222\n",
       "499851  6.3.0.0   10.0.14393.693\n",
       "\n",
       "[10554 rows x 2 columns]"
      ]
     },
     "execution_count": 1428,
     "metadata": {},
     "output_type": "execute_result"
    }
   ],
   "source": [
    "df[df['OsVer'] == '6.3.0.0'][['OsVer', 'Census_OSVersion']]"
   ]
  },
  {
   "cell_type": "code",
   "execution_count": null,
   "metadata": {
    "ExecuteTime": {
     "end_time": "2025-02-03T23:01:57.673659Z",
     "start_time": "2025-02-03T23:01:57.367372Z"
    }
   },
   "outputs": [],
   "source": [
    "# se podía esperar una fueran la misma columna, pero este ejemplo nos demuestra que no es así\n",
    "# siendo todos los valores 10.0... podemos prononer a lo sumo quedarnos con \"el tercer valor\" de la versión que podría estar relacionado con parches de seguridad (p.e.) # TODO: Exponer el caso\n",
    "# #TODO: Propongo que los valores \"muy manipulados\" empiecen por CALC_\n",
    "\n",
    "# evitamos el caso del registro 6.3.9600.19069 eliminándolo\n",
    "df = df[df['Census_OSVersion'] != '6.3.9600.19069']\n",
    "df[\"CALC_Census_OSVersion\"] = df[\"Census_OSVersion\"].apply(lambda x: x.split(\".\")[2])"
   ]
  },
  {
   "cell_type": "code",
   "execution_count": null,
   "metadata": {
    "ExecuteTime": {
     "end_time": "2025-02-03T23:01:57.702321Z",
     "start_time": "2025-02-03T23:01:57.699184Z"
    }
   },
   "outputs": [],
   "source": [
    "# eliminamos la columna original\n",
    "del_columns.append(\"Census_OSVersion\")"
   ]
  },
  {
   "cell_type": "code",
   "execution_count": null,
   "metadata": {
    "ExecuteTime": {
     "end_time": "2025-02-03T23:01:57.804809Z",
     "start_time": "2025-02-03T23:01:57.780336Z"
    }
   },
   "outputs": [
    {
     "data": {
      "text/plain": [
       "CALC_Census_OSVersion\n",
       "17134    223581\n",
       "16299    133412\n",
       "15063     43442\n",
       "14393     42439\n",
       "10586     32442\n",
       "10240     14657\n",
       "17738       162\n",
       "17692       146\n",
       "17744       133\n",
       "17758        97\n",
       "17746        65\n",
       "17763        59\n",
       "17754        56\n",
       "17751        54\n",
       "17741        44\n",
       "17755        40\n",
       "17735        36\n",
       "17686        33\n",
       "17733        31\n",
       "17760        30\n",
       "17133        21\n",
       "17682        18\n",
       "17677        17\n",
       "17672        14\n",
       "18237        14\n",
       "18242        13\n",
       "18234        13\n",
       "17661         9\n",
       "17713         8\n",
       "17666         7\n",
       "17634         4\n",
       "17747         3\n",
       "17639         3\n",
       "17655         2\n",
       "17650         2\n",
       "14986         2\n",
       "17730         2\n",
       "17753         1\n",
       "17074         1\n",
       "16251         1\n",
       "15042         1\n",
       "14946         1\n",
       "17046         1\n",
       "17604         1\n",
       "14328         1\n",
       "15019         1\n",
       "11082         1\n",
       "14926         1\n",
       "17004         1\n",
       "14295         1\n",
       "17618         1\n",
       "18219         1\n",
       "17623         1\n",
       "17749         1\n",
       "14421         1\n",
       "14971         1\n",
       "17723         1\n",
       "16193         1\n",
       "15048         1\n",
       "Name: count, dtype: int64"
      ]
     },
     "execution_count": 1431,
     "metadata": {},
     "output_type": "execute_result"
    }
   ],
   "source": [
    "df[\"CALC_Census_OSVersion\"].value_counts(dropna=False)"
   ]
  },
  {
   "cell_type": "markdown",
   "metadata": {},
   "source": [
    "### \"Census_OSArchitecture\"\n",
    "Descripción: Arquitectura del sistema operativo"
   ]
  },
  {
   "cell_type": "code",
   "execution_count": null,
   "metadata": {
    "ExecuteTime": {
     "end_time": "2025-02-03T23:01:57.908448Z",
     "start_time": "2025-02-03T23:01:57.894263Z"
    }
   },
   "outputs": [
    {
     "data": {
      "text/plain": [
       "Census_OSArchitecture\n",
       "amd64    446179\n",
       "x86       44954\n",
       "Name: count, dtype: int64"
      ]
     },
     "execution_count": 1432,
     "metadata": {},
     "output_type": "execute_result"
    }
   ],
   "source": [
    "df[\"Census_OSArchitecture\"].value_counts(dropna=False)  # dos valores únicos (amd64 y x86) y sin nulos"
   ]
  },
  {
   "cell_type": "code",
   "execution_count": null,
   "metadata": {
    "ExecuteTime": {
     "end_time": "2025-02-03T23:01:58.188019Z",
     "start_time": "2025-02-03T23:01:57.996878Z"
    }
   },
   "outputs": [
    {
     "data": {
      "text/plain": [
       "Census_OSArchitecture\n",
       "amd64    445720\n",
       "x86         448\n",
       "Name: count, dtype: int64"
      ]
     },
     "execution_count": 1433,
     "metadata": {},
     "output_type": "execute_result"
    }
   ],
   "source": [
    "# comprobamos correlación con la columna processor_x64 y processor_x86\n",
    "df[df[\"Processor_x64\"] == True][\"Census_OSArchitecture\"].value_counts()  # coincide en un 446_028/(446_028+452) = 99.9%"
   ]
  },
  {
   "cell_type": "code",
   "execution_count": null,
   "metadata": {
    "ExecuteTime": {
     "end_time": "2025-02-03T23:01:58.355151Z",
     "start_time": "2025-02-03T23:01:58.311714Z"
    }
   },
   "outputs": [
    {
     "data": {
      "text/plain": [
       "Census_OSArchitecture\n",
       "x86      44506\n",
       "amd64      459\n",
       "Name: count, dtype: int64"
      ]
     },
     "execution_count": 1434,
     "metadata": {},
     "output_type": "execute_result"
    }
   ],
   "source": [
    "df[df[\"Processor_x86\"] == True][\"Census_OSArchitecture\"].value_counts()  # coincide en un 44555/(44555+459) = 99.9%"
   ]
  },
  {
   "cell_type": "code",
   "execution_count": null,
   "metadata": {
    "ExecuteTime": {
     "end_time": "2025-02-03T23:01:58.515446Z",
     "start_time": "2025-02-03T23:01:58.510013Z"
    }
   },
   "outputs": [],
   "source": [
    "# TODO: puesto que esta columna no es nada conlfictiva, tengo que preguntar que tal se comportó la otra columna (processor) preguntar a fran\n",
    "# eliminamos la columna por ser redundante\n",
    "del_columns.append(\"Census_OSArchitecture\")"
   ]
  },
  {
   "cell_type": "markdown",
   "metadata": {},
   "source": [
    "### \"Census_OSBranch\"\n",
    "Descripción: Rama del sistema operativo"
   ]
  },
  {
   "cell_type": "code",
   "execution_count": null,
   "metadata": {
    "ExecuteTime": {
     "end_time": "2025-02-03T23:01:58.671705Z",
     "start_time": "2025-02-03T23:01:58.656666Z"
    }
   },
   "outputs": [
    {
     "data": {
      "text/plain": [
       "Census_OSBranch\n",
       "rs4_release                  223603\n",
       "rs3_release                   67238\n",
       "rs3_release_svc_escrow        65858\n",
       "rs2_release                   43444\n",
       "rs1_release                   42442\n",
       "th2_release                   17856\n",
       "th2_release_sec               14586\n",
       "th1_st1                       10484\n",
       "th1                            4173\n",
       "rs5_release                     820\n",
       "rs3_release_svc_escrow_im       316\n",
       "rs_prerelease                   178\n",
       "rs_prerelease_flt               132\n",
       "rs5_release_sigma                 3\n",
       "Name: count, dtype: int64"
      ]
     },
     "execution_count": 1436,
     "metadata": {},
     "output_type": "execute_result"
    }
   ],
   "source": [
    "df[\"Census_OSBranch\"].value_counts(dropna=False)"
   ]
  },
  {
   "cell_type": "code",
   "execution_count": null,
   "metadata": {
    "ExecuteTime": {
     "end_time": "2025-02-03T23:01:58.769719Z",
     "start_time": "2025-02-03T23:01:58.756301Z"
    }
   },
   "outputs": [
    {
     "name": "stdout",
     "output_type": "stream",
     "text": [
      "df['Census_OSBranch'].isna().sum()=np.int64(0)\n"
     ]
    }
   ],
   "source": [
    "print(f\"{df['Census_OSBranch'].isna().sum()=}\")  # 0 nulos"
   ]
  },
  {
   "cell_type": "code",
   "execution_count": null,
   "metadata": {
    "ExecuteTime": {
     "end_time": "2025-02-03T23:01:58.992100Z",
     "start_time": "2025-02-03T23:01:58.931217Z"
    }
   },
   "outputs": [],
   "source": [
    "# viendo los valores únicos y su estructura, proponemos quedarnos con las 3 primeras letras de cada valor que parecen contener la información más relevante\n",
    "df[\"CALC_Census_OSBranch\"] = df[\"Census_OSBranch\"].apply(lambda x: x[:3])"
   ]
  },
  {
   "cell_type": "code",
   "execution_count": null,
   "metadata": {
    "ExecuteTime": {
     "end_time": "2025-02-03T23:01:59.077067Z",
     "start_time": "2025-02-03T23:01:59.056687Z"
    }
   },
   "outputs": [
    {
     "data": {
      "text/plain": [
       "CALC_Census_OSBranch\n",
       "rs4    223603\n",
       "rs3    133412\n",
       "rs2     43444\n",
       "rs1     42442\n",
       "th2     32442\n",
       "th1     14657\n",
       "rs5       823\n",
       "rs_       310\n",
       "Name: count, dtype: int64"
      ]
     },
     "execution_count": 1439,
     "metadata": {},
     "output_type": "execute_result"
    }
   ],
   "source": [
    "df[\"CALC_Census_OSBranch\"].value_counts(dropna=False)"
   ]
  },
  {
   "cell_type": "code",
   "execution_count": null,
   "metadata": {
    "ExecuteTime": {
     "end_time": "2025-02-03T23:01:59.185601Z",
     "start_time": "2025-02-03T23:01:59.154345Z"
    }
   },
   "outputs": [],
   "source": [
    "# modificamos el valor menos frecuente (\"rs_\") a \"rs\"\n",
    "df[\"CALC_Census_OSBranch\"] = df[\"CALC_Census_OSBranch\"].replace(\"rs_\", \"rs\")  # TODO: hacer el split por _ DEBERES"
   ]
  },
  {
   "cell_type": "code",
   "execution_count": null,
   "metadata": {
    "ExecuteTime": {
     "end_time": "2025-02-03T23:01:59.345006Z",
     "start_time": "2025-02-03T23:01:59.341415Z"
    }
   },
   "outputs": [],
   "source": [
    "# eliminamos la columna original\n",
    "del_columns.append(\"Census_OSBranch\")"
   ]
  },
  {
   "cell_type": "code",
   "execution_count": null,
   "metadata": {
    "ExecuteTime": {
     "end_time": "2025-02-03T23:01:59.451165Z",
     "start_time": "2025-02-03T23:01:59.438968Z"
    }
   },
   "outputs": [
    {
     "data": {
      "text/plain": [
       "CALC_Census_OSBranch\n",
       "rs4    223603\n",
       "rs3    133412\n",
       "rs2     43444\n",
       "rs1     42442\n",
       "th2     32442\n",
       "th1     14657\n",
       "rs5       823\n",
       "rs        310\n",
       "Name: count, dtype: int64"
      ]
     },
     "execution_count": 1442,
     "metadata": {},
     "output_type": "execute_result"
    }
   ],
   "source": [
    "df[\"CALC_Census_OSBranch\"].value_counts(dropna=False)"
   ]
  },
  {
   "cell_type": "code",
   "execution_count": null,
   "metadata": {
    "ExecuteTime": {
     "end_time": "2025-02-03T23:01:59.544260Z",
     "start_time": "2025-02-03T23:01:59.540762Z"
    }
   },
   "outputs": [],
   "source": [
    "# 8 valores únicos de una variable categórica -> OHE\n",
    "# df = pd.get_dummies(df, columns=[\"CALC_Census_OSBranch\"], prefix=\"CALC_Census_OSBranch\")  # TODO\n",
    "del_columns.append(\"CALC_Census_OSBranch\")"
   ]
  },
  {
   "cell_type": "code",
   "execution_count": null,
   "metadata": {
    "ExecuteTime": {
     "end_time": "2025-02-03T23:01:59.729458Z",
     "start_time": "2025-02-03T23:01:59.646991Z"
    }
   },
   "outputs": [
    {
     "data": {
      "text/plain": [
       "CALC_Census_OSBranch_rs    -0.0020\n",
       "CALC_Census_OSBranch_rs1   -0.0205\n",
       "CALC_Census_OSBranch_rs2   -0.0136\n",
       "CALC_Census_OSBranch_rs3   -0.0127\n",
       "CALC_Census_OSBranch_rs4    0.0406\n",
       "CALC_Census_OSBranch_rs5   -0.0055\n",
       "CALC_Census_OSBranch_th1   -0.0052\n",
       "CALC_Census_OSBranch_th2   -0.0154\n",
       "dtype: float64"
      ]
     },
     "execution_count": 1444,
     "metadata": {},
     "output_type": "execute_result"
    }
   ],
   "source": [
    "# correlación con el target\n",
    "df_dummies = pd.get_dummies(df['CALC_Census_OSBranch'], prefix='CALC_Census_OSBranch')\n",
    "correlations = df_dummies.corrwith(df['HasDetections'])\n",
    "correlations  # muy poca"
   ]
  },
  {
   "cell_type": "markdown",
   "metadata": {},
   "source": [
    "### \"Census_OSBuildNumber\"\n",
    "Descripción: Número de compilación del sistema operativo"
   ]
  },
  {
   "cell_type": "code",
   "execution_count": null,
   "metadata": {
    "ExecuteTime": {
     "end_time": "2025-02-03T23:02:00.177553Z",
     "start_time": "2025-02-03T23:02:00.168965Z"
    }
   },
   "outputs": [
    {
     "name": "stdout",
     "output_type": "stream",
     "text": [
      "df['Census_OSBuildNumber'].isna().sum()=np.int64(0)\n"
     ]
    },
    {
     "data": {
      "text/plain": [
       "Census_OSBuildNumber\n",
       "17134    223581\n",
       "16299    133412\n",
       "15063     43442\n",
       "14393     42439\n",
       "10586     32442\n",
       "10240     14657\n",
       "17738       162\n",
       "17692       146\n",
       "17744       133\n",
       "17758        97\n",
       "17746        65\n",
       "17763        59\n",
       "17754        56\n",
       "17751        54\n",
       "17741        44\n",
       "17755        40\n",
       "17735        36\n",
       "17686        33\n",
       "17733        31\n",
       "17760        30\n",
       "17133        21\n",
       "17682        18\n",
       "17677        17\n",
       "17672        14\n",
       "18237        14\n",
       "18242        13\n",
       "18234        13\n",
       "17661         9\n",
       "17713         8\n",
       "17666         7\n",
       "17634         4\n",
       "17747         3\n",
       "17639         3\n",
       "17655         2\n",
       "17650         2\n",
       "14986         2\n",
       "17730         2\n",
       "17753         1\n",
       "17074         1\n",
       "16251         1\n",
       "15042         1\n",
       "14946         1\n",
       "17046         1\n",
       "17604         1\n",
       "14328         1\n",
       "15019         1\n",
       "11082         1\n",
       "14926         1\n",
       "17004         1\n",
       "14295         1\n",
       "17618         1\n",
       "18219         1\n",
       "17623         1\n",
       "17749         1\n",
       "14421         1\n",
       "14971         1\n",
       "17723         1\n",
       "16193         1\n",
       "15048         1\n",
       "Name: count, dtype: int64"
      ]
     },
     "execution_count": 1445,
     "metadata": {},
     "output_type": "execute_result"
    }
   ],
   "source": [
    "print(f\"{df['Census_OSBuildNumber'].isna().sum()=}\")  # 0 nulos\n",
    "df[\"Census_OSBuildNumber\"].value_counts(dropna=False)"
   ]
  },
  {
   "cell_type": "code",
   "execution_count": null,
   "metadata": {
    "ExecuteTime": {
     "end_time": "2025-02-03T23:02:00.290479Z",
     "start_time": "2025-02-03T23:02:00.277235Z"
    }
   },
   "outputs": [
    {
     "data": {
      "text/plain": [
       "CALC_Census_OSVersion    object\n",
       "Census_OSBuildNumber      int64\n",
       "dtype: object"
      ]
     },
     "execution_count": 1446,
     "metadata": {},
     "output_type": "execute_result"
    }
   ],
   "source": [
    "df[['CALC_Census_OSVersion', 'Census_OSBuildNumber']].dtypes"
   ]
  },
  {
   "cell_type": "code",
   "execution_count": null,
   "metadata": {
    "ExecuteTime": {
     "end_time": "2025-02-03T23:02:00.466647Z",
     "start_time": "2025-02-03T23:02:00.454890Z"
    }
   },
   "outputs": [
    {
     "data": {
      "text/html": [
       "<div>\n",
       "<style scoped>\n",
       "    .dataframe tbody tr th:only-of-type {\n",
       "        vertical-align: middle;\n",
       "    }\n",
       "\n",
       "    .dataframe tbody tr th {\n",
       "        vertical-align: top;\n",
       "    }\n",
       "\n",
       "    .dataframe thead th {\n",
       "        text-align: right;\n",
       "    }\n",
       "</style>\n",
       "<table border=\"1\" class=\"dataframe\">\n",
       "  <thead>\n",
       "    <tr style=\"text-align: right;\">\n",
       "      <th></th>\n",
       "      <th>CALC_Census_OSVersion</th>\n",
       "      <th>Census_OSBuildNumber</th>\n",
       "    </tr>\n",
       "  </thead>\n",
       "  <tbody>\n",
       "    <tr>\n",
       "      <th>0</th>\n",
       "      <td>17134</td>\n",
       "      <td>17134</td>\n",
       "    </tr>\n",
       "    <tr>\n",
       "      <th>1</th>\n",
       "      <td>17134</td>\n",
       "      <td>17134</td>\n",
       "    </tr>\n",
       "    <tr>\n",
       "      <th>2</th>\n",
       "      <td>10586</td>\n",
       "      <td>10586</td>\n",
       "    </tr>\n",
       "    <tr>\n",
       "      <th>3</th>\n",
       "      <td>17134</td>\n",
       "      <td>17134</td>\n",
       "    </tr>\n",
       "    <tr>\n",
       "      <th>4</th>\n",
       "      <td>17134</td>\n",
       "      <td>17134</td>\n",
       "    </tr>\n",
       "    <tr>\n",
       "      <th>...</th>\n",
       "      <td>...</td>\n",
       "      <td>...</td>\n",
       "    </tr>\n",
       "    <tr>\n",
       "      <th>499995</th>\n",
       "      <td>16299</td>\n",
       "      <td>16299</td>\n",
       "    </tr>\n",
       "    <tr>\n",
       "      <th>499996</th>\n",
       "      <td>16299</td>\n",
       "      <td>16299</td>\n",
       "    </tr>\n",
       "    <tr>\n",
       "      <th>499997</th>\n",
       "      <td>17134</td>\n",
       "      <td>17134</td>\n",
       "    </tr>\n",
       "    <tr>\n",
       "      <th>499998</th>\n",
       "      <td>16299</td>\n",
       "      <td>16299</td>\n",
       "    </tr>\n",
       "    <tr>\n",
       "      <th>499999</th>\n",
       "      <td>17134</td>\n",
       "      <td>17134</td>\n",
       "    </tr>\n",
       "  </tbody>\n",
       "</table>\n",
       "<p>491133 rows × 2 columns</p>\n",
       "</div>"
      ],
      "text/plain": [
       "       CALC_Census_OSVersion  Census_OSBuildNumber\n",
       "0                      17134                 17134\n",
       "1                      17134                 17134\n",
       "2                      10586                 10586\n",
       "3                      17134                 17134\n",
       "4                      17134                 17134\n",
       "...                      ...                   ...\n",
       "499995                 16299                 16299\n",
       "499996                 16299                 16299\n",
       "499997                 17134                 17134\n",
       "499998                 16299                 16299\n",
       "499999                 17134                 17134\n",
       "\n",
       "[491133 rows x 2 columns]"
      ]
     },
     "execution_count": 1447,
     "metadata": {},
     "output_type": "execute_result"
    }
   ],
   "source": [
    "df[['CALC_Census_OSVersion', 'Census_OSBuildNumber']]"
   ]
  },
  {
   "cell_type": "code",
   "execution_count": null,
   "metadata": {
    "ExecuteTime": {
     "end_time": "2025-02-03T23:02:00.673366Z",
     "start_time": "2025-02-03T23:02:00.669490Z"
    }
   },
   "outputs": [],
   "source": [
    "# viendo que la columna préviamente creada \"CALC_Census_OSVersion\" contiene la misma información que \"Census_OSBuildNumber\", eliminamos la columna\n",
    "del_columns.append(\"CALC_Census_OSVersion\") # TODO: pedir al grupo si mantener el código aún sabiendo que es redundante"
   ]
  },
  {
   "cell_type": "markdown",
   "metadata": {},
   "source": [
    "### \"Census_OSBuildRevision\"\n",
    "Descripción: Revisión de la compilación del sistema operativo"
   ]
  },
  {
   "cell_type": "code",
   "execution_count": null,
   "metadata": {
    "ExecuteTime": {
     "end_time": "2025-02-03T23:02:00.832244Z",
     "start_time": "2025-02-03T23:02:00.824021Z"
    }
   },
   "outputs": [
    {
     "name": "stdout",
     "output_type": "stream",
     "text": [
      "df['Census_OSBuildRevision'].isna().sum()=np.int64(0)\n"
     ]
    },
    {
     "data": {
      "text/plain": [
       "Census_OSBuildRevision\n",
       "228     79213\n",
       "165     50065\n",
       "431     30110\n",
       "285     26034\n",
       "112     19316\n",
       "        ...  \n",
       "1177        1\n",
       "1737        1\n",
       "281         1\n",
       "448         1\n",
       "1670        1\n",
       "Name: count, Length: 238, dtype: int64"
      ]
     },
     "execution_count": 1449,
     "metadata": {},
     "output_type": "execute_result"
    }
   ],
   "source": [
    "print(f\"{df['Census_OSBuildRevision'].isna().sum()=}\")  # 0 nulos\n",
    "df[\"Census_OSBuildRevision\"].value_counts(dropna=False)"
   ]
  },
  {
   "cell_type": "code",
   "execution_count": null,
   "metadata": {
    "ExecuteTime": {
     "end_time": "2025-02-03T23:02:00.945196Z",
     "start_time": "2025-02-03T23:02:00.934651Z"
    }
   },
   "outputs": [
    {
     "data": {
      "text/html": [
       "<div>\n",
       "<style scoped>\n",
       "    .dataframe tbody tr th:only-of-type {\n",
       "        vertical-align: middle;\n",
       "    }\n",
       "\n",
       "    .dataframe tbody tr th {\n",
       "        vertical-align: top;\n",
       "    }\n",
       "\n",
       "    .dataframe thead th {\n",
       "        text-align: right;\n",
       "    }\n",
       "</style>\n",
       "<table border=\"1\" class=\"dataframe\">\n",
       "  <thead>\n",
       "    <tr style=\"text-align: right;\">\n",
       "      <th></th>\n",
       "      <th>ProductName</th>\n",
       "      <th>AVProductStatesIdentifier</th>\n",
       "      <th>AVProductsInstalled</th>\n",
       "      <th>AVProductsEnabled</th>\n",
       "      <th>OsVer</th>\n",
       "      <th>OsBuild</th>\n",
       "      <th>OsSuite</th>\n",
       "      <th>OsPlatformSubRelease</th>\n",
       "      <th>OsBuildLab</th>\n",
       "      <th>SkuEdition</th>\n",
       "      <th>...</th>\n",
       "      <th>AppVersion_trimmed</th>\n",
       "      <th>AvSigVersion_trimmed</th>\n",
       "      <th>Platform_windows10</th>\n",
       "      <th>Platform_windows7</th>\n",
       "      <th>Platform_windows8</th>\n",
       "      <th>Processor_x64</th>\n",
       "      <th>Processor_x86</th>\n",
       "      <th>Census_TotalPhysicalRAM_GB</th>\n",
       "      <th>CALC_Census_OSVersion</th>\n",
       "      <th>CALC_Census_OSBranch</th>\n",
       "    </tr>\n",
       "  </thead>\n",
       "  <tbody>\n",
       "    <tr>\n",
       "      <th>0</th>\n",
       "      <td>win8defender</td>\n",
       "      <td>53447.0000</td>\n",
       "      <td>1.0000</td>\n",
       "      <td>1.0000</td>\n",
       "      <td>10.0.0.0</td>\n",
       "      <td>17134</td>\n",
       "      <td>256</td>\n",
       "      <td>rs4</td>\n",
       "      <td>17134.1.amd64fre.rs4_release.180410-1804</td>\n",
       "      <td>Pro</td>\n",
       "      <td>...</td>\n",
       "      <td>4.18.1807</td>\n",
       "      <td>1.273.1234</td>\n",
       "      <td>True</td>\n",
       "      <td>False</td>\n",
       "      <td>False</td>\n",
       "      <td>True</td>\n",
       "      <td>False</td>\n",
       "      <td>8.0000</td>\n",
       "      <td>17134</td>\n",
       "      <td>rs4</td>\n",
       "    </tr>\n",
       "    <tr>\n",
       "      <th>1</th>\n",
       "      <td>win8defender</td>\n",
       "      <td>53447.0000</td>\n",
       "      <td>1.0000</td>\n",
       "      <td>1.0000</td>\n",
       "      <td>10.0.0.0</td>\n",
       "      <td>17134</td>\n",
       "      <td>256</td>\n",
       "      <td>rs4</td>\n",
       "      <td>17134.1.amd64fre.rs4_release.180410-1804</td>\n",
       "      <td>Pro</td>\n",
       "      <td>...</td>\n",
       "      <td>4.18.1807</td>\n",
       "      <td>1.273.1282</td>\n",
       "      <td>True</td>\n",
       "      <td>False</td>\n",
       "      <td>False</td>\n",
       "      <td>True</td>\n",
       "      <td>False</td>\n",
       "      <td>8.0000</td>\n",
       "      <td>17134</td>\n",
       "      <td>rs4</td>\n",
       "    </tr>\n",
       "  </tbody>\n",
       "</table>\n",
       "<p>2 rows × 78 columns</p>\n",
       "</div>"
      ],
      "text/plain": [
       "    ProductName  AVProductStatesIdentifier  AVProductsInstalled  \\\n",
       "0  win8defender                 53447.0000               1.0000   \n",
       "1  win8defender                 53447.0000               1.0000   \n",
       "\n",
       "   AVProductsEnabled     OsVer  OsBuild  OsSuite OsPlatformSubRelease  \\\n",
       "0             1.0000  10.0.0.0    17134      256                  rs4   \n",
       "1             1.0000  10.0.0.0    17134      256                  rs4   \n",
       "\n",
       "                                 OsBuildLab SkuEdition  ...  \\\n",
       "0  17134.1.amd64fre.rs4_release.180410-1804        Pro  ...   \n",
       "1  17134.1.amd64fre.rs4_release.180410-1804        Pro  ...   \n",
       "\n",
       "   AppVersion_trimmed  AvSigVersion_trimmed Platform_windows10  \\\n",
       "0           4.18.1807            1.273.1234               True   \n",
       "1           4.18.1807            1.273.1282               True   \n",
       "\n",
       "   Platform_windows7  Platform_windows8 Processor_x64  Processor_x86  \\\n",
       "0              False              False          True          False   \n",
       "1              False              False          True          False   \n",
       "\n",
       "   Census_TotalPhysicalRAM_GB CALC_Census_OSVersion CALC_Census_OSBranch  \n",
       "0                      8.0000                 17134                  rs4  \n",
       "1                      8.0000                 17134                  rs4  \n",
       "\n",
       "[2 rows x 78 columns]"
      ]
     },
     "execution_count": 1450,
     "metadata": {},
     "output_type": "execute_result"
    }
   ],
   "source": [
    "df.head(2)"
   ]
  },
  {
   "cell_type": "code",
   "execution_count": null,
   "metadata": {
    "ExecuteTime": {
     "end_time": "2025-02-03T23:02:01.100100Z",
     "start_time": "2025-02-03T23:02:01.096993Z"
    }
   },
   "outputs": [],
   "source": [
    "# se observa que Census_OSVersion se construye a partir de Census_OSBuildNumber y Census_OSBuildRevision, eliminamos la columna\n",
    "# proponemos eliminar la columna Census_OSVersion (ya insertada en del_columns) porque es un str y las otras dos columnas son numéricas"
   ]
  },
  {
   "cell_type": "markdown",
   "metadata": {},
   "source": [
    "### \"Census_OSEdition\"\n",
    "Descripción: Edición del sistema operativo"
   ]
  },
  {
   "cell_type": "code",
   "execution_count": null,
   "metadata": {
    "ExecuteTime": {
     "end_time": "2025-02-03T23:02:01.325300Z",
     "start_time": "2025-02-03T23:02:01.298526Z"
    }
   },
   "outputs": [
    {
     "name": "stdout",
     "output_type": "stream",
     "text": [
      "df['Census_OSEdition'].isna().sum()=np.int64(0)\n"
     ]
    },
    {
     "data": {
      "text/plain": [
       "Census_OSEdition\n",
       "Core                        192291\n",
       "Professional                171599\n",
       "CoreSingleLanguage          107432\n",
       "CoreCountrySpecific           9150\n",
       "ProfessionalEducation         3071\n",
       "Education                     2262\n",
       "Enterprise                    1987\n",
       "ProfessionalN                 1553\n",
       "EnterpriseS                   1072\n",
       "Cloud                          326\n",
       "CoreN                          240\n",
       "EducationN                      60\n",
       "EnterpriseSN                    45\n",
       "EnterpriseN                     27\n",
       "ProfessionalEducationN          12\n",
       "ServerStandard                   2\n",
       "ProfessionalWorkstation          2\n",
       "CloudN                           1\n",
       "ProfessionalWorkstationN         1\n",
       "Name: count, dtype: int64"
      ]
     },
     "execution_count": 1452,
     "metadata": {},
     "output_type": "execute_result"
    }
   ],
   "source": [
    "print(f\"{df['Census_OSEdition'].isna().sum()=}\")  # 0 nulos\n",
    "df[\"Census_OSEdition\"].value_counts(dropna=False)"
   ]
  },
  {
   "cell_type": "code",
   "execution_count": null,
   "metadata": {
    "ExecuteTime": {
     "end_time": "2025-02-03T23:02:01.797846Z",
     "start_time": "2025-02-03T23:02:01.634720Z"
    }
   },
   "outputs": [],
   "source": [
    "# hay 3 valores muy predominantes con 192000, 171000 y 107000 registros respectivamente (38.9%, 34.7% y 21.7%). Se propone agrupar los 16 valores restantes en un solo valor \"Otro\" y posteriormente hacer un OHE\n",
    "# agrupamos los valores menos frecuentes\n",
    "df[\"Census_OSEdition\"] = df[\"Census_OSEdition\"].replace(df[\"Census_OSEdition\"].value_counts().index[3:], \"Otro\")"
   ]
  },
  {
   "cell_type": "code",
   "execution_count": null,
   "metadata": {
    "ExecuteTime": {
     "end_time": "2025-02-03T23:02:01.921391Z",
     "start_time": "2025-02-03T23:02:01.904668Z"
    }
   },
   "outputs": [
    {
     "data": {
      "text/plain": [
       "Census_OSEdition\n",
       "Core                  192291\n",
       "Professional          171599\n",
       "CoreSingleLanguage    107432\n",
       "Otro                   19811\n",
       "Name: count, dtype: int64"
      ]
     },
     "execution_count": 1454,
     "metadata": {},
     "output_type": "execute_result"
    }
   ],
   "source": [
    "df[\"Census_OSEdition\"].value_counts(dropna=False)"
   ]
  },
  {
   "cell_type": "code",
   "execution_count": null,
   "metadata": {
    "ExecuteTime": {
     "end_time": "2025-02-03T23:02:02.029927Z",
     "start_time": "2025-02-03T23:02:02.026574Z"
    }
   },
   "outputs": [],
   "source": [
    "# la columna otros contiene 19827 registros (4%)\n",
    "# OHE\n",
    "# df = pd.get_dummies(df, columns=[\"Census_OSEdition\"], prefix=\"Census_OSEdition\")  # TODO\n",
    "del_columns.append(\"Census_OSEdition\")"
   ]
  },
  {
   "cell_type": "markdown",
   "metadata": {},
   "source": [
    "### \"Census_OSSkuName\"\n",
    "Descripción: Nombre de la versión del sistema operativo"
   ]
  },
  {
   "cell_type": "code",
   "execution_count": null,
   "metadata": {
    "ExecuteTime": {
     "end_time": "2025-02-03T23:02:02.201140Z",
     "start_time": "2025-02-03T23:02:02.175322Z"
    }
   },
   "outputs": [
    {
     "name": "stdout",
     "output_type": "stream",
     "text": [
      "df['Census_OSSkuName'].isna().sum()=np.int64(0)\n"
     ]
    },
    {
     "data": {
      "text/plain": [
       "Census_OSSkuName\n",
       "CORE                    192286\n",
       "PROFESSIONAL            174707\n",
       "CORE_SINGLELANGUAGE     107410\n",
       "CORE_COUNTRYSPECIFIC      9133\n",
       "EDUCATION                 2265\n",
       "ENTERPRISE                1996\n",
       "PROFESSIONAL_N            1563\n",
       "ENTERPRISE_S              1071\n",
       "CLOUD                      322\n",
       "CORE_N                     240\n",
       "EDUCATION_N                 60\n",
       "ENTERPRISE_S_N              46\n",
       "ENTERPRISE_N                27\n",
       "STANDARD_SERVER              2\n",
       "PRO_WORKSTATION              2\n",
       "CLOUDN                       1\n",
       "PRO_WORKSTATION_N            1\n",
       "UNLICENSED                   1\n",
       "Name: count, dtype: int64"
      ]
     },
     "execution_count": 1456,
     "metadata": {},
     "output_type": "execute_result"
    }
   ],
   "source": [
    "print(f\"{df['Census_OSSkuName'].isna().sum()=}\")  # 0 nulos\n",
    "df[\"Census_OSSkuName\"].value_counts(dropna=False)"
   ]
  },
  {
   "cell_type": "code",
   "execution_count": null,
   "metadata": {
    "ExecuteTime": {
     "end_time": "2025-02-03T23:02:02.301890Z",
     "start_time": "2025-02-03T23:02:02.298408Z"
    }
   },
   "outputs": [],
   "source": [
    "# es un atributo prácticamente idéntico a Census_OSEdition, eliminamos la columna\n",
    "del_columns.append(\"Census_OSSkuName\")"
   ]
  },
  {
   "cell_type": "markdown",
   "metadata": {},
   "source": [
    "### \"Census_OSInstallTypeName\"\n",
    "Descripción: Método de instalación del sistema operativo"
   ]
  },
  {
   "cell_type": "code",
   "execution_count": null,
   "metadata": {
    "ExecuteTime": {
     "end_time": "2025-02-03T23:02:02.510578Z",
     "start_time": "2025-02-03T23:02:02.482661Z"
    }
   },
   "outputs": [
    {
     "name": "stdout",
     "output_type": "stream",
     "text": [
      "df['Census_OSInstallTypeName'].isna().sum()=np.int64(0)\n"
     ]
    },
    {
     "data": {
      "text/plain": [
       "Census_OSInstallTypeName\n",
       "UUPUpgrade        145651\n",
       "IBSClean           88463\n",
       "Update             87884\n",
       "Upgrade            69228\n",
       "Other              46079\n",
       "Reset              35985\n",
       "Refresh            11109\n",
       "Clean               3842\n",
       "CleanPCRefresh      2892\n",
       "Name: count, dtype: int64"
      ]
     },
     "execution_count": 1458,
     "metadata": {},
     "output_type": "execute_result"
    }
   ],
   "source": [
    "print(f\"{df['Census_OSInstallTypeName'].isna().sum()=}\")  # 0 nulos\n",
    "df[\"Census_OSInstallTypeName\"].value_counts(dropna=False)"
   ]
  },
  {
   "cell_type": "code",
   "execution_count": null,
   "metadata": {
    "ExecuteTime": {
     "end_time": "2025-02-03T23:02:02.685782Z",
     "start_time": "2025-02-03T23:02:02.591902Z"
    }
   },
   "outputs": [
    {
     "data": {
      "text/plain": [
       "Census_OSInstallTypeName_Clean             0.0037\n",
       "Census_OSInstallTypeName_CleanPCRefresh   -0.0057\n",
       "Census_OSInstallTypeName_IBSClean          0.0231\n",
       "Census_OSInstallTypeName_Other            -0.0152\n",
       "Census_OSInstallTypeName_Refresh          -0.0113\n",
       "Census_OSInstallTypeName_Reset            -0.0105\n",
       "Census_OSInstallTypeName_UUPUpgrade        0.0332\n",
       "Census_OSInstallTypeName_Update           -0.0209\n",
       "Census_OSInstallTypeName_Upgrade          -0.0204\n",
       "dtype: float64"
      ]
     },
     "execution_count": 1459,
     "metadata": {},
     "output_type": "execute_result"
    }
   ],
   "source": [
    "# puede parecer difícilmente relacionable con el target, comprobamos correlaciones\n",
    "df_dummies = pd.get_dummies(df['Census_OSInstallTypeName'], prefix='Census_OSInstallTypeName')\n",
    "correlations = df_dummies.corrwith(df['HasDetections'])\n",
    "correlations"
   ]
  },
  {
   "cell_type": "code",
   "execution_count": null,
   "metadata": {
    "ExecuteTime": {
     "end_time": "2025-02-03T23:02:02.882061Z",
     "start_time": "2025-02-03T23:02:02.878669Z"
    }
   },
   "outputs": [],
   "source": [
    "# correlaciones no superiores al 0.04 -> eliminamos la columna\n",
    "del_columns.append(\"Census_OSInstallTypeName\")"
   ]
  },
  {
   "cell_type": "code",
   "execution_count": null,
   "metadata": {
    "ExecuteTime": {
     "end_time": "2025-02-03T23:02:03.075274Z",
     "start_time": "2025-02-03T23:02:03.066513Z"
    }
   },
   "outputs": [
    {
     "data": {
      "text/plain": [
       "[142.0, 628.0, 554.0, 355.0, 556.0, 500.0]"
      ]
     },
     "execution_count": 1461,
     "metadata": {},
     "output_type": "execute_result"
    }
   ],
   "source": [
    "df['Census_FirmwareManufacturerIdentifier'].value_counts().sort_values(ascending=False).index[:6].to_list()"
   ]
  },
  {
   "cell_type": "code",
   "execution_count": null,
   "metadata": {
    "ExecuteTime": {
     "end_time": "2025-02-03T23:02:03.207507Z",
     "start_time": "2025-02-03T23:02:03.183576Z"
    }
   },
   "outputs": [
    {
     "data": {
      "text/plain": [
       "Census_FirmwareVersionIdentifier\n",
       "33105.0000    5017\n",
       "33111.0000    3338\n",
       "33054.0000    3109\n",
       "33108.0000    3048\n",
       "63175.0000    2953\n",
       "              ... \n",
       "58400.0000       1\n",
       "1837.0000        1\n",
       "37583.0000       1\n",
       "14908.0000       1\n",
       "45209.0000       1\n",
       "Name: count, Length: 23350, dtype: int64"
      ]
     },
     "execution_count": 1462,
     "metadata": {},
     "output_type": "execute_result"
    }
   ],
   "source": [
    "df['Census_FirmwareVersionIdentifier'].value_counts().sort_values(ascending=False)"
   ]
  },
  {
   "cell_type": "code",
   "execution_count": null,
   "metadata": {
    "ExecuteTime": {
     "end_time": "2025-02-03T23:02:03.325646Z",
     "start_time": "2025-02-03T23:02:03.323417Z"
    }
   },
   "outputs": [],
   "source": []
  },
  {
   "cell_type": "markdown",
   "metadata": {},
   "source": [
    "# Parte IGNACIO"
   ]
  },
  {
   "cell_type": "code",
   "execution_count": null,
   "metadata": {
    "ExecuteTime": {
     "end_time": "2025-02-03T23:02:03.826555Z",
     "start_time": "2025-02-03T23:02:03.474838Z"
    }
   },
   "outputs": [
    {
     "name": "stdout",
     "output_type": "stream",
     "text": [
      "<class 'pandas.core.frame.DataFrame'>\n",
      "Index: 491133 entries, 0 to 499999\n",
      "Data columns (total 78 columns):\n",
      " #   Column                                             Non-Null Count   Dtype  \n",
      "---  ------                                             --------------   -----  \n",
      " 0   ProductName                                        491133 non-null  object \n",
      " 1   AVProductStatesIdentifier                          491133 non-null  float64\n",
      " 2   AVProductsInstalled                                491133 non-null  float64\n",
      " 3   AVProductsEnabled                                  491133 non-null  float64\n",
      " 4   OsVer                                              491133 non-null  object \n",
      " 5   OsBuild                                            491133 non-null  int64  \n",
      " 6   OsSuite                                            491133 non-null  int64  \n",
      " 7   OsPlatformSubRelease                               491133 non-null  object \n",
      " 8   OsBuildLab                                         491132 non-null  object \n",
      " 9   SkuEdition                                         491133 non-null  object \n",
      " 10  IsProtected                                        491133 non-null  float64\n",
      " 11  AutoSampleOptIn                                    491133 non-null  int64  \n",
      " 12  PuaMode                                            122 non-null     object \n",
      " 13  SMode                                              461868 non-null  float64\n",
      " 14  IeVerIdentifier                                    487976 non-null  float64\n",
      " 15  SmartScreen                                        316668 non-null  object \n",
      " 16  Firewall                                           486170 non-null  float64\n",
      " 17  UacLuaenable                                       490517 non-null  float64\n",
      " 18  Census_MDC2FormFactor                              491133 non-null  object \n",
      " 19  Census_DeviceFamily                                491133 non-null  object \n",
      " 20  Census_OEMNameIdentifier                           486789 non-null  float64\n",
      " 21  Census_OEMModelIdentifier                          486409 non-null  float64\n",
      " 22  Census_ProcessorCoreCount                          490884 non-null  float64\n",
      " 23  Census_ProcessorManufacturerIdentifier             490884 non-null  float64\n",
      " 24  Census_ProcessorModelIdentifier                    490882 non-null  float64\n",
      " 25  Census_ProcessorClass                              2035 non-null    object \n",
      " 26  Census_PrimaryDiskTotalCapacity                    490780 non-null  float64\n",
      " 27  Census_PrimaryDiskTypeName                         491133 non-null  object \n",
      " 28  Census_SystemVolumeTotalCapacity                   490780 non-null  float64\n",
      " 29  Census_HasOpticalDiskDrive                         491133 non-null  int64  \n",
      " 30  Census_TotalPhysicalRAM                            491133 non-null  float64\n",
      " 31  Census_ChassisTypeName                             491098 non-null  object \n",
      " 32  Census_InternalPrimaryDiagonalDisplaySizeInInches  488648 non-null  float64\n",
      " 33  Census_InternalPrimaryDisplayResolutionHorizontal  488652 non-null  float64\n",
      " 34  Census_InternalPrimaryDisplayResolutionVertical    488652 non-null  float64\n",
      " 35  Census_PowerPlatformRoleName                       491133 non-null  object \n",
      " 36  Census_InternalBatteryType                         142662 non-null  object \n",
      " 37  Census_InternalBatteryNumberOfCharges              491133 non-null  float64\n",
      " 38  Census_OSVersion                                   491133 non-null  object \n",
      " 39  Census_OSArchitecture                              491133 non-null  object \n",
      " 40  Census_OSBranch                                    491133 non-null  object \n",
      " 41  Census_OSBuildNumber                               491133 non-null  int64  \n",
      " 42  Census_OSBuildRevision                             491133 non-null  int64  \n",
      " 43  Census_OSEdition                                   491133 non-null  object \n",
      " 44  Census_OSSkuName                                   491133 non-null  object \n",
      " 45  Census_OSInstallTypeName                           491133 non-null  object \n",
      " 46  Census_OSInstallLanguageIdentifier                 487892 non-null  float64\n",
      " 47  Census_OSUILocaleIdentifier                        491133 non-null  int64  \n",
      " 48  Census_OSWUAutoUpdateOptionsName                   491133 non-null  object \n",
      " 49  Census_IsPortableOperatingSystem                   491133 non-null  int64  \n",
      " 50  Census_GenuineStateName                            491133 non-null  object \n",
      " 51  Census_ActivationChannel                           491133 non-null  object \n",
      " 52  Census_IsFlightingInternal                         83579 non-null   float64\n",
      " 53  Census_IsFlightsDisabled                           484574 non-null  float64\n",
      " 54  Census_FlightRing                                  491133 non-null  object \n",
      " 55  Census_ThresholdOptIn                              179669 non-null  float64\n",
      " 56  Census_FirmwareManufacturerIdentifier              484467 non-null  float64\n",
      " 57  Census_FirmwareVersionIdentifier                   485754 non-null  float64\n",
      " 58  Census_IsSecureBootEnabled                         491133 non-null  int64  \n",
      " 59  Census_IsWIMBootEnabled                            180102 non-null  float64\n",
      " 60  Census_IsVirtualDevice                             490254 non-null  float64\n",
      " 61  Census_IsTouchEnabled                              491133 non-null  int64  \n",
      " 62  Census_IsPenCapable                                491133 non-null  int64  \n",
      " 63  Census_IsAlwaysOnAlwaysConnectedCapable            489696 non-null  float64\n",
      " 64  Wdft_IsGamer                                       474844 non-null  float64\n",
      " 65  Wdft_RegionIdentifier                              474844 non-null  float64\n",
      " 66  HasDetections                                      491133 non-null  int64  \n",
      " 67  EngineVersion_trimmed                              491133 non-null  object \n",
      " 68  AppVersion_trimmed                                 491133 non-null  object \n",
      " 69  AvSigVersion_trimmed                               491133 non-null  object \n",
      " 70  Platform_windows10                                 491133 non-null  bool   \n",
      " 71  Platform_windows7                                  491133 non-null  bool   \n",
      " 72  Platform_windows8                                  491133 non-null  bool   \n",
      " 73  Processor_x64                                      491133 non-null  bool   \n",
      " 74  Processor_x86                                      491133 non-null  bool   \n",
      " 75  Census_TotalPhysicalRAM_GB                         491133 non-null  float64\n",
      " 76  CALC_Census_OSVersion                              491133 non-null  object \n",
      " 77  CALC_Census_OSBranch                               491133 non-null  object \n",
      "dtypes: bool(5), float64(32), int64(12), object(29)\n",
      "memory usage: 279.6+ MB\n"
     ]
    }
   ],
   "source": [
    "df.info()"
   ]
  },
  {
   "cell_type": "code",
   "execution_count": null,
   "metadata": {},
   "outputs": [],
   "source": [
    "valores_faltantes = (df.isnull().mean() * 100).sort_values(ascending=False)\n",
    "print(valores_faltantes)"
   ]
  },
  {
   "cell_type": "code",
   "execution_count": null,
   "metadata": {},
   "outputs": [],
   "source": [
    "((df.isna().sum()/df.shape[0])*100).sort_values().plot(kind=\"barh\",figsize=(10,10),color=\"lightblue\")\n",
    "plt.title('Porcentaje de valores faltantes')\n",
    "plt.xlabel('Porcentaje del total de filas')\n",
    "plt.ylabel('Variable')\n",
    "plt.xlim(0, 100)\n",
    "plt.show() "
   ]
  },
  {
   "cell_type": "code",
   "execution_count": 9,
   "metadata": {},
   "outputs": [
    {
     "ename": "NameError",
     "evalue": "name 'df' is not defined",
     "output_type": "error",
     "traceback": [
      "\u001b[0;31m---------------------------------------------------------------------------\u001b[0m",
      "\u001b[0;31mNameError\u001b[0m                                 Traceback (most recent call last)",
      "Cell \u001b[0;32mIn[9], line 1\u001b[0m\n\u001b[0;32m----> 1\u001b[0m df \u001b[39m=\u001b[39m df\u001b[39m.\u001b[39mdrop(columns\u001b[39m=\u001b[39m[\u001b[39m'\u001b[39m\u001b[39mPuaMode\u001b[39m\u001b[39m'\u001b[39m])\n\u001b[1;32m      2\u001b[0m df[\u001b[39m'\u001b[39m\u001b[39mSmartScreen\u001b[39m\u001b[39m'\u001b[39m] \u001b[39m=\u001b[39m df[\u001b[39m'\u001b[39m\u001b[39mSmartScreen\u001b[39m\u001b[39m'\u001b[39m]\u001b[39m.\u001b[39mfillna(\u001b[39m\"\u001b[39m\u001b[39mUnknown\u001b[39m\u001b[39m\"\u001b[39m)\n",
      "\u001b[0;31mNameError\u001b[0m: name 'df' is not defined"
     ]
    }
   ],
   "source": [
    "df = df.drop(columns=['PuaMode'])\n",
    "df['SmartScreen'] = df['SmartScreen'].fillna(\"Unknown\")\n",
    "df['SMode'] = df['SMode'].fillna(df['SMode'].mode()[0])"
   ]
  },
  {
   "cell_type": "code",
   "execution_count": null,
   "metadata": {},
   "outputs": [],
   "source": [
    "df.hist(bins=30, figsize=(15, 12), layout=(5, 4), edgecolor='black', color='skyblue')\n",
    "plt.suptitle(\"Distribuciones de las Variables\", fontsize=11)\n",
    "plt.tight_layout(rect=[0, 0, 1, 0.96])\n",
    "plt.show()"
   ]
  },
  {
   "cell_type": "code",
   "execution_count": null,
   "metadata": {},
   "outputs": [],
   "source": [
    "target = df['HasDetections']  # Definir la variable objetivo"
   ]
  },
  {
   "cell_type": "code",
   "execution_count": null,
   "metadata": {},
   "outputs": [],
   "source": [
    "plt.figure(figsize=(6, 4))\n",
    "sns.countplot(data=df, x='HasDetections', palette=['skyblue', 'salmon'], edgecolor='black')\n",
    "\n",
    "plt.title(\"Distribución de la Variable Target\", fontsize=14)\n",
    "plt.xlabel(\"HasDetections (0 = No infectado, 1 = Infectado)\", fontsize=12)\n",
    "plt.ylabel(\"Frecuencia\", fontsize=12)\n",
    "plt.show()"
   ]
  },
  {
   "cell_type": "code",
   "execution_count": null,
   "metadata": {},
   "outputs": [],
   "source": []
  },
  {
   "cell_type": "code",
   "execution_count": null,
   "metadata": {
    "ExecuteTime": {
     "end_time": "2025-02-03T23:02:08.359168Z",
     "start_time": "2025-02-03T23:02:08.355579Z"
    }
   },
   "outputs": [],
   "source": [
    "cols_ignacio = df.columns[5:24].to_list()"
   ]
  },
  {
   "cell_type": "code",
   "execution_count": null,
   "metadata": {
    "ExecuteTime": {
     "end_time": "2025-02-03T23:02:12.683878Z",
     "start_time": "2025-02-03T23:02:12.678029Z"
    }
   },
   "outputs": [
    {
     "data": {
      "text/plain": [
       "['OsBuild',\n",
       " 'OsSuite',\n",
       " 'OsPlatformSubRelease',\n",
       " 'OsBuildLab',\n",
       " 'SkuEdition',\n",
       " 'IsProtected',\n",
       " 'AutoSampleOptIn',\n",
       " 'PuaMode',\n",
       " 'SMode',\n",
       " 'IeVerIdentifier',\n",
       " 'SmartScreen',\n",
       " 'Firewall',\n",
       " 'UacLuaenable',\n",
       " 'Census_MDC2FormFactor',\n",
       " 'Census_DeviceFamily',\n",
       " 'Census_OEMNameIdentifier',\n",
       " 'Census_OEMModelIdentifier',\n",
       " 'Census_ProcessorCoreCount',\n",
       " 'Census_ProcessorManufacturerIdentifier']"
      ]
     },
     "execution_count": 1465,
     "metadata": {},
     "output_type": "execute_result"
    }
   ],
   "source": [
    "cols_ignacio"
   ]
  },
  {
   "cell_type": "code",
   "execution_count": null,
   "metadata": {
    "ExecuteTime": {
     "end_time": "2025-02-03T22:59:12.282485Z",
     "start_time": "2025-02-03T22:59:12.233507Z"
    }
   },
   "outputs": [
    {
     "data": {
      "text/html": [
       "<div>\n",
       "<style scoped>\n",
       "    .dataframe tbody tr th:only-of-type {\n",
       "        vertical-align: middle;\n",
       "    }\n",
       "\n",
       "    .dataframe tbody tr th {\n",
       "        vertical-align: top;\n",
       "    }\n",
       "\n",
       "    .dataframe thead th {\n",
       "        text-align: right;\n",
       "    }\n",
       "</style>\n",
       "<table border=\"1\" class=\"dataframe\">\n",
       "  <thead>\n",
       "    <tr style=\"text-align: right;\">\n",
       "      <th></th>\n",
       "      <th>OsBuild</th>\n",
       "      <th>OsSuite</th>\n",
       "      <th>OsPlatformSubRelease</th>\n",
       "      <th>OsBuildLab</th>\n",
       "      <th>SkuEdition</th>\n",
       "      <th>IsProtected</th>\n",
       "      <th>AutoSampleOptIn</th>\n",
       "      <th>PuaMode</th>\n",
       "      <th>SMode</th>\n",
       "      <th>IeVerIdentifier</th>\n",
       "      <th>SmartScreen</th>\n",
       "      <th>Firewall</th>\n",
       "      <th>UacLuaenable</th>\n",
       "      <th>Census_MDC2FormFactor</th>\n",
       "      <th>Census_DeviceFamily</th>\n",
       "      <th>Census_OEMNameIdentifier</th>\n",
       "      <th>Census_OEMModelIdentifier</th>\n",
       "      <th>Census_ProcessorCoreCount</th>\n",
       "      <th>Census_ProcessorManufacturerIdentifier</th>\n",
       "    </tr>\n",
       "  </thead>\n",
       "  <tbody>\n",
       "    <tr>\n",
       "      <th>0</th>\n",
       "      <td>17134</td>\n",
       "      <td>256</td>\n",
       "      <td>rs4</td>\n",
       "      <td>17134.1.amd64fre.rs4_release.180410-1804</td>\n",
       "      <td>Pro</td>\n",
       "      <td>1.0000</td>\n",
       "      <td>0</td>\n",
       "      <td>NaN</td>\n",
       "      <td>0.0000</td>\n",
       "      <td>137.0000</td>\n",
       "      <td>RequireAdmin</td>\n",
       "      <td>1.0000</td>\n",
       "      <td>1.0000</td>\n",
       "      <td>Desktop</td>\n",
       "      <td>Windows.Desktop</td>\n",
       "      <td>1443.0000</td>\n",
       "      <td>275891.0000</td>\n",
       "      <td>4.0000</td>\n",
       "      <td>5.0000</td>\n",
       "    </tr>\n",
       "    <tr>\n",
       "      <th>1</th>\n",
       "      <td>17134</td>\n",
       "      <td>256</td>\n",
       "      <td>rs4</td>\n",
       "      <td>17134.1.amd64fre.rs4_release.180410-1804</td>\n",
       "      <td>Pro</td>\n",
       "      <td>1.0000</td>\n",
       "      <td>0</td>\n",
       "      <td>NaN</td>\n",
       "      <td>0.0000</td>\n",
       "      <td>137.0000</td>\n",
       "      <td>RequireAdmin</td>\n",
       "      <td>1.0000</td>\n",
       "      <td>1.0000</td>\n",
       "      <td>Notebook</td>\n",
       "      <td>Windows.Desktop</td>\n",
       "      <td>2102.0000</td>\n",
       "      <td>248850.0000</td>\n",
       "      <td>4.0000</td>\n",
       "      <td>5.0000</td>\n",
       "    </tr>\n",
       "    <tr>\n",
       "      <th>2</th>\n",
       "      <td>10586</td>\n",
       "      <td>768</td>\n",
       "      <td>th2</td>\n",
       "      <td>10586.1176.amd64fre.th2_release_sec.170913-1848</td>\n",
       "      <td>Home</td>\n",
       "      <td>1.0000</td>\n",
       "      <td>0</td>\n",
       "      <td>NaN</td>\n",
       "      <td>0.0000</td>\n",
       "      <td>74.0000</td>\n",
       "      <td>RequireAdmin</td>\n",
       "      <td>1.0000</td>\n",
       "      <td>1.0000</td>\n",
       "      <td>Convertible</td>\n",
       "      <td>Windows.Desktop</td>\n",
       "      <td>2206.0000</td>\n",
       "      <td>238234.0000</td>\n",
       "      <td>4.0000</td>\n",
       "      <td>5.0000</td>\n",
       "    </tr>\n",
       "    <tr>\n",
       "      <th>3</th>\n",
       "      <td>17134</td>\n",
       "      <td>768</td>\n",
       "      <td>rs4</td>\n",
       "      <td>17134.1.amd64fre.rs4_release.180410-1804</td>\n",
       "      <td>Home</td>\n",
       "      <td>1.0000</td>\n",
       "      <td>0</td>\n",
       "      <td>NaN</td>\n",
       "      <td>0.0000</td>\n",
       "      <td>137.0000</td>\n",
       "      <td>NaN</td>\n",
       "      <td>1.0000</td>\n",
       "      <td>1.0000</td>\n",
       "      <td>Notebook</td>\n",
       "      <td>Windows.Desktop</td>\n",
       "      <td>525.0000</td>\n",
       "      <td>265410.0000</td>\n",
       "      <td>8.0000</td>\n",
       "      <td>5.0000</td>\n",
       "    </tr>\n",
       "    <tr>\n",
       "      <th>4</th>\n",
       "      <td>17134</td>\n",
       "      <td>256</td>\n",
       "      <td>rs4</td>\n",
       "      <td>17134.1.amd64fre.rs4_release.180410-1804</td>\n",
       "      <td>Pro</td>\n",
       "      <td>1.0000</td>\n",
       "      <td>0</td>\n",
       "      <td>NaN</td>\n",
       "      <td>0.0000</td>\n",
       "      <td>137.0000</td>\n",
       "      <td>RequireAdmin</td>\n",
       "      <td>1.0000</td>\n",
       "      <td>1.0000</td>\n",
       "      <td>Notebook</td>\n",
       "      <td>Windows.Desktop</td>\n",
       "      <td>1443.0000</td>\n",
       "      <td>256478.0000</td>\n",
       "      <td>4.0000</td>\n",
       "      <td>1.0000</td>\n",
       "    </tr>\n",
       "    <tr>\n",
       "      <th>...</th>\n",
       "      <td>...</td>\n",
       "      <td>...</td>\n",
       "      <td>...</td>\n",
       "      <td>...</td>\n",
       "      <td>...</td>\n",
       "      <td>...</td>\n",
       "      <td>...</td>\n",
       "      <td>...</td>\n",
       "      <td>...</td>\n",
       "      <td>...</td>\n",
       "      <td>...</td>\n",
       "      <td>...</td>\n",
       "      <td>...</td>\n",
       "      <td>...</td>\n",
       "      <td>...</td>\n",
       "      <td>...</td>\n",
       "      <td>...</td>\n",
       "      <td>...</td>\n",
       "      <td>...</td>\n",
       "    </tr>\n",
       "    <tr>\n",
       "      <th>499995</th>\n",
       "      <td>16299</td>\n",
       "      <td>768</td>\n",
       "      <td>rs3</td>\n",
       "      <td>16299.431.amd64fre.rs3_release_svc_escrow.1805...</td>\n",
       "      <td>Home</td>\n",
       "      <td>1.0000</td>\n",
       "      <td>0</td>\n",
       "      <td>NaN</td>\n",
       "      <td>0.0000</td>\n",
       "      <td>117.0000</td>\n",
       "      <td>RequireAdmin</td>\n",
       "      <td>1.0000</td>\n",
       "      <td>1.0000</td>\n",
       "      <td>Convertible</td>\n",
       "      <td>Windows.Desktop</td>\n",
       "      <td>2102.0000</td>\n",
       "      <td>248445.0000</td>\n",
       "      <td>4.0000</td>\n",
       "      <td>5.0000</td>\n",
       "    </tr>\n",
       "    <tr>\n",
       "      <th>499996</th>\n",
       "      <td>16299</td>\n",
       "      <td>768</td>\n",
       "      <td>rs3</td>\n",
       "      <td>16299.15.amd64fre.rs3_release.170928-1534</td>\n",
       "      <td>Home</td>\n",
       "      <td>1.0000</td>\n",
       "      <td>0</td>\n",
       "      <td>NaN</td>\n",
       "      <td>0.0000</td>\n",
       "      <td>111.0000</td>\n",
       "      <td>Off</td>\n",
       "      <td>1.0000</td>\n",
       "      <td>1.0000</td>\n",
       "      <td>Notebook</td>\n",
       "      <td>Windows.Desktop</td>\n",
       "      <td>666.0000</td>\n",
       "      <td>264566.0000</td>\n",
       "      <td>4.0000</td>\n",
       "      <td>5.0000</td>\n",
       "    </tr>\n",
       "    <tr>\n",
       "      <th>499997</th>\n",
       "      <td>17134</td>\n",
       "      <td>256</td>\n",
       "      <td>rs4</td>\n",
       "      <td>17134.1.x86fre.rs4_release.180410-1804</td>\n",
       "      <td>Pro</td>\n",
       "      <td>1.0000</td>\n",
       "      <td>0</td>\n",
       "      <td>NaN</td>\n",
       "      <td>0.0000</td>\n",
       "      <td>137.0000</td>\n",
       "      <td>NaN</td>\n",
       "      <td>1.0000</td>\n",
       "      <td>1.0000</td>\n",
       "      <td>Desktop</td>\n",
       "      <td>Windows.Desktop</td>\n",
       "      <td>2206.0000</td>\n",
       "      <td>234834.0000</td>\n",
       "      <td>4.0000</td>\n",
       "      <td>5.0000</td>\n",
       "    </tr>\n",
       "    <tr>\n",
       "      <th>499998</th>\n",
       "      <td>16299</td>\n",
       "      <td>256</td>\n",
       "      <td>rs3</td>\n",
       "      <td>16299.15.amd64fre.rs3_release.170928-1534</td>\n",
       "      <td>Pro</td>\n",
       "      <td>1.0000</td>\n",
       "      <td>0</td>\n",
       "      <td>NaN</td>\n",
       "      <td>0.0000</td>\n",
       "      <td>117.0000</td>\n",
       "      <td>NaN</td>\n",
       "      <td>1.0000</td>\n",
       "      <td>1.0000</td>\n",
       "      <td>Notebook</td>\n",
       "      <td>Windows.Desktop</td>\n",
       "      <td>2668.0000</td>\n",
       "      <td>34576.0000</td>\n",
       "      <td>4.0000</td>\n",
       "      <td>5.0000</td>\n",
       "    </tr>\n",
       "    <tr>\n",
       "      <th>499999</th>\n",
       "      <td>17134</td>\n",
       "      <td>256</td>\n",
       "      <td>rs4</td>\n",
       "      <td>17134.1.amd64fre.rs4_release.180410-1804</td>\n",
       "      <td>Pro</td>\n",
       "      <td>1.0000</td>\n",
       "      <td>0</td>\n",
       "      <td>NaN</td>\n",
       "      <td>0.0000</td>\n",
       "      <td>137.0000</td>\n",
       "      <td>RequireAdmin</td>\n",
       "      <td>1.0000</td>\n",
       "      <td>1.0000</td>\n",
       "      <td>Desktop</td>\n",
       "      <td>Windows.Desktop</td>\n",
       "      <td>4589.0000</td>\n",
       "      <td>313586.0000</td>\n",
       "      <td>8.0000</td>\n",
       "      <td>5.0000</td>\n",
       "    </tr>\n",
       "  </tbody>\n",
       "</table>\n",
       "<p>491133 rows × 19 columns</p>\n",
       "</div>"
      ],
      "text/plain": [
       "        OsBuild  OsSuite OsPlatformSubRelease  \\\n",
       "0         17134      256                  rs4   \n",
       "1         17134      256                  rs4   \n",
       "2         10586      768                  th2   \n",
       "3         17134      768                  rs4   \n",
       "4         17134      256                  rs4   \n",
       "...         ...      ...                  ...   \n",
       "499995    16299      768                  rs3   \n",
       "499996    16299      768                  rs3   \n",
       "499997    17134      256                  rs4   \n",
       "499998    16299      256                  rs3   \n",
       "499999    17134      256                  rs4   \n",
       "\n",
       "                                               OsBuildLab SkuEdition  \\\n",
       "0                17134.1.amd64fre.rs4_release.180410-1804        Pro   \n",
       "1                17134.1.amd64fre.rs4_release.180410-1804        Pro   \n",
       "2         10586.1176.amd64fre.th2_release_sec.170913-1848       Home   \n",
       "3                17134.1.amd64fre.rs4_release.180410-1804       Home   \n",
       "4                17134.1.amd64fre.rs4_release.180410-1804        Pro   \n",
       "...                                                   ...        ...   \n",
       "499995  16299.431.amd64fre.rs3_release_svc_escrow.1805...       Home   \n",
       "499996          16299.15.amd64fre.rs3_release.170928-1534       Home   \n",
       "499997             17134.1.x86fre.rs4_release.180410-1804        Pro   \n",
       "499998          16299.15.amd64fre.rs3_release.170928-1534        Pro   \n",
       "499999           17134.1.amd64fre.rs4_release.180410-1804        Pro   \n",
       "\n",
       "        IsProtected  AutoSampleOptIn PuaMode  SMode  IeVerIdentifier  \\\n",
       "0            1.0000                0     NaN 0.0000         137.0000   \n",
       "1            1.0000                0     NaN 0.0000         137.0000   \n",
       "2            1.0000                0     NaN 0.0000          74.0000   \n",
       "3            1.0000                0     NaN 0.0000         137.0000   \n",
       "4            1.0000                0     NaN 0.0000         137.0000   \n",
       "...             ...              ...     ...    ...              ...   \n",
       "499995       1.0000                0     NaN 0.0000         117.0000   \n",
       "499996       1.0000                0     NaN 0.0000         111.0000   \n",
       "499997       1.0000                0     NaN 0.0000         137.0000   \n",
       "499998       1.0000                0     NaN 0.0000         117.0000   \n",
       "499999       1.0000                0     NaN 0.0000         137.0000   \n",
       "\n",
       "         SmartScreen  Firewall  UacLuaenable Census_MDC2FormFactor  \\\n",
       "0       RequireAdmin    1.0000        1.0000               Desktop   \n",
       "1       RequireAdmin    1.0000        1.0000              Notebook   \n",
       "2       RequireAdmin    1.0000        1.0000           Convertible   \n",
       "3                NaN    1.0000        1.0000              Notebook   \n",
       "4       RequireAdmin    1.0000        1.0000              Notebook   \n",
       "...              ...       ...           ...                   ...   \n",
       "499995  RequireAdmin    1.0000        1.0000           Convertible   \n",
       "499996           Off    1.0000        1.0000              Notebook   \n",
       "499997           NaN    1.0000        1.0000               Desktop   \n",
       "499998           NaN    1.0000        1.0000              Notebook   \n",
       "499999  RequireAdmin    1.0000        1.0000               Desktop   \n",
       "\n",
       "       Census_DeviceFamily  Census_OEMNameIdentifier  \\\n",
       "0          Windows.Desktop                 1443.0000   \n",
       "1          Windows.Desktop                 2102.0000   \n",
       "2          Windows.Desktop                 2206.0000   \n",
       "3          Windows.Desktop                  525.0000   \n",
       "4          Windows.Desktop                 1443.0000   \n",
       "...                    ...                       ...   \n",
       "499995     Windows.Desktop                 2102.0000   \n",
       "499996     Windows.Desktop                  666.0000   \n",
       "499997     Windows.Desktop                 2206.0000   \n",
       "499998     Windows.Desktop                 2668.0000   \n",
       "499999     Windows.Desktop                 4589.0000   \n",
       "\n",
       "        Census_OEMModelIdentifier  Census_ProcessorCoreCount  \\\n",
       "0                     275891.0000                     4.0000   \n",
       "1                     248850.0000                     4.0000   \n",
       "2                     238234.0000                     4.0000   \n",
       "3                     265410.0000                     8.0000   \n",
       "4                     256478.0000                     4.0000   \n",
       "...                           ...                        ...   \n",
       "499995                248445.0000                     4.0000   \n",
       "499996                264566.0000                     4.0000   \n",
       "499997                234834.0000                     4.0000   \n",
       "499998                 34576.0000                     4.0000   \n",
       "499999                313586.0000                     8.0000   \n",
       "\n",
       "        Census_ProcessorManufacturerIdentifier  \n",
       "0                                       5.0000  \n",
       "1                                       5.0000  \n",
       "2                                       5.0000  \n",
       "3                                       5.0000  \n",
       "4                                       1.0000  \n",
       "...                                        ...  \n",
       "499995                                  5.0000  \n",
       "499996                                  5.0000  \n",
       "499997                                  5.0000  \n",
       "499998                                  5.0000  \n",
       "499999                                  5.0000  \n",
       "\n",
       "[491133 rows x 19 columns]"
      ]
     },
     "execution_count": 1282,
     "metadata": {},
     "output_type": "execute_result"
    }
   ],
   "source": [
    "df[cols_ignacio]"
   ]
  },
  {
   "cell_type": "code",
   "execution_count": null,
   "metadata": {
    "ExecuteTime": {
     "end_time": "2025-02-03T22:59:12.447229Z",
     "start_time": "2025-02-03T22:59:12.327072Z"
    }
   },
   "outputs": [
    {
     "data": {
      "text/plain": [
       "['OsBuild',\n",
       " 'OsSuite',\n",
       " 'OsPlatformSubRelease',\n",
       " 'OsBuildLab',\n",
       " 'SkuEdition',\n",
       " 'IsProtected',\n",
       " 'AutoSampleOptIn',\n",
       " 'PuaMode',\n",
       " 'SMode',\n",
       " 'IeVerIdentifier',\n",
       " 'SmartScreen',\n",
       " 'Firewall',\n",
       " 'UacLuaenable',\n",
       " 'Census_MDC2FormFactor',\n",
       " 'Census_DeviceFamily',\n",
       " 'Census_OEMNameIdentifier',\n",
       " 'Census_OEMModelIdentifier',\n",
       " 'Census_ProcessorCoreCount',\n",
       " 'Census_ProcessorManufacturerIdentifier']"
      ]
     },
     "execution_count": 1283,
     "metadata": {},
     "output_type": "execute_result"
    }
   ],
   "source": [
    "(df[cols_ignacio].isnull().mean() < 0.02).index.to_list()"
   ]
  },
  {
   "cell_type": "code",
   "execution_count": null,
   "metadata": {},
   "outputs": [],
   "source": [
    "df.shape()"
   ]
  }
 ],
 "metadata": {
  "kernelspec": {
   "display_name": "Python 3.11.0 64-bit",
   "language": "python",
   "name": "python3"
  },
  "language_info": {
   "codemirror_mode": {
    "name": "ipython",
    "version": 3
   },
   "file_extension": ".py",
   "mimetype": "text/x-python",
   "name": "python",
   "nbconvert_exporter": "python",
   "pygments_lexer": "ipython3",
   "version": "3.11.0"
  },
  "vscode": {
   "interpreter": {
    "hash": "aee8b7b246df8f9039afb4144a1f6fd8d2ca17a180786b69acc140d282b71a49"
   }
  }
 },
 "nbformat": 4,
 "nbformat_minor": 2
}
