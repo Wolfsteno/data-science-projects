{
 "cells": [
  {
   "cell_type": "code",
   "execution_count": null,
   "metadata": {},
   "outputs": [],
   "source": [
    "# Primero descarga el DF del siguiente link y ponlo en la misma carpeta en la que se encuentra este archivo.\n",
    "# https://drive.google.com/file/d/1ztyRBeO7b_E0E9G9-bSCfm786WVKON0c/view?usp=sharing"
   ]
  }
 ],
 "metadata": {
  "language_info": {
   "name": "python"
  }
 },
 "nbformat": 4,
 "nbformat_minor": 2
}
