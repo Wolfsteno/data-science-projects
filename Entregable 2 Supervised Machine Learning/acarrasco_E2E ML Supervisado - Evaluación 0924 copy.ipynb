{
 "cells": [
  {
   "cell_type": "code",
   "execution_count": 136,
   "metadata": {},
   "outputs": [],
   "source": [
    "# Primero descarga el DF del siguiente link y ponlo en la misma carpeta en la que se encuentra este archivo.\n",
    "# https://drive.google.com/file/d/1ztyRBeO7b_E0E9G9-bSCfm786WVKON0c/view?usp=sharing"
   ]
  },
  {
   "cell_type": "code",
   "execution_count": 137,
   "metadata": {},
   "outputs": [
    {
     "name": "stdout",
     "output_type": "stream",
     "text": [
      "pandas ya está instalado.\n",
      "numpy ya está instalado.\n",
      "matplotlib ya está instalado.\n",
      "seaborn ya está instalado.\n",
      "Instalando scikit-learn...\n",
      "Instalación de paquetes completada.\n"
     ]
    }
   ],
   "source": [
    "import importlib.util\n",
    "import subprocess\n",
    "\n",
    "def install_if_missing(package):\n",
    "    if importlib.util.find_spec(package) is None:\n",
    "        print(f\"Instalando {package}...\")\n",
    "        subprocess.check_call([\"pip\", \"install\", package])\n",
    "    else:\n",
    "        print(f\"{package} ya está instalado.\")\n",
    "\n",
    "# Lista de paquetes necesarios\n",
    "required_packages = [\n",
    "    \"pandas\",\n",
    "    \"numpy\",\n",
    "    \"matplotlib\",\n",
    "    \"seaborn\",\n",
    "    \"scikit-learn\"\n",
    "]\n",
    "\n",
    "# Verificar e instalar los paquetes necesarios\n",
    "for package in required_packages:\n",
    "    install_if_missing(package)\n",
    "\n",
    "print(\"Instalación de paquetes completada.\")\n",
    "\n",
    "\n",
    "import pandas as pd\n",
    "import numpy as np\n",
    "import matplotlib.pyplot as plt\n",
    "import seaborn as sns\n",
    "from sklearn.preprocessing import MinMaxScaler"
   ]
  },
  {
   "cell_type": "code",
   "execution_count": 138,
   "metadata": {},
   "outputs": [
    {
     "name": "stderr",
     "output_type": "stream",
     "text": [
      "C:\\Users\\PC\\AppData\\Local\\Temp\\ipykernel_10624\\2266993074.py:2: DtypeWarning: Columns (29,42) have mixed types. Specify dtype option on import or set low_memory=False.\n",
      "  df = pd.read_csv(\"sample_mmp.csv\")\n"
     ]
    }
   ],
   "source": [
    "pd.set_option('display.float_format', '{:.4f}'.format)\n",
    "df = pd.read_csv(\"sample_mmp.csv\")\n",
    "del_columns = []"
   ]
  },
  {
   "cell_type": "code",
   "execution_count": 139,
   "metadata": {},
   "outputs": [],
   "source": [
    "# fran_columns = list(df.columns[0:21])\n",
    "# ignacio_columns = list(df.columns[21:42])\n",
    "# marc_columns = list(df.columns[42:63])\n",
    "alvaro_columns = list(df.columns[63:85])"
   ]
  },
  {
   "cell_type": "code",
   "execution_count": 140,
   "metadata": {},
   "outputs": [
    {
     "data": {
      "text/html": [
       "<div>\n",
       "<style scoped>\n",
       "    .dataframe tbody tr th:only-of-type {\n",
       "        vertical-align: middle;\n",
       "    }\n",
       "\n",
       "    .dataframe tbody tr th {\n",
       "        vertical-align: top;\n",
       "    }\n",
       "\n",
       "    .dataframe thead th {\n",
       "        text-align: right;\n",
       "    }\n",
       "</style>\n",
       "<table border=\"1\" class=\"dataframe\">\n",
       "  <thead>\n",
       "    <tr style=\"text-align: right;\">\n",
       "      <th></th>\n",
       "      <th>count</th>\n",
       "      <th>mean</th>\n",
       "      <th>std</th>\n",
       "      <th>min</th>\n",
       "      <th>25%</th>\n",
       "      <th>50%</th>\n",
       "      <th>75%</th>\n",
       "      <th>max</th>\n",
       "    </tr>\n",
       "  </thead>\n",
       "  <tbody>\n",
       "    <tr>\n",
       "      <th>Census_OSInstallLanguageIdentifier</th>\n",
       "      <td>496668.0000</td>\n",
       "      <td>14.6055</td>\n",
       "      <td>10.2009</td>\n",
       "      <td>1.0000</td>\n",
       "      <td>8.0000</td>\n",
       "      <td>9.0000</td>\n",
       "      <td>20.0000</td>\n",
       "      <td>39.0000</td>\n",
       "    </tr>\n",
       "    <tr>\n",
       "      <th>Census_OSUILocaleIdentifier</th>\n",
       "      <td>500000.0000</td>\n",
       "      <td>60.4463</td>\n",
       "      <td>45.0004</td>\n",
       "      <td>1.0000</td>\n",
       "      <td>31.0000</td>\n",
       "      <td>34.0000</td>\n",
       "      <td>90.0000</td>\n",
       "      <td>162.0000</td>\n",
       "    </tr>\n",
       "    <tr>\n",
       "      <th>Census_IsPortableOperatingSystem</th>\n",
       "      <td>500000.0000</td>\n",
       "      <td>0.0005</td>\n",
       "      <td>0.0228</td>\n",
       "      <td>0.0000</td>\n",
       "      <td>0.0000</td>\n",
       "      <td>0.0000</td>\n",
       "      <td>0.0000</td>\n",
       "      <td>1.0000</td>\n",
       "    </tr>\n",
       "    <tr>\n",
       "      <th>Census_IsFlightingInternal</th>\n",
       "      <td>84775.0000</td>\n",
       "      <td>0.0000</td>\n",
       "      <td>0.0049</td>\n",
       "      <td>0.0000</td>\n",
       "      <td>0.0000</td>\n",
       "      <td>0.0000</td>\n",
       "      <td>0.0000</td>\n",
       "      <td>1.0000</td>\n",
       "    </tr>\n",
       "    <tr>\n",
       "      <th>Census_IsFlightsDisabled</th>\n",
       "      <td>491067.0000</td>\n",
       "      <td>0.0000</td>\n",
       "      <td>0.0038</td>\n",
       "      <td>0.0000</td>\n",
       "      <td>0.0000</td>\n",
       "      <td>0.0000</td>\n",
       "      <td>0.0000</td>\n",
       "      <td>1.0000</td>\n",
       "    </tr>\n",
       "    <tr>\n",
       "      <th>Census_ThresholdOptIn</th>\n",
       "      <td>181896.0000</td>\n",
       "      <td>0.0003</td>\n",
       "      <td>0.0161</td>\n",
       "      <td>0.0000</td>\n",
       "      <td>0.0000</td>\n",
       "      <td>0.0000</td>\n",
       "      <td>0.0000</td>\n",
       "      <td>1.0000</td>\n",
       "    </tr>\n",
       "    <tr>\n",
       "      <th>Census_FirmwareManufacturerIdentifier</th>\n",
       "      <td>489651.0000</td>\n",
       "      <td>402.6759</td>\n",
       "      <td>221.5271</td>\n",
       "      <td>11.0000</td>\n",
       "      <td>142.0000</td>\n",
       "      <td>500.0000</td>\n",
       "      <td>556.0000</td>\n",
       "      <td>1084.0000</td>\n",
       "    </tr>\n",
       "    <tr>\n",
       "      <th>Census_FirmwareVersionIdentifier</th>\n",
       "      <td>490939.0000</td>\n",
       "      <td>33030.9889</td>\n",
       "      <td>21220.1614</td>\n",
       "      <td>10.0000</td>\n",
       "      <td>13156.0000</td>\n",
       "      <td>33070.0000</td>\n",
       "      <td>52436.0000</td>\n",
       "      <td>72091.0000</td>\n",
       "    </tr>\n",
       "    <tr>\n",
       "      <th>Census_IsSecureBootEnabled</th>\n",
       "      <td>500000.0000</td>\n",
       "      <td>0.4854</td>\n",
       "      <td>0.4998</td>\n",
       "      <td>0.0000</td>\n",
       "      <td>0.0000</td>\n",
       "      <td>0.0000</td>\n",
       "      <td>1.0000</td>\n",
       "      <td>1.0000</td>\n",
       "    </tr>\n",
       "    <tr>\n",
       "      <th>Census_IsWIMBootEnabled</th>\n",
       "      <td>182334.0000</td>\n",
       "      <td>0.0000</td>\n",
       "      <td>0.0000</td>\n",
       "      <td>0.0000</td>\n",
       "      <td>0.0000</td>\n",
       "      <td>0.0000</td>\n",
       "      <td>0.0000</td>\n",
       "      <td>0.0000</td>\n",
       "    </tr>\n",
       "    <tr>\n",
       "      <th>Census_IsVirtualDevice</th>\n",
       "      <td>499099.0000</td>\n",
       "      <td>0.0071</td>\n",
       "      <td>0.0838</td>\n",
       "      <td>0.0000</td>\n",
       "      <td>0.0000</td>\n",
       "      <td>0.0000</td>\n",
       "      <td>0.0000</td>\n",
       "      <td>1.0000</td>\n",
       "    </tr>\n",
       "    <tr>\n",
       "      <th>Census_IsTouchEnabled</th>\n",
       "      <td>500000.0000</td>\n",
       "      <td>0.1254</td>\n",
       "      <td>0.3312</td>\n",
       "      <td>0.0000</td>\n",
       "      <td>0.0000</td>\n",
       "      <td>0.0000</td>\n",
       "      <td>0.0000</td>\n",
       "      <td>1.0000</td>\n",
       "    </tr>\n",
       "    <tr>\n",
       "      <th>Census_IsPenCapable</th>\n",
       "      <td>500000.0000</td>\n",
       "      <td>0.0377</td>\n",
       "      <td>0.1906</td>\n",
       "      <td>0.0000</td>\n",
       "      <td>0.0000</td>\n",
       "      <td>0.0000</td>\n",
       "      <td>0.0000</td>\n",
       "      <td>1.0000</td>\n",
       "    </tr>\n",
       "    <tr>\n",
       "      <th>Census_IsAlwaysOnAlwaysConnectedCapable</th>\n",
       "      <td>495960.0000</td>\n",
       "      <td>0.0572</td>\n",
       "      <td>0.2323</td>\n",
       "      <td>0.0000</td>\n",
       "      <td>0.0000</td>\n",
       "      <td>0.0000</td>\n",
       "      <td>0.0000</td>\n",
       "      <td>1.0000</td>\n",
       "    </tr>\n",
       "    <tr>\n",
       "      <th>Wdft_IsGamer</th>\n",
       "      <td>483050.0000</td>\n",
       "      <td>0.2841</td>\n",
       "      <td>0.4510</td>\n",
       "      <td>0.0000</td>\n",
       "      <td>0.0000</td>\n",
       "      <td>0.0000</td>\n",
       "      <td>1.0000</td>\n",
       "      <td>1.0000</td>\n",
       "    </tr>\n",
       "    <tr>\n",
       "      <th>Wdft_RegionIdentifier</th>\n",
       "      <td>483050.0000</td>\n",
       "      <td>7.8886</td>\n",
       "      <td>4.5518</td>\n",
       "      <td>1.0000</td>\n",
       "      <td>3.0000</td>\n",
       "      <td>10.0000</td>\n",
       "      <td>11.0000</td>\n",
       "      <td>15.0000</td>\n",
       "    </tr>\n",
       "    <tr>\n",
       "      <th>HasDetections</th>\n",
       "      <td>500000.0000</td>\n",
       "      <td>0.4999</td>\n",
       "      <td>0.5000</td>\n",
       "      <td>0.0000</td>\n",
       "      <td>0.0000</td>\n",
       "      <td>0.0000</td>\n",
       "      <td>1.0000</td>\n",
       "      <td>1.0000</td>\n",
       "    </tr>\n",
       "  </tbody>\n",
       "</table>\n",
       "</div>"
      ],
      "text/plain": [
       "                                              count       mean        std  \\\n",
       "Census_OSInstallLanguageIdentifier      496668.0000    14.6055    10.2009   \n",
       "Census_OSUILocaleIdentifier             500000.0000    60.4463    45.0004   \n",
       "Census_IsPortableOperatingSystem        500000.0000     0.0005     0.0228   \n",
       "Census_IsFlightingInternal               84775.0000     0.0000     0.0049   \n",
       "Census_IsFlightsDisabled                491067.0000     0.0000     0.0038   \n",
       "Census_ThresholdOptIn                   181896.0000     0.0003     0.0161   \n",
       "Census_FirmwareManufacturerIdentifier   489651.0000   402.6759   221.5271   \n",
       "Census_FirmwareVersionIdentifier        490939.0000 33030.9889 21220.1614   \n",
       "Census_IsSecureBootEnabled              500000.0000     0.4854     0.4998   \n",
       "Census_IsWIMBootEnabled                 182334.0000     0.0000     0.0000   \n",
       "Census_IsVirtualDevice                  499099.0000     0.0071     0.0838   \n",
       "Census_IsTouchEnabled                   500000.0000     0.1254     0.3312   \n",
       "Census_IsPenCapable                     500000.0000     0.0377     0.1906   \n",
       "Census_IsAlwaysOnAlwaysConnectedCapable 495960.0000     0.0572     0.2323   \n",
       "Wdft_IsGamer                            483050.0000     0.2841     0.4510   \n",
       "Wdft_RegionIdentifier                   483050.0000     7.8886     4.5518   \n",
       "HasDetections                           500000.0000     0.4999     0.5000   \n",
       "\n",
       "                                            min        25%        50%  \\\n",
       "Census_OSInstallLanguageIdentifier       1.0000     8.0000     9.0000   \n",
       "Census_OSUILocaleIdentifier              1.0000    31.0000    34.0000   \n",
       "Census_IsPortableOperatingSystem         0.0000     0.0000     0.0000   \n",
       "Census_IsFlightingInternal               0.0000     0.0000     0.0000   \n",
       "Census_IsFlightsDisabled                 0.0000     0.0000     0.0000   \n",
       "Census_ThresholdOptIn                    0.0000     0.0000     0.0000   \n",
       "Census_FirmwareManufacturerIdentifier   11.0000   142.0000   500.0000   \n",
       "Census_FirmwareVersionIdentifier        10.0000 13156.0000 33070.0000   \n",
       "Census_IsSecureBootEnabled               0.0000     0.0000     0.0000   \n",
       "Census_IsWIMBootEnabled                  0.0000     0.0000     0.0000   \n",
       "Census_IsVirtualDevice                   0.0000     0.0000     0.0000   \n",
       "Census_IsTouchEnabled                    0.0000     0.0000     0.0000   \n",
       "Census_IsPenCapable                      0.0000     0.0000     0.0000   \n",
       "Census_IsAlwaysOnAlwaysConnectedCapable  0.0000     0.0000     0.0000   \n",
       "Wdft_IsGamer                             0.0000     0.0000     0.0000   \n",
       "Wdft_RegionIdentifier                    1.0000     3.0000    10.0000   \n",
       "HasDetections                            0.0000     0.0000     0.0000   \n",
       "\n",
       "                                               75%        max  \n",
       "Census_OSInstallLanguageIdentifier         20.0000    39.0000  \n",
       "Census_OSUILocaleIdentifier                90.0000   162.0000  \n",
       "Census_IsPortableOperatingSystem            0.0000     1.0000  \n",
       "Census_IsFlightingInternal                  0.0000     1.0000  \n",
       "Census_IsFlightsDisabled                    0.0000     1.0000  \n",
       "Census_ThresholdOptIn                       0.0000     1.0000  \n",
       "Census_FirmwareManufacturerIdentifier     556.0000  1084.0000  \n",
       "Census_FirmwareVersionIdentifier        52436.0000 72091.0000  \n",
       "Census_IsSecureBootEnabled                  1.0000     1.0000  \n",
       "Census_IsWIMBootEnabled                     0.0000     0.0000  \n",
       "Census_IsVirtualDevice                      0.0000     1.0000  \n",
       "Census_IsTouchEnabled                       0.0000     1.0000  \n",
       "Census_IsPenCapable                         0.0000     1.0000  \n",
       "Census_IsAlwaysOnAlwaysConnectedCapable     0.0000     1.0000  \n",
       "Wdft_IsGamer                                1.0000     1.0000  \n",
       "Wdft_RegionIdentifier                      11.0000    15.0000  \n",
       "HasDetections                               1.0000     1.0000  "
      ]
     },
     "execution_count": 140,
     "metadata": {},
     "output_type": "execute_result"
    }
   ],
   "source": [
    "df[alvaro_columns].describe().T"
   ]
  },
  {
   "cell_type": "code",
   "execution_count": 141,
   "metadata": {},
   "outputs": [
    {
     "name": "stdout",
     "output_type": "stream",
     "text": [
      "<class 'pandas.core.frame.DataFrame'>\n",
      "RangeIndex: 500000 entries, 0 to 499999\n",
      "Data columns (total 21 columns):\n",
      " #   Column                                   Non-Null Count   Dtype  \n",
      "---  ------                                   --------------   -----  \n",
      " 0   Census_OSInstallLanguageIdentifier       496668 non-null  float64\n",
      " 1   Census_OSUILocaleIdentifier              500000 non-null  int64  \n",
      " 2   Census_OSWUAutoUpdateOptionsName         500000 non-null  object \n",
      " 3   Census_IsPortableOperatingSystem         500000 non-null  int64  \n",
      " 4   Census_GenuineStateName                  500000 non-null  object \n",
      " 5   Census_ActivationChannel                 500000 non-null  object \n",
      " 6   Census_IsFlightingInternal               84775 non-null   float64\n",
      " 7   Census_IsFlightsDisabled                 491067 non-null  float64\n",
      " 8   Census_FlightRing                        500000 non-null  object \n",
      " 9   Census_ThresholdOptIn                    181896 non-null  float64\n",
      " 10  Census_FirmwareManufacturerIdentifier    489651 non-null  float64\n",
      " 11  Census_FirmwareVersionIdentifier         490939 non-null  float64\n",
      " 12  Census_IsSecureBootEnabled               500000 non-null  int64  \n",
      " 13  Census_IsWIMBootEnabled                  182334 non-null  float64\n",
      " 14  Census_IsVirtualDevice                   499099 non-null  float64\n",
      " 15  Census_IsTouchEnabled                    500000 non-null  int64  \n",
      " 16  Census_IsPenCapable                      500000 non-null  int64  \n",
      " 17  Census_IsAlwaysOnAlwaysConnectedCapable  495960 non-null  float64\n",
      " 18  Wdft_IsGamer                             483050 non-null  float64\n",
      " 19  Wdft_RegionIdentifier                    483050 non-null  float64\n",
      " 20  HasDetections                            500000 non-null  int64  \n",
      "dtypes: float64(11), int64(6), object(4)\n",
      "memory usage: 80.1+ MB\n"
     ]
    }
   ],
   "source": [
    "df[alvaro_columns].info()"
   ]
  },
  {
   "cell_type": "code",
   "execution_count": 142,
   "metadata": {},
   "outputs": [
    {
     "data": {
      "text/html": [
       "<div>\n",
       "<style scoped>\n",
       "    .dataframe tbody tr th:only-of-type {\n",
       "        vertical-align: middle;\n",
       "    }\n",
       "\n",
       "    .dataframe tbody tr th {\n",
       "        vertical-align: top;\n",
       "    }\n",
       "\n",
       "    .dataframe thead th {\n",
       "        text-align: right;\n",
       "    }\n",
       "</style>\n",
       "<table border=\"1\" class=\"dataframe\">\n",
       "  <thead>\n",
       "    <tr style=\"text-align: right;\">\n",
       "      <th></th>\n",
       "      <th>Census_OSInstallLanguageIdentifier</th>\n",
       "      <th>Census_OSUILocaleIdentifier</th>\n",
       "      <th>Census_OSWUAutoUpdateOptionsName</th>\n",
       "      <th>Census_IsPortableOperatingSystem</th>\n",
       "      <th>Census_GenuineStateName</th>\n",
       "      <th>Census_ActivationChannel</th>\n",
       "      <th>Census_IsFlightingInternal</th>\n",
       "      <th>Census_IsFlightsDisabled</th>\n",
       "      <th>Census_FlightRing</th>\n",
       "      <th>Census_ThresholdOptIn</th>\n",
       "      <th>...</th>\n",
       "      <th>Census_FirmwareVersionIdentifier</th>\n",
       "      <th>Census_IsSecureBootEnabled</th>\n",
       "      <th>Census_IsWIMBootEnabled</th>\n",
       "      <th>Census_IsVirtualDevice</th>\n",
       "      <th>Census_IsTouchEnabled</th>\n",
       "      <th>Census_IsPenCapable</th>\n",
       "      <th>Census_IsAlwaysOnAlwaysConnectedCapable</th>\n",
       "      <th>Wdft_IsGamer</th>\n",
       "      <th>Wdft_RegionIdentifier</th>\n",
       "      <th>HasDetections</th>\n",
       "    </tr>\n",
       "  </thead>\n",
       "  <tbody>\n",
       "    <tr>\n",
       "      <th>0</th>\n",
       "      <td>27.0000</td>\n",
       "      <td>120</td>\n",
       "      <td>FullAuto</td>\n",
       "      <td>0</td>\n",
       "      <td>IS_GENUINE</td>\n",
       "      <td>OEM:DM</td>\n",
       "      <td>NaN</td>\n",
       "      <td>0.0000</td>\n",
       "      <td>Retail</td>\n",
       "      <td>NaN</td>\n",
       "      <td>...</td>\n",
       "      <td>19951.0000</td>\n",
       "      <td>0</td>\n",
       "      <td>NaN</td>\n",
       "      <td>0.0000</td>\n",
       "      <td>0</td>\n",
       "      <td>0</td>\n",
       "      <td>0.0000</td>\n",
       "      <td>0.0000</td>\n",
       "      <td>11.0000</td>\n",
       "      <td>1</td>\n",
       "    </tr>\n",
       "    <tr>\n",
       "      <th>1</th>\n",
       "      <td>18.0000</td>\n",
       "      <td>72</td>\n",
       "      <td>FullAuto</td>\n",
       "      <td>0</td>\n",
       "      <td>IS_GENUINE</td>\n",
       "      <td>OEM:DM</td>\n",
       "      <td>NaN</td>\n",
       "      <td>0.0000</td>\n",
       "      <td>Retail</td>\n",
       "      <td>0.0000</td>\n",
       "      <td>...</td>\n",
       "      <td>48753.0000</td>\n",
       "      <td>0</td>\n",
       "      <td>0.0000</td>\n",
       "      <td>0.0000</td>\n",
       "      <td>0</td>\n",
       "      <td>0</td>\n",
       "      <td>0.0000</td>\n",
       "      <td>1.0000</td>\n",
       "      <td>3.0000</td>\n",
       "      <td>0</td>\n",
       "    </tr>\n",
       "    <tr>\n",
       "      <th>2</th>\n",
       "      <td>24.0000</td>\n",
       "      <td>109</td>\n",
       "      <td>Notify</td>\n",
       "      <td>0</td>\n",
       "      <td>IS_GENUINE</td>\n",
       "      <td>Retail</td>\n",
       "      <td>NaN</td>\n",
       "      <td>0.0000</td>\n",
       "      <td>Retail</td>\n",
       "      <td>0.0000</td>\n",
       "      <td>...</td>\n",
       "      <td>33111.0000</td>\n",
       "      <td>1</td>\n",
       "      <td>0.0000</td>\n",
       "      <td>0.0000</td>\n",
       "      <td>1</td>\n",
       "      <td>1</td>\n",
       "      <td>0.0000</td>\n",
       "      <td>0.0000</td>\n",
       "      <td>15.0000</td>\n",
       "      <td>0</td>\n",
       "    </tr>\n",
       "    <tr>\n",
       "      <th>3</th>\n",
       "      <td>27.0000</td>\n",
       "      <td>120</td>\n",
       "      <td>FullAuto</td>\n",
       "      <td>0</td>\n",
       "      <td>IS_GENUINE</td>\n",
       "      <td>Retail</td>\n",
       "      <td>NaN</td>\n",
       "      <td>0.0000</td>\n",
       "      <td>Retail</td>\n",
       "      <td>NaN</td>\n",
       "      <td>...</td>\n",
       "      <td>48473.0000</td>\n",
       "      <td>1</td>\n",
       "      <td>NaN</td>\n",
       "      <td>0.0000</td>\n",
       "      <td>0</td>\n",
       "      <td>0</td>\n",
       "      <td>0.0000</td>\n",
       "      <td>0.0000</td>\n",
       "      <td>15.0000</td>\n",
       "      <td>1</td>\n",
       "    </tr>\n",
       "    <tr>\n",
       "      <th>4</th>\n",
       "      <td>8.0000</td>\n",
       "      <td>31</td>\n",
       "      <td>FullAuto</td>\n",
       "      <td>0</td>\n",
       "      <td>IS_GENUINE</td>\n",
       "      <td>OEM:DM</td>\n",
       "      <td>NaN</td>\n",
       "      <td>0.0000</td>\n",
       "      <td>Retail</td>\n",
       "      <td>NaN</td>\n",
       "      <td>...</td>\n",
       "      <td>4343.0000</td>\n",
       "      <td>1</td>\n",
       "      <td>NaN</td>\n",
       "      <td>0.0000</td>\n",
       "      <td>1</td>\n",
       "      <td>0</td>\n",
       "      <td>0.0000</td>\n",
       "      <td>1.0000</td>\n",
       "      <td>13.0000</td>\n",
       "      <td>1</td>\n",
       "    </tr>\n",
       "  </tbody>\n",
       "</table>\n",
       "<p>5 rows × 21 columns</p>\n",
       "</div>"
      ],
      "text/plain": [
       "   Census_OSInstallLanguageIdentifier  Census_OSUILocaleIdentifier  \\\n",
       "0                             27.0000                          120   \n",
       "1                             18.0000                           72   \n",
       "2                             24.0000                          109   \n",
       "3                             27.0000                          120   \n",
       "4                              8.0000                           31   \n",
       "\n",
       "  Census_OSWUAutoUpdateOptionsName  Census_IsPortableOperatingSystem  \\\n",
       "0                         FullAuto                                 0   \n",
       "1                         FullAuto                                 0   \n",
       "2                           Notify                                 0   \n",
       "3                         FullAuto                                 0   \n",
       "4                         FullAuto                                 0   \n",
       "\n",
       "  Census_GenuineStateName Census_ActivationChannel  \\\n",
       "0              IS_GENUINE                   OEM:DM   \n",
       "1              IS_GENUINE                   OEM:DM   \n",
       "2              IS_GENUINE                   Retail   \n",
       "3              IS_GENUINE                   Retail   \n",
       "4              IS_GENUINE                   OEM:DM   \n",
       "\n",
       "   Census_IsFlightingInternal  Census_IsFlightsDisabled Census_FlightRing  \\\n",
       "0                         NaN                    0.0000            Retail   \n",
       "1                         NaN                    0.0000            Retail   \n",
       "2                         NaN                    0.0000            Retail   \n",
       "3                         NaN                    0.0000            Retail   \n",
       "4                         NaN                    0.0000            Retail   \n",
       "\n",
       "   Census_ThresholdOptIn  ...  Census_FirmwareVersionIdentifier  \\\n",
       "0                    NaN  ...                        19951.0000   \n",
       "1                 0.0000  ...                        48753.0000   \n",
       "2                 0.0000  ...                        33111.0000   \n",
       "3                    NaN  ...                        48473.0000   \n",
       "4                    NaN  ...                         4343.0000   \n",
       "\n",
       "   Census_IsSecureBootEnabled  Census_IsWIMBootEnabled  \\\n",
       "0                           0                      NaN   \n",
       "1                           0                   0.0000   \n",
       "2                           1                   0.0000   \n",
       "3                           1                      NaN   \n",
       "4                           1                      NaN   \n",
       "\n",
       "   Census_IsVirtualDevice  Census_IsTouchEnabled  Census_IsPenCapable  \\\n",
       "0                  0.0000                      0                    0   \n",
       "1                  0.0000                      0                    0   \n",
       "2                  0.0000                      1                    1   \n",
       "3                  0.0000                      0                    0   \n",
       "4                  0.0000                      1                    0   \n",
       "\n",
       "   Census_IsAlwaysOnAlwaysConnectedCapable  Wdft_IsGamer  \\\n",
       "0                                   0.0000        0.0000   \n",
       "1                                   0.0000        1.0000   \n",
       "2                                   0.0000        0.0000   \n",
       "3                                   0.0000        0.0000   \n",
       "4                                   0.0000        1.0000   \n",
       "\n",
       "   Wdft_RegionIdentifier  HasDetections  \n",
       "0                11.0000              1  \n",
       "1                 3.0000              0  \n",
       "2                15.0000              0  \n",
       "3                15.0000              1  \n",
       "4                13.0000              1  \n",
       "\n",
       "[5 rows x 21 columns]"
      ]
     },
     "execution_count": 142,
     "metadata": {},
     "output_type": "execute_result"
    }
   ],
   "source": [
    "df[alvaro_columns].head()"
   ]
  },
  {
   "cell_type": "code",
   "execution_count": 143,
   "metadata": {},
   "outputs": [
    {
     "data": {
      "text/plain": [
       "Census_OSInstallLanguageIdentifier           3332\n",
       "Census_OSUILocaleIdentifier                     0\n",
       "Census_OSWUAutoUpdateOptionsName                0\n",
       "Census_IsPortableOperatingSystem                0\n",
       "Census_GenuineStateName                         0\n",
       "Census_ActivationChannel                        0\n",
       "Census_IsFlightingInternal                 415225\n",
       "Census_IsFlightsDisabled                     8933\n",
       "Census_FlightRing                               0\n",
       "Census_ThresholdOptIn                      318104\n",
       "Census_FirmwareManufacturerIdentifier       10349\n",
       "Census_FirmwareVersionIdentifier             9061\n",
       "Census_IsSecureBootEnabled                      0\n",
       "Census_IsWIMBootEnabled                    317666\n",
       "Census_IsVirtualDevice                        901\n",
       "Census_IsTouchEnabled                           0\n",
       "Census_IsPenCapable                             0\n",
       "Census_IsAlwaysOnAlwaysConnectedCapable      4040\n",
       "Wdft_IsGamer                                16950\n",
       "Wdft_RegionIdentifier                       16950\n",
       "HasDetections                                   0\n",
       "dtype: int64"
      ]
     },
     "execution_count": 143,
     "metadata": {},
     "output_type": "execute_result"
    }
   ],
   "source": [
    "df[alvaro_columns].isna().sum()"
   ]
  },
  {
   "cell_type": "markdown",
   "metadata": {},
   "source": [
    "---\n",
    "## Census_IsFlightingInternal, Census_ThresholdOptIn y Census_IsWIMBootEnabled."
   ]
  },
  {
   "cell_type": "markdown",
   "metadata": {},
   "source": [
    "##### Primero quiero visualizar el porcentaje de valores nulos por columna"
   ]
  },
  {
   "cell_type": "code",
   "execution_count": 144,
   "metadata": {},
   "outputs": [
    {
     "data": {
      "text/plain": [
       "Census_OSInstallLanguageIdentifier         0.6664\n",
       "Census_OSUILocaleIdentifier                0.0000\n",
       "Census_OSWUAutoUpdateOptionsName           0.0000\n",
       "Census_IsPortableOperatingSystem           0.0000\n",
       "Census_GenuineStateName                    0.0000\n",
       "Census_ActivationChannel                   0.0000\n",
       "Census_IsFlightingInternal                83.0450\n",
       "Census_IsFlightsDisabled                   1.7866\n",
       "Census_FlightRing                          0.0000\n",
       "Census_ThresholdOptIn                     63.6208\n",
       "Census_FirmwareManufacturerIdentifier      2.0698\n",
       "Census_FirmwareVersionIdentifier           1.8122\n",
       "Census_IsSecureBootEnabled                 0.0000\n",
       "Census_IsWIMBootEnabled                   63.5332\n",
       "Census_IsVirtualDevice                     0.1802\n",
       "Census_IsTouchEnabled                      0.0000\n",
       "Census_IsPenCapable                        0.0000\n",
       "Census_IsAlwaysOnAlwaysConnectedCapable    0.8080\n",
       "Wdft_IsGamer                               3.3900\n",
       "Wdft_RegionIdentifier                      3.3900\n",
       "HasDetections                              0.0000\n",
       "dtype: float64"
      ]
     },
     "execution_count": 144,
     "metadata": {},
     "output_type": "execute_result"
    }
   ],
   "source": [
    "\n",
    "(df[alvaro_columns].isnull().sum() / len(df[alvaro_columns])) * 100\n"
   ]
  },
  {
   "cell_type": "markdown",
   "metadata": {},
   "source": [
    "#####  Lo primero que estoy viendo es que hay columnas con un 50% de nulos, estas son `Census_IsFlightingInternal`, `Census_ThresholdOptIn` y `Census_IsWIMBootEnabled`.\n",
    "#####  Por lo tanto voy a proceder a prescindir de estas."
   ]
  },
  {
   "cell_type": "code",
   "execution_count": 145,
   "metadata": {},
   "outputs": [],
   "source": [
    "del_columns.append([\"Census_IsFlightingInternal\", \"Census_ThresholdOptIn\", \"Census_IsWIMBootEnabled\"])"
   ]
  },
  {
   "cell_type": "markdown",
   "metadata": {},
   "source": [
    "---\n",
    "## Census_OSInstallLanguageIdentifier"
   ]
  },
  {
   "cell_type": "code",
   "execution_count": 146,
   "metadata": {},
   "outputs": [
    {
     "data": {
      "text/plain": [
       "Census_OSInstallLanguageIdentifier\n",
       "8.0000     178405\n",
       "9.0000      58013\n",
       "7.0000      28766\n",
       "29.0000     27669\n",
       "14.0000     24191\n",
       "37.0000     22635\n",
       "10.0000     20268\n",
       "26.0000     18520\n",
       "5.0000      14085\n",
       "35.0000     11497\n",
       "39.0000     11221\n",
       "18.0000     10600\n",
       "20.0000      9512\n",
       "24.0000      8127\n",
       "25.0000      7502\n",
       "27.0000      5956\n",
       "19.0000      4775\n",
       "17.0000      4695\n",
       "1.0000       4516\n",
       "3.0000       4067\n",
       "6.0000       2881\n",
       "33.0000      2807\n",
       "15.0000      2311\n",
       "4.0000       1996\n",
       "30.0000      1793\n",
       "23.0000      1652\n",
       "31.0000      1213\n",
       "12.0000      1119\n",
       "2.0000       1096\n",
       "36.0000       846\n",
       "16.0000       837\n",
       "28.0000       713\n",
       "34.0000       584\n",
       "13.0000       581\n",
       "21.0000       413\n",
       "32.0000       246\n",
       "11.0000       197\n",
       "38.0000       185\n",
       "22.0000       178\n",
       "Name: count, dtype: int64"
      ]
     },
     "execution_count": 146,
     "metadata": {},
     "output_type": "execute_result"
    }
   ],
   "source": [
    "df[\"Census_OSInstallLanguageIdentifier\"].value_counts()"
   ]
  },
  {
   "cell_type": "markdown",
   "metadata": {},
   "source": [
    "Vamos a ver que grado de correlacion tiene con el target y asi saber si podemos descartarla con seguridad."
   ]
  },
  {
   "cell_type": "code",
   "execution_count": 148,
   "metadata": {},
   "outputs": [
    {
     "data": {
      "text/html": [
       "<div>\n",
       "<style scoped>\n",
       "    .dataframe tbody tr th:only-of-type {\n",
       "        vertical-align: middle;\n",
       "    }\n",
       "\n",
       "    .dataframe tbody tr th {\n",
       "        vertical-align: top;\n",
       "    }\n",
       "\n",
       "    .dataframe thead th {\n",
       "        text-align: right;\n",
       "    }\n",
       "</style>\n",
       "<table border=\"1\" class=\"dataframe\">\n",
       "  <thead>\n",
       "    <tr style=\"text-align: right;\">\n",
       "      <th></th>\n",
       "      <th>Census_OSInstallLanguageIdentifier</th>\n",
       "      <th>HasDetections</th>\n",
       "    </tr>\n",
       "  </thead>\n",
       "  <tbody>\n",
       "    <tr>\n",
       "      <th>Census_OSInstallLanguageIdentifier</th>\n",
       "      <td>1.0000</td>\n",
       "      <td>0.0045</td>\n",
       "    </tr>\n",
       "    <tr>\n",
       "      <th>HasDetections</th>\n",
       "      <td>0.0045</td>\n",
       "      <td>1.0000</td>\n",
       "    </tr>\n",
       "  </tbody>\n",
       "</table>\n",
       "</div>"
      ],
      "text/plain": [
       "                                    Census_OSInstallLanguageIdentifier  \\\n",
       "Census_OSInstallLanguageIdentifier                              1.0000   \n",
       "HasDetections                                                   0.0045   \n",
       "\n",
       "                                    HasDetections  \n",
       "Census_OSInstallLanguageIdentifier         0.0045  \n",
       "HasDetections                              1.0000  "
      ]
     },
     "execution_count": 148,
     "metadata": {},
     "output_type": "execute_result"
    }
   ],
   "source": [
    "df[[\"Census_OSInstallLanguageIdentifier\", \"HasDetections\"]].corr()"
   ]
  },
  {
   "cell_type": "markdown",
   "metadata": {},
   "source": [
    "##### Podemos ver que la correlacion es de menos de un 0.001%, por lo tanto es seguro descartarla."
   ]
  },
  {
   "cell_type": "code",
   "execution_count": 149,
   "metadata": {},
   "outputs": [],
   "source": [
    "del_columns.append('Census_OSInstallLanguageIdentifier')"
   ]
  },
  {
   "cell_type": "markdown",
   "metadata": {},
   "source": [
    "---\n",
    "## Census_OSUILocaleIdentifier"
   ]
  },
  {
   "cell_type": "code",
   "execution_count": 150,
   "metadata": {},
   "outputs": [
    {
     "data": {
      "text/plain": [
       "Census_OSUILocaleIdentifier\n",
       "31     177983\n",
       "34      58307\n",
       "30      28798\n",
       "125     28001\n",
       "49      24423\n",
       "        ...  \n",
       "43          1\n",
       "40          1\n",
       "1           1\n",
       "33          1\n",
       "141         1\n",
       "Name: count, Length: 92, dtype: int64"
      ]
     },
     "execution_count": 150,
     "metadata": {},
     "output_type": "execute_result"
    }
   ],
   "source": [
    "df[\"Census_OSUILocaleIdentifier\"].value_counts()"
   ]
  },
  {
   "cell_type": "markdown",
   "metadata": {},
   "source": [
    "En base de la correlacion que mantenga con el target, decidiremos si prescindimos de esta columna o no."
   ]
  },
  {
   "cell_type": "code",
   "execution_count": 152,
   "metadata": {},
   "outputs": [
    {
     "data": {
      "text/html": [
       "<div>\n",
       "<style scoped>\n",
       "    .dataframe tbody tr th:only-of-type {\n",
       "        vertical-align: middle;\n",
       "    }\n",
       "\n",
       "    .dataframe tbody tr th {\n",
       "        vertical-align: top;\n",
       "    }\n",
       "\n",
       "    .dataframe thead th {\n",
       "        text-align: right;\n",
       "    }\n",
       "</style>\n",
       "<table border=\"1\" class=\"dataframe\">\n",
       "  <thead>\n",
       "    <tr style=\"text-align: right;\">\n",
       "      <th></th>\n",
       "      <th>Census_OSUILocaleIdentifier</th>\n",
       "      <th>HasDetections</th>\n",
       "    </tr>\n",
       "  </thead>\n",
       "  <tbody>\n",
       "    <tr>\n",
       "      <th>Census_OSUILocaleIdentifier</th>\n",
       "      <td>1.0000</td>\n",
       "      <td>0.0037</td>\n",
       "    </tr>\n",
       "    <tr>\n",
       "      <th>HasDetections</th>\n",
       "      <td>0.0037</td>\n",
       "      <td>1.0000</td>\n",
       "    </tr>\n",
       "  </tbody>\n",
       "</table>\n",
       "</div>"
      ],
      "text/plain": [
       "                             Census_OSUILocaleIdentifier  HasDetections\n",
       "Census_OSUILocaleIdentifier                       1.0000         0.0037\n",
       "HasDetections                                     0.0037         1.0000"
      ]
     },
     "execution_count": 152,
     "metadata": {},
     "output_type": "execute_result"
    }
   ],
   "source": [
    "df[[\"Census_OSUILocaleIdentifier\", \"HasDetections\"]].corr()"
   ]
  },
  {
   "cell_type": "markdown",
   "metadata": {},
   "source": [
    "##### Al igual que con la anterior columna, no llega ni al 1% de correlacion, por lo tanto vamos a eliminar esta columna."
   ]
  },
  {
   "cell_type": "code",
   "execution_count": 153,
   "metadata": {},
   "outputs": [],
   "source": [
    "del_columns.append('Census_OSUILocaleIdentifier')"
   ]
  },
  {
   "cell_type": "markdown",
   "metadata": {},
   "source": [
    "---\n",
    "## Census_OSWUAutoUpdateOptionsName"
   ]
  },
  {
   "cell_type": "code",
   "execution_count": 154,
   "metadata": {},
   "outputs": [
    {
     "data": {
      "text/plain": [
       "Census_OSWUAutoUpdateOptionsName\n",
       "FullAuto                                 222482\n",
       "UNKNOWN                                  140961\n",
       "Notify                                   113507\n",
       "AutoInstallAndRebootAtMaintenanceTime     20731\n",
       "Off                                        1506\n",
       "DownloadNotify                              813\n",
       "Name: count, dtype: int64"
      ]
     },
     "execution_count": 154,
     "metadata": {},
     "output_type": "execute_result"
    }
   ],
   "source": [
    "df[\"Census_OSWUAutoUpdateOptionsName\"].value_counts()"
   ]
  },
  {
   "cell_type": "markdown",
   "metadata": {},
   "source": [
    "##### Esta columna tiene mas sentido mantenerla por que no tiene muchos valores y tiene mas sentido que algo relaciona con actualizaciones del OS tenga relacion con el target."
   ]
  },
  {
   "cell_type": "markdown",
   "metadata": {},
   "source": [
    "---\n",
    "## Census_IsPortableOperatingSystem"
   ]
  },
  {
   "cell_type": "code",
   "execution_count": 155,
   "metadata": {},
   "outputs": [
    {
     "data": {
      "text/plain": [
       "Census_IsPortableOperatingSystem\n",
       "0    499739\n",
       "1       261\n",
       "Name: count, dtype: int64"
      ]
     },
     "execution_count": 155,
     "metadata": {},
     "output_type": "execute_result"
    }
   ],
   "source": [
    "df[\"Census_IsPortableOperatingSystem\"].value_counts()"
   ]
  },
  {
   "cell_type": "markdown",
   "metadata": {},
   "source": [
    "##### Esta columna ademas de no tener nulos (como hemos visto anteriormente) solo contiene 0 y 1."
   ]
  },
  {
   "cell_type": "code",
   "execution_count": 156,
   "metadata": {},
   "outputs": [
    {
     "data": {
      "text/html": [
       "<div>\n",
       "<style scoped>\n",
       "    .dataframe tbody tr th:only-of-type {\n",
       "        vertical-align: middle;\n",
       "    }\n",
       "\n",
       "    .dataframe tbody tr th {\n",
       "        vertical-align: top;\n",
       "    }\n",
       "\n",
       "    .dataframe thead th {\n",
       "        text-align: right;\n",
       "    }\n",
       "</style>\n",
       "<table border=\"1\" class=\"dataframe\">\n",
       "  <thead>\n",
       "    <tr style=\"text-align: right;\">\n",
       "      <th></th>\n",
       "      <th>Census_IsPortableOperatingSystem</th>\n",
       "      <th>HasDetections</th>\n",
       "    </tr>\n",
       "  </thead>\n",
       "  <tbody>\n",
       "    <tr>\n",
       "      <th>Census_IsPortableOperatingSystem</th>\n",
       "      <td>1.0000</td>\n",
       "      <td>0.0008</td>\n",
       "    </tr>\n",
       "    <tr>\n",
       "      <th>HasDetections</th>\n",
       "      <td>0.0008</td>\n",
       "      <td>1.0000</td>\n",
       "    </tr>\n",
       "  </tbody>\n",
       "</table>\n",
       "</div>"
      ],
      "text/plain": [
       "                                  Census_IsPortableOperatingSystem  \\\n",
       "Census_IsPortableOperatingSystem                            1.0000   \n",
       "HasDetections                                               0.0008   \n",
       "\n",
       "                                  HasDetections  \n",
       "Census_IsPortableOperatingSystem         0.0008  \n",
       "HasDetections                            1.0000  "
      ]
     },
     "execution_count": 156,
     "metadata": {},
     "output_type": "execute_result"
    }
   ],
   "source": [
    "df[[\"Census_IsPortableOperatingSystem\", \"HasDetections\"]].corr()"
   ]
  },
  {
   "cell_type": "markdown",
   "metadata": {},
   "source": [
    "##### Lo unico que no me convence es que la correlacion es muy baja. Eliminaremos esta columna ya que no afectara mucho al entrenamiendo del modelo."
   ]
  },
  {
   "cell_type": "code",
   "execution_count": 157,
   "metadata": {},
   "outputs": [],
   "source": [
    "del_columns.append('Census_IsPortableOperatingSystem')"
   ]
  },
  {
   "cell_type": "markdown",
   "metadata": {},
   "source": [
    "---\n",
    "## Census_GenuineStateName"
   ]
  },
  {
   "cell_type": "code",
   "execution_count": 158,
   "metadata": {},
   "outputs": [
    {
     "data": {
      "text/plain": [
       "Census_GenuineStateName\n",
       "IS_GENUINE         441402\n",
       "INVALID_LICENSE     44990\n",
       "OFFLINE             12834\n",
       "UNKNOWN               774\n",
       "Name: count, dtype: int64"
      ]
     },
     "execution_count": 158,
     "metadata": {},
     "output_type": "execute_result"
    }
   ],
   "source": [
    "df[\"Census_GenuineStateName\"].value_counts()"
   ]
  },
  {
   "cell_type": "markdown",
   "metadata": {},
   "source": [
    "Borraremos las obeservaciones que tenga valor `UNKNOWN` ya que asi nos ahorraremos una columna categorica."
   ]
  },
  {
   "cell_type": "code",
   "execution_count": 159,
   "metadata": {},
   "outputs": [
    {
     "data": {
      "text/plain": [
       "Census_GenuineStateName\n",
       "IS_GENUINE         441402\n",
       "INVALID_LICENSE     44990\n",
       "OFFLINE             12834\n",
       "Name: count, dtype: int64"
      ]
     },
     "execution_count": 159,
     "metadata": {},
     "output_type": "execute_result"
    }
   ],
   "source": [
    "df[~df[\"Census_GenuineStateName\"].isin([\"UNKNOWN\"])][\"Census_GenuineStateName\"].value_counts()"
   ]
  },
  {
   "cell_type": "markdown",
   "metadata": {},
   "source": [
    "Aunque los valores estan desbalanceados, haremos pruebas y según los resultados de estas veremos si mantener o no la columna\n",
    "\n",
    "El siguiente punto será hacer un OHE con esta columna"
   ]
  },
  {
   "cell_type": "markdown",
   "metadata": {},
   "source": [
    "---\n",
    "## Census_ActivationChannel"
   ]
  },
  {
   "cell_type": "code",
   "execution_count": 160,
   "metadata": {},
   "outputs": [
    {
     "data": {
      "text/plain": [
       "Census_ActivationChannel\n",
       "Retail            264932\n",
       "OEM:DM            191350\n",
       "Volume:GVLK        25109\n",
       "OEM:NONSLP         17943\n",
       "Volume:MAK           468\n",
       "Retail:TB:Eval       198\n",
       "Name: count, dtype: int64"
      ]
     },
     "execution_count": 160,
     "metadata": {},
     "output_type": "execute_result"
    }
   ],
   "source": [
    "df[\"Census_ActivationChannel\"].value_counts()"
   ]
  },
  {
   "cell_type": "code",
   "execution_count": 161,
   "metadata": {},
   "outputs": [
    {
     "data": {
      "text/plain": [
       "<Axes: >"
      ]
     },
     "execution_count": 161,
     "metadata": {},
     "output_type": "execute_result"
    },
    {
     "data": {
      "image/png": "[encoded data removed]",
      "text/plain": [
       "<Figure size 640x480 with 1 Axes>"
      ]
     },
     "metadata": {},
     "output_type": "display_data"
    }
   ],
   "source": [
    "df[\"Census_ActivationChannel\"].hist()"
   ]
  },
  {
   "cell_type": "markdown",
   "metadata": {},
   "source": [
    "Podemos ver que hay dos valores que predominan. Podriamos prescindir de las pocas observaciones con valores `Volume:MAK` y `Retail:TB:Eval` para asi tener dos columnas catergoricas menos al hacer OHE"
   ]
  },
  {
   "cell_type": "code",
   "execution_count": 162,
   "metadata": {},
   "outputs": [
    {
     "data": {
      "text/plain": [
       "Census_ActivationChannel\n",
       "Retail         264932\n",
       "OEM:DM         191350\n",
       "Volume:GVLK     25109\n",
       "OEM:NONSLP      17943\n",
       "Name: count, dtype: int64"
      ]
     },
     "execution_count": 162,
     "metadata": {},
     "output_type": "execute_result"
    }
   ],
   "source": [
    "df[~df[\"Census_ActivationChannel\"].isin([\"Volume:MAK\", \"Retail:TB:Eval\"])][\"Census_ActivationChannel\"].value_counts()"
   ]
  },
  {
   "cell_type": "markdown",
   "metadata": {},
   "source": [
    "---\n",
    "## Census_IsFlightsDisabled"
   ]
  },
  {
   "cell_type": "code",
   "execution_count": 163,
   "metadata": {},
   "outputs": [
    {
     "data": {
      "text/plain": [
       "Census_IsFlightsDisabled\n",
       "0.0000    491060\n",
       "1.0000         7\n",
       "Name: count, dtype: int64"
      ]
     },
     "execution_count": 163,
     "metadata": {},
     "output_type": "execute_result"
    }
   ],
   "source": [
    "df[\"Census_IsFlightsDisabled\"].value_counts()"
   ]
  },
  {
   "cell_type": "code",
   "execution_count": 164,
   "metadata": {},
   "outputs": [
    {
     "data": {
      "text/html": [
       "<div>\n",
       "<style scoped>\n",
       "    .dataframe tbody tr th:only-of-type {\n",
       "        vertical-align: middle;\n",
       "    }\n",
       "\n",
       "    .dataframe tbody tr th {\n",
       "        vertical-align: top;\n",
       "    }\n",
       "\n",
       "    .dataframe thead th {\n",
       "        text-align: right;\n",
       "    }\n",
       "</style>\n",
       "<table border=\"1\" class=\"dataframe\">\n",
       "  <thead>\n",
       "    <tr style=\"text-align: right;\">\n",
       "      <th></th>\n",
       "      <th>Census_IsFlightsDisabled</th>\n",
       "      <th>HasDetections</th>\n",
       "    </tr>\n",
       "  </thead>\n",
       "  <tbody>\n",
       "    <tr>\n",
       "      <th>Census_IsFlightsDisabled</th>\n",
       "      <td>1.0000</td>\n",
       "      <td>-0.0038</td>\n",
       "    </tr>\n",
       "    <tr>\n",
       "      <th>HasDetections</th>\n",
       "      <td>-0.0038</td>\n",
       "      <td>1.0000</td>\n",
       "    </tr>\n",
       "  </tbody>\n",
       "</table>\n",
       "</div>"
      ],
      "text/plain": [
       "                          Census_IsFlightsDisabled  HasDetections\n",
       "Census_IsFlightsDisabled                    1.0000        -0.0038\n",
       "HasDetections                              -0.0038         1.0000"
      ]
     },
     "execution_count": 164,
     "metadata": {},
     "output_type": "execute_result"
    }
   ],
   "source": [
    "df[[\"Census_IsFlightsDisabled\", \"HasDetections\"]].corr()"
   ]
  },
  {
   "cell_type": "markdown",
   "metadata": {},
   "source": [
    "A parte de que la varianza es casi inexistente, la correlacion es tambien muy baja, por lo tanto eliminaremos esta columna."
   ]
  },
  {
   "cell_type": "code",
   "execution_count": 165,
   "metadata": {},
   "outputs": [],
   "source": [
    "del_columns.append('Census_IsFlightsDisabled')"
   ]
  },
  {
   "cell_type": "markdown",
   "metadata": {},
   "source": [
    "---\n",
    "## Census_FlightRing"
   ]
  },
  {
   "cell_type": "code",
   "execution_count": 166,
   "metadata": {},
   "outputs": [
    {
     "data": {
      "text/plain": [
       "Census_FlightRing\n",
       "Retail      468299\n",
       "NOT_SET      16044\n",
       "Unknown      13701\n",
       "WIS            606\n",
       "RP             583\n",
       "WIF            549\n",
       "Disabled       217\n",
       "OSG              1\n",
       "Name: count, dtype: int64"
      ]
     },
     "execution_count": 166,
     "metadata": {},
     "output_type": "execute_result"
    }
   ],
   "source": [
    "df[\"Census_FlightRing\"].value_counts()"
   ]
  },
  {
   "cell_type": "code",
   "execution_count": 167,
   "metadata": {},
   "outputs": [
    {
     "data": {
      "text/plain": [
       "<Axes: >"
      ]
     },
     "execution_count": 167,
     "metadata": {},
     "output_type": "execute_result"
    },
    {
     "data": {
      "image/png": "[encoded data removed]",
      "text/plain": [
       "<Figure size 640x480 with 1 Axes>"
      ]
     },
     "metadata": {},
     "output_type": "display_data"
    }
   ],
   "source": [
    "df[\"Census_FlightRing\"].hist()"
   ]
  },
  {
   "cell_type": "markdown",
   "metadata": {},
   "source": [
    "Aqui podemos apreciar valores muy desbalanceados y como poca variabilidad. Vamos a eliminar esta columna."
   ]
  },
  {
   "cell_type": "code",
   "execution_count": 168,
   "metadata": {},
   "outputs": [],
   "source": [
    "del_columns.append('Census_FlightRing')"
   ]
  },
  {
   "cell_type": "markdown",
   "metadata": {},
   "source": [
    "---\n",
    "## Census_FirmwareManufacturerIdentifier"
   ]
  },
  {
   "cell_type": "code",
   "execution_count": 169,
   "metadata": {},
   "outputs": [
    {
     "data": {
      "text/plain": [
       "Census_FirmwareManufacturerIdentifier\n",
       "11.0000       3\n",
       "13.0000       1\n",
       "17.0000       2\n",
       "33.0000       1\n",
       "34.0000       1\n",
       "             ..\n",
       "1079.0000    10\n",
       "1080.0000    54\n",
       "1081.0000    11\n",
       "1083.0000    10\n",
       "1084.0000     1\n",
       "Name: count, Length: 303, dtype: int64"
      ]
     },
     "execution_count": 169,
     "metadata": {},
     "output_type": "execute_result"
    }
   ],
   "source": [
    "df[\"Census_FirmwareManufacturerIdentifier\"].value_counts().sort_index()"
   ]
  },
  {
   "cell_type": "code",
   "execution_count": 171,
   "metadata": {},
   "outputs": [
    {
     "data": {
      "text/html": [
       "<div>\n",
       "<style scoped>\n",
       "    .dataframe tbody tr th:only-of-type {\n",
       "        vertical-align: middle;\n",
       "    }\n",
       "\n",
       "    .dataframe tbody tr th {\n",
       "        vertical-align: top;\n",
       "    }\n",
       "\n",
       "    .dataframe thead th {\n",
       "        text-align: right;\n",
       "    }\n",
       "</style>\n",
       "<table border=\"1\" class=\"dataframe\">\n",
       "  <thead>\n",
       "    <tr style=\"text-align: right;\">\n",
       "      <th></th>\n",
       "      <th>Census_FirmwareManufacturerIdentifier</th>\n",
       "      <th>HasDetections</th>\n",
       "    </tr>\n",
       "  </thead>\n",
       "  <tbody>\n",
       "    <tr>\n",
       "      <th>Census_FirmwareManufacturerIdentifier</th>\n",
       "      <td>1.0000</td>\n",
       "      <td>-0.0265</td>\n",
       "    </tr>\n",
       "    <tr>\n",
       "      <th>HasDetections</th>\n",
       "      <td>-0.0265</td>\n",
       "      <td>1.0000</td>\n",
       "    </tr>\n",
       "  </tbody>\n",
       "</table>\n",
       "</div>"
      ],
      "text/plain": [
       "                                       Census_FirmwareManufacturerIdentifier  \\\n",
       "Census_FirmwareManufacturerIdentifier                                 1.0000   \n",
       "HasDetections                                                        -0.0265   \n",
       "\n",
       "                                       HasDetections  \n",
       "Census_FirmwareManufacturerIdentifier        -0.0265  \n",
       "HasDetections                                 1.0000  "
      ]
     },
     "execution_count": 171,
     "metadata": {},
     "output_type": "execute_result"
    }
   ],
   "source": [
    "df[[\"Census_FirmwareManufacturerIdentifier\", \"HasDetections\"]].corr()"
   ]
  },
  {
   "cell_type": "markdown",
   "metadata": {},
   "source": [
    "Podemos apreciar de que la correlacion es minima. La eliminaremos."
   ]
  },
  {
   "cell_type": "code",
   "execution_count": 172,
   "metadata": {},
   "outputs": [],
   "source": [
    "del_columns.append('Census_FirmwareManufacturerIdentifier')"
   ]
  },
  {
   "cell_type": "markdown",
   "metadata": {},
   "source": [
    "---\n",
    "## Census_FirmwareVersionIdentifier"
   ]
  },
  {
   "cell_type": "code",
   "execution_count": 173,
   "metadata": {},
   "outputs": [
    {
     "data": {
      "text/plain": [
       "Census_FirmwareVersionIdentifier\n",
       "10.0000       1\n",
       "23.0000       1\n",
       "33.0000       1\n",
       "37.0000       1\n",
       "38.0000       2\n",
       "             ..\n",
       "72079.0000    1\n",
       "72080.0000    2\n",
       "72087.0000    1\n",
       "72089.0000    1\n",
       "72091.0000    2\n",
       "Name: count, Length: 23569, dtype: int64"
      ]
     },
     "execution_count": 173,
     "metadata": {},
     "output_type": "execute_result"
    }
   ],
   "source": [
    "df[\"Census_FirmwareVersionIdentifier\"].value_counts().sort_index()"
   ]
  },
  {
   "cell_type": "code",
   "execution_count": 175,
   "metadata": {},
   "outputs": [
    {
     "data": {
      "text/html": [
       "<div>\n",
       "<style scoped>\n",
       "    .dataframe tbody tr th:only-of-type {\n",
       "        vertical-align: middle;\n",
       "    }\n",
       "\n",
       "    .dataframe tbody tr th {\n",
       "        vertical-align: top;\n",
       "    }\n",
       "\n",
       "    .dataframe thead th {\n",
       "        text-align: right;\n",
       "    }\n",
       "</style>\n",
       "<table border=\"1\" class=\"dataframe\">\n",
       "  <thead>\n",
       "    <tr style=\"text-align: right;\">\n",
       "      <th></th>\n",
       "      <th>Census_FirmwareVersionIdentifier</th>\n",
       "      <th>HasDetections</th>\n",
       "    </tr>\n",
       "  </thead>\n",
       "  <tbody>\n",
       "    <tr>\n",
       "      <th>Census_FirmwareVersionIdentifier</th>\n",
       "      <td>1.0000</td>\n",
       "      <td>0.0016</td>\n",
       "    </tr>\n",
       "    <tr>\n",
       "      <th>HasDetections</th>\n",
       "      <td>0.0016</td>\n",
       "      <td>1.0000</td>\n",
       "    </tr>\n",
       "  </tbody>\n",
       "</table>\n",
       "</div>"
      ],
      "text/plain": [
       "                                  Census_FirmwareVersionIdentifier  \\\n",
       "Census_FirmwareVersionIdentifier                            1.0000   \n",
       "HasDetections                                               0.0016   \n",
       "\n",
       "                                  HasDetections  \n",
       "Census_FirmwareVersionIdentifier         0.0016  \n",
       "HasDetections                            1.0000  "
      ]
     },
     "execution_count": 175,
     "metadata": {},
     "output_type": "execute_result"
    }
   ],
   "source": [
    "df[[\"Census_FirmwareVersionIdentifier\", \"HasDetections\"]].corr()"
   ]
  },
  {
   "cell_type": "markdown",
   "metadata": {},
   "source": [
    "Una vez mas, tiene poca correlacion. Prescindimos de ella."
   ]
  },
  {
   "cell_type": "code",
   "execution_count": 176,
   "metadata": {},
   "outputs": [],
   "source": [
    "del_columns.append('Census_FirmwareVersionIdentifier')"
   ]
  },
  {
   "cell_type": "markdown",
   "metadata": {},
   "source": [
    "---\n",
    "## Census_IsSecureBootEnabled"
   ]
  },
  {
   "cell_type": "code",
   "execution_count": 177,
   "metadata": {},
   "outputs": [
    {
     "data": {
      "text/plain": [
       "Census_IsSecureBootEnabled\n",
       "0    257281\n",
       "1    242719\n",
       "Name: count, dtype: int64"
      ]
     },
     "execution_count": 177,
     "metadata": {},
     "output_type": "execute_result"
    }
   ],
   "source": [
    "df[\"Census_IsSecureBootEnabled\"].value_counts().sort_index()"
   ]
  },
  {
   "cell_type": "code",
   "execution_count": 179,
   "metadata": {},
   "outputs": [
    {
     "data": {
      "text/html": [
       "<div>\n",
       "<style scoped>\n",
       "    .dataframe tbody tr th:only-of-type {\n",
       "        vertical-align: middle;\n",
       "    }\n",
       "\n",
       "    .dataframe tbody tr th {\n",
       "        vertical-align: top;\n",
       "    }\n",
       "\n",
       "    .dataframe thead th {\n",
       "        text-align: right;\n",
       "    }\n",
       "</style>\n",
       "<table border=\"1\" class=\"dataframe\">\n",
       "  <thead>\n",
       "    <tr style=\"text-align: right;\">\n",
       "      <th></th>\n",
       "      <th>Census_IsSecureBootEnabled</th>\n",
       "      <th>HasDetections</th>\n",
       "    </tr>\n",
       "  </thead>\n",
       "  <tbody>\n",
       "    <tr>\n",
       "      <th>Census_IsSecureBootEnabled</th>\n",
       "      <td>1.0000</td>\n",
       "      <td>-0.0025</td>\n",
       "    </tr>\n",
       "    <tr>\n",
       "      <th>HasDetections</th>\n",
       "      <td>-0.0025</td>\n",
       "      <td>1.0000</td>\n",
       "    </tr>\n",
       "  </tbody>\n",
       "</table>\n",
       "</div>"
      ],
      "text/plain": [
       "                            Census_IsSecureBootEnabled  HasDetections\n",
       "Census_IsSecureBootEnabled                      1.0000        -0.0025\n",
       "HasDetections                                  -0.0025         1.0000"
      ]
     },
     "execution_count": 179,
     "metadata": {},
     "output_type": "execute_result"
    }
   ],
   "source": [
    "df[[\"Census_IsSecureBootEnabled\", \"HasDetections\"]].corr()"
   ]
  },
  {
   "cell_type": "code",
   "execution_count": 180,
   "metadata": {},
   "outputs": [
    {
     "data": {
      "text/plain": [
       "<Axes: >"
      ]
     },
     "execution_count": 180,
     "metadata": {},
     "output_type": "execute_result"
    },
    {
     "data": {
      "image/png": "[encoded data removed]",
      "text/plain": [
       "<Figure size 640x480 with 1 Axes>"
      ]
     },
     "metadata": {},
     "output_type": "display_data"
    }
   ],
   "source": [
    "df[\"Census_IsSecureBootEnabled\"].hist()"
   ]
  },
  {
   "cell_type": "markdown",
   "metadata": {},
   "source": [
    "Aqui podemos ver que a parte de tener una baja variabilidad en los datos, la relacion con el target es muy baja. Eliminaremos esta columna."
   ]
  },
  {
   "cell_type": "code",
   "execution_count": 181,
   "metadata": {},
   "outputs": [],
   "source": [
    "del_columns.append('Census_IsSecureBootEnabled')"
   ]
  },
  {
   "cell_type": "markdown",
   "metadata": {},
   "source": [
    "---\n",
    "## Census_IsVirtualDevice"
   ]
  },
  {
   "cell_type": "code",
   "execution_count": 182,
   "metadata": {},
   "outputs": [
    {
     "data": {
      "text/plain": [
       "Census_IsVirtualDevice\n",
       "0.0000    495572\n",
       "1.0000      3527\n",
       "Name: count, dtype: int64"
      ]
     },
     "execution_count": 182,
     "metadata": {},
     "output_type": "execute_result"
    }
   ],
   "source": [
    "df[\"Census_IsVirtualDevice\"].value_counts().sort_index()"
   ]
  },
  {
   "cell_type": "code",
   "execution_count": 183,
   "metadata": {},
   "outputs": [
    {
     "data": {
      "text/plain": [
       "<Axes: >"
      ]
     },
     "execution_count": 183,
     "metadata": {},
     "output_type": "execute_result"
    },
    {
     "data": {
      "image/png": "[encoded data removed]",
      "text/plain": [
       "<Figure size 640x480 with 1 Axes>"
      ]
     },
     "metadata": {},
     "output_type": "display_data"
    }
   ],
   "source": [
    "df[\"Census_IsVirtualDevice\"].hist()"
   ]
  },
  {
   "cell_type": "code",
   "execution_count": 184,
   "metadata": {},
   "outputs": [
    {
     "data": {
      "text/html": [
       "<div>\n",
       "<style scoped>\n",
       "    .dataframe tbody tr th:only-of-type {\n",
       "        vertical-align: middle;\n",
       "    }\n",
       "\n",
       "    .dataframe tbody tr th {\n",
       "        vertical-align: top;\n",
       "    }\n",
       "\n",
       "    .dataframe thead th {\n",
       "        text-align: right;\n",
       "    }\n",
       "</style>\n",
       "<table border=\"1\" class=\"dataframe\">\n",
       "  <thead>\n",
       "    <tr style=\"text-align: right;\">\n",
       "      <th></th>\n",
       "      <th>Census_IsVirtualDevice</th>\n",
       "      <th>HasDetections</th>\n",
       "    </tr>\n",
       "  </thead>\n",
       "  <tbody>\n",
       "    <tr>\n",
       "      <th>Census_IsVirtualDevice</th>\n",
       "      <td>1.0000</td>\n",
       "      <td>-0.0503</td>\n",
       "    </tr>\n",
       "    <tr>\n",
       "      <th>HasDetections</th>\n",
       "      <td>-0.0503</td>\n",
       "      <td>1.0000</td>\n",
       "    </tr>\n",
       "  </tbody>\n",
       "</table>\n",
       "</div>"
      ],
      "text/plain": [
       "                        Census_IsVirtualDevice  HasDetections\n",
       "Census_IsVirtualDevice                  1.0000        -0.0503\n",
       "HasDetections                          -0.0503         1.0000"
      ]
     },
     "execution_count": 184,
     "metadata": {},
     "output_type": "execute_result"
    }
   ],
   "source": [
    "df[[\"Census_IsVirtualDevice\", \"HasDetections\"]].corr()"
   ]
  },
  {
   "cell_type": "markdown",
   "metadata": {},
   "source": [
    "Siendo la correlacion tan baja y el balance de datos tan descompensado tambien vamos a eliminar esta columna."
   ]
  },
  {
   "cell_type": "code",
   "execution_count": 185,
   "metadata": {},
   "outputs": [],
   "source": [
    "del_columns.append('Census_IsVirtualDevice')"
   ]
  },
  {
   "cell_type": "markdown",
   "metadata": {},
   "source": [
    "---\n",
    "## Census_IsTouchEnabled"
   ]
  },
  {
   "cell_type": "code",
   "execution_count": 186,
   "metadata": {},
   "outputs": [
    {
     "data": {
      "text/plain": [
       "Census_IsTouchEnabled\n",
       "0    437283\n",
       "1     62717\n",
       "Name: count, dtype: int64"
      ]
     },
     "execution_count": 186,
     "metadata": {},
     "output_type": "execute_result"
    }
   ],
   "source": [
    "df[\"Census_IsTouchEnabled\"].value_counts().sort_index()"
   ]
  },
  {
   "cell_type": "code",
   "execution_count": 187,
   "metadata": {},
   "outputs": [
    {
     "data": {
      "text/plain": [
       "<Axes: >"
      ]
     },
     "execution_count": 187,
     "metadata": {},
     "output_type": "execute_result"
    },
    {
     "data": {
      "image/png": "[encoded data removed]",
      "text/plain": [
       "<Figure size 640x480 with 1 Axes>"
      ]
     },
     "metadata": {},
     "output_type": "display_data"
    }
   ],
   "source": [
    "df[\"Census_IsTouchEnabled\"].hist()"
   ]
  },
  {
   "cell_type": "code",
   "execution_count": 188,
   "metadata": {},
   "outputs": [
    {
     "data": {
      "text/html": [
       "<div>\n",
       "<style scoped>\n",
       "    .dataframe tbody tr th:only-of-type {\n",
       "        vertical-align: middle;\n",
       "    }\n",
       "\n",
       "    .dataframe tbody tr th {\n",
       "        vertical-align: top;\n",
       "    }\n",
       "\n",
       "    .dataframe thead th {\n",
       "        text-align: right;\n",
       "    }\n",
       "</style>\n",
       "<table border=\"1\" class=\"dataframe\">\n",
       "  <thead>\n",
       "    <tr style=\"text-align: right;\">\n",
       "      <th></th>\n",
       "      <th>Census_IsTouchEnabled</th>\n",
       "      <th>HasDetections</th>\n",
       "    </tr>\n",
       "  </thead>\n",
       "  <tbody>\n",
       "    <tr>\n",
       "      <th>Census_IsTouchEnabled</th>\n",
       "      <td>1.0000</td>\n",
       "      <td>-0.0406</td>\n",
       "    </tr>\n",
       "    <tr>\n",
       "      <th>HasDetections</th>\n",
       "      <td>-0.0406</td>\n",
       "      <td>1.0000</td>\n",
       "    </tr>\n",
       "  </tbody>\n",
       "</table>\n",
       "</div>"
      ],
      "text/plain": [
       "                       Census_IsTouchEnabled  HasDetections\n",
       "Census_IsTouchEnabled                 1.0000        -0.0406\n",
       "HasDetections                        -0.0406         1.0000"
      ]
     },
     "execution_count": 188,
     "metadata": {},
     "output_type": "execute_result"
    }
   ],
   "source": [
    "df[[\"Census_IsTouchEnabled\", \"HasDetections\"]].corr()"
   ]
  },
  {
   "cell_type": "markdown",
   "metadata": {},
   "source": [
    "No hay mucha correlacion con el target y los valores estan descompensados. Eliminamos la columna."
   ]
  },
  {
   "cell_type": "code",
   "execution_count": 189,
   "metadata": {},
   "outputs": [],
   "source": [
    "del_columns.append('Census_IsTouchEnabled')"
   ]
  },
  {
   "cell_type": "markdown",
   "metadata": {},
   "source": [
    "---\n",
    "## Census_IsPenCapable"
   ]
  },
  {
   "cell_type": "code",
   "execution_count": 190,
   "metadata": {},
   "outputs": [
    {
     "data": {
      "text/plain": [
       "Census_IsPenCapable\n",
       "0    481128\n",
       "1     18872\n",
       "Name: count, dtype: int64"
      ]
     },
     "execution_count": 190,
     "metadata": {},
     "output_type": "execute_result"
    }
   ],
   "source": [
    "df[\"Census_IsPenCapable\"].value_counts().sort_index()"
   ]
  },
  {
   "cell_type": "code",
   "execution_count": 191,
   "metadata": {},
   "outputs": [
    {
     "data": {
      "text/plain": [
       "<Axes: >"
      ]
     },
     "execution_count": 191,
     "metadata": {},
     "output_type": "execute_result"
    },
    {
     "data": {
      "image/png": "[encoded data removed]",
      "text/plain": [
       "<Figure size 640x480 with 1 Axes>"
      ]
     },
     "metadata": {},
     "output_type": "display_data"
    }
   ],
   "source": [
    "df[\"Census_IsPenCapable\"].hist()"
   ]
  },
  {
   "cell_type": "code",
   "execution_count": 192,
   "metadata": {},
   "outputs": [
    {
     "data": {
      "text/html": [
       "<div>\n",
       "<style scoped>\n",
       "    .dataframe tbody tr th:only-of-type {\n",
       "        vertical-align: middle;\n",
       "    }\n",
       "\n",
       "    .dataframe tbody tr th {\n",
       "        vertical-align: top;\n",
       "    }\n",
       "\n",
       "    .dataframe thead th {\n",
       "        text-align: right;\n",
       "    }\n",
       "</style>\n",
       "<table border=\"1\" class=\"dataframe\">\n",
       "  <thead>\n",
       "    <tr style=\"text-align: right;\">\n",
       "      <th></th>\n",
       "      <th>Census_IsPenCapable</th>\n",
       "      <th>HasDetections</th>\n",
       "    </tr>\n",
       "  </thead>\n",
       "  <tbody>\n",
       "    <tr>\n",
       "      <th>Census_IsPenCapable</th>\n",
       "      <td>1.0000</td>\n",
       "      <td>-0.0169</td>\n",
       "    </tr>\n",
       "    <tr>\n",
       "      <th>HasDetections</th>\n",
       "      <td>-0.0169</td>\n",
       "      <td>1.0000</td>\n",
       "    </tr>\n",
       "  </tbody>\n",
       "</table>\n",
       "</div>"
      ],
      "text/plain": [
       "                     Census_IsPenCapable  HasDetections\n",
       "Census_IsPenCapable               1.0000        -0.0169\n",
       "HasDetections                    -0.0169         1.0000"
      ]
     },
     "execution_count": 192,
     "metadata": {},
     "output_type": "execute_result"
    }
   ],
   "source": [
    "df[[\"Census_IsPenCapable\", \"HasDetections\"]].corr()"
   ]
  },
  {
   "cell_type": "markdown",
   "metadata": {},
   "source": [
    "No hay mucha correlacion con el target y los valores estan descompensados. Eliminamos la columna."
   ]
  },
  {
   "cell_type": "code",
   "execution_count": 193,
   "metadata": {},
   "outputs": [],
   "source": [
    "del_columns.append('Census_IsPenCapable')"
   ]
  },
  {
   "cell_type": "markdown",
   "metadata": {},
   "source": [
    "---\n",
    "## Census_IsAlwaysOnAlwaysConnectedCapable"
   ]
  },
  {
   "cell_type": "code",
   "execution_count": 194,
   "metadata": {},
   "outputs": [
    {
     "data": {
      "text/plain": [
       "Census_IsAlwaysOnAlwaysConnectedCapable\n",
       "0.0000    467569\n",
       "1.0000     28391\n",
       "Name: count, dtype: int64"
      ]
     },
     "execution_count": 194,
     "metadata": {},
     "output_type": "execute_result"
    }
   ],
   "source": [
    "df[\"Census_IsAlwaysOnAlwaysConnectedCapable\"].value_counts().sort_index()"
   ]
  },
  {
   "cell_type": "code",
   "execution_count": 195,
   "metadata": {},
   "outputs": [
    {
     "data": {
      "text/plain": [
       "<Axes: >"
      ]
     },
     "execution_count": 195,
     "metadata": {},
     "output_type": "execute_result"
    },
    {
     "data": {
      "image/png": "[encoded data removed]",
      "text/plain": [
       "<Figure size 640x480 with 1 Axes>"
      ]
     },
     "metadata": {},
     "output_type": "display_data"
    }
   ],
   "source": [
    "df[\"Census_IsAlwaysOnAlwaysConnectedCapable\"].hist()"
   ]
  },
  {
   "cell_type": "code",
   "execution_count": 196,
   "metadata": {},
   "outputs": [
    {
     "data": {
      "text/html": [
       "<div>\n",
       "<style scoped>\n",
       "    .dataframe tbody tr th:only-of-type {\n",
       "        vertical-align: middle;\n",
       "    }\n",
       "\n",
       "    .dataframe tbody tr th {\n",
       "        vertical-align: top;\n",
       "    }\n",
       "\n",
       "    .dataframe thead th {\n",
       "        text-align: right;\n",
       "    }\n",
       "</style>\n",
       "<table border=\"1\" class=\"dataframe\">\n",
       "  <thead>\n",
       "    <tr style=\"text-align: right;\">\n",
       "      <th></th>\n",
       "      <th>Census_IsAlwaysOnAlwaysConnectedCapable</th>\n",
       "      <th>HasDetections</th>\n",
       "    </tr>\n",
       "  </thead>\n",
       "  <tbody>\n",
       "    <tr>\n",
       "      <th>Census_IsAlwaysOnAlwaysConnectedCapable</th>\n",
       "      <td>1.0000</td>\n",
       "      <td>-0.0631</td>\n",
       "    </tr>\n",
       "    <tr>\n",
       "      <th>HasDetections</th>\n",
       "      <td>-0.0631</td>\n",
       "      <td>1.0000</td>\n",
       "    </tr>\n",
       "  </tbody>\n",
       "</table>\n",
       "</div>"
      ],
      "text/plain": [
       "                                         Census_IsAlwaysOnAlwaysConnectedCapable  \\\n",
       "Census_IsAlwaysOnAlwaysConnectedCapable                                   1.0000   \n",
       "HasDetections                                                            -0.0631   \n",
       "\n",
       "                                         HasDetections  \n",
       "Census_IsAlwaysOnAlwaysConnectedCapable        -0.0631  \n",
       "HasDetections                                   1.0000  "
      ]
     },
     "execution_count": 196,
     "metadata": {},
     "output_type": "execute_result"
    }
   ],
   "source": [
    "df[[\"Census_IsAlwaysOnAlwaysConnectedCapable\", \"HasDetections\"]].corr()"
   ]
  },
  {
   "cell_type": "markdown",
   "metadata": {},
   "source": [
    "No hay mucha correlacion con el target y los valores estan descompensados. Eliminamos la columna."
   ]
  },
  {
   "cell_type": "code",
   "execution_count": 197,
   "metadata": {},
   "outputs": [],
   "source": [
    "del_columns.append('Census_IsAlwaysOnAlwaysConnectedCapable')"
   ]
  },
  {
   "cell_type": "markdown",
   "metadata": {},
   "source": [
    "---\n",
    "## Wdft_IsGamer"
   ]
  },
  {
   "cell_type": "code",
   "execution_count": 198,
   "metadata": {},
   "outputs": [
    {
     "data": {
      "text/plain": [
       "Wdft_IsGamer\n",
       "0.0000    345835\n",
       "1.0000    137215\n",
       "Name: count, dtype: int64"
      ]
     },
     "execution_count": 198,
     "metadata": {},
     "output_type": "execute_result"
    }
   ],
   "source": [
    "df[\"Wdft_IsGamer\"].value_counts().sort_index()"
   ]
  },
  {
   "cell_type": "code",
   "execution_count": 200,
   "metadata": {},
   "outputs": [
    {
     "data": {
      "text/plain": [
       "<Axes: >"
      ]
     },
     "execution_count": 200,
     "metadata": {},
     "output_type": "execute_result"
    },
    {
     "data": {
      "image/png": "[encoded data removed]",
      "text/plain": [
       "<Figure size 640x480 with 1 Axes>"
      ]
     },
     "metadata": {},
     "output_type": "display_data"
    }
   ],
   "source": [
    "df[\"Wdft_IsGamer\"].hist()"
   ]
  },
  {
   "cell_type": "code",
   "execution_count": 201,
   "metadata": {},
   "outputs": [
    {
     "data": {
      "text/html": [
       "<div>\n",
       "<style scoped>\n",
       "    .dataframe tbody tr th:only-of-type {\n",
       "        vertical-align: middle;\n",
       "    }\n",
       "\n",
       "    .dataframe tbody tr th {\n",
       "        vertical-align: top;\n",
       "    }\n",
       "\n",
       "    .dataframe thead th {\n",
       "        text-align: right;\n",
       "    }\n",
       "</style>\n",
       "<table border=\"1\" class=\"dataframe\">\n",
       "  <thead>\n",
       "    <tr style=\"text-align: right;\">\n",
       "      <th></th>\n",
       "      <th>Wdft_IsGamer</th>\n",
       "      <th>HasDetections</th>\n",
       "    </tr>\n",
       "  </thead>\n",
       "  <tbody>\n",
       "    <tr>\n",
       "      <th>Wdft_IsGamer</th>\n",
       "      <td>1.0000</td>\n",
       "      <td>0.0569</td>\n",
       "    </tr>\n",
       "    <tr>\n",
       "      <th>HasDetections</th>\n",
       "      <td>0.0569</td>\n",
       "      <td>1.0000</td>\n",
       "    </tr>\n",
       "  </tbody>\n",
       "</table>\n",
       "</div>"
      ],
      "text/plain": [
       "               Wdft_IsGamer  HasDetections\n",
       "Wdft_IsGamer         1.0000         0.0569\n",
       "HasDetections        0.0569         1.0000"
      ]
     },
     "execution_count": 201,
     "metadata": {},
     "output_type": "execute_result"
    }
   ],
   "source": [
    "df[[\"Wdft_IsGamer\", \"HasDetections\"]].corr()"
   ]
  },
  {
   "cell_type": "markdown",
   "metadata": {},
   "source": [
    "No hay mucha correlacion con el target y los valores estan descompensados. Eliminamos la columna."
   ]
  },
  {
   "cell_type": "code",
   "execution_count": 202,
   "metadata": {},
   "outputs": [],
   "source": [
    "del_columns.append('Wdft_IsGamer')"
   ]
  },
  {
   "cell_type": "markdown",
   "metadata": {},
   "source": [
    "---\n",
    "## Wdft_RegionIdentifier"
   ]
  },
  {
   "cell_type": "code",
   "execution_count": 203,
   "metadata": {},
   "outputs": [
    {
     "data": {
      "text/plain": [
       "Wdft_RegionIdentifier\n",
       "1.0000      68692\n",
       "2.0000       4470\n",
       "3.0000      73069\n",
       "4.0000       7586\n",
       "5.0000      11466\n",
       "6.0000       8750\n",
       "7.0000      33362\n",
       "8.0000      15761\n",
       "9.0000       4521\n",
       "10.0000    100392\n",
       "11.0000     75612\n",
       "12.0000      9115\n",
       "13.0000     12681\n",
       "14.0000       227\n",
       "15.0000     57346\n",
       "Name: count, dtype: int64"
      ]
     },
     "execution_count": 203,
     "metadata": {},
     "output_type": "execute_result"
    }
   ],
   "source": [
    "df[\"Wdft_RegionIdentifier\"].value_counts().sort_index()"
   ]
  },
  {
   "cell_type": "code",
   "execution_count": 204,
   "metadata": {},
   "outputs": [
    {
     "data": {
      "text/plain": [
       "<Axes: >"
      ]
     },
     "execution_count": 204,
     "metadata": {},
     "output_type": "execute_result"
    },
    {
     "data": {
      "image/png": "[encoded data removed]",
      "text/plain": [
       "<Figure size 640x480 with 1 Axes>"
      ]
     },
     "metadata": {},
     "output_type": "display_data"
    }
   ],
   "source": [
    "df[\"Wdft_RegionIdentifier\"].hist()"
   ]
  },
  {
   "cell_type": "code",
   "execution_count": 205,
   "metadata": {},
   "outputs": [
    {
     "data": {
      "text/html": [
       "<div>\n",
       "<style scoped>\n",
       "    .dataframe tbody tr th:only-of-type {\n",
       "        vertical-align: middle;\n",
       "    }\n",
       "\n",
       "    .dataframe tbody tr th {\n",
       "        vertical-align: top;\n",
       "    }\n",
       "\n",
       "    .dataframe thead th {\n",
       "        text-align: right;\n",
       "    }\n",
       "</style>\n",
       "<table border=\"1\" class=\"dataframe\">\n",
       "  <thead>\n",
       "    <tr style=\"text-align: right;\">\n",
       "      <th></th>\n",
       "      <th>Wdft_RegionIdentifier</th>\n",
       "      <th>HasDetections</th>\n",
       "    </tr>\n",
       "  </thead>\n",
       "  <tbody>\n",
       "    <tr>\n",
       "      <th>Wdft_RegionIdentifier</th>\n",
       "      <td>1.0000</td>\n",
       "      <td>-0.0217</td>\n",
       "    </tr>\n",
       "    <tr>\n",
       "      <th>HasDetections</th>\n",
       "      <td>-0.0217</td>\n",
       "      <td>1.0000</td>\n",
       "    </tr>\n",
       "  </tbody>\n",
       "</table>\n",
       "</div>"
      ],
      "text/plain": [
       "                       Wdft_RegionIdentifier  HasDetections\n",
       "Wdft_RegionIdentifier                 1.0000        -0.0217\n",
       "HasDetections                        -0.0217         1.0000"
      ]
     },
     "execution_count": 205,
     "metadata": {},
     "output_type": "execute_result"
    }
   ],
   "source": [
    "df[[\"Wdft_RegionIdentifier\", \"HasDetections\"]].corr()"
   ]
  },
  {
   "cell_type": "markdown",
   "metadata": {},
   "source": [
    "No hay una relacion significativa con el target. Eliminamos la columna."
   ]
  },
  {
   "cell_type": "code",
   "execution_count": 207,
   "metadata": {},
   "outputs": [],
   "source": [
    "del_columns.append('Wdft_RegionIdentifier')"
   ]
  }
 ],
 "metadata": {
  "kernelspec": {
   "display_name": "Python 3",
   "language": "python",
   "name": "python3"
  },
  "language_info": {
   "codemirror_mode": {
    "name": "ipython",
    "version": 3
   },
   "file_extension": ".py",
   "mimetype": "text/x-python",
   "name": "python",
   "nbconvert_exporter": "python",
   "pygments_lexer": "ipython3",
   "version": "3.12.2"
  }
 },
 "nbformat": 4,
 "nbformat_minor": 2
}
