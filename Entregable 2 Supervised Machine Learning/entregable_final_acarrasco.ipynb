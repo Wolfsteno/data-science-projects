{
 "cells": [
  {
   "cell_type": "code",
   "execution_count": 1,
   "metadata": {
    "ExecuteTime": {
     "end_time": "2025-02-03T23:01:10.610301Z",
     "start_time": "2025-02-03T23:01:10.607196Z"
    }
   },
   "outputs": [],
   "source": [
    "import pandas as pd\n",
    "import seaborn as sns\n",
    "import matplotlib.pyplot as plt\n",
    "from scipy.stats import pointbiserialr\n",
    "import numpy as np"
   ]
  },
  {
   "cell_type": "code",
   "execution_count": null,
   "metadata": {
    "ExecuteTime": {
     "end_time": "2025-02-03T23:01:27.991049Z",
     "start_time": "2025-02-03T23:01:10.649870Z"
    }
   },
   "outputs": [],
   "source": [
    "del_columns = []\n",
    "pd.set_option('display.float_format', '{:.4f}'.format)\n",
    "\n",
    "url = \"https://www.dropbox.com/scl/fi/uvv7j1bragzqkz9zwyvj0/sample_mmp.csv?rlkey=i0mlaxzq6e3blblfu9mhrdpsm&e=1&dl=1\"\n",
    "df = pd.read_csv(url)\n",
    "\n",
    "df"
   ]
  },
  {
   "cell_type": "code",
   "execution_count": 3,
   "metadata": {},
   "outputs": [],
   "source": [
    "fran_columns = list(df.columns[0:21])\n",
    "ignacio_columns = list(df.columns[21:42])\n",
    "marc_columns = list(df.columns[42:63])\n",
    "alvaro_columns = list(df.columns[63:85])"
   ]
  },
  {
   "cell_type": "code",
   "execution_count": null,
   "metadata": {
    "ExecuteTime": {
     "end_time": "2025-02-03T23:01:28.404859Z",
     "start_time": "2025-02-03T23:01:28.038075Z"
    }
   },
   "outputs": [],
   "source": [
    "df.info()"
   ]
  },
  {
   "cell_type": "code",
   "execution_count": null,
   "metadata": {
    "ExecuteTime": {
     "end_time": "2025-02-03T23:01:29.470536Z",
     "start_time": "2025-02-03T23:01:28.457492Z"
    }
   },
   "outputs": [],
   "source": [
    "df.describe().T"
   ]
  },
  {
   "cell_type": "markdown",
   "metadata": {},
   "source": [
    "## Parte JUANFRAN"
   ]
  },
  {
   "cell_type": "markdown",
   "metadata": {},
   "source": [
    "### \"Unnamed: 0\""
   ]
  },
  {
   "cell_type": "code",
   "execution_count": null,
   "metadata": {
    "ExecuteTime": {
     "end_time": "2025-02-03T23:01:29.606267Z",
     "start_time": "2025-02-03T23:01:29.519377Z"
    }
   },
   "outputs": [],
   "source": [
    "df[\"Unnamed: 0\"].value_counts()"
   ]
  },
  {
   "cell_type": "code",
   "execution_count": null,
   "metadata": {
    "ExecuteTime": {
     "end_time": "2025-02-03T23:01:29.780251Z",
     "start_time": "2025-02-03T23:01:29.749364Z"
    }
   },
   "outputs": [],
   "source": [
    "df[\"Unnamed: 0\"].nunique()"
   ]
  },
  {
   "cell_type": "markdown",
   "metadata": {},
   "source": [
    "Podemos ver que la columna \"Unnamed: 0\" contiene valores unicos que no se repiten, por lo que podemos suponer que a lo mejor puede ser algun tipo de indice interno que tiene la BBDD, por lo que prescindiremos de esta columna"
   ]
  },
  {
   "cell_type": "code",
   "execution_count": 8,
   "metadata": {
    "ExecuteTime": {
     "end_time": "2025-02-03T23:01:29.941709Z",
     "start_time": "2025-02-03T23:01:29.938801Z"
    }
   },
   "outputs": [],
   "source": [
    "del_columns.append(\"Unnamed: 0\")"
   ]
  },
  {
   "cell_type": "markdown",
   "metadata": {},
   "source": [
    "### \"MachineIdentifier\""
   ]
  },
  {
   "cell_type": "code",
   "execution_count": null,
   "metadata": {
    "ExecuteTime": {
     "end_time": "2025-02-03T23:01:30.588732Z",
     "start_time": "2025-02-03T23:01:30.139809Z"
    }
   },
   "outputs": [],
   "source": [
    "df[\"MachineIdentifier\"].value_counts()"
   ]
  },
  {
   "cell_type": "code",
   "execution_count": null,
   "metadata": {
    "ExecuteTime": {
     "end_time": "2025-02-03T23:01:30.727239Z",
     "start_time": "2025-02-03T23:01:30.619040Z"
    }
   },
   "outputs": [],
   "source": [
    "df[\"MachineIdentifier\"].nunique()"
   ]
  },
  {
   "cell_type": "markdown",
   "metadata": {},
   "source": [
    "Podemos ver que en esta columna ocurre algo parecido, todos los valores son distintos y por el nombre de la columna podemos saber que contiene el identificador de los dispositivos, por lo que prescindiremos de esta columna"
   ]
  },
  {
   "cell_type": "code",
   "execution_count": 11,
   "metadata": {
    "ExecuteTime": {
     "end_time": "2025-02-03T23:01:30.812605Z",
     "start_time": "2025-02-03T23:01:30.809145Z"
    }
   },
   "outputs": [],
   "source": [
    "del_columns.append(\"MachineIdentifier\")"
   ]
  },
  {
   "cell_type": "markdown",
   "metadata": {},
   "source": [
    "### \"ProductName\""
   ]
  },
  {
   "cell_type": "code",
   "execution_count": null,
   "metadata": {
    "ExecuteTime": {
     "end_time": "2025-02-03T23:01:30.915815Z",
     "start_time": "2025-02-03T23:01:30.893552Z"
    }
   },
   "outputs": [],
   "source": [
    "df[\"ProductName\"].value_counts()"
   ]
  },
  {
   "cell_type": "code",
   "execution_count": null,
   "metadata": {
    "ExecuteTime": {
     "end_time": "2025-02-03T23:01:31.053415Z",
     "start_time": "2025-02-03T23:01:31.029561Z"
    }
   },
   "outputs": [],
   "source": [
    "df[\"ProductName\"].value_counts()/df.shape[0]  # càlculo de proporciones"
   ]
  },
  {
   "cell_type": "markdown",
   "metadata": {},
   "source": [
    "Podemos ver que tenemos 3 valores distintos, pero el valor win8defender aparece 98% de las veces"
   ]
  },
  {
   "cell_type": "code",
   "execution_count": null,
   "metadata": {
    "ExecuteTime": {
     "end_time": "2025-02-03T23:01:31.349250Z",
     "start_time": "2025-02-03T23:01:31.186195Z"
    }
   },
   "outputs": [],
   "source": [
    "df[\"ProductName\"].hist()"
   ]
  },
  {
   "cell_type": "markdown",
   "metadata": {},
   "source": [
    "#### DELETE para ver"
   ]
  },
  {
   "cell_type": "markdown",
   "metadata": {},
   "source": [
    "### \"EngineVersion\""
   ]
  },
  {
   "cell_type": "code",
   "execution_count": null,
   "metadata": {
    "ExecuteTime": {
     "end_time": "2025-02-03T23:01:31.511451Z",
     "start_time": "2025-02-03T23:01:31.488032Z"
    }
   },
   "outputs": [],
   "source": [
    "df[\"EngineVersion\"].value_counts().sort_index()"
   ]
  },
  {
   "cell_type": "markdown",
   "metadata": {},
   "source": [
    "Vemos que hay varios valores en esta columna, ahora comprobaremos si el EngineVersion tiene que ver con la columna ProductName"
   ]
  },
  {
   "cell_type": "code",
   "execution_count": null,
   "metadata": {
    "ExecuteTime": {
     "end_time": "2025-02-03T23:01:31.674250Z",
     "start_time": "2025-02-03T23:01:31.630298Z"
    }
   },
   "outputs": [],
   "source": [
    "df[df[\"ProductName\"] == \"mse\"][\"EngineVersion\"].value_counts()"
   ]
  },
  {
   "cell_type": "code",
   "execution_count": null,
   "metadata": {
    "ExecuteTime": {
     "end_time": "2025-02-03T23:01:32.002287Z",
     "start_time": "2025-02-03T23:01:31.834985Z"
    }
   },
   "outputs": [],
   "source": [
    "df[df[\"EngineVersion\"] == \"1.1.15100.1\"]"
   ]
  },
  {
   "cell_type": "markdown",
   "metadata": {},
   "source": [
    "Por lo que podemos ver no tienen nada que ver por lo que puede llegar a ser interesante mantenerla, además, podríamos elimnar el ultimo número de la versión para poder agruparlas un poco más"
   ]
  },
  {
   "cell_type": "code",
   "execution_count": null,
   "metadata": {
    "ExecuteTime": {
     "end_time": "2025-02-03T23:01:33.336252Z",
     "start_time": "2025-02-03T23:01:32.135015Z"
    }
   },
   "outputs": [],
   "source": [
    "df[\"EngineVersion\"].str.rsplit(\".\", n=1).str[0]"
   ]
  },
  {
   "cell_type": "code",
   "execution_count": 19,
   "metadata": {
    "ExecuteTime": {
     "end_time": "2025-02-03T23:01:34.228586Z",
     "start_time": "2025-02-03T23:01:33.400950Z"
    }
   },
   "outputs": [],
   "source": [
    "df[\"EngineVersion_trimmed\"] = df[\"EngineVersion\"].str.rsplit(\".\", n=1).str[0]\n",
    "df[\"EngineVersion_trimmed\"] = df[\"EngineVersion_trimmed\"].str.rsplit(\".\", n=1).str[-1]\n",
    "\n",
    "del_columns.append(\"EngineVersion\")"
   ]
  },
  {
   "cell_type": "code",
   "execution_count": null,
   "metadata": {
    "ExecuteTime": {
     "end_time": "2025-02-03T23:01:34.309886Z",
     "start_time": "2025-02-03T23:01:34.271598Z"
    }
   },
   "outputs": [],
   "source": [
    "df[\"EngineVersion_trimmed\"].value_counts().sort_index()"
   ]
  },
  {
   "cell_type": "markdown",
   "metadata": {},
   "source": [
    "### \"AppVersion\""
   ]
  },
  {
   "cell_type": "code",
   "execution_count": null,
   "metadata": {
    "ExecuteTime": {
     "end_time": "2025-02-03T23:01:34.399217Z",
     "start_time": "2025-02-03T23:01:34.371782Z"
    }
   },
   "outputs": [],
   "source": [
    "df[\"AppVersion\"].value_counts().sort_index()"
   ]
  },
  {
   "cell_type": "code",
   "execution_count": null,
   "metadata": {
    "ExecuteTime": {
     "end_time": "2025-02-03T23:01:34.600676Z",
     "start_time": "2025-02-03T23:01:34.572496Z"
    }
   },
   "outputs": [],
   "source": [
    "df[df[\"ProductName\"] == \"mse\"][\"AppVersion\"].value_counts()"
   ]
  },
  {
   "cell_type": "code",
   "execution_count": null,
   "metadata": {
    "ExecuteTime": {
     "end_time": "2025-02-03T23:01:34.856941Z",
     "start_time": "2025-02-03T23:01:34.794303Z"
    }
   },
   "outputs": [],
   "source": [
    "df[df[\"AppVersion\"] == \"4.10.209.0\"]"
   ]
  },
  {
   "cell_type": "markdown",
   "metadata": {},
   "source": [
    "Podemos ver que el AppVersion y el ProductName no tienen relación por lo que haremos lo mismo que con la columna EngineVersion"
   ]
  },
  {
   "cell_type": "code",
   "execution_count": 24,
   "metadata": {
    "ExecuteTime": {
     "end_time": "2025-02-03T23:01:36.230821Z",
     "start_time": "2025-02-03T23:01:35.035897Z"
    }
   },
   "outputs": [],
   "source": [
    "df[\"AppVersion_trimmed\"] = df[\"AppVersion\"].str.split(\".\").str[1]\n",
    "\n",
    "del_columns.append(\"AppVersion\")"
   ]
  },
  {
   "cell_type": "code",
   "execution_count": null,
   "metadata": {
    "ExecuteTime": {
     "end_time": "2025-02-03T23:01:36.300972Z",
     "start_time": "2025-02-03T23:01:36.273675Z"
    }
   },
   "outputs": [],
   "source": [
    "df[\"EngineVersion_trimmed\"].value_counts().sort_index()"
   ]
  },
  {
   "cell_type": "markdown",
   "metadata": {},
   "source": [
    "### \"AvSigVersion\""
   ]
  },
  {
   "cell_type": "code",
   "execution_count": null,
   "metadata": {
    "ExecuteTime": {
     "end_time": "2025-02-03T23:01:36.618026Z",
     "start_time": "2025-02-03T23:01:36.578960Z"
    }
   },
   "outputs": [],
   "source": [
    "df[\"AvSigVersion\"].value_counts().sort_index()"
   ]
  },
  {
   "cell_type": "code",
   "execution_count": null,
   "metadata": {
    "ExecuteTime": {
     "end_time": "2025-02-03T23:01:36.839119Z",
     "start_time": "2025-02-03T23:01:36.788975Z"
    }
   },
   "outputs": [],
   "source": [
    "df.groupby('AvSigVersion')['HasDetections'].mean().sort_values(ascending=False)"
   ]
  },
  {
   "cell_type": "markdown",
   "metadata": {},
   "source": [
    "Vamos a comprobar cuantos de los valores terminan con \".0\""
   ]
  },
  {
   "cell_type": "code",
   "execution_count": null,
   "metadata": {
    "ExecuteTime": {
     "end_time": "2025-02-03T23:01:37.448644Z",
     "start_time": "2025-02-03T23:01:37.014617Z"
    }
   },
   "outputs": [],
   "source": [
    "df[df[\"AvSigVersion\"].str.endswith(\".0\")][\"AvSigVersion\"].count() / df.shape[0]"
   ]
  },
  {
   "cell_type": "markdown",
   "metadata": {},
   "source": [
    "Con este codigo filtro por los valores de la columna \"AvSigVersion\" que terminen en \".0\" y cuento cuantos valores recupero y lo divido entre el total de filas del dataset.\n",
    "\n",
    "Y podemos ver que todos los valores de esta columna terminan con \".0\" (el 100%), por lo que eliminaré el \".0\""
   ]
  },
  {
   "cell_type": "code",
   "execution_count": 29,
   "metadata": {
    "ExecuteTime": {
     "end_time": "2025-02-03T23:01:38.348789Z",
     "start_time": "2025-02-03T23:01:37.483492Z"
    }
   },
   "outputs": [],
   "source": [
    "df[\"AvSigVersion_trimmed\"] = df[\"AvSigVersion\"].str.rsplit(\".\", n=1).str[0]\n",
    "\n",
    "del_columns.append(\"AvSigVersion\")"
   ]
  },
  {
   "cell_type": "code",
   "execution_count": null,
   "metadata": {
    "ExecuteTime": {
     "end_time": "2025-02-03T23:01:38.394097Z",
     "start_time": "2025-02-03T23:01:38.367241Z"
    }
   },
   "outputs": [],
   "source": [
    "df[\"AvSigVersion_trimmed\"].value_counts().sort_index()"
   ]
  },
  {
   "cell_type": "markdown",
   "metadata": {},
   "source": [
    "Comprobamos que todos empiezan por 1."
   ]
  },
  {
   "cell_type": "code",
   "execution_count": null,
   "metadata": {},
   "outputs": [],
   "source": [
    "df[~df['AvSigVersion_trimmed'].str.startswith(\"1.\")]['AvSigVersion_trimmed']"
   ]
  },
  {
   "cell_type": "markdown",
   "metadata": {},
   "source": [
    "Vemos que no empiezan con 1. y tienen de valor 0.0.0, por lo cual los eliminamos"
   ]
  },
  {
   "cell_type": "code",
   "execution_count": null,
   "metadata": {},
   "outputs": [],
   "source": [
    "df[df['AvSigVersion_trimmed'].str.startswith(\"1.\")]['AvSigVersion_trimmed']"
   ]
  },
  {
   "cell_type": "code",
   "execution_count": null,
   "metadata": {},
   "outputs": [],
   "source": [
    "df = df[df['AvSigVersion_trimmed'].str.startswith(\"1.\")]\n",
    "df['AvSigVersion_trimmed'] = df['AvSigVersion_trimmed'].apply(lambda x: x.split(\".\")[1])"
   ]
  },
  {
   "cell_type": "markdown",
   "metadata": {},
   "source": [
    "### \"IsBeta\""
   ]
  },
  {
   "cell_type": "code",
   "execution_count": null,
   "metadata": {
    "ExecuteTime": {
     "end_time": "2025-02-03T23:01:38.456035Z",
     "start_time": "2025-02-03T23:01:38.448408Z"
    }
   },
   "outputs": [],
   "source": [
    "df[\"IsBeta\"].value_counts()"
   ]
  },
  {
   "cell_type": "markdown",
   "metadata": {},
   "source": [
    "Podemos ver que el valor True de \"IsBeta\" es tan solo 1 contra el resto de datos, por lo que prescendiremos de esta columna"
   ]
  },
  {
   "cell_type": "code",
   "execution_count": 35,
   "metadata": {
    "ExecuteTime": {
     "end_time": "2025-02-03T23:01:38.546249Z",
     "start_time": "2025-02-03T23:01:38.543212Z"
    }
   },
   "outputs": [],
   "source": [
    "del_columns.append(\"IsBeta\")"
   ]
  },
  {
   "cell_type": "markdown",
   "metadata": {},
   "source": [
    "### \"RtpStateBitfield\""
   ]
  },
  {
   "cell_type": "code",
   "execution_count": null,
   "metadata": {
    "ExecuteTime": {
     "end_time": "2025-02-03T23:01:38.778263Z",
     "start_time": "2025-02-03T23:01:38.769899Z"
    }
   },
   "outputs": [],
   "source": [
    "df[\"RtpStateBitfield\"].value_counts()"
   ]
  },
  {
   "cell_type": "code",
   "execution_count": null,
   "metadata": {
    "ExecuteTime": {
     "end_time": "2025-02-03T23:01:38.960418Z",
     "start_time": "2025-02-03T23:01:38.945905Z"
    }
   },
   "outputs": [],
   "source": [
    "print(df[[\"RtpStateBitfield\", \"HasDetections\"]].corr())"
   ]
  },
  {
   "cell_type": "markdown",
   "metadata": {},
   "source": [
    "Por su baja correlación con el target prescindiremos de esta columna"
   ]
  },
  {
   "cell_type": "code",
   "execution_count": 38,
   "metadata": {
    "ExecuteTime": {
     "end_time": "2025-02-03T23:01:39.095243Z",
     "start_time": "2025-02-03T23:01:39.091138Z"
    }
   },
   "outputs": [],
   "source": [
    "del_columns.append(\"RtpStateBitfield\")"
   ]
  },
  {
   "cell_type": "markdown",
   "metadata": {},
   "source": [
    "### \"IsSxsPassiveMode\""
   ]
  },
  {
   "cell_type": "code",
   "execution_count": null,
   "metadata": {
    "ExecuteTime": {
     "end_time": "2025-02-03T23:01:39.280993Z",
     "start_time": "2025-02-03T23:01:39.273900Z"
    }
   },
   "outputs": [],
   "source": [
    "df[\"IsSxsPassiveMode\"].value_counts()"
   ]
  },
  {
   "cell_type": "code",
   "execution_count": null,
   "metadata": {
    "ExecuteTime": {
     "end_time": "2025-02-03T23:01:39.483657Z",
     "start_time": "2025-02-03T23:01:39.475308Z"
    }
   },
   "outputs": [],
   "source": [
    "df[\"IsSxsPassiveMode\"].value_counts()/ df.shape[0]"
   ]
  },
  {
   "cell_type": "markdown",
   "metadata": {},
   "source": [
    "Podemos ver que el valor True de esta columna representa menos del 2% del dataframe"
   ]
  },
  {
   "cell_type": "code",
   "execution_count": null,
   "metadata": {
    "ExecuteTime": {
     "end_time": "2025-02-03T23:01:39.607108Z",
     "start_time": "2025-02-03T23:01:39.595080Z"
    }
   },
   "outputs": [],
   "source": [
    "print(df[[\"IsSxsPassiveMode\", \"HasDetections\"]].corr())"
   ]
  },
  {
   "cell_type": "markdown",
   "metadata": {},
   "source": [
    "No esta balanceado y tiene una correlación debil con el target, por lo que prescindiremos de esta columna"
   ]
  },
  {
   "cell_type": "code",
   "execution_count": 42,
   "metadata": {
    "ExecuteTime": {
     "end_time": "2025-02-03T23:01:39.790347Z",
     "start_time": "2025-02-03T23:01:39.786772Z"
    }
   },
   "outputs": [],
   "source": [
    "del_columns.append(\"IsSxsPassiveMode\")"
   ]
  },
  {
   "cell_type": "markdown",
   "metadata": {},
   "source": [
    "### \"DefaultBrowsersIdentifier\""
   ]
  },
  {
   "cell_type": "code",
   "execution_count": null,
   "metadata": {
    "ExecuteTime": {
     "end_time": "2025-02-03T23:01:39.967379Z",
     "start_time": "2025-02-03T23:01:39.960373Z"
    }
   },
   "outputs": [],
   "source": [
    "df[\"DefaultBrowsersIdentifier\"].value_counts()"
   ]
  },
  {
   "cell_type": "code",
   "execution_count": null,
   "metadata": {
    "ExecuteTime": {
     "end_time": "2025-02-03T23:01:40.085511Z",
     "start_time": "2025-02-03T23:01:40.070869Z"
    }
   },
   "outputs": [],
   "source": [
    "print(df[[\"DefaultBrowsersIdentifier\", \"HasDetections\"]].corr())"
   ]
  },
  {
   "cell_type": "markdown",
   "metadata": {},
   "source": [
    "Por la baja correlación con el target, esta columna será eliminada"
   ]
  },
  {
   "cell_type": "code",
   "execution_count": 45,
   "metadata": {
    "ExecuteTime": {
     "end_time": "2025-02-03T23:01:40.176742Z",
     "start_time": "2025-02-03T23:01:40.173522Z"
    }
   },
   "outputs": [],
   "source": [
    "del_columns.append(\"DefaultBrowsersIdentifier\")"
   ]
  },
  {
   "cell_type": "markdown",
   "metadata": {},
   "source": [
    "### \"AVProductStatesIdentifier\""
   ]
  },
  {
   "cell_type": "code",
   "execution_count": null,
   "metadata": {
    "ExecuteTime": {
     "end_time": "2025-02-03T23:01:40.337082Z",
     "start_time": "2025-02-03T23:01:40.325282Z"
    }
   },
   "outputs": [],
   "source": [
    "df[\"AVProductStatesIdentifier\"].value_counts()"
   ]
  },
  {
   "cell_type": "code",
   "execution_count": null,
   "metadata": {
    "ExecuteTime": {
     "end_time": "2025-02-03T23:01:40.449901Z",
     "start_time": "2025-02-03T23:01:40.435789Z"
    }
   },
   "outputs": [],
   "source": [
    "print(df[[\"AVProductStatesIdentifier\", \"HasDetections\"]].corr())"
   ]
  },
  {
   "cell_type": "markdown",
   "metadata": {},
   "source": [
    "Mantendremos la columna temporalmente y probaremos entrenar al modelo con y sin esta columna"
   ]
  },
  {
   "cell_type": "markdown",
   "metadata": {},
   "source": [
    "Al mirar la info del dataset vimos que esta columna contenia nulos"
   ]
  },
  {
   "cell_type": "code",
   "execution_count": null,
   "metadata": {
    "ExecuteTime": {
     "end_time": "2025-02-03T23:01:40.587947Z",
     "start_time": "2025-02-03T23:01:40.582790Z"
    }
   },
   "outputs": [],
   "source": [
    "df[\"AVProductStatesIdentifier\"].isna().sum()/df.shape[0]"
   ]
  },
  {
   "cell_type": "markdown",
   "metadata": {},
   "source": [
    "Podemos ver que menos del 1% de los datos en esta columna es nulo, por lo que borraremos las filas que contienen nulo"
   ]
  },
  {
   "cell_type": "code",
   "execution_count": null,
   "metadata": {
    "ExecuteTime": {
     "end_time": "2025-02-03T23:01:40.941526Z",
     "start_time": "2025-02-03T23:01:40.709030Z"
    }
   },
   "outputs": [],
   "source": [
    "df.dropna(subset=[\"AVProductStatesIdentifier\"], inplace=True)"
   ]
  },
  {
   "cell_type": "code",
   "execution_count": null,
   "metadata": {
    "ExecuteTime": {
     "end_time": "2025-02-03T23:01:41.100441Z",
     "start_time": "2025-02-03T23:01:40.959236Z"
    }
   },
   "outputs": [],
   "source": [
    "df[\"AVProductStatesIdentifier\"].hist()"
   ]
  },
  {
   "cell_type": "markdown",
   "metadata": {},
   "source": [
    "### \"AVProductsInstalled\""
   ]
  },
  {
   "cell_type": "code",
   "execution_count": null,
   "metadata": {
    "ExecuteTime": {
     "end_time": "2025-02-03T23:01:41.186253Z",
     "start_time": "2025-02-03T23:01:41.175304Z"
    }
   },
   "outputs": [],
   "source": [
    "df[\"AVProductsInstalled\"].value_counts()"
   ]
  },
  {
   "cell_type": "code",
   "execution_count": null,
   "metadata": {
    "ExecuteTime": {
     "end_time": "2025-02-03T23:01:41.277970Z",
     "start_time": "2025-02-03T23:01:41.263891Z"
    }
   },
   "outputs": [],
   "source": [
    "print(df[[\"AVProductsInstalled\", \"HasDetections\"]].corr())"
   ]
  },
  {
   "cell_type": "markdown",
   "metadata": {},
   "source": [
    "Esta variable podría resultar interesante, aun siendo muy poca correlación negativa, es interesante ver que en algunos casos al tener más antivirus instalados pues se detectan menos virus"
   ]
  },
  {
   "cell_type": "markdown",
   "metadata": {},
   "source": [
    "Anteriormente al mirar la info del dataset, vimos que esta columna tenía nulos"
   ]
  },
  {
   "cell_type": "code",
   "execution_count": null,
   "metadata": {
    "ExecuteTime": {
     "end_time": "2025-02-03T23:01:41.363858Z",
     "start_time": "2025-02-03T23:01:41.358394Z"
    }
   },
   "outputs": [],
   "source": [
    "df[\"AVProductsInstalled\"].isna().sum()"
   ]
  },
  {
   "cell_type": "markdown",
   "metadata": {},
   "source": [
    "Ahora contiene 0% de nulos, así que podemos suponer que las filas con nulos en la columna \"AVProductStatesIdentifier\" coincidian con las de esta columna, ya que ambas tenían 1938 nulos"
   ]
  },
  {
   "cell_type": "code",
   "execution_count": null,
   "metadata": {
    "ExecuteTime": {
     "end_time": "2025-02-03T23:01:41.637532Z",
     "start_time": "2025-02-03T23:01:41.513941Z"
    }
   },
   "outputs": [],
   "source": [
    "df[\"AVProductsInstalled\"].hist()"
   ]
  },
  {
   "cell_type": "markdown",
   "metadata": {},
   "source": [
    "### \"AVProductsEnabled\""
   ]
  },
  {
   "cell_type": "code",
   "execution_count": null,
   "metadata": {
    "ExecuteTime": {
     "end_time": "2025-02-03T23:01:41.689293Z",
     "start_time": "2025-02-03T23:01:41.681115Z"
    }
   },
   "outputs": [],
   "source": [
    "df[\"AVProductsEnabled\"].value_counts()"
   ]
  },
  {
   "cell_type": "code",
   "execution_count": null,
   "metadata": {
    "ExecuteTime": {
     "end_time": "2025-02-03T23:01:41.787128Z",
     "start_time": "2025-02-03T23:01:41.774941Z"
    }
   },
   "outputs": [],
   "source": [
    "print(df[[\"AVProductsEnabled\", \"HasDetections\"]].corr())"
   ]
  },
  {
   "cell_type": "code",
   "execution_count": null,
   "metadata": {
    "ExecuteTime": {
     "end_time": "2025-02-03T23:01:41.872694Z",
     "start_time": "2025-02-03T23:01:41.859127Z"
    }
   },
   "outputs": [],
   "source": [
    "print(df[[\"AVProductsEnabled\", \"AVProductsInstalled\"]].corr())"
   ]
  },
  {
   "cell_type": "markdown",
   "metadata": {},
   "source": [
    "Tiene muy baja relación con el target pero es algo más alta (casi 30%) de correlación con AVProductsInstalled, por lo que podemos mantenerla temporalmente y hacer pruebas"
   ]
  },
  {
   "cell_type": "code",
   "execution_count": null,
   "metadata": {
    "ExecuteTime": {
     "end_time": "2025-02-03T23:01:42.031209Z",
     "start_time": "2025-02-03T23:01:42.024958Z"
    }
   },
   "outputs": [],
   "source": [
    "df[\"AVProductsEnabled\"].isna().sum()/df.shape[0]"
   ]
  },
  {
   "cell_type": "markdown",
   "metadata": {},
   "source": [
    "Ahora contiene 0% de nulos, así que podemos suponer que las filas con nulos en las 2 ultimas columnas coincidian con las de esta columna, ya que las 3 tenían 1938 nulos"
   ]
  },
  {
   "cell_type": "code",
   "execution_count": null,
   "metadata": {
    "ExecuteTime": {
     "end_time": "2025-02-03T23:01:42.241498Z",
     "start_time": "2025-02-03T23:01:42.115498Z"
    }
   },
   "outputs": [],
   "source": [
    "df[\"AVProductsEnabled\"].hist()"
   ]
  },
  {
   "cell_type": "markdown",
   "metadata": {},
   "source": [
    "### \"HasTpm\""
   ]
  },
  {
   "cell_type": "code",
   "execution_count": null,
   "metadata": {
    "ExecuteTime": {
     "end_time": "2025-02-03T23:01:42.280354Z",
     "start_time": "2025-02-03T23:01:42.273302Z"
    }
   },
   "outputs": [],
   "source": [
    "df[\"HasTpm\"].value_counts()"
   ]
  },
  {
   "cell_type": "code",
   "execution_count": null,
   "metadata": {
    "ExecuteTime": {
     "end_time": "2025-02-03T23:01:42.361892Z",
     "start_time": "2025-02-03T23:01:42.354319Z"
    }
   },
   "outputs": [],
   "source": [
    "df[\"HasTpm\"].value_counts()/df.shape[0]"
   ]
  },
  {
   "cell_type": "code",
   "execution_count": null,
   "metadata": {
    "ExecuteTime": {
     "end_time": "2025-02-03T23:01:42.489424Z",
     "start_time": "2025-02-03T23:01:42.475504Z"
    }
   },
   "outputs": [],
   "source": [
    "print(df[[\"HasTpm\", \"HasDetections\"]].corr())"
   ]
  },
  {
   "cell_type": "markdown",
   "metadata": {},
   "source": [
    "Al ver que hay un fuerte desequilibrio en cuanto a los valores y que su correlación con el target es muy debil, prescindiremos de la columna"
   ]
  },
  {
   "cell_type": "code",
   "execution_count": 63,
   "metadata": {
    "ExecuteTime": {
     "end_time": "2025-02-03T23:01:42.696266Z",
     "start_time": "2025-02-03T23:01:42.693431Z"
    }
   },
   "outputs": [],
   "source": [
    "del_columns.append(\"HasTpm\")"
   ]
  },
  {
   "cell_type": "markdown",
   "metadata": {},
   "source": [
    "### \"CountryIdentifier\""
   ]
  },
  {
   "cell_type": "code",
   "execution_count": null,
   "metadata": {
    "ExecuteTime": {
     "end_time": "2025-02-03T23:01:42.837530Z",
     "start_time": "2025-02-03T23:01:42.831507Z"
    }
   },
   "outputs": [],
   "source": [
    "df[\"CountryIdentifier\"].value_counts()"
   ]
  },
  {
   "cell_type": "code",
   "execution_count": null,
   "metadata": {
    "ExecuteTime": {
     "end_time": "2025-02-03T23:01:42.938441Z",
     "start_time": "2025-02-03T23:01:42.925410Z"
    }
   },
   "outputs": [],
   "source": [
    "print(df[[\"CountryIdentifier\", \"HasDetections\"]].corr())"
   ]
  },
  {
   "cell_type": "markdown",
   "metadata": {},
   "source": [
    "Por la baja correlación con el target, esta columna será eliminada"
   ]
  },
  {
   "cell_type": "code",
   "execution_count": 66,
   "metadata": {
    "ExecuteTime": {
     "end_time": "2025-02-03T23:01:43.069409Z",
     "start_time": "2025-02-03T23:01:43.064345Z"
    }
   },
   "outputs": [],
   "source": [
    "del_columns.append(\"CountryIdentifier\")"
   ]
  },
  {
   "cell_type": "markdown",
   "metadata": {},
   "source": [
    "### \"CityIdentifier\""
   ]
  },
  {
   "cell_type": "code",
   "execution_count": null,
   "metadata": {
    "ExecuteTime": {
     "end_time": "2025-02-03T23:01:43.226804Z",
     "start_time": "2025-02-03T23:01:43.200250Z"
    }
   },
   "outputs": [],
   "source": [
    "df[\"CityIdentifier\"].value_counts()"
   ]
  },
  {
   "cell_type": "code",
   "execution_count": null,
   "metadata": {
    "ExecuteTime": {
     "end_time": "2025-02-03T23:01:43.324223Z",
     "start_time": "2025-02-03T23:01:43.318889Z"
    }
   },
   "outputs": [],
   "source": [
    "df[\"CityIdentifier\"].isna().sum()/df.shape[0]"
   ]
  },
  {
   "cell_type": "code",
   "execution_count": null,
   "metadata": {
    "ExecuteTime": {
     "end_time": "2025-02-03T23:01:43.458354Z",
     "start_time": "2025-02-03T23:01:43.446401Z"
    }
   },
   "outputs": [],
   "source": [
    "print(df[[\"CityIdentifier\", \"HasDetections\"]].corr())"
   ]
  },
  {
   "cell_type": "markdown",
   "metadata": {},
   "source": [
    "Por la baja correlación con el target, esta columna será eliminada"
   ]
  },
  {
   "cell_type": "code",
   "execution_count": 70,
   "metadata": {
    "ExecuteTime": {
     "end_time": "2025-02-03T23:01:43.629464Z",
     "start_time": "2025-02-03T23:01:43.625495Z"
    }
   },
   "outputs": [],
   "source": [
    "del_columns.append(\"CityIdentifier\")"
   ]
  },
  {
   "cell_type": "markdown",
   "metadata": {},
   "source": [
    "### \"OrganizationIdentifier\""
   ]
  },
  {
   "cell_type": "code",
   "execution_count": null,
   "metadata": {
    "ExecuteTime": {
     "end_time": "2025-02-03T23:01:43.699869Z",
     "start_time": "2025-02-03T23:01:43.691028Z"
    }
   },
   "outputs": [],
   "source": [
    "df[\"OrganizationIdentifier\"].value_counts()"
   ]
  },
  {
   "cell_type": "code",
   "execution_count": null,
   "metadata": {
    "ExecuteTime": {
     "end_time": "2025-02-03T23:01:43.772167Z",
     "start_time": "2025-02-03T23:01:43.767453Z"
    }
   },
   "outputs": [],
   "source": [
    "df[\"OrganizationIdentifier\"].isna().sum()/df.shape[0]"
   ]
  },
  {
   "cell_type": "markdown",
   "metadata": {},
   "source": [
    "Podemos ver que el 30% de esta columna es nulo, por lo que antes de valorar si eliminarla o no, comprobaremos su correlación con el target"
   ]
  },
  {
   "cell_type": "code",
   "execution_count": null,
   "metadata": {
    "ExecuteTime": {
     "end_time": "2025-02-03T23:01:43.902352Z",
     "start_time": "2025-02-03T23:01:43.889405Z"
    }
   },
   "outputs": [],
   "source": [
    "print(df[[\"OrganizationIdentifier\", \"HasDetections\"]].corr())"
   ]
  },
  {
   "cell_type": "markdown",
   "metadata": {},
   "source": [
    "Al tener una correlación tan baja suponemos que la columna probablemente no tenga un impacto significativo, por lo que prescindiremos de la columna"
   ]
  },
  {
   "cell_type": "code",
   "execution_count": 74,
   "metadata": {
    "ExecuteTime": {
     "end_time": "2025-02-03T23:01:43.987929Z",
     "start_time": "2025-02-03T23:01:43.984276Z"
    }
   },
   "outputs": [],
   "source": [
    "del_columns.append(\"OrganizationIdentifier\")"
   ]
  },
  {
   "cell_type": "markdown",
   "metadata": {},
   "source": [
    "### \"GeoNameIdentifier\""
   ]
  },
  {
   "cell_type": "code",
   "execution_count": null,
   "metadata": {
    "ExecuteTime": {
     "end_time": "2025-02-03T23:01:44.135621Z",
     "start_time": "2025-02-03T23:01:44.126463Z"
    }
   },
   "outputs": [],
   "source": [
    "df[\"GeoNameIdentifier\"].value_counts()"
   ]
  },
  {
   "cell_type": "code",
   "execution_count": null,
   "metadata": {
    "ExecuteTime": {
     "end_time": "2025-02-03T23:01:44.227522Z",
     "start_time": "2025-02-03T23:01:44.213857Z"
    }
   },
   "outputs": [],
   "source": [
    "print(df[[\"GeoNameIdentifier\", \"HasDetections\"]].corr())"
   ]
  },
  {
   "cell_type": "markdown",
   "metadata": {},
   "source": [
    "Por la baja correlación con el target, esta columna será eliminada"
   ]
  },
  {
   "cell_type": "code",
   "execution_count": 77,
   "metadata": {
    "ExecuteTime": {
     "end_time": "2025-02-03T23:01:44.370458Z",
     "start_time": "2025-02-03T23:01:44.367721Z"
    }
   },
   "outputs": [],
   "source": [
    "del_columns.append(\"GeoNameIdentifier\")"
   ]
  },
  {
   "cell_type": "markdown",
   "metadata": {},
   "source": [
    "### \"LocaleEnglishNameIdentifier\""
   ]
  },
  {
   "cell_type": "code",
   "execution_count": null,
   "metadata": {
    "ExecuteTime": {
     "end_time": "2025-02-03T23:01:44.511283Z",
     "start_time": "2025-02-03T23:01:44.503813Z"
    }
   },
   "outputs": [],
   "source": [
    "df[\"LocaleEnglishNameIdentifier\"].value_counts()"
   ]
  },
  {
   "cell_type": "code",
   "execution_count": null,
   "metadata": {
    "ExecuteTime": {
     "end_time": "2025-02-03T23:01:44.617256Z",
     "start_time": "2025-02-03T23:01:44.604278Z"
    }
   },
   "outputs": [],
   "source": [
    "print(df[[\"LocaleEnglishNameIdentifier\", \"HasDetections\"]].corr())"
   ]
  },
  {
   "cell_type": "markdown",
   "metadata": {},
   "source": [
    "Por la baja correlación con el target, esta columna será eliminada"
   ]
  },
  {
   "cell_type": "code",
   "execution_count": 80,
   "metadata": {
    "ExecuteTime": {
     "end_time": "2025-02-03T23:01:44.773715Z",
     "start_time": "2025-02-03T23:01:44.770177Z"
    }
   },
   "outputs": [],
   "source": [
    "del_columns.append(\"LocaleEnglishNameIdentifier\")"
   ]
  },
  {
   "cell_type": "markdown",
   "metadata": {},
   "source": [
    "### \"Platform\""
   ]
  },
  {
   "cell_type": "code",
   "execution_count": null,
   "metadata": {
    "ExecuteTime": {
     "end_time": "2025-02-03T23:01:44.920687Z",
     "start_time": "2025-02-03T23:01:44.899890Z"
    }
   },
   "outputs": [],
   "source": [
    "df[\"Platform\"].value_counts()"
   ]
  },
  {
   "cell_type": "code",
   "execution_count": null,
   "metadata": {
    "ExecuteTime": {
     "end_time": "2025-02-03T23:01:45.172923Z",
     "start_time": "2025-02-03T23:01:45.014552Z"
    }
   },
   "outputs": [],
   "source": [
    "df[\"Platform\"].hist()"
   ]
  },
  {
   "cell_type": "markdown",
   "metadata": {},
   "source": [
    "Aunque los valores estan muy desbalanceados, haremos pruebas y según los resultados de estas veremos si mantener o no la columna\n",
    "\n",
    "El siguiente punto será hacer un OHE con esta columna"
   ]
  },
  {
   "cell_type": "code",
   "execution_count": 83,
   "metadata": {
    "ExecuteTime": {
     "end_time": "2025-02-03T23:01:45.800749Z",
     "start_time": "2025-02-03T23:01:45.248261Z"
    }
   },
   "outputs": [],
   "source": [
    "df = pd.get_dummies(df, columns=[\"Platform\"], prefix=\"Platform\")"
   ]
  },
  {
   "cell_type": "markdown",
   "metadata": {},
   "source": [
    "### \"Processor\""
   ]
  },
  {
   "cell_type": "code",
   "execution_count": null,
   "metadata": {
    "ExecuteTime": {
     "end_time": "2025-02-03T23:01:45.840303Z",
     "start_time": "2025-02-03T23:01:45.820362Z"
    }
   },
   "outputs": [],
   "source": [
    "df[\"Processor\"].value_counts()"
   ]
  },
  {
   "cell_type": "code",
   "execution_count": null,
   "metadata": {
    "ExecuteTime": {
     "end_time": "2025-02-03T23:01:46.036412Z",
     "start_time": "2025-02-03T23:01:45.888872Z"
    }
   },
   "outputs": [],
   "source": [
    "df[\"Processor\"].hist()"
   ]
  },
  {
   "cell_type": "markdown",
   "metadata": {},
   "source": [
    "Aunque los valores estan desbalanceados, haremos pruebas y según los resultados de estas veremos si mantener o no la columna\n",
    "\n",
    "El siguiente punto será hacer un OHE con esta columna"
   ]
  },
  {
   "cell_type": "code",
   "execution_count": 86,
   "metadata": {
    "ExecuteTime": {
     "end_time": "2025-02-03T23:01:46.334133Z",
     "start_time": "2025-02-03T23:01:46.088534Z"
    }
   },
   "outputs": [],
   "source": [
    "df = df[df[\"Processor\"]!=\"arm64\"]"
   ]
  },
  {
   "cell_type": "code",
   "execution_count": 87,
   "metadata": {
    "ExecuteTime": {
     "end_time": "2025-02-03T23:01:46.704750Z",
     "start_time": "2025-02-03T23:01:46.338578Z"
    }
   },
   "outputs": [],
   "source": [
    "df['Processor'] = df['Processor'].apply(lambda x: 1 if x==\"x86\" else 0)"
   ]
  },
  {
   "cell_type": "markdown",
   "metadata": {},
   "source": [
    "## Parte MARC\n"
   ]
  },
  {
   "cell_type": "code",
   "execution_count": null,
   "metadata": {
    "ExecuteTime": {
     "end_time": "2025-02-03T23:01:47.312411Z",
     "start_time": "2025-02-03T23:01:47.307636Z"
    }
   },
   "outputs": [],
   "source": [
    "list(df.columns[42:63])"
   ]
  },
  {
   "cell_type": "markdown",
   "metadata": {},
   "source": [
    "Columnas a revisar:\n",
    "['Census_ProcessorClass',\n",
    " 'Census_PrimaryDiskTotalCapacity',\n",
    " 'Census_PrimaryDiskTypeName',\n",
    " 'Census_SystemVolumeTotalCapacity',\n",
    " 'Census_HasOpticalDiskDrive',\n",
    " 'Census_TotalPhysicalRAM',\n",
    " 'Census_ChassisTypeName',\n",
    " 'Census_InternalPrimaryDiagonalDisplaySizeInInches',\n",
    " 'Census_InternalPrimaryDisplayResolutionHorizontal',\n",
    " 'Census_InternalPrimaryDisplayResolutionVertical',\n",
    " 'Census_PowerPlatformRoleName',\n",
    " 'Census_InternalBatteryType',\n",
    " 'Census_InternalBatteryNumberOfCharges',\n",
    " 'Census_OSVersion',\n",
    " 'Census_OSArchitecture',\n",
    " 'Census_OSBranch',\n",
    " 'Census_OSBuildNumber',\n",
    " 'Census_OSBuildRevision',\n",
    " 'Census_OSEdition',\n",
    " 'Census_OSSkuName',\n",
    " 'Census_OSInstallTypeName']"
   ]
  },
  {
   "cell_type": "code",
   "execution_count": null,
   "metadata": {
    "ExecuteTime": {
     "end_time": "2025-02-03T23:01:47.387075Z",
     "start_time": "2025-02-03T23:01:47.383567Z"
    }
   },
   "outputs": [],
   "source": [
    "len(df)"
   ]
  },
  {
   "cell_type": "markdown",
   "metadata": {},
   "source": [
    "### \"Census_ProcessorClass\"\n",
    "Descripción: \"Clase\" del procesador del dispositivo"
   ]
  },
  {
   "cell_type": "code",
   "execution_count": null,
   "metadata": {
    "ExecuteTime": {
     "end_time": "2025-02-03T23:01:47.486315Z",
     "start_time": "2025-02-03T23:01:47.474918Z"
    }
   },
   "outputs": [],
   "source": [
    "df[\"Census_ProcessorClass\"].value_counts(dropna=False)"
   ]
  },
  {
   "cell_type": "code",
   "execution_count": 91,
   "metadata": {
    "ExecuteTime": {
     "end_time": "2025-02-03T23:01:47.529555Z",
     "start_time": "2025-02-03T23:01:47.525384Z"
    }
   },
   "outputs": [],
   "source": [
    "# 497_918 / 500_000 son nulos, por lo que eliminaremos la columna\n",
    "del_columns.append(\"Census_ProcessorClass\")"
   ]
  },
  {
   "cell_type": "markdown",
   "metadata": {},
   "source": [
    "### \"Census_PrimaryDiskTotalCapacity\"\n",
    "Descripción: Capacidad total del disco duro primario en MB"
   ]
  },
  {
   "cell_type": "code",
   "execution_count": null,
   "metadata": {
    "ExecuteTime": {
     "end_time": "2025-02-03T23:01:47.618267Z",
     "start_time": "2025-02-03T23:01:47.607636Z"
    }
   },
   "outputs": [],
   "source": [
    "df[\"Census_PrimaryDiskTotalCapacity\"].value_counts(dropna=False)"
   ]
  },
  {
   "cell_type": "code",
   "execution_count": null,
   "metadata": {
    "ExecuteTime": {
     "end_time": "2025-02-03T23:01:47.759472Z",
     "start_time": "2025-02-03T23:01:47.755458Z"
    }
   },
   "outputs": [],
   "source": [
    "# contamos nulos\n",
    "df[\"Census_PrimaryDiskTotalCapacity\"].isna().sum()  # 2968 nulos"
   ]
  },
  {
   "cell_type": "code",
   "execution_count": null,
   "metadata": {
    "ExecuteTime": {
     "end_time": "2025-02-03T23:01:47.955230Z",
     "start_time": "2025-02-03T23:01:47.941233Z"
    }
   },
   "outputs": [],
   "source": [
    "# miramos la correlación con el target\n",
    "df[[\"Census_PrimaryDiskTotalCapacity\", \"HasDetections\"]].corr()"
   ]
  },
  {
   "cell_type": "markdown",
   "metadata": {},
   "source": [
    "Difícilmente la capacidad del disco duro puede tener relación con la detección de malware, por lo que eliminaremos la columna."
   ]
  },
  {
   "cell_type": "code",
   "execution_count": 95,
   "metadata": {
    "ExecuteTime": {
     "end_time": "2025-02-03T23:01:48.055193Z",
     "start_time": "2025-02-03T23:01:48.051143Z"
    }
   },
   "outputs": [],
   "source": [
    "del_columns.append(\"Census_PrimaryDiskTotalCapacity\")"
   ]
  },
  {
   "cell_type": "markdown",
   "metadata": {},
   "source": [
    "### \"Census_PrimaryDiskTypeName\"\n",
    "Descripción: Tipo de disco duro primario"
   ]
  },
  {
   "cell_type": "code",
   "execution_count": null,
   "metadata": {
    "ExecuteTime": {
     "end_time": "2025-02-03T23:01:48.235910Z",
     "start_time": "2025-02-03T23:01:48.220817Z"
    }
   },
   "outputs": [],
   "source": [
    "df[\"Census_PrimaryDiskTypeName\"].value_counts(dropna=False)"
   ]
  },
  {
   "cell_type": "code",
   "execution_count": 97,
   "metadata": {
    "ExecuteTime": {
     "end_time": "2025-02-03T23:01:48.391582Z",
     "start_time": "2025-02-03T23:01:48.332590Z"
    }
   },
   "outputs": [],
   "source": [
    "# juntamos valores poco frecuentes (UNKKNOWN, Unspecified) a \"Indefinido\"\n",
    "df[\"Census_PrimaryDiskTypeName\"] = df[\"Census_PrimaryDiskTypeName\"].replace([\"UNKNOWN\", \"Unspecified\"], \"Indefinido\")\n",
    "# rellenamos nulos con \"Indefinido\"\n",
    "df[\"Census_PrimaryDiskTypeName\"] = df[\"Census_PrimaryDiskTypeName\"].fillna(\"Indefinido\")"
   ]
  },
  {
   "cell_type": "code",
   "execution_count": null,
   "metadata": {
    "ExecuteTime": {
     "end_time": "2025-02-03T23:01:48.523761Z",
     "start_time": "2025-02-03T23:01:48.508053Z"
    }
   },
   "outputs": [],
   "source": [
    "df[\"Census_PrimaryDiskTypeName\"].value_counts(dropna=False)"
   ]
  },
  {
   "cell_type": "markdown",
   "metadata": {},
   "source": [
    "Se propone realizar un OHE con esta columna."
   ]
  },
  {
   "cell_type": "code",
   "execution_count": 99,
   "metadata": {
    "ExecuteTime": {
     "end_time": "2025-02-03T23:01:48.653648Z",
     "start_time": "2025-02-03T23:01:48.650128Z"
    }
   },
   "outputs": [],
   "source": [
    "df = pd.get_dummies(df, columns=[\"Census_PrimaryDiskTypeName\"], prefix=\"Census_PrimaryDiskTypeName\")  # TODO: revisar"
   ]
  },
  {
   "cell_type": "markdown",
   "metadata": {},
   "source": [
    "### \"Census_SystemVolumeTotalCapacity\"\n",
    "Descripción: Capacidad total del volumen del sistema en MB"
   ]
  },
  {
   "cell_type": "code",
   "execution_count": null,
   "metadata": {
    "ExecuteTime": {
     "end_time": "2025-02-03T23:01:48.881757Z",
     "start_time": "2025-02-03T23:01:48.822347Z"
    }
   },
   "outputs": [],
   "source": [
    "df[\"Census_SystemVolumeTotalCapacity\"].value_counts(dropna=False)"
   ]
  },
  {
   "cell_type": "code",
   "execution_count": null,
   "metadata": {
    "ExecuteTime": {
     "end_time": "2025-02-03T23:01:49.266915Z",
     "start_time": "2025-02-03T23:01:48.971059Z"
    }
   },
   "outputs": [],
   "source": [
    "# hacemos un histograma\n",
    "df[df[\"Census_SystemVolumeTotalCapacity\"] < 1_000_000][\"Census_SystemVolumeTotalCapacity\"].hist()"
   ]
  },
  {
   "cell_type": "code",
   "execution_count": null,
   "metadata": {
    "ExecuteTime": {
     "end_time": "2025-02-03T23:01:49.304327Z",
     "start_time": "2025-02-03T23:01:49.291378Z"
    }
   },
   "outputs": [],
   "source": [
    "# correlación con el target\n",
    "df[[\"Census_SystemVolumeTotalCapacity\", \"HasDetections\"]].corr()"
   ]
  },
  {
   "cell_type": "code",
   "execution_count": 103,
   "metadata": {
    "ExecuteTime": {
     "end_time": "2025-02-03T23:01:49.396922Z",
     "start_time": "2025-02-03T23:01:49.393474Z"
    }
   },
   "outputs": [],
   "source": [
    "# mismo argumento que \"Census_PrimaryDiskTotalCapacity\", eliminamos la columna\n",
    "del_columns.append(\"Census_SystemVolumeTotalCapacity\")"
   ]
  },
  {
   "cell_type": "markdown",
   "metadata": {},
   "source": [
    "### \"Census_HasOpticalDiskDrive\"\n",
    "Descripción: Indica si el dispositivo tiene una unidad de disco óptico"
   ]
  },
  {
   "cell_type": "code",
   "execution_count": null,
   "metadata": {
    "ExecuteTime": {
     "end_time": "2025-02-03T23:01:49.582695Z",
     "start_time": "2025-02-03T23:01:49.575318Z"
    }
   },
   "outputs": [],
   "source": [
    "df[\"Census_HasOpticalDiskDrive\"].value_counts(dropna=False)"
   ]
  },
  {
   "cell_type": "code",
   "execution_count": null,
   "metadata": {
    "ExecuteTime": {
     "end_time": "2025-02-03T23:01:49.712043Z",
     "start_time": "2025-02-03T23:01:49.707911Z"
    }
   },
   "outputs": [],
   "source": [
    "38_517 / 500_000  # 7.7% True"
   ]
  },
  {
   "cell_type": "code",
   "execution_count": null,
   "metadata": {
    "ExecuteTime": {
     "end_time": "2025-02-03T23:01:49.895141Z",
     "start_time": "2025-02-03T23:01:49.882519Z"
    }
   },
   "outputs": [],
   "source": [
    "# correlación con el target\n",
    "df[[\"Census_HasOpticalDiskDrive\", \"HasDetections\"]].corr()"
   ]
  },
  {
   "cell_type": "code",
   "execution_count": 107,
   "metadata": {
    "ExecuteTime": {
     "end_time": "2025-02-03T23:01:50.004478Z",
     "start_time": "2025-02-03T23:01:50.000915Z"
    }
   },
   "outputs": [],
   "source": [
    "# TODO: Muy poca correlación, la dejamos pero la podríamos borrar perfectamente (dependerá de los resultados de los modelos)"
   ]
  },
  {
   "cell_type": "markdown",
   "metadata": {},
   "source": [
    "### \"Census_TotalPhysicalRAM\"\n",
    "Descripción: Cantidad de RAM física en MB"
   ]
  },
  {
   "cell_type": "code",
   "execution_count": null,
   "metadata": {
    "ExecuteTime": {
     "end_time": "2025-02-03T23:01:50.193087Z",
     "start_time": "2025-02-03T23:01:50.182532Z"
    }
   },
   "outputs": [],
   "source": [
    "df[\"Census_TotalPhysicalRAM\"].value_counts(dropna=False)"
   ]
  },
  {
   "cell_type": "code",
   "execution_count": null,
   "metadata": {
    "ExecuteTime": {
     "end_time": "2025-02-03T23:01:50.395792Z",
     "start_time": "2025-02-03T23:01:50.314682Z"
    }
   },
   "outputs": [],
   "source": [
    "#  pasamos a GB\n",
    "df[\"Census_TotalPhysicalRAM\"].apply(lambda x: x // 1024).value_counts().sort_index()"
   ]
  },
  {
   "cell_type": "code",
   "execution_count": 110,
   "metadata": {
    "ExecuteTime": {
     "end_time": "2025-02-03T23:01:50.618734Z",
     "start_time": "2025-02-03T23:01:50.543932Z"
    }
   },
   "outputs": [],
   "source": [
    "\"\"\"\n",
    "Opciones:\n",
    "1. Eliminar la columna por (alomejor) no tener relación con el target\n",
    "2. Eliminamos los registros con valores \"anormales\" o \"poco frecuentes\"\n",
    "3. Otra (a definir)\n",
    "\"\"\"\n",
    "\n",
    "# OPCIÓN 2!\n",
    "# convertimos a GB\n",
    "df[\"Census_TotalPhysicalRAM_GB\"] = df[\"Census_TotalPhysicalRAM\"].apply(lambda x: x // 1024)"
   ]
  },
  {
   "cell_type": "code",
   "execution_count": null,
   "metadata": {
    "ExecuteTime": {
     "end_time": "2025-02-03T23:01:50.777479Z",
     "start_time": "2025-02-03T23:01:50.772662Z"
    }
   },
   "outputs": [],
   "source": [
    "# nulos\n",
    "df[\"Census_TotalPhysicalRAM_GB\"].isna().sum()  # 4556 nulos"
   ]
  },
  {
   "cell_type": "code",
   "execution_count": 112,
   "metadata": {
    "ExecuteTime": {
     "end_time": "2025-02-03T23:01:50.888360Z",
     "start_time": "2025-02-03T23:01:50.880325Z"
    }
   },
   "outputs": [],
   "source": [
    "# Buscamos aquellos valores de RAM que tengan más de 1000 filas en caso de RAM < 20 GB y de más de 100 filas en caso de RAM >= 20 GB\n",
    "recuento_RAM = df[\"Census_TotalPhysicalRAM_GB\"].value_counts().sort_index()\n",
    "a = recuento_RAM.iloc[:20][recuento_RAM.iloc[:20] > 1000] # RAM < 20 GB\n",
    "b = recuento_RAM.iloc[20:][recuento_RAM.iloc[20:] > 100] # RAM >= 20 GB"
   ]
  },
  {
   "cell_type": "code",
   "execution_count": null,
   "metadata": {
    "ExecuteTime": {
     "end_time": "2025-02-03T23:01:50.977474Z",
     "start_time": "2025-02-03T23:01:50.972525Z"
    }
   },
   "outputs": [],
   "source": [
    "ram_elecciones = a.index.tolist() + b.index.tolist()\n",
    "ram_elecciones  # valores más frecuentes, nos quedamos con los registros que contenegan estos valores"
   ]
  },
  {
   "cell_type": "code",
   "execution_count": 114,
   "metadata": {
    "ExecuteTime": {
     "end_time": "2025-02-03T23:01:51.218201Z",
     "start_time": "2025-02-03T23:01:51.019144Z"
    }
   },
   "outputs": [],
   "source": [
    "# filtramos por los registros que tengan la RAM que hemos seleccionado\n",
    "df = df[df[\"Census_TotalPhysicalRAM_GB\"].isin(ram_elecciones)]  # indirecamente eliminamos los nulos"
   ]
  },
  {
   "cell_type": "code",
   "execution_count": null,
   "metadata": {
    "ExecuteTime": {
     "end_time": "2025-02-03T23:01:51.246157Z",
     "start_time": "2025-02-03T23:01:51.235521Z"
    }
   },
   "outputs": [],
   "source": [
    "print(f\"Recuento de registros actuales: {len(df)}\")  # 493_254, 6746 menos\n",
    "df[\"Census_TotalPhysicalRAM_GB\"].value_counts()"
   ]
  },
  {
   "cell_type": "code",
   "execution_count": null,
   "metadata": {
    "ExecuteTime": {
     "end_time": "2025-02-03T23:01:51.333013Z",
     "start_time": "2025-02-03T23:01:51.318534Z"
    }
   },
   "outputs": [],
   "source": [
    "# correlación con el target\n",
    "df[[\"Census_TotalPhysicalRAM_GB\", \"HasDetections\"]].corr()"
   ]
  },
  {
   "cell_type": "code",
   "execution_count": 117,
   "metadata": {},
   "outputs": [],
   "source": [
    "del_columns.append(\"Census_TotalPhysicalRAM\")"
   ]
  },
  {
   "cell_type": "markdown",
   "metadata": {},
   "source": [
    "### \"Census_ChassisTypeName\"\n",
    "Descripción: Tipo de chasis del dispositivo"
   ]
  },
  {
   "cell_type": "code",
   "execution_count": null,
   "metadata": {
    "ExecuteTime": {
     "end_time": "2025-02-03T23:01:51.489990Z",
     "start_time": "2025-02-03T23:01:51.473144Z"
    }
   },
   "outputs": [],
   "source": [
    "df[\"Census_ChassisTypeName\"].value_counts(dropna=False)"
   ]
  },
  {
   "cell_type": "code",
   "execution_count": null,
   "metadata": {
    "ExecuteTime": {
     "end_time": "2025-02-03T23:01:52.005287Z",
     "start_time": "2025-02-03T23:01:51.723995Z"
    }
   },
   "outputs": [],
   "source": [
    "# Convertir la variable string en variables dummy\n",
    "df_dummies = pd.get_dummies(df['Census_ChassisTypeName'], prefix='Census_ChassisTypeName')\n",
    "\n",
    "# Calcular la correlación de cada variable dummy con el target\n",
    "correlations = df_dummies.corrwith(df['HasDetections'])\n",
    "\n",
    "correlations"
   ]
  },
  {
   "cell_type": "code",
   "execution_count": 120,
   "metadata": {
    "ExecuteTime": {
     "end_time": "2025-02-03T23:01:52.061689Z",
     "start_time": "2025-02-03T23:01:52.057851Z"
    }
   },
   "outputs": [],
   "source": [
    "# Correlaciones < 0.04 -> proponemos eliminar la columna\n",
    "del_columns.append(\"Census_ChassisTypeName\")"
   ]
  },
  {
   "cell_type": "code",
   "execution_count": null,
   "metadata": {
    "ExecuteTime": {
     "end_time": "2025-02-03T23:01:52.226170Z",
     "start_time": "2025-02-03T23:01:52.213249Z"
    }
   },
   "outputs": [],
   "source": [
    "df.head(2)"
   ]
  },
  {
   "cell_type": "markdown",
   "metadata": {},
   "source": [
    "### \"Census_InternalPrimaryDiagonalDisplaySizeInInches\"\n",
    "Descripción: Tamaño diagonal de la pantalla en pulgadas"
   ]
  },
  {
   "cell_type": "code",
   "execution_count": null,
   "metadata": {
    "ExecuteTime": {
     "end_time": "2025-02-03T23:01:52.413303Z",
     "start_time": "2025-02-03T23:01:52.403330Z"
    }
   },
   "outputs": [],
   "source": [
    "df[\"Census_InternalPrimaryDiagonalDisplaySizeInInches\"].value_counts(dropna=False)"
   ]
  },
  {
   "cell_type": "code",
   "execution_count": null,
   "metadata": {
    "ExecuteTime": {
     "end_time": "2025-02-03T23:01:52.649320Z",
     "start_time": "2025-02-03T23:01:52.526086Z"
    }
   },
   "outputs": [],
   "source": [
    "# hist\n",
    "df[\"Census_InternalPrimaryDiagonalDisplaySizeInInches\"].hist()"
   ]
  },
  {
   "cell_type": "code",
   "execution_count": 124,
   "metadata": {
    "ExecuteTime": {
     "end_time": "2025-02-03T23:01:53.017132Z",
     "start_time": "2025-02-03T23:01:53.013802Z"
    }
   },
   "outputs": [],
   "source": [
    "# se deduce una muy baja correlación con el target, eliminamos la columna  # TODO\n",
    "del_columns.append(\"Census_InternalPrimaryDiagonalDisplaySizeInInches\")"
   ]
  },
  {
   "cell_type": "code",
   "execution_count": null,
   "metadata": {
    "ExecuteTime": {
     "end_time": "2025-02-03T23:01:53.209196Z",
     "start_time": "2025-02-03T23:01:53.195062Z"
    }
   },
   "outputs": [],
   "source": [
    "# correlación con el target\n",
    "df[[\"Census_InternalPrimaryDiagonalDisplaySizeInInches\", \"HasDetections\"]].corr()"
   ]
  },
  {
   "cell_type": "markdown",
   "metadata": {},
   "source": [
    "### \"Census_InternalPrimaryDisplayResolutionHorizontal\" y \"Census_InternalPrimaryDisplayResolutionVertical\"\n",
    "Descripción: Resolución de la pantalla"
   ]
  },
  {
   "cell_type": "code",
   "execution_count": null,
   "metadata": {
    "ExecuteTime": {
     "end_time": "2025-02-03T23:01:53.322380Z",
     "start_time": "2025-02-03T23:01:53.312584Z"
    }
   },
   "outputs": [],
   "source": [
    "df[\"Census_InternalPrimaryDisplayResolutionHorizontal\"].value_counts(dropna=False)"
   ]
  },
  {
   "cell_type": "code",
   "execution_count": null,
   "metadata": {
    "ExecuteTime": {
     "end_time": "2025-02-03T23:01:53.474161Z",
     "start_time": "2025-02-03T23:01:53.464143Z"
    }
   },
   "outputs": [],
   "source": [
    "df[\"Census_InternalPrimaryDisplayResolutionVertical\"].value_counts(dropna=False)"
   ]
  },
  {
   "cell_type": "code",
   "execution_count": 128,
   "metadata": {
    "ExecuteTime": {
     "end_time": "2025-02-03T23:01:53.624682Z",
     "start_time": "2025-02-03T23:01:53.621111Z"
    }
   },
   "outputs": [],
   "source": [
    "# misma argumentación que \"Census_InternalPrimaryDiagonalDisplaySizeInInches\", proponemos eliminar las columnas\n",
    "del_columns.append(\"Census_InternalPrimaryDisplayResolutionHorizontal\")\n",
    "del_columns.append(\"Census_InternalPrimaryDisplayResolutionVertical\")"
   ]
  },
  {
   "cell_type": "markdown",
   "metadata": {},
   "source": [
    "### \"Census_PowerPlatformRoleName\"\n",
    "Descripción: Nombre del rol de la plataforma de energía"
   ]
  },
  {
   "cell_type": "code",
   "execution_count": null,
   "metadata": {
    "ExecuteTime": {
     "end_time": "2025-02-03T23:01:53.860495Z",
     "start_time": "2025-02-03T23:01:53.844552Z"
    }
   },
   "outputs": [],
   "source": [
    "df[\"Census_PowerPlatformRoleName\"].value_counts(dropna=False)  # no tiene nulos"
   ]
  },
  {
   "cell_type": "code",
   "execution_count": 130,
   "metadata": {
    "ExecuteTime": {
     "end_time": "2025-02-03T23:01:54.001125Z",
     "start_time": "2025-02-03T23:01:53.956396Z"
    }
   },
   "outputs": [],
   "source": [
    "# juntamos columnas [SOHOServer, EnterpriseServer, PerformanceServer] en \"Server\"\n",
    "df[\"Census_PowerPlatformRoleName\"] = df[\"Census_PowerPlatformRoleName\"].replace([\"SOHOServer\", \"EnterpriseServer\", \"PerformanceServer\"], \"Server\")"
   ]
  },
  {
   "cell_type": "code",
   "execution_count": 131,
   "metadata": {
    "ExecuteTime": {
     "end_time": "2025-02-03T23:01:54.269840Z",
     "start_time": "2025-02-03T23:01:54.110457Z"
    }
   },
   "outputs": [],
   "source": [
    "# borramos registros con nulos (con valor UNKNOWN)\n",
    "df = df[df[\"Census_PowerPlatformRoleName\"] != \"UNKNOWN\"]"
   ]
  },
  {
   "cell_type": "code",
   "execution_count": null,
   "metadata": {
    "ExecuteTime": {
     "end_time": "2025-02-03T23:01:54.362389Z",
     "start_time": "2025-02-03T23:01:54.347195Z"
    }
   },
   "outputs": [],
   "source": [
    "df[\"Census_PowerPlatformRoleName\"].value_counts(dropna=False)"
   ]
  },
  {
   "cell_type": "code",
   "execution_count": 133,
   "metadata": {
    "ExecuteTime": {
     "end_time": "2025-02-03T23:01:54.442545Z",
     "start_time": "2025-02-03T23:01:54.437973Z"
    }
   },
   "outputs": [],
   "source": [
    "# hay únicamente 9 valores únicos, es una variable categórica, proponemos hacer un OHE\n",
    "df = pd.get_dummies(df, columns=[\"Census_PowerPlatformRoleName\"], prefix=\"Census_PowerPlatformRoleName\")  # TODO"
   ]
  },
  {
   "cell_type": "markdown",
   "metadata": {},
   "source": [
    "### \"Census_InternalBatteryType\"\n",
    "Descripción: Tipo de batería interna"
   ]
  },
  {
   "cell_type": "code",
   "execution_count": null,
   "metadata": {
    "ExecuteTime": {
     "end_time": "2025-02-03T23:01:54.576024Z",
     "start_time": "2025-02-03T23:01:54.561796Z"
    }
   },
   "outputs": [],
   "source": [
    "df[\"Census_InternalBatteryType\"].value_counts(dropna=False)"
   ]
  },
  {
   "cell_type": "code",
   "execution_count": 135,
   "metadata": {
    "ExecuteTime": {
     "end_time": "2025-02-03T23:01:54.752571Z",
     "start_time": "2025-02-03T23:01:54.748766Z"
    }
   },
   "outputs": [],
   "source": [
    "# interpeteción: hay 348_471 nulos y se puede presuponer una alta correlación entre el tipo de batería y el tipo de dispositivo -> eliminamos la columna #TODO: comprobar\n",
    "del_columns.append(\"Census_InternalBatteryType\")"
   ]
  },
  {
   "cell_type": "markdown",
   "metadata": {},
   "source": [
    "### \"Census_InternalBatteryNumberOfCharges\"\n",
    "Descripción: Número de cargas de la batería interna"
   ]
  },
  {
   "cell_type": "code",
   "execution_count": null,
   "metadata": {
    "ExecuteTime": {
     "end_time": "2025-02-03T23:01:54.917165Z",
     "start_time": "2025-02-03T23:01:54.904617Z"
    }
   },
   "outputs": [],
   "source": [
    "df[\"Census_InternalBatteryNumberOfCharges\"].value_counts(dropna=False)"
   ]
  },
  {
   "cell_type": "code",
   "execution_count": 137,
   "metadata": {
    "ExecuteTime": {
     "end_time": "2025-02-03T23:01:55.158918Z",
     "start_time": "2025-02-03T23:01:55.011818Z"
    }
   },
   "outputs": [],
   "source": [
    "# 1. se presupone que serà una variable contínua\n",
    "# 2. nulos: hay directamente 12204 NaNs (2.5%) pero se observa unos registros extremadamente altos de 4294967295 y 4294967294. Estos valores provienen de un error en la recogida de datos, 4294967295 es el valor máximo de un entero de 32 bits (2^32 - 1). Hay 123_658 y 656 registros respectivamente (24.9% y 0.1%). Demasiados registros para eliminarlos, se propone rellenar los nulos con la media de la columna.\n",
    "\n",
    "# TODO: exponer al grupo\n",
    "# calculamos media evitando los valores erróneos\n",
    "\n",
    "df[\"Census_InternalBatteryNumberOfCharges\"] = df[\"Census_InternalBatteryNumberOfCharges\"].fillna(0)"
   ]
  },
  {
   "cell_type": "code",
   "execution_count": null,
   "metadata": {
    "ExecuteTime": {
     "end_time": "2025-02-03T23:01:55.420153Z",
     "start_time": "2025-02-03T23:01:55.283431Z"
    }
   },
   "outputs": [],
   "source": [
    "# vamos los registros fallidos\n",
    "df[df[\"Census_InternalBatteryNumberOfCharges\"] > 4_000_000_000]\n",
    "# observamos que los registros con valor 4294967295 son los que tienen nulos en la columna \"Census_InternalBatteryType\" -> comportamiento esperado"
   ]
  },
  {
   "cell_type": "code",
   "execution_count": 139,
   "metadata": {
    "ExecuteTime": {
     "end_time": "2025-02-03T23:01:55.487974Z",
     "start_time": "2025-02-03T23:01:55.481198Z"
    }
   },
   "outputs": [],
   "source": [
    "# se imputan los valores erróneos con la media\n",
    "mask = df[\"Census_InternalBatteryNumberOfCharges\"] > 4_000_000_000\n",
    "df.loc[mask, \"Census_InternalBatteryNumberOfCharges\"] = 0"
   ]
  },
  {
   "cell_type": "code",
   "execution_count": null,
   "metadata": {
    "ExecuteTime": {
     "end_time": "2025-02-03T23:01:55.680971Z",
     "start_time": "2025-02-03T23:01:55.576012Z"
    }
   },
   "outputs": [],
   "source": [
    "# hist\n",
    "df[\"Census_InternalBatteryNumberOfCharges\"].hist()"
   ]
  },
  {
   "cell_type": "code",
   "execution_count": null,
   "metadata": {
    "ExecuteTime": {
     "end_time": "2025-02-03T23:01:55.886912Z",
     "start_time": "2025-02-03T23:01:55.872735Z"
    }
   },
   "outputs": [],
   "source": [
    "df['Census_InternalBatteryNumberOfCharges'].value_counts(dropna=False)"
   ]
  },
  {
   "cell_type": "code",
   "execution_count": null,
   "metadata": {
    "ExecuteTime": {
     "end_time": "2025-02-03T23:01:56.307572Z",
     "start_time": "2025-02-03T23:01:56.058738Z"
    }
   },
   "outputs": [],
   "source": [
    "# miramos registros con valor 0\n",
    "df[df[\"Census_InternalBatteryNumberOfCharges\"] == 0]"
   ]
  },
  {
   "cell_type": "code",
   "execution_count": null,
   "metadata": {
    "ExecuteTime": {
     "end_time": "2025-02-03T23:01:56.392461Z",
     "start_time": "2025-02-03T23:01:56.378706Z"
    }
   },
   "outputs": [],
   "source": [
    "# correlación con el target\n",
    "df[[\"Census_InternalBatteryNumberOfCharges\", \"HasDetections\"]].corr()"
   ]
  },
  {
   "cell_type": "code",
   "execution_count": 144,
   "metadata": {
    "ExecuteTime": {
     "end_time": "2025-02-03T23:01:56.550464Z",
     "start_time": "2025-02-03T23:01:56.547367Z"
    }
   },
   "outputs": [],
   "source": [
    "# es una columna que indirectamente nos puede estar devolviendo en tiempo de uso del dispositivo, proponemos mantenerla aún habiendo 280_000 registros con valor 0 (56%). Es la única que nos proporciona esta información. # TODO: debatir mas a fondo"
   ]
  },
  {
   "cell_type": "code",
   "execution_count": 145,
   "metadata": {},
   "outputs": [],
   "source": [
    "del_columns.append(\"Census_InternalBatteryNumberOfCharges\")"
   ]
  },
  {
   "cell_type": "markdown",
   "metadata": {},
   "source": [
    "### \"Census_OSVersion\"\n",
    "Descripción: Versión del sistema operativo"
   ]
  },
  {
   "cell_type": "code",
   "execution_count": null,
   "metadata": {
    "ExecuteTime": {
     "end_time": "2025-02-03T23:01:56.993058Z",
     "start_time": "2025-02-03T23:01:56.965624Z"
    }
   },
   "outputs": [],
   "source": [
    "print(f\"{df['Census_OSVersion'].isna().sum()=}\")  # 0 nulos\n",
    "df[\"Census_OSVersion\"].value_counts(dropna=False)\n",
    "# Únicamente hay un registro con la versión distinta a la 10.0... siendo la 6.3.9600.19069"
   ]
  },
  {
   "cell_type": "code",
   "execution_count": null,
   "metadata": {
    "ExecuteTime": {
     "end_time": "2025-02-03T23:01:57.200738Z",
     "start_time": "2025-02-03T23:01:57.161534Z"
    }
   },
   "outputs": [],
   "source": [
    "df[df['OsVer'] == '6.3.0.0'][['OsVer', 'Census_OSVersion']]"
   ]
  },
  {
   "cell_type": "code",
   "execution_count": 148,
   "metadata": {
    "ExecuteTime": {
     "end_time": "2025-02-03T23:01:57.673659Z",
     "start_time": "2025-02-03T23:01:57.367372Z"
    }
   },
   "outputs": [],
   "source": [
    "# se podía esperar una fueran la misma columna, pero este ejemplo nos demuestra que no es así\n",
    "# siendo todos los valores 10.0... podemos prononer a lo sumo quedarnos con \"el tercer valor\" de la versión que podría estar relacionado con parches de seguridad (p.e.) # TODO: Exponer el caso\n",
    "# #TODO: Propongo que los valores \"muy manipulados\" empiecen por CALC_\n",
    "\n",
    "# evitamos el caso del registro 6.3.9600.19069 eliminándolo\n",
    "df = df[df['Census_OSVersion'] != '6.3.9600.19069']\n",
    "df[\"CALC_Census_OSVersion\"] = df[\"Census_OSVersion\"].apply(lambda x: x.split(\".\")[2])"
   ]
  },
  {
   "cell_type": "code",
   "execution_count": 149,
   "metadata": {
    "ExecuteTime": {
     "end_time": "2025-02-03T23:01:57.702321Z",
     "start_time": "2025-02-03T23:01:57.699184Z"
    }
   },
   "outputs": [],
   "source": [
    "# eliminamos la columna original\n",
    "del_columns.append(\"Census_OSVersion\")"
   ]
  },
  {
   "cell_type": "code",
   "execution_count": null,
   "metadata": {
    "ExecuteTime": {
     "end_time": "2025-02-03T23:01:57.804809Z",
     "start_time": "2025-02-03T23:01:57.780336Z"
    }
   },
   "outputs": [],
   "source": [
    "df[\"CALC_Census_OSVersion\"].value_counts(dropna=False)"
   ]
  },
  {
   "cell_type": "markdown",
   "metadata": {},
   "source": [
    "### \"Census_OSArchitecture\"\n",
    "Descripción: Arquitectura del sistema operativo"
   ]
  },
  {
   "cell_type": "code",
   "execution_count": null,
   "metadata": {
    "ExecuteTime": {
     "end_time": "2025-02-03T23:01:57.908448Z",
     "start_time": "2025-02-03T23:01:57.894263Z"
    }
   },
   "outputs": [],
   "source": [
    "df[\"Census_OSArchitecture\"].value_counts(dropna=False)  # dos valores únicos (amd64 y x86) y sin nulos"
   ]
  },
  {
   "cell_type": "code",
   "execution_count": null,
   "metadata": {
    "ExecuteTime": {
     "end_time": "2025-02-03T23:01:58.188019Z",
     "start_time": "2025-02-03T23:01:57.996878Z"
    }
   },
   "outputs": [],
   "source": [
    "# comprobamos correlación con la columna processor_x64 y processor_x86\n",
    "df[df[\"Processor\"] == True][\"Census_OSArchitecture\"].value_counts()  # coincide en un 446_028/(446_028+452) = 99.9%"
   ]
  },
  {
   "cell_type": "code",
   "execution_count": null,
   "metadata": {
    "ExecuteTime": {
     "end_time": "2025-02-03T23:01:58.355151Z",
     "start_time": "2025-02-03T23:01:58.311714Z"
    }
   },
   "outputs": [],
   "source": [
    "df[df[\"Processor\"] == True][\"Census_OSArchitecture\"].value_counts()  # coincide en un 44555/(44555+459) = 99.9%"
   ]
  },
  {
   "cell_type": "code",
   "execution_count": 154,
   "metadata": {
    "ExecuteTime": {
     "end_time": "2025-02-03T23:01:58.515446Z",
     "start_time": "2025-02-03T23:01:58.510013Z"
    }
   },
   "outputs": [],
   "source": [
    "# TODO: puesto que esta columna no es nada conlfictiva, tengo que preguntar que tal se comportó la otra columna (processor) preguntar a fran\n",
    "# eliminamos la columna por ser redundante\n",
    "del_columns.append(\"Census_OSArchitecture\")"
   ]
  },
  {
   "cell_type": "markdown",
   "metadata": {},
   "source": [
    "### \"Census_OSBranch\"\n",
    "Descripción: Rama del sistema operativo"
   ]
  },
  {
   "cell_type": "code",
   "execution_count": null,
   "metadata": {
    "ExecuteTime": {
     "end_time": "2025-02-03T23:01:58.671705Z",
     "start_time": "2025-02-03T23:01:58.656666Z"
    }
   },
   "outputs": [],
   "source": [
    "df[\"Census_OSBranch\"].value_counts(dropna=False)"
   ]
  },
  {
   "cell_type": "code",
   "execution_count": null,
   "metadata": {
    "ExecuteTime": {
     "end_time": "2025-02-03T23:01:58.769719Z",
     "start_time": "2025-02-03T23:01:58.756301Z"
    }
   },
   "outputs": [],
   "source": [
    "print(f\"{df['Census_OSBranch'].isna().sum()=}\")  # 0 nulos"
   ]
  },
  {
   "cell_type": "code",
   "execution_count": 157,
   "metadata": {
    "ExecuteTime": {
     "end_time": "2025-02-03T23:01:58.992100Z",
     "start_time": "2025-02-03T23:01:58.931217Z"
    }
   },
   "outputs": [],
   "source": [
    "# viendo los valores únicos y su estructura, proponemos quedarnos con las 3 primeras letras de cada valor que parecen contener la información más relevante\n",
    "df[\"CALC_Census_OSBranch\"] = df[\"Census_OSBranch\"].apply(lambda x: x[:3])"
   ]
  },
  {
   "cell_type": "code",
   "execution_count": null,
   "metadata": {
    "ExecuteTime": {
     "end_time": "2025-02-03T23:01:59.077067Z",
     "start_time": "2025-02-03T23:01:59.056687Z"
    }
   },
   "outputs": [],
   "source": [
    "df[\"CALC_Census_OSBranch\"].value_counts(dropna=False)"
   ]
  },
  {
   "cell_type": "code",
   "execution_count": 159,
   "metadata": {
    "ExecuteTime": {
     "end_time": "2025-02-03T23:01:59.185601Z",
     "start_time": "2025-02-03T23:01:59.154345Z"
    }
   },
   "outputs": [],
   "source": [
    "# modificamos el valor menos frecuente (\"rs_\") a \"rs\"\n",
    "df[\"CALC_Census_OSBranch\"] = df[\"CALC_Census_OSBranch\"].replace(\"rs_\", \"rs\")  # TODO: hacer el split por _ DEBERES"
   ]
  },
  {
   "cell_type": "code",
   "execution_count": 160,
   "metadata": {
    "ExecuteTime": {
     "end_time": "2025-02-03T23:01:59.345006Z",
     "start_time": "2025-02-03T23:01:59.341415Z"
    }
   },
   "outputs": [],
   "source": [
    "# eliminamos la columna original\n",
    "del_columns.append(\"Census_OSBranch\")"
   ]
  },
  {
   "cell_type": "code",
   "execution_count": null,
   "metadata": {
    "ExecuteTime": {
     "end_time": "2025-02-03T23:01:59.451165Z",
     "start_time": "2025-02-03T23:01:59.438968Z"
    }
   },
   "outputs": [],
   "source": [
    "df[\"CALC_Census_OSBranch\"].value_counts(dropna=False)"
   ]
  },
  {
   "cell_type": "code",
   "execution_count": 162,
   "metadata": {
    "ExecuteTime": {
     "end_time": "2025-02-03T23:01:59.544260Z",
     "start_time": "2025-02-03T23:01:59.540762Z"
    }
   },
   "outputs": [],
   "source": [
    "# 8 valores únicos de una variable categórica -> OHE\n",
    "df = pd.get_dummies(df, columns=[\"CALC_Census_OSBranch\"], prefix=\"CALC_Census_OSBranch\")  # TODO"
   ]
  },
  {
   "cell_type": "markdown",
   "metadata": {},
   "source": [
    "### \"Census_OSBuildNumber\"\n",
    "Descripción: Número de compilación del sistema operativo"
   ]
  },
  {
   "cell_type": "code",
   "execution_count": null,
   "metadata": {
    "ExecuteTime": {
     "end_time": "2025-02-03T23:02:00.177553Z",
     "start_time": "2025-02-03T23:02:00.168965Z"
    }
   },
   "outputs": [],
   "source": [
    "print(f\"{df['Census_OSBuildNumber'].isna().sum()=}\")  # 0 nulos\n",
    "df[\"Census_OSBuildNumber\"].value_counts(dropna=False)"
   ]
  },
  {
   "cell_type": "code",
   "execution_count": null,
   "metadata": {
    "ExecuteTime": {
     "end_time": "2025-02-03T23:02:00.290479Z",
     "start_time": "2025-02-03T23:02:00.277235Z"
    }
   },
   "outputs": [],
   "source": [
    "df[['CALC_Census_OSVersion', 'Census_OSBuildNumber']].dtypes"
   ]
  },
  {
   "cell_type": "code",
   "execution_count": null,
   "metadata": {
    "ExecuteTime": {
     "end_time": "2025-02-03T23:02:00.466647Z",
     "start_time": "2025-02-03T23:02:00.454890Z"
    }
   },
   "outputs": [],
   "source": [
    "df[['CALC_Census_OSVersion', 'Census_OSBuildNumber']]"
   ]
  },
  {
   "cell_type": "code",
   "execution_count": 166,
   "metadata": {
    "ExecuteTime": {
     "end_time": "2025-02-03T23:02:00.673366Z",
     "start_time": "2025-02-03T23:02:00.669490Z"
    }
   },
   "outputs": [],
   "source": [
    "# viendo que la columna préviamente creada \"CALC_Census_OSVersion\" contiene la misma información que \"Census_OSBuildNumber\", eliminamos la columna\n",
    "del_columns.append(\"CALC_Census_OSVersion\") # TODO: pedir al grupo si mantener el código aún sabiendo que es redundante"
   ]
  },
  {
   "cell_type": "markdown",
   "metadata": {},
   "source": [
    "### \"Census_OSBuildRevision\"\n",
    "Descripción: Revisión de la compilación del sistema operativo"
   ]
  },
  {
   "cell_type": "code",
   "execution_count": null,
   "metadata": {
    "ExecuteTime": {
     "end_time": "2025-02-03T23:02:00.832244Z",
     "start_time": "2025-02-03T23:02:00.824021Z"
    }
   },
   "outputs": [],
   "source": [
    "print(f\"{df['Census_OSBuildRevision'].isna().sum()=}\")  # 0 nulos\n",
    "df[\"Census_OSBuildRevision\"].value_counts(dropna=False)"
   ]
  },
  {
   "cell_type": "code",
   "execution_count": null,
   "metadata": {
    "ExecuteTime": {
     "end_time": "2025-02-03T23:02:00.945196Z",
     "start_time": "2025-02-03T23:02:00.934651Z"
    }
   },
   "outputs": [],
   "source": [
    "df.head(2)"
   ]
  },
  {
   "cell_type": "code",
   "execution_count": 169,
   "metadata": {
    "ExecuteTime": {
     "end_time": "2025-02-03T23:02:01.100100Z",
     "start_time": "2025-02-03T23:02:01.096993Z"
    }
   },
   "outputs": [],
   "source": [
    "# se observa que Census_OSVersion se construye a partir de Census_OSBuildNumber y Census_OSBuildRevision, eliminamos la columna\n",
    "# proponemos eliminar la columna Census_OSVersion (ya insertada en del_columns) porque es un str y las otras dos columnas son numéricas"
   ]
  },
  {
   "cell_type": "code",
   "execution_count": 170,
   "metadata": {},
   "outputs": [],
   "source": [
    "del_columns.append(\"Census_OSBuildRevision\")"
   ]
  },
  {
   "cell_type": "markdown",
   "metadata": {},
   "source": [
    "### \"Census_OSEdition\"\n",
    "Descripción: Edición del sistema operativo"
   ]
  },
  {
   "cell_type": "code",
   "execution_count": null,
   "metadata": {
    "ExecuteTime": {
     "end_time": "2025-02-03T23:02:01.325300Z",
     "start_time": "2025-02-03T23:02:01.298526Z"
    }
   },
   "outputs": [],
   "source": [
    "print(f\"{df['Census_OSEdition'].isna().sum()=}\")  # 0 nulos\n",
    "df[\"Census_OSEdition\"].value_counts(dropna=False)"
   ]
  },
  {
   "cell_type": "code",
   "execution_count": 172,
   "metadata": {
    "ExecuteTime": {
     "end_time": "2025-02-03T23:02:01.797846Z",
     "start_time": "2025-02-03T23:02:01.634720Z"
    }
   },
   "outputs": [],
   "source": [
    "# hay 3 valores muy predominantes con 192000, 171000 y 107000 registros respectivamente (38.9%, 34.7% y 21.7%). Se propone agrupar los 16 valores restantes en un solo valor \"Otro\" y posteriormente hacer un OHE\n",
    "# agrupamos los valores menos frecuentes\n",
    "df[\"Census_OSEdition\"] = df[\"Census_OSEdition\"].replace(df[\"Census_OSEdition\"].value_counts().index[3:], \"Otro\")"
   ]
  },
  {
   "cell_type": "code",
   "execution_count": null,
   "metadata": {
    "ExecuteTime": {
     "end_time": "2025-02-03T23:02:01.921391Z",
     "start_time": "2025-02-03T23:02:01.904668Z"
    }
   },
   "outputs": [],
   "source": [
    "df[\"Census_OSEdition\"].value_counts(dropna=False)"
   ]
  },
  {
   "cell_type": "code",
   "execution_count": 174,
   "metadata": {
    "ExecuteTime": {
     "end_time": "2025-02-03T23:02:02.029927Z",
     "start_time": "2025-02-03T23:02:02.026574Z"
    }
   },
   "outputs": [],
   "source": [
    "# la columna otros contiene 19827 registros (4%)\n",
    "# OHE\n",
    "df = pd.get_dummies(df, columns=[\"Census_OSEdition\"], prefix=\"Census_OSEdition\")  # TODO"
   ]
  },
  {
   "cell_type": "markdown",
   "metadata": {},
   "source": [
    "### \"Census_OSSkuName\"\n",
    "Descripción: Nombre de la versión del sistema operativo"
   ]
  },
  {
   "cell_type": "code",
   "execution_count": null,
   "metadata": {
    "ExecuteTime": {
     "end_time": "2025-02-03T23:02:02.201140Z",
     "start_time": "2025-02-03T23:02:02.175322Z"
    }
   },
   "outputs": [],
   "source": [
    "print(f\"{df['Census_OSSkuName'].isna().sum()=}\")  # 0 nulos\n",
    "df[\"Census_OSSkuName\"].value_counts(dropna=False)"
   ]
  },
  {
   "cell_type": "code",
   "execution_count": 176,
   "metadata": {
    "ExecuteTime": {
     "end_time": "2025-02-03T23:02:02.301890Z",
     "start_time": "2025-02-03T23:02:02.298408Z"
    }
   },
   "outputs": [],
   "source": [
    "# es un atributo prácticamente idéntico a Census_OSEdition, eliminamos la columna\n",
    "del_columns.append(\"Census_OSSkuName\")"
   ]
  },
  {
   "cell_type": "markdown",
   "metadata": {},
   "source": [
    "### \"Census_OSInstallTypeName\"\n",
    "Descripción: Método de instalación del sistema operativo"
   ]
  },
  {
   "cell_type": "code",
   "execution_count": null,
   "metadata": {
    "ExecuteTime": {
     "end_time": "2025-02-03T23:02:02.510578Z",
     "start_time": "2025-02-03T23:02:02.482661Z"
    }
   },
   "outputs": [],
   "source": [
    "print(f\"{df['Census_OSInstallTypeName'].isna().sum()=}\")  # 0 nulos\n",
    "df[\"Census_OSInstallTypeName\"].value_counts(dropna=False)"
   ]
  },
  {
   "cell_type": "code",
   "execution_count": null,
   "metadata": {
    "ExecuteTime": {
     "end_time": "2025-02-03T23:02:02.685782Z",
     "start_time": "2025-02-03T23:02:02.591902Z"
    }
   },
   "outputs": [],
   "source": [
    "# puede parecer difícilmente relacionable con el target, comprobamos correlaciones\n",
    "df_dummies = pd.get_dummies(df['Census_OSInstallTypeName'], prefix='Census_OSInstallTypeName')\n",
    "correlations = df_dummies.corrwith(df['HasDetections'])\n",
    "correlations"
   ]
  },
  {
   "cell_type": "code",
   "execution_count": 179,
   "metadata": {
    "ExecuteTime": {
     "end_time": "2025-02-03T23:02:02.882061Z",
     "start_time": "2025-02-03T23:02:02.878669Z"
    }
   },
   "outputs": [],
   "source": [
    "# correlaciones no superiores al 0.04 -> eliminamos la columna\n",
    "del_columns.append(\"Census_OSInstallTypeName\")"
   ]
  },
  {
   "cell_type": "code",
   "execution_count": null,
   "metadata": {
    "ExecuteTime": {
     "end_time": "2025-02-03T23:02:03.075274Z",
     "start_time": "2025-02-03T23:02:03.066513Z"
    }
   },
   "outputs": [],
   "source": [
    "df['Census_FirmwareManufacturerIdentifier'].value_counts().sort_values(ascending=False).index[:6].to_list()"
   ]
  },
  {
   "cell_type": "code",
   "execution_count": null,
   "metadata": {
    "ExecuteTime": {
     "end_time": "2025-02-03T23:02:03.207507Z",
     "start_time": "2025-02-03T23:02:03.183576Z"
    }
   },
   "outputs": [],
   "source": [
    "df['Census_FirmwareVersionIdentifier'].value_counts().sort_values(ascending=False)"
   ]
  },
  {
   "cell_type": "code",
   "execution_count": null,
   "metadata": {
    "ExecuteTime": {
     "end_time": "2025-02-03T23:02:03.325646Z",
     "start_time": "2025-02-03T23:02:03.323417Z"
    }
   },
   "outputs": [],
   "source": [
    "df.info()"
   ]
  },
  {
   "cell_type": "markdown",
   "metadata": {},
   "source": [
    "## Parte IGNACIO"
   ]
  },
  {
   "cell_type": "code",
   "execution_count": null,
   "metadata": {
    "ExecuteTime": {
     "end_time": "2025-02-03T23:02:03.826555Z",
     "start_time": "2025-02-03T23:02:03.474838Z"
    }
   },
   "outputs": [],
   "source": [
    "df.info()"
   ]
  },
  {
   "cell_type": "code",
   "execution_count": null,
   "metadata": {},
   "outputs": [],
   "source": [
    "valores_faltantes = (df.isnull().mean() * 100).sort_values(ascending=False)\n",
    "print(valores_faltantes)"
   ]
  },
  {
   "cell_type": "code",
   "execution_count": null,
   "metadata": {},
   "outputs": [],
   "source": [
    "((df.isna().sum()/df.shape[0])*100).sort_values().plot(kind=\"barh\",figsize=(10,10),color=\"lightblue\")\n",
    "plt.title('Porcentaje de valores faltantes')\n",
    "plt.xlabel('Porcentaje del total de filas')\n",
    "plt.ylabel('Variable')\n",
    "plt.xlim(0, 100)\n",
    "plt.show() "
   ]
  },
  {
   "cell_type": "code",
   "execution_count": 186,
   "metadata": {},
   "outputs": [],
   "source": [
    "df = df.drop(columns=['PuaMode', 'SMode', 'SmartScreen', 'OsBuild', 'OsPlatformSubRelease', 'OsBuildLab', 'AutoSampleOptIn', 'Census_MDC2FormFactor', 'Census_DeviceFamily', 'Census_OEMModelIdentifier'])"
   ]
  },
  {
   "cell_type": "code",
   "execution_count": 187,
   "metadata": {},
   "outputs": [],
   "source": [
    "columnas_objetivo_ict = ['Census_OEMNameIdentifier','Firewall','IeVerIdentifier','Census_ProcessorModelIdentifier','Census_ProcessorCoreCount','Census_ProcessorManufacturerIdentifier','IsProtected','UacLuaenable']\n",
    "df = df.dropna(subset=columnas_objetivo_ict)\n",
    "\n",
    "df = df[~df[\"UacLuaenable\"].isin(list([48.0, 6357062.0000, 2.0]))]\n",
    "df = df[df['Census_ProcessorManufacturerIdentifier'] != 3.0]"
   ]
  },
  {
   "cell_type": "code",
   "execution_count": null,
   "metadata": {},
   "outputs": [],
   "source": [
    "df[\"OsVer\"].value_counts()"
   ]
  },
  {
   "cell_type": "code",
   "execution_count": 189,
   "metadata": {},
   "outputs": [],
   "source": [
    "df['OsVer'] = df['OsVer'].apply(lambda x: x.split('.')[0])"
   ]
  },
  {
   "cell_type": "code",
   "execution_count": null,
   "metadata": {},
   "outputs": [],
   "source": [
    "df['OsSuite'].value_counts()"
   ]
  },
  {
   "cell_type": "code",
   "execution_count": 191,
   "metadata": {},
   "outputs": [],
   "source": [
    "df = df[df['OsSuite'] != 784]"
   ]
  },
  {
   "cell_type": "code",
   "execution_count": null,
   "metadata": {},
   "outputs": [],
   "source": [
    "df.info()"
   ]
  },
  {
   "cell_type": "markdown",
   "metadata": {},
   "source": [
    "## Parte ALVARO"
   ]
  },
  {
   "cell_type": "code",
   "execution_count": null,
   "metadata": {},
   "outputs": [],
   "source": [
    "df[alvaro_columns].isna().sum()"
   ]
  },
  {
   "cell_type": "markdown",
   "metadata": {},
   "source": [
    "---\n",
    "### Census_IsFlightingInternal, Census_ThresholdOptIn y Census_IsWIMBootEnabled."
   ]
  },
  {
   "cell_type": "markdown",
   "metadata": {},
   "source": [
    "##### Primero quiero visualizar el porcentaje de valores nulos por columna"
   ]
  },
  {
   "cell_type": "code",
   "execution_count": null,
   "metadata": {},
   "outputs": [],
   "source": [
    "\n",
    "(df[alvaro_columns].isnull().sum() / len(df[alvaro_columns])) * 100\n"
   ]
  },
  {
   "cell_type": "markdown",
   "metadata": {},
   "source": [
    "#####  Lo primero que estoy viendo es que hay columnas con un 50% de nulos, estas son `Census_IsFlightingInternal`, `Census_ThresholdOptIn` y `Census_IsWIMBootEnabled`.\n",
    "#####  Por lo tanto voy a proceder a prescindir de estas."
   ]
  },
  {
   "cell_type": "code",
   "execution_count": 195,
   "metadata": {},
   "outputs": [],
   "source": [
    "del_columns.extend([\"Census_IsFlightingInternal\", \"Census_ThresholdOptIn\", \"Census_IsWIMBootEnabled\"])"
   ]
  },
  {
   "cell_type": "markdown",
   "metadata": {},
   "source": [
    "---\n",
    "### Census_OSInstallLanguageIdentifier"
   ]
  },
  {
   "cell_type": "code",
   "execution_count": null,
   "metadata": {},
   "outputs": [],
   "source": [
    "df[\"Census_OSInstallLanguageIdentifier\"].value_counts()"
   ]
  },
  {
   "cell_type": "markdown",
   "metadata": {},
   "source": [
    "Vamos a ver que grado de correlacion tiene con el target y asi saber si podemos descartarla con seguridad."
   ]
  },
  {
   "cell_type": "code",
   "execution_count": null,
   "metadata": {},
   "outputs": [],
   "source": [
    "df[[\"Census_OSInstallLanguageIdentifier\", \"HasDetections\"]].corr()"
   ]
  },
  {
   "cell_type": "markdown",
   "metadata": {},
   "source": [
    "##### Podemos ver que la correlacion es de menos de un 0.001%, por lo tanto es seguro descartarla."
   ]
  },
  {
   "cell_type": "code",
   "execution_count": 198,
   "metadata": {},
   "outputs": [],
   "source": [
    "del_columns.append('Census_OSInstallLanguageIdentifier')"
   ]
  },
  {
   "cell_type": "markdown",
   "metadata": {},
   "source": [
    "---\n",
    "### Census_OSUILocaleIdentifier"
   ]
  },
  {
   "cell_type": "code",
   "execution_count": null,
   "metadata": {},
   "outputs": [],
   "source": [
    "df[\"Census_OSUILocaleIdentifier\"].value_counts()"
   ]
  },
  {
   "cell_type": "markdown",
   "metadata": {},
   "source": [
    "En base de la correlacion que mantenga con el target, decidiremos si prescindimos de esta columna o no."
   ]
  },
  {
   "cell_type": "code",
   "execution_count": null,
   "metadata": {},
   "outputs": [],
   "source": [
    "df[[\"Census_OSUILocaleIdentifier\", \"HasDetections\"]].corr()"
   ]
  },
  {
   "cell_type": "markdown",
   "metadata": {},
   "source": [
    "##### Al igual que con la anterior columna, no llega ni al 1% de correlacion, por lo tanto vamos a eliminar esta columna."
   ]
  },
  {
   "cell_type": "code",
   "execution_count": 201,
   "metadata": {},
   "outputs": [],
   "source": [
    "del_columns.append('Census_OSUILocaleIdentifier')"
   ]
  },
  {
   "cell_type": "markdown",
   "metadata": {},
   "source": [
    "---\n",
    "### Census_OSWUAutoUpdateOptionsName"
   ]
  },
  {
   "cell_type": "code",
   "execution_count": null,
   "metadata": {},
   "outputs": [],
   "source": [
    "df[\"Census_OSWUAutoUpdateOptionsName\"].value_counts()"
   ]
  },
  {
   "cell_type": "markdown",
   "metadata": {},
   "source": [
    "Esta columna tiene mas sentido mantenerla por que no tiene muchos valores y tiene mas sentido que algo relacionado con actualizaciones del OS tenga relacion con el target. A pesar de que tenemos aproximadamente un 25% de valores con `UNKNOWN` veremos que pasa en los tests y en funcion de eso volveremos para eliminarla o no."
   ]
  },
  {
   "cell_type": "markdown",
   "metadata": {},
   "source": [
    "---\n",
    "### Census_IsPortableOperatingSystem"
   ]
  },
  {
   "cell_type": "code",
   "execution_count": null,
   "metadata": {},
   "outputs": [],
   "source": [
    "df[\"Census_IsPortableOperatingSystem\"].value_counts()"
   ]
  },
  {
   "cell_type": "markdown",
   "metadata": {},
   "source": [
    "##### Esta columna ademas de no tener nulos (como hemos visto anteriormente) solo contiene 0 y 1."
   ]
  },
  {
   "cell_type": "code",
   "execution_count": null,
   "metadata": {},
   "outputs": [],
   "source": [
    "df[[\"Census_IsPortableOperatingSystem\", \"HasDetections\"]].corr()"
   ]
  },
  {
   "cell_type": "markdown",
   "metadata": {},
   "source": [
    "Lo unico que no me convence es que la correlacion es muy baja. Eliminaremos esta columna ya que no afectara mucho al entrenamiendo del modelo."
   ]
  },
  {
   "cell_type": "code",
   "execution_count": 205,
   "metadata": {},
   "outputs": [],
   "source": [
    "del_columns.append('Census_IsPortableOperatingSystem')"
   ]
  },
  {
   "cell_type": "markdown",
   "metadata": {},
   "source": [
    "---\n",
    "### Census_GenuineStateName"
   ]
  },
  {
   "cell_type": "markdown",
   "metadata": {},
   "source": [
    "Borraremos las obeservaciones que tenga valor `UNKNOWN` ya que asi nos ahorraremos una columna categorica."
   ]
  },
  {
   "cell_type": "code",
   "execution_count": null,
   "metadata": {},
   "outputs": [],
   "source": [
    "df[~df[\"Census_GenuineStateName\"].isin([\"UNKNOWN\"])][\"Census_GenuineStateName\"].value_counts()"
   ]
  },
  {
   "cell_type": "markdown",
   "metadata": {},
   "source": [
    "Aunque los valores estan desbalanceados, haremos pruebas y según los resultados de estas veremos si mantener o no la columna\n",
    "\n",
    "El siguiente punto será hacer un OHE con esta columna"
   ]
  },
  {
   "cell_type": "code",
   "execution_count": 207,
   "metadata": {},
   "outputs": [],
   "source": [
    "df = df[df[\"Census_GenuineStateName\"] != \"UNKNOWN\"]"
   ]
  },
  {
   "cell_type": "markdown",
   "metadata": {},
   "source": [
    "---\n",
    "### Census_ActivationChannel"
   ]
  },
  {
   "cell_type": "code",
   "execution_count": null,
   "metadata": {},
   "outputs": [],
   "source": [
    "df[\"Census_ActivationChannel\"].value_counts()"
   ]
  },
  {
   "cell_type": "code",
   "execution_count": null,
   "metadata": {},
   "outputs": [],
   "source": [
    "df[\"Census_ActivationChannel\"].hist()"
   ]
  },
  {
   "cell_type": "markdown",
   "metadata": {},
   "source": [
    "Podemos ver que hay dos valores que predominan. Podriamos prescindir de las pocas observaciones con valores `Volume:MAK` y `Retail:TB:Eval` para asi tener dos columnas catergoricas menos al hacer OHE"
   ]
  },
  {
   "cell_type": "code",
   "execution_count": null,
   "metadata": {},
   "outputs": [],
   "source": [
    "df[~df[\"Census_ActivationChannel\"].isin([\"Volume:MAK\", \"Retail:TB:Eval\"])][\"Census_ActivationChannel\"].value_counts()"
   ]
  },
  {
   "cell_type": "markdown",
   "metadata": {},
   "source": [
    "---\n",
    "### Census_IsFlightsDisabled"
   ]
  },
  {
   "cell_type": "code",
   "execution_count": null,
   "metadata": {},
   "outputs": [],
   "source": [
    "df[\"Census_IsFlightsDisabled\"].value_counts()"
   ]
  },
  {
   "cell_type": "code",
   "execution_count": null,
   "metadata": {},
   "outputs": [],
   "source": [
    "df[[\"Census_IsFlightsDisabled\", \"HasDetections\"]].corr()"
   ]
  },
  {
   "cell_type": "markdown",
   "metadata": {},
   "source": [
    "A parte de que la varianza es casi inexistente, la correlacion es tambien muy baja, por lo tanto eliminaremos esta columna."
   ]
  },
  {
   "cell_type": "code",
   "execution_count": 213,
   "metadata": {},
   "outputs": [],
   "source": [
    "del_columns.append('Census_IsFlightsDisabled')"
   ]
  },
  {
   "cell_type": "markdown",
   "metadata": {},
   "source": [
    "---\n",
    "### Census_FlightRing"
   ]
  },
  {
   "cell_type": "code",
   "execution_count": null,
   "metadata": {},
   "outputs": [],
   "source": [
    "df[\"Census_FlightRing\"].value_counts()"
   ]
  },
  {
   "cell_type": "code",
   "execution_count": null,
   "metadata": {},
   "outputs": [],
   "source": [
    "df[\"Census_FlightRing\"].hist()"
   ]
  },
  {
   "cell_type": "markdown",
   "metadata": {},
   "source": [
    "Aqui podemos apreciar valores muy desbalanceados y como poca variabilidad. Vamos a eliminar esta columna."
   ]
  },
  {
   "cell_type": "code",
   "execution_count": 216,
   "metadata": {},
   "outputs": [],
   "source": [
    "del_columns.append('Census_FlightRing')"
   ]
  },
  {
   "cell_type": "markdown",
   "metadata": {},
   "source": [
    "---\n",
    "### Census_FirmwareManufacturerIdentifier"
   ]
  },
  {
   "cell_type": "code",
   "execution_count": null,
   "metadata": {},
   "outputs": [],
   "source": [
    "df[\"Census_FirmwareManufacturerIdentifier\"].value_counts().sort_index()"
   ]
  },
  {
   "cell_type": "code",
   "execution_count": null,
   "metadata": {},
   "outputs": [],
   "source": [
    "df[\"Census_FirmwareManufacturerIdentifier\"].value_counts().sort_values(ascending=False)"
   ]
  },
  {
   "cell_type": "code",
   "execution_count": null,
   "metadata": {},
   "outputs": [],
   "source": [
    "df[\"Census_FirmwareManufacturerIdentifier\"].hist()"
   ]
  },
  {
   "cell_type": "code",
   "execution_count": 220,
   "metadata": {},
   "outputs": [],
   "source": [
    "# Obtener las seis categorías más frecuentes\n",
    "top_6_categories = df[\"Census_FirmwareManufacturerIdentifier\"].value_counts().nlargest(6).index\n",
    "\n",
    "# Renombrar las categorías y agrupar las restantes bajo \"Otros\"\n",
    "df[\"Census_FirmwareManufacturerIdentifier\"] = df[\"Census_FirmwareManufacturerIdentifier\"].apply(\n",
    "    lambda x: f\"Id_{x}\" if x in top_6_categories else \"Otros\"\n",
    ")\n",
    "\n",
    "# Realizar One-Hot Encoding\n",
    "df = pd.get_dummies(df, columns=[\"Census_FirmwareManufacturerIdentifier\"], prefix=\"FirmwareManufacturer\", prefix_sep=\"\")"
   ]
  },
  {
   "cell_type": "code",
   "execution_count": null,
   "metadata": {},
   "outputs": [],
   "source": [
    "df[[\n",
    "    'FirmwareManufacturerOtros',\n",
    "    'FirmwareManufacturerId_142.0',\n",
    "    'FirmwareManufacturerId_355.0',\n",
    "    'FirmwareManufacturerId_500.0',\n",
    "    'FirmwareManufacturerId_554.0',\n",
    "    'FirmwareManufacturerId_556.0',\n",
    "    'FirmwareManufacturerId_628.0']].corrwith(df['HasDetections'])"
   ]
  },
  {
   "cell_type": "code",
   "execution_count": null,
   "metadata": {},
   "outputs": [],
   "source": [
    "corr, p_value = pointbiserialr(df['FirmwareManufacturerId_142.0'], df['HasDetections'])\n",
    "print(f'Correlación: {corr}, p-valor: {p_value}')"
   ]
  },
  {
   "cell_type": "markdown",
   "metadata": {},
   "source": [
    "Al final hemos decidido mantener la columna como un ID y veremos cuanto ayuda al modelo."
   ]
  },
  {
   "cell_type": "markdown",
   "metadata": {},
   "source": [
    "---\n",
    "### Census_FirmwareVersionIdentifier"
   ]
  },
  {
   "cell_type": "code",
   "execution_count": null,
   "metadata": {},
   "outputs": [],
   "source": [
    "df[\"Census_FirmwareVersionIdentifier\"].value_counts().sort_index()"
   ]
  },
  {
   "cell_type": "code",
   "execution_count": null,
   "metadata": {},
   "outputs": [],
   "source": [
    "df[\"Census_FirmwareVersionIdentifier\"].value_counts().sort_values(ascending=False)"
   ]
  },
  {
   "cell_type": "code",
   "execution_count": null,
   "metadata": {},
   "outputs": [],
   "source": [
    "df[\"Census_FirmwareVersionIdentifier\"].hist()"
   ]
  },
  {
   "cell_type": "code",
   "execution_count": null,
   "metadata": {},
   "outputs": [],
   "source": [
    "df[\"Census_FirmwareVersionIdentifier\"].nunique()"
   ]
  },
  {
   "cell_type": "code",
   "execution_count": null,
   "metadata": {},
   "outputs": [],
   "source": [
    "df[[\"Census_FirmwareVersionIdentifier\", \"HasDetections\"]].corr()"
   ]
  },
  {
   "cell_type": "markdown",
   "metadata": {},
   "source": [
    "Una vez mas, tiene poca correlacion. Prescindimos de ella."
   ]
  },
  {
   "cell_type": "code",
   "execution_count": 228,
   "metadata": {},
   "outputs": [],
   "source": [
    "del_columns.append('Census_FirmwareVersionIdentifier')"
   ]
  },
  {
   "cell_type": "markdown",
   "metadata": {},
   "source": [
    "---\n",
    "### Census_IsSecureBootEnabled"
   ]
  },
  {
   "cell_type": "code",
   "execution_count": null,
   "metadata": {},
   "outputs": [],
   "source": [
    "df[\"Census_IsSecureBootEnabled\"].value_counts().sort_index()"
   ]
  },
  {
   "cell_type": "code",
   "execution_count": null,
   "metadata": {},
   "outputs": [],
   "source": [
    "df[[\"Census_IsSecureBootEnabled\", \"HasDetections\"]].corr()"
   ]
  },
  {
   "cell_type": "code",
   "execution_count": null,
   "metadata": {},
   "outputs": [],
   "source": [
    "df[\"Census_IsSecureBootEnabled\"].hist()"
   ]
  },
  {
   "cell_type": "markdown",
   "metadata": {},
   "source": [
    "Aqui podemos ver que la relacion con el target es muy baja. Eliminaremos esta columna."
   ]
  },
  {
   "cell_type": "code",
   "execution_count": 232,
   "metadata": {},
   "outputs": [],
   "source": [
    "del_columns.append('Census_IsSecureBootEnabled')"
   ]
  },
  {
   "cell_type": "markdown",
   "metadata": {},
   "source": [
    "---\n",
    "### Census_IsVirtualDevice"
   ]
  },
  {
   "cell_type": "code",
   "execution_count": null,
   "metadata": {},
   "outputs": [],
   "source": [
    "df[\"Census_IsVirtualDevice\"].value_counts().sort_index()"
   ]
  },
  {
   "cell_type": "code",
   "execution_count": null,
   "metadata": {},
   "outputs": [],
   "source": [
    "df[\"Census_IsVirtualDevice\"].hist()"
   ]
  },
  {
   "cell_type": "code",
   "execution_count": null,
   "metadata": {},
   "outputs": [],
   "source": [
    "df[[\"Census_IsVirtualDevice\", \"HasDetections\"]].corr()"
   ]
  },
  {
   "cell_type": "markdown",
   "metadata": {},
   "source": [
    "Siendo la correlacion tan baja y el balance de datos tan descompensado tambien vamos a eliminar esta columna."
   ]
  },
  {
   "cell_type": "code",
   "execution_count": 236,
   "metadata": {},
   "outputs": [],
   "source": [
    "del_columns.append('Census_IsVirtualDevice')"
   ]
  },
  {
   "cell_type": "markdown",
   "metadata": {},
   "source": [
    "---\n",
    "### Census_IsTouchEnabled"
   ]
  },
  {
   "cell_type": "code",
   "execution_count": null,
   "metadata": {},
   "outputs": [],
   "source": [
    "df[\"Census_IsTouchEnabled\"].value_counts().sort_index()"
   ]
  },
  {
   "cell_type": "code",
   "execution_count": null,
   "metadata": {},
   "outputs": [],
   "source": [
    "df[\"Census_IsTouchEnabled\"].hist()"
   ]
  },
  {
   "cell_type": "code",
   "execution_count": null,
   "metadata": {},
   "outputs": [],
   "source": [
    "df[[\"Census_IsTouchEnabled\", \"HasDetections\"]].corr()"
   ]
  },
  {
   "cell_type": "markdown",
   "metadata": {},
   "source": [
    "No hay mucha correlacion con el target y los valores estan descompensados. Eliminamos la columna."
   ]
  },
  {
   "cell_type": "code",
   "execution_count": 240,
   "metadata": {},
   "outputs": [],
   "source": [
    "del_columns.append('Census_IsTouchEnabled')"
   ]
  },
  {
   "cell_type": "markdown",
   "metadata": {},
   "source": [
    "---\n",
    "### Census_IsPenCapable"
   ]
  },
  {
   "cell_type": "code",
   "execution_count": null,
   "metadata": {},
   "outputs": [],
   "source": [
    "df[\"Census_IsPenCapable\"].value_counts().sort_index()"
   ]
  },
  {
   "cell_type": "code",
   "execution_count": null,
   "metadata": {},
   "outputs": [],
   "source": [
    "df[\"Census_IsPenCapable\"].hist()"
   ]
  },
  {
   "cell_type": "code",
   "execution_count": null,
   "metadata": {},
   "outputs": [],
   "source": [
    "df[[\"Census_IsPenCapable\", \"HasDetections\"]].corr()"
   ]
  },
  {
   "cell_type": "markdown",
   "metadata": {},
   "source": [
    "No hay mucha correlacion con el target y los valores estan descompensados. Eliminamos la columna."
   ]
  },
  {
   "cell_type": "code",
   "execution_count": 244,
   "metadata": {},
   "outputs": [],
   "source": [
    "del_columns.append('Census_IsPenCapable')"
   ]
  },
  {
   "cell_type": "markdown",
   "metadata": {},
   "source": [
    "---\n",
    "### Census_IsAlwaysOnAlwaysConnectedCapable"
   ]
  },
  {
   "cell_type": "code",
   "execution_count": null,
   "metadata": {},
   "outputs": [],
   "source": [
    "df[\"Census_IsAlwaysOnAlwaysConnectedCapable\"].value_counts().sort_index()"
   ]
  },
  {
   "cell_type": "code",
   "execution_count": null,
   "metadata": {},
   "outputs": [],
   "source": [
    "df[\"Census_IsAlwaysOnAlwaysConnectedCapable\"].hist()"
   ]
  },
  {
   "cell_type": "code",
   "execution_count": null,
   "metadata": {},
   "outputs": [],
   "source": [
    "df[[\"Census_IsAlwaysOnAlwaysConnectedCapable\", \"HasDetections\"]].corr()"
   ]
  },
  {
   "cell_type": "markdown",
   "metadata": {},
   "source": [
    "No hay mucha correlacion con el target y los valores estan descompensados. Eliminamos la columna."
   ]
  },
  {
   "cell_type": "code",
   "execution_count": 248,
   "metadata": {},
   "outputs": [],
   "source": [
    "del_columns.append('Census_IsAlwaysOnAlwaysConnectedCapable')"
   ]
  },
  {
   "cell_type": "markdown",
   "metadata": {},
   "source": [
    "---\n",
    "### Wdft_IsGamer"
   ]
  },
  {
   "cell_type": "code",
   "execution_count": null,
   "metadata": {},
   "outputs": [],
   "source": [
    "df[\"Wdft_IsGamer\"].value_counts().sort_index()"
   ]
  },
  {
   "cell_type": "code",
   "execution_count": null,
   "metadata": {},
   "outputs": [],
   "source": [
    "df[\"Wdft_IsGamer\"].hist()"
   ]
  },
  {
   "cell_type": "code",
   "execution_count": null,
   "metadata": {},
   "outputs": [],
   "source": [
    "df[[\"Wdft_IsGamer\", \"HasDetections\"]].corr()"
   ]
  },
  {
   "cell_type": "markdown",
   "metadata": {},
   "source": [
    "No hay mucha correlacion con el target y los valores estan descompensados. Eliminamos la columna."
   ]
  },
  {
   "cell_type": "code",
   "execution_count": 252,
   "metadata": {},
   "outputs": [],
   "source": [
    "del_columns.append('Wdft_IsGamer')"
   ]
  },
  {
   "cell_type": "markdown",
   "metadata": {},
   "source": [
    "---\n",
    "### Wdft_RegionIdentifier"
   ]
  },
  {
   "cell_type": "code",
   "execution_count": null,
   "metadata": {},
   "outputs": [],
   "source": [
    "df[\"Wdft_RegionIdentifier\"].value_counts().sort_index()"
   ]
  },
  {
   "cell_type": "code",
   "execution_count": 254,
   "metadata": {},
   "outputs": [],
   "source": [
    "# Calcular el umbral del 5%\n",
    "threshold = len(df) * 0.05\n",
    "\n",
    "# Obtener los valores que superan el umbral\n",
    "top_region_ids = df[\"Wdft_RegionIdentifier\"].value_counts()[df[\"Wdft_RegionIdentifier\"].value_counts() > threshold].index\n",
    "\n",
    "# Renombrar las categorías y agrupar las restantes bajo \"OtrosRegionId\"\n",
    "df[\"Wdft_RegionIdentifier\"] = df[\"Wdft_RegionIdentifier\"].apply(\n",
    "    lambda x: f\"RegionId_{x}\" if x in top_region_ids else \"OtrosRegionId\"\n",
    ")\n",
    "\n",
    "# Realizar One-Hot Encoding\n",
    "df = pd.get_dummies(df, columns=[\"Wdft_RegionIdentifier\"], prefix=\"\", prefix_sep=\"\")"
   ]
  },
  {
   "cell_type": "code",
   "execution_count": null,
   "metadata": {},
   "outputs": [],
   "source": [
    "df.head()"
   ]
  },
  {
   "cell_type": "markdown",
   "metadata": {},
   "source": [
    "Aqui se podria hcer el mismo procedimiento que hemos hecho con `Census_FirmwareManufacturerIdentifier` o se borra directamente. Para hablarlo."
   ]
  },
  {
   "cell_type": "code",
   "execution_count": null,
   "metadata": {},
   "outputs": [],
   "source": [
    "df[['OtrosRegionId','RegionId_1.0','RegionId_10.0','RegionId_11.0','RegionId_15.0','RegionId_3.0','RegionId_7.0']].corrwith(df['HasDetections'])"
   ]
  },
  {
   "cell_type": "code",
   "execution_count": null,
   "metadata": {},
   "outputs": [],
   "source": [
    "df.info()"
   ]
  },
  {
   "cell_type": "markdown",
   "metadata": {},
   "source": [
    "## Borramos las columnas que no necesitamos"
   ]
  },
  {
   "cell_type": "code",
   "execution_count": 258,
   "metadata": {},
   "outputs": [],
   "source": [
    "df.drop(del_columns, axis=1, inplace=True)"
   ]
  },
  {
   "cell_type": "code",
   "execution_count": 259,
   "metadata": {},
   "outputs": [],
   "source": [
    "df.drop_duplicates(inplace=True)\n",
    "df.reset_index(drop=True, inplace=True)"
   ]
  },
  {
   "cell_type": "code",
   "execution_count": null,
   "metadata": {},
   "outputs": [],
   "source": [
    "df"
   ]
  },
  {
   "cell_type": "code",
   "execution_count": null,
   "metadata": {},
   "outputs": [],
   "source": [
    "df.info()"
   ]
  },
  {
   "cell_type": "markdown",
   "metadata": {},
   "source": [
    "## Modificamos algunas columnas"
   ]
  },
  {
   "cell_type": "code",
   "execution_count": 262,
   "metadata": {},
   "outputs": [],
   "source": [
    "df['OsSuite'] = df['OsSuite'].apply(lambda x: 1 if x==768 else 0)\n",
    "df['SkuEdition'] = df['SkuEdition'].apply(lambda x: \"Other\" if x not in list([\"Home\", \"Pro\"]) else x)\n",
    "df['IeVerIdentifier'] = df['IeVerIdentifier'].apply(lambda x: \"Other\" if x not in list([137.0000, 117.0000, 108.0000, 111.0000]) else x)\n",
    "df['Census_OEMNameIdentifier'] = df['Census_OEMNameIdentifier'].apply(lambda x: \"Other\" if x not in list([2668.0000, 2102.0000, 1443.0000, 2206.0000, 585.0000, 525.0000]) else x)\n",
    "df['Census_ProcessorCoreCount'] = df['Census_ProcessorCoreCount'].apply(lambda x: \"Other\" if x not in list([4.0, 2.0, 8.0]) else x)\n",
    "df['Census_ActivationChannel'] = df['Census_ActivationChannel'].apply(lambda x: x.split(\":\")[0])"
   ]
  },
  {
   "cell_type": "markdown",
   "metadata": {},
   "source": [
    "## Census_ProcessorModelIdentifier normalizamos"
   ]
  },
  {
   "cell_type": "markdown",
   "metadata": {},
   "source": [
    "## Census_OSBuildNumber normalizamos"
   ]
  },
  {
   "cell_type": "code",
   "execution_count": null,
   "metadata": {},
   "outputs": [],
   "source": [
    "df.hist(bins=30, figsize=(15, 40), layout=(19, 3), edgecolor='black', color='skyblue')\n",
    "plt.suptitle(\"Distribuciones de las Variables\", fontsize=11)\n",
    "plt.tight_layout(rect=[0, 0, 1, 0.96])\n",
    "plt.show()"
   ]
  },
  {
   "cell_type": "code",
   "execution_count": null,
   "metadata": {},
   "outputs": [],
   "source": [
    "plt.figure(figsize=(6, 4))\n",
    "sns.countplot(data=df, x='HasDetections', palette=['skyblue', 'salmon'], edgecolor='black')\n",
    "\n",
    "plt.title(\"Distribución de la Variable Target\", fontsize=14)\n",
    "plt.xlabel(\"HasDetections (0 = No infectado, 1 = Infectado)\", fontsize=12)\n",
    "plt.ylabel(\"Frecuencia\", fontsize=12)\n",
    "plt.show()"
   ]
  },
  {
   "cell_type": "code",
   "execution_count": null,
   "metadata": {},
   "outputs": [],
   "source": [
    "import pandas as pd\n",
    "from sklearn.preprocessing import LabelEncoder, StandardScaler\n",
    "\n",
    "# Asegurar que las columnas categóricas sean de tipo string\n",
    "df = df.astype(str)\n",
    "\n",
    "# Aplicar Label Encoding solo a las columnas categóricas\n",
    "label_encoder = LabelEncoder()\n",
    "for column in df.select_dtypes(include=['object']).columns:\n",
    "    df[column] = label_encoder.fit_transform(df[column])\n",
    "\n",
    "# Convertir el DataFrame a tipo numérico después del Label Encoding\n",
    "df = df.apply(pd.to_numeric)\n",
    "\n",
    "# Normalizar solo las columnas numéricas\n",
    "scaler = StandardScaler()\n",
    "df_normalized = pd.DataFrame(scaler.fit_transform(df), columns=df.columns)\n",
    "\n",
    "# Crear la matriz de correlación\n",
    "correlation_matrix = df_normalized.corr()\n",
    "\n",
    "# Ajustar dinámicamente el tamaño de la figura basado en el número de filas y columnas\n",
    "n = correlation_matrix.shape[0]\n",
    "width = max(12, n)\n",
    "height = max(10, n)\n",
    "\n",
    "plt.figure(figsize=(width, height))\n",
    "sns.heatmap(correlation_matrix, annot=True, cmap=\"coolwarm\", fmt=\".2f\", square=True, linewidths=0.5)\n",
    "plt.title(f\"Matriz de Correlación ({n}x{n})\")\n",
    "plt.show()\n",
    "\n"
   ]
  },
  {
   "cell_type": "code",
   "execution_count": null,
   "metadata": {},
   "outputs": [],
   "source": [
    "from sklearn.model_selection import train_test_split\n",
    "from sklearn.tree import DecisionTreeClassifier\n",
    "from sklearn.metrics import accuracy_score\n",
    "\n",
    "import matplotlib.pyplot as plt\n",
    "\n",
    "# Dividir los datos en conjuntos de entrenamiento y prueba\n",
    "X = df.drop('HasDetections', axis=1)  # Eliminar la columna objetivo para obtener solo las características (features)\n",
    "y = df['HasDetections']  # La variable objetivo que queremos predecir\n",
    "X_train, X_test, y_train, y_test = train_test_split(\n",
    "    X, y, test_size=0.3, random_state=42)  # 70% entrenamiento, 30% prueba, semilla aleatoria fija para reproducibilidad\n",
    "\n",
    "# Crear y entrenar el modelo de Decision Tree\n",
    "tree_model = DecisionTreeClassifier(random_state=42)  # Modelo de árbol de decisión con configuración predeterminada\n",
    "tree_model.fit(X_train, y_train)  # Entrenar el modelo con los datos de entrenamiento\n",
    "\n",
    "# Evaluar el modelo en los datos de entrenamiento y prueba\n",
    "train_accuracy = accuracy_score(y_train, tree_model.predict(X_train))  # Precisión en entrenamiento\n",
    "test_accuracy = accuracy_score(y_test, tree_model.predict(X_test))  # Precisión en prueba\n",
    "\n",
    "# Imprimir las métricas de precisión\n",
    "print(f'Train Accuracy: {train_accuracy}')  # Si la precisión es muy alta aquí, puede indicar sobreajuste\n",
    "print(f'Test Accuracy: {test_accuracy}')  # Si es mucho menor que la de entrenamiento, el modelo no generaliza bien\n",
    "\n",
    "# Graficar las curvas de aprendizaje\n",
    "train_sizes = [1, 100, 500, 2000, 5000, 10000, len(X_train)]  # Diferentes tamaños de entrenamiento para ver el aprendizaje\n",
    "train_scores = []  # Lista para almacenar la precisión en entrenamiento\n",
    "test_scores = []  # Lista para almacenar la precisión en prueba\n",
    "\n",
    "# Entrenar y evaluar el modelo con diferentes tamaños de entrenamiento\n",
    "for train_size in train_sizes:\n",
    "    X_train_subset = X_train[:train_size]  # Tomar una porción del conjunto de entrenamiento\n",
    "    y_train_subset = y_train[:train_size]  # Tomar las etiquetas correspondientes\n",
    "    tree_model.fit(X_train_subset, y_train_subset)  # Volver a entrenar con el subconjunto reducido\n",
    "    train_scores.append(accuracy_score(y_train_subset, tree_model.predict(X_train_subset)))  # Precisión en entrenamiento\n",
    "    test_scores.append(accuracy_score(y_test, tree_model.predict(X_test)))  # Precisión en prueba (se mantiene fija)\n",
    "\n",
    "# Graficar las curvas de aprendizaje\n",
    "plt.figure(figsize=(10, 6))  # Ajustar el tamaño de la figura\n",
    "plt.plot(train_sizes, train_scores, label='Train Accuracy')  # Curva de precisión en entrenamiento\n",
    "plt.plot(train_sizes, test_scores, label='Test Accuracy')  # Curva de precisión en prueba\n",
    "plt.xlabel('Training Set Size')  # Etiqueta del eje X\n",
    "plt.ylabel('Accuracy')  # Etiqueta del eje Y\n",
    "plt.title('Learning Curves (Decision Tree)')  # Título del gráfico\n",
    "plt.legend()  # Mostrar leyenda\n",
    "plt.show()  # Mostrar la gráfica\n"
   ]
  },
  {
   "cell_type": "markdown",
   "metadata": {},
   "source": [
    "---\n",
    "> He hecho algunos ajustes para obtener mejores resultados"
   ]
  },
  {
   "cell_type": "code",
   "execution_count": null,
   "metadata": {},
   "outputs": [],
   "source": [
    "from sklearn.model_selection import train_test_split, cross_val_score\n",
    "from sklearn.tree import DecisionTreeClassifier\n",
    "from sklearn.metrics import accuracy_score\n",
    "import numpy as np\n",
    "import matplotlib.pyplot as plt\n",
    "\n",
    "# Dividir los datos en conjuntos de entrenamiento y prueba\n",
    "X = df.drop('HasDetections', axis=1)\n",
    "y = df['HasDetections']\n",
    "X_train, X_test, y_train, y_test = train_test_split(X, y, test_size=0.3, random_state=42)\n",
    "\n",
    "# Obtener valores de poda (ccp_alpha) con muestreo reducido\n",
    "tree = DecisionTreeClassifier(random_state=42)\n",
    "path = tree.cost_complexity_pruning_path(X_train, y_train)\n",
    "ccp_alphas = path.ccp_alphas\n",
    "\n",
    "# Filtrar valores negativos y reducir la cantidad de valores de ccp_alpha\n",
    "ccp_alphas = ccp_alphas[ccp_alphas >= 0]\n",
    "ccp_alphas = np.unique(np.round(ccp_alphas, decimals=6))  # Redondear para evitar valores redundantes\n",
    "ccp_alphas = np.linspace(min(ccp_alphas), max(ccp_alphas), num=10)  # Seleccionar solo 10 valores para evaluar\n",
    "\n",
    "# Seleccionar el mejor ccp_alpha con menos cálculos\n",
    "if len(ccp_alphas) > 0:\n",
    "    alpha_scores = []\n",
    "\n",
    "    for alpha in ccp_alphas:\n",
    "        tree = DecisionTreeClassifier(random_state=42, ccp_alpha=alpha)\n",
    "        scores = cross_val_score(tree, X_train, y_train, cv=3)  # Reducir a cv=3 para mayor velocidad\n",
    "        alpha_scores.append(scores.mean())\n",
    "\n",
    "    best_alpha = ccp_alphas[np.argmax(alpha_scores)]\n",
    "else:\n",
    "    best_alpha = 0.0\n",
    "\n",
    "# Crear y entrenar el modelo optimizado\n",
    "tree_model = DecisionTreeClassifier(\n",
    "    max_depth=5,\n",
    "    min_samples_split=10,\n",
    "    min_samples_leaf=5,\n",
    "    ccp_alpha=best_alpha,\n",
    "    random_state=42\n",
    ")\n",
    "tree_model.fit(X_train, y_train)\n",
    "\n",
    "# Evaluar el modelo\n",
    "train_accuracy = accuracy_score(y_train, tree_model.predict(X_train))\n",
    "test_accuracy = accuracy_score(y_test, tree_model.predict(X_test))\n",
    "\n",
    "# Imprimir métricas\n",
    "print(f'Train Accuracy: {train_accuracy:.4f}')\n",
    "print(f'Test Accuracy: {test_accuracy:.4f}')\n",
    "\n",
    "# Generar curva de aprendizaje con tamaños reducidos\n",
    "train_sizes = np.linspace(0.1, 1.0, 6) * len(X_train)  # Reducir a 6 puntos para menor tiempo de cómputo\n",
    "train_sizes = train_sizes.astype(int)\n",
    "\n",
    "train_scores = []\n",
    "test_scores = []\n",
    "\n",
    "for train_size in train_sizes:\n",
    "    X_train_subset = X_train.iloc[:train_size]  # Asegurar selección de filas correcta\n",
    "    y_train_subset = y_train.iloc[:train_size]\n",
    "    \n",
    "    # Entrenar solo una vez por cada tamaño\n",
    "    tree_model.fit(X_train_subset, y_train_subset)\n",
    "    train_scores.append(accuracy_score(y_train_subset, tree_model.predict(X_train_subset)))\n",
    "    test_scores.append(accuracy_score(y_test, tree_model.predict(X_test)))\n",
    "\n",
    "# Graficar curvas de aprendizaje\n",
    "plt.figure(figsize=(10, 6))\n",
    "plt.plot(train_sizes, train_scores, label='Train Accuracy', marker='o')\n",
    "plt.plot(train_sizes, test_scores, label='Test Accuracy', marker='o')\n",
    "plt.xlabel('Training Set Size')\n",
    "plt.ylabel('Accuracy')\n",
    "plt.title('Learning Curves (Decision Tree) - Optimized')\n",
    "plt.legend()\n",
    "plt.show()\n"
   ]
  },
  {
   "cell_type": "markdown",
   "metadata": {},
   "source": [
    "---\n",
    "> He hecho mas ajustes para obtener mejores resultados"
   ]
  },
  {
   "cell_type": "code",
   "execution_count": null,
   "metadata": {},
   "outputs": [],
   "source": [
    "from sklearn.model_selection import train_test_split, cross_val_score\n",
    "from sklearn.tree import DecisionTreeClassifier\n",
    "from sklearn.ensemble import RandomForestClassifier\n",
    "from sklearn.metrics import accuracy_score\n",
    "import numpy as np\n",
    "import matplotlib.pyplot as plt\n",
    "\n",
    "# Dividir los datos en conjuntos de entrenamiento y prueba\n",
    "X = df.drop('HasDetections', axis=1)\n",
    "y = df['HasDetections']\n",
    "X_train, X_test, y_train, y_test = train_test_split(X, y, test_size=0.3, random_state=42)\n",
    "\n",
    "# Obtener valores de poda (ccp_alpha) con muestreo reducido\n",
    "tree = DecisionTreeClassifier(random_state=42)\n",
    "path = tree.cost_complexity_pruning_path(X_train, y_train)\n",
    "ccp_alphas = path.ccp_alphas\n",
    "\n",
    "# Filtrar valores negativos y reducir la cantidad de valores de ccp_alpha\n",
    "ccp_alphas = ccp_alphas[ccp_alphas >= 0]\n",
    "ccp_alphas = np.linspace(min(ccp_alphas), max(ccp_alphas), num=5)  # Seleccionar solo 5 valores para evaluar\n",
    "\n",
    "# Seleccionar el mejor ccp_alpha con menos cálculos\n",
    "if len(ccp_alphas) > 0:\n",
    "    alpha_scores = []\n",
    "\n",
    "    for alpha in ccp_alphas:\n",
    "        tree = DecisionTreeClassifier(random_state=42, ccp_alpha=alpha)\n",
    "        scores = cross_val_score(tree, X_train, y_train, cv=2)  # Reducir a cv=2 para mayor velocidad\n",
    "        alpha_scores.append(scores.mean())\n",
    "\n",
    "    best_alpha = ccp_alphas[np.argmax(alpha_scores)]\n",
    "else:\n",
    "    best_alpha = 0.0\n",
    "\n",
    "# Crear y entrenar el modelo optimizado con más profundidad\n",
    "tree_model = DecisionTreeClassifier(\n",
    "    max_depth=10,\n",
    "    min_samples_split=5,\n",
    "    min_samples_leaf=3,\n",
    "    ccp_alpha=best_alpha,\n",
    "    random_state=42\n",
    ")\n",
    "tree_model.fit(X_train, y_train)\n",
    "\n",
    "# Evaluar el modelo de árbol de decisión\n",
    "train_accuracy = accuracy_score(y_train, tree_model.predict(X_train))\n",
    "test_accuracy = accuracy_score(y_test, tree_model.predict(X_test))\n",
    "\n",
    "print(f'Decision Tree - Train Accuracy: {train_accuracy:.4f}')\n",
    "print(f'Decision Tree - Test Accuracy: {test_accuracy:.4f}')\n",
    "\n",
    "# Entrenar un Random Forest para mejorar la generalización\n",
    "rf_model = RandomForestClassifier(n_estimators=100, max_depth=10, random_state=42)\n",
    "rf_model.fit(X_train, y_train)\n",
    "\n",
    "# Evaluar el modelo de Random Forest\n",
    "rf_train_accuracy = accuracy_score(y_train, rf_model.predict(X_train))\n",
    "rf_test_accuracy = accuracy_score(y_test, rf_model.predict(X_test))\n",
    "\n",
    "print(f'Random Forest - Train Accuracy: {rf_train_accuracy:.4f}')\n",
    "print(f'Random Forest - Test Accuracy: {rf_test_accuracy:.4f}')\n",
    "\n",
    "# Generar curva de aprendizaje con tamaños reducidos\n",
    "train_sizes = np.linspace(0.1, 1.0, 5) * len(X_train)  # Reducir a 5 puntos clave\n",
    "train_sizes = train_sizes.astype(int)\n",
    "\n",
    "train_scores = []\n",
    "test_scores = []\n",
    "\n",
    "for train_size in train_sizes:\n",
    "    X_train_subset = X_train.iloc[:train_size]\n",
    "    y_train_subset = y_train.iloc[:train_size]\n",
    "    \n",
    "    tree_model.fit(X_train_subset, y_train_subset)\n",
    "    train_scores.append(accuracy_score(y_train_subset, tree_model.predict(X_train_subset)))\n",
    "    test_scores.append(accuracy_score(y_test, tree_model.predict(X_test)))\n",
    "\n",
    "# Graficar curvas de aprendizaje\n",
    "plt.figure(figsize=(10, 6))\n",
    "plt.plot(train_sizes, train_scores, label='Decision Tree - Train Accuracy', marker='o')\n",
    "plt.plot(train_sizes, test_scores, label='Decision Tree - Test Accuracy', marker='o')\n",
    "plt.xlabel('Training Set Size')\n",
    "plt.ylabel('Accuracy')\n",
    "plt.title('Learning Curves (Decision Tree) - Improved')\n",
    "plt.legend()\n",
    "plt.show()"
   ]
  }
 ],
 "metadata": {
  "kernelspec": {
   "display_name": "Python 3",
   "language": "python",
   "name": "python3"
  },
  "language_info": {
   "codemirror_mode": {
    "name": "ipython",
    "version": 3
   },
   "file_extension": ".py",
   "mimetype": "text/x-python",
   "name": "python",
   "nbconvert_exporter": "python",
   "pygments_lexer": "ipython3",
   "version": "3.12.2"
  }
 },
 "nbformat": 4,
 "nbformat_minor": 2
}
