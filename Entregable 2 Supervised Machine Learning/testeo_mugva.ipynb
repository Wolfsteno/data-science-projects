{
 "cells": [
  {
   "metadata": {
    "ExecuteTime": {
     "end_time": "2025-02-03T21:33:22.109138Z",
     "start_time": "2025-02-03T21:33:22.105786Z"
    }
   },
   "cell_type": "code",
   "source": [
    "import pandas as pd\n",
    "import seaborn as sns\n",
    "import matplotlib.pyplot as plt\n",
    "import numpy as np"
   ],
   "id": "dce2c8dab3a3e674",
   "outputs": [],
   "execution_count": 1
  },
  {
   "metadata": {
    "ExecuteTime": {
     "end_time": "2025-02-03T21:33:50.872047Z",
     "start_time": "2025-02-03T21:33:31.064839Z"
    }
   },
   "cell_type": "code",
   "source": [
    "del_columns = []\n",
    "pd.set_option('display.float_format', '{:.4f}'.format)\n",
    "\n",
    "url = \"https://www.dropbox.com/scl/fi/uvv7j1bragzqkz9zwyvj0/sample_mmp.csv?rlkey=i0mlaxzq6e3blblfu9mhrdpsm&e=1&dl=1\"\n",
    "df = pd.read_csv(url)\n",
    "df.head(2)"
   ],
   "id": "7ecb0f9799e17374",
   "outputs": [
    {
     "name": "stderr",
     "output_type": "stream",
     "text": [
      "C:\\Users\\uvmar\\AppData\\Local\\Temp\\ipykernel_44500\\2028297110.py:5: DtypeWarning: Columns (29,42) have mixed types. Specify dtype option on import or set low_memory=False.\n",
      "  df = pd.read_csv(url)\n"
     ]
    },
    {
     "data": {
      "text/plain": [
       "   Unnamed: 0                 MachineIdentifier   ProductName EngineVersion  \\\n",
       "0     8427007  f1cd864e97bae82bdf96523e1a539121  win8defender   1.1.15100.1   \n",
       "1     8829090  fd5ba6f5b75325ec0423a6c67cc75942  win8defender   1.1.15100.1   \n",
       "\n",
       "        AppVersion  AvSigVersion  IsBeta  RtpStateBitfield  IsSxsPassiveMode  \\\n",
       "0  4.18.1807.18075  1.273.1234.0       0            7.0000                 0   \n",
       "1  4.18.1807.18075  1.273.1282.0       0            7.0000                 0   \n",
       "\n",
       "   DefaultBrowsersIdentifier  ...  Census_FirmwareVersionIdentifier  \\\n",
       "0                        NaN  ...                        19951.0000   \n",
       "1                        NaN  ...                        48753.0000   \n",
       "\n",
       "   Census_IsSecureBootEnabled  Census_IsWIMBootEnabled  \\\n",
       "0                           0                      NaN   \n",
       "1                           0                   0.0000   \n",
       "\n",
       "   Census_IsVirtualDevice  Census_IsTouchEnabled  Census_IsPenCapable  \\\n",
       "0                  0.0000                      0                    0   \n",
       "1                  0.0000                      0                    0   \n",
       "\n",
       "   Census_IsAlwaysOnAlwaysConnectedCapable  Wdft_IsGamer  \\\n",
       "0                                   0.0000        0.0000   \n",
       "1                                   0.0000        1.0000   \n",
       "\n",
       "   Wdft_RegionIdentifier HasDetections  \n",
       "0                11.0000             1  \n",
       "1                 3.0000             0  \n",
       "\n",
       "[2 rows x 84 columns]"
      ],
      "text/html": [
       "<div>\n",
       "<style scoped>\n",
       "    .dataframe tbody tr th:only-of-type {\n",
       "        vertical-align: middle;\n",
       "    }\n",
       "\n",
       "    .dataframe tbody tr th {\n",
       "        vertical-align: top;\n",
       "    }\n",
       "\n",
       "    .dataframe thead th {\n",
       "        text-align: right;\n",
       "    }\n",
       "</style>\n",
       "<table border=\"1\" class=\"dataframe\">\n",
       "  <thead>\n",
       "    <tr style=\"text-align: right;\">\n",
       "      <th></th>\n",
       "      <th>Unnamed: 0</th>\n",
       "      <th>MachineIdentifier</th>\n",
       "      <th>ProductName</th>\n",
       "      <th>EngineVersion</th>\n",
       "      <th>AppVersion</th>\n",
       "      <th>AvSigVersion</th>\n",
       "      <th>IsBeta</th>\n",
       "      <th>RtpStateBitfield</th>\n",
       "      <th>IsSxsPassiveMode</th>\n",
       "      <th>DefaultBrowsersIdentifier</th>\n",
       "      <th>...</th>\n",
       "      <th>Census_FirmwareVersionIdentifier</th>\n",
       "      <th>Census_IsSecureBootEnabled</th>\n",
       "      <th>Census_IsWIMBootEnabled</th>\n",
       "      <th>Census_IsVirtualDevice</th>\n",
       "      <th>Census_IsTouchEnabled</th>\n",
       "      <th>Census_IsPenCapable</th>\n",
       "      <th>Census_IsAlwaysOnAlwaysConnectedCapable</th>\n",
       "      <th>Wdft_IsGamer</th>\n",
       "      <th>Wdft_RegionIdentifier</th>\n",
       "      <th>HasDetections</th>\n",
       "    </tr>\n",
       "  </thead>\n",
       "  <tbody>\n",
       "    <tr>\n",
       "      <th>0</th>\n",
       "      <td>8427007</td>\n",
       "      <td>f1cd864e97bae82bdf96523e1a539121</td>\n",
       "      <td>win8defender</td>\n",
       "      <td>1.1.15100.1</td>\n",
       "      <td>4.18.1807.18075</td>\n",
       "      <td>1.273.1234.0</td>\n",
       "      <td>0</td>\n",
       "      <td>7.0000</td>\n",
       "      <td>0</td>\n",
       "      <td>NaN</td>\n",
       "      <td>...</td>\n",
       "      <td>19951.0000</td>\n",
       "      <td>0</td>\n",
       "      <td>NaN</td>\n",
       "      <td>0.0000</td>\n",
       "      <td>0</td>\n",
       "      <td>0</td>\n",
       "      <td>0.0000</td>\n",
       "      <td>0.0000</td>\n",
       "      <td>11.0000</td>\n",
       "      <td>1</td>\n",
       "    </tr>\n",
       "    <tr>\n",
       "      <th>1</th>\n",
       "      <td>8829090</td>\n",
       "      <td>fd5ba6f5b75325ec0423a6c67cc75942</td>\n",
       "      <td>win8defender</td>\n",
       "      <td>1.1.15100.1</td>\n",
       "      <td>4.18.1807.18075</td>\n",
       "      <td>1.273.1282.0</td>\n",
       "      <td>0</td>\n",
       "      <td>7.0000</td>\n",
       "      <td>0</td>\n",
       "      <td>NaN</td>\n",
       "      <td>...</td>\n",
       "      <td>48753.0000</td>\n",
       "      <td>0</td>\n",
       "      <td>0.0000</td>\n",
       "      <td>0.0000</td>\n",
       "      <td>0</td>\n",
       "      <td>0</td>\n",
       "      <td>0.0000</td>\n",
       "      <td>1.0000</td>\n",
       "      <td>3.0000</td>\n",
       "      <td>0</td>\n",
       "    </tr>\n",
       "  </tbody>\n",
       "</table>\n",
       "<p>2 rows × 84 columns</p>\n",
       "</div>"
      ]
     },
     "execution_count": 2,
     "metadata": {},
     "output_type": "execute_result"
    }
   ],
   "execution_count": 2
  },
  {
   "metadata": {},
   "cell_type": "markdown",
   "source": "# Revisión de columnas - Marc. de la 42 a la 62 (incluidas)\n",
   "id": "382a95460615128d"
  },
  {
   "metadata": {
    "ExecuteTime": {
     "end_time": "2025-02-03T21:34:53.243969Z",
     "start_time": "2025-02-03T21:34:53.239137Z"
    }
   },
   "cell_type": "code",
   "source": "list(df.columns[42:63])",
   "id": "3b80078428cb51ba",
   "outputs": [
    {
     "data": {
      "text/plain": [
       "['Census_ProcessorClass',\n",
       " 'Census_PrimaryDiskTotalCapacity',\n",
       " 'Census_PrimaryDiskTypeName',\n",
       " 'Census_SystemVolumeTotalCapacity',\n",
       " 'Census_HasOpticalDiskDrive',\n",
       " 'Census_TotalPhysicalRAM',\n",
       " 'Census_ChassisTypeName',\n",
       " 'Census_InternalPrimaryDiagonalDisplaySizeInInches',\n",
       " 'Census_InternalPrimaryDisplayResolutionHorizontal',\n",
       " 'Census_InternalPrimaryDisplayResolutionVertical',\n",
       " 'Census_PowerPlatformRoleName',\n",
       " 'Census_InternalBatteryType',\n",
       " 'Census_InternalBatteryNumberOfCharges',\n",
       " 'Census_OSVersion',\n",
       " 'Census_OSArchitecture',\n",
       " 'Census_OSBranch',\n",
       " 'Census_OSBuildNumber',\n",
       " 'Census_OSBuildRevision',\n",
       " 'Census_OSEdition',\n",
       " 'Census_OSSkuName',\n",
       " 'Census_OSInstallTypeName']"
      ]
     },
     "execution_count": 3,
     "metadata": {},
     "output_type": "execute_result"
    }
   ],
   "execution_count": 3
  },
  {
   "metadata": {},
   "cell_type": "markdown",
   "source": [
    "Columnas a revisar:\n",
    "['Census_ProcessorClass',\n",
    " 'Census_PrimaryDiskTotalCapacity',\n",
    " 'Census_PrimaryDiskTypeName',\n",
    " 'Census_SystemVolumeTotalCapacity',\n",
    " 'Census_HasOpticalDiskDrive',\n",
    " 'Census_TotalPhysicalRAM',\n",
    " 'Census_ChassisTypeName',\n",
    " 'Census_InternalPrimaryDiagonalDisplaySizeInInches',\n",
    " 'Census_InternalPrimaryDisplayResolutionHorizontal',\n",
    " 'Census_InternalPrimaryDisplayResolutionVertical',\n",
    " 'Census_PowerPlatformRoleName',\n",
    " 'Census_InternalBatteryType',\n",
    " 'Census_InternalBatteryNumberOfCharges',\n",
    " 'Census_OSVersion',\n",
    " 'Census_OSArchitecture',\n",
    " 'Census_OSBranch',\n",
    " 'Census_OSBuildNumber',\n",
    " 'Census_OSBuildRevision',\n",
    " 'Census_OSEdition',\n",
    " 'Census_OSSkuName',\n",
    " 'Census_OSInstallTypeName']"
   ],
   "id": "4c8c16853034c8aa"
  },
  {
   "metadata": {
    "ExecuteTime": {
     "end_time": "2025-02-03T21:37:45.989874Z",
     "start_time": "2025-02-03T21:37:45.984813Z"
    }
   },
   "cell_type": "code",
   "source": "len(df)",
   "id": "7c09ed5bd12b983e",
   "outputs": [
    {
     "data": {
      "text/plain": [
       "500000"
      ]
     },
     "execution_count": 4,
     "metadata": {},
     "output_type": "execute_result"
    }
   ],
   "execution_count": 4
  },
  {
   "metadata": {},
   "cell_type": "markdown",
   "source": [
    "### \"Census_ProcessorClass\"\n",
    "Descripción: \"Clase\" del procesador del dispositivo"
   ],
   "id": "3449e9ebfd9c7218"
  },
  {
   "metadata": {
    "ExecuteTime": {
     "end_time": "2025-02-03T21:37:46.042643Z",
     "start_time": "2025-02-03T21:37:46.032506Z"
    }
   },
   "cell_type": "code",
   "source": "df[\"Census_ProcessorClass\"].value_counts(dropna=False)",
   "id": "99c23cd6254a4b0d",
   "outputs": [
    {
     "data": {
      "text/plain": [
       "Census_ProcessorClass\n",
       "NaN     497918\n",
       "mid       1196\n",
       "low        546\n",
       "high       340\n",
       "Name: count, dtype: int64"
      ]
     },
     "execution_count": 5,
     "metadata": {},
     "output_type": "execute_result"
    }
   ],
   "execution_count": 5
  },
  {
   "metadata": {
    "ExecuteTime": {
     "end_time": "2025-02-03T21:37:46.131049Z",
     "start_time": "2025-02-03T21:37:46.126643Z"
    }
   },
   "cell_type": "code",
   "source": [
    "# 497_918 / 500_000 son nulos, por lo que eliminaremos la columna\n",
    "del_columns.append(\"Census_ProcessorClass\")"
   ],
   "id": "daea1eb04e063d57",
   "outputs": [],
   "execution_count": 6
  },
  {
   "metadata": {},
   "cell_type": "markdown",
   "source": [
    "### \"Census_PrimaryDiskTotalCapacity\"\n",
    "Descripción: Capacidad total del disco duro primario en MB"
   ],
   "id": "34f56e9880d68949"
  },
  {
   "metadata": {
    "ExecuteTime": {
     "end_time": "2025-02-03T21:37:46.286281Z",
     "start_time": "2025-02-03T21:37:46.274809Z"
    }
   },
   "cell_type": "code",
   "source": "df[\"Census_PrimaryDiskTotalCapacity\"].value_counts(dropna=False)",
   "id": "5973cb56f085aac2",
   "outputs": [
    {
     "data": {
      "text/plain": [
       "Census_PrimaryDiskTotalCapacity\n",
       "476940.0000    158683\n",
       "953869.0000    122183\n",
       "305245.0000     26687\n",
       "122104.0000     26444\n",
       "244198.0000     25159\n",
       "                ...  \n",
       "117243.0000         1\n",
       "455879.0000         1\n",
       "473410.0000         1\n",
       "238445.0000         1\n",
       "31094.0000          1\n",
       "Name: count, Length: 1104, dtype: int64"
      ]
     },
     "execution_count": 7,
     "metadata": {},
     "output_type": "execute_result"
    }
   ],
   "execution_count": 7
  },
  {
   "metadata": {
    "ExecuteTime": {
     "end_time": "2025-02-03T21:37:46.390355Z",
     "start_time": "2025-02-03T21:37:46.384712Z"
    }
   },
   "cell_type": "code",
   "source": [
    "# contamos nulos\n",
    "df[\"Census_PrimaryDiskTotalCapacity\"].isna().sum()  # 2968 nulos"
   ],
   "id": "14d98f9b5e9a2351",
   "outputs": [
    {
     "data": {
      "text/plain": [
       "np.int64(2976)"
      ]
     },
     "execution_count": 8,
     "metadata": {},
     "output_type": "execute_result"
    }
   ],
   "execution_count": 8
  },
  {
   "metadata": {
    "ExecuteTime": {
     "end_time": "2025-02-03T21:37:46.514369Z",
     "start_time": "2025-02-03T21:37:46.497996Z"
    }
   },
   "cell_type": "code",
   "source": [
    "# miramos la correlación con el target\n",
    "df[[\"Census_PrimaryDiskTotalCapacity\", \"HasDetections\"]].corr()"
   ],
   "id": "3c1170c3d620329c",
   "outputs": [
    {
     "data": {
      "text/plain": [
       "                                 Census_PrimaryDiskTotalCapacity  \\\n",
       "Census_PrimaryDiskTotalCapacity                           1.0000   \n",
       "HasDetections                                             0.0480   \n",
       "\n",
       "                                 HasDetections  \n",
       "Census_PrimaryDiskTotalCapacity         0.0480  \n",
       "HasDetections                           1.0000  "
      ],
      "text/html": [
       "<div>\n",
       "<style scoped>\n",
       "    .dataframe tbody tr th:only-of-type {\n",
       "        vertical-align: middle;\n",
       "    }\n",
       "\n",
       "    .dataframe tbody tr th {\n",
       "        vertical-align: top;\n",
       "    }\n",
       "\n",
       "    .dataframe thead th {\n",
       "        text-align: right;\n",
       "    }\n",
       "</style>\n",
       "<table border=\"1\" class=\"dataframe\">\n",
       "  <thead>\n",
       "    <tr style=\"text-align: right;\">\n",
       "      <th></th>\n",
       "      <th>Census_PrimaryDiskTotalCapacity</th>\n",
       "      <th>HasDetections</th>\n",
       "    </tr>\n",
       "  </thead>\n",
       "  <tbody>\n",
       "    <tr>\n",
       "      <th>Census_PrimaryDiskTotalCapacity</th>\n",
       "      <td>1.0000</td>\n",
       "      <td>0.0480</td>\n",
       "    </tr>\n",
       "    <tr>\n",
       "      <th>HasDetections</th>\n",
       "      <td>0.0480</td>\n",
       "      <td>1.0000</td>\n",
       "    </tr>\n",
       "  </tbody>\n",
       "</table>\n",
       "</div>"
      ]
     },
     "execution_count": 9,
     "metadata": {},
     "output_type": "execute_result"
    }
   ],
   "execution_count": 9
  },
  {
   "metadata": {},
   "cell_type": "markdown",
   "source": "Difícilmente la capacidad del disco duro puede tener relación con la detección de malware, por lo que eliminaremos la columna.",
   "id": "bd74f712b6e06343"
  },
  {
   "metadata": {
    "ExecuteTime": {
     "end_time": "2025-02-03T21:37:46.708362Z",
     "start_time": "2025-02-03T21:37:46.704483Z"
    }
   },
   "cell_type": "code",
   "source": "del_columns.append(\"Census_PrimaryDiskTotalCapacity\")",
   "id": "ee3bd89d462929f",
   "outputs": [],
   "execution_count": 10
  },
  {
   "metadata": {},
   "cell_type": "markdown",
   "source": [
    "### \"Census_PrimaryDiskTypeName\"\n",
    "Descripción: Tipo de disco duro primario"
   ],
   "id": "b4bf3dd277755e73"
  },
  {
   "metadata": {
    "ExecuteTime": {
     "end_time": "2025-02-03T21:37:46.804567Z",
     "start_time": "2025-02-03T21:37:46.788706Z"
    }
   },
   "cell_type": "code",
   "source": "df[\"Census_PrimaryDiskTypeName\"].value_counts(dropna=False)",
   "id": "aed815e1a9fd234d",
   "outputs": [
    {
     "data": {
      "text/plain": [
       "Census_PrimaryDiskTypeName\n",
       "HDD            325429\n",
       "SSD            138155\n",
       "UNKNOWN         20083\n",
       "Unspecified     15624\n",
       "NaN               709\n",
       "Name: count, dtype: int64"
      ]
     },
     "execution_count": 11,
     "metadata": {},
     "output_type": "execute_result"
    }
   ],
   "execution_count": 11
  },
  {
   "metadata": {
    "ExecuteTime": {
     "end_time": "2025-02-03T21:37:46.992461Z",
     "start_time": "2025-02-03T21:37:46.930933Z"
    }
   },
   "cell_type": "code",
   "source": [
    "# juntamos valores poco frecuentes (UNKKNOWN, Unspecified) a \"Indefinido\"\n",
    "df[\"Census_PrimaryDiskTypeName\"] = df[\"Census_PrimaryDiskTypeName\"].replace([\"UNKNOWN\", \"Unspecified\"], \"Indefinido\")\n",
    "# rellenamos nulos con \"Indefinido\"\n",
    "df[\"Census_PrimaryDiskTypeName\"] = df[\"Census_PrimaryDiskTypeName\"].fillna(\"Indefinido\")"
   ],
   "id": "c998282545744ae8",
   "outputs": [],
   "execution_count": 12
  },
  {
   "metadata": {
    "ExecuteTime": {
     "end_time": "2025-02-03T21:37:47.093645Z",
     "start_time": "2025-02-03T21:37:47.079445Z"
    }
   },
   "cell_type": "code",
   "source": "df[\"Census_PrimaryDiskTypeName\"].value_counts(dropna=False)",
   "id": "84662acae3e296dd",
   "outputs": [
    {
     "data": {
      "text/plain": [
       "Census_PrimaryDiskTypeName\n",
       "HDD           325429\n",
       "SSD           138155\n",
       "Indefinido     36416\n",
       "Name: count, dtype: int64"
      ]
     },
     "execution_count": 13,
     "metadata": {},
     "output_type": "execute_result"
    }
   ],
   "execution_count": 13
  },
  {
   "metadata": {},
   "cell_type": "markdown",
   "source": "Se propone realizar un OHE con esta columna.",
   "id": "a91b4f03942d7c51"
  },
  {
   "metadata": {
    "ExecuteTime": {
     "end_time": "2025-02-03T21:37:47.652874Z",
     "start_time": "2025-02-03T21:37:47.220652Z"
    }
   },
   "cell_type": "code",
   "source": [
    "df = pd.get_dummies(df, columns=[\"Census_PrimaryDiskTypeName\"], prefix=\"Census_PrimaryDiskTypeName\")  # TODO: revisar\n",
    "del_columns.append(\"Census_PrimaryDiskTypeName\")"
   ],
   "id": "d29029dc5a2abf1e",
   "outputs": [],
   "execution_count": 14
  },
  {
   "metadata": {},
   "cell_type": "markdown",
   "source": [
    "### \"Census_SystemVolumeTotalCapacity\"\n",
    "Descripción: Capacidad total del volumen del sistema en MB"
   ],
   "id": "3cfe262f914b5ca0"
  },
  {
   "metadata": {
    "ExecuteTime": {
     "end_time": "2025-02-03T21:37:47.725614Z",
     "start_time": "2025-02-03T21:37:47.680081Z"
    }
   },
   "cell_type": "code",
   "source": "df[\"Census_SystemVolumeTotalCapacity\"].value_counts(dropna=False)",
   "id": "c3797f95e9e32baf",
   "outputs": [
    {
     "data": {
      "text/plain": [
       "Census_SystemVolumeTotalCapacity\n",
       "NaN            2976\n",
       "28542.0000     2922\n",
       "926992.0000    2866\n",
       "476389.0000    2380\n",
       "476324.0000    2306\n",
       "               ... \n",
       "180237.0000       1\n",
       "89219.0000        1\n",
       "914079.0000       1\n",
       "199588.0000       1\n",
       "431979.0000       1\n",
       "Name: count, Length: 142052, dtype: int64"
      ]
     },
     "execution_count": 15,
     "metadata": {},
     "output_type": "execute_result"
    }
   ],
   "execution_count": 15
  },
  {
   "metadata": {
    "ExecuteTime": {
     "end_time": "2025-02-03T21:37:48.094943Z",
     "start_time": "2025-02-03T21:37:47.780404Z"
    }
   },
   "cell_type": "code",
   "source": [
    "# hacemos un histograma\n",
    "df[df[\"Census_SystemVolumeTotalCapacity\"] < 1_000_000][\"Census_SystemVolumeTotalCapacity\"].hist()"
   ],
   "id": "1e751ebc6513317e",
   "outputs": [
    {
     "data": {
      "text/plain": [
       "<Axes: >"
      ]
     },
     "execution_count": 16,
     "metadata": {},
     "output_type": "execute_result"
    },
    {
     "data": {
      "text/plain": [
       "<Figure size 640x480 with 1 Axes>"
      ],
      "image/png": "[encoded data removed]"
     },
     "metadata": {},
     "output_type": "display_data"
    }
   ],
   "execution_count": 16
  },
  {
   "metadata": {
    "ExecuteTime": {
     "end_time": "2025-02-03T21:37:48.131280Z",
     "start_time": "2025-02-03T21:37:48.117513Z"
    }
   },
   "cell_type": "code",
   "source": [
    "# correlación con el target\n",
    "df[[\"Census_SystemVolumeTotalCapacity\", \"HasDetections\"]].corr()"
   ],
   "id": "8c4a61df51612d3b",
   "outputs": [
    {
     "data": {
      "text/plain": [
       "                                  Census_SystemVolumeTotalCapacity  \\\n",
       "Census_SystemVolumeTotalCapacity                            1.0000   \n",
       "HasDetections                                               0.0136   \n",
       "\n",
       "                                  HasDetections  \n",
       "Census_SystemVolumeTotalCapacity         0.0136  \n",
       "HasDetections                            1.0000  "
      ],
      "text/html": [
       "<div>\n",
       "<style scoped>\n",
       "    .dataframe tbody tr th:only-of-type {\n",
       "        vertical-align: middle;\n",
       "    }\n",
       "\n",
       "    .dataframe tbody tr th {\n",
       "        vertical-align: top;\n",
       "    }\n",
       "\n",
       "    .dataframe thead th {\n",
       "        text-align: right;\n",
       "    }\n",
       "</style>\n",
       "<table border=\"1\" class=\"dataframe\">\n",
       "  <thead>\n",
       "    <tr style=\"text-align: right;\">\n",
       "      <th></th>\n",
       "      <th>Census_SystemVolumeTotalCapacity</th>\n",
       "      <th>HasDetections</th>\n",
       "    </tr>\n",
       "  </thead>\n",
       "  <tbody>\n",
       "    <tr>\n",
       "      <th>Census_SystemVolumeTotalCapacity</th>\n",
       "      <td>1.0000</td>\n",
       "      <td>0.0136</td>\n",
       "    </tr>\n",
       "    <tr>\n",
       "      <th>HasDetections</th>\n",
       "      <td>0.0136</td>\n",
       "      <td>1.0000</td>\n",
       "    </tr>\n",
       "  </tbody>\n",
       "</table>\n",
       "</div>"
      ]
     },
     "execution_count": 17,
     "metadata": {},
     "output_type": "execute_result"
    }
   ],
   "execution_count": 17
  },
  {
   "metadata": {
    "ExecuteTime": {
     "end_time": "2025-02-03T21:37:48.213884Z",
     "start_time": "2025-02-03T21:37:48.210450Z"
    }
   },
   "cell_type": "code",
   "source": [
    "# mismo argumento que \"Census_PrimaryDiskTotalCapacity\", eliminamos la columna\n",
    "del_columns.append(\"Census_SystemVolumeTotalCapacity\")"
   ],
   "id": "27d2ac18d88af982",
   "outputs": [],
   "execution_count": 18
  },
  {
   "metadata": {},
   "cell_type": "markdown",
   "source": [
    "### \"Census_HasOpticalDiskDrive\"\n",
    "Descripción: Indica si el dispositivo tiene una unidad de disco óptico"
   ],
   "id": "3b1887563b31d557"
  },
  {
   "metadata": {
    "ExecuteTime": {
     "end_time": "2025-02-03T21:37:48.302460Z",
     "start_time": "2025-02-03T21:37:48.295598Z"
    }
   },
   "cell_type": "code",
   "source": "df[\"Census_HasOpticalDiskDrive\"].value_counts(dropna=False)",
   "id": "53cc2ab59b15f30b",
   "outputs": [
    {
     "data": {
      "text/plain": [
       "Census_HasOpticalDiskDrive\n",
       "0    461483\n",
       "1     38517\n",
       "Name: count, dtype: int64"
      ]
     },
     "execution_count": 19,
     "metadata": {},
     "output_type": "execute_result"
    }
   ],
   "execution_count": 19
  },
  {
   "metadata": {
    "ExecuteTime": {
     "end_time": "2025-02-03T21:37:48.410207Z",
     "start_time": "2025-02-03T21:37:48.405032Z"
    }
   },
   "cell_type": "code",
   "source": "38_517 / 500_000  # 7.7% True",
   "id": "d04cb7bb8e632dc2",
   "outputs": [
    {
     "data": {
      "text/plain": [
       "0.077034"
      ]
     },
     "execution_count": 20,
     "metadata": {},
     "output_type": "execute_result"
    }
   ],
   "execution_count": 20
  },
  {
   "metadata": {
    "ExecuteTime": {
     "end_time": "2025-02-03T21:37:48.490605Z",
     "start_time": "2025-02-03T21:37:48.476364Z"
    }
   },
   "cell_type": "code",
   "source": [
    "# correlación con el target\n",
    "df[[\"Census_HasOpticalDiskDrive\", \"HasDetections\"]].corr()"
   ],
   "id": "12c47e9035ec7887",
   "outputs": [
    {
     "data": {
      "text/plain": [
       "                            Census_HasOpticalDiskDrive  HasDetections\n",
       "Census_HasOpticalDiskDrive                      1.0000         0.0201\n",
       "HasDetections                                   0.0201         1.0000"
      ],
      "text/html": [
       "<div>\n",
       "<style scoped>\n",
       "    .dataframe tbody tr th:only-of-type {\n",
       "        vertical-align: middle;\n",
       "    }\n",
       "\n",
       "    .dataframe tbody tr th {\n",
       "        vertical-align: top;\n",
       "    }\n",
       "\n",
       "    .dataframe thead th {\n",
       "        text-align: right;\n",
       "    }\n",
       "</style>\n",
       "<table border=\"1\" class=\"dataframe\">\n",
       "  <thead>\n",
       "    <tr style=\"text-align: right;\">\n",
       "      <th></th>\n",
       "      <th>Census_HasOpticalDiskDrive</th>\n",
       "      <th>HasDetections</th>\n",
       "    </tr>\n",
       "  </thead>\n",
       "  <tbody>\n",
       "    <tr>\n",
       "      <th>Census_HasOpticalDiskDrive</th>\n",
       "      <td>1.0000</td>\n",
       "      <td>0.0201</td>\n",
       "    </tr>\n",
       "    <tr>\n",
       "      <th>HasDetections</th>\n",
       "      <td>0.0201</td>\n",
       "      <td>1.0000</td>\n",
       "    </tr>\n",
       "  </tbody>\n",
       "</table>\n",
       "</div>"
      ]
     },
     "execution_count": 21,
     "metadata": {},
     "output_type": "execute_result"
    }
   ],
   "execution_count": 21
  },
  {
   "metadata": {
    "ExecuteTime": {
     "end_time": "2025-02-03T21:37:48.601687Z",
     "start_time": "2025-02-03T21:37:48.597615Z"
    }
   },
   "cell_type": "code",
   "source": "# TODO: Muy poca correlación, la dejamos pero la podríamos borrar perfectamente (dependerá de los resultados de los modelos)",
   "id": "ed566aec24dd83f9",
   "outputs": [],
   "execution_count": 22
  },
  {
   "metadata": {},
   "cell_type": "markdown",
   "source": [
    "### \"Census_TotalPhysicalRAM\"\n",
    "Descripción: Cantidad de RAM física en MB"
   ],
   "id": "da60814301a66ba1"
  },
  {
   "metadata": {
    "ExecuteTime": {
     "end_time": "2025-02-03T21:37:48.705328Z",
     "start_time": "2025-02-03T21:37:48.695302Z"
    }
   },
   "cell_type": "code",
   "source": "df[\"Census_TotalPhysicalRAM\"].value_counts(dropna=False)",
   "id": "d8f05cd5d4f2df64",
   "outputs": [
    {
     "data": {
      "text/plain": [
       "Census_TotalPhysicalRAM\n",
       "4096.0000     228678\n",
       "8192.0000     123174\n",
       "2048.0000      61694\n",
       "16384.0000     30179\n",
       "6144.0000      22349\n",
       "               ...  \n",
       "11168.0000         1\n",
       "11263.0000         1\n",
       "9412.0000          1\n",
       "42000.0000         1\n",
       "3967.0000          1\n",
       "Name: count, Length: 553, dtype: int64"
      ]
     },
     "execution_count": 23,
     "metadata": {},
     "output_type": "execute_result"
    }
   ],
   "execution_count": 23
  },
  {
   "metadata": {
    "ExecuteTime": {
     "end_time": "2025-02-03T21:37:48.873563Z",
     "start_time": "2025-02-03T21:37:48.788462Z"
    }
   },
   "cell_type": "code",
   "source": [
    "#  pasamos a GB\n",
    "df[\"Census_TotalPhysicalRAM\"].apply(lambda x: x // 1024).value_counts().sort_index()"
   ],
   "id": "936b8c48f46c127e",
   "outputs": [
    {
     "data": {
      "text/plain": [
       "Census_TotalPhysicalRAM\n",
       "0.0000          40\n",
       "1.0000        4218\n",
       "2.0000       62111\n",
       "3.0000        8980\n",
       "4.0000      228739\n",
       "5.0000         485\n",
       "6.0000       22393\n",
       "7.0000         339\n",
       "8.0000      123190\n",
       "9.0000          44\n",
       "10.0000        607\n",
       "11.0000         37\n",
       "12.0000       9081\n",
       "13.0000          2\n",
       "14.0000         92\n",
       "15.0000         50\n",
       "16.0000      30184\n",
       "18.0000         28\n",
       "19.0000          5\n",
       "20.0000        238\n",
       "21.0000          2\n",
       "22.0000          5\n",
       "23.0000          5\n",
       "24.0000        701\n",
       "25.0000          1\n",
       "26.0000          1\n",
       "27.0000          1\n",
       "28.0000         15\n",
       "29.0000          1\n",
       "30.0000          2\n",
       "31.0000          5\n",
       "32.0000       3308\n",
       "35.0000          1\n",
       "36.0000          8\n",
       "40.0000         20\n",
       "41.0000          1\n",
       "44.0000          3\n",
       "48.0000         57\n",
       "50.0000          1\n",
       "52.0000          2\n",
       "56.0000          2\n",
       "60.0000          1\n",
       "64.0000        349\n",
       "66.0000          1\n",
       "69.0000          1\n",
       "72.0000          5\n",
       "95.0000          1\n",
       "96.0000          8\n",
       "100.0000         1\n",
       "112.0000         1\n",
       "128.0000        57\n",
       "149.0000         1\n",
       "192.0000         4\n",
       "224.0000         1\n",
       "256.0000         6\n",
       "384.0000         2\n",
       "Name: count, dtype: int64"
      ]
     },
     "execution_count": 24,
     "metadata": {},
     "output_type": "execute_result"
    }
   ],
   "execution_count": 24
  },
  {
   "metadata": {
    "ExecuteTime": {
     "end_time": "2025-02-03T21:37:49.069045Z",
     "start_time": "2025-02-03T21:37:48.984296Z"
    }
   },
   "cell_type": "code",
   "source": [
    "\"\"\"\n",
    "Opciones:\n",
    "1. Eliminar la columna por (alomejor) no tener relación con el target\n",
    "2. Eliminamos los registros con valores \"anormales\" o \"poco frecuentes\"\n",
    "3. Otra (a definir)\n",
    "\"\"\"\n",
    "\n",
    "# OPCIÓN 2!\n",
    "# convertimos a GB\n",
    "df[\"Census_TotalPhysicalRAM_GB\"] = df[\"Census_TotalPhysicalRAM\"].apply(lambda x: x // 1024)"
   ],
   "id": "40cd71206a6f1628",
   "outputs": [],
   "execution_count": 25
  },
  {
   "metadata": {
    "ExecuteTime": {
     "end_time": "2025-02-03T21:37:49.112914Z",
     "start_time": "2025-02-03T21:37:49.105716Z"
    }
   },
   "cell_type": "code",
   "source": [
    "# nulos\n",
    "df[\"Census_TotalPhysicalRAM_GB\"].isna().sum()  # 4556 nulos"
   ],
   "id": "6626f7ea1ab1afd3",
   "outputs": [
    {
     "data": {
      "text/plain": [
       "np.int64(4556)"
      ]
     },
     "execution_count": 26,
     "metadata": {},
     "output_type": "execute_result"
    }
   ],
   "execution_count": 26
  },
  {
   "metadata": {
    "ExecuteTime": {
     "end_time": "2025-02-03T21:37:49.220610Z",
     "start_time": "2025-02-03T21:37:49.212786Z"
    }
   },
   "cell_type": "code",
   "source": [
    "# Buscamos aquellos valores de RAM que tengan más de 1000 filas en caso de RAM < 20 GB y de más de 100 filas en caso de RAM >= 20 GB\n",
    "recuento_RAM = df[\"Census_TotalPhysicalRAM_GB\"].value_counts().sort_index()\n",
    "a = recuento_RAM.iloc[:20][recuento_RAM.iloc[:20] > 1000] # RAM < 20 GB\n",
    "b = recuento_RAM.iloc[20:][recuento_RAM.iloc[20:] > 100] # RAM >= 20 GB"
   ],
   "id": "8a7b7562e8de3378",
   "outputs": [],
   "execution_count": 27
  },
  {
   "metadata": {
    "ExecuteTime": {
     "end_time": "2025-02-03T21:37:49.267852Z",
     "start_time": "2025-02-03T21:37:49.263491Z"
    }
   },
   "cell_type": "code",
   "source": [
    "ram_elecciones = a.index.tolist() + b.index.tolist()\n",
    "ram_elecciones  # valores más frecuentes, nos quedamos con los registros que contenegan estos valores"
   ],
   "id": "42b6b9f027f2ee57",
   "outputs": [
    {
     "data": {
      "text/plain": [
       "[1.0, 2.0, 3.0, 4.0, 6.0, 8.0, 12.0, 16.0, 24.0, 32.0, 64.0]"
      ]
     },
     "execution_count": 28,
     "metadata": {},
     "output_type": "execute_result"
    }
   ],
   "execution_count": 28
  },
  {
   "metadata": {
    "ExecuteTime": {
     "end_time": "2025-02-03T21:37:49.569757Z",
     "start_time": "2025-02-03T21:37:49.359616Z"
    }
   },
   "cell_type": "code",
   "source": [
    "# filtramos por los registros que tengan la RAM que hemos seleccionado\n",
    "df = df[df[\"Census_TotalPhysicalRAM_GB\"].isin(ram_elecciones)]  # indirecamente eliminamos los nulos"
   ],
   "id": "32912c62ccb69b60",
   "outputs": [],
   "execution_count": 29
  },
  {
   "metadata": {
    "ExecuteTime": {
     "end_time": "2025-02-03T21:37:49.600246Z",
     "start_time": "2025-02-03T21:37:49.589404Z"
    }
   },
   "cell_type": "code",
   "source": [
    "print(f\"Recuento de registros actuales: {len(df)}\")  # 493_254, 6746 menos\n",
    "df[\"Census_TotalPhysicalRAM_GB\"].value_counts()"
   ],
   "id": "30989331fc5820f6",
   "outputs": [
    {
     "name": "stdout",
     "output_type": "stream",
     "text": [
      "Recuento de registros actuales: 493254\n"
     ]
    },
    {
     "data": {
      "text/plain": [
       "Census_TotalPhysicalRAM_GB\n",
       "4.0000     228739\n",
       "8.0000     123190\n",
       "2.0000      62111\n",
       "16.0000     30184\n",
       "6.0000      22393\n",
       "12.0000      9081\n",
       "3.0000       8980\n",
       "1.0000       4218\n",
       "32.0000      3308\n",
       "24.0000       701\n",
       "64.0000       349\n",
       "Name: count, dtype: int64"
      ]
     },
     "execution_count": 30,
     "metadata": {},
     "output_type": "execute_result"
    }
   ],
   "execution_count": 30
  },
  {
   "metadata": {
    "ExecuteTime": {
     "end_time": "2025-02-03T21:37:49.765147Z",
     "start_time": "2025-02-03T21:37:49.750686Z"
    }
   },
   "cell_type": "code",
   "source": [
    "# correlación con el target\n",
    "df[[\"Census_TotalPhysicalRAM_GB\", \"HasDetections\"]].corr()"
   ],
   "id": "40499e0d20400e1a",
   "outputs": [
    {
     "data": {
      "text/plain": [
       "                            Census_TotalPhysicalRAM_GB  HasDetections\n",
       "Census_TotalPhysicalRAM_GB                      1.0000         0.0679\n",
       "HasDetections                                   0.0679         1.0000"
      ],
      "text/html": [
       "<div>\n",
       "<style scoped>\n",
       "    .dataframe tbody tr th:only-of-type {\n",
       "        vertical-align: middle;\n",
       "    }\n",
       "\n",
       "    .dataframe tbody tr th {\n",
       "        vertical-align: top;\n",
       "    }\n",
       "\n",
       "    .dataframe thead th {\n",
       "        text-align: right;\n",
       "    }\n",
       "</style>\n",
       "<table border=\"1\" class=\"dataframe\">\n",
       "  <thead>\n",
       "    <tr style=\"text-align: right;\">\n",
       "      <th></th>\n",
       "      <th>Census_TotalPhysicalRAM_GB</th>\n",
       "      <th>HasDetections</th>\n",
       "    </tr>\n",
       "  </thead>\n",
       "  <tbody>\n",
       "    <tr>\n",
       "      <th>Census_TotalPhysicalRAM_GB</th>\n",
       "      <td>1.0000</td>\n",
       "      <td>0.0679</td>\n",
       "    </tr>\n",
       "    <tr>\n",
       "      <th>HasDetections</th>\n",
       "      <td>0.0679</td>\n",
       "      <td>1.0000</td>\n",
       "    </tr>\n",
       "  </tbody>\n",
       "</table>\n",
       "</div>"
      ]
     },
     "execution_count": 31,
     "metadata": {},
     "output_type": "execute_result"
    }
   ],
   "execution_count": 31
  },
  {
   "metadata": {},
   "cell_type": "code",
   "outputs": [],
   "execution_count": null,
   "source": "# correlación del 7% -> proponemos mantener la columna",
   "id": "7e7275657aab4f9e"
  },
  {
   "metadata": {},
   "cell_type": "markdown",
   "source": [
    "### \"Census_ChassisTypeName\"\n",
    "Descripción: Tipo de chasis del dispositivo"
   ],
   "id": "5e1e9bec3e9cefc9"
  },
  {
   "metadata": {
    "ExecuteTime": {
     "end_time": "2025-02-03T21:37:49.929150Z",
     "start_time": "2025-02-03T21:37:49.914210Z"
    }
   },
   "cell_type": "code",
   "source": "df[\"Census_ChassisTypeName\"].value_counts(dropna=False)",
   "id": "c0af928fa9a6110d",
   "outputs": [
    {
     "data": {
      "text/plain": [
       "Census_ChassisTypeName\n",
       "Notebook               291985\n",
       "Desktop                103169\n",
       "Laptop                  37992\n",
       "Portable                20058\n",
       "AllinOne                11341\n",
       "MiniTower                4715\n",
       "Convertible              4650\n",
       "Other                    3274\n",
       "Detachable               2917\n",
       "LowProfileDesktop        2844\n",
       "UNKNOWN                  2806\n",
       "HandHeld                 2647\n",
       "SpaceSaving              1665\n",
       "Tablet                    726\n",
       "Tower                     637\n",
       "Unknown                   551\n",
       "MainServerChassis         480\n",
       "MiniPC                    255\n",
       "LunchBox                  221\n",
       "RackMountChassis          162\n",
       "SubNotebook                45\n",
       "BusExpansionChassis        38\n",
       "NaN                        35\n",
       "30                         11\n",
       "StickPC                     7\n",
       "0                           5\n",
       "MultisystemChassis          3\n",
       "PizzaBox                    3\n",
       "35                          3\n",
       "SubChassis                  2\n",
       "31                          2\n",
       "Blade                       2\n",
       "32                          1\n",
       "ExpansionChassis            1\n",
       "25                          1\n",
       "Name: count, dtype: int64"
      ]
     },
     "execution_count": 32,
     "metadata": {},
     "output_type": "execute_result"
    }
   ],
   "execution_count": 32
  },
  {
   "metadata": {
    "ExecuteTime": {
     "end_time": "2025-02-03T21:37:50.450723Z",
     "start_time": "2025-02-03T21:37:50.142588Z"
    }
   },
   "cell_type": "code",
   "source": [
    "# Convertir la variable string en variables dummy\n",
    "df_dummies = pd.get_dummies(df['Census_ChassisTypeName'], prefix='Census_ChassisTypeName')\n",
    "\n",
    "# Calcular la correlación de cada variable dummy con el target\n",
    "correlations = df_dummies.corrwith(df['HasDetections'])\n",
    "\n",
    "correlations"
   ],
   "id": "7e633847ccec7e65",
   "outputs": [
    {
     "data": {
      "text/plain": [
       "Census_ChassisTypeName_0                     -0.0006\n",
       "Census_ChassisTypeName_25                    -0.0014\n",
       "Census_ChassisTypeName_30                    -0.0021\n",
       "Census_ChassisTypeName_31                     0.0020\n",
       "Census_ChassisTypeName_32                     0.0014\n",
       "Census_ChassisTypeName_35                    -0.0008\n",
       "Census_ChassisTypeName_AllinOne               0.0034\n",
       "Census_ChassisTypeName_Blade                 -0.0020\n",
       "Census_ChassisTypeName_BusExpansionChassis   -0.0018\n",
       "Census_ChassisTypeName_Convertible           -0.0038\n",
       "Census_ChassisTypeName_Desktop                0.0255\n",
       "Census_ChassisTypeName_Detachable            -0.0235\n",
       "Census_ChassisTypeName_ExpansionChassis      -0.0014\n",
       "Census_ChassisTypeName_HandHeld              -0.0301\n",
       "Census_ChassisTypeName_Laptop                -0.0043\n",
       "Census_ChassisTypeName_LowProfileDesktop      0.0022\n",
       "Census_ChassisTypeName_LunchBox              -0.0016\n",
       "Census_ChassisTypeName_MainServerChassis     -0.0036\n",
       "Census_ChassisTypeName_MiniPC                -0.0074\n",
       "Census_ChassisTypeName_MiniTower              0.0065\n",
       "Census_ChassisTypeName_MultisystemChassis    -0.0008\n",
       "Census_ChassisTypeName_Notebook               0.0003\n",
       "Census_ChassisTypeName_Other                 -0.0340\n",
       "Census_ChassisTypeName_PizzaBox              -0.0008\n",
       "Census_ChassisTypeName_Portable              -0.0080\n",
       "Census_ChassisTypeName_RackMountChassis      -0.0058\n",
       "Census_ChassisTypeName_SpaceSaving           -0.0025\n",
       "Census_ChassisTypeName_StickPC               -0.0038\n",
       "Census_ChassisTypeName_SubChassis            -0.0000\n",
       "Census_ChassisTypeName_SubNotebook           -0.0023\n",
       "Census_ChassisTypeName_Tablet                -0.0108\n",
       "Census_ChassisTypeName_Tower                  0.0012\n",
       "Census_ChassisTypeName_UNKNOWN               -0.0107\n",
       "Census_ChassisTypeName_Unknown               -0.0046\n",
       "dtype: float64"
      ]
     },
     "execution_count": 33,
     "metadata": {},
     "output_type": "execute_result"
    }
   ],
   "execution_count": 33
  },
  {
   "metadata": {
    "ExecuteTime": {
     "end_time": "2025-02-03T21:37:50.527593Z",
     "start_time": "2025-02-03T21:37:50.524593Z"
    }
   },
   "cell_type": "code",
   "source": [
    "# Correlaciones < 0.04 -> proponemos eliminar la columna\n",
    "del_columns.append(\"Census_ChassisTypeName\")"
   ],
   "id": "5eb8a16560d5f719",
   "outputs": [],
   "execution_count": 34
  },
  {
   "metadata": {
    "ExecuteTime": {
     "end_time": "2025-02-03T21:37:50.663931Z",
     "start_time": "2025-02-03T21:37:50.654277Z"
    }
   },
   "cell_type": "code",
   "source": "df.head(2)",
   "id": "a397e11cbf9ec013",
   "outputs": [
    {
     "data": {
      "text/plain": [
       "   Unnamed: 0                 MachineIdentifier   ProductName EngineVersion  \\\n",
       "0     8427007  f1cd864e97bae82bdf96523e1a539121  win8defender   1.1.15100.1   \n",
       "1     8829090  fd5ba6f5b75325ec0423a6c67cc75942  win8defender   1.1.15100.1   \n",
       "\n",
       "        AppVersion  AvSigVersion  IsBeta  RtpStateBitfield  IsSxsPassiveMode  \\\n",
       "0  4.18.1807.18075  1.273.1234.0       0            7.0000                 0   \n",
       "1  4.18.1807.18075  1.273.1282.0       0            7.0000                 0   \n",
       "\n",
       "   DefaultBrowsersIdentifier  ...  Census_IsTouchEnabled  Census_IsPenCapable  \\\n",
       "0                        NaN  ...                      0                    0   \n",
       "1                        NaN  ...                      0                    0   \n",
       "\n",
       "   Census_IsAlwaysOnAlwaysConnectedCapable  Wdft_IsGamer  \\\n",
       "0                                   0.0000        0.0000   \n",
       "1                                   0.0000        1.0000   \n",
       "\n",
       "   Wdft_RegionIdentifier  HasDetections  Census_PrimaryDiskTypeName_HDD  \\\n",
       "0                11.0000              1                            True   \n",
       "1                 3.0000              0                            True   \n",
       "\n",
       "   Census_PrimaryDiskTypeName_Indefinido  Census_PrimaryDiskTypeName_SSD  \\\n",
       "0                                  False                           False   \n",
       "1                                  False                           False   \n",
       "\n",
       "  Census_TotalPhysicalRAM_GB  \n",
       "0                     8.0000  \n",
       "1                     8.0000  \n",
       "\n",
       "[2 rows x 87 columns]"
      ],
      "text/html": [
       "<div>\n",
       "<style scoped>\n",
       "    .dataframe tbody tr th:only-of-type {\n",
       "        vertical-align: middle;\n",
       "    }\n",
       "\n",
       "    .dataframe tbody tr th {\n",
       "        vertical-align: top;\n",
       "    }\n",
       "\n",
       "    .dataframe thead th {\n",
       "        text-align: right;\n",
       "    }\n",
       "</style>\n",
       "<table border=\"1\" class=\"dataframe\">\n",
       "  <thead>\n",
       "    <tr style=\"text-align: right;\">\n",
       "      <th></th>\n",
       "      <th>Unnamed: 0</th>\n",
       "      <th>MachineIdentifier</th>\n",
       "      <th>ProductName</th>\n",
       "      <th>EngineVersion</th>\n",
       "      <th>AppVersion</th>\n",
       "      <th>AvSigVersion</th>\n",
       "      <th>IsBeta</th>\n",
       "      <th>RtpStateBitfield</th>\n",
       "      <th>IsSxsPassiveMode</th>\n",
       "      <th>DefaultBrowsersIdentifier</th>\n",
       "      <th>...</th>\n",
       "      <th>Census_IsTouchEnabled</th>\n",
       "      <th>Census_IsPenCapable</th>\n",
       "      <th>Census_IsAlwaysOnAlwaysConnectedCapable</th>\n",
       "      <th>Wdft_IsGamer</th>\n",
       "      <th>Wdft_RegionIdentifier</th>\n",
       "      <th>HasDetections</th>\n",
       "      <th>Census_PrimaryDiskTypeName_HDD</th>\n",
       "      <th>Census_PrimaryDiskTypeName_Indefinido</th>\n",
       "      <th>Census_PrimaryDiskTypeName_SSD</th>\n",
       "      <th>Census_TotalPhysicalRAM_GB</th>\n",
       "    </tr>\n",
       "  </thead>\n",
       "  <tbody>\n",
       "    <tr>\n",
       "      <th>0</th>\n",
       "      <td>8427007</td>\n",
       "      <td>f1cd864e97bae82bdf96523e1a539121</td>\n",
       "      <td>win8defender</td>\n",
       "      <td>1.1.15100.1</td>\n",
       "      <td>4.18.1807.18075</td>\n",
       "      <td>1.273.1234.0</td>\n",
       "      <td>0</td>\n",
       "      <td>7.0000</td>\n",
       "      <td>0</td>\n",
       "      <td>NaN</td>\n",
       "      <td>...</td>\n",
       "      <td>0</td>\n",
       "      <td>0</td>\n",
       "      <td>0.0000</td>\n",
       "      <td>0.0000</td>\n",
       "      <td>11.0000</td>\n",
       "      <td>1</td>\n",
       "      <td>True</td>\n",
       "      <td>False</td>\n",
       "      <td>False</td>\n",
       "      <td>8.0000</td>\n",
       "    </tr>\n",
       "    <tr>\n",
       "      <th>1</th>\n",
       "      <td>8829090</td>\n",
       "      <td>fd5ba6f5b75325ec0423a6c67cc75942</td>\n",
       "      <td>win8defender</td>\n",
       "      <td>1.1.15100.1</td>\n",
       "      <td>4.18.1807.18075</td>\n",
       "      <td>1.273.1282.0</td>\n",
       "      <td>0</td>\n",
       "      <td>7.0000</td>\n",
       "      <td>0</td>\n",
       "      <td>NaN</td>\n",
       "      <td>...</td>\n",
       "      <td>0</td>\n",
       "      <td>0</td>\n",
       "      <td>0.0000</td>\n",
       "      <td>1.0000</td>\n",
       "      <td>3.0000</td>\n",
       "      <td>0</td>\n",
       "      <td>True</td>\n",
       "      <td>False</td>\n",
       "      <td>False</td>\n",
       "      <td>8.0000</td>\n",
       "    </tr>\n",
       "  </tbody>\n",
       "</table>\n",
       "<p>2 rows × 87 columns</p>\n",
       "</div>"
      ]
     },
     "execution_count": 35,
     "metadata": {},
     "output_type": "execute_result"
    }
   ],
   "execution_count": 35
  },
  {
   "metadata": {},
   "cell_type": "markdown",
   "source": [
    "### \"Census_InternalPrimaryDiagonalDisplaySizeInInches\"\n",
    "Descripción: Tamaño diagonal de la pantalla en pulgadas"
   ],
   "id": "9a51ffb1c94f3f02"
  },
  {
   "metadata": {
    "ExecuteTime": {
     "end_time": "2025-02-03T21:37:50.730771Z",
     "start_time": "2025-02-03T21:37:50.720646Z"
    }
   },
   "cell_type": "code",
   "source": "df[\"Census_InternalPrimaryDiagonalDisplaySizeInInches\"].value_counts(dropna=False)",
   "id": "59feb07c60bf3236",
   "outputs": [
    {
     "data": {
      "text/plain": [
       "Census_InternalPrimaryDiagonalDisplaySizeInInches\n",
       "15.5000    169881\n",
       "13.9000     52467\n",
       "14.0000     30155\n",
       "11.6000     17403\n",
       "21.5000     15152\n",
       "            ...  \n",
       "38.9000         1\n",
       "40.6000         1\n",
       "29.9000         1\n",
       "70.7000         1\n",
       "95.4000         1\n",
       "Name: count, Length: 514, dtype: int64"
      ]
     },
     "execution_count": 36,
     "metadata": {},
     "output_type": "execute_result"
    }
   ],
   "execution_count": 36
  },
  {
   "metadata": {
    "ExecuteTime": {
     "end_time": "2025-02-03T21:37:51.092543Z",
     "start_time": "2025-02-03T21:37:50.965440Z"
    }
   },
   "cell_type": "code",
   "source": [
    "# hist\n",
    "df[\"Census_InternalPrimaryDiagonalDisplaySizeInInches\"].hist()"
   ],
   "id": "7386ee6bd302e0b1",
   "outputs": [
    {
     "data": {
      "text/plain": [
       "<Axes: >"
      ]
     },
     "execution_count": 37,
     "metadata": {},
     "output_type": "execute_result"
    },
    {
     "data": {
      "text/plain": [
       "<Figure size 640x480 with 1 Axes>"
      ],
      "image/png": "[encoded data removed]"
     },
     "metadata": {},
     "output_type": "display_data"
    }
   ],
   "execution_count": 37
  },
  {
   "metadata": {
    "ExecuteTime": {
     "end_time": "2025-02-03T21:37:51.166614Z",
     "start_time": "2025-02-03T21:37:51.163478Z"
    }
   },
   "cell_type": "code",
   "source": [
    "# se deduce una muy baja correlación con el target, eliminamos la columna  # TODO\n",
    "del_columns.append(\"Census_InternalPrimaryDiagonalDisplaySizeInInches\")"
   ],
   "id": "69749f659e2fd39b",
   "outputs": [],
   "execution_count": 38
  },
  {
   "metadata": {
    "ExecuteTime": {
     "end_time": "2025-02-03T21:37:51.603204Z",
     "start_time": "2025-02-03T21:37:51.589349Z"
    }
   },
   "cell_type": "code",
   "source": [
    "# correlación con el target\n",
    "df[[\"Census_InternalPrimaryDiagonalDisplaySizeInInches\", \"HasDetections\"]].corr()"
   ],
   "id": "f6dae4ca384e00c7",
   "outputs": [
    {
     "data": {
      "text/plain": [
       "                                                   Census_InternalPrimaryDiagonalDisplaySizeInInches  \\\n",
       "Census_InternalPrimaryDiagonalDisplaySizeInInches                                             1.0000   \n",
       "HasDetections                                                                                 0.0334   \n",
       "\n",
       "                                                   HasDetections  \n",
       "Census_InternalPrimaryDiagonalDisplaySizeInInches         0.0334  \n",
       "HasDetections                                             1.0000  "
      ],
      "text/html": [
       "<div>\n",
       "<style scoped>\n",
       "    .dataframe tbody tr th:only-of-type {\n",
       "        vertical-align: middle;\n",
       "    }\n",
       "\n",
       "    .dataframe tbody tr th {\n",
       "        vertical-align: top;\n",
       "    }\n",
       "\n",
       "    .dataframe thead th {\n",
       "        text-align: right;\n",
       "    }\n",
       "</style>\n",
       "<table border=\"1\" class=\"dataframe\">\n",
       "  <thead>\n",
       "    <tr style=\"text-align: right;\">\n",
       "      <th></th>\n",
       "      <th>Census_InternalPrimaryDiagonalDisplaySizeInInches</th>\n",
       "      <th>HasDetections</th>\n",
       "    </tr>\n",
       "  </thead>\n",
       "  <tbody>\n",
       "    <tr>\n",
       "      <th>Census_InternalPrimaryDiagonalDisplaySizeInInches</th>\n",
       "      <td>1.0000</td>\n",
       "      <td>0.0334</td>\n",
       "    </tr>\n",
       "    <tr>\n",
       "      <th>HasDetections</th>\n",
       "      <td>0.0334</td>\n",
       "      <td>1.0000</td>\n",
       "    </tr>\n",
       "  </tbody>\n",
       "</table>\n",
       "</div>"
      ]
     },
     "execution_count": 39,
     "metadata": {},
     "output_type": "execute_result"
    }
   ],
   "execution_count": 39
  },
  {
   "metadata": {},
   "cell_type": "markdown",
   "source": [
    "### \"Census_InternalPrimaryDisplayResolutionHorizontal\" y \"Census_InternalPrimaryDisplayResolutionVertical\"\n",
    "Descripción: Resolución de la pantalla"
   ],
   "id": "ec7b272fab22aaa0"
  },
  {
   "metadata": {
    "ExecuteTime": {
     "end_time": "2025-02-03T21:37:51.732968Z",
     "start_time": "2025-02-03T21:37:51.723876Z"
    }
   },
   "cell_type": "code",
   "source": "df[\"Census_InternalPrimaryDisplayResolutionHorizontal\"].value_counts(dropna=False)",
   "id": "cb9a84e538a9ee20",
   "outputs": [
    {
     "data": {
      "text/plain": [
       "Census_InternalPrimaryDisplayResolutionHorizontal\n",
       "1366.0000    249926\n",
       "1920.0000    123065\n",
       "1280.0000     29213\n",
       "1600.0000     27882\n",
       "1024.0000     18685\n",
       "              ...  \n",
       "936.0000          1\n",
       "2238.0000         1\n",
       "1515.0000         1\n",
       "1245.0000         1\n",
       "698.0000          1\n",
       "Name: count, Length: 393, dtype: int64"
      ]
     },
     "execution_count": 40,
     "metadata": {},
     "output_type": "execute_result"
    }
   ],
   "execution_count": 40
  },
  {
   "metadata": {
    "ExecuteTime": {
     "end_time": "2025-02-03T21:37:51.953889Z",
     "start_time": "2025-02-03T21:37:51.944127Z"
    }
   },
   "cell_type": "code",
   "source": "df[\"Census_InternalPrimaryDisplayResolutionVertical\"].value_counts(dropna=False)",
   "id": "cf4986e5a8d7b752",
   "outputs": [
    {
     "data": {
      "text/plain": [
       "Census_InternalPrimaryDisplayResolutionVertical\n",
       "768.0000     274965\n",
       "1080.0000    119260\n",
       "900.0000      36383\n",
       "800.0000      14545\n",
       "1024.0000     10337\n",
       "              ...  \n",
       "1574.0000         1\n",
       "4320.0000         1\n",
       "1089.0000         1\n",
       "1379.0000         1\n",
       "1648.0000         1\n",
       "Name: count, Length: 421, dtype: int64"
      ]
     },
     "execution_count": 41,
     "metadata": {},
     "output_type": "execute_result"
    }
   ],
   "execution_count": 41
  },
  {
   "metadata": {
    "ExecuteTime": {
     "end_time": "2025-02-03T21:37:52.084720Z",
     "start_time": "2025-02-03T21:37:52.080617Z"
    }
   },
   "cell_type": "code",
   "source": [
    "# misma argumentación que \"Census_InternalPrimaryDiagonalDisplaySizeInInches\", proponemos eliminar las columnas\n",
    "del_columns.append(\"Census_InternalPrimaryDisplayResolutionHorizontal\")\n",
    "del_columns.append(\"Census_InternalPrimaryDisplayResolutionVertical\")"
   ],
   "id": "a3ba08467f5f4140",
   "outputs": [],
   "execution_count": 42
  },
  {
   "metadata": {},
   "cell_type": "markdown",
   "source": [
    "### \"Census_PowerPlatformRoleName\"\n",
    "Descripción: Nombre del rol de la plataforma de energía"
   ],
   "id": "de983192627cb558"
  },
  {
   "metadata": {
    "ExecuteTime": {
     "end_time": "2025-02-03T21:37:52.208433Z",
     "start_time": "2025-02-03T21:37:52.192590Z"
    }
   },
   "cell_type": "code",
   "source": "df[\"Census_PowerPlatformRoleName\"].value_counts(dropna=False)  # no tiene nulos",
   "id": "5b3717bf8e1fbdee",
   "outputs": [
    {
     "data": {
      "text/plain": [
       "Census_PowerPlatformRoleName\n",
       "Mobile               343361\n",
       "Desktop              113532\n",
       "Slate                 27360\n",
       "Workstation            6060\n",
       "SOHOServer             2007\n",
       "UNKNOWN                 361\n",
       "EnterpriseServer        358\n",
       "AppliancePC             212\n",
       "PerformanceServer         3\n",
       "Name: count, dtype: int64"
      ]
     },
     "execution_count": 43,
     "metadata": {},
     "output_type": "execute_result"
    }
   ],
   "execution_count": 43
  },
  {
   "metadata": {
    "ExecuteTime": {
     "end_time": "2025-02-03T21:37:52.416060Z",
     "start_time": "2025-02-03T21:37:52.369271Z"
    }
   },
   "cell_type": "code",
   "source": [
    "# juntamos columnas [SOHOServer, EnterpriseServer, PerformanceServer] en \"Server\"\n",
    "df[\"Census_PowerPlatformRoleName\"] = df[\"Census_PowerPlatformRoleName\"].replace([\"SOHOServer\", \"EnterpriseServer\", \"PerformanceServer\"], \"Server\")"
   ],
   "id": "4063707ad67585bd",
   "outputs": [],
   "execution_count": 44
  },
  {
   "metadata": {
    "ExecuteTime": {
     "end_time": "2025-02-03T21:37:52.705698Z",
     "start_time": "2025-02-03T21:37:52.515811Z"
    }
   },
   "cell_type": "code",
   "source": [
    "# borramos registros con nulos (con valor UNKNOWN)\n",
    "df = df[df[\"Census_PowerPlatformRoleName\"] != \"UNKNOWN\"]"
   ],
   "id": "60367287b4cf5d3f",
   "outputs": [],
   "execution_count": 45
  },
  {
   "metadata": {
    "ExecuteTime": {
     "end_time": "2025-02-03T21:37:52.757585Z",
     "start_time": "2025-02-03T21:37:52.741617Z"
    }
   },
   "cell_type": "code",
   "source": "df[\"Census_PowerPlatformRoleName\"].value_counts(dropna=False)",
   "id": "8ec580c4a6dd2971",
   "outputs": [
    {
     "data": {
      "text/plain": [
       "Census_PowerPlatformRoleName\n",
       "Mobile         343361\n",
       "Desktop        113532\n",
       "Slate           27360\n",
       "Workstation      6060\n",
       "Server           2368\n",
       "AppliancePC       212\n",
       "Name: count, dtype: int64"
      ]
     },
     "execution_count": 46,
     "metadata": {},
     "output_type": "execute_result"
    }
   ],
   "execution_count": 46
  },
  {
   "metadata": {
    "ExecuteTime": {
     "end_time": "2025-02-03T21:37:53.481698Z",
     "start_time": "2025-02-03T21:37:52.808443Z"
    }
   },
   "cell_type": "code",
   "source": [
    "# hay únicamente 6 valores únicos, es una variable categórica, proponemos hacer un OHE\n",
    "df = pd.get_dummies(df, columns=[\"Census_PowerPlatformRoleName\"], prefix=\"Census_PowerPlatformRoleName\")  # TODO\n",
    "del_columns.append(\"Census_PowerPlatformRoleName\")"
   ],
   "id": "a54c6ee8f746716b",
   "outputs": [],
   "execution_count": 47
  },
  {
   "metadata": {},
   "cell_type": "markdown",
   "source": [
    "### \"Census_InternalBatteryType\"\n",
    "Descripción: Tipo de batería interna"
   ],
   "id": "57425820d602dbe5"
  },
  {
   "metadata": {
    "ExecuteTime": {
     "end_time": "2025-02-03T21:37:53.519722Z",
     "start_time": "2025-02-03T21:37:53.505996Z"
    }
   },
   "cell_type": "code",
   "source": "df[\"Census_InternalBatteryType\"].value_counts(dropna=False)",
   "id": "7f5d29ed6e87f8d9",
   "outputs": [
    {
     "data": {
      "text/plain": [
       "Census_InternalBatteryType\n",
       "NaN     349717\n",
       "lion    112765\n",
       "li-i     13774\n",
       "#         9915\n",
       "lip       3314\n",
       "liio      1775\n",
       "li p       463\n",
       "li         351\n",
       "nimh       268\n",
       "real       162\n",
       "bq20       142\n",
       "pbac       128\n",
       "lgi0        29\n",
       "unkn        19\n",
       "lipo        13\n",
       "lhp0        12\n",
       "vbox        11\n",
       "ithi         7\n",
       "4cel         6\n",
       "ram          5\n",
       "batt         3\n",
       "bad          3\n",
       "lipp         3\n",
       "virt         2\n",
       "a132         2\n",
       "li-l         1\n",
       "lgl0         1\n",
       "icp3         1\n",
       "3ion         1\n",
       "Name: count, dtype: int64"
      ]
     },
     "execution_count": 48,
     "metadata": {},
     "output_type": "execute_result"
    }
   ],
   "execution_count": 48
  },
  {
   "metadata": {
    "ExecuteTime": {
     "end_time": "2025-02-03T21:37:53.573948Z",
     "start_time": "2025-02-03T21:37:53.569255Z"
    }
   },
   "cell_type": "code",
   "source": [
    "# interpeteción: hay 348_471 nulos y se puede presuponer una alta correlación entre el tipo de batería y el tipo de dispositivo -> eliminamos la columna #TODO: comprobar\n",
    "del_columns.append(\"Census_InternalBatteryType\")"
   ],
   "id": "b92f098a39f5581c",
   "outputs": [],
   "execution_count": 49
  },
  {
   "metadata": {},
   "cell_type": "markdown",
   "source": [
    "### \"Census_InternalBatteryNumberOfCharges\"\n",
    "Descripción: Número de cargas de la batería interna"
   ],
   "id": "701fef67844f0213"
  },
  {
   "metadata": {
    "ExecuteTime": {
     "end_time": "2025-02-03T21:37:53.686713Z",
     "start_time": "2025-02-03T21:37:53.669823Z"
    }
   },
   "cell_type": "code",
   "source": "df[\"Census_InternalBatteryNumberOfCharges\"].value_counts(dropna=False)",
   "id": "b2b739eba1021aa3",
   "outputs": [
    {
     "data": {
      "text/plain": [
       "Census_InternalBatteryNumberOfCharges\n",
       "0.0000             281300\n",
       "4294967295.0000    124318\n",
       "NaN                 12267\n",
       "1.0000               2928\n",
       "16.0000              1491\n",
       "                    ...  \n",
       "57868.0000              1\n",
       "30492.0000              1\n",
       "1769.0000               1\n",
       "38289.0000              1\n",
       "51948.0000              1\n",
       "Name: count, Length: 5235, dtype: int64"
      ]
     },
     "execution_count": 50,
     "metadata": {},
     "output_type": "execute_result"
    }
   ],
   "execution_count": 50
  },
  {
   "metadata": {
    "ExecuteTime": {
     "end_time": "2025-02-03T21:37:53.961682Z",
     "start_time": "2025-02-03T21:37:53.809643Z"
    }
   },
   "cell_type": "code",
   "source": [
    "# 1. se presupone que serà una variable contínua\n",
    "# 2. nulos: hay directamente 12204 NaNs (2.5%) pero se observa unos registros extremadamente altos de 4294967295 y 4294967294. Estos valores provienen de un error en la recogida de datos, 4294967295 es el valor máximo de un entero de 32 bits (2^32 - 1). Hay 123_658 y 656 registros respectivamente (24.9% y 0.1%). Demasiados registros para eliminarlos, se propone rellenar los nulos con la media de la columna.\n",
    "\n",
    "# TODO: exponer al grupo\n",
    "# calculamos media evitando los valores erróneos\n",
    "mean_charges = df[df[\"Census_InternalBatteryNumberOfCharges\"] < 4_000_000_000][\"Census_InternalBatteryNumberOfCharges\"].mean()\n",
    "df[\"Census_InternalBatteryNumberOfCharges\"] = df[\"Census_InternalBatteryNumberOfCharges\"].fillna(mean_charges)"
   ],
   "id": "4fd1a7fa9d0f8d4a",
   "outputs": [],
   "execution_count": 51
  },
  {
   "metadata": {
    "ExecuteTime": {
     "end_time": "2025-02-03T21:37:54.095863Z",
     "start_time": "2025-02-03T21:37:53.987559Z"
    }
   },
   "cell_type": "code",
   "source": [
    "# vamos los registros fallidos\n",
    "df[df[\"Census_InternalBatteryNumberOfCharges\"] > 4_000_000_000]\n",
    "# observamos que los registros con valor 4294967295 son los que tienen nulos en la columna \"Census_InternalBatteryType\" -> comportamiento esperado"
   ],
   "id": "ea09451369dffb88",
   "outputs": [
    {
     "data": {
      "text/plain": [
       "        Unnamed: 0                 MachineIdentifier   ProductName  \\\n",
       "0          8427007  f1cd864e97bae82bdf96523e1a539121  win8defender   \n",
       "10          844555  1843aa258152c018f0298a8ba9915ebd  win8defender   \n",
       "12         2382707  4458ad1edb42d5f05ac868afa37f628e  win8defender   \n",
       "16         5951649  aad1e798db865780f340539c0429934d  win8defender   \n",
       "19         2797061  503ff9f5e17315afd880eb6745316439  win8defender   \n",
       "...            ...                               ...           ...   \n",
       "499979     5253164  96c417e49191b49f11c51314fe27e5c4  win8defender   \n",
       "499988      959036  1b8d39b74872ef5de9f9c9ca43424d79  win8defender   \n",
       "499994     5802201  a687cfd1252ee03ce9658eaf15bdf40e  win8defender   \n",
       "499997     8819786  fd16cd542d660848d272e4552bcccb1e  win8defender   \n",
       "499999     4295573  7b45dc3537e17f16305c5983ca0a1cb9  win8defender   \n",
       "\n",
       "       EngineVersion       AppVersion  AvSigVersion  IsBeta  RtpStateBitfield  \\\n",
       "0        1.1.15100.1  4.18.1807.18075  1.273.1234.0       0            7.0000   \n",
       "10       1.1.15100.1  4.18.1807.18075  1.273.1552.0       0            7.0000   \n",
       "12       1.1.15100.1  4.18.1807.18075  1.273.1112.0       0            7.0000   \n",
       "16       1.1.15100.1  4.18.1806.18062   1.273.356.0       0            7.0000   \n",
       "19       1.1.15200.1  4.18.1807.18075   1.275.948.0       0            7.0000   \n",
       "...              ...              ...           ...     ...               ...   \n",
       "499979   1.1.15200.1  4.18.1807.18075  1.275.1140.0       0            7.0000   \n",
       "499988   1.1.15200.1  4.18.1807.18075   1.275.260.0       0            7.0000   \n",
       "499994   1.1.15200.1   4.9.10586.1106   1.275.155.0       0            7.0000   \n",
       "499997   1.1.15300.5   4.13.17134.112  1.275.1343.0       0            7.0000   \n",
       "499999   1.1.15100.1  4.18.1807.18075  1.273.1644.0       0            7.0000   \n",
       "\n",
       "        IsSxsPassiveMode  DefaultBrowsersIdentifier  ...  \\\n",
       "0                      0                        NaN  ...   \n",
       "10                     0                        NaN  ...   \n",
       "12                     0                        NaN  ...   \n",
       "16                     0                        NaN  ...   \n",
       "19                     0                        NaN  ...   \n",
       "...                  ...                        ...  ...   \n",
       "499979                 0                        NaN  ...   \n",
       "499988                 0                        NaN  ...   \n",
       "499994                 0                  2132.0000  ...   \n",
       "499997                 0                        NaN  ...   \n",
       "499999                 0                        NaN  ...   \n",
       "\n",
       "        Census_PrimaryDiskTypeName_HDD  Census_PrimaryDiskTypeName_Indefinido  \\\n",
       "0                                 True                                  False   \n",
       "10                               False                                  False   \n",
       "12                                True                                  False   \n",
       "16                                True                                  False   \n",
       "19                               False                                   True   \n",
       "...                                ...                                    ...   \n",
       "499979                            True                                  False   \n",
       "499988                           False                                   True   \n",
       "499994                            True                                  False   \n",
       "499997                            True                                  False   \n",
       "499999                           False                                  False   \n",
       "\n",
       "        Census_PrimaryDiskTypeName_SSD  Census_TotalPhysicalRAM_GB  \\\n",
       "0                                False                      8.0000   \n",
       "10                                True                      4.0000   \n",
       "12                               False                      4.0000   \n",
       "16                               False                      4.0000   \n",
       "19                               False                      4.0000   \n",
       "...                                ...                         ...   \n",
       "499979                           False                      3.0000   \n",
       "499988                           False                      4.0000   \n",
       "499994                           False                      4.0000   \n",
       "499997                           False                      4.0000   \n",
       "499999                            True                     16.0000   \n",
       "\n",
       "        Census_PowerPlatformRoleName_AppliancePC  \\\n",
       "0                                          False   \n",
       "10                                         False   \n",
       "12                                         False   \n",
       "16                                         False   \n",
       "19                                         False   \n",
       "...                                          ...   \n",
       "499979                                     False   \n",
       "499988                                     False   \n",
       "499994                                     False   \n",
       "499997                                     False   \n",
       "499999                                     False   \n",
       "\n",
       "        Census_PowerPlatformRoleName_Desktop  \\\n",
       "0                                       True   \n",
       "10                                      True   \n",
       "12                                      True   \n",
       "16                                      True   \n",
       "19                                      True   \n",
       "...                                      ...   \n",
       "499979                                  True   \n",
       "499988                                  True   \n",
       "499994                                 False   \n",
       "499997                                  True   \n",
       "499999                                  True   \n",
       "\n",
       "        Census_PowerPlatformRoleName_Mobile  \\\n",
       "0                                     False   \n",
       "10                                    False   \n",
       "12                                    False   \n",
       "16                                    False   \n",
       "19                                    False   \n",
       "...                                     ...   \n",
       "499979                                False   \n",
       "499988                                False   \n",
       "499994                                 True   \n",
       "499997                                False   \n",
       "499999                                False   \n",
       "\n",
       "        Census_PowerPlatformRoleName_Server  \\\n",
       "0                                     False   \n",
       "10                                    False   \n",
       "12                                    False   \n",
       "16                                    False   \n",
       "19                                    False   \n",
       "...                                     ...   \n",
       "499979                                False   \n",
       "499988                                False   \n",
       "499994                                False   \n",
       "499997                                False   \n",
       "499999                                False   \n",
       "\n",
       "        Census_PowerPlatformRoleName_Slate  \\\n",
       "0                                    False   \n",
       "10                                   False   \n",
       "12                                   False   \n",
       "16                                   False   \n",
       "19                                   False   \n",
       "...                                    ...   \n",
       "499979                               False   \n",
       "499988                               False   \n",
       "499994                               False   \n",
       "499997                               False   \n",
       "499999                               False   \n",
       "\n",
       "       Census_PowerPlatformRoleName_Workstation  \n",
       "0                                         False  \n",
       "10                                        False  \n",
       "12                                        False  \n",
       "16                                        False  \n",
       "19                                        False  \n",
       "...                                         ...  \n",
       "499979                                    False  \n",
       "499988                                    False  \n",
       "499994                                    False  \n",
       "499997                                    False  \n",
       "499999                                    False  \n",
       "\n",
       "[124976 rows x 92 columns]"
      ],
      "text/html": [
       "<div>\n",
       "<style scoped>\n",
       "    .dataframe tbody tr th:only-of-type {\n",
       "        vertical-align: middle;\n",
       "    }\n",
       "\n",
       "    .dataframe tbody tr th {\n",
       "        vertical-align: top;\n",
       "    }\n",
       "\n",
       "    .dataframe thead th {\n",
       "        text-align: right;\n",
       "    }\n",
       "</style>\n",
       "<table border=\"1\" class=\"dataframe\">\n",
       "  <thead>\n",
       "    <tr style=\"text-align: right;\">\n",
       "      <th></th>\n",
       "      <th>Unnamed: 0</th>\n",
       "      <th>MachineIdentifier</th>\n",
       "      <th>ProductName</th>\n",
       "      <th>EngineVersion</th>\n",
       "      <th>AppVersion</th>\n",
       "      <th>AvSigVersion</th>\n",
       "      <th>IsBeta</th>\n",
       "      <th>RtpStateBitfield</th>\n",
       "      <th>IsSxsPassiveMode</th>\n",
       "      <th>DefaultBrowsersIdentifier</th>\n",
       "      <th>...</th>\n",
       "      <th>Census_PrimaryDiskTypeName_HDD</th>\n",
       "      <th>Census_PrimaryDiskTypeName_Indefinido</th>\n",
       "      <th>Census_PrimaryDiskTypeName_SSD</th>\n",
       "      <th>Census_TotalPhysicalRAM_GB</th>\n",
       "      <th>Census_PowerPlatformRoleName_AppliancePC</th>\n",
       "      <th>Census_PowerPlatformRoleName_Desktop</th>\n",
       "      <th>Census_PowerPlatformRoleName_Mobile</th>\n",
       "      <th>Census_PowerPlatformRoleName_Server</th>\n",
       "      <th>Census_PowerPlatformRoleName_Slate</th>\n",
       "      <th>Census_PowerPlatformRoleName_Workstation</th>\n",
       "    </tr>\n",
       "  </thead>\n",
       "  <tbody>\n",
       "    <tr>\n",
       "      <th>0</th>\n",
       "      <td>8427007</td>\n",
       "      <td>f1cd864e97bae82bdf96523e1a539121</td>\n",
       "      <td>win8defender</td>\n",
       "      <td>1.1.15100.1</td>\n",
       "      <td>4.18.1807.18075</td>\n",
       "      <td>1.273.1234.0</td>\n",
       "      <td>0</td>\n",
       "      <td>7.0000</td>\n",
       "      <td>0</td>\n",
       "      <td>NaN</td>\n",
       "      <td>...</td>\n",
       "      <td>True</td>\n",
       "      <td>False</td>\n",
       "      <td>False</td>\n",
       "      <td>8.0000</td>\n",
       "      <td>False</td>\n",
       "      <td>True</td>\n",
       "      <td>False</td>\n",
       "      <td>False</td>\n",
       "      <td>False</td>\n",
       "      <td>False</td>\n",
       "    </tr>\n",
       "    <tr>\n",
       "      <th>10</th>\n",
       "      <td>844555</td>\n",
       "      <td>1843aa258152c018f0298a8ba9915ebd</td>\n",
       "      <td>win8defender</td>\n",
       "      <td>1.1.15100.1</td>\n",
       "      <td>4.18.1807.18075</td>\n",
       "      <td>1.273.1552.0</td>\n",
       "      <td>0</td>\n",
       "      <td>7.0000</td>\n",
       "      <td>0</td>\n",
       "      <td>NaN</td>\n",
       "      <td>...</td>\n",
       "      <td>False</td>\n",
       "      <td>False</td>\n",
       "      <td>True</td>\n",
       "      <td>4.0000</td>\n",
       "      <td>False</td>\n",
       "      <td>True</td>\n",
       "      <td>False</td>\n",
       "      <td>False</td>\n",
       "      <td>False</td>\n",
       "      <td>False</td>\n",
       "    </tr>\n",
       "    <tr>\n",
       "      <th>12</th>\n",
       "      <td>2382707</td>\n",
       "      <td>4458ad1edb42d5f05ac868afa37f628e</td>\n",
       "      <td>win8defender</td>\n",
       "      <td>1.1.15100.1</td>\n",
       "      <td>4.18.1807.18075</td>\n",
       "      <td>1.273.1112.0</td>\n",
       "      <td>0</td>\n",
       "      <td>7.0000</td>\n",
       "      <td>0</td>\n",
       "      <td>NaN</td>\n",
       "      <td>...</td>\n",
       "      <td>True</td>\n",
       "      <td>False</td>\n",
       "      <td>False</td>\n",
       "      <td>4.0000</td>\n",
       "      <td>False</td>\n",
       "      <td>True</td>\n",
       "      <td>False</td>\n",
       "      <td>False</td>\n",
       "      <td>False</td>\n",
       "      <td>False</td>\n",
       "    </tr>\n",
       "    <tr>\n",
       "      <th>16</th>\n",
       "      <td>5951649</td>\n",
       "      <td>aad1e798db865780f340539c0429934d</td>\n",
       "      <td>win8defender</td>\n",
       "      <td>1.1.15100.1</td>\n",
       "      <td>4.18.1806.18062</td>\n",
       "      <td>1.273.356.0</td>\n",
       "      <td>0</td>\n",
       "      <td>7.0000</td>\n",
       "      <td>0</td>\n",
       "      <td>NaN</td>\n",
       "      <td>...</td>\n",
       "      <td>True</td>\n",
       "      <td>False</td>\n",
       "      <td>False</td>\n",
       "      <td>4.0000</td>\n",
       "      <td>False</td>\n",
       "      <td>True</td>\n",
       "      <td>False</td>\n",
       "      <td>False</td>\n",
       "      <td>False</td>\n",
       "      <td>False</td>\n",
       "    </tr>\n",
       "    <tr>\n",
       "      <th>19</th>\n",
       "      <td>2797061</td>\n",
       "      <td>503ff9f5e17315afd880eb6745316439</td>\n",
       "      <td>win8defender</td>\n",
       "      <td>1.1.15200.1</td>\n",
       "      <td>4.18.1807.18075</td>\n",
       "      <td>1.275.948.0</td>\n",
       "      <td>0</td>\n",
       "      <td>7.0000</td>\n",
       "      <td>0</td>\n",
       "      <td>NaN</td>\n",
       "      <td>...</td>\n",
       "      <td>False</td>\n",
       "      <td>True</td>\n",
       "      <td>False</td>\n",
       "      <td>4.0000</td>\n",
       "      <td>False</td>\n",
       "      <td>True</td>\n",
       "      <td>False</td>\n",
       "      <td>False</td>\n",
       "      <td>False</td>\n",
       "      <td>False</td>\n",
       "    </tr>\n",
       "    <tr>\n",
       "      <th>...</th>\n",
       "      <td>...</td>\n",
       "      <td>...</td>\n",
       "      <td>...</td>\n",
       "      <td>...</td>\n",
       "      <td>...</td>\n",
       "      <td>...</td>\n",
       "      <td>...</td>\n",
       "      <td>...</td>\n",
       "      <td>...</td>\n",
       "      <td>...</td>\n",
       "      <td>...</td>\n",
       "      <td>...</td>\n",
       "      <td>...</td>\n",
       "      <td>...</td>\n",
       "      <td>...</td>\n",
       "      <td>...</td>\n",
       "      <td>...</td>\n",
       "      <td>...</td>\n",
       "      <td>...</td>\n",
       "      <td>...</td>\n",
       "      <td>...</td>\n",
       "    </tr>\n",
       "    <tr>\n",
       "      <th>499979</th>\n",
       "      <td>5253164</td>\n",
       "      <td>96c417e49191b49f11c51314fe27e5c4</td>\n",
       "      <td>win8defender</td>\n",
       "      <td>1.1.15200.1</td>\n",
       "      <td>4.18.1807.18075</td>\n",
       "      <td>1.275.1140.0</td>\n",
       "      <td>0</td>\n",
       "      <td>7.0000</td>\n",
       "      <td>0</td>\n",
       "      <td>NaN</td>\n",
       "      <td>...</td>\n",
       "      <td>True</td>\n",
       "      <td>False</td>\n",
       "      <td>False</td>\n",
       "      <td>3.0000</td>\n",
       "      <td>False</td>\n",
       "      <td>True</td>\n",
       "      <td>False</td>\n",
       "      <td>False</td>\n",
       "      <td>False</td>\n",
       "      <td>False</td>\n",
       "    </tr>\n",
       "    <tr>\n",
       "      <th>499988</th>\n",
       "      <td>959036</td>\n",
       "      <td>1b8d39b74872ef5de9f9c9ca43424d79</td>\n",
       "      <td>win8defender</td>\n",
       "      <td>1.1.15200.1</td>\n",
       "      <td>4.18.1807.18075</td>\n",
       "      <td>1.275.260.0</td>\n",
       "      <td>0</td>\n",
       "      <td>7.0000</td>\n",
       "      <td>0</td>\n",
       "      <td>NaN</td>\n",
       "      <td>...</td>\n",
       "      <td>False</td>\n",
       "      <td>True</td>\n",
       "      <td>False</td>\n",
       "      <td>4.0000</td>\n",
       "      <td>False</td>\n",
       "      <td>True</td>\n",
       "      <td>False</td>\n",
       "      <td>False</td>\n",
       "      <td>False</td>\n",
       "      <td>False</td>\n",
       "    </tr>\n",
       "    <tr>\n",
       "      <th>499994</th>\n",
       "      <td>5802201</td>\n",
       "      <td>a687cfd1252ee03ce9658eaf15bdf40e</td>\n",
       "      <td>win8defender</td>\n",
       "      <td>1.1.15200.1</td>\n",
       "      <td>4.9.10586.1106</td>\n",
       "      <td>1.275.155.0</td>\n",
       "      <td>0</td>\n",
       "      <td>7.0000</td>\n",
       "      <td>0</td>\n",
       "      <td>2132.0000</td>\n",
       "      <td>...</td>\n",
       "      <td>True</td>\n",
       "      <td>False</td>\n",
       "      <td>False</td>\n",
       "      <td>4.0000</td>\n",
       "      <td>False</td>\n",
       "      <td>False</td>\n",
       "      <td>True</td>\n",
       "      <td>False</td>\n",
       "      <td>False</td>\n",
       "      <td>False</td>\n",
       "    </tr>\n",
       "    <tr>\n",
       "      <th>499997</th>\n",
       "      <td>8819786</td>\n",
       "      <td>fd16cd542d660848d272e4552bcccb1e</td>\n",
       "      <td>win8defender</td>\n",
       "      <td>1.1.15300.5</td>\n",
       "      <td>4.13.17134.112</td>\n",
       "      <td>1.275.1343.0</td>\n",
       "      <td>0</td>\n",
       "      <td>7.0000</td>\n",
       "      <td>0</td>\n",
       "      <td>NaN</td>\n",
       "      <td>...</td>\n",
       "      <td>True</td>\n",
       "      <td>False</td>\n",
       "      <td>False</td>\n",
       "      <td>4.0000</td>\n",
       "      <td>False</td>\n",
       "      <td>True</td>\n",
       "      <td>False</td>\n",
       "      <td>False</td>\n",
       "      <td>False</td>\n",
       "      <td>False</td>\n",
       "    </tr>\n",
       "    <tr>\n",
       "      <th>499999</th>\n",
       "      <td>4295573</td>\n",
       "      <td>7b45dc3537e17f16305c5983ca0a1cb9</td>\n",
       "      <td>win8defender</td>\n",
       "      <td>1.1.15100.1</td>\n",
       "      <td>4.18.1807.18075</td>\n",
       "      <td>1.273.1644.0</td>\n",
       "      <td>0</td>\n",
       "      <td>7.0000</td>\n",
       "      <td>0</td>\n",
       "      <td>NaN</td>\n",
       "      <td>...</td>\n",
       "      <td>False</td>\n",
       "      <td>False</td>\n",
       "      <td>True</td>\n",
       "      <td>16.0000</td>\n",
       "      <td>False</td>\n",
       "      <td>True</td>\n",
       "      <td>False</td>\n",
       "      <td>False</td>\n",
       "      <td>False</td>\n",
       "      <td>False</td>\n",
       "    </tr>\n",
       "  </tbody>\n",
       "</table>\n",
       "<p>124976 rows × 92 columns</p>\n",
       "</div>"
      ]
     },
     "execution_count": 52,
     "metadata": {},
     "output_type": "execute_result"
    }
   ],
   "execution_count": 52
  },
  {
   "metadata": {
    "ExecuteTime": {
     "end_time": "2025-02-03T21:37:54.209556Z",
     "start_time": "2025-02-03T21:37:54.201632Z"
    }
   },
   "cell_type": "code",
   "source": [
    "# se imputan los valores erróneos con la media\n",
    "mask = df[\"Census_InternalBatteryNumberOfCharges\"] > 4_000_000_000\n",
    "df.loc[mask, \"Census_InternalBatteryNumberOfCharges\"] = mean_charges"
   ],
   "id": "846e23e57a357671",
   "outputs": [],
   "execution_count": 53
  },
  {
   "metadata": {
    "ExecuteTime": {
     "end_time": "2025-02-03T21:37:54.583236Z",
     "start_time": "2025-02-03T21:37:54.451487Z"
    }
   },
   "cell_type": "code",
   "source": [
    "# hist\n",
    "df[\"Census_InternalBatteryNumberOfCharges\"].hist()"
   ],
   "id": "a1b19d9ddc7e10d4",
   "outputs": [
    {
     "data": {
      "text/plain": [
       "<Axes: >"
      ]
     },
     "execution_count": 54,
     "metadata": {},
     "output_type": "execute_result"
    },
    {
     "data": {
      "text/plain": [
       "<Figure size 640x480 with 1 Axes>"
      ],
      "image/png": "[encoded data removed]"
     },
     "metadata": {},
     "output_type": "display_data"
    }
   ],
   "execution_count": 54
  },
  {
   "metadata": {
    "ExecuteTime": {
     "end_time": "2025-02-03T21:37:54.693750Z",
     "start_time": "2025-02-03T21:37:54.678217Z"
    }
   },
   "cell_type": "code",
   "source": "df['Census_InternalBatteryNumberOfCharges'].value_counts(dropna=False)",
   "id": "e77ff2d36352d8fe",
   "outputs": [
    {
     "data": {
      "text/plain": [
       "Census_InternalBatteryNumberOfCharges\n",
       "0.0000        281300\n",
       "383.0726      137243\n",
       "1.0000          2928\n",
       "16.0000         1491\n",
       "2.0000          1490\n",
       "               ...  \n",
       "57868.0000         1\n",
       "30492.0000         1\n",
       "1769.0000          1\n",
       "38289.0000         1\n",
       "51948.0000         1\n",
       "Name: count, Length: 5233, dtype: int64"
      ]
     },
     "execution_count": 55,
     "metadata": {},
     "output_type": "execute_result"
    }
   ],
   "execution_count": 55
  },
  {
   "metadata": {
    "ExecuteTime": {
     "end_time": "2025-02-03T21:37:55.211821Z",
     "start_time": "2025-02-03T21:37:55.032736Z"
    }
   },
   "cell_type": "code",
   "source": [
    "# miramos registros con valor 0\n",
    "df[df[\"Census_InternalBatteryNumberOfCharges\"] == 0]"
   ],
   "id": "e4ab7d9d966a042",
   "outputs": [
    {
     "data": {
      "text/plain": [
       "        Unnamed: 0                 MachineIdentifier   ProductName  \\\n",
       "1          8829090  fd5ba6f5b75325ec0423a6c67cc75942  win8defender   \n",
       "2          2731904  4e628391e7cc7c482fb3286f486dbd25  win8defender   \n",
       "4           236059  06ca8fa8d32c2abdc5b3577d676b3269  win8defender   \n",
       "5          3771983  6c3ff3036d3ecc96729a615653742608  win8defender   \n",
       "6          4833329  8ab73b7f8dbb0d0d57f54a8b4799e960  win8defender   \n",
       "...            ...                               ...           ...   \n",
       "499992     1052146  1e395f5a138a77514322a1201de81a27  win8defender   \n",
       "499993     7526638  d7f1b593177768d66a2905b09a43a4d5  win8defender   \n",
       "499995     5826339  a739cacc292f3f1e745827c1ca6c6ada  win8defender   \n",
       "499996     5740034  a4c232d528d98343e8f1b73650da7b82  win8defender   \n",
       "499998     8713685  fa0841f8f6147de7c3d287e05270ed42  win8defender   \n",
       "\n",
       "       EngineVersion        AppVersion  AvSigVersion  IsBeta  \\\n",
       "1        1.1.15100.1   4.18.1807.18075  1.273.1282.0       0   \n",
       "2        1.1.15100.1    4.9.10586.1106   1.273.781.0       0   \n",
       "4        1.1.15200.1   4.18.1807.18075   1.275.511.0       0   \n",
       "5        1.1.15200.1   4.18.1807.18075   1.275.981.0       0   \n",
       "6        1.1.15200.1   4.18.1807.18075   1.275.497.0       0   \n",
       "...              ...               ...           ...     ...   \n",
       "499992   1.1.15200.1   4.18.1807.18075  1.275.1665.0       0   \n",
       "499993   1.1.15100.1   4.18.1807.18075  1.273.1420.0       0   \n",
       "499995   1.1.15200.1   4.18.1807.18075  1.275.1090.0       0   \n",
       "499996   1.1.15100.1   4.18.1807.18075  1.273.1620.0       0   \n",
       "499998   1.1.15100.1  4.14.17639.18041   1.273.483.0       0   \n",
       "\n",
       "        RtpStateBitfield  IsSxsPassiveMode  DefaultBrowsersIdentifier  ...  \\\n",
       "1                 7.0000                 0                        NaN  ...   \n",
       "2                 7.0000                 0                        NaN  ...   \n",
       "4                 7.0000                 0                        NaN  ...   \n",
       "5                 7.0000                 0                        NaN  ...   \n",
       "6                 7.0000                 0                        NaN  ...   \n",
       "...                  ...               ...                        ...  ...   \n",
       "499992            7.0000                 0                        NaN  ...   \n",
       "499993            7.0000                 0                        NaN  ...   \n",
       "499995            7.0000                 0                        NaN  ...   \n",
       "499996            7.0000                 0                        NaN  ...   \n",
       "499998            7.0000                 0                        NaN  ...   \n",
       "\n",
       "        Census_PrimaryDiskTypeName_HDD  Census_PrimaryDiskTypeName_Indefinido  \\\n",
       "1                                 True                                  False   \n",
       "2                                False                                  False   \n",
       "4                                 True                                  False   \n",
       "5                                 True                                  False   \n",
       "6                                 True                                  False   \n",
       "...                                ...                                    ...   \n",
       "499992                           False                                  False   \n",
       "499993                            True                                  False   \n",
       "499995                            True                                  False   \n",
       "499996                           False                                  False   \n",
       "499998                            True                                  False   \n",
       "\n",
       "        Census_PrimaryDiskTypeName_SSD  Census_TotalPhysicalRAM_GB  \\\n",
       "1                                False                      8.0000   \n",
       "2                                 True                      8.0000   \n",
       "4                                False                      4.0000   \n",
       "5                                False                      4.0000   \n",
       "6                                False                      2.0000   \n",
       "...                                ...                         ...   \n",
       "499992                            True                      8.0000   \n",
       "499993                           False                      2.0000   \n",
       "499995                           False                      4.0000   \n",
       "499996                            True                      8.0000   \n",
       "499998                           False                      6.0000   \n",
       "\n",
       "        Census_PowerPlatformRoleName_AppliancePC  \\\n",
       "1                                          False   \n",
       "2                                          False   \n",
       "4                                          False   \n",
       "5                                          False   \n",
       "6                                          False   \n",
       "...                                          ...   \n",
       "499992                                     False   \n",
       "499993                                     False   \n",
       "499995                                     False   \n",
       "499996                                     False   \n",
       "499998                                     False   \n",
       "\n",
       "        Census_PowerPlatformRoleName_Desktop  \\\n",
       "1                                      False   \n",
       "2                                      False   \n",
       "4                                      False   \n",
       "5                                      False   \n",
       "6                                      False   \n",
       "...                                      ...   \n",
       "499992                                 False   \n",
       "499993                                 False   \n",
       "499995                                 False   \n",
       "499996                                 False   \n",
       "499998                                 False   \n",
       "\n",
       "        Census_PowerPlatformRoleName_Mobile  \\\n",
       "1                                      True   \n",
       "2                                      True   \n",
       "4                                      True   \n",
       "5                                      True   \n",
       "6                                      True   \n",
       "...                                     ...   \n",
       "499992                                 True   \n",
       "499993                                 True   \n",
       "499995                                 True   \n",
       "499996                                 True   \n",
       "499998                                 True   \n",
       "\n",
       "        Census_PowerPlatformRoleName_Server  \\\n",
       "1                                     False   \n",
       "2                                     False   \n",
       "4                                     False   \n",
       "5                                     False   \n",
       "6                                     False   \n",
       "...                                     ...   \n",
       "499992                                False   \n",
       "499993                                False   \n",
       "499995                                False   \n",
       "499996                                False   \n",
       "499998                                False   \n",
       "\n",
       "        Census_PowerPlatformRoleName_Slate  \\\n",
       "1                                    False   \n",
       "2                                    False   \n",
       "4                                    False   \n",
       "5                                    False   \n",
       "6                                    False   \n",
       "...                                    ...   \n",
       "499992                               False   \n",
       "499993                               False   \n",
       "499995                               False   \n",
       "499996                               False   \n",
       "499998                               False   \n",
       "\n",
       "       Census_PowerPlatformRoleName_Workstation  \n",
       "1                                         False  \n",
       "2                                         False  \n",
       "4                                         False  \n",
       "5                                         False  \n",
       "6                                         False  \n",
       "...                                         ...  \n",
       "499992                                    False  \n",
       "499993                                    False  \n",
       "499995                                    False  \n",
       "499996                                    False  \n",
       "499998                                    False  \n",
       "\n",
       "[281300 rows x 92 columns]"
      ],
      "text/html": [
       "<div>\n",
       "<style scoped>\n",
       "    .dataframe tbody tr th:only-of-type {\n",
       "        vertical-align: middle;\n",
       "    }\n",
       "\n",
       "    .dataframe tbody tr th {\n",
       "        vertical-align: top;\n",
       "    }\n",
       "\n",
       "    .dataframe thead th {\n",
       "        text-align: right;\n",
       "    }\n",
       "</style>\n",
       "<table border=\"1\" class=\"dataframe\">\n",
       "  <thead>\n",
       "    <tr style=\"text-align: right;\">\n",
       "      <th></th>\n",
       "      <th>Unnamed: 0</th>\n",
       "      <th>MachineIdentifier</th>\n",
       "      <th>ProductName</th>\n",
       "      <th>EngineVersion</th>\n",
       "      <th>AppVersion</th>\n",
       "      <th>AvSigVersion</th>\n",
       "      <th>IsBeta</th>\n",
       "      <th>RtpStateBitfield</th>\n",
       "      <th>IsSxsPassiveMode</th>\n",
       "      <th>DefaultBrowsersIdentifier</th>\n",
       "      <th>...</th>\n",
       "      <th>Census_PrimaryDiskTypeName_HDD</th>\n",
       "      <th>Census_PrimaryDiskTypeName_Indefinido</th>\n",
       "      <th>Census_PrimaryDiskTypeName_SSD</th>\n",
       "      <th>Census_TotalPhysicalRAM_GB</th>\n",
       "      <th>Census_PowerPlatformRoleName_AppliancePC</th>\n",
       "      <th>Census_PowerPlatformRoleName_Desktop</th>\n",
       "      <th>Census_PowerPlatformRoleName_Mobile</th>\n",
       "      <th>Census_PowerPlatformRoleName_Server</th>\n",
       "      <th>Census_PowerPlatformRoleName_Slate</th>\n",
       "      <th>Census_PowerPlatformRoleName_Workstation</th>\n",
       "    </tr>\n",
       "  </thead>\n",
       "  <tbody>\n",
       "    <tr>\n",
       "      <th>1</th>\n",
       "      <td>8829090</td>\n",
       "      <td>fd5ba6f5b75325ec0423a6c67cc75942</td>\n",
       "      <td>win8defender</td>\n",
       "      <td>1.1.15100.1</td>\n",
       "      <td>4.18.1807.18075</td>\n",
       "      <td>1.273.1282.0</td>\n",
       "      <td>0</td>\n",
       "      <td>7.0000</td>\n",
       "      <td>0</td>\n",
       "      <td>NaN</td>\n",
       "      <td>...</td>\n",
       "      <td>True</td>\n",
       "      <td>False</td>\n",
       "      <td>False</td>\n",
       "      <td>8.0000</td>\n",
       "      <td>False</td>\n",
       "      <td>False</td>\n",
       "      <td>True</td>\n",
       "      <td>False</td>\n",
       "      <td>False</td>\n",
       "      <td>False</td>\n",
       "    </tr>\n",
       "    <tr>\n",
       "      <th>2</th>\n",
       "      <td>2731904</td>\n",
       "      <td>4e628391e7cc7c482fb3286f486dbd25</td>\n",
       "      <td>win8defender</td>\n",
       "      <td>1.1.15100.1</td>\n",
       "      <td>4.9.10586.1106</td>\n",
       "      <td>1.273.781.0</td>\n",
       "      <td>0</td>\n",
       "      <td>7.0000</td>\n",
       "      <td>0</td>\n",
       "      <td>NaN</td>\n",
       "      <td>...</td>\n",
       "      <td>False</td>\n",
       "      <td>False</td>\n",
       "      <td>True</td>\n",
       "      <td>8.0000</td>\n",
       "      <td>False</td>\n",
       "      <td>False</td>\n",
       "      <td>True</td>\n",
       "      <td>False</td>\n",
       "      <td>False</td>\n",
       "      <td>False</td>\n",
       "    </tr>\n",
       "    <tr>\n",
       "      <th>4</th>\n",
       "      <td>236059</td>\n",
       "      <td>06ca8fa8d32c2abdc5b3577d676b3269</td>\n",
       "      <td>win8defender</td>\n",
       "      <td>1.1.15200.1</td>\n",
       "      <td>4.18.1807.18075</td>\n",
       "      <td>1.275.511.0</td>\n",
       "      <td>0</td>\n",
       "      <td>7.0000</td>\n",
       "      <td>0</td>\n",
       "      <td>NaN</td>\n",
       "      <td>...</td>\n",
       "      <td>True</td>\n",
       "      <td>False</td>\n",
       "      <td>False</td>\n",
       "      <td>4.0000</td>\n",
       "      <td>False</td>\n",
       "      <td>False</td>\n",
       "      <td>True</td>\n",
       "      <td>False</td>\n",
       "      <td>False</td>\n",
       "      <td>False</td>\n",
       "    </tr>\n",
       "    <tr>\n",
       "      <th>5</th>\n",
       "      <td>3771983</td>\n",
       "      <td>6c3ff3036d3ecc96729a615653742608</td>\n",
       "      <td>win8defender</td>\n",
       "      <td>1.1.15200.1</td>\n",
       "      <td>4.18.1807.18075</td>\n",
       "      <td>1.275.981.0</td>\n",
       "      <td>0</td>\n",
       "      <td>7.0000</td>\n",
       "      <td>0</td>\n",
       "      <td>NaN</td>\n",
       "      <td>...</td>\n",
       "      <td>True</td>\n",
       "      <td>False</td>\n",
       "      <td>False</td>\n",
       "      <td>4.0000</td>\n",
       "      <td>False</td>\n",
       "      <td>False</td>\n",
       "      <td>True</td>\n",
       "      <td>False</td>\n",
       "      <td>False</td>\n",
       "      <td>False</td>\n",
       "    </tr>\n",
       "    <tr>\n",
       "      <th>6</th>\n",
       "      <td>4833329</td>\n",
       "      <td>8ab73b7f8dbb0d0d57f54a8b4799e960</td>\n",
       "      <td>win8defender</td>\n",
       "      <td>1.1.15200.1</td>\n",
       "      <td>4.18.1807.18075</td>\n",
       "      <td>1.275.497.0</td>\n",
       "      <td>0</td>\n",
       "      <td>7.0000</td>\n",
       "      <td>0</td>\n",
       "      <td>NaN</td>\n",
       "      <td>...</td>\n",
       "      <td>True</td>\n",
       "      <td>False</td>\n",
       "      <td>False</td>\n",
       "      <td>2.0000</td>\n",
       "      <td>False</td>\n",
       "      <td>False</td>\n",
       "      <td>True</td>\n",
       "      <td>False</td>\n",
       "      <td>False</td>\n",
       "      <td>False</td>\n",
       "    </tr>\n",
       "    <tr>\n",
       "      <th>...</th>\n",
       "      <td>...</td>\n",
       "      <td>...</td>\n",
       "      <td>...</td>\n",
       "      <td>...</td>\n",
       "      <td>...</td>\n",
       "      <td>...</td>\n",
       "      <td>...</td>\n",
       "      <td>...</td>\n",
       "      <td>...</td>\n",
       "      <td>...</td>\n",
       "      <td>...</td>\n",
       "      <td>...</td>\n",
       "      <td>...</td>\n",
       "      <td>...</td>\n",
       "      <td>...</td>\n",
       "      <td>...</td>\n",
       "      <td>...</td>\n",
       "      <td>...</td>\n",
       "      <td>...</td>\n",
       "      <td>...</td>\n",
       "      <td>...</td>\n",
       "    </tr>\n",
       "    <tr>\n",
       "      <th>499992</th>\n",
       "      <td>1052146</td>\n",
       "      <td>1e395f5a138a77514322a1201de81a27</td>\n",
       "      <td>win8defender</td>\n",
       "      <td>1.1.15200.1</td>\n",
       "      <td>4.18.1807.18075</td>\n",
       "      <td>1.275.1665.0</td>\n",
       "      <td>0</td>\n",
       "      <td>7.0000</td>\n",
       "      <td>0</td>\n",
       "      <td>NaN</td>\n",
       "      <td>...</td>\n",
       "      <td>False</td>\n",
       "      <td>False</td>\n",
       "      <td>True</td>\n",
       "      <td>8.0000</td>\n",
       "      <td>False</td>\n",
       "      <td>False</td>\n",
       "      <td>True</td>\n",
       "      <td>False</td>\n",
       "      <td>False</td>\n",
       "      <td>False</td>\n",
       "    </tr>\n",
       "    <tr>\n",
       "      <th>499993</th>\n",
       "      <td>7526638</td>\n",
       "      <td>d7f1b593177768d66a2905b09a43a4d5</td>\n",
       "      <td>win8defender</td>\n",
       "      <td>1.1.15100.1</td>\n",
       "      <td>4.18.1807.18075</td>\n",
       "      <td>1.273.1420.0</td>\n",
       "      <td>0</td>\n",
       "      <td>7.0000</td>\n",
       "      <td>0</td>\n",
       "      <td>NaN</td>\n",
       "      <td>...</td>\n",
       "      <td>True</td>\n",
       "      <td>False</td>\n",
       "      <td>False</td>\n",
       "      <td>2.0000</td>\n",
       "      <td>False</td>\n",
       "      <td>False</td>\n",
       "      <td>True</td>\n",
       "      <td>False</td>\n",
       "      <td>False</td>\n",
       "      <td>False</td>\n",
       "    </tr>\n",
       "    <tr>\n",
       "      <th>499995</th>\n",
       "      <td>5826339</td>\n",
       "      <td>a739cacc292f3f1e745827c1ca6c6ada</td>\n",
       "      <td>win8defender</td>\n",
       "      <td>1.1.15200.1</td>\n",
       "      <td>4.18.1807.18075</td>\n",
       "      <td>1.275.1090.0</td>\n",
       "      <td>0</td>\n",
       "      <td>7.0000</td>\n",
       "      <td>0</td>\n",
       "      <td>NaN</td>\n",
       "      <td>...</td>\n",
       "      <td>True</td>\n",
       "      <td>False</td>\n",
       "      <td>False</td>\n",
       "      <td>4.0000</td>\n",
       "      <td>False</td>\n",
       "      <td>False</td>\n",
       "      <td>True</td>\n",
       "      <td>False</td>\n",
       "      <td>False</td>\n",
       "      <td>False</td>\n",
       "    </tr>\n",
       "    <tr>\n",
       "      <th>499996</th>\n",
       "      <td>5740034</td>\n",
       "      <td>a4c232d528d98343e8f1b73650da7b82</td>\n",
       "      <td>win8defender</td>\n",
       "      <td>1.1.15100.1</td>\n",
       "      <td>4.18.1807.18075</td>\n",
       "      <td>1.273.1620.0</td>\n",
       "      <td>0</td>\n",
       "      <td>7.0000</td>\n",
       "      <td>0</td>\n",
       "      <td>NaN</td>\n",
       "      <td>...</td>\n",
       "      <td>False</td>\n",
       "      <td>False</td>\n",
       "      <td>True</td>\n",
       "      <td>8.0000</td>\n",
       "      <td>False</td>\n",
       "      <td>False</td>\n",
       "      <td>True</td>\n",
       "      <td>False</td>\n",
       "      <td>False</td>\n",
       "      <td>False</td>\n",
       "    </tr>\n",
       "    <tr>\n",
       "      <th>499998</th>\n",
       "      <td>8713685</td>\n",
       "      <td>fa0841f8f6147de7c3d287e05270ed42</td>\n",
       "      <td>win8defender</td>\n",
       "      <td>1.1.15100.1</td>\n",
       "      <td>4.14.17639.18041</td>\n",
       "      <td>1.273.483.0</td>\n",
       "      <td>0</td>\n",
       "      <td>7.0000</td>\n",
       "      <td>0</td>\n",
       "      <td>NaN</td>\n",
       "      <td>...</td>\n",
       "      <td>True</td>\n",
       "      <td>False</td>\n",
       "      <td>False</td>\n",
       "      <td>6.0000</td>\n",
       "      <td>False</td>\n",
       "      <td>False</td>\n",
       "      <td>True</td>\n",
       "      <td>False</td>\n",
       "      <td>False</td>\n",
       "      <td>False</td>\n",
       "    </tr>\n",
       "  </tbody>\n",
       "</table>\n",
       "<p>281300 rows × 92 columns</p>\n",
       "</div>"
      ]
     },
     "execution_count": 56,
     "metadata": {},
     "output_type": "execute_result"
    }
   ],
   "execution_count": 56
  },
  {
   "metadata": {
    "ExecuteTime": {
     "end_time": "2025-02-03T21:37:55.291118Z",
     "start_time": "2025-02-03T21:37:55.275697Z"
    }
   },
   "cell_type": "code",
   "source": [
    "# correlación con el target\n",
    "df[[\"Census_InternalBatteryNumberOfCharges\", \"HasDetections\"]].corr()"
   ],
   "id": "f67c2ca7bdb309fa",
   "outputs": [
    {
     "data": {
      "text/plain": [
       "                                       Census_InternalBatteryNumberOfCharges  \\\n",
       "Census_InternalBatteryNumberOfCharges                                 1.0000   \n",
       "HasDetections                                                        -0.0207   \n",
       "\n",
       "                                       HasDetections  \n",
       "Census_InternalBatteryNumberOfCharges        -0.0207  \n",
       "HasDetections                                 1.0000  "
      ],
      "text/html": [
       "<div>\n",
       "<style scoped>\n",
       "    .dataframe tbody tr th:only-of-type {\n",
       "        vertical-align: middle;\n",
       "    }\n",
       "\n",
       "    .dataframe tbody tr th {\n",
       "        vertical-align: top;\n",
       "    }\n",
       "\n",
       "    .dataframe thead th {\n",
       "        text-align: right;\n",
       "    }\n",
       "</style>\n",
       "<table border=\"1\" class=\"dataframe\">\n",
       "  <thead>\n",
       "    <tr style=\"text-align: right;\">\n",
       "      <th></th>\n",
       "      <th>Census_InternalBatteryNumberOfCharges</th>\n",
       "      <th>HasDetections</th>\n",
       "    </tr>\n",
       "  </thead>\n",
       "  <tbody>\n",
       "    <tr>\n",
       "      <th>Census_InternalBatteryNumberOfCharges</th>\n",
       "      <td>1.0000</td>\n",
       "      <td>-0.0207</td>\n",
       "    </tr>\n",
       "    <tr>\n",
       "      <th>HasDetections</th>\n",
       "      <td>-0.0207</td>\n",
       "      <td>1.0000</td>\n",
       "    </tr>\n",
       "  </tbody>\n",
       "</table>\n",
       "</div>"
      ]
     },
     "execution_count": 57,
     "metadata": {},
     "output_type": "execute_result"
    }
   ],
   "execution_count": 57
  },
  {
   "metadata": {
    "ExecuteTime": {
     "end_time": "2025-02-03T21:37:55.485427Z",
     "start_time": "2025-02-03T21:37:55.481896Z"
    }
   },
   "cell_type": "code",
   "source": "# es una columna que indirectamente nos puede estar devolviendo en tiempo de uso del dispositivo, proponemos mantenerla aún habiendo 280_000 registros con valor 0 (56%). Es la única que nos proporciona esta información. # TODO: debatir mas a fondo",
   "id": "73e00e6f23c33007",
   "outputs": [],
   "execution_count": 58
  },
  {
   "metadata": {},
   "cell_type": "markdown",
   "source": [
    "### \"Census_OSVersion\"\n",
    "Descripción: Versión del sistema operativo"
   ],
   "id": "c8f4723b64ac1db9"
  },
  {
   "metadata": {
    "ExecuteTime": {
     "end_time": "2025-02-03T21:37:55.668483Z",
     "start_time": "2025-02-03T21:37:55.640506Z"
    }
   },
   "cell_type": "code",
   "source": [
    "print(f\"{df['Census_OSVersion'].isna().sum()=}\")  # 0 nulos\n",
    "df[\"Census_OSVersion\"].value_counts(dropna=False)\n",
    "# Únicamente hay un registro con la versión distinta a la 10.0... siendo la 6.3.9600.19069"
   ],
   "id": "7f1bbab7f774c029",
   "outputs": [
    {
     "name": "stdout",
     "output_type": "stream",
     "text": [
      "df['Census_OSVersion'].isna().sum()=np.int64(0)\n"
     ]
    },
    {
     "data": {
      "text/plain": [
       "Census_OSVersion\n",
       "10.0.17134.228     79258\n",
       "10.0.17134.165     50104\n",
       "10.0.16299.431     30342\n",
       "10.0.17134.285     26044\n",
       "10.0.17134.112     19339\n",
       "                   ...  \n",
       "10.0.15063.448         1\n",
       "10.0.14393.1670        1\n",
       "10.0.16299.0           1\n",
       "10.0.16193.1001        1\n",
       "10.0.15048.0           1\n",
       "Name: count, Length: 303, dtype: int64"
      ]
     },
     "execution_count": 59,
     "metadata": {},
     "output_type": "execute_result"
    }
   ],
   "execution_count": 59
  },
  {
   "metadata": {
    "ExecuteTime": {
     "end_time": "2025-02-03T21:37:56.077003Z",
     "start_time": "2025-02-03T21:37:56.037309Z"
    }
   },
   "cell_type": "code",
   "source": "df[df['OsVer'] == '6.3.0.0'][['OsVer', 'Census_OSVersion']]",
   "id": "323af715fb660ae3",
   "outputs": [
    {
     "data": {
      "text/plain": [
       "          OsVer Census_OSVersion\n",
       "87      6.3.0.0  10.0.14393.1480\n",
       "209     6.3.0.0   10.0.10586.545\n",
       "390     6.3.0.0  10.0.10586.1176\n",
       "404     6.3.0.0   10.0.10586.420\n",
       "456     6.3.0.0    10.0.17134.48\n",
       "...         ...              ...\n",
       "499630  6.3.0.0   10.0.10586.164\n",
       "499640  6.3.0.0   10.0.16299.309\n",
       "499736  6.3.0.0   10.0.10586.420\n",
       "499807  6.3.0.0   10.0.14393.222\n",
       "499851  6.3.0.0   10.0.14393.693\n",
       "\n",
       "[10677 rows x 2 columns]"
      ],
      "text/html": [
       "<div>\n",
       "<style scoped>\n",
       "    .dataframe tbody tr th:only-of-type {\n",
       "        vertical-align: middle;\n",
       "    }\n",
       "\n",
       "    .dataframe tbody tr th {\n",
       "        vertical-align: top;\n",
       "    }\n",
       "\n",
       "    .dataframe thead th {\n",
       "        text-align: right;\n",
       "    }\n",
       "</style>\n",
       "<table border=\"1\" class=\"dataframe\">\n",
       "  <thead>\n",
       "    <tr style=\"text-align: right;\">\n",
       "      <th></th>\n",
       "      <th>OsVer</th>\n",
       "      <th>Census_OSVersion</th>\n",
       "    </tr>\n",
       "  </thead>\n",
       "  <tbody>\n",
       "    <tr>\n",
       "      <th>87</th>\n",
       "      <td>6.3.0.0</td>\n",
       "      <td>10.0.14393.1480</td>\n",
       "    </tr>\n",
       "    <tr>\n",
       "      <th>209</th>\n",
       "      <td>6.3.0.0</td>\n",
       "      <td>10.0.10586.545</td>\n",
       "    </tr>\n",
       "    <tr>\n",
       "      <th>390</th>\n",
       "      <td>6.3.0.0</td>\n",
       "      <td>10.0.10586.1176</td>\n",
       "    </tr>\n",
       "    <tr>\n",
       "      <th>404</th>\n",
       "      <td>6.3.0.0</td>\n",
       "      <td>10.0.10586.420</td>\n",
       "    </tr>\n",
       "    <tr>\n",
       "      <th>456</th>\n",
       "      <td>6.3.0.0</td>\n",
       "      <td>10.0.17134.48</td>\n",
       "    </tr>\n",
       "    <tr>\n",
       "      <th>...</th>\n",
       "      <td>...</td>\n",
       "      <td>...</td>\n",
       "    </tr>\n",
       "    <tr>\n",
       "      <th>499630</th>\n",
       "      <td>6.3.0.0</td>\n",
       "      <td>10.0.10586.164</td>\n",
       "    </tr>\n",
       "    <tr>\n",
       "      <th>499640</th>\n",
       "      <td>6.3.0.0</td>\n",
       "      <td>10.0.16299.309</td>\n",
       "    </tr>\n",
       "    <tr>\n",
       "      <th>499736</th>\n",
       "      <td>6.3.0.0</td>\n",
       "      <td>10.0.10586.420</td>\n",
       "    </tr>\n",
       "    <tr>\n",
       "      <th>499807</th>\n",
       "      <td>6.3.0.0</td>\n",
       "      <td>10.0.14393.222</td>\n",
       "    </tr>\n",
       "    <tr>\n",
       "      <th>499851</th>\n",
       "      <td>6.3.0.0</td>\n",
       "      <td>10.0.14393.693</td>\n",
       "    </tr>\n",
       "  </tbody>\n",
       "</table>\n",
       "<p>10677 rows × 2 columns</p>\n",
       "</div>"
      ]
     },
     "execution_count": 60,
     "metadata": {},
     "output_type": "execute_result"
    }
   ],
   "execution_count": 60
  },
  {
   "metadata": {
    "ExecuteTime": {
     "end_time": "2025-02-03T21:37:56.609644Z",
     "start_time": "2025-02-03T21:37:56.273679Z"
    }
   },
   "cell_type": "code",
   "source": [
    "# se podía esperar una fueran la misma columna, pero este ejemplo nos demuestra que no es así\n",
    "# siendo todos los valores 10.0... podemos prononer a lo sumo quedarnos con \"el tercer valor\" de la versión que podría estar relacionado con parches de seguridad (p.e.) # TODO: Exponer el caso\n",
    "# #TODO: Propongo que los valores \"muy manipulados\" empiecen por CALC_\n",
    "\n",
    "# evitamos el caso del registro 6.3.9600.19069 eliminándolo\n",
    "df = df[df['Census_OSVersion'] != '6.3.9600.19069']\n",
    "df[\"CALC_Census_OSVersion\"] = df[\"Census_OSVersion\"].apply(lambda x: x.split(\".\")[2])"
   ],
   "id": "9f82da7e99d9cd7a",
   "outputs": [],
   "execution_count": 61
  },
  {
   "metadata": {
    "ExecuteTime": {
     "end_time": "2025-02-03T21:37:56.659810Z",
     "start_time": "2025-02-03T21:37:56.656342Z"
    }
   },
   "cell_type": "code",
   "source": [
    "# eliminamos la columna original\n",
    "del_columns.append(\"Census_OSVersion\")"
   ],
   "id": "b5731294edc5bfcc",
   "outputs": [],
   "execution_count": 62
  },
  {
   "metadata": {
    "ExecuteTime": {
     "end_time": "2025-02-03T21:37:56.763841Z",
     "start_time": "2025-02-03T21:37:56.742504Z"
    }
   },
   "cell_type": "code",
   "source": "df[\"CALC_Census_OSVersion\"].value_counts(dropna=False)",
   "id": "debdcb9f203cea80",
   "outputs": [
    {
     "data": {
      "text/plain": [
       "CALC_Census_OSVersion\n",
       "17134    223781\n",
       "16299    134086\n",
       "15063     43483\n",
       "14393     43129\n",
       "10586     32568\n",
       "10240     14679\n",
       "17738       162\n",
       "17692       146\n",
       "17744       133\n",
       "17758        97\n",
       "17746        65\n",
       "17763        59\n",
       "17754        56\n",
       "17751        54\n",
       "17741        44\n",
       "17755        40\n",
       "17735        37\n",
       "17733        34\n",
       "17686        33\n",
       "17760        30\n",
       "17133        21\n",
       "17682        20\n",
       "17677        17\n",
       "17672        14\n",
       "18237        14\n",
       "18242        13\n",
       "18234        13\n",
       "17661         9\n",
       "17713         8\n",
       "17666         7\n",
       "17634         4\n",
       "17747         3\n",
       "17639         3\n",
       "17655         2\n",
       "17650         2\n",
       "14986         2\n",
       "17730         2\n",
       "17753         1\n",
       "17074         1\n",
       "16251         1\n",
       "15042         1\n",
       "14946         1\n",
       "17046         1\n",
       "17604         1\n",
       "14328         1\n",
       "15019         1\n",
       "11082         1\n",
       "14926         1\n",
       "17004         1\n",
       "14295         1\n",
       "17618         1\n",
       "18219         1\n",
       "17623         1\n",
       "17749         1\n",
       "14421         1\n",
       "14971         1\n",
       "17723         1\n",
       "16193         1\n",
       "15048         1\n",
       "Name: count, dtype: int64"
      ]
     },
     "execution_count": 63,
     "metadata": {},
     "output_type": "execute_result"
    }
   ],
   "execution_count": 63
  },
  {
   "metadata": {},
   "cell_type": "markdown",
   "source": [
    "### \"Census_OSArchitecture\"\n",
    "Descripción: Arquitectura del sistema operativo"
   ],
   "id": "ae99aa31b0149faa"
  },
  {
   "metadata": {
    "ExecuteTime": {
     "end_time": "2025-02-03T21:37:56.905454Z",
     "start_time": "2025-02-03T21:37:56.888598Z"
    }
   },
   "cell_type": "code",
   "source": "df[\"Census_OSArchitecture\"].value_counts(dropna=False)  # dos valores únicos (amd64 y x86) y sin nulos",
   "id": "4d44d13dfd92da66",
   "outputs": [
    {
     "data": {
      "text/plain": [
       "Census_OSArchitecture\n",
       "amd64    447851\n",
       "x86       45028\n",
       "arm64        13\n",
       "Name: count, dtype: int64"
      ]
     },
     "execution_count": 64,
     "metadata": {},
     "output_type": "execute_result"
    }
   ],
   "execution_count": 64
  },
  {
   "metadata": {
    "ExecuteTime": {
     "end_time": "2025-02-03T21:38:32.154833Z",
     "start_time": "2025-02-03T21:38:32.151002Z"
    }
   },
   "cell_type": "code",
   "source": [
    "# # comprobamos correlación con la columna processor_x64 y processor_x86\n",
    "# df[df[\"Processor_x64\"] == True][\"Census_OSArchitecture\"].value_counts()  # coincide en un 446_028/(446_028+452) = 99.9%"
   ],
   "id": "fc54863b770c990c",
   "outputs": [],
   "execution_count": 66
  },
  {
   "metadata": {
    "ExecuteTime": {
     "end_time": "2025-02-03T21:38:32.183062Z",
     "start_time": "2025-02-03T21:38:32.180399Z"
    }
   },
   "cell_type": "code",
   "source": "# df[df[\"Processor_x86\"] == True][\"Census_OSArchitecture\"].value_counts()  # coincide en un 44555/(44555+459) = 99.9%",
   "id": "d90dccc76bb9f3e7",
   "outputs": [],
   "execution_count": 67
  },
  {
   "metadata": {
    "ExecuteTime": {
     "end_time": "2025-02-03T21:38:32.220308Z",
     "start_time": "2025-02-03T21:38:32.217301Z"
    }
   },
   "cell_type": "code",
   "source": [
    "# TODO: puesto que esta columna no es nada conlfictiva, tengo que preguntar que tal se comportó la otra columna (processor) preguntar a fran\n",
    "# eliminamos la columna por ser redundante\n",
    "del_columns.append(\"Census_OSArchitecture\")"
   ],
   "id": "22e0cd73c875590",
   "outputs": [],
   "execution_count": 68
  },
  {
   "metadata": {},
   "cell_type": "markdown",
   "source": [
    "### \"Census_OSBranch\"\n",
    "Descripción: Rama del sistema operativo"
   ],
   "id": "57e0f05e6eb409de"
  },
  {
   "metadata": {
    "ExecuteTime": {
     "end_time": "2025-02-03T21:38:32.311067Z",
     "start_time": "2025-02-03T21:38:32.293959Z"
    }
   },
   "cell_type": "code",
   "source": "df[\"Census_OSBranch\"].value_counts(dropna=False)",
   "id": "6451a1243842633f",
   "outputs": [
    {
     "data": {
      "text/plain": [
       "Census_OSBranch\n",
       "rs4_release                  223803\n",
       "rs3_release                   67503\n",
       "rs3_release_svc_escrow        66267\n",
       "rs2_release                   43485\n",
       "rs1_release                   43132\n",
       "th2_release                   17965\n",
       "th2_release_sec               14603\n",
       "th1_st1                       10499\n",
       "th1                            4180\n",
       "rs5_release                     824\n",
       "rs3_release_svc_escrow_im       316\n",
       "rs_prerelease                   180\n",
       "rs_prerelease_flt               132\n",
       "rs5_release_sigma                 3\n",
       "Name: count, dtype: int64"
      ]
     },
     "execution_count": 69,
     "metadata": {},
     "output_type": "execute_result"
    }
   ],
   "execution_count": 69
  },
  {
   "metadata": {
    "ExecuteTime": {
     "end_time": "2025-02-03T21:38:32.434908Z",
     "start_time": "2025-02-03T21:38:32.420918Z"
    }
   },
   "cell_type": "code",
   "source": "print(f\"{df['Census_OSBranch'].isna().sum()=}\")  # 0 nulos",
   "id": "2c5a5eb0695bd6e",
   "outputs": [
    {
     "name": "stdout",
     "output_type": "stream",
     "text": [
      "df['Census_OSBranch'].isna().sum()=np.int64(0)\n"
     ]
    }
   ],
   "execution_count": 70
  },
  {
   "metadata": {
    "ExecuteTime": {
     "end_time": "2025-02-03T21:38:32.617415Z",
     "start_time": "2025-02-03T21:38:32.552409Z"
    }
   },
   "cell_type": "code",
   "source": [
    "# viendo los valores únicos y su estructura, proponemos quedarnos con las 3 primeras letras de cada valor que parecen contener la información más relevante\n",
    "df[\"CALC_Census_OSBranch\"] = df[\"Census_OSBranch\"].apply(lambda x: x[:3])"
   ],
   "id": "1e3bb28b2fe7a051",
   "outputs": [],
   "execution_count": 71
  },
  {
   "metadata": {
    "ExecuteTime": {
     "end_time": "2025-02-03T21:38:32.690096Z",
     "start_time": "2025-02-03T21:38:32.667862Z"
    }
   },
   "cell_type": "code",
   "source": "df[\"CALC_Census_OSBranch\"].value_counts(dropna=False)",
   "id": "edddf86beb508a93",
   "outputs": [
    {
     "data": {
      "text/plain": [
       "CALC_Census_OSBranch\n",
       "rs4    223803\n",
       "rs3    134086\n",
       "rs2     43485\n",
       "rs1     43132\n",
       "th2     32568\n",
       "th1     14679\n",
       "rs5       827\n",
       "rs_       312\n",
       "Name: count, dtype: int64"
      ]
     },
     "execution_count": 72,
     "metadata": {},
     "output_type": "execute_result"
    }
   ],
   "execution_count": 72
  },
  {
   "metadata": {
    "ExecuteTime": {
     "end_time": "2025-02-03T21:38:32.791006Z",
     "start_time": "2025-02-03T21:38:32.762564Z"
    }
   },
   "cell_type": "code",
   "source": [
    "# modificamos el valor menos frecuente (\"rs_\") a \"rs\"\n",
    "df[\"CALC_Census_OSBranch\"] = df[\"CALC_Census_OSBranch\"].replace(\"rs_\", \"rs\")  # TODO: hacer el split por _ DEBERES"
   ],
   "id": "1158880989e0104c",
   "outputs": [],
   "execution_count": 73
  },
  {
   "metadata": {
    "ExecuteTime": {
     "end_time": "2025-02-03T21:38:32.902292Z",
     "start_time": "2025-02-03T21:38:32.899187Z"
    }
   },
   "cell_type": "code",
   "source": [
    "# eliminamos la columna original\n",
    "del_columns.append(\"Census_OSBranch\")"
   ],
   "id": "da36298ad756d0c7",
   "outputs": [],
   "execution_count": 74
  },
  {
   "metadata": {
    "ExecuteTime": {
     "end_time": "2025-02-03T21:38:32.994636Z",
     "start_time": "2025-02-03T21:38:32.981342Z"
    }
   },
   "cell_type": "code",
   "source": "df[\"CALC_Census_OSBranch\"].value_counts(dropna=False)",
   "id": "3b34af743b22078",
   "outputs": [
    {
     "data": {
      "text/plain": [
       "CALC_Census_OSBranch\n",
       "rs4    223803\n",
       "rs3    134086\n",
       "rs2     43485\n",
       "rs1     43132\n",
       "th2     32568\n",
       "th1     14679\n",
       "rs5       827\n",
       "rs        312\n",
       "Name: count, dtype: int64"
      ]
     },
     "execution_count": 75,
     "metadata": {},
     "output_type": "execute_result"
    }
   ],
   "execution_count": 75
  },
  {
   "metadata": {
    "ExecuteTime": {
     "end_time": "2025-02-03T21:38:33.734061Z",
     "start_time": "2025-02-03T21:38:33.192345Z"
    }
   },
   "cell_type": "code",
   "source": [
    "# 8 valores únicos de una variable categórica -> OHE\n",
    "df = pd.get_dummies(df, columns=[\"CALC_Census_OSBranch\"], prefix=\"CALC_Census_OSBranch\")  # TODO\n",
    "del_columns.append(\"CALC_Census_OSBranch\")"
   ],
   "id": "28ba094dc51e5d6b",
   "outputs": [],
   "execution_count": 76
  },
  {
   "metadata": {
    "ExecuteTime": {
     "end_time": "2025-02-03T21:39:39.023967Z",
     "start_time": "2025-02-03T21:39:39.021044Z"
    }
   },
   "cell_type": "code",
   "source": [
    "# # correlación con el target\n",
    "# df_dummies = pd.get_dummies(df['CALC_Census_OSBranch'], prefix='CALC_Census_OSBranch')\n",
    "# correlations = df_dummies.corrwith(df['HasDetections'])\n",
    "# correlations  # muy poca"
   ],
   "id": "ab82d6c6e8a77ca5",
   "outputs": [],
   "execution_count": 78
  },
  {
   "metadata": {},
   "cell_type": "markdown",
   "source": [
    "### \"Census_OSBuildNumber\"\n",
    "Descripción: Número de compilación del sistema operativo"
   ],
   "id": "9bf507dac25c32d0"
  },
  {
   "metadata": {
    "ExecuteTime": {
     "end_time": "2025-02-03T21:39:39.057268Z",
     "start_time": "2025-02-03T21:39:39.049185Z"
    }
   },
   "cell_type": "code",
   "source": [
    "print(f\"{df['Census_OSBuildNumber'].isna().sum()=}\")  # 0 nulos\n",
    "df[\"Census_OSBuildNumber\"].value_counts(dropna=False)"
   ],
   "id": "e729f53c6a34ed85",
   "outputs": [
    {
     "name": "stdout",
     "output_type": "stream",
     "text": [
      "df['Census_OSBuildNumber'].isna().sum()=np.int64(0)\n"
     ]
    },
    {
     "data": {
      "text/plain": [
       "Census_OSBuildNumber\n",
       "17134    223781\n",
       "16299    134086\n",
       "15063     43483\n",
       "14393     43129\n",
       "10586     32568\n",
       "10240     14679\n",
       "17738       162\n",
       "17692       146\n",
       "17744       133\n",
       "17758        97\n",
       "17746        65\n",
       "17763        59\n",
       "17754        56\n",
       "17751        54\n",
       "17741        44\n",
       "17755        40\n",
       "17735        37\n",
       "17733        34\n",
       "17686        33\n",
       "17760        30\n",
       "17133        21\n",
       "17682        20\n",
       "17677        17\n",
       "17672        14\n",
       "18237        14\n",
       "18242        13\n",
       "18234        13\n",
       "17661         9\n",
       "17713         8\n",
       "17666         7\n",
       "17634         4\n",
       "17747         3\n",
       "17639         3\n",
       "17655         2\n",
       "17650         2\n",
       "14986         2\n",
       "17730         2\n",
       "17753         1\n",
       "17074         1\n",
       "16251         1\n",
       "15042         1\n",
       "14946         1\n",
       "17046         1\n",
       "17604         1\n",
       "14328         1\n",
       "15019         1\n",
       "11082         1\n",
       "14926         1\n",
       "17004         1\n",
       "14295         1\n",
       "17618         1\n",
       "18219         1\n",
       "17623         1\n",
       "17749         1\n",
       "14421         1\n",
       "14971         1\n",
       "17723         1\n",
       "16193         1\n",
       "15048         1\n",
       "Name: count, dtype: int64"
      ]
     },
     "execution_count": 79,
     "metadata": {},
     "output_type": "execute_result"
    }
   ],
   "execution_count": 79
  },
  {
   "metadata": {
    "ExecuteTime": {
     "end_time": "2025-02-03T21:39:39.141250Z",
     "start_time": "2025-02-03T21:39:39.128293Z"
    }
   },
   "cell_type": "code",
   "source": "df[['CALC_Census_OSVersion', 'Census_OSBuildNumber']].dtypes",
   "id": "4f208b12678a069c",
   "outputs": [
    {
     "data": {
      "text/plain": [
       "CALC_Census_OSVersion    object\n",
       "Census_OSBuildNumber      int64\n",
       "dtype: object"
      ]
     },
     "execution_count": 80,
     "metadata": {},
     "output_type": "execute_result"
    }
   ],
   "execution_count": 80
  },
  {
   "metadata": {
    "ExecuteTime": {
     "end_time": "2025-02-03T21:39:39.284902Z",
     "start_time": "2025-02-03T21:39:39.272781Z"
    }
   },
   "cell_type": "code",
   "source": "df[['CALC_Census_OSVersion', 'Census_OSBuildNumber']]",
   "id": "8243134847674e2d",
   "outputs": [
    {
     "data": {
      "text/plain": [
       "       CALC_Census_OSVersion  Census_OSBuildNumber\n",
       "0                      17134                 17134\n",
       "1                      17134                 17134\n",
       "2                      10586                 10586\n",
       "3                      17134                 17134\n",
       "4                      17134                 17134\n",
       "...                      ...                   ...\n",
       "499995                 16299                 16299\n",
       "499996                 16299                 16299\n",
       "499997                 17134                 17134\n",
       "499998                 16299                 16299\n",
       "499999                 17134                 17134\n",
       "\n",
       "[492892 rows x 2 columns]"
      ],
      "text/html": [
       "<div>\n",
       "<style scoped>\n",
       "    .dataframe tbody tr th:only-of-type {\n",
       "        vertical-align: middle;\n",
       "    }\n",
       "\n",
       "    .dataframe tbody tr th {\n",
       "        vertical-align: top;\n",
       "    }\n",
       "\n",
       "    .dataframe thead th {\n",
       "        text-align: right;\n",
       "    }\n",
       "</style>\n",
       "<table border=\"1\" class=\"dataframe\">\n",
       "  <thead>\n",
       "    <tr style=\"text-align: right;\">\n",
       "      <th></th>\n",
       "      <th>CALC_Census_OSVersion</th>\n",
       "      <th>Census_OSBuildNumber</th>\n",
       "    </tr>\n",
       "  </thead>\n",
       "  <tbody>\n",
       "    <tr>\n",
       "      <th>0</th>\n",
       "      <td>17134</td>\n",
       "      <td>17134</td>\n",
       "    </tr>\n",
       "    <tr>\n",
       "      <th>1</th>\n",
       "      <td>17134</td>\n",
       "      <td>17134</td>\n",
       "    </tr>\n",
       "    <tr>\n",
       "      <th>2</th>\n",
       "      <td>10586</td>\n",
       "      <td>10586</td>\n",
       "    </tr>\n",
       "    <tr>\n",
       "      <th>3</th>\n",
       "      <td>17134</td>\n",
       "      <td>17134</td>\n",
       "    </tr>\n",
       "    <tr>\n",
       "      <th>4</th>\n",
       "      <td>17134</td>\n",
       "      <td>17134</td>\n",
       "    </tr>\n",
       "    <tr>\n",
       "      <th>...</th>\n",
       "      <td>...</td>\n",
       "      <td>...</td>\n",
       "    </tr>\n",
       "    <tr>\n",
       "      <th>499995</th>\n",
       "      <td>16299</td>\n",
       "      <td>16299</td>\n",
       "    </tr>\n",
       "    <tr>\n",
       "      <th>499996</th>\n",
       "      <td>16299</td>\n",
       "      <td>16299</td>\n",
       "    </tr>\n",
       "    <tr>\n",
       "      <th>499997</th>\n",
       "      <td>17134</td>\n",
       "      <td>17134</td>\n",
       "    </tr>\n",
       "    <tr>\n",
       "      <th>499998</th>\n",
       "      <td>16299</td>\n",
       "      <td>16299</td>\n",
       "    </tr>\n",
       "    <tr>\n",
       "      <th>499999</th>\n",
       "      <td>17134</td>\n",
       "      <td>17134</td>\n",
       "    </tr>\n",
       "  </tbody>\n",
       "</table>\n",
       "<p>492892 rows × 2 columns</p>\n",
       "</div>"
      ]
     },
     "execution_count": 81,
     "metadata": {},
     "output_type": "execute_result"
    }
   ],
   "execution_count": 81
  },
  {
   "metadata": {
    "ExecuteTime": {
     "end_time": "2025-02-03T21:39:39.432686Z",
     "start_time": "2025-02-03T21:39:39.427954Z"
    }
   },
   "cell_type": "code",
   "source": [
    "# viendo que la columna préviamente creada \"CALC_Census_OSVersion\" contiene la misma información que \"Census_OSBuildNumber\", eliminamos la columna\n",
    "del_columns.append(\"CALC_Census_OSVersion\") # TODO: pedir al grupo si mantener el código aún sabiendo que es redundante"
   ],
   "id": "719223f3ecfb8e05",
   "outputs": [],
   "execution_count": 82
  },
  {
   "metadata": {},
   "cell_type": "markdown",
   "source": [
    "### \"Census_OSBuildRevision\"\n",
    "Descripción: Revisión de la compilación del sistema operativo"
   ],
   "id": "ed07c46e00386a79"
  },
  {
   "metadata": {
    "ExecuteTime": {
     "end_time": "2025-02-03T21:39:39.549647Z",
     "start_time": "2025-02-03T21:39:39.538732Z"
    }
   },
   "cell_type": "code",
   "source": [
    "print(f\"{df['Census_OSBuildRevision'].isna().sum()=}\")  # 0 nulos\n",
    "df[\"Census_OSBuildRevision\"].value_counts(dropna=False)"
   ],
   "id": "55fbc4eeb587f289",
   "outputs": [
    {
     "name": "stdout",
     "output_type": "stream",
     "text": [
      "df['Census_OSBuildRevision'].isna().sum()=np.int64(0)\n"
     ]
    },
    {
     "data": {
      "text/plain": [
       "Census_OSBuildRevision\n",
       "228     79258\n",
       "165     50104\n",
       "431     30342\n",
       "285     26044\n",
       "112     19341\n",
       "        ...  \n",
       "1177        1\n",
       "1737        1\n",
       "281         1\n",
       "448         1\n",
       "1670        1\n",
       "Name: count, Length: 240, dtype: int64"
      ]
     },
     "execution_count": 83,
     "metadata": {},
     "output_type": "execute_result"
    }
   ],
   "execution_count": 83
  },
  {
   "metadata": {
    "ExecuteTime": {
     "end_time": "2025-02-03T21:39:39.710723Z",
     "start_time": "2025-02-03T21:39:39.700791Z"
    }
   },
   "cell_type": "code",
   "source": "df.head(2)",
   "id": "78e34cb017975407",
   "outputs": [
    {
     "data": {
      "text/plain": [
       "   Unnamed: 0                 MachineIdentifier   ProductName EngineVersion  \\\n",
       "0     8427007  f1cd864e97bae82bdf96523e1a539121  win8defender   1.1.15100.1   \n",
       "1     8829090  fd5ba6f5b75325ec0423a6c67cc75942  win8defender   1.1.15100.1   \n",
       "\n",
       "        AppVersion  AvSigVersion  IsBeta  RtpStateBitfield  IsSxsPassiveMode  \\\n",
       "0  4.18.1807.18075  1.273.1234.0       0            7.0000                 0   \n",
       "1  4.18.1807.18075  1.273.1282.0       0            7.0000                 0   \n",
       "\n",
       "   DefaultBrowsersIdentifier  ...  Census_PowerPlatformRoleName_Workstation  \\\n",
       "0                        NaN  ...                                     False   \n",
       "1                        NaN  ...                                     False   \n",
       "\n",
       "   CALC_Census_OSVersion  CALC_Census_OSBranch_rs  CALC_Census_OSBranch_rs1  \\\n",
       "0                  17134                    False                     False   \n",
       "1                  17134                    False                     False   \n",
       "\n",
       "   CALC_Census_OSBranch_rs2  CALC_Census_OSBranch_rs3  \\\n",
       "0                     False                     False   \n",
       "1                     False                     False   \n",
       "\n",
       "   CALC_Census_OSBranch_rs4  CALC_Census_OSBranch_rs5  \\\n",
       "0                      True                     False   \n",
       "1                      True                     False   \n",
       "\n",
       "   CALC_Census_OSBranch_th1 CALC_Census_OSBranch_th2  \n",
       "0                     False                    False  \n",
       "1                     False                    False  \n",
       "\n",
       "[2 rows x 101 columns]"
      ],
      "text/html": [
       "<div>\n",
       "<style scoped>\n",
       "    .dataframe tbody tr th:only-of-type {\n",
       "        vertical-align: middle;\n",
       "    }\n",
       "\n",
       "    .dataframe tbody tr th {\n",
       "        vertical-align: top;\n",
       "    }\n",
       "\n",
       "    .dataframe thead th {\n",
       "        text-align: right;\n",
       "    }\n",
       "</style>\n",
       "<table border=\"1\" class=\"dataframe\">\n",
       "  <thead>\n",
       "    <tr style=\"text-align: right;\">\n",
       "      <th></th>\n",
       "      <th>Unnamed: 0</th>\n",
       "      <th>MachineIdentifier</th>\n",
       "      <th>ProductName</th>\n",
       "      <th>EngineVersion</th>\n",
       "      <th>AppVersion</th>\n",
       "      <th>AvSigVersion</th>\n",
       "      <th>IsBeta</th>\n",
       "      <th>RtpStateBitfield</th>\n",
       "      <th>IsSxsPassiveMode</th>\n",
       "      <th>DefaultBrowsersIdentifier</th>\n",
       "      <th>...</th>\n",
       "      <th>Census_PowerPlatformRoleName_Workstation</th>\n",
       "      <th>CALC_Census_OSVersion</th>\n",
       "      <th>CALC_Census_OSBranch_rs</th>\n",
       "      <th>CALC_Census_OSBranch_rs1</th>\n",
       "      <th>CALC_Census_OSBranch_rs2</th>\n",
       "      <th>CALC_Census_OSBranch_rs3</th>\n",
       "      <th>CALC_Census_OSBranch_rs4</th>\n",
       "      <th>CALC_Census_OSBranch_rs5</th>\n",
       "      <th>CALC_Census_OSBranch_th1</th>\n",
       "      <th>CALC_Census_OSBranch_th2</th>\n",
       "    </tr>\n",
       "  </thead>\n",
       "  <tbody>\n",
       "    <tr>\n",
       "      <th>0</th>\n",
       "      <td>8427007</td>\n",
       "      <td>f1cd864e97bae82bdf96523e1a539121</td>\n",
       "      <td>win8defender</td>\n",
       "      <td>1.1.15100.1</td>\n",
       "      <td>4.18.1807.18075</td>\n",
       "      <td>1.273.1234.0</td>\n",
       "      <td>0</td>\n",
       "      <td>7.0000</td>\n",
       "      <td>0</td>\n",
       "      <td>NaN</td>\n",
       "      <td>...</td>\n",
       "      <td>False</td>\n",
       "      <td>17134</td>\n",
       "      <td>False</td>\n",
       "      <td>False</td>\n",
       "      <td>False</td>\n",
       "      <td>False</td>\n",
       "      <td>True</td>\n",
       "      <td>False</td>\n",
       "      <td>False</td>\n",
       "      <td>False</td>\n",
       "    </tr>\n",
       "    <tr>\n",
       "      <th>1</th>\n",
       "      <td>8829090</td>\n",
       "      <td>fd5ba6f5b75325ec0423a6c67cc75942</td>\n",
       "      <td>win8defender</td>\n",
       "      <td>1.1.15100.1</td>\n",
       "      <td>4.18.1807.18075</td>\n",
       "      <td>1.273.1282.0</td>\n",
       "      <td>0</td>\n",
       "      <td>7.0000</td>\n",
       "      <td>0</td>\n",
       "      <td>NaN</td>\n",
       "      <td>...</td>\n",
       "      <td>False</td>\n",
       "      <td>17134</td>\n",
       "      <td>False</td>\n",
       "      <td>False</td>\n",
       "      <td>False</td>\n",
       "      <td>False</td>\n",
       "      <td>True</td>\n",
       "      <td>False</td>\n",
       "      <td>False</td>\n",
       "      <td>False</td>\n",
       "    </tr>\n",
       "  </tbody>\n",
       "</table>\n",
       "<p>2 rows × 101 columns</p>\n",
       "</div>"
      ]
     },
     "execution_count": 84,
     "metadata": {},
     "output_type": "execute_result"
    }
   ],
   "execution_count": 84
  },
  {
   "metadata": {
    "ExecuteTime": {
     "end_time": "2025-02-03T21:39:39.853742Z",
     "start_time": "2025-02-03T21:39:39.851197Z"
    }
   },
   "cell_type": "code",
   "source": [
    "# se observa que Census_OSVersion se construye a partir de Census_OSBuildNumber y Census_OSBuildRevision, eliminamos la columna\n",
    "# proponemos eliminar la columna Census_OSVersion (ya insertada en del_columns) porque es un str y las otras dos columnas son numéricas"
   ],
   "id": "c334ca6e724d6fc0",
   "outputs": [],
   "execution_count": 85
  },
  {
   "metadata": {},
   "cell_type": "markdown",
   "source": [
    "### \"Census_OSEdition\"\n",
    "Descripción: Edición del sistema operativo"
   ],
   "id": "19f064f01eb0348"
  },
  {
   "metadata": {
    "ExecuteTime": {
     "end_time": "2025-02-03T21:39:40.070783Z",
     "start_time": "2025-02-03T21:39:40.041097Z"
    }
   },
   "cell_type": "code",
   "source": [
    "print(f\"{df['Census_OSEdition'].isna().sum()=}\")  # 0 nulos\n",
    "df[\"Census_OSEdition\"].value_counts(dropna=False)"
   ],
   "id": "7d7009a94929b0ca",
   "outputs": [
    {
     "name": "stdout",
     "output_type": "stream",
     "text": [
      "df['Census_OSEdition'].isna().sum()=np.int64(0)\n"
     ]
    },
    {
     "data": {
      "text/plain": [
       "Census_OSEdition\n",
       "Core                        192770\n",
       "Professional                171816\n",
       "CoreSingleLanguage          107841\n",
       "CoreCountrySpecific           9153\n",
       "ProfessionalEducation         3078\n",
       "Education                     2265\n",
       "Enterprise                    1990\n",
       "ProfessionalN                 1554\n",
       "EnterpriseS                   1073\n",
       "ServerStandard                 462\n",
       "Cloud                          330\n",
       "CoreN                          242\n",
       "ServerStandardEval             102\n",
       "EducationN                      60\n",
       "EnterpriseSN                    45\n",
       "ServerDatacenterEval            37\n",
       "ServerSolution                  31\n",
       "EnterpriseN                     27\n",
       "ProfessionalEducationN          12\n",
       "ProfessionalWorkstation          2\n",
       "CloudN                           1\n",
       "ProfessionalWorkstationN         1\n",
       "Name: count, dtype: int64"
      ]
     },
     "execution_count": 86,
     "metadata": {},
     "output_type": "execute_result"
    }
   ],
   "execution_count": 86
  },
  {
   "metadata": {
    "ExecuteTime": {
     "end_time": "2025-02-03T21:39:40.341581Z",
     "start_time": "2025-02-03T21:39:40.145630Z"
    }
   },
   "cell_type": "code",
   "source": [
    "# hay 3 valores muy predominantes con 192000, 171000 y 107000 registros respectivamente (38.9%, 34.7% y 21.7%). Se propone agrupar los 16 valores restantes en un solo valor \"Otro\" y posteriormente hacer un OHE\n",
    "# agrupamos los valores menos frecuentes\n",
    "df[\"Census_OSEdition\"] = df[\"Census_OSEdition\"].replace(df[\"Census_OSEdition\"].value_counts().index[3:], \"Otro\")"
   ],
   "id": "5c046f0d872ac595",
   "outputs": [],
   "execution_count": 87
  },
  {
   "metadata": {
    "ExecuteTime": {
     "end_time": "2025-02-03T21:39:40.569721Z",
     "start_time": "2025-02-03T21:39:40.554091Z"
    }
   },
   "cell_type": "code",
   "source": "df[\"Census_OSEdition\"].value_counts(dropna=False)",
   "id": "b195be6df61a4010",
   "outputs": [
    {
     "data": {
      "text/plain": [
       "Census_OSEdition\n",
       "Core                  192770\n",
       "Professional          171816\n",
       "CoreSingleLanguage    107841\n",
       "Otro                   20465\n",
       "Name: count, dtype: int64"
      ]
     },
     "execution_count": 88,
     "metadata": {},
     "output_type": "execute_result"
    }
   ],
   "execution_count": 88
  },
  {
   "metadata": {
    "ExecuteTime": {
     "end_time": "2025-02-03T21:39:41.150395Z",
     "start_time": "2025-02-03T21:39:40.728284Z"
    }
   },
   "cell_type": "code",
   "source": [
    "# la columna otros contiene 19827 registros (4%)\n",
    "# OHE\n",
    "df = pd.get_dummies(df, columns=[\"Census_OSEdition\"], prefix=\"Census_OSEdition\")  # TODO\n",
    "del_columns.append(\"Census_OSEdition\")"
   ],
   "id": "aab5f13e3ce13bb7",
   "outputs": [],
   "execution_count": 89
  },
  {
   "metadata": {},
   "cell_type": "markdown",
   "source": [
    "### \"Census_OSSkuName\"\n",
    "Descripción: Nombre de la versión del sistema operativo"
   ],
   "id": "9378f4f71ba31173"
  },
  {
   "metadata": {
    "ExecuteTime": {
     "end_time": "2025-02-03T21:39:41.205746Z",
     "start_time": "2025-02-03T21:39:41.177072Z"
    }
   },
   "cell_type": "code",
   "source": [
    "print(f\"{df['Census_OSSkuName'].isna().sum()=}\")  # 0 nulos\n",
    "df[\"Census_OSSkuName\"].value_counts(dropna=False)"
   ],
   "id": "2122634c27bc6d4b",
   "outputs": [
    {
     "name": "stdout",
     "output_type": "stream",
     "text": [
      "df['Census_OSSkuName'].isna().sum()=np.int64(0)\n"
     ]
    },
    {
     "data": {
      "text/plain": [
       "Census_OSSkuName\n",
       "CORE                            192765\n",
       "PROFESSIONAL                    174930\n",
       "CORE_SINGLELANGUAGE             107820\n",
       "CORE_COUNTRYSPECIFIC              9136\n",
       "EDUCATION                         2268\n",
       "ENTERPRISE                        1999\n",
       "PROFESSIONAL_N                    1564\n",
       "ENTERPRISE_S                      1072\n",
       "STANDARD_SERVER                    462\n",
       "CLOUD                              326\n",
       "CORE_N                             242\n",
       "STANDARD_EVALUATION_SERVER         102\n",
       "EDUCATION_N                         60\n",
       "ENTERPRISE_S_N                      46\n",
       "DATACENTER_EVALUATION_SERVER        37\n",
       "SB_SOLUTION_SERVER                  31\n",
       "ENTERPRISE_N                        27\n",
       "PRO_WORKSTATION                      2\n",
       "CLOUDN                               1\n",
       "PRO_WORKSTATION_N                    1\n",
       "UNLICENSED                           1\n",
       "Name: count, dtype: int64"
      ]
     },
     "execution_count": 90,
     "metadata": {},
     "output_type": "execute_result"
    }
   ],
   "execution_count": 90
  },
  {
   "metadata": {
    "ExecuteTime": {
     "end_time": "2025-02-03T21:39:41.272428Z",
     "start_time": "2025-02-03T21:39:41.269836Z"
    }
   },
   "cell_type": "code",
   "source": [
    "# es un atributo prácticamente idéntico a Census_OSEdition, eliminamos la columna\n",
    "del_columns.append(\"Census_OSSkuName\")"
   ],
   "id": "a26a13e08ce8b946",
   "outputs": [],
   "execution_count": 91
  },
  {
   "metadata": {},
   "cell_type": "markdown",
   "source": [
    "### \"Census_OSInstallTypeName\"\n",
    "Descripción: Método de instalación del sistema operativo"
   ],
   "id": "bd1a97337b589805"
  },
  {
   "metadata": {
    "ExecuteTime": {
     "end_time": "2025-02-03T21:39:41.367520Z",
     "start_time": "2025-02-03T21:39:41.336711Z"
    }
   },
   "cell_type": "code",
   "source": [
    "print(f\"{df['Census_OSInstallTypeName'].isna().sum()=}\")  # 0 nulos\n",
    "df[\"Census_OSInstallTypeName\"].value_counts(dropna=False)"
   ],
   "id": "7c0a09e38b166759",
   "outputs": [
    {
     "name": "stdout",
     "output_type": "stream",
     "text": [
      "df['Census_OSInstallTypeName'].isna().sum()=np.int64(0)\n"
     ]
    },
    {
     "data": {
      "text/plain": [
       "Census_OSInstallTypeName\n",
       "UUPUpgrade        146029\n",
       "IBSClean           89160\n",
       "Update             88244\n",
       "Upgrade            69454\n",
       "Other              46123\n",
       "Reset              36016\n",
       "Refresh            11126\n",
       "Clean               3845\n",
       "CleanPCRefresh      2895\n",
       "Name: count, dtype: int64"
      ]
     },
     "execution_count": 92,
     "metadata": {},
     "output_type": "execute_result"
    }
   ],
   "execution_count": 92
  },
  {
   "metadata": {
    "ExecuteTime": {
     "end_time": "2025-02-03T21:39:41.615732Z",
     "start_time": "2025-02-03T21:39:41.522440Z"
    }
   },
   "cell_type": "code",
   "source": [
    "# puede parecer difícilmente relacionable con el target, comprobamos correlaciones\n",
    "df_dummies = pd.get_dummies(df['Census_OSInstallTypeName'], prefix='Census_OSInstallTypeName')\n",
    "correlations = df_dummies.corrwith(df['HasDetections'])\n",
    "correlations"
   ],
   "id": "9c0b35bb0f2aec9a",
   "outputs": [
    {
     "data": {
      "text/plain": [
       "Census_OSInstallTypeName_Clean             0.0037\n",
       "Census_OSInstallTypeName_CleanPCRefresh   -0.0056\n",
       "Census_OSInstallTypeName_IBSClean          0.0227\n",
       "Census_OSInstallTypeName_Other            -0.0151\n",
       "Census_OSInstallTypeName_Refresh          -0.0112\n",
       "Census_OSInstallTypeName_Reset            -0.0103\n",
       "Census_OSInstallTypeName_UUPUpgrade        0.0329\n",
       "Census_OSInstallTypeName_Update           -0.0206\n",
       "Census_OSInstallTypeName_Upgrade          -0.0202\n",
       "dtype: float64"
      ]
     },
     "execution_count": 93,
     "metadata": {},
     "output_type": "execute_result"
    }
   ],
   "execution_count": 93
  },
  {
   "metadata": {
    "ExecuteTime": {
     "end_time": "2025-02-03T21:39:41.677848Z",
     "start_time": "2025-02-03T21:39:41.674462Z"
    }
   },
   "cell_type": "code",
   "source": [
    "# correlaciones no superiores al 0.04 -> eliminamos la columna\n",
    "del_columns.append(\"Census_OSInstallTypeName\")"
   ],
   "id": "729fc1344951e891",
   "outputs": [],
   "execution_count": 94
  },
  {
   "metadata": {
    "ExecuteTime": {
     "end_time": "2025-02-03T21:39:50.721263Z",
     "start_time": "2025-02-03T21:39:50.716734Z"
    }
   },
   "cell_type": "code",
   "source": "df.shape",
   "id": "ccb6f7b635002489",
   "outputs": [
    {
     "data": {
      "text/plain": [
       "(492892, 104)"
      ]
     },
     "execution_count": 95,
     "metadata": {},
     "output_type": "execute_result"
    }
   ],
   "execution_count": 95
  }
 ],
 "metadata": {
  "kernelspec": {
   "display_name": "Python 3",
   "language": "python",
   "name": "python3"
  },
  "language_info": {
   "codemirror_mode": {
    "name": "ipython",
    "version": 2
   },
   "file_extension": ".py",
   "mimetype": "text/x-python",
   "name": "python",
   "nbconvert_exporter": "python",
   "pygments_lexer": "ipython2",
   "version": "2.7.6"
  }
 },
 "nbformat": 4,
 "nbformat_minor": 5
}
